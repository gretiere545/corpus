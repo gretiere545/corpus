{
  "nbformat": 4,
  "nbformat_minor": 0,
  "metadata": {
    "colab": {
      "name": "CorpusPipe-V1.2.ipynb",
      "provenance": [],
      "collapsed_sections": [],
      "authorship_tag": "ABX9TyNuwB71XQqkQOAeV0WTQGYR",
      "include_colab_link": true
    },
    "kernelspec": {
      "name": "python3",
      "display_name": "Python 3"
    },
    "language_info": {
      "name": "python"
    }
  },
  "cells": [
    {
      "cell_type": "markdown",
      "metadata": {
        "id": "view-in-github",
        "colab_type": "text"
      },
      "source": [
        "<a href=\"https://colab.research.google.com/github/gretiere545/corpus/blob/main/CorpusPipe_V1_2.ipynb\" target=\"_parent\"><img src=\"https://colab.research.google.com/assets/colab-badge.svg\" alt=\"Open In Colab\"/></a>"
      ]
    },
    {
      "cell_type": "markdown",
      "metadata": {
        "id": "ExK9IxKKMSB1"
      },
      "source": [
        "# Pipe Corpus v1.2\n",
        "### version de transition (moindre effort)"
      ]
    },
    {
      "cell_type": "markdown",
      "metadata": {
        "id": "NP2GA7eoMYgi"
      },
      "source": [
        "\n",
        "*   Auteur : Gilles Retière\n",
        "*   Date de création : 2022 01 10\n",
        "*   Version : 1.2\n",
        "*   Révision : 1\n",
        "```\n",
        "\n",
        "\n",
        "```"
      ]
    },
    {
      "cell_type": "markdown",
      "metadata": {
        "id": "MbUI5iISM-ph"
      },
      "source": [
        "## Imports"
      ]
    },
    {
      "cell_type": "code",
      "metadata": {
        "colab": {
          "base_uri": "https://localhost:8080/"
        },
        "id": "b5c3WjCJM80p",
        "outputId": "4521d12e-c5dc-495e-bb45-6d47477514b4"
      },
      "source": [
        "#!/usr/bin/env python\n",
        "# -*- coding: utf8 -*-\n",
        "!export PYTHONIOENCODING=utf8\n",
        "!pip install gspread-formatting\n",
        "\n",
        "import pandas as pd\n",
        "import numpy as np\n",
        "import uuid\n",
        "import random\n",
        "import os\n",
        "import re\n",
        "import json\n",
        "\n",
        "# general\n",
        "pd.set_option(\"display.width\",1000)\n",
        "\n",
        "# gdrive\n",
        "from google.colab import drive\n",
        "from google.colab import files\n",
        "drive.mount('/content/drive')\n",
        "%cd /content/drive/MyDrive/Trad-Union/Corpus/ASAMLA\n",
        "\n",
        "# Ce bout de code pour pouvoir downloader des google sheets dans des dataframes\n",
        "from google.colab import auth\n",
        "auth.authenticate_user()\n",
        "\n",
        "# gspread\n",
        "import gspread\n",
        "from gspread_formatting import *\n",
        "from gspread_dataframe import get_as_dataframe, set_with_dataframe\n",
        "from oauth2client.client import GoogleCredentials\n",
        "gc = gspread.authorize(GoogleCredentials.get_application_default())\n",
        "from googleapiclient.discovery import build\n",
        "service = build('sheets', 'v4')\n",
        "drive_service = build('drive', 'v3')\n",
        "\n",
        "import config\n",
        "\n"
      ],
      "execution_count": 1,
      "outputs": [
        {
          "output_type": "stream",
          "name": "stdout",
          "text": [
            "Collecting gspread-formatting\n",
            "  Downloading gspread_formatting-1.0.5-py2.py3-none-any.whl (21 kB)\n",
            "Requirement already satisfied: gspread>=3.0.0 in /usr/local/lib/python3.7/dist-packages (from gspread-formatting) (3.0.1)\n",
            "Requirement already satisfied: requests>=2.2.1 in /usr/local/lib/python3.7/dist-packages (from gspread>=3.0.0->gspread-formatting) (2.23.0)\n",
            "Requirement already satisfied: idna<3,>=2.5 in /usr/local/lib/python3.7/dist-packages (from requests>=2.2.1->gspread>=3.0.0->gspread-formatting) (2.10)\n",
            "Requirement already satisfied: chardet<4,>=3.0.2 in /usr/local/lib/python3.7/dist-packages (from requests>=2.2.1->gspread>=3.0.0->gspread-formatting) (3.0.4)\n",
            "Requirement already satisfied: certifi>=2017.4.17 in /usr/local/lib/python3.7/dist-packages (from requests>=2.2.1->gspread>=3.0.0->gspread-formatting) (2021.10.8)\n",
            "Requirement already satisfied: urllib3!=1.25.0,!=1.25.1,<1.26,>=1.21.1 in /usr/local/lib/python3.7/dist-packages (from requests>=2.2.1->gspread>=3.0.0->gspread-formatting) (1.24.3)\n",
            "Installing collected packages: gspread-formatting\n",
            "Successfully installed gspread-formatting-1.0.5\n",
            "Mounted at /content/drive\n",
            "/content/drive/MyDrive/Trad-Union/Corpus/ASAMLA\n"
          ]
        }
      ]
    },
    {
      "cell_type": "markdown",
      "metadata": {
        "id": "QCCdyVqbV0lr"
      },
      "source": [
        "## Ouverture du fichier de paramétrage des langues (JSON)\n",
        "*   Contient tous les paramètres spécifiques (typo, crédits, etc.)"
      ]
    },
    {
      "cell_type": "code",
      "metadata": {
        "id": "7vztEvquVyHo"
      },
      "source": [
        "def get_cc_config(f):\n",
        "  vk = []\n",
        "  try:\n",
        "    with open(f) as vk_f:\n",
        "        vk = json.load(vk_f)\n",
        "  except BaseException as e:\n",
        "    print(e)\n",
        "  return vk\n",
        "\n",
        "def set_cc_config (vk, f):\n",
        "  # sauvegarde du fichier de paramétrage\n",
        "  with open(f, 'w') as fp:\n",
        "      json.dump(vk, fp)  "
      ],
      "execution_count": 2,
      "outputs": []
    },
    {
      "cell_type": "markdown",
      "metadata": {
        "id": "DfiMCIwpQhoY"
      },
      "source": [
        "## Ouverture de **Corpus Central DataBase** (GC Drive compte Atos)\n",
        "*   Cette feuille est la référence et est alimentée par les Corpus individuels\n",
        "*   On récupère sous forme de dataframe la partie pivot (français uniquement)"
      ]
    },
    {
      "cell_type": "code",
      "metadata": {
        "id": "pia9lb41QTcR"
      },
      "source": [
        "#\n",
        "# Ouverture de la Sheet Centrale (corpus_central_base)\n",
        "#\n",
        "def get_CCDB_wb(uri):\n",
        "  sheet_central = uri\n",
        "  wb_central = gc.open_by_url(sheet_central)\n",
        "  return wb_central\n",
        "\n",
        "def get_CCDB_data(wb, idx):\n",
        "  t_corpus = wb.get_worksheet(idx)\n",
        "  data_t_corpus = t_corpus.get_all_values()\n",
        "  return data_t_corpus\n",
        "\n",
        "#\n",
        "# DataFrame CC global (toutes les langues)\n",
        "#\n",
        "def get_ccdf_global(CCDB):\n",
        "  return pd.DataFrame(CCDB[1:], columns=CCDB[0])\n",
        "\n",
        "#\n",
        "# DataFrame CC Français (invariable)\n",
        "#\n",
        "def get_ccdf_fr(df_cc):\n",
        "  # on supprime les doublons\n",
        "  return df_cc[['uid','expression','glossaire','état','date','commentaires','index']].drop_duplicates()\n"
      ],
      "execution_count": 3,
      "outputs": []
    },
    {
      "cell_type": "markdown",
      "metadata": {
        "id": "eBmjqbVyUvo0"
      },
      "source": [
        "## Ouverture de **Corpus Local DataBase** (GC Drive compte GRE)\n",
        "*   Cette feuille est la référence comme Corpus de travail des interprètes\n",
        "*   Une feuille par thème\n",
        "*   On récupère sous forme de dataframe"
      ]
    },
    {
      "cell_type": "code",
      "metadata": {
        "id": "O9SQN8vDVB7K"
      },
      "source": [
        "#\n",
        "# Ouverture de la Sheet Locale (corpus_local_base)\n",
        "#\n",
        "def get_CLDB(uri):\n",
        "  wb_local = gc.open_by_url(uri)\n",
        "  return wb_local  \n",
        "\n",
        "#\n",
        "# Chaque onglet est chargé dans un dataframe\n",
        "#\n",
        "def get_corpus_trad (wb, df_corpus, d_lang):\n",
        "  t_corpus_trad = wb.get_worksheet(d_lang['idx'])\n",
        "  data_t_corpus = t_corpus_trad.get_all_values()\n",
        "  df_corpus_trad = pd.DataFrame(data_t_corpus[1:], columns=data_t_corpus[0])\n",
        "  # on vérifie que chaque expression possède la même clé\n",
        "  df_corpus = pd.merge(df_corpus,df_corpus_trad[['uid','traduction']],on='uid', how='left')\n",
        "  df_corpus['traduction'] = df_corpus['traduction'].apply(lambda x:x.strip() if x is not np.nan else \"\")\n",
        "  \n",
        "  df_corpus.rename({'traduction': d_lang['trigramme']}, axis=1, inplace=True)\n",
        "  return df_corpus\n",
        "\n",
        "#\n",
        "# Itération pour récupérer dans une liste tous les onglets de traduction (base locale ou vue interprètes)\n",
        "#\n",
        "def get_corpus_list (vk_languages, db_cl, df_cc_fr):\n",
        "  vk_df_corpus = []\n",
        "  for i in vk_languages:\n",
        "    #i['uri'] = local_db_uri\n",
        "    if i['update']=='false':\n",
        "      print (\"Processing \" + i['trigramme'])\n",
        "      df_corpus = get_corpus_trad(db_cl, df_cc_fr,i)\n",
        "      vk_df_corpus.append(df_corpus)\n",
        "  return vk_df_corpus\n",
        "\n",
        "\n",
        "def get_corpus(df_corpus, langue):\n",
        "  #ouverture de l'onglet Corpus dans un DF\n",
        "  df = df_corpus[['uid','expression', langue,'index']]\n",
        "  return df  \n",
        "\n",
        "# cas des index normaux (français -> langue)\n",
        "def get_corpus_rev(uri):\n",
        "  wb = gc.open_by_key(uri)\n",
        "  #ouverture de l'onglet Corpus dans un DF\n",
        "  t_corpus = wb.worksheet('med_vac_synthese')\n",
        "  data_t_corpus = t_corpus.get_all_values()\n",
        "  df_corpus = pd.DataFrame(data_t_corpus[1:], columns=data_t_corpus[0])\n",
        "  return df_corpus\n",
        "\n",
        "def get_all_corpus_rev (vk_languages):\n",
        "  # tableau de corpus indéxé par langue de traduction\n",
        "  df_corpus_rev = []\n",
        "  # itération sur chaque trigramme de langue\n",
        "  for i in vk_languages:\n",
        "    if i['update']=='false':\n",
        "      df = get_corpus_rev(i['uri'])\n",
        "      df_corpus_rev.append(df)\n",
        "      if trace is True:\n",
        "        print (\"* get_all_corpus_rev \" + i['language'])  \n",
        "\n",
        "  return df_corpus_rev"
      ],
      "execution_count": 4,
      "outputs": []
    },
    {
      "cell_type": "markdown",
      "metadata": {
        "id": "iw8UF9eeefKQ"
      },
      "source": [
        "# Fonctions\n",
        "### Application des bonnes règles typographiques pour la ponctuation française : espace fine insécable\n",
        "```\n",
        "# https://www.typofute.com/l_espace_fine_insecable_dans_les_documents_html  \n",
        "# https://www.compart.com/en/unicode/U+202F\n",
        "```\n",
        "\n"
      ]
    },
    {
      "cell_type": "code",
      "metadata": {
        "id": "yj9YX89LeeAQ"
      },
      "source": [
        "#\n",
        "# Substitution d'un caractère unicode par un autre (cas des alphabets cyrilliques))\n",
        "#\n",
        "def replace_unicode(word, vk_uni):\n",
        "  for t_uni in vk_uni:\n",
        "    word = word.replace (t_uni[1], t_uni[2])\n",
        "  return word\n",
        "\n",
        "#\n",
        "# Substitution du ? final par un espace insécable + le ? (pour les césures PDF)\n",
        "#\n",
        "def narrow_no_break_space (s):\n",
        "  s = \" \".join(s.split())   # on vire tous les espaces en trop\n",
        "  find = r'(\\s*\\?$)'        # on recherche le ? précédé ou pas d'espace \\s*\n",
        "  replace = u'\\u202F'+ r'?'\n",
        "  s = re.sub(find, replace, s)    # on remplace par un blanc insécable + le ?\n",
        "  return s  \n",
        "\n",
        "# Application des bonnes règles typographiques pour la ponctuation française : espace fine insécable\n",
        "def set_typo_rules (df_cc_fr):\n",
        "  print (\"Application des bonnes règles typographiques\")\n",
        "  df_cc_fr['expression'] = df_cc_fr['expression'].apply(lambda x:narrow_no_break_space(x))  \n",
        "  # itération langues\n",
        "  for i in vk_languages:\n",
        "    if i['update']=='false':\n",
        "      df_cc_fr = pd.merge(df_cc_fr,vk_df_corpus[i['idx']-1][['uid',i['trigramme']]],on='uid', how='left')\n",
        "      # Application des bonnes règles typographiques pour la ponctuation française : espace fine insécable\n",
        "      df_cc_fr[i['trigramme']] = df_cc_fr[i['trigramme']].apply(lambda x:narrow_no_break_space(x))    \n",
        "      if i['unicode_substition']!=[]:\n",
        "        # substition de caractères unicodes (optionnel)\n",
        "        print (i['trigramme'])\n",
        "        df_cc_fr[i['trigramme']] = df_cc_fr[i['trigramme']].apply(lambda x:replace_unicode (x, i['unicode_substition'])) \n",
        "  return df_cc_fr  "
      ],
      "execution_count": 5,
      "outputs": []
    },
    {
      "cell_type": "code",
      "metadata": {
        "id": "bJJLp3i3oSkT"
      },
      "source": [
        "def half_split(s):\n",
        "    half, rem = divmod(len(s), 2)\n",
        "    return s[:half + rem], s[half + rem:]\n",
        "\n",
        "def convertTuple(tup):\n",
        "    # initialize an empty string\n",
        "    s = ''\n",
        "    for item in tup:\n",
        "        s = s + item\n",
        "    return s    \n",
        "\n",
        "def convertTupleStr(tup):\n",
        "    # initialize an empty string\n",
        "    vk = []\n",
        "    for item in tup:\n",
        "        vk.append(''+item)\n",
        "    return vk    \n",
        "\n",
        "def rtl_arabic (s, pdf):\n",
        "    arabic_string = arabic_reshaper.reshape(s)\n",
        "    arabic_string = arabic_string[::-1]\n",
        "    w = pdf.get_string_width(arabic_string) + 6\n",
        "    # problème d'inversion des parenthèses\n",
        "    arabic_string = arabic_string.replace('(', '§')\n",
        "    arabic_string = arabic_string.replace(')', '(')    \n",
        "    arabic_string = arabic_string.replace('§', ')')\n",
        "    return arabic_string \n",
        "\n",
        "#\n",
        "# Liste de styles graphiques\n",
        "#\n",
        "def get_color_theme():\n",
        "  vk_color_theme=[\n",
        "  {'name':'Abstract vector geometric pattern. Symmetrical layout. Illustration eps 10.','color_1':'128, 191, 162','color_2':'137, 166, 93','color_3':'217, 184, 85','color_4':'217, 170, 85','color_5':'242, 242, 242'},\n",
        "  {'name':'color theme_IMG_2040','color_1':'220, 118, 70','color_2':'243, 161, 75','color_3':'147, 173, 164','color_4':'191, 219, 207','color_5':'234, 223, 201'},               \n",
        "  {'name':'Water textured background. Calm sea ripples','color_1':'3, 140, 140','color_2':'3, 166, 166','color_3':'3, 127, 140','color_4':'217, 170, 85','color_5':'242, 242, 242'},\n",
        "  {'name':'Pink and blue abstract paper background from a curved sheet.','color_1':'217, 119, 173','color_2':'102, 127, 109','color_3':'208, 217, 242','color_4':'121, 150, 132','color_5':'217, 187, 169'},\n",
        "  {'name':'Sort of blue','color_1':'255, 255, 255','color_2':'81, 129, 140','color_3':'47, 89, 115','color_4':'133, 166, 162','color_5':'60, 60, 255'},\n",
        "  {'name':'asamla','color_1':'255, 255, 255','color_2':'166, 3, 33','color_3':'174, 186, 191','color_4':'242, 188, 27','color_5':'242, 140, 15','color_6':'242, 48, 5'},\n",
        "  {'name':'Healthcare background with medical symbols in hexagonal frame','color_1':'255, 255, 255','color_2':'4, 173, 191','color_3':'167, 235, 242','color_4':'4, 191, 191','color_5':' 3, 166, 150','color_6':'4, 191, 157'},\n",
        "  {'name':'healthcare background with medical symbols in hexagonal frame','color_1':'242, 242, 242','color_2':'122, 191, 179','color_3':' 149, 191, 184','color_4':'39, 140, 11','color_5':'88, 166, 144','color_6':'166, 3, 33'}\n",
        "  ]    \n",
        "  return vk_color_theme\n",
        "\n",
        "#\n",
        "# Transformation en image depuis PDF\n",
        "#\n",
        "def pdf2img(trigramme, output_pdf):\n",
        "  images = convert_from_path(output_pdf)\n",
        "  dossier = item['trigramme']\n",
        "  if not os.path.exists(dossier):\n",
        "    os.makedirs(dossier)\n",
        "\n",
        "  os.chdir(config.root_path + dossier)     \n",
        "  sous_dossier = \"lex-fr-\"+item['trigramme']\n",
        "  if not os.path.exists(sous_dossier):\n",
        "    os.makedirs(sous_dossier)\n",
        "\n",
        "  os.chdir(config.root_path + dossier + \"/\" + sous_dossier) \n",
        "  file = \"med-vac-\" + sous_dossier + \"-\"\n",
        "  i=0\n",
        "  for img in images:\n",
        "    i+=1\n",
        "    img.save(file + '_' + str(i) + \".jpg\", 'JPEG')\n",
        "\n",
        "  os.chdir(config.root_path)\n",
        "  return\n",
        "  \n",
        "#\n",
        "# Transformation en image depuis PDF\n",
        "#\n",
        "def pdf2img_rev(trigramme, output_pdf):\n",
        "\n",
        "  images = convert_from_path(output_pdf)\n",
        "  dossier = item['trigramme']\n",
        "  if not os.path.exists(dossier):\n",
        "    os.makedirs(dossier)\n",
        "  os.chdir(config.root_path + dossier)\n",
        "  sous_dossier = \"lex-\" + item['trigramme'] + \"-fr\"\n",
        "  if not os.path.exists(sous_dossier):\n",
        "    os.makedirs(sous_dossier)\n",
        "\n",
        "  os.chdir(config.root_path +  dossier + \"/\" + sous_dossier) \n",
        "  file = \"med-vac-\" + sous_dossier + \"-\"\n",
        "  i=0\n",
        "  for img in images:\n",
        "    i+=1\n",
        "    img.save(file + '_' + str(i) + \".jpg\", 'JPEG')\n",
        "\n",
        "  os.chdir(config.root_path)\n",
        "  return"
      ],
      "execution_count": 6,
      "outputs": []
    },
    {
      "cell_type": "markdown",
      "metadata": {
        "id": "G7Gmg3DvgaL-"
      },
      "source": [
        "### Format google sheet"
      ]
    },
    {
      "cell_type": "code",
      "metadata": {
        "id": "NuT7wCb-gW-c"
      },
      "source": [
        "#\n",
        "# Formatage gg sheet\n",
        "#\n",
        "def format_feuille(wb, nom_onglet):\n",
        "  # onglet\n",
        "  ws = wb.worksheet(nom_onglet)\n",
        "  # Format de la partie gauche\n",
        "  fmt = cellFormat(\n",
        "      backgroundColor=color(0.91, 0.96, 0.93),\n",
        "      textFormat=textFormat(bold=False, foregroundColor=color(0,0,0), fontSize='10'),\n",
        "      horizontalAlignment='LEFT'\n",
        "      )\n",
        "  format_cell_range(ws, 'A:G', fmt)\n",
        "\n",
        "  # format de l'entete\n",
        "  fmt = cellFormat(\n",
        "      backgroundColor=color(0.7725,0.8431,0.7922),\n",
        "      textFormat=textFormat(bold=True, foregroundColor=color(0,0,0), fontSize='10'),\n",
        "      horizontalAlignment='LEFT'\n",
        "      )\n",
        "  format_cell_range(ws, '1', fmt)\n",
        "  \n",
        "  # on gèle l'entete et les colonnes de gauche\n",
        "  set_frozen(ws, rows=1, cols=7)\n",
        "  set_column_width(ws, 'A', 100)\n",
        "  set_column_width(ws, 'B', 300)\n",
        "  return\n",
        "\n",
        "#\n",
        "# par défaut, le fichier est créé à la racine de drive, il faut le déplacer dans le bon dossier\n",
        "# \n",
        "def move_sh (drive_service, file_id, folder_id):\n",
        "  file = drive_service.files().get(fileId=file_id,\n",
        "                                  fields='parents').execute()\n",
        "  previous_parents = \",\".join(file.get('parents'))\n",
        "  # Move the file to the new folder\n",
        "  file = drive_service.files().update(fileId=file_id,\n",
        "                                      addParents=folder_id,\n",
        "                                      removeParents=previous_parents,\n",
        "                                      fields='id, parents').execute()\n",
        "  return\n",
        "\n",
        "\n",
        "#\n",
        "# création d'une feuille vierge\n",
        "# \n",
        "def create_sheet (service, title):\n",
        "  spreadsheet = {\n",
        "    'properties': {\n",
        "        'title': title\n",
        "    }\n",
        "  } \n",
        "  spreadsheet = service.spreadsheets().create(body=spreadsheet,\n",
        "                                    fields='spreadsheetId').execute()\n",
        "  print('Spreadsheet ID: {0}'.format(spreadsheet.get('spreadsheetId')))\n",
        "\n",
        "  return spreadsheet.get('spreadsheetId')  "
      ],
      "execution_count": 7,
      "outputs": []
    },
    {
      "cell_type": "markdown",
      "metadata": {
        "id": "ZaE7tlQ7kVee"
      },
      "source": [
        "### Fonctions du processus"
      ]
    },
    {
      "cell_type": "code",
      "metadata": {
        "id": "4hGGQAWsgmRg"
      },
      "source": [
        "#\n",
        "# synchronisation des corpus\n",
        "#\n",
        "def sync_cc_local_to_central (db_cc_wb, df_cc, nom_onglet):\n",
        "  df_corpus_synth = df_cc.copy()\n",
        "\n",
        "  # si l'onglet existe déjà\n",
        "  try:\n",
        "    ws = db_cc_wb.worksheet(nom_onglet)\n",
        "    db_cc_wb.del_worksheet(ws)\n",
        "  except:\n",
        "    print (\"Onglet inexistant !\")\n",
        "\n",
        "  db_cc_wb.add_worksheet(nom_onglet, 1, 1)\n",
        "  export_sheet = db_cc_wb.worksheet(nom_onglet)\n",
        "  set_with_dataframe(export_sheet, df_corpus_synth)\n",
        "  format_feuille(db_cc_wb, nom_onglet)\n",
        "  if trace is True:\n",
        "    print (\"*****************************************\")\n",
        "    print (\"* Synchro okay                          *\")\n",
        "    print (\"*****************************************\")\n",
        "  return"
      ],
      "execution_count": 8,
      "outputs": []
    },
    {
      "cell_type": "code",
      "metadata": {
        "id": "43KR7UoNsFnc"
      },
      "source": [
        "#\n",
        "# Règles d'indexation spéciales selon les langues\n",
        "#\n",
        "def set_special_index_rules_1 (lang, df_temp):\n",
        "  # moment du tri alpha selon alphabet local\n",
        "  alphabet = lang['alphabet']\n",
        "  a = [x for x in alphabet]    \n",
        "  # suppression des ? en début de phrase en espagnol\n",
        "  if lang['trigramme'] == 'esp':\n",
        "    df_temp['index'] = df_temp[lang['trigramme']].map(lambda x: x.lstrip('¿¡')).apply(lambda x:x[0].upper() if (len(x)>0) else \"\")  \n",
        "  elif lang['trigramme'] == 'hun' or lang['trigramme'] == 'alb':\n",
        "    # cas du hongrois, de l'albanais (index multilettres)\n",
        "    liste_lettre = [half_split(x) for x in [convertTuple(t) for t in [half_split(x) for x in alphabet.split('-')]]]\n",
        "    a = [\n",
        "        initiale\n",
        "            for t in liste_lettre\n",
        "            for t2 in convertTupleStr(t)\n",
        "            for initiale in t2.split()\n",
        "    ]      \n",
        "    df_temp['index'] = df_temp[lang['trigramme']].apply(lambda x:x[:2] if ((len(x)>0) and x[:2] in a) else x[0].upper() if (len(x)>0) else \"\")            \n",
        "  else:\n",
        "    df_temp['index'] = df_temp[lang['trigramme']].apply(lambda x:x[0].upper() if (len(x)>0) else \"\")     \n",
        "\n",
        "  return df_temp\n",
        "\n",
        "def set_special_index_rules_2 (lang, df_temp):\n",
        "  if lang['trigramme'] == 'geo':\n",
        "    # pas de majuscule en géorgien, on force en minuscule si besoin\n",
        "    df_temp['index'] = df_temp['index'].apply(lambda x:x[0].lower() if (len(x)>0) else \"\") \n",
        "  return df_temp\n",
        "  \n",
        "#\n",
        "# Regroupement du dataframe par catégories\n",
        "#\n",
        "def categorise_df (lang, df_temp):\n",
        "  # moment du tri alpha selon alphabet local\n",
        "  alphabet = lang['alphabet']\n",
        "  a = [x for x in alphabet]  \n",
        "\n",
        "  df_temp['index'] = df_temp['index'].astype(\"category\")\n",
        "  df_temp['index'].cat.set_categories(a, inplace=True)\n",
        "  df_temp.sort_values([\"index\", lang['trigramme']], ascending=True, inplace=True)\n",
        "  return df_temp"
      ],
      "execution_count": 9,
      "outputs": []
    },
    {
      "cell_type": "code",
      "metadata": {
        "id": "WkVYtCWto0kM"
      },
      "source": [
        "def create_reverse_indexed_corpus(vk_languages, df_corpus, service, drive_service):\n",
        "\n",
        "  # tableau de corpus indéxé par langue de traduction\n",
        "  df_corpus_trad = []\n",
        "  # itération sur chaque trigramme de langue\n",
        "  for i in vk_languages:\n",
        "    if i['update']=='false':\n",
        "      df_temp = df_corpus[['uid', ''.join(map(str, i['trigramme'])) ,'glossaire','état','date','commentaires', 'expression']].drop_duplicates()\n",
        "      #\n",
        "      # Règles d'indexation spéciales selon les langues (passe #1)\n",
        "      #\n",
        "      df_temp = set_special_index_rules_1 (i, df_temp)\n",
        "      #\n",
        "      # Regroupement par catégories\n",
        "      #\n",
        "      df_temp = categorise_df(i, df_temp)\n",
        "      #\n",
        "      # Règles d'indexation spéciales selon les langues (passe #2)\n",
        "      #\n",
        "      df_temp = set_special_index_rules_2 (i, df_temp)\n",
        "      #\n",
        "      # ajout à la liste de corpus\n",
        "      #\n",
        "      df_corpus_trad.append(df_temp)\n",
        "\n",
        "      sh_trad = 'corpus_central_base_'+i['trigramme']\n",
        "      nom_onglet = \"med_vac_synthese\"\n",
        "      sh_id = i['uri']\n",
        "      try:\n",
        "        wb_trad = gc.open_by_key(sh_id)\n",
        "        sh = wb_trad.worksheet(\"med_vac_synthese\")\n",
        "      except BaseException as e:\n",
        "        print(e)\n",
        "        sh_id = create_sheet(service, sh_trad)\n",
        "        i['uri'] = sh_id\n",
        "        move_sh (drive_service, sh_id, \"1L8YxbtY9Rn0hEO-IkMtvikdJUEkXExyi\")   \n",
        "        wb_trad = gc.open_by_key(sh_id)\n",
        "        sh = wb_trad.add_worksheet(nom_onglet, 1, 1)\n",
        "      set_with_dataframe(sh, df_temp)\n",
        "      format_feuille(wb_trad, nom_onglet) \n",
        "\n",
        "  return df_corpus_trad"
      ],
      "execution_count": 10,
      "outputs": []
    },
    {
      "cell_type": "code",
      "metadata": {
        "id": "yaqzugXm1Pwv"
      },
      "source": [
        "def create_reversed_corpus_with_index (vk_languages, df_corpus, service, drive_service, nom_onglet):\n",
        "  # tableau de corpus indéxé par langue de traduction\n",
        "  df_corpus_trad = []\n",
        "  # itération sur chaque trigramme de langue\n",
        "  for i in vk_languages:\n",
        "    if i['update']=='false':\n",
        "      df_temp = df_corpus[['uid', ''.join(map(str, i['trigramme'])) ,'glossaire','état','date','commentaires', 'expression']].drop_duplicates()\n",
        "\n",
        "      # moment du tri alpha selon alphabet local\n",
        "      alphabet = i['alphabet']\n",
        "      a = [x for x in alphabet]  \n",
        "\n",
        "      # suppression des ? en début de phrase en espagnol\n",
        "      if i['trigramme'] == 'esp':\n",
        "        df_temp['index']=df_temp[i['trigramme']].map(lambda x: x.lstrip('¿¡')).apply(lambda x:x[0].upper() if (len(x)>0) else \"\")  \n",
        "      elif i['trigramme'] == 'hun' or i['trigramme'] == 'alb':\n",
        "        # cas du hongrois, de l'albanais (index multilettres)\n",
        "        liste_lettre = [half_split(x) for x in [convertTuple(t) for t in [half_split(x) for x in alphabet.split('-')]]]\n",
        "        a = [\n",
        "            initiale\n",
        "                for t in liste_lettre\n",
        "                for t2 in convertTupleStr(t)\n",
        "                for initiale in t2.split()\n",
        "        ]      \n",
        "        df_temp['index']=df_temp[i['trigramme']].apply(lambda x:x[:2] if ((len(x)>0) and x[:2] in a) else x[0].upper() if (len(x)>0) else \"\")            \n",
        "      else:\n",
        "        df_temp['index']=df_temp[i['trigramme']].apply(lambda x:x[0].upper() if (len(x)>0) else \"\")    \n",
        "\n",
        "      df_temp['index'] = df_temp['index'].astype(\"category\")\n",
        "      df_temp['index'].cat.set_categories(a, inplace=True)\n",
        "      df_temp.sort_values([\"index\",i['trigramme']], ascending=True, inplace=True)\n",
        "      if i['trigramme'] == 'geo':\n",
        "        # pas de majuscule en géorgien, on force en minuscule si besoin\n",
        "        df_temp['index']=df_temp['index'].apply(lambda x:x[0].lower() if (len(x)>0) else \"\")     \n",
        "      #df_temp = df_temp.sort_values(by=['index',i['trigramme']], ascending=True)    \n",
        "      df_corpus_trad.append(df_temp)\n",
        "      sh_trad = 'corpus_central_base_'+i['trigramme']\n",
        "      # nom_onglet = \"med_vac_synthese\"\n",
        "      sh_id = i['uri']\n",
        "      try:\n",
        "        wb_trad = gc.open_by_key(sh_id)\n",
        "        sh = wb_trad.worksheet(nom_onglet)\n",
        "        if trace is True:\n",
        "          print (\"* Reversing op for \" + i['language'])\n",
        "      except BaseException as e:\n",
        "        print(e)\n",
        "        sh_id = create_sheet(service, sh_trad)\n",
        "        i['uri'] = sh_id\n",
        "        move_sh (drive_service, sh_id, \"1L8YxbtY9Rn0hEO-IkMtvikdJUEkXExyi\")   \n",
        "        wb_trad = gc.open_by_key(sh_id)\n",
        "        sh = wb_trad.add_worksheet(nom_onglet, 1, 1)\n",
        "      set_with_dataframe(sh, df_temp)\n",
        "      format_feuille(wb_trad, nom_onglet)    \n",
        "   \n",
        "  return vk_languages"
      ],
      "execution_count": 11,
      "outputs": []
    },
    {
      "cell_type": "markdown",
      "metadata": {
        "id": "_dhSKXofaiK_"
      },
      "source": [
        "# Lancement du PIPE"
      ]
    },
    {
      "cell_type": "code",
      "source": [
        "version = \"1.2.1\"\n",
        "nom_onglet = 'med_gen_synthese'\n",
        "trace = True\n",
        "debug = False\n",
        "vk_corpus_saisie = []"
      ],
      "metadata": {
        "id": "qBYZtWts2dY-"
      },
      "execution_count": 12,
      "outputs": []
    },
    {
      "cell_type": "code",
      "source": [
        "# Config Langues\n",
        "config_languages = 'med_vac_synthese.json'\n",
        "vk_languages = get_cc_config(config_languages)"
      ],
      "metadata": {
        "id": "tm7Dve_TwVEU"
      },
      "execution_count": 13,
      "outputs": []
    },
    {
      "cell_type": "code",
      "source": [
        "# Config Corpus (de consolidation)\n",
        "config_corpus_central = \"corpus_central_config.json\"\n",
        "vk_corpus_central = get_cc_config(config_corpus_central)"
      ],
      "metadata": {
        "id": "VTgxjO44_4ce"
      },
      "execution_count": 14,
      "outputs": []
    },
    {
      "cell_type": "code",
      "source": [
        "# Config Corpus locales (de saisie)\n",
        "config_corpus_local = \"corpus_local_config.json\"\n",
        "vk_corpus_local = get_cc_config(config_corpus_local)"
      ],
      "metadata": {
        "id": "Bec11FlkwheQ"
      },
      "execution_count": 15,
      "outputs": []
    },
    {
      "cell_type": "code",
      "source": [
        "# Base Centrale\n",
        "# on charge l'onglet 1 (français)\n",
        "db_cc_wb = get_CCDB_wb(vk_corpus_central[0][\"uri\"])\n",
        "db_cc = get_CCDB_data (db_cc_wb, 1)\n",
        "df_cc_global = get_ccdf_global(db_cc)\n",
        "df_cc_fr = get_ccdf_fr(df_cc_global)"
      ],
      "metadata": {
        "id": "WpBwh5LfAKaN"
      },
      "execution_count": 16,
      "outputs": []
    },
    {
      "cell_type": "code",
      "source": [
        "# vecteur de corpus\n",
        "vk_df_corpus = []\n",
        "vk_df_trad = []\n",
        "# on itère sur chaque corpus\n",
        "for item in vk_corpus_local:\n",
        "  # on lit la base locale\n",
        "  db_cl = get_CLDB(item[\"uri\"])\n",
        "  # on construit la partie gauche (expression sans traduction)\n",
        "  t_expr = db_cl.get_worksheet(vk_languages[0]['idx']) # le premier fait l'affaire\n",
        "  data_t_expr = t_expr.get_all_values()\n",
        "  df_corpus = pd.DataFrame(data_t_expr[1:], columns=data_t_expr[0])  \n",
        "  df_corpus.rename({\"français\":\"expression\"}, axis=1, inplace=True)\n",
        "  df_corpus = df_corpus[['uid','expression']]\n",
        "  # règles typographiques\n",
        "  df_corpus['expression'] = df_corpus['expression'].apply(lambda x:narrow_no_break_space(x))  \n",
        "  # on itère sur chaque langue\n",
        "  for item_lang in vk_languages:\n",
        "    print (item_lang)\n",
        "    # on construit par ajout la partie droite (traductions)\n",
        "    t_trad = db_cl.get_worksheet(item_lang['idx'])\n",
        "    data_t_trad = t_trad.get_all_values()\n",
        "    df_trad = pd.DataFrame(data_t_trad[1:], columns=data_t_trad[0])    \n",
        "    # on renomme la colonne par le trigramme de la langue\n",
        "    df_trad['traduction'] = df_trad['traduction'].apply(lambda x:x.strip() if x is not np.nan else \"\")\n",
        "    df_trad.rename({\"traduction\":item_lang[\"trigramme\"]}, axis=1, inplace=True)  \n",
        "    # on ajoute une colonne sur la droite\n",
        "    vk_df_trad.append(df_trad)\n",
        "    # règles typographiques\n",
        "    df_corpus[item_lang[\"trigramme\"]] = df_trad[item_lang[\"trigramme\"]].apply(lambda x:narrow_no_break_space(x))\n",
        "    if item_lang['unicode_substition']!=[]:\n",
        "      # substition de caractères unicodes (optionnel)\n",
        "      df_corpus[item_lang[\"trigramme\"]] = df_corpus[item_lang[\"trigramme\"]].apply(lambda x:replace_unicode (x, item_lang['unicode_substition']))     \n",
        "\n",
        "  # on obtient un vecteur qui contient les corpus avec transfo des onglets de traduction en colonnes\n",
        "  vk_df_corpus.append(df_corpus)"
      ],
      "metadata": {
        "id": "ZQfgyZ54qgtn"
      },
      "execution_count": null,
      "outputs": []
    },
    {
      "cell_type": "code",
      "source": [
        "# on concatène les df de la liste dans un df unique\n",
        "df_local = pd.concat(vk_df_corpus)"
      ],
      "metadata": {
        "id": "9iSdVP76X8jx"
      },
      "execution_count": 27,
      "outputs": []
    },
    {
      "cell_type": "code",
      "source": [
        "df_temp = df_local[['uid', ''.join(map(str, i['trigramme'])) ,'expression']].drop_duplicates()"
      ],
      "metadata": {
        "id": "uCN1YPbnbwXC"
      },
      "execution_count": null,
      "outputs": []
    },
    {
      "cell_type": "code",
      "source": [
        "# on synchronise (copie brute) de local vers central\n",
        "sync_cc_local_to_central (db_cc_wb, df_local, \"sync_from_local\")"
      ],
      "metadata": {
        "colab": {
          "base_uri": "https://localhost:8080/"
        },
        "id": "fXmdTs3bXzsR",
        "outputId": "59e371ba-b3ec-4c5c-dede-29c01c4d4b61"
      },
      "execution_count": 30,
      "outputs": [
        {
          "output_type": "stream",
          "name": "stdout",
          "text": [
            "*****************************************\n",
            "* Synchro okay                          *\n",
            "*****************************************\n"
          ]
        }
      ]
    },
    {
      "cell_type": "code",
      "source": [
        "create_reversed_corpus_with_index(vk_languages, df_cc, service, drive_service, nom_onglet)"
      ],
      "metadata": {
        "id": "-1BvryVuv1Jo"
      },
      "execution_count": null,
      "outputs": []
    },
    {
      "cell_type": "code",
      "metadata": {
        "id": "EWiSsh0NSV8S",
        "colab": {
          "base_uri": "https://localhost:8080/"
        },
        "outputId": "3bd5c0d3-a0aa-437f-d672-77a152d2b3a5"
      },
      "source": [
        "#\n",
        "# Config Params\n",
        "#\n",
        "config_languages = 'med_vac_synthese.json'\n",
        "vk_languages = get_cc_config(config_languages)\n",
        "vk_corpus_saisie = []\n",
        "# vaccination\n",
        "#local_db_uri = \"https://docs.google.com/spreadsheets/d/1CclzYfFCW4srA3Lq_np2LpSrxj84JpcbzytL449DH8E\"\n",
        "#vk_corpus_saisie.append(local_db_uri)\n",
        "# med gen\n",
        "local_db_uri = \"https://docs.google.com/spreadsheets/d/1zB7hvjr2HufHcVgcJfEtrUUmR75wU5OCiL-_d4oDtTU\"\n",
        "vk_corpus_saisie.append(local_db_uri)\n",
        "\n",
        "version = \"2.4.8\"\n",
        "debug = False\n",
        "trace = True\n",
        "step_1 = True\n",
        "step_2 = True\n",
        "step_3 = True\n",
        "step_4 = False\n",
        "vk_color_theme = get_color_theme()\n",
        "\n",
        "#\n",
        "# Base Centrale\n",
        "#\n",
        "db_cc_wb = get_CCDB_wb('https://docs.google.com/spreadsheets/d/1L8YB1aXHUJwUE9AE6xyn_xMHalinGR335Q7lntwbu1U')\n",
        "db_cc = get_CCDB_data (db_cc_wb)\n",
        "df_cc_global = get_ccdf_global(db_cc)\n",
        "df_cc_fr = get_ccdf_fr(df_cc_global)\n",
        "#\n",
        "# Base Locale\n",
        "#\n",
        "db_cl = get_CLDB(local_db_uri)\n",
        "\n",
        "if step_1 is True:\n",
        "  vk_df_corpus = get_corpus_list(vk_languages, local_db_uri, df_cc_fr)\n",
        "  #\n",
        "  # application des règles typographiques et merge de tous les onglets\n",
        "  #\n",
        "  df_cc = set_typo_rules(df_cc_fr)\n",
        "\n",
        "\n",
        "if step_2 is True:\n",
        "  #\n",
        "  # synchronisation des corpus\n",
        "  #\n",
        "  nom_onglet = 'med_gen_synthese'\n",
        "  sync_cc_local_to_central (db_cc_wb, df_cc, nom_onglet)\n",
        "  #\n",
        "  # création des index inversés (un fichier par langue) des corpus\n",
        "  #\n",
        "\n",
        "if step_3 is True:\n",
        "  create_reversed_corpus_with_index(vk_languages, df_cc, service, drive_service, nom_onglet)\n",
        "  #\n",
        "  #\n",
        "\n",
        "  set_cc_config (vk_languages, config_languages)\n",
        "\n",
        "  #\n",
        "  # tableau de corpus indéxé par langue de traduction\n",
        "  #\n",
        "if step_4 is True:  \n",
        "  df_corpus_trad = get_all_corpus_rev(vk_languages)\n",
        "\n",
        "  make_pdf(vk_languages, df_corpus_trad, df_cc)\n"
      ],
      "execution_count": null,
      "outputs": [
        {
          "output_type": "stream",
          "name": "stdout",
          "text": [
            "Processing ams\n",
            "Processing eng\n",
            "Processing tur\n",
            "Processing rus\n",
            "Processing ukr\n",
            "Processing rou\n",
            "Processing hun\n",
            "Processing tig\n",
            "Processing alb\n",
            "Processing geo\n",
            "Processing arm\n",
            "Processing dar\n",
            "Processing pst\n",
            "Processing prs\n",
            "Processing aze\n",
            "Processing esp\n",
            "Processing amh\n",
            "Processing all\n",
            "Processing pol\n",
            "Processing som\n",
            "ukr\n",
            "*****************************************\n",
            "* Synchro okay                          *\n",
            "*****************************************\n",
            "* Reversing op for Arabe\n",
            "* Reversing op for Anglais\n",
            "* Reversing op for Turc\n",
            "* Reversing op for Russe\n"
          ]
        },
        {
          "output_type": "stream",
          "name": "stderr",
          "text": [
            "/usr/local/lib/python3.7/dist-packages/ipykernel_launcher.py:27: SettingWithCopyWarning: \n",
            "A value is trying to be set on a copy of a slice from a DataFrame.\n",
            "Try using .loc[row_indexer,col_indexer] = value instead\n",
            "\n",
            "See the caveats in the documentation: https://pandas.pydata.org/pandas-docs/stable/user_guide/indexing.html#returning-a-view-versus-a-copy\n"
          ]
        },
        {
          "output_type": "stream",
          "name": "stdout",
          "text": [
            "* Reversing op for Ukrainien\n",
            "* Reversing op for Roumain\n",
            "* Reversing op for Hongrois\n",
            "* Reversing op for Tigrinya\n",
            "* Reversing op for Albanais\n",
            "* Reversing op for Géorgien\n",
            "* Reversing op for Arménien\n",
            "* Reversing op for Dari\n",
            "* Reversing op for Pashto\n",
            "* Reversing op for Fârsi\n",
            "{\n",
            "  \"error\": {\n",
            "    \"code\": 503,\n",
            "    \"message\": \"The service is currently unavailable.\",\n",
            "    \"status\": \"UNAVAILABLE\"\n",
            "  }\n",
            "}\n",
            "\n",
            "Spreadsheet ID: 1Le1Ek1EKvOMl1A4tSwNYnW5ubedTLuyDpVqqCuHDNnU\n",
            "* Reversing op for Espagnol\n",
            "* Reversing op for Amharique\n",
            "* Reversing op for Allemand\n",
            "<!DOCTYPE html>\n",
            "<html lang=en>\n",
            "  <meta charset=utf-8>\n",
            "  <meta name=viewport content=\"initial-scale=1, minimum-scale=1, width=device-width\">\n",
            "  <title>Error 404 (Not Found)!!1</title>\n",
            "  <style>\n",
            "    *{margin:0;padding:0}html,code{font:15px/22px arial,sans-serif}html{background:#fff;color:#222;padding:15px}body{margin:7% auto 0;max-width:390px;min-height:180px;padding:30px 0 15px}* > body{background:url(//www.google.com/images/errors/robot.png) 100% 5px no-repeat;padding-right:205px}p{margin:11px 0 22px;overflow:hidden}ins{color:#777;text-decoration:none}a img{border:0}@media screen and (max-width:772px){body{background:none;margin-top:0;max-width:none;padding-right:0}}#logo{background:url(//www.google.com/images/branding/googlelogo/1x/googlelogo_color_150x54dp.png) no-repeat;margin-left:-5px}@media only screen and (min-resolution:192dpi){#logo{background:url(//www.google.com/images/branding/googlelogo/2x/googlelogo_color_150x54dp.png) no-repeat 0% 0%/100% 100%;-moz-border-image:url(//www.google.com/images/branding/googlelogo/2x/googlelogo_color_150x54dp.png) 0}}@media only screen and (-webkit-min-device-pixel-ratio:2){#logo{background:url(//www.google.com/images/branding/googlelogo/2x/googlelogo_color_150x54dp.png) no-repeat;-webkit-background-size:100% 100%}}#logo{display:inline-block;height:54px;width:150px}\n",
            "  </style>\n",
            "  <a href=//www.google.com/><span id=logo aria-label=Google></span></a>\n",
            "  <p><b>404.</b> <ins>That’s an error.</ins>\n",
            "  <p>The requested URL <code>/v4/spreadsheets/?includeGridData=false</code> was not found on this server.  <ins>That’s all we know.</ins>\n",
            "\n",
            "Spreadsheet ID: 1VYju3daJZ7vUFMxJkdGU3ES72P-lDk118H9zsIAo3kI\n",
            "<!DOCTYPE html>\n",
            "<html lang=en>\n",
            "  <meta charset=utf-8>\n",
            "  <meta name=viewport content=\"initial-scale=1, minimum-scale=1, width=device-width\">\n",
            "  <title>Error 404 (Not Found)!!1</title>\n",
            "  <style>\n",
            "    *{margin:0;padding:0}html,code{font:15px/22px arial,sans-serif}html{background:#fff;color:#222;padding:15px}body{margin:7% auto 0;max-width:390px;min-height:180px;padding:30px 0 15px}* > body{background:url(//www.google.com/images/errors/robot.png) 100% 5px no-repeat;padding-right:205px}p{margin:11px 0 22px;overflow:hidden}ins{color:#777;text-decoration:none}a img{border:0}@media screen and (max-width:772px){body{background:none;margin-top:0;max-width:none;padding-right:0}}#logo{background:url(//www.google.com/images/branding/googlelogo/1x/googlelogo_color_150x54dp.png) no-repeat;margin-left:-5px}@media only screen and (min-resolution:192dpi){#logo{background:url(//www.google.com/images/branding/googlelogo/2x/googlelogo_color_150x54dp.png) no-repeat 0% 0%/100% 100%;-moz-border-image:url(//www.google.com/images/branding/googlelogo/2x/googlelogo_color_150x54dp.png) 0}}@media only screen and (-webkit-min-device-pixel-ratio:2){#logo{background:url(//www.google.com/images/branding/googlelogo/2x/googlelogo_color_150x54dp.png) no-repeat;-webkit-background-size:100% 100%}}#logo{display:inline-block;height:54px;width:150px}\n",
            "  </style>\n",
            "  <a href=//www.google.com/><span id=logo aria-label=Google></span></a>\n",
            "  <p><b>404.</b> <ins>That’s an error.</ins>\n",
            "  <p>The requested URL <code>/v4/spreadsheets/?includeGridData=false</code> was not found on this server.  <ins>That’s all we know.</ins>\n",
            "\n",
            "Spreadsheet ID: 1bnaRpItWaX1cVxrmCnEPUaZ13-IgqBkuNGfKubbNIAs\n"
          ]
        }
      ]
    },
    {
      "cell_type": "code",
      "metadata": {
        "id": "NxhVI3dFpxkb"
      },
      "source": [
        "vk_languages"
      ],
      "execution_count": null,
      "outputs": []
    },
    {
      "cell_type": "markdown",
      "metadata": {
        "id": "tVDKi8VVgAUr"
      },
      "source": [
        "# FIN"
      ]
    },
    {
      "cell_type": "code",
      "metadata": {
        "colab": {
          "base_uri": "https://localhost:8080/"
        },
        "id": "XETlbYqOlCSi",
        "outputId": "fd309614-41eb-4c43-f40b-909681011dbb"
      },
      "source": [
        "import sys, locale\n",
        "print(sys.getfilesystemencoding())\n",
        "print(locale.getpreferredencoding())"
      ],
      "execution_count": null,
      "outputs": [
        {
          "output_type": "stream",
          "name": "stdout",
          "text": [
            "utf-8\n",
            "UTF-8\n"
          ]
        }
      ]
    },
    {
      "cell_type": "code",
      "metadata": {
        "colab": {
          "base_uri": "https://localhost:8080/"
        },
        "id": "U2ZYbTf6eiKJ",
        "outputId": "e3f24039-b32f-4fb2-a22b-8bce01ea6a97"
      },
      "source": [
        "!ls /usr/share/fonts/truetype/dejavu"
      ],
      "execution_count": null,
      "outputs": [
        {
          "output_type": "stream",
          "name": "stdout",
          "text": [
            "DejaVuSans-Bold.ttf\t DejaVuSansMono.ttf  DejaVuSerif-Bold.ttf\n",
            "DejaVuSansMono-Bold.ttf  DejaVuSans.ttf      DejaVuSerif.ttf\n"
          ]
        }
      ]
    },
    {
      "cell_type": "code",
      "metadata": {
        "colab": {
          "base_uri": "https://localhost:8080/"
        },
        "id": "uVFHCdW8hRFb",
        "outputId": "b1919d9f-afcb-4c88-a26e-9b862cf559bd"
      },
      "source": [
        "ord(u'ۍ')"
      ],
      "execution_count": null,
      "outputs": [
        {
          "output_type": "execute_result",
          "data": {
            "text/plain": [
              "1741"
            ]
          },
          "metadata": {},
          "execution_count": 20
        }
      ]
    },
    {
      "cell_type": "code",
      "source": [
        "ord(u' ')"
      ],
      "metadata": {
        "id": "LNb1bPCLLEUX"
      },
      "execution_count": null,
      "outputs": []
    },
    {
      "cell_type": "code",
      "source": [
        "ord(u'К')\n"
      ],
      "metadata": {
        "colab": {
          "base_uri": "https://localhost:8080/"
        },
        "id": "SkHtmVc-JySn",
        "outputId": "cdb19b15-782c-4eca-d99c-b97385e36f1d"
      },
      "execution_count": null,
      "outputs": [
        {
          "output_type": "execute_result",
          "data": {
            "text/plain": [
              "1050"
            ]
          },
          "metadata": {},
          "execution_count": 7
        }
      ]
    },
    {
      "cell_type": "code",
      "metadata": {
        "colab": {
          "base_uri": "https://localhost:8080/"
        },
        "id": "4m87QYdQIyAH",
        "outputId": "6fd47c0a-e96d-4585-d1ba-7595ffab8776"
      },
      "source": [
        "vk_languages"
      ],
      "execution_count": null,
      "outputs": [
        {
          "output_type": "execute_result",
          "data": {
            "text/plain": [
              "[{'alphabet': 'اآٱأإبتثجحخدذرزسشصضطظعغفقكلمنهةوؤيئىء',\n",
              "  'credits': 'Sonia ZARROUK, Wafa TAHRI',\n",
              "  'font-family': 'DejaVuSans',\n",
              "  'font-family-bold': 'DejaVuSans-Bold',\n",
              "  'glossary-subtitle': 'عربي فرنسي',\n",
              "  'idx': 1,\n",
              "  'language': 'Arabe',\n",
              "  'meta': {'credits-fr': '',\n",
              "   'credits-tr': '',\n",
              "   'subtitle-fr': '',\n",
              "   'subtitle-tr': '',\n",
              "   'title-fr': '',\n",
              "   'title-tr': ''},\n",
              "  'text-direction': 'rtl',\n",
              "  'trigramme': 'ams',\n",
              "  'unicode_substition': [],\n",
              "  'update': 'false',\n",
              "  'uri': '134rEeVux-FvSxPt4EO4OM1M8PnGHa6P1ewtmnsnRfrs'},\n",
              " {'alphabet': 'AaBbCcDdEeFfGgHhIiJjKkLlMmNnOoPpQqRrSsTtUuVvWwXxYyZz',\n",
              "  'credits': 'Khalida BENHEDDER',\n",
              "  'font-family': 'NotoSerif-Regular',\n",
              "  'font-family-bold': 'NotoSerif-Bold',\n",
              "  'glossary-subtitle': 'English-French',\n",
              "  'idx': 2,\n",
              "  'language': 'Anglais',\n",
              "  'meta': {'credits-fr': '',\n",
              "   'credits-tr': '',\n",
              "   'subtitle-fr': '',\n",
              "   'subtitle-tr': '',\n",
              "   'title-fr': '',\n",
              "   'title-tr': ''},\n",
              "  'text-direction': 'ltr',\n",
              "  'trigramme': 'eng',\n",
              "  'unicode_substition': [],\n",
              "  'update': 'false',\n",
              "  'uri': '1r0pPfeZtS2EhMwWa1VpU0HiisFcYQ6T7oi4OInEMQPE'},\n",
              " {'alphabet': 'AaÂâBbCcÇçDdEeFfGgĞğHhIıİiÎîJjKkLlMmNnOoÖöPpRrSsŞşTtUuÜüÛûVvYyZz',\n",
              "  'credits': 'Gülseren AKKOÇ',\n",
              "  'font-family': 'NotoSerif-Regular',\n",
              "  'font-family-bold': 'NotoSerif-Bold',\n",
              "  'glossary-subtitle': 'Türkçe-Fransizca',\n",
              "  'idx': 3,\n",
              "  'language': 'Turc',\n",
              "  'meta': {'credits-fr': '',\n",
              "   'credits-tr': '',\n",
              "   'subtitle-fr': '',\n",
              "   'subtitle-tr': '',\n",
              "   'title-fr': '',\n",
              "   'title-tr': ''},\n",
              "  'text-direction': 'ltr',\n",
              "  'trigramme': 'tur',\n",
              "  'unicode_substition': [],\n",
              "  'update': 'false',\n",
              "  'uri': '1yQ114R7Jyo-HasGlIBQw7ThdK0uVEFRr1WCJeEMT4s0'},\n",
              " {'alphabet': 'АаБбВвГгДдЕеЁёЖжЗзИиЙйКкЛлМмНнОоПпРрСсТтУуФфХхЦцЧчШшЩщЪъЫыЬьЭэЮюЯя',\n",
              "  'credits': 'Natalia SAVELIEVA',\n",
              "  'font-family': 'NotoSerif-Regular',\n",
              "  'font-family-bold': 'NotoSerif-Bold',\n",
              "  'glossary-subtitle': 'Русско-французский',\n",
              "  'idx': 4,\n",
              "  'language': 'Russe',\n",
              "  'meta': {'credits-fr': 'Traduction : Natalia SAVELIEVA',\n",
              "   'credits-tr': 'Перевод : Наталья САВЕЛЬЕВА',\n",
              "   'subtitle-fr': 'Français-Russe',\n",
              "   'subtitle-tr': 'Русско-Французский',\n",
              "   'title-fr': 'Vaccination',\n",
              "   'title-tr': 'Вакцинация'},\n",
              "  'text-direction': 'ltr',\n",
              "  'trigramme': 'rus',\n",
              "  'unicode_substition': [],\n",
              "  'update': 'false',\n",
              "  'uri': '1Z5mAYaqKkzoykbTwnFmOS2A468W37_y-bwoHAxwQp8M'},\n",
              " {'alphabet': 'АаБбВвГгҐґДдЕеЄєЖжЗзИиІіЇїЙйКкЛлМмНнОоПпРрСсТтУуФфХхЦцЧчШшЩщЮюЯя',\n",
              "  'credits': 'Natalia SAVELIEVA',\n",
              "  'font-family': 'NotoSerif-Regular',\n",
              "  'font-family-bold': 'NotoSerif-Bold',\n",
              "  'glossary-subtitle': 'Українсько-французька',\n",
              "  'idx': 5,\n",
              "  'language': 'Ukrainien',\n",
              "  'meta': {'credits-fr': 'Traduction : Natalia SAVELIEVA',\n",
              "   'credits-tr': 'Переклад : Наталія САВЕЛЬЄВА',\n",
              "   'subtitle-fr': 'Français-Ukrainien',\n",
              "   'subtitle-tr': 'Українсько-Французький',\n",
              "   'title-fr': 'Vaccination',\n",
              "   'title-tr': 'Вакцинація'},\n",
              "  'text-direction': 'ltr',\n",
              "  'trigramme': 'ukr',\n",
              "  'unicode_substition': [['A', 'A', 'А'],\n",
              "   ['B', 'B', 'В'],\n",
              "   ['E', 'E', 'Е'],\n",
              "   ['I', 'I', 'І'],\n",
              "   ['K', 'K', 'К'],\n",
              "   ['M', 'M', 'М'],\n",
              "   ['P', 'P', 'Р'],\n",
              "   ['T', 'T', 'Т']],\n",
              "  'update': 'false',\n",
              "  'uri': '16gWyW1_7z1OOt_ssYHL8iCCZGjOjQ5Wtfbkew9_uvnw'},\n",
              " {'alphabet': 'AaĂăÂâBbCcDdEeFfGgHhIiÎîJjKkLlMmNnOoPpQqRrSsȘșTtȚțUuVvWwXxYyZz',\n",
              "  'credits': 'Annamaria LOCSE, Alexandra DEACONESCU, Ramona MIHAILOV',\n",
              "  'font-family': 'NotoSerif-Regular',\n",
              "  'font-family-bold': 'NotoSerif-Bold',\n",
              "  'glossary-subtitle': 'ROMÂNĂ-FRANCEZĂ',\n",
              "  'idx': 6,\n",
              "  'language': 'Roumain',\n",
              "  'meta': {'credits-fr': '',\n",
              "   'credits-tr': '',\n",
              "   'subtitle-fr': '',\n",
              "   'subtitle-tr': '',\n",
              "   'title-fr': '',\n",
              "   'title-tr': ''},\n",
              "  'text-direction': 'ltr',\n",
              "  'trigramme': 'rou',\n",
              "  'unicode_substition': [],\n",
              "  'update': 'false',\n",
              "  'uri': '11eVHnQJTt5MY4GCXNRYwKMriZ3XBUUY_-N7uoPQR-9U'},\n",
              " {'alphabet': 'Aa-Áá-Bb-Cc-Cscs-Dd-Ee-Éé-Ff-Gg-Gygy-Hh-Ii-Íí-Jj-Kk-Ll-Lyly-Mm-Nn-Oo-Óó-Öö-Őő-Pp-Qq-Rr-Ss-Szsz-Tt-Tyty-Uu-Úú-Üü-Űű-Vv-Ww-Xx-Yy-Zz-Zszs',\n",
              "  'credits': 'Annamaria LOCSE',\n",
              "  'font-family': 'NotoSerif-Regular',\n",
              "  'font-family-bold': 'NotoSerif-Bold',\n",
              "  'glossary-subtitle': 'Magyar-Francia',\n",
              "  'idx': 7,\n",
              "  'language': 'Hongrois',\n",
              "  'meta': {'credits-fr': '',\n",
              "   'credits-tr': '',\n",
              "   'subtitle-fr': '',\n",
              "   'subtitle-tr': '',\n",
              "   'title-fr': '',\n",
              "   'title-tr': ''},\n",
              "  'text-direction': 'ltr',\n",
              "  'trigramme': 'hun',\n",
              "  'unicode_substition': [],\n",
              "  'update': 'false',\n",
              "  'uri': '1oTh6b6TciHCcgzjUHqtG-qh6if2dD2LPg_uAC4IxfF4'},\n",
              " {'alphabet': 'ሀሁሂሃሄህሆለሉሊላሌልሎሏሐሑሒሓሔሕሖሗመሙሚማሜምሞሟሠሡሢሣሤሥሦሧረሩሪራሬርሮሯሰሱሲሳሴስሶሷሸሹሺሻሼሽሾሿቀቁቂቃቄቅቆቇቐቑቒቓቔቕቖበቡቢባቤብቦቧቨቩቪቫቬቭቮቯተቱቲታቴትቶቷቸቹቺቻቼችቾቿኀኁኂኃኄኅኆኇነኑኒናኔንኖኗኘኙኚኛኜኝኞኟአኡኣኤእኦኧከኩኪካኬክኮኯኸኹኺኻኼኽኾወዉዊዋዌውዎዐዑዒዓዔዕዖዘዙዚዛዜዝዞዟዠዡዢዣዤዥዦዧየዩዪያዬይዮዯደዱዲዳዴድዶዷዸዹዺዻዼዽዾዿጀጁጂጃጄጅጆጇገጉጊጋጌግጎጏጘጙጚጛጜጝጞጟጠጡጢጣጤጥጦጧጨጩጪጫጬጭጮጯጰጱጲጳጴጵጶጷጸጹጺጻጼጽጾጿፀፁፂፃፄፅፆፇፈፉፊፋፌፍፎፏፐፑፒፓፔፕፖፗቈቊቋቌቍቘቚቛቜቝኈኊኋኌኍኰኲኳኴኵዀዂዃዄዅጐጒጓጔጕ',\n",
              "  'credits': 'Rozina ASMERON, Yirgalem TEKLABE',\n",
              "  'font-family': 'jiret',\n",
              "  'font-family-bold': 'jiret',\n",
              "  'glossary-subtitle': '',\n",
              "  'idx': 8,\n",
              "  'language': 'Tigrinya',\n",
              "  'meta': {'credits-fr': '',\n",
              "   'credits-tr': '',\n",
              "   'subtitle-fr': '',\n",
              "   'subtitle-tr': '',\n",
              "   'title-fr': '',\n",
              "   'title-tr': ''},\n",
              "  'text-direction': 'ltr',\n",
              "  'trigramme': 'tig',\n",
              "  'unicode_substition': [],\n",
              "  'update': 'false',\n",
              "  'uri': '17boObdqNVhvWAcoLo1gVUXIc493VeI2a0GmqEPwnouk'},\n",
              " {'alphabet': 'Aa-Bb-Cc-Çç-Dd-Dhdh-Ee-Ëë-Ff-Gg-Gjgj-Hh-Ii-Jj-Kk-Ll-Llll-Mm-Nn-Njnj-Oo-Pp-Qq-Rr-Rrrr-Ss-Shsh-Tt-Thth-Uu-Vv-Ww-Xx-Xhxh-Yy-Zz-Zhzh',\n",
              "  'credits': 'Xhemshit ALITI',\n",
              "  'font-family': 'NotoSerif-Regular',\n",
              "  'font-family-bold': 'NotoSerif-Bold',\n",
              "  'glossary-subtitle': '',\n",
              "  'idx': 9,\n",
              "  'language': 'Albanais',\n",
              "  'meta': {'credits-fr': '',\n",
              "   'credits-tr': '',\n",
              "   'subtitle-fr': '',\n",
              "   'subtitle-tr': '',\n",
              "   'title-fr': '',\n",
              "   'title-tr': ''},\n",
              "  'text-direction': 'ltr',\n",
              "  'trigramme': 'alb',\n",
              "  'unicode_substition': [],\n",
              "  'update': 'false',\n",
              "  'uri': '1DUS39fYPk6Nw9u7Gzr5UkDducAHbMnMtyMegJgKyVMk'},\n",
              " {'alphabet': 'ᲐᲑᲒᲓᲔᲕᲖᲗᲘᲙᲚᲛᲜᲝᲞᲟᲠᲡᲢᲣᲤᲥᲦᲧᲨᲩᲪᲫᲬᲭᲮᲯᲰ',\n",
              "  'credits': 'Nina PRIMAKOFF',\n",
              "  'font-family': 'arial_geo',\n",
              "  'font-family-bold': 'arial_geo-bold',\n",
              "  'glossary-subtitle': 'ქართულ-ფრანგული ლექსიკა',\n",
              "  'idx': 10,\n",
              "  'language': 'Géorgien',\n",
              "  'meta': {'credits-fr': '',\n",
              "   'credits-tr': '',\n",
              "   'subtitle-fr': '',\n",
              "   'subtitle-tr': '',\n",
              "   'title-fr': '',\n",
              "   'title-tr': ''},\n",
              "  'text-direction': 'ltr',\n",
              "  'trigramme': 'geo',\n",
              "  'unicode_substition': [],\n",
              "  'update': 'false',\n",
              "  'uri': '17Z9nFomcHS32SOZdVh_C0CfozVNyn8ipz6qbg1EAmH4'},\n",
              " {'alphabet': 'ԱաԲբԳգԴդԵեԶզԷէԸըԹթԺժԻիԼլԽխԾծԿկՀհՁձՂղՃճՄմՅյՆնՇշՈոՉչՊպՋջՌռՍսՎվՏտՐրՑցՒւՓփՔքՕօՖֆև',\n",
              "  'credits': 'Nuné DZHALALYAN',\n",
              "  'font-family': 'NotoSerifArmenian-Regular',\n",
              "  'font-family-bold': 'NotoSerifArmenian-Bold',\n",
              "  'glossary-subtitle': '',\n",
              "  'idx': 11,\n",
              "  'language': 'Arménien',\n",
              "  'meta': {'credits-fr': '',\n",
              "   'credits-tr': '',\n",
              "   'subtitle-fr': '',\n",
              "   'subtitle-tr': '',\n",
              "   'title-fr': '',\n",
              "   'title-tr': ''},\n",
              "  'text-direction': 'ltr',\n",
              "  'trigramme': 'arm',\n",
              "  'unicode_substition': [],\n",
              "  'update': 'false',\n",
              "  'uri': '11MtxyUVEGfZZjmCDuQzDL75if7oEr9rspRvhjE06EW4'},\n",
              " {'alphabet': 'اآبپتثجچحخدذرزژسشصضطظعغفقکگلمنوهی',\n",
              "  'credits': 'Massouda HEMATYAR',\n",
              "  'font-family': 'DejaVuSans',\n",
              "  'font-family-bold': 'DejaVuSans-Bold',\n",
              "  'glossary-subtitle': 'دری-فرانسوی',\n",
              "  'idx': 12,\n",
              "  'language': 'Dari',\n",
              "  'meta': {'credits-fr': '',\n",
              "   'credits-tr': '',\n",
              "   'subtitle-fr': '',\n",
              "   'subtitle-tr': '',\n",
              "   'title-fr': '',\n",
              "   'title-tr': ''},\n",
              "  'text-direction': 'rtl',\n",
              "  'trigramme': 'dar',\n",
              "  'unicode_substition': [],\n",
              "  'update': 'false',\n",
              "  'uri': '1P-s03l6quqA2OvYWD_PgvPzl9CKraRRNbJFTF50WrsI'},\n",
              " {'alphabet': '',\n",
              "  'credits': 'Massouda HEMATYAR',\n",
              "  'font-family': 'Arial',\n",
              "  'font-family-bold': 'DejaVuSans-Bold',\n",
              "  'glossary-subtitle': '',\n",
              "  'idx': 13,\n",
              "  'language': 'Pashto',\n",
              "  'meta': {'credits-fr': '',\n",
              "   'credits-tr': '',\n",
              "   'subtitle-fr': '',\n",
              "   'subtitle-tr': '',\n",
              "   'title-fr': '',\n",
              "   'title-tr': ''},\n",
              "  'text-direction': 'rtl',\n",
              "  'trigramme': 'pst',\n",
              "  'unicode_substition': [],\n",
              "  'update': 'false',\n",
              "  'uri': '1IDUQ_SlSOMWX87NrwwZ94SBcNYEoPx-hz7lgC5c5FO8'},\n",
              " {'alphabet': '',\n",
              "  'credits': 'Massouda HEMATYAR',\n",
              "  'font-family': 'DejaVuSans',\n",
              "  'font-family-bold': 'DejaVuSans-Bold',\n",
              "  'glossary-subtitle': '',\n",
              "  'idx': 14,\n",
              "  'language': 'Fârsi',\n",
              "  'meta': {'credits-fr': '',\n",
              "   'credits-tr': '',\n",
              "   'subtitle-fr': '',\n",
              "   'subtitle-tr': '',\n",
              "   'title-fr': '',\n",
              "   'title-tr': ''},\n",
              "  'text-direction': 'rtl',\n",
              "  'trigramme': 'prs',\n",
              "  'unicode_substition': [],\n",
              "  'update': 'false',\n",
              "  'uri': '17agq-TEjL_SUJ16r0YaArlTAorQYf1aj4PuX4BSz7TE'},\n",
              " {'alphabet': '',\n",
              "  'credits': '',\n",
              "  'font-family': 'NotoSerif-Regular',\n",
              "  'font-family-bold': 'NotoSerif-Bold',\n",
              "  'glossary-subtitle': '',\n",
              "  'idx': 15,\n",
              "  'language': 'Azéri',\n",
              "  'meta': {'credits-fr': '',\n",
              "   'credits-tr': '',\n",
              "   'subtitle-fr': '',\n",
              "   'subtitle-tr': '',\n",
              "   'title-fr': '',\n",
              "   'title-tr': ''},\n",
              "  'text-direction': 'ltr',\n",
              "  'trigramme': 'aze',\n",
              "  'unicode_substition': [],\n",
              "  'update': 'false',\n",
              "  'uri': '1g7Y20Gm5NYamsasK1KzUuVPVg6RMrzSyyWUOJZHyNko'},\n",
              " {'alphabet': 'AaÁáBbCcDdEeÉéFfGgHhIiÍíJjKkLlMmNnÑñOoÓóPpQqRrSsTtUuÚúÜüVvWwXxYyZz',\n",
              "  'credits': 'Chloé SMALL',\n",
              "  'font-family': 'NotoSerif-Regular',\n",
              "  'font-family-bold': 'NotoSerif-Bold',\n",
              "  'glossary-subtitle': 'Español-Francés',\n",
              "  'idx': 16,\n",
              "  'language': 'Espagnol',\n",
              "  'meta': {'credits-fr': '',\n",
              "   'credits-tr': '',\n",
              "   'subtitle-fr': '',\n",
              "   'subtitle-tr': '',\n",
              "   'title-fr': '',\n",
              "   'title-tr': ''},\n",
              "  'text-direction': 'ltr',\n",
              "  'trigramme': 'esp',\n",
              "  'unicode_substition': [],\n",
              "  'update': 'false',\n",
              "  'uri': '1Jj0FiQqKikotBpGUomjsg3_VnWB8zoCDNn66lRDECSo'},\n",
              " {'alphabet': '',\n",
              "  'credits': '',\n",
              "  'font-family': 'NotoSerif-Regular',\n",
              "  'font-family-bold': 'NotoSerif-Bold',\n",
              "  'glossary-subtitle': '',\n",
              "  'idx': 17,\n",
              "  'language': 'Amharique',\n",
              "  'meta': {'credits-fr': '',\n",
              "   'credits-tr': '',\n",
              "   'subtitle-fr': '',\n",
              "   'subtitle-tr': '',\n",
              "   'title-fr': '',\n",
              "   'title-tr': ''},\n",
              "  'text-direction': 'ltr',\n",
              "  'trigramme': 'amh',\n",
              "  'unicode_substition': [],\n",
              "  'update': 'false',\n",
              "  'uri': '11o9tKQSBVRARQhdHOKcQ848rcWnaV6MAkKD0Jm70Xy4'},\n",
              " {'alphabet': 'AaÄäBbCcDdEeFfGgHhIiJjKkLlMmNnOoÖöPpQqRrSsẞßTtUuÜüVvWwXxYyZz',\n",
              "  'credits': 'Canan SIMSEK',\n",
              "  'font-family': 'NotoSerif-Regular',\n",
              "  'font-family-bold': 'NotoSerif-Bold',\n",
              "  'glossary-subtitle': '',\n",
              "  'idx': 18,\n",
              "  'language': 'Allemand',\n",
              "  'meta': {'credits-fr': '',\n",
              "   'credits-tr': '',\n",
              "   'subtitle-fr': '',\n",
              "   'subtitle-tr': '',\n",
              "   'title-fr': '',\n",
              "   'title-tr': ''},\n",
              "  'text-direction': 'ltr',\n",
              "  'trigramme': 'all',\n",
              "  'unicode_substition': [],\n",
              "  'update': 'false',\n",
              "  'uri': '1KTwgp5cZh7_PINkwRV-dK-77w_f8XrL_GglFZ44XJvs'}]"
            ]
          },
          "metadata": {},
          "execution_count": 23
        }
      ]
    },
    {
      "cell_type": "code",
      "metadata": {
        "id": "Efek4VVWgbso"
      },
      "source": [
        "set_cc_config (vk_languages, config_languages)"
      ],
      "execution_count": null,
      "outputs": []
    },
    {
      "cell_type": "code",
      "metadata": {
        "id": "L35GH12Wbj8Z"
      },
      "source": [
        "meta = {'meta':{'title-fr':'', 'title-tr':'', 'subtitle-fr':'', 'subtitle-tr':'', 'credits-fr':'', 'credits-tr':''}}"
      ],
      "execution_count": null,
      "outputs": []
    },
    {
      "cell_type": "code",
      "metadata": {
        "id": "1RpPWFy5Z9qY"
      },
      "source": [
        "for i in vk_languages:\n",
        "  i['meta']={'title-fr':'', 'title-tr':'', 'subtitle-fr':'', 'subtitle-tr':'', 'credits-fr':'', 'credits-tr':''}"
      ],
      "execution_count": null,
      "outputs": []
    },
    {
      "cell_type": "code",
      "metadata": {
        "id": "cMisXhnGfvW0"
      },
      "source": [
        "make_pdf(vk_languages, df_corpus_trad, df_cc)"
      ],
      "execution_count": null,
      "outputs": []
    },
    {
      "cell_type": "code",
      "metadata": {
        "id": "nanzLIkfi2Jv"
      },
      "source": [
        "vk_languages = get_cc_config(config_languages)"
      ],
      "execution_count": null,
      "outputs": []
    },
    {
      "cell_type": "code",
      "metadata": {
        "colab": {
          "base_uri": "https://localhost:8080/"
        },
        "id": "Qq2Uh-0BeNdc",
        "outputId": "6a9883a9-66b4-4742-d63a-1be329349a44"
      },
      "source": [
        "vk_languages[4]"
      ],
      "execution_count": null,
      "outputs": [
        {
          "output_type": "execute_result",
          "data": {
            "text/plain": [
              "{'alphabet': 'АаБбВвГгҐґДдЕеЄєЖжЗзИиІіЇїЙйКкЛлМмНнОоПпРрСсТтУуФфХхЦцЧчШшЩщЮюЯя',\n",
              " 'credits': 'Natalia SAVELIEVA',\n",
              " 'font-family': 'NotoSerif-Regular',\n",
              " 'font-family-bold': 'NotoSerif-Bold',\n",
              " 'glossary-subtitle': 'Українсько-французька',\n",
              " 'idx': 5,\n",
              " 'language': 'Ukrainien',\n",
              " 'meta': {'credits-fr': 'Traduction : Natalia SAVELIEVA',\n",
              "  'credits-tr': 'Переклад : Наталія САВЕЛЬЄВА',\n",
              "  'subtitle-fr': 'Français-Ukrainien',\n",
              "  'subtitle-tr': 'Українсько-Французький',\n",
              "  'title-fr': 'Vaccination',\n",
              "  'title-tr': 'Вакцинація'},\n",
              " 'text-direction': 'ltr',\n",
              " 'trigramme': 'ukr',\n",
              " 'unicode_substition': [['A', 'A', 'А'],\n",
              "  ['B', 'B', 'В'],\n",
              "  ['E', 'E', 'Е'],\n",
              "  ['I', 'I', 'І'],\n",
              "  ['K', 'K', 'К'],\n",
              "  ['M', 'M', 'М'],\n",
              "  ['P', 'P', 'Р'],\n",
              "  ['T', 'T', 'Т']],\n",
              " 'update': 'false',\n",
              " 'uri': '16gWyW1_7z1OOt_ssYHL8iCCZGjOjQ5Wtfbkew9_uvnw'}"
            ]
          },
          "metadata": {},
          "execution_count": 32
        }
      ]
    },
    {
      "cell_type": "code",
      "metadata": {
        "id": "ZRVziebslPb8"
      },
      "source": [
        "vk_languages[3]['meta']['credits-fr']='Traduction : Natalia SAVELIEVA'\n",
        "vk_languages[3]['meta']['credits-tr']='Перевод : Наталья САВЕЛЬЕВА'\n",
        "vk_languages[3]['meta']['title-fr']='Vaccination'\n",
        "vk_languages[3]['meta']['title-tr']='Вакцинация'\n",
        "vk_languages[3]['meta']['subtitle-fr']='Français-Russe'\n",
        "vk_languages[3]['meta']['subtitle-tr']='Русско-Французский'\n",
        "\n",
        "\n",
        "vk_languages[4]['meta']['credits-fr']='Traduction : Natalia SAVELIEVA'\n",
        "vk_languages[4]['meta']['credits-tr']='Переклад : Наталія САВЕЛЬЄВА'\n",
        "vk_languages[4]['meta']['title-fr']='Vaccination'\n",
        "vk_languages[4]['meta']['title-tr']='Вакцинація'\n",
        "vk_languages[4]['meta']['subtitle-fr']='Français-Ukrainien'\n",
        "vk_languages[4]['meta']['subtitle-tr']='Українсько-Французький'"
      ],
      "execution_count": null,
      "outputs": []
    },
    {
      "cell_type": "markdown",
      "metadata": {
        "id": "MYm_C7D1iqTS"
      },
      "source": [
        "1Jj0FiQqKikotBpGUomjsg3_VnWB8zoCDNn66lRDECSo"
      ]
    },
    {
      "cell_type": "code",
      "metadata": {
        "id": "Ul2BiAzy22wY"
      },
      "source": [
        "df_corpus = df_cc.copy()"
      ],
      "execution_count": null,
      "outputs": []
    },
    {
      "cell_type": "code",
      "metadata": {
        "colab": {
          "base_uri": "https://localhost:8080/",
          "height": 306
        },
        "id": "zAtS7b3zqgs3",
        "outputId": "e3770277-20e8-4da4-d2a9-427159818a26"
      },
      "source": [
        "create_reverse_indexed_corpus(vk_languages, df_cc, service, drive_service)"
      ],
      "execution_count": null,
      "outputs": [
        {
          "output_type": "error",
          "ename": "ValueError",
          "evalue": "ignored",
          "traceback": [
            "\u001b[0;31m---------------------------------------------------------------------------\u001b[0m",
            "\u001b[0;31mValueError\u001b[0m                                Traceback (most recent call last)",
            "\u001b[0;32m<ipython-input-118-341f58e4d756>\u001b[0m in \u001b[0;36m<module>\u001b[0;34m()\u001b[0m\n\u001b[0;32m----> 1\u001b[0;31m \u001b[0mcreate_reverse_indexed_corpus\u001b[0m\u001b[0;34m(\u001b[0m\u001b[0mvk_lang_dict\u001b[0m\u001b[0;34m,\u001b[0m \u001b[0mdf_cc\u001b[0m\u001b[0;34m,\u001b[0m \u001b[0mservice\u001b[0m\u001b[0;34m,\u001b[0m \u001b[0mdrive_service\u001b[0m\u001b[0;34m)\u001b[0m\u001b[0;34m\u001b[0m\u001b[0;34m\u001b[0m\u001b[0m\n\u001b[0m",
            "\u001b[0;32m<ipython-input-114-ee23a7a969ba>\u001b[0m in \u001b[0;36mcreate_reverse_indexed_corpus\u001b[0;34m(vk_lang_dict, df_corpus, service, drive_service)\u001b[0m\n\u001b[1;32m     14\u001b[0m       \u001b[0;31m# Regroupement par catégories\u001b[0m\u001b[0;34m\u001b[0m\u001b[0;34m\u001b[0m\u001b[0;34m\u001b[0m\u001b[0m\n\u001b[1;32m     15\u001b[0m       \u001b[0;31m#\u001b[0m\u001b[0;34m\u001b[0m\u001b[0;34m\u001b[0m\u001b[0;34m\u001b[0m\u001b[0m\n\u001b[0;32m---> 16\u001b[0;31m       \u001b[0mdf_temp\u001b[0m \u001b[0;34m=\u001b[0m \u001b[0mcategorise_df\u001b[0m\u001b[0;34m(\u001b[0m\u001b[0mi\u001b[0m\u001b[0;34m,\u001b[0m \u001b[0mdf_temp\u001b[0m\u001b[0;34m)\u001b[0m\u001b[0;34m\u001b[0m\u001b[0;34m\u001b[0m\u001b[0m\n\u001b[0m\u001b[1;32m     17\u001b[0m       \u001b[0;31m#\u001b[0m\u001b[0;34m\u001b[0m\u001b[0;34m\u001b[0m\u001b[0;34m\u001b[0m\u001b[0m\n\u001b[1;32m     18\u001b[0m       \u001b[0;31m# Règles d'indexation spéciales selon les langues (passe #2)\u001b[0m\u001b[0;34m\u001b[0m\u001b[0;34m\u001b[0m\u001b[0;34m\u001b[0m\u001b[0m\n",
            "\u001b[0;32m<ipython-input-113-bc42494a6080>\u001b[0m in \u001b[0;36mcategorise_df\u001b[0;34m(lang, df_temp)\u001b[0m\n\u001b[1;32m     38\u001b[0m \u001b[0;34m\u001b[0m\u001b[0m\n\u001b[1;32m     39\u001b[0m   \u001b[0mdf_temp\u001b[0m\u001b[0;34m[\u001b[0m\u001b[0;34m'index'\u001b[0m\u001b[0;34m]\u001b[0m \u001b[0;34m=\u001b[0m \u001b[0mdf_temp\u001b[0m\u001b[0;34m[\u001b[0m\u001b[0;34m'index'\u001b[0m\u001b[0;34m]\u001b[0m\u001b[0;34m.\u001b[0m\u001b[0mastype\u001b[0m\u001b[0;34m(\u001b[0m\u001b[0;34m\"category\"\u001b[0m\u001b[0;34m)\u001b[0m\u001b[0;34m\u001b[0m\u001b[0;34m\u001b[0m\u001b[0m\n\u001b[0;32m---> 40\u001b[0;31m   \u001b[0mdf_temp\u001b[0m\u001b[0;34m[\u001b[0m\u001b[0;34m'index'\u001b[0m\u001b[0;34m]\u001b[0m\u001b[0;34m.\u001b[0m\u001b[0mcat\u001b[0m\u001b[0;34m.\u001b[0m\u001b[0mset_categories\u001b[0m\u001b[0;34m(\u001b[0m\u001b[0ma\u001b[0m\u001b[0;34m,\u001b[0m \u001b[0minplace\u001b[0m\u001b[0;34m=\u001b[0m\u001b[0;32mTrue\u001b[0m\u001b[0;34m)\u001b[0m\u001b[0;34m\u001b[0m\u001b[0;34m\u001b[0m\u001b[0m\n\u001b[0m\u001b[1;32m     41\u001b[0m   \u001b[0mdf_temp\u001b[0m\u001b[0;34m.\u001b[0m\u001b[0msort_values\u001b[0m\u001b[0;34m(\u001b[0m\u001b[0;34m[\u001b[0m\u001b[0;34m\"index\"\u001b[0m\u001b[0;34m,\u001b[0m \u001b[0mlang\u001b[0m\u001b[0;34m[\u001b[0m\u001b[0;34m'trigramme'\u001b[0m\u001b[0;34m]\u001b[0m\u001b[0;34m]\u001b[0m\u001b[0;34m,\u001b[0m \u001b[0mascending\u001b[0m\u001b[0;34m=\u001b[0m\u001b[0;32mTrue\u001b[0m\u001b[0;34m,\u001b[0m \u001b[0minplace\u001b[0m\u001b[0;34m=\u001b[0m\u001b[0;32mTrue\u001b[0m\u001b[0;34m)\u001b[0m\u001b[0;34m\u001b[0m\u001b[0;34m\u001b[0m\u001b[0m\n\u001b[1;32m     42\u001b[0m   \u001b[0;32mreturn\u001b[0m \u001b[0mdf_temp\u001b[0m\u001b[0;34m\u001b[0m\u001b[0;34m\u001b[0m\u001b[0m\n",
            "\u001b[0;32m/usr/local/lib/python3.7/dist-packages/pandas/core/accessor.py\u001b[0m in \u001b[0;36mf\u001b[0;34m(self, *args, **kwargs)\u001b[0m\n\u001b[1;32m     97\u001b[0m         \u001b[0;32mdef\u001b[0m \u001b[0m_create_delegator_method\u001b[0m\u001b[0;34m(\u001b[0m\u001b[0mname\u001b[0m\u001b[0;34m)\u001b[0m\u001b[0;34m:\u001b[0m\u001b[0;34m\u001b[0m\u001b[0;34m\u001b[0m\u001b[0m\n\u001b[1;32m     98\u001b[0m             \u001b[0;32mdef\u001b[0m \u001b[0mf\u001b[0m\u001b[0;34m(\u001b[0m\u001b[0mself\u001b[0m\u001b[0;34m,\u001b[0m \u001b[0;34m*\u001b[0m\u001b[0margs\u001b[0m\u001b[0;34m,\u001b[0m \u001b[0;34m**\u001b[0m\u001b[0mkwargs\u001b[0m\u001b[0;34m)\u001b[0m\u001b[0;34m:\u001b[0m\u001b[0;34m\u001b[0m\u001b[0;34m\u001b[0m\u001b[0m\n\u001b[0;32m---> 99\u001b[0;31m                 \u001b[0;32mreturn\u001b[0m \u001b[0mself\u001b[0m\u001b[0;34m.\u001b[0m\u001b[0m_delegate_method\u001b[0m\u001b[0;34m(\u001b[0m\u001b[0mname\u001b[0m\u001b[0;34m,\u001b[0m \u001b[0;34m*\u001b[0m\u001b[0margs\u001b[0m\u001b[0;34m,\u001b[0m \u001b[0;34m**\u001b[0m\u001b[0mkwargs\u001b[0m\u001b[0;34m)\u001b[0m\u001b[0;34m\u001b[0m\u001b[0;34m\u001b[0m\u001b[0m\n\u001b[0m\u001b[1;32m    100\u001b[0m \u001b[0;34m\u001b[0m\u001b[0m\n\u001b[1;32m    101\u001b[0m             \u001b[0mf\u001b[0m\u001b[0;34m.\u001b[0m\u001b[0m__name__\u001b[0m \u001b[0;34m=\u001b[0m \u001b[0mname\u001b[0m\u001b[0;34m\u001b[0m\u001b[0;34m\u001b[0m\u001b[0m\n",
            "\u001b[0;32m/usr/local/lib/python3.7/dist-packages/pandas/core/arrays/categorical.py\u001b[0m in \u001b[0;36m_delegate_method\u001b[0;34m(self, name, *args, **kwargs)\u001b[0m\n\u001b[1;32m   2589\u001b[0m \u001b[0;34m\u001b[0m\u001b[0m\n\u001b[1;32m   2590\u001b[0m         \u001b[0mmethod\u001b[0m \u001b[0;34m=\u001b[0m \u001b[0mgetattr\u001b[0m\u001b[0;34m(\u001b[0m\u001b[0mself\u001b[0m\u001b[0;34m.\u001b[0m\u001b[0m_parent\u001b[0m\u001b[0;34m,\u001b[0m \u001b[0mname\u001b[0m\u001b[0;34m)\u001b[0m\u001b[0;34m\u001b[0m\u001b[0;34m\u001b[0m\u001b[0m\n\u001b[0;32m-> 2591\u001b[0;31m         \u001b[0mres\u001b[0m \u001b[0;34m=\u001b[0m \u001b[0mmethod\u001b[0m\u001b[0;34m(\u001b[0m\u001b[0;34m*\u001b[0m\u001b[0margs\u001b[0m\u001b[0;34m,\u001b[0m \u001b[0;34m**\u001b[0m\u001b[0mkwargs\u001b[0m\u001b[0;34m)\u001b[0m\u001b[0;34m\u001b[0m\u001b[0;34m\u001b[0m\u001b[0m\n\u001b[0m\u001b[1;32m   2592\u001b[0m         \u001b[0;32mif\u001b[0m \u001b[0mres\u001b[0m \u001b[0;32mis\u001b[0m \u001b[0;32mnot\u001b[0m \u001b[0;32mNone\u001b[0m\u001b[0;34m:\u001b[0m\u001b[0;34m\u001b[0m\u001b[0;34m\u001b[0m\u001b[0m\n\u001b[1;32m   2593\u001b[0m             \u001b[0;32mreturn\u001b[0m \u001b[0mSeries\u001b[0m\u001b[0;34m(\u001b[0m\u001b[0mres\u001b[0m\u001b[0;34m,\u001b[0m \u001b[0mindex\u001b[0m\u001b[0;34m=\u001b[0m\u001b[0mself\u001b[0m\u001b[0;34m.\u001b[0m\u001b[0m_index\u001b[0m\u001b[0;34m,\u001b[0m \u001b[0mname\u001b[0m\u001b[0;34m=\u001b[0m\u001b[0mself\u001b[0m\u001b[0;34m.\u001b[0m\u001b[0m_name\u001b[0m\u001b[0;34m)\u001b[0m\u001b[0;34m\u001b[0m\u001b[0;34m\u001b[0m\u001b[0m\n",
            "\u001b[0;32m/usr/local/lib/python3.7/dist-packages/pandas/core/arrays/categorical.py\u001b[0m in \u001b[0;36mset_categories\u001b[0;34m(self, new_categories, ordered, rename, inplace)\u001b[0m\n\u001b[1;32m    811\u001b[0m         \u001b[0;32mif\u001b[0m \u001b[0mordered\u001b[0m \u001b[0;32mis\u001b[0m \u001b[0;32mNone\u001b[0m\u001b[0;34m:\u001b[0m\u001b[0;34m\u001b[0m\u001b[0;34m\u001b[0m\u001b[0m\n\u001b[1;32m    812\u001b[0m             \u001b[0mordered\u001b[0m \u001b[0;34m=\u001b[0m \u001b[0mself\u001b[0m\u001b[0;34m.\u001b[0m\u001b[0mdtype\u001b[0m\u001b[0;34m.\u001b[0m\u001b[0mordered\u001b[0m\u001b[0;34m\u001b[0m\u001b[0;34m\u001b[0m\u001b[0m\n\u001b[0;32m--> 813\u001b[0;31m         \u001b[0mnew_dtype\u001b[0m \u001b[0;34m=\u001b[0m \u001b[0mCategoricalDtype\u001b[0m\u001b[0;34m(\u001b[0m\u001b[0mnew_categories\u001b[0m\u001b[0;34m,\u001b[0m \u001b[0mordered\u001b[0m\u001b[0;34m=\u001b[0m\u001b[0mordered\u001b[0m\u001b[0;34m)\u001b[0m\u001b[0;34m\u001b[0m\u001b[0;34m\u001b[0m\u001b[0m\n\u001b[0m\u001b[1;32m    814\u001b[0m \u001b[0;34m\u001b[0m\u001b[0m\n\u001b[1;32m    815\u001b[0m         \u001b[0mcat\u001b[0m \u001b[0;34m=\u001b[0m \u001b[0mself\u001b[0m \u001b[0;32mif\u001b[0m \u001b[0minplace\u001b[0m \u001b[0;32melse\u001b[0m \u001b[0mself\u001b[0m\u001b[0;34m.\u001b[0m\u001b[0mcopy\u001b[0m\u001b[0;34m(\u001b[0m\u001b[0;34m)\u001b[0m\u001b[0;34m\u001b[0m\u001b[0;34m\u001b[0m\u001b[0m\n",
            "\u001b[0;32m/usr/local/lib/python3.7/dist-packages/pandas/core/dtypes/dtypes.py\u001b[0m in \u001b[0;36m__init__\u001b[0;34m(self, categories, ordered)\u001b[0m\n\u001b[1;32m    162\u001b[0m \u001b[0;34m\u001b[0m\u001b[0m\n\u001b[1;32m    163\u001b[0m     \u001b[0;32mdef\u001b[0m \u001b[0m__init__\u001b[0m\u001b[0;34m(\u001b[0m\u001b[0mself\u001b[0m\u001b[0;34m,\u001b[0m \u001b[0mcategories\u001b[0m\u001b[0;34m=\u001b[0m\u001b[0;32mNone\u001b[0m\u001b[0;34m,\u001b[0m \u001b[0mordered\u001b[0m\u001b[0;34m:\u001b[0m \u001b[0mOrdered\u001b[0m \u001b[0;34m=\u001b[0m \u001b[0;32mFalse\u001b[0m\u001b[0;34m)\u001b[0m\u001b[0;34m:\u001b[0m\u001b[0;34m\u001b[0m\u001b[0;34m\u001b[0m\u001b[0m\n\u001b[0;32m--> 164\u001b[0;31m         \u001b[0mself\u001b[0m\u001b[0;34m.\u001b[0m\u001b[0m_finalize\u001b[0m\u001b[0;34m(\u001b[0m\u001b[0mcategories\u001b[0m\u001b[0;34m,\u001b[0m \u001b[0mordered\u001b[0m\u001b[0;34m,\u001b[0m \u001b[0mfastpath\u001b[0m\u001b[0;34m=\u001b[0m\u001b[0;32mFalse\u001b[0m\u001b[0;34m)\u001b[0m\u001b[0;34m\u001b[0m\u001b[0;34m\u001b[0m\u001b[0m\n\u001b[0m\u001b[1;32m    165\u001b[0m \u001b[0;34m\u001b[0m\u001b[0m\n\u001b[1;32m    166\u001b[0m     \u001b[0;34m@\u001b[0m\u001b[0mclassmethod\u001b[0m\u001b[0;34m\u001b[0m\u001b[0;34m\u001b[0m\u001b[0m\n",
            "\u001b[0;32m/usr/local/lib/python3.7/dist-packages/pandas/core/dtypes/dtypes.py\u001b[0m in \u001b[0;36m_finalize\u001b[0;34m(self, categories, ordered, fastpath)\u001b[0m\n\u001b[1;32m    316\u001b[0m \u001b[0;34m\u001b[0m\u001b[0m\n\u001b[1;32m    317\u001b[0m         \u001b[0;32mif\u001b[0m \u001b[0mcategories\u001b[0m \u001b[0;32mis\u001b[0m \u001b[0;32mnot\u001b[0m \u001b[0;32mNone\u001b[0m\u001b[0;34m:\u001b[0m\u001b[0;34m\u001b[0m\u001b[0;34m\u001b[0m\u001b[0m\n\u001b[0;32m--> 318\u001b[0;31m             \u001b[0mcategories\u001b[0m \u001b[0;34m=\u001b[0m \u001b[0mself\u001b[0m\u001b[0;34m.\u001b[0m\u001b[0mvalidate_categories\u001b[0m\u001b[0;34m(\u001b[0m\u001b[0mcategories\u001b[0m\u001b[0;34m,\u001b[0m \u001b[0mfastpath\u001b[0m\u001b[0;34m=\u001b[0m\u001b[0mfastpath\u001b[0m\u001b[0;34m)\u001b[0m\u001b[0;34m\u001b[0m\u001b[0;34m\u001b[0m\u001b[0m\n\u001b[0m\u001b[1;32m    319\u001b[0m \u001b[0;34m\u001b[0m\u001b[0m\n\u001b[1;32m    320\u001b[0m         \u001b[0mself\u001b[0m\u001b[0;34m.\u001b[0m\u001b[0m_categories\u001b[0m \u001b[0;34m=\u001b[0m \u001b[0mcategories\u001b[0m\u001b[0;34m\u001b[0m\u001b[0;34m\u001b[0m\u001b[0m\n",
            "\u001b[0;32m/usr/local/lib/python3.7/dist-packages/pandas/core/dtypes/dtypes.py\u001b[0m in \u001b[0;36mvalidate_categories\u001b[0;34m(categories, fastpath)\u001b[0m\n\u001b[1;32m    493\u001b[0m \u001b[0;34m\u001b[0m\u001b[0m\n\u001b[1;32m    494\u001b[0m             \u001b[0;32mif\u001b[0m \u001b[0;32mnot\u001b[0m \u001b[0mcategories\u001b[0m\u001b[0;34m.\u001b[0m\u001b[0mis_unique\u001b[0m\u001b[0;34m:\u001b[0m\u001b[0;34m\u001b[0m\u001b[0;34m\u001b[0m\u001b[0m\n\u001b[0;32m--> 495\u001b[0;31m                 \u001b[0;32mraise\u001b[0m \u001b[0mValueError\u001b[0m\u001b[0;34m(\u001b[0m\u001b[0;34m\"Categorical categories must be unique\"\u001b[0m\u001b[0;34m)\u001b[0m\u001b[0;34m\u001b[0m\u001b[0;34m\u001b[0m\u001b[0m\n\u001b[0m\u001b[1;32m    496\u001b[0m \u001b[0;34m\u001b[0m\u001b[0m\n\u001b[1;32m    497\u001b[0m         \u001b[0;32mif\u001b[0m \u001b[0misinstance\u001b[0m\u001b[0;34m(\u001b[0m\u001b[0mcategories\u001b[0m\u001b[0;34m,\u001b[0m \u001b[0mABCCategoricalIndex\u001b[0m\u001b[0;34m)\u001b[0m\u001b[0;34m:\u001b[0m\u001b[0;34m\u001b[0m\u001b[0;34m\u001b[0m\u001b[0m\n",
            "\u001b[0;31mValueError\u001b[0m: Categorical categories must be unique"
          ]
        }
      ]
    },
    {
      "cell_type": "code",
      "metadata": {
        "colab": {
          "base_uri": "https://localhost:8080/",
          "height": 179
        },
        "id": "9xb9mkoXSb-V",
        "outputId": "0afcbd8a-ca8a-4cae-aacf-a78e8897ad2e"
      },
      "source": [
        "df_cc_fr.loc[df_cc_fr['uid']=='f80074ba']"
      ],
      "execution_count": null,
      "outputs": [
        {
          "output_type": "execute_result",
          "data": {
            "text/html": [
              "<div>\n",
              "<style scoped>\n",
              "    .dataframe tbody tr th:only-of-type {\n",
              "        vertical-align: middle;\n",
              "    }\n",
              "\n",
              "    .dataframe tbody tr th {\n",
              "        vertical-align: top;\n",
              "    }\n",
              "\n",
              "    .dataframe thead th {\n",
              "        text-align: right;\n",
              "    }\n",
              "</style>\n",
              "<table border=\"1\" class=\"dataframe\">\n",
              "  <thead>\n",
              "    <tr style=\"text-align: right;\">\n",
              "      <th></th>\n",
              "      <th>uid</th>\n",
              "      <th>expression</th>\n",
              "      <th>glossaire</th>\n",
              "      <th>état</th>\n",
              "      <th>date</th>\n",
              "      <th>commentaires</th>\n",
              "      <th>index</th>\n",
              "      <th>ams</th>\n",
              "      <th>eng</th>\n",
              "      <th>tur</th>\n",
              "      <th>rus</th>\n",
              "      <th>ukr</th>\n",
              "      <th>rou</th>\n",
              "      <th>hun</th>\n",
              "      <th>tig</th>\n",
              "      <th>alb</th>\n",
              "      <th>geo</th>\n",
              "      <th>arm</th>\n",
              "      <th>dar</th>\n",
              "      <th>pst</th>\n",
              "      <th>prs</th>\n",
              "      <th>aze</th>\n",
              "      <th>esp</th>\n",
              "      <th>amh</th>\n",
              "      <th>all</th>\n",
              "    </tr>\n",
              "  </thead>\n",
              "  <tbody>\n",
              "    <tr>\n",
              "      <th>100</th>\n",
              "      <td>f80074ba</td>\n",
              "      <td>Méningite</td>\n",
              "      <td>TRUE</td>\n",
              "      <td>validé</td>\n",
              "      <td>07/06/2021</td>\n",
              "      <td></td>\n",
              "      <td>M</td>\n",
              "      <td>التهاب السحايا</td>\n",
              "      <td>Meningitis</td>\n",
              "      <td>Menenjit</td>\n",
              "      <td>Менингит</td>\n",
              "      <td>Менінгіт</td>\n",
              "      <td>Meningită</td>\n",
              "      <td>Meningitisz (agyhártyagyulladás)</td>\n",
              "      <td>ናይ ዓጽሚ ምግታር ሕማም</td>\n",
              "      <td>Meningjiti</td>\n",
              "      <td>მენინგიტი</td>\n",
              "      <td>մենինգիտ</td>\n",
              "      <td></td>\n",
              "      <td></td>\n",
              "      <td></td>\n",
              "      <td></td>\n",
              "      <td>Meningitis</td>\n",
              "      <td></td>\n",
              "      <td></td>\n",
              "    </tr>\n",
              "    <tr>\n",
              "      <th>101</th>\n",
              "      <td>f80074ba</td>\n",
              "      <td>Méningite</td>\n",
              "      <td>TRUE</td>\n",
              "      <td>validé</td>\n",
              "      <td>07/06/2021</td>\n",
              "      <td></td>\n",
              "      <td>M</td>\n",
              "      <td>التهاب السحايا</td>\n",
              "      <td>Meningitis</td>\n",
              "      <td>Menenjit</td>\n",
              "      <td>Менингит</td>\n",
              "      <td>Менінгіт</td>\n",
              "      <td>Meningită</td>\n",
              "      <td>Agyhártyagyulladás</td>\n",
              "      <td>ናይ ዓጽሚ ምግታር ሕማም</td>\n",
              "      <td>Meningjiti</td>\n",
              "      <td>მენინგიტი</td>\n",
              "      <td>մենինգիտ</td>\n",
              "      <td></td>\n",
              "      <td></td>\n",
              "      <td></td>\n",
              "      <td></td>\n",
              "      <td>Meningitis</td>\n",
              "      <td></td>\n",
              "      <td></td>\n",
              "    </tr>\n",
              "  </tbody>\n",
              "</table>\n",
              "</div>"
            ],
            "text/plain": [
              "          uid expression glossaire    état  ... aze         esp amh all\n",
              "100  f80074ba  Méningite      TRUE  validé  ...      Meningitis        \n",
              "101  f80074ba  Méningite      TRUE  validé  ...      Meningitis        \n",
              "\n",
              "[2 rows x 25 columns]"
            ]
          },
          "metadata": {},
          "execution_count": 56
        }
      ]
    },
    {
      "cell_type": "code",
      "metadata": {
        "id": "OjJedp-eaAZL"
      },
      "source": [
        "vk_df_corpus"
      ],
      "execution_count": null,
      "outputs": []
    },
    {
      "cell_type": "markdown",
      "metadata": {
        "id": "MXbrzoS4XDNr"
      },
      "source": [
        ""
      ]
    }
  ]
}