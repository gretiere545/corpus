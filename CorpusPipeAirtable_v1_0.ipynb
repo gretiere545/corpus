{
  "nbformat": 4,
  "nbformat_minor": 0,
  "metadata": {
    "colab": {
      "name": "CorpusPipeAirtable-v1.0.ipynb",
      "provenance": [],
      "collapsed_sections": [],
      "authorship_tag": "ABX9TyMJJ08Ch2vehcJ60LBb95RL",
      "include_colab_link": true
    },
    "kernelspec": {
      "name": "python3",
      "display_name": "Python 3"
    },
    "language_info": {
      "name": "python"
    }
  },
  "cells": [
    {
      "cell_type": "markdown",
      "metadata": {
        "id": "view-in-github",
        "colab_type": "text"
      },
      "source": [
        "<a href=\"https://colab.research.google.com/github/gretiere545/corpus/blob/main/CorpusPipeAirtable_v1_0.ipynb\" target=\"_parent\"><img src=\"https://colab.research.google.com/assets/colab-badge.svg\" alt=\"Open In Colab\"/></a>"
      ]
    },
    {
      "cell_type": "markdown",
      "metadata": {
        "id": "FB29HktrvvBJ"
      },
      "source": [
        "# Corpus Airtable API"
      ]
    },
    {
      "cell_type": "code",
      "metadata": {
        "colab": {
          "base_uri": "https://localhost:8080/"
        },
        "id": "_5CoZ3ORv3Bh",
        "outputId": "d4991b9b-f61e-4ae2-a765-1a64b0a3b234"
      },
      "source": [
        "#!/usr/bin/env python\n",
        "# -*- coding: utf8 -*-\n",
        "!pip install gspread-formatting\n",
        "import pandas as pd\n",
        "import numpy as np\n",
        "import requests\n",
        "import json\n",
        "import uuid\n",
        "pd.set_option(\"display.width\",1000)\n",
        "# Ce bout de code pour pouvoir downloader des fichiers sur le drive\n",
        "from google.colab import drive\n",
        "drive.mount('/content/drive')\n",
        "%cd /content/drive/MyDrive/Trad-Union/Corpus/ASAMLA\n",
        "from google.colab import files\n",
        "\n",
        "# Ce bout de code pour pouvoir downloader des google sheets dans des dataframes\n",
        "from google.colab import auth\n",
        "auth.authenticate_user()\n",
        "import gspread\n",
        "from gspread_dataframe import get_as_dataframe, set_with_dataframe\n",
        "from gspread_formatting import *\n",
        "from oauth2client.client import GoogleCredentials\n",
        "gc = gspread.authorize(GoogleCredentials.get_application_default())\n",
        "!export PYTHONIOENCODING=utf8\n"
      ],
      "execution_count": 69,
      "outputs": [
        {
          "output_type": "stream",
          "name": "stdout",
          "text": [
            "Requirement already satisfied: gspread-formatting in /usr/local/lib/python3.7/dist-packages (1.0.5)\n",
            "Requirement already satisfied: gspread>=3.0.0 in /usr/local/lib/python3.7/dist-packages (from gspread-formatting) (3.4.2)\n",
            "Requirement already satisfied: requests>=2.2.1 in /usr/local/lib/python3.7/dist-packages (from gspread>=3.0.0->gspread-formatting) (2.23.0)\n",
            "Requirement already satisfied: google-auth in /usr/local/lib/python3.7/dist-packages (from gspread>=3.0.0->gspread-formatting) (1.35.0)\n",
            "Requirement already satisfied: certifi>=2017.4.17 in /usr/local/lib/python3.7/dist-packages (from requests>=2.2.1->gspread>=3.0.0->gspread-formatting) (2021.10.8)\n",
            "Requirement already satisfied: chardet<4,>=3.0.2 in /usr/local/lib/python3.7/dist-packages (from requests>=2.2.1->gspread>=3.0.0->gspread-formatting) (3.0.4)\n",
            "Requirement already satisfied: urllib3!=1.25.0,!=1.25.1,<1.26,>=1.21.1 in /usr/local/lib/python3.7/dist-packages (from requests>=2.2.1->gspread>=3.0.0->gspread-formatting) (1.24.3)\n",
            "Requirement already satisfied: idna<3,>=2.5 in /usr/local/lib/python3.7/dist-packages (from requests>=2.2.1->gspread>=3.0.0->gspread-formatting) (2.10)\n",
            "Requirement already satisfied: pyasn1-modules>=0.2.1 in /usr/local/lib/python3.7/dist-packages (from google-auth->gspread>=3.0.0->gspread-formatting) (0.2.8)\n",
            "Requirement already satisfied: six>=1.9.0 in /usr/local/lib/python3.7/dist-packages (from google-auth->gspread>=3.0.0->gspread-formatting) (1.15.0)\n",
            "Requirement already satisfied: cachetools<5.0,>=2.0.0 in /usr/local/lib/python3.7/dist-packages (from google-auth->gspread>=3.0.0->gspread-formatting) (4.2.4)\n",
            "Requirement already satisfied: setuptools>=40.3.0 in /usr/local/lib/python3.7/dist-packages (from google-auth->gspread>=3.0.0->gspread-formatting) (57.4.0)\n",
            "Requirement already satisfied: rsa<5,>=3.1.4 in /usr/local/lib/python3.7/dist-packages (from google-auth->gspread>=3.0.0->gspread-formatting) (4.8)\n",
            "Requirement already satisfied: pyasn1<0.5.0,>=0.4.6 in /usr/local/lib/python3.7/dist-packages (from pyasn1-modules>=0.2.1->google-auth->gspread>=3.0.0->gspread-formatting) (0.4.8)\n",
            "Drive already mounted at /content/drive; to attempt to forcibly remount, call drive.mount(\"/content/drive\", force_remount=True).\n",
            "/content/drive/MyDrive/Trad-Union/Corpus/ASAMLA\n"
          ]
        }
      ]
    },
    {
      "cell_type": "markdown",
      "metadata": {
        "id": "OoQvIFW_zGec"
      },
      "source": [
        ""
      ]
    },
    {
      "cell_type": "code",
      "source": [
        "def get_cc_config(f):\n",
        "  vk = []\n",
        "  try:\n",
        "    with open(f) as vk_f:\n",
        "        vk = json.load(vk_f)\n",
        "  except BaseException as e:\n",
        "    print(e)\n",
        "  return vk\n",
        "\n",
        "def set_cc_config (vk, f):\n",
        "  # sauvegarde du fichier de paramétrage\n",
        "  with open(f, 'w') as fp:\n",
        "      json.dump(vk, fp)  "
      ],
      "metadata": {
        "id": "HkCiMByNk1Me"
      },
      "execution_count": 2,
      "outputs": []
    },
    {
      "cell_type": "code",
      "source": [
        "#\n",
        "# Ouverture de la Sheet Centrale (corpus_central_base)\n",
        "#\n",
        "def get_CCDB_wb(uri):\n",
        "  sheet_central = uri\n",
        "  wb_central = gc.open_by_url(sheet_central)\n",
        "  return wb_central\n",
        "\n",
        "def get_CCDB_data(wb, idx):\n",
        "  t_corpus = wb.get_worksheet(idx)\n",
        "  data_t_corpus = t_corpus.get_all_values()\n",
        "  return data_t_corpus\n",
        "\n",
        "#\n",
        "# DataFrame CC global (toutes les langues)\n",
        "#\n",
        "def get_ccdf_global(CCDB):\n",
        "  return pd.DataFrame(CCDB[1:], columns=CCDB[0])\n",
        "\n",
        "#\n",
        "# DataFrame CC Français (invariable)\n",
        "#\n",
        "def get_ccdf_fr(df_cc):\n",
        "  # on supprime les doublons\n",
        "  return df_cc[['uid','expression','theme','état','date','commentaires','index']].drop_duplicates()"
      ],
      "metadata": {
        "id": "QYUSE6Dek8OA"
      },
      "execution_count": 3,
      "outputs": []
    },
    {
      "cell_type": "code",
      "source": [
        "# Config Langues\n",
        "config_languages = 'med_vac_synthese.json'\n",
        "vk_languages = get_cc_config(config_languages)"
      ],
      "metadata": {
        "id": "4fUMcMSwlDPi"
      },
      "execution_count": 4,
      "outputs": []
    },
    {
      "cell_type": "code",
      "metadata": {
        "id": "ey1jQEaS54Qz"
      },
      "source": [
        "# Ouverture de la Sheet Centrale\n",
        "sheet = 'https://docs.google.com/spreadsheets/d/1j9mtvKJn0Ad3FqxoJXMSKLJOfYTDOhtw3wxXZ4sQAIc'\n",
        "wb  = gc.open_by_url(sheet)"
      ],
      "execution_count": 5,
      "outputs": []
    },
    {
      "cell_type": "code",
      "source": [
        "# Config Corpus (de consolidation)\n",
        "config_corpus_central = \"corpus_central_config.json\"\n",
        "vk_corpus_central = get_cc_config(config_corpus_central)"
      ],
      "metadata": {
        "id": "YJFHaa9clah-"
      },
      "execution_count": 6,
      "outputs": []
    },
    {
      "cell_type": "code",
      "source": [
        "# Base Centrale\n",
        "# on charge l'onglet 1 (français)\n",
        "db_cc_wb = get_CCDB_wb(vk_corpus_central[0][\"uri\"])\n",
        "db_cc = get_CCDB_data (db_cc_wb, 1)\n",
        "df_cc_global = get_ccdf_global(db_cc)\n",
        "df_cc_fr = get_ccdf_fr(df_cc_global)"
      ],
      "metadata": {
        "id": "8LBOpjVJleFb"
      },
      "execution_count": 7,
      "outputs": []
    },
    {
      "cell_type": "markdown",
      "metadata": {
        "id": "ZbXgJiWKBEwY"
      },
      "source": [
        "### Appel de l'API\n",
        "https://towardsdatascience.com/downloading-airtable-data-into-python-89e5c7107a24"
      ]
    },
    {
      "cell_type": "code",
      "metadata": {
        "id": "Mi4zCrC54xR-"
      },
      "source": [
        "params = ()\n",
        "api_key = \"keyrI98TIqu6mbFcf\" \n",
        "api_key_gmail = \"keysgpJWq3aWwqSZe\"\n",
        "headers = {\"Authorization\": \"Bearer \" + api_key}\n",
        "base_id = \"appawT3gg7cJhPYv0\" # Base Nouvelle HV"
      ],
      "execution_count": 8,
      "outputs": []
    },
    {
      "cell_type": "code",
      "metadata": {
        "id": "9yIqVmuF5sLc"
      },
      "source": [
        "def airtable_table_get(uri, params, headers):\n",
        "  airtable_records = []\n",
        "  run = True\n",
        "  while run is True:\n",
        "    response = requests.get(uri, params=params, headers=headers)\n",
        "    airtable_response = response.json()\n",
        "    airtable_records += (airtable_response['records'])\n",
        "    if 'offset' in airtable_response:\n",
        "      run = True\n",
        "      params = (('offset', airtable_response['offset']),)\n",
        "    else:\n",
        "      run = False\n",
        "  return airtable_records"
      ],
      "execution_count": 9,
      "outputs": []
    },
    {
      "cell_type": "markdown",
      "metadata": {
        "id": "Td15VBcoLa2f"
      },
      "source": [
        "# Table Corpus"
      ]
    },
    {
      "cell_type": "code",
      "metadata": {
        "id": "7Vt-ZR-AJlzP"
      },
      "source": [
        "table_name = 'Corpus'\n",
        "url = \"https://api.airtable.com/v0/\" + base_id + \"/\" + table_name\n"
      ],
      "execution_count": 10,
      "outputs": []
    },
    {
      "cell_type": "markdown",
      "metadata": {
        "id": "ViCvTpxuBHoz"
      },
      "source": [
        "### On lit tous les enregistrements, puis on met dans un dataframe"
      ]
    },
    {
      "cell_type": "code",
      "metadata": {
        "id": "l8xZ5LY6MLFl"
      },
      "source": [
        "airtable_records = airtable_table_get(url, params, headers)\n",
        "\n",
        "airtable_rows = [] \n",
        "airtable_index = []\n",
        "for record in airtable_records:\n",
        "  airtable_rows.append(record['fields'])\n",
        "  airtable_index.append(record['id'])\n",
        "df = pd.DataFrame(airtable_rows, index=airtable_index)\n",
        "df = df [['Proposition','UID', 'Name ID', 'DEPENDANCE', 'idx', 'idx_cor','Statut','Thématique']]\n",
        "df.sort_values(by=['Proposition'], ascending=True, inplace=True)"
      ],
      "execution_count": 26,
      "outputs": []
    },
    {
      "cell_type": "code",
      "source": [
        "df.head(10)"
      ],
      "metadata": {
        "colab": {
          "base_uri": "https://localhost:8080/",
          "height": 363
        },
        "id": "6mXBIWjy1qNA",
        "outputId": "388cc63d-ba41-478d-f199-db53935a440a"
      },
      "execution_count": 85,
      "outputs": [
        {
          "output_type": "execute_result",
          "data": {
            "text/html": [
              "\n",
              "  <div id=\"df-f11235ea-3ab4-43db-ab38-3ac6a265d68b\">\n",
              "    <div class=\"colab-df-container\">\n",
              "      <div>\n",
              "<style scoped>\n",
              "    .dataframe tbody tr th:only-of-type {\n",
              "        vertical-align: middle;\n",
              "    }\n",
              "\n",
              "    .dataframe tbody tr th {\n",
              "        vertical-align: top;\n",
              "    }\n",
              "\n",
              "    .dataframe thead th {\n",
              "        text-align: right;\n",
              "    }\n",
              "</style>\n",
              "<table border=\"1\" class=\"dataframe\">\n",
              "  <thead>\n",
              "    <tr style=\"text-align: right;\">\n",
              "      <th></th>\n",
              "      <th>Proposition</th>\n",
              "      <th>UID</th>\n",
              "      <th>Name ID</th>\n",
              "      <th>DEPENDANCE</th>\n",
              "      <th>idx</th>\n",
              "      <th>idx_cor</th>\n",
              "      <th>Statut</th>\n",
              "      <th>Thématique</th>\n",
              "    </tr>\n",
              "  </thead>\n",
              "  <tbody>\n",
              "    <tr>\n",
              "      <th>recKbPHqDTXNPwYK0</th>\n",
              "      <td>A jeun</td>\n",
              "      <td>f397cda1</td>\n",
              "      <td>recKbPHqDTXNPwYK0</td>\n",
              "      <td>NaN</td>\n",
              "      <td>J</td>\n",
              "      <td>A</td>\n",
              "      <td>NaN</td>\n",
              "      <td>Vaccination</td>\n",
              "    </tr>\n",
              "    <tr>\n",
              "      <th>rec1qTnfWxjhx6SBl</th>\n",
              "      <td>AME - Aide médicale d'État</td>\n",
              "      <td>f49563a9</td>\n",
              "      <td>rec1qTnfWxjhx6SBl</td>\n",
              "      <td>NaN</td>\n",
              "      <td>A</td>\n",
              "      <td>A</td>\n",
              "      <td>NaN</td>\n",
              "      <td>Vaccination</td>\n",
              "    </tr>\n",
              "    <tr>\n",
              "      <th>rec0HgtD22F7TWM3W</th>\n",
              "      <td>Abcès</td>\n",
              "      <td>6e65dde7</td>\n",
              "      <td>rec0HgtD22F7TWM3W</td>\n",
              "      <td>NaN</td>\n",
              "      <td>A</td>\n",
              "      <td>A</td>\n",
              "      <td>NaN</td>\n",
              "      <td>Médecine générale</td>\n",
              "    </tr>\n",
              "    <tr>\n",
              "      <th>recGaRQGjV5qN3QBN</th>\n",
              "      <td>Accident</td>\n",
              "      <td>30579682</td>\n",
              "      <td>recGaRQGjV5qN3QBN</td>\n",
              "      <td>NaN</td>\n",
              "      <td>A</td>\n",
              "      <td>A</td>\n",
              "      <td>NaN</td>\n",
              "      <td>Vaccination</td>\n",
              "    </tr>\n",
              "    <tr>\n",
              "      <th>rec3MxDq67MC982ng</th>\n",
              "      <td>Accident cérébral</td>\n",
              "      <td>6f214e4c</td>\n",
              "      <td>rec3MxDq67MC982ng</td>\n",
              "      <td>[recGaRQGjV5qN3QBN]</td>\n",
              "      <td>A</td>\n",
              "      <td>A</td>\n",
              "      <td>NaN</td>\n",
              "      <td>Vaccination</td>\n",
              "    </tr>\n",
              "    <tr>\n",
              "      <th>reciexfGbNKvXzQg8</th>\n",
              "      <td>Alcool</td>\n",
              "      <td>7d1adba2</td>\n",
              "      <td>reciexfGbNKvXzQg8</td>\n",
              "      <td>NaN</td>\n",
              "      <td>A</td>\n",
              "      <td>7d1adba2</td>\n",
              "      <td>NaN</td>\n",
              "      <td>Médecine générale</td>\n",
              "    </tr>\n",
              "    <tr>\n",
              "      <th>recfY4uKkgK8Jp8GO</th>\n",
              "      <td>Allergie</td>\n",
              "      <td>8b195cf4</td>\n",
              "      <td>recfY4uKkgK8Jp8GO</td>\n",
              "      <td>NaN</td>\n",
              "      <td>A</td>\n",
              "      <td>A</td>\n",
              "      <td>NaN</td>\n",
              "      <td>Vaccination</td>\n",
              "    </tr>\n",
              "    <tr>\n",
              "      <th>recSKSrXVLhDfMq6w</th>\n",
              "      <td>Allergie alimentaire</td>\n",
              "      <td>f754eebf</td>\n",
              "      <td>recSKSrXVLhDfMq6w</td>\n",
              "      <td>[recfY4uKkgK8Jp8GO]</td>\n",
              "      <td>A</td>\n",
              "      <td>A</td>\n",
              "      <td>NaN</td>\n",
              "      <td>Vaccination</td>\n",
              "    </tr>\n",
              "    <tr>\n",
              "      <th>rectthHdPchXi1zr9</th>\n",
              "      <td>Allergie médicamenteuse</td>\n",
              "      <td>7256c169</td>\n",
              "      <td>rectthHdPchXi1zr9</td>\n",
              "      <td>[recfY4uKkgK8Jp8GO, recOivQOmeragygVr]</td>\n",
              "      <td>A</td>\n",
              "      <td>A</td>\n",
              "      <td>NaN</td>\n",
              "      <td>Vaccination</td>\n",
              "    </tr>\n",
              "    <tr>\n",
              "      <th>recHNzXfvWWm0Lwp8</th>\n",
              "      <td>Allergie à un médicament</td>\n",
              "      <td>316fa7ab</td>\n",
              "      <td>recHNzXfvWWm0Lwp8</td>\n",
              "      <td>[recfY4uKkgK8Jp8GO, recOivQOmeragygVr]</td>\n",
              "      <td>A</td>\n",
              "      <td>A</td>\n",
              "      <td>NaN</td>\n",
              "      <td>Vaccination</td>\n",
              "    </tr>\n",
              "  </tbody>\n",
              "</table>\n",
              "</div>\n",
              "      <button class=\"colab-df-convert\" onclick=\"convertToInteractive('df-f11235ea-3ab4-43db-ab38-3ac6a265d68b')\"\n",
              "              title=\"Convert this dataframe to an interactive table.\"\n",
              "              style=\"display:none;\">\n",
              "        \n",
              "  <svg xmlns=\"http://www.w3.org/2000/svg\" height=\"24px\"viewBox=\"0 0 24 24\"\n",
              "       width=\"24px\">\n",
              "    <path d=\"M0 0h24v24H0V0z\" fill=\"none\"/>\n",
              "    <path d=\"M18.56 5.44l.94 2.06.94-2.06 2.06-.94-2.06-.94-.94-2.06-.94 2.06-2.06.94zm-11 1L8.5 8.5l.94-2.06 2.06-.94-2.06-.94L8.5 2.5l-.94 2.06-2.06.94zm10 10l.94 2.06.94-2.06 2.06-.94-2.06-.94-.94-2.06-.94 2.06-2.06.94z\"/><path d=\"M17.41 7.96l-1.37-1.37c-.4-.4-.92-.59-1.43-.59-.52 0-1.04.2-1.43.59L10.3 9.45l-7.72 7.72c-.78.78-.78 2.05 0 2.83L4 21.41c.39.39.9.59 1.41.59.51 0 1.02-.2 1.41-.59l7.78-7.78 2.81-2.81c.8-.78.8-2.07 0-2.86zM5.41 20L4 18.59l7.72-7.72 1.47 1.35L5.41 20z\"/>\n",
              "  </svg>\n",
              "      </button>\n",
              "      \n",
              "  <style>\n",
              "    .colab-df-container {\n",
              "      display:flex;\n",
              "      flex-wrap:wrap;\n",
              "      gap: 12px;\n",
              "    }\n",
              "\n",
              "    .colab-df-convert {\n",
              "      background-color: #E8F0FE;\n",
              "      border: none;\n",
              "      border-radius: 50%;\n",
              "      cursor: pointer;\n",
              "      display: none;\n",
              "      fill: #1967D2;\n",
              "      height: 32px;\n",
              "      padding: 0 0 0 0;\n",
              "      width: 32px;\n",
              "    }\n",
              "\n",
              "    .colab-df-convert:hover {\n",
              "      background-color: #E2EBFA;\n",
              "      box-shadow: 0px 1px 2px rgba(60, 64, 67, 0.3), 0px 1px 3px 1px rgba(60, 64, 67, 0.15);\n",
              "      fill: #174EA6;\n",
              "    }\n",
              "\n",
              "    [theme=dark] .colab-df-convert {\n",
              "      background-color: #3B4455;\n",
              "      fill: #D2E3FC;\n",
              "    }\n",
              "\n",
              "    [theme=dark] .colab-df-convert:hover {\n",
              "      background-color: #434B5C;\n",
              "      box-shadow: 0px 1px 3px 1px rgba(0, 0, 0, 0.15);\n",
              "      filter: drop-shadow(0px 1px 2px rgba(0, 0, 0, 0.3));\n",
              "      fill: #FFFFFF;\n",
              "    }\n",
              "  </style>\n",
              "\n",
              "      <script>\n",
              "        const buttonEl =\n",
              "          document.querySelector('#df-f11235ea-3ab4-43db-ab38-3ac6a265d68b button.colab-df-convert');\n",
              "        buttonEl.style.display =\n",
              "          google.colab.kernel.accessAllowed ? 'block' : 'none';\n",
              "\n",
              "        async function convertToInteractive(key) {\n",
              "          const element = document.querySelector('#df-f11235ea-3ab4-43db-ab38-3ac6a265d68b');\n",
              "          const dataTable =\n",
              "            await google.colab.kernel.invokeFunction('convertToInteractive',\n",
              "                                                     [key], {});\n",
              "          if (!dataTable) return;\n",
              "\n",
              "          const docLinkHtml = 'Like what you see? Visit the ' +\n",
              "            '<a target=\"_blank\" href=https://colab.research.google.com/notebooks/data_table.ipynb>data table notebook</a>'\n",
              "            + ' to learn more about interactive tables.';\n",
              "          element.innerHTML = '';\n",
              "          dataTable['output_type'] = 'display_data';\n",
              "          await google.colab.output.renderOutput(dataTable, element);\n",
              "          const docLink = document.createElement('div');\n",
              "          docLink.innerHTML = docLinkHtml;\n",
              "          element.appendChild(docLink);\n",
              "        }\n",
              "      </script>\n",
              "    </div>\n",
              "  </div>\n",
              "  "
            ],
            "text/plain": [
              "                                  Proposition  ...         Thématique\n",
              "recKbPHqDTXNPwYK0                      A jeun  ...        Vaccination\n",
              "rec1qTnfWxjhx6SBl  AME - Aide médicale d'État  ...        Vaccination\n",
              "rec0HgtD22F7TWM3W                       Abcès  ...  Médecine générale\n",
              "recGaRQGjV5qN3QBN                    Accident  ...        Vaccination\n",
              "rec3MxDq67MC982ng           Accident cérébral  ...        Vaccination\n",
              "reciexfGbNKvXzQg8                      Alcool  ...  Médecine générale\n",
              "recfY4uKkgK8Jp8GO                    Allergie  ...        Vaccination\n",
              "recSKSrXVLhDfMq6w        Allergie alimentaire  ...        Vaccination\n",
              "rectthHdPchXi1zr9     Allergie médicamenteuse  ...        Vaccination\n",
              "recHNzXfvWWm0Lwp8    Allergie à un médicament  ...        Vaccination\n",
              "\n",
              "[10 rows x 8 columns]"
            ]
          },
          "metadata": {},
          "execution_count": 85
        }
      ]
    },
    {
      "cell_type": "code",
      "source": [
        "def make_unique_id():\n",
        "  return str(uuid.uuid4())[:8]"
      ],
      "metadata": {
        "id": "sfN2zOKd0DPr"
      },
      "execution_count": 74,
      "outputs": []
    },
    {
      "cell_type": "code",
      "source": [
        "def lookup_uid (uid):\n",
        "  try:\n",
        "    record = df_cc_fr.loc[df_cc_fr[\"uid\"]==uid][\"index\"].item()\n",
        "  except Exception as e:\n",
        "    print (str(uid) + \" : Not found\")\n",
        "    return uid\n",
        "  if record is not None:\n",
        "    return record"
      ],
      "metadata": {
        "id": "BxowEm56s5S7"
      },
      "execution_count": 86,
      "outputs": []
    },
    {
      "cell_type": "code",
      "source": [
        "x = df_cc_fr.loc[df_cc_fr[\"uid\"]==\"d3dba8e4\"][\"index\"].item()"
      ],
      "metadata": {
        "id": "Up-l6grOtVx0"
      },
      "execution_count": 61,
      "outputs": []
    },
    {
      "cell_type": "code",
      "source": [
        "df['UID'] = df['UID'].apply(lambda x: make_unique_id() if pd.isna(x) else x)\n",
        "df.idx_cor = df['UID'].apply(lambda x: lookup_uid(x))"
      ],
      "metadata": {
        "id": "ezaiOPYlx9Mg"
      },
      "execution_count": null,
      "outputs": []
    },
    {
      "cell_type": "code",
      "metadata": {
        "id": "ZDtjJZDO-REI"
      },
      "source": [
        "def fmt_table(wb, nom_onglet):\n",
        "  # onglet\n",
        "  ws = wb.worksheet(nom_onglet)\n",
        "\n",
        "  # Format de la partie gauche\n",
        "  fmt = cellFormat(\n",
        "      backgroundColor=color(0.91, 0.96, 0.93),\n",
        "      textFormat=textFormat(bold=False, foregroundColor=color(0,0,0), fontSize='10'),\n",
        "      horizontalAlignment='LEFT'\n",
        "      )\n",
        "  format_cell_range(ws, 'A:', fmt)\n",
        "\n",
        "  # format de l'entete\n",
        "  fmt = cellFormat(\n",
        "      backgroundColor=color(0.7725,0.8431,0.7922),\n",
        "      textFormat=textFormat(bold=True, foregroundColor=color(0,0,0), fontSize='10'),\n",
        "      horizontalAlignment='LEFT'\n",
        "      )\n",
        "  format_cell_range(ws, '1', fmt)\n",
        "  \n",
        "  # format de l'auto wrap\n",
        "  fmt = cellFormat(\n",
        "      wrapStrategy='WRAP'\n",
        "      )\n",
        "  format_cell_range(ws, 'B:C', fmt)\n",
        "\n",
        "  # on gèle l'entete et les colonnes de gauche\n",
        "  set_frozen(ws, rows=1, cols=1)\n",
        "  set_column_width(ws, 'A:C', 500)\n"
      ],
      "execution_count": 77,
      "outputs": []
    },
    {
      "cell_type": "code",
      "metadata": {
        "id": "CsC901Jt9y3L"
      },
      "source": [
        "nom_onglet = 'Liste'\n",
        "# si l'onglet existe déjà\n",
        "try:\n",
        "  ws = wb.worksheet(nom_onglet)\n",
        "  wb.del_worksheet(ws)\n",
        "except:\n",
        "  print (\"Onglet inexistant !\")\n",
        "\n",
        "wb.add_worksheet(nom_onglet, 1, 1)\n",
        "export_sheet = wb.worksheet(nom_onglet)\n",
        "set_with_dataframe(export_sheet, df)\n",
        "fmt_table(wb,nom_onglet)\n"
      ],
      "execution_count": null,
      "outputs": []
    },
    {
      "cell_type": "code",
      "metadata": {
        "id": "UKh-k1rvN46E"
      },
      "source": [
        "table_name = 'Structure'\n",
        "url = \"https://api.airtable.com/v0/\" + base_id + \"/\" + table_name"
      ],
      "execution_count": null,
      "outputs": []
    },
    {
      "cell_type": "code",
      "metadata": {
        "id": "TEUOFK-KVDV5",
        "colab": {
          "base_uri": "https://localhost:8080/",
          "height": 297
        },
        "outputId": "78664522-8f30-4092-f0c9-622ba77be86c"
      },
      "source": [
        "df"
      ],
      "execution_count": null,
      "outputs": [
        {
          "output_type": "execute_result",
          "data": {
            "text/html": [
              "<div>\n",
              "<style scoped>\n",
              "    .dataframe tbody tr th:only-of-type {\n",
              "        vertical-align: middle;\n",
              "    }\n",
              "\n",
              "    .dataframe tbody tr th {\n",
              "        vertical-align: top;\n",
              "    }\n",
              "\n",
              "    .dataframe thead th {\n",
              "        text-align: right;\n",
              "    }\n",
              "</style>\n",
              "<table border=\"1\" class=\"dataframe\">\n",
              "  <thead>\n",
              "    <tr style=\"text-align: right;\">\n",
              "      <th></th>\n",
              "      <th>Name</th>\n",
              "      <th>Situation de départ</th>\n",
              "      <th>Notes</th>\n",
              "    </tr>\n",
              "  </thead>\n",
              "  <tbody>\n",
              "    <tr>\n",
              "      <th>recnI80hvydv71fs4</th>\n",
              "      <td>0.Conception</td>\n",
              "      <td>Plus on possède, plus on est soi-même possédé....</td>\n",
              "      <td>Trouver le plaisir d’écrire. Partir d’idées, d...</td>\n",
              "    </tr>\n",
              "    <tr>\n",
              "      <th>recI2pgkNq2iP52rm</th>\n",
              "      <td>1.Situation initiale</td>\n",
              "      <td>Un jour d'été où il pleut et fait un temps abo...</td>\n",
              "      <td>Une vengeance d'une femme éconduite lors d'un ...</td>\n",
              "    </tr>\n",
              "    <tr>\n",
              "      <th>recb2DqhB9GvfI12n</th>\n",
              "      <td>2.Personnage</td>\n",
              "      <td>Un homme (marié ?) qui a donné rendez-vous à u...</td>\n",
              "      <td>Un Dom Juan sûr de son charme et imbu de sa pe...</td>\n",
              "    </tr>\n",
              "    <tr>\n",
              "      <th>recNLdU01JpCnvknJ</th>\n",
              "      <td>3.Acte déclencheur</td>\n",
              "      <td>La femme lui propose un jeu. Elle est dans le ...</td>\n",
              "      <td>NaN</td>\n",
              "    </tr>\n",
              "    <tr>\n",
              "      <th>recRxZVhpSPD6oQXx</th>\n",
              "      <td>4.Réaction</td>\n",
              "      <td>L'homme est d'abord tenté de partir car il est...</td>\n",
              "      <td>NaN</td>\n",
              "    </tr>\n",
              "    <tr>\n",
              "      <th>recRr06fOM4hGGaLY</th>\n",
              "      <td>5.Péripéties</td>\n",
              "      <td>Pendant la visite (ennuyeuse), l'homme tente d...</td>\n",
              "      <td>NaN</td>\n",
              "    </tr>\n",
              "    <tr>\n",
              "      <th>recvWnAYn9VNySVlB</th>\n",
              "      <td>6.Chute</td>\n",
              "      <td>Un spectacle où une partie du public est appel...</td>\n",
              "      <td>NaN</td>\n",
              "    </tr>\n",
              "    <tr>\n",
              "      <th>recDmZtMMNmiy7R0M</th>\n",
              "      <td>Récit</td>\n",
              "      <td>NaN</td>\n",
              "      <td>NaN</td>\n",
              "    </tr>\n",
              "  </tbody>\n",
              "</table>\n",
              "</div>"
            ],
            "text/plain": [
              "                                   Name  ...                                              Notes\n",
              "recnI80hvydv71fs4          0.Conception  ...  Trouver le plaisir d’écrire. Partir d’idées, d...\n",
              "recI2pgkNq2iP52rm  1.Situation initiale  ...  Une vengeance d'une femme éconduite lors d'un ...\n",
              "recb2DqhB9GvfI12n          2.Personnage  ...  Un Dom Juan sûr de son charme et imbu de sa pe...\n",
              "recNLdU01JpCnvknJ    3.Acte déclencheur  ...                                                NaN\n",
              "recRxZVhpSPD6oQXx            4.Réaction  ...                                                NaN\n",
              "recRr06fOM4hGGaLY          5.Péripéties  ...                                                NaN\n",
              "recvWnAYn9VNySVlB               6.Chute  ...                                                NaN\n",
              "recDmZtMMNmiy7R0M                 Récit  ...                                                NaN\n",
              "\n",
              "[8 rows x 3 columns]"
            ]
          },
          "metadata": {},
          "execution_count": 11
        }
      ]
    },
    {
      "cell_type": "code",
      "metadata": {
        "id": "TISNw9MItvH6"
      },
      "source": [
        ""
      ],
      "execution_count": null,
      "outputs": []
    }
  ]
}