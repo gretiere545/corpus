{
  "nbformat": 4,
  "nbformat_minor": 0,
  "metadata": {
    "colab": {
      "name": "corpus_maker_pdf_advanced.ipynb",
      "provenance": [],
      "collapsed_sections": [],
      "authorship_tag": "ABX9TyOBas8FalpeFvxQc/Lx6s9F",
      "include_colab_link": true
    },
    "kernelspec": {
      "name": "python3",
      "display_name": "Python 3"
    },
    "language_info": {
      "name": "python"
    }
  },
  "cells": [
    {
      "cell_type": "markdown",
      "metadata": {
        "id": "view-in-github",
        "colab_type": "text"
      },
      "source": [
        "<a href=\"https://colab.research.google.com/github/gretiere545/corpus/blob/main/corpus_maker_pdf_advanced.ipynb\" target=\"_parent\"><img src=\"https://colab.research.google.com/assets/colab-badge.svg\" alt=\"Open In Colab\"/></a>"
      ]
    },
    {
      "cell_type": "markdown",
      "metadata": {
        "id": "FB29HktrvvBJ"
      },
      "source": [
        "# Création d'un PDF avec index alphabétique FR->LANGUE et LANGUE->FR"
      ]
    },
    {
      "cell_type": "markdown",
      "metadata": {
        "id": "7P--WKJPv0Px"
      },
      "source": [
        "## Chargement des Corpus"
      ]
    },
    {
      "cell_type": "code",
      "metadata": {
        "id": "_5CoZ3ORv3Bh",
        "colab": {
          "base_uri": "https://localhost:8080/"
        },
        "outputId": "1257d7a3-45ff-461c-8412-6dd1e31ff1ce"
      },
      "source": [
        "#!/usr/bin/env python\n",
        "# -*- coding: utf8 -*-\n",
        "!export PYTHONIOENCODING=utf8\n",
        "\n",
        "!pip install colorama\n",
        "!pip install fpdf\n",
        "!pip install arabic_reshaper\n",
        "!pip install pdf2image\n",
        "!apt-get install poppler-utils \n",
        "\n",
        "# https://pyfpdfbook.wordpress.com/2015/03/22/putting-two-adjacent-multicell-blocks/\n",
        "import os\n",
        "import pandas as pd\n",
        "import numpy as np\n",
        "import json\n",
        "from fpdf import FPDF\n",
        "import arabic_reshaper\n",
        "\n",
        "from colorama import init\n",
        "init(autoreset=True)\n",
        "from colorama import Fore, Back, Style\n",
        "pd.set_option(\"display.width\",1000)\n",
        "# Ce bout de code pour pouvoir downloader des fichiers sur le drive\n",
        "from google.colab import drive\n",
        "drive.mount('/content/drive')\n",
        "from google.colab import files\n",
        "\n",
        "# Ce bout de code pour pouvoir downloader des google sheets dans des dataframes\n",
        "from google.colab import auth\n",
        "auth.authenticate_user()\n",
        "import gspread\n",
        "from gspread_dataframe import get_as_dataframe, set_with_dataframe\n",
        "from oauth2client.client import GoogleCredentials\n",
        "gc = gspread.authorize(GoogleCredentials.get_application_default())\n",
        "\n",
        "from pdf2image import convert_from_path, convert_from_bytes\n",
        "from pdf2image.exceptions import (\n",
        "    PDFInfoNotInstalledError,\n",
        "    PDFPageCountError,\n",
        "    PDFSyntaxError\n",
        ")\n",
        "\n",
        "%cd /content/drive/MyDrive/Trad-Union/Corpus/ASAMLA\n",
        "import config\n",
        "\n"
      ],
      "execution_count": null,
      "outputs": [
        {
          "output_type": "stream",
          "name": "stdout",
          "text": [
            "Collecting colorama\n",
            "  Downloading colorama-0.4.4-py2.py3-none-any.whl (16 kB)\n",
            "Installing collected packages: colorama\n",
            "Successfully installed colorama-0.4.4\n",
            "Collecting fpdf\n",
            "  Downloading fpdf-1.7.2.tar.gz (39 kB)\n",
            "Building wheels for collected packages: fpdf\n",
            "  Building wheel for fpdf (setup.py) ... \u001b[?25l\u001b[?25hdone\n",
            "  Created wheel for fpdf: filename=fpdf-1.7.2-py2.py3-none-any.whl size=40722 sha256=167cfb42a5c6d73c599238dce3d6a0312bf2579f6deed43ca1e4cb5845671ad6\n",
            "  Stored in directory: /root/.cache/pip/wheels/d7/ca/c8/86467e7957bbbcbdf4cf4870fc7dc95e9a16404b2e3c3a98c3\n",
            "Successfully built fpdf\n",
            "Installing collected packages: fpdf\n",
            "Successfully installed fpdf-1.7.2\n",
            "Collecting arabic_reshaper\n",
            "  Downloading arabic_reshaper-2.1.3-py3-none-any.whl (20 kB)\n",
            "Requirement already satisfied: future in /usr/local/lib/python3.7/dist-packages (from arabic_reshaper) (0.16.0)\n",
            "Requirement already satisfied: setuptools in /usr/local/lib/python3.7/dist-packages (from arabic_reshaper) (57.4.0)\n",
            "Installing collected packages: arabic-reshaper\n",
            "Successfully installed arabic-reshaper-2.1.3\n",
            "Collecting pdf2image\n",
            "  Downloading pdf2image-1.16.0-py3-none-any.whl (10 kB)\n",
            "Requirement already satisfied: pillow in /usr/local/lib/python3.7/dist-packages (from pdf2image) (7.1.2)\n",
            "Installing collected packages: pdf2image\n",
            "Successfully installed pdf2image-1.16.0\n",
            "Reading package lists... Done\n",
            "Building dependency tree       \n",
            "Reading state information... Done\n",
            "The following NEW packages will be installed:\n",
            "  poppler-utils\n",
            "0 upgraded, 1 newly installed, 0 to remove and 37 not upgraded.\n",
            "Need to get 154 kB of archives.\n",
            "After this operation, 613 kB of additional disk space will be used.\n",
            "Get:1 http://archive.ubuntu.com/ubuntu bionic-updates/main amd64 poppler-utils amd64 0.62.0-2ubuntu2.12 [154 kB]\n",
            "Fetched 154 kB in 1s (234 kB/s)\n",
            "Selecting previously unselected package poppler-utils.\n",
            "(Reading database ... 155222 files and directories currently installed.)\n",
            "Preparing to unpack .../poppler-utils_0.62.0-2ubuntu2.12_amd64.deb ...\n",
            "Unpacking poppler-utils (0.62.0-2ubuntu2.12) ...\n",
            "Setting up poppler-utils (0.62.0-2ubuntu2.12) ...\n",
            "Processing triggers for man-db (2.8.3-2ubuntu0.1) ...\n",
            "Mounted at /content/drive\n",
            "/content/drive/MyDrive/Trad-Union/Corpus/ASAMLA\n"
          ]
        }
      ]
    },
    {
      "cell_type": "code",
      "metadata": {
        "colab": {
          "resources": {
            "http://localhost:8080/nbextensions/google.colab/files.js": {
              "data": "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",
              "ok": true,
              "headers": [
                [
                  "content-type",
                  "application/javascript"
                ]
              ],
              "status": 200,
              "status_text": ""
            }
          },
          "base_uri": "https://localhost:8080/",
          "height": 38
        },
        "id": "ar47sk9YkK0h",
        "outputId": "60f93148-34f2-426c-84cf-d64919ff5401"
      },
      "source": [
        "bebas = files.upload()"
      ],
      "execution_count": null,
      "outputs": [
        {
          "output_type": "display_data",
          "data": {
            "text/html": [
              "\n",
              "     <input type=\"file\" id=\"files-483a800c-8a8d-4752-92db-96a60236c6f5\" name=\"files[]\" multiple disabled\n",
              "        style=\"border:none\" />\n",
              "     <output id=\"result-483a800c-8a8d-4752-92db-96a60236c6f5\">\n",
              "      Upload widget is only available when the cell has been executed in the\n",
              "      current browser session. Please rerun this cell to enable.\n",
              "      </output>\n",
              "      <script src=\"/nbextensions/google.colab/files.js\"></script> "
            ],
            "text/plain": [
              "<IPython.core.display.HTML object>"
            ]
          },
          "metadata": {}
        }
      ]
    },
    {
      "cell_type": "code",
      "metadata": {
        "colab": {
          "base_uri": "https://localhost:8080/"
        },
        "id": "5IP_yMP2B6z6",
        "outputId": "6e7ccd6d-8cba-40a5-e2f7-df03aacda616"
      },
      "source": [
        "!ls /usr/share/fonts/truetype/noto/"
      ],
      "execution_count": null,
      "outputs": [
        {
          "output_type": "stream",
          "name": "stdout",
          "text": [
            "NotoKufiArabic-Bold.ttf\t\t\t   NotoSansNewTaiLue-Regular.ttf\n",
            "NotoKufiArabic-Regular.ttf\t\t   NotoSansNKo-Regular.ttf\n",
            "NotoMono-Regular.ttf\t\t\t   NotoSansOgham-Regular.ttf\n",
            "NotoNaskhArabic-Bold.ttf\t\t   NotoSansOlChiki-Regular.ttf\n",
            "NotoNaskhArabic-Regular.ttf\t\t   NotoSansOldItalic-Regular.ttf\n",
            "NotoNaskhArabicUI-Bold.ttf\t\t   NotoSansOldPersian-Regular.ttf\n",
            "NotoNaskhArabicUI-Regular.ttf\t\t   NotoSansOldSouthArabian-Regular.ttf\n",
            "NotoNastaliqUrdu-Regular.ttf\t\t   NotoSansOldTurkic-Regular.ttf\n",
            "NotoSansAdlam-Regular.ttf\t\t   NotoSansOriya-Bold.ttf\n",
            "NotoSansAdlamUnjoined-Regular.ttf\t   NotoSansOriya-Regular.ttf\n",
            "NotoSansAnatolianHieroglyphs-Regular.ttf   NotoSansOriyaUI-Bold.ttf\n",
            "NotoSansArabic-Bold.ttf\t\t\t   NotoSansOriyaUI-Regular.ttf\n",
            "NotoSansArabic-Regular.ttf\t\t   NotoSansOsage-Regular.ttf\n",
            "NotoSansArabicUI-Bold.ttf\t\t   NotoSansOsmanya-Regular.ttf\n",
            "NotoSansArabicUI-Regular.ttf\t\t   NotoSansPhagsPa-Regular.ttf\n",
            "NotoSansArmenian-Bold.ttf\t\t   NotoSansPhoenician-Regular.ttf\n",
            "NotoSansArmenian-Regular.ttf\t\t   NotoSans-Regular.ttf\n",
            "NotoSansAvestan-Regular.ttf\t\t   NotoSansRejang-Regular.ttf\n",
            "NotoSansBalinese-Regular.ttf\t\t   NotoSansRunic-Regular.ttf\n",
            "NotoSansBamum-Regular.ttf\t\t   NotoSansSamaritan-Regular.ttf\n",
            "NotoSansBatak-Regular.ttf\t\t   NotoSansSaurashtra-Regular.ttf\n",
            "NotoSansBengali-Bold.ttf\t\t   NotoSansShavian-Regular.ttf\n",
            "NotoSansBengali-Regular.ttf\t\t   NotoSansSinhala-Bold.ttf\n",
            "NotoSansBengaliUI-Bold.ttf\t\t   NotoSansSinhala-Regular.ttf\n",
            "NotoSansBengaliUI-Regular.ttf\t\t   NotoSansSinhalaUI-Bold.ttf\n",
            "NotoSans-BoldItalic.ttf\t\t\t   NotoSansSinhalaUI-Regular.ttf\n",
            "NotoSans-Bold.ttf\t\t\t   NotoSansSundanese-Regular.ttf\n",
            "NotoSansBrahmi-Regular.ttf\t\t   NotoSansSylotiNagri-Regular.ttf\n",
            "NotoSansBuginese-Regular.ttf\t\t   NotoSansSymbols2-Regular.ttf\n",
            "NotoSansBuhid-Regular.ttf\t\t   NotoSansSymbols-Bold.ttf\n",
            "NotoSansCanadianAboriginal-Regular.ttf\t   NotoSansSymbols-Regular.ttf\n",
            "NotoSansCarian-Regular.ttf\t\t   NotoSansSyriacEastern-Regular.ttf\n",
            "NotoSansChakma-Regular.ttf\t\t   NotoSansSyriacEstrangela-Regular.ttf\n",
            "NotoSansCham-Bold.ttf\t\t\t   NotoSansSyriacWestern-Regular.ttf\n",
            "NotoSansCham-Regular.ttf\t\t   NotoSansTagalog-Regular.ttf\n",
            "NotoSansCherokee-Bold.ttf\t\t   NotoSansTagbanwa-Regular.ttf\n",
            "NotoSansCherokee-Regular.ttf\t\t   NotoSansTaiLe-Regular.ttf\n",
            "NotoSansCoptic-Regular.ttf\t\t   NotoSansTaiTham-Regular.ttf\n",
            "NotoSansCuneiform-Regular.ttf\t\t   NotoSansTaiViet-Regular.ttf\n",
            "NotoSansCypriot-Regular.ttf\t\t   NotoSansTamil-Bold.ttf\n",
            "NotoSansDeseret-Regular.ttf\t\t   NotoSansTamil-Regular.ttf\n",
            "NotoSansDevanagari-Bold.ttf\t\t   NotoSansTamilUI-Bold.ttf\n",
            "NotoSansDevanagari-Regular.ttf\t\t   NotoSansTamilUI-Regular.ttf\n",
            "NotoSansDevanagariUI-Bold.ttf\t\t   NotoSansTelugu-Bold.ttf\n",
            "NotoSansDevanagariUI-Regular.ttf\t   NotoSansTelugu-Regular.ttf\n",
            "NotoSansDisplay-BoldItalic.ttf\t\t   NotoSansTeluguUI-Bold.ttf\n",
            "NotoSansDisplay-Bold.ttf\t\t   NotoSansTeluguUI-Regular.ttf\n",
            "NotoSansDisplay-Italic.ttf\t\t   NotoSansThaana-Bold.ttf\n",
            "NotoSansDisplay-Regular.ttf\t\t   NotoSansThaana-Regular.ttf\n",
            "NotoSansEgyptianHieroglyphs-Regular.ttf    NotoSansThai-Bold.ttf\n",
            "NotoSansEthiopic-Bold.ttf\t\t   NotoSansThai-Regular.ttf\n",
            "NotoSansEthiopic-Regular.ttf\t\t   NotoSansThaiUI-Bold.ttf\n",
            "NotoSansGeorgian-Bold.ttf\t\t   NotoSansThaiUI-Regular.ttf\n",
            "NotoSansGeorgian-Regular.ttf\t\t   NotoSansTibetan-Bold.ttf\n",
            "NotoSansGlagolitic-Regular.ttf\t\t   NotoSansTibetan-Regular.ttf\n",
            "NotoSansGothic-Regular.ttf\t\t   NotoSansTifinagh-Regular.ttf\n",
            "NotoSansGujarati-Bold.ttf\t\t   NotoSansUgaritic-Regular.ttf\n",
            "NotoSansGujarati-Regular.ttf\t\t   NotoSansVai-Regular.ttf\n",
            "NotoSansGujaratiUI-Bold.ttf\t\t   NotoSansYi-Regular.ttf\n",
            "NotoSansGujaratiUI-Regular.ttf\t\t   NotoSerifArmenian-Bold.pkl\n",
            "NotoSansGurmukhi-Bold.ttf\t\t   NotoSerifArmenian-Bold.ttf\n",
            "NotoSansGurmukhi-Regular.ttf\t\t   NotoSerifArmenian-Regular.pkl\n",
            "NotoSansGurmukhiUI-Bold.ttf\t\t   NotoSerifArmenian-Regular.ttf\n",
            "NotoSansGurmukhiUI-Regular.ttf\t\t   NotoSerifBengali-Bold.ttf\n",
            "NotoSansHanunoo-Regular.ttf\t\t   NotoSerifBengali-Regular.ttf\n",
            "NotoSansHebrew-Bold.ttf\t\t\t   NotoSerif-Bold.cw127.pkl\n",
            "NotoSansHebrew-Regular.ttf\t\t   NotoSerif-BoldItalic.ttf\n",
            "NotoSansImperialAramaic-Regular.ttf\t   NotoSerif-Bold.pkl\n",
            "NotoSansInscriptionalPahlavi-Regular.ttf   NotoSerif-Bold.ttf\n",
            "NotoSansInscriptionalParthian-Regular.ttf  NotoSerifDevanagari-Bold.ttf\n",
            "NotoSans-Italic.ttf\t\t\t   NotoSerifDevanagari-Regular.ttf\n",
            "NotoSansJavanese-Regular.ttf\t\t   NotoSerifDisplay-BoldItalic.ttf\n",
            "NotoSansKaithi-Regular.ttf\t\t   NotoSerifDisplay-Bold.ttf\n",
            "NotoSansKannada-Bold.ttf\t\t   NotoSerifDisplay-Italic.ttf\n",
            "NotoSansKannada-Regular.ttf\t\t   NotoSerifDisplay-Regular.ttf\n",
            "NotoSansKannadaUI-Bold.ttf\t\t   NotoSerifEthiopic-Bold.ttf\n",
            "NotoSansKannadaUI-Regular.ttf\t\t   NotoSerifEthiopic-Regular.ttf\n",
            "NotoSansKayahLi-Regular.ttf\t\t   NotoSerifGeorgian-Bold.ttf\n",
            "NotoSansKharoshthi-Regular.ttf\t\t   NotoSerifGeorgian-Regular.ttf\n",
            "NotoSansKhmer-Bold.ttf\t\t\t   NotoSerifGujarati-Bold.ttf\n",
            "NotoSansKhmer-Regular.ttf\t\t   NotoSerifGujarati-Regular.ttf\n",
            "NotoSansKhmerUI-Bold.ttf\t\t   NotoSerifHebrew-Bold.ttf\n",
            "NotoSansKhmerUI-Regular.ttf\t\t   NotoSerifHebrew-Regular.ttf\n",
            "NotoSansLao-Bold.ttf\t\t\t   NotoSerif-Italic.ttf\n",
            "NotoSansLao-Regular.ttf\t\t\t   NotoSerifKannada-Bold.ttf\n",
            "NotoSansLaoUI-Bold.ttf\t\t\t   NotoSerifKannada-Regular.ttf\n",
            "NotoSansLaoUI-Regular.ttf\t\t   NotoSerifKhmer-Bold.ttf\n",
            "NotoSansLepcha-Regular.ttf\t\t   NotoSerifKhmer-Regular.ttf\n",
            "NotoSansLimbu-Regular.ttf\t\t   NotoSerifLao-Bold.ttf\n",
            "NotoSansLinearB-Regular.ttf\t\t   NotoSerifLao-Regular.ttf\n",
            "NotoSansLisu-Regular.ttf\t\t   NotoSerifMalayalam-Bold.ttf\n",
            "NotoSansLycian-Regular.ttf\t\t   NotoSerifMalayalam-Regular.ttf\n",
            "NotoSansLydian-Regular.ttf\t\t   NotoSerifMyanmar-Bold.ttf\n",
            "NotoSansMalayalam-Bold.ttf\t\t   NotoSerifMyanmar-Regular.ttf\n",
            "NotoSansMalayalam-Regular.ttf\t\t   NotoSerif-Regular.cw127.pkl\n",
            "NotoSansMalayalamUI-Bold.ttf\t\t   NotoSerif-Regular.pkl\n",
            "NotoSansMalayalamUI-Regular.ttf\t\t   NotoSerif-Regular.ttf\n",
            "NotoSansMandaic-Regular.ttf\t\t   NotoSerifSinhala-Bold.ttf\n",
            "NotoSansMeeteiMayek-Regular.ttf\t\t   NotoSerifSinhala-Regular.ttf\n",
            "NotoSansMongolian-Regular.ttf\t\t   NotoSerifTamil-Bold.ttf\n",
            "NotoSansMono-Bold.ttf\t\t\t   NotoSerifTamil-Regular.ttf\n",
            "NotoSansMono-Regular.ttf\t\t   NotoSerifTelugu-Bold.ttf\n",
            "NotoSansMyanmar-Bold.ttf\t\t   NotoSerifTelugu-Regular.ttf\n",
            "NotoSansMyanmar-Regular.ttf\t\t   NotoSerifThai-Bold.ttf\n",
            "NotoSansMyanmarUI-Bold.ttf\t\t   NotoSerifThai-Regular.ttf\n",
            "NotoSansMyanmarUI-Regular.ttf\n"
          ]
        }
      ]
    },
    {
      "cell_type": "code",
      "metadata": {
        "id": "hEnhLKd-xgY8",
        "colab": {
          "base_uri": "https://localhost:8080/"
        },
        "outputId": "53f8e65f-ae8a-446a-8959-dc332064ec9f"
      },
      "source": [
        "# !ls /usr/share/fonts/truetype/noto/\n",
        "# cyrillique\n",
        "!apt-get update -qq\n",
        "!apt-get install -y fonts-dejavu-core -qq\n",
        "\n",
        "# amharique\n",
        "!apt-get update\n",
        "!apt-get install fonts-noto\n",
        "\n",
        "\n"
      ],
      "execution_count": null,
      "outputs": [
        {
          "output_type": "stream",
          "name": "stdout",
          "text": [
            "Selecting previously unselected package fonts-dejavu-core.\n",
            "(Reading database ... 155250 files and directories currently installed.)\n",
            "Preparing to unpack .../fonts-dejavu-core_2.37-1_all.deb ...\n",
            "Unpacking fonts-dejavu-core (2.37-1) ...\n",
            "Setting up fonts-dejavu-core (2.37-1) ...\n",
            "Processing triggers for fontconfig (2.12.6-0ubuntu2) ...\n",
            "Hit:1 https://cloud.r-project.org/bin/linux/ubuntu bionic-cran40/ InRelease\n",
            "Ign:2 https://developer.download.nvidia.com/compute/cuda/repos/ubuntu1804/x86_64  InRelease\n",
            "Hit:3 http://ppa.launchpad.net/c2d4u.team/c2d4u4.0+/ubuntu bionic InRelease\n",
            "Ign:4 https://developer.download.nvidia.com/compute/machine-learning/repos/ubuntu1804/x86_64  InRelease\n",
            "Hit:5 https://developer.download.nvidia.com/compute/cuda/repos/ubuntu1804/x86_64  Release\n",
            "Hit:6 https://developer.download.nvidia.com/compute/machine-learning/repos/ubuntu1804/x86_64  Release\n",
            "Hit:7 http://archive.ubuntu.com/ubuntu bionic InRelease\n",
            "Hit:8 http://security.ubuntu.com/ubuntu bionic-security InRelease\n",
            "Hit:9 http://archive.ubuntu.com/ubuntu bionic-updates InRelease\n",
            "Hit:10 http://ppa.launchpad.net/cran/libgit2/ubuntu bionic InRelease\n",
            "Hit:11 http://archive.ubuntu.com/ubuntu bionic-backports InRelease\n",
            "Hit:12 http://ppa.launchpad.net/deadsnakes/ppa/ubuntu bionic InRelease\n",
            "Hit:14 http://ppa.launchpad.net/graphics-drivers/ppa/ubuntu bionic InRelease\n",
            "Reading package lists... Done\n",
            "Reading package lists... Done\n",
            "Building dependency tree       \n",
            "Reading state information... Done\n",
            "The following additional packages will be installed:\n",
            "  fonts-noto-cjk fonts-noto-hinted fonts-noto-mono fonts-noto-unhinted\n",
            "Suggested packages:\n",
            "  fonts-noto-cjk-extra\n",
            "The following NEW packages will be installed:\n",
            "  fonts-noto fonts-noto-cjk fonts-noto-hinted fonts-noto-mono\n",
            "  fonts-noto-unhinted\n",
            "0 upgraded, 5 newly installed, 0 to remove and 39 not upgraded.\n",
            "Need to get 64.0 MB of archives.\n",
            "After this operation, 123 MB of additional disk space will be used.\n",
            "Get:1 http://archive.ubuntu.com/ubuntu bionic/universe amd64 fonts-noto-hinted all 20171026-2 [6,653 kB]\n",
            "Get:2 http://archive.ubuntu.com/ubuntu bionic/universe amd64 fonts-noto all 20171026-2 [4,136 B]\n",
            "Get:3 http://archive.ubuntu.com/ubuntu bionic-updates/main amd64 fonts-noto-cjk all 1:20190409+repack1-0ubuntu0.18.04 [55.7 MB]\n",
            "Get:4 http://archive.ubuntu.com/ubuntu bionic/main amd64 fonts-noto-mono all 20171026-2 [75.5 kB]\n",
            "Get:5 http://archive.ubuntu.com/ubuntu bionic/universe amd64 fonts-noto-unhinted all 20171026-2 [1,576 kB]\n",
            "Fetched 64.0 MB in 4s (17.3 MB/s)\n",
            "Selecting previously unselected package fonts-noto-hinted.\n",
            "(Reading database ... 155290 files and directories currently installed.)\n",
            "Preparing to unpack .../fonts-noto-hinted_20171026-2_all.deb ...\n",
            "Unpacking fonts-noto-hinted (20171026-2) ...\n",
            "Selecting previously unselected package fonts-noto.\n",
            "Preparing to unpack .../fonts-noto_20171026-2_all.deb ...\n",
            "Unpacking fonts-noto (20171026-2) ...\n",
            "Selecting previously unselected package fonts-noto-cjk.\n",
            "Preparing to unpack .../fonts-noto-cjk_1%3a20190409+repack1-0ubuntu0.18.04_all.deb ...\n",
            "Unpacking fonts-noto-cjk (1:20190409+repack1-0ubuntu0.18.04) ...\n",
            "Selecting previously unselected package fonts-noto-mono.\n",
            "Preparing to unpack .../fonts-noto-mono_20171026-2_all.deb ...\n",
            "Unpacking fonts-noto-mono (20171026-2) ...\n",
            "Selecting previously unselected package fonts-noto-unhinted.\n",
            "Preparing to unpack .../fonts-noto-unhinted_20171026-2_all.deb ...\n",
            "Unpacking fonts-noto-unhinted (20171026-2) ...\n",
            "Setting up fonts-noto-unhinted (20171026-2) ...\n",
            "Setting up fonts-noto-cjk (1:20190409+repack1-0ubuntu0.18.04) ...\n",
            "Setting up fonts-noto-mono (20171026-2) ...\n",
            "Setting up fonts-noto-hinted (20171026-2) ...\n",
            "Setting up fonts-noto (20171026-2) ...\n",
            "Processing triggers for fontconfig (2.12.6-0ubuntu2) ...\n"
          ]
        }
      ]
    },
    {
      "cell_type": "markdown",
      "metadata": {
        "id": "OoQvIFW_zGec"
      },
      "source": [
        ""
      ]
    },
    {
      "cell_type": "code",
      "metadata": {
        "id": "V9VTdnGTIgeA"
      },
      "source": [
        "json_file = 'med_vac_synthese.json'\n",
        "try:\n",
        "  with open(json_file) as vk_dict:\n",
        "      vk_lang_dict = json.load(vk_dict)\n",
        "except BaseException as e:\n",
        "  print(e)\n",
        "  uri=\"null\"\n",
        "[{'alphabet': 'اآٱأإبتثجحخدذرزسشصضطظعغفقكلمنهةوؤيئىء',\n",
        "  'credits': 'Sonia ZARROUK, Wafa TAHRI',\n",
        "  'font-family': 'DejaVuSans',\n",
        "  'font-family-bold': 'DejaVuSans-Bold',\n",
        "  'glossary-subtitle': 'عربي فرنسي',\n",
        "  'idx': 1,\n",
        "  'language': 'Arabe',\n",
        "  'text-direction': 'rtl',\n",
        "  'trigramme': 'ams',\n",
        "  'update': 'false',\n",
        "  'uri': '1I9IE54wrNPISuMjkd8gH1TxUnsHIe7b-FLdkttlod-0'},\n",
        " {'alphabet': 'AaBbCcDdEeFfGgHhIiJjKkLlMmNnOoPpQqRrSsTtUuVvWwXxYyZz',\n",
        "  'credits': 'Khalida BENHEDDER',\n",
        "  'font-family': 'NotoSerif-Regular',\n",
        "  'font-family-bold': 'NotoSerif-Bold',\n",
        "  'glossary-subtitle': 'English-French',\n",
        "  'idx': 2,\n",
        "  'language': 'Anglais',\n",
        "  'text-direction': 'ltr',\n",
        "  'trigramme': 'eng',\n",
        "  'update': 'false',\n",
        "  'uri': '1J_7MmpfL0XA5oGPbkkKfGxAWV72ygygDfgtZ1kbPKLM'},\n",
        " {'alphabet': 'AaÂâBbCcÇçDdEeFfGgĞğHhIıİiÎîJjKkLlMmNnOoÖöPpRrSsŞşTtUuÜüÛûVvYyZz',\n",
        "  'credits': 'Gülseren AKKOÇ',\n",
        "  'font-family': 'NotoSerif-Regular',\n",
        "  'font-family-bold': 'NotoSerif-Bold',\n",
        "  'glossary-subtitle': 'Türkçe-Fransizca',\n",
        "  'idx': 3,\n",
        "  'language': 'Turc',\n",
        "  'text-direction': 'ltr',\n",
        "  'trigramme': 'tur',\n",
        "  'update': 'false',\n",
        "  'uri': '14X-AXegFcqZa2AjXpzCl58X3j2-f0aT0Hm2HOcJERz8'},\n",
        " {'alphabet': 'АаБбВвГгДдЕеЁёЖжЗзИиЙйКкЛлМмНнОоПпРрСсТтУуФфХхЦцЧчШшЩщЪъЫыЬьЭэЮюЯя',\n",
        "  'credits': 'Natalia SAVELIEVA',\n",
        "  'font-family': 'NotoSerif-Regular',\n",
        "  'font-family-bold': 'NotoSerif-Bold',\n",
        "  'glossary-subtitle': 'Русско-французский',\n",
        "  'idx': 4,\n",
        "  'language': 'Russe',\n",
        "  'text-direction': 'ltr',\n",
        "  'trigramme': 'rus',\n",
        "  'update': 'false',\n",
        "  'uri': '1xAH-y0HBnrKJmnn585ep9TQJ4sFk1-kbLvKwYLBOZsc'},\n",
        " {'alphabet': 'АаБбВвГгҐґДдЕеЄєЖжЗзИиІіЇїЙйКкЛлМмНнОоПпРрСсТтУуФфХхЦцЧчШшЩщЮюЯя',\n",
        "  'credits': 'Natalia SAVELIEVA',\n",
        "  'font-family': 'NotoSerif-Regular',\n",
        "  'font-family-bold': 'NotoSerif-Bold',\n",
        "  'glossary-subtitle': 'Українсько-французька',\n",
        "  'idx': 5,\n",
        "  'language': 'Ukrainien',\n",
        "  'text-direction': 'ltr',\n",
        "  'trigramme': 'ukr',\n",
        "  'update': 'false',\n",
        "  'uri': '12IJN9hfSkb7SOFCOe1qJeLxuYP2Xon4D7nyskLXLTL8'},\n",
        " {'alphabet': 'AaĂăÂâBbCcDdEeFfGgHhIiÎîJjKkLlMmNnOoPpQqRrSsȘșTtȚțUuVvWwXxYyZz',\n",
        "  'credits': 'Annamaria LOCSE, Alexandra DEACONESCU, Ramona MIHAILOV',\n",
        "  'font-family': 'NotoSerif-Regular',\n",
        "  'font-family-bold': 'NotoSerif-Bold',\n",
        "  'glossary-subtitle': 'ROMÂNĂ-FRANCEZĂ',\n",
        "  'idx': 6,\n",
        "  'language': 'Roumain',\n",
        "  'text-direction': 'ltr',\n",
        "  'trigramme': 'rou',\n",
        "  'update': 'false',\n",
        "  'uri': '1oEViAVWiMuz5hm652RT5yUQzYXbDfP_NYy8ejybzKL8'},\n",
        " {'alphabet': 'Aa-Áá-Bb-Cc-Cscs-Dd-Ee-Éé-Ff-Gg-Gygy-Hh-Ii-Íí-Jj-Kk-Ll-Lyly-Mm-Nn-Oo-Óó-Öö-Őő-Pp-Qq-Rr-Ss-Szsz-Tt-Tyty-Uu-Úú-Üü-Űű-Vv-Ww-Xx-Yy-Zz-Zszs',\n",
        "  'credits': 'Annamaria LOCSE',\n",
        "  'font-family': 'NotoSerif-Regular',\n",
        "  'font-family-bold': 'NotoSerif-Bold',\n",
        "  'glossary-subtitle': 'Magyar-Francia',\n",
        "  'idx': 7,\n",
        "  'language': 'Hongrois',\n",
        "  'text-direction': 'ltr',\n",
        "  'trigramme': 'hun',\n",
        "  'update': 'false',\n",
        "  'uri': '1Bt7oWQ0ezkpN7MGFST0q9kjnjXwGD2PxRoXWd3DoAJs'},\n",
        " {'alphabet': 'ሀሁሂሃሄህሆለሉሊላሌልሎሏሐሑሒሓሔሕሖሗመሙሚማሜምሞሟሠሡሢሣሤሥሦሧረሩሪራሬርሮሯሰሱሲሳሴስሶሷሸሹሺሻሼሽሾሿቀቁቂቃቄቅቆቇቐቑቒቓቔቕቖበቡቢባቤብቦቧቨቩቪቫቬቭቮቯተቱቲታቴትቶቷቸቹቺቻቼችቾቿኀኁኂኃኄኅኆኇነኑኒናኔንኖኗኘኙኚኛኜኝኞኟአኡኣኤእኦኧከኩኪካኬክኮኯኸኹኺኻኼኽኾወዉዊዋዌውዎዐዑዒዓዔዕዖዘዙዚዛዜዝዞዟዠዡዢዣዤዥዦዧየዩዪያዬይዮዯደዱዲዳዴድዶዷዸዹዺዻዼዽዾዿጀጁጂጃጄጅጆጇገጉጊጋጌግጎጏጘጙጚጛጜጝጞጟጠጡጢጣጤጥጦጧጨጩጪጫጬጭጮጯጰጱጲጳጴጵጶጷጸጹጺጻጼጽጾጿፀፁፂፃፄፅፆፇፈፉፊፋፌፍፎፏፐፑፒፓፔፕፖፗቈቊቋቌቍቘቚቛቜቝኈኊኋኌኍኰኲኳኴኵዀዂዃዄዅጐጒጓጔጕ',\n",
        "  'credits': 'Rozina ASMERON, Yirgalem TEKLABE',\n",
        "  'font-family': 'jiret',\n",
        "  'font-family-bold': 'jiret',\n",
        "  'glossary-subtitle': '',\n",
        "  'idx': 8,\n",
        "  'language': 'Tigrinya',\n",
        "  'text-direction': 'ltr',\n",
        "  'trigramme': 'tig',\n",
        "  'update': 'false',\n",
        "  'uri': '1I8GWi4Gha2y8JoyCkxc6koaVMHi4ICgM1aLyYtLboTM'},\n",
        " {'alphabet': 'Aa-Bb-Cc-Çç-Dd-Dhdh-Ee-Ëë-Ff-Gg-Gjgj-Hh-Ii-Jj-Kk-Ll-Llll-Mm-Nn-Njnj-Oo-Pp-Qq-Rr-Rrrr-Ss-Shsh-Tt-Thth-Uu-Vv-Ww-Xx-Xhxh-Yy-Zz-Zhzh',\n",
        "  'credits': 'Xhemshit ALITI',\n",
        "  'font-family': 'NotoSerif-Regular',\n",
        "  'font-family-bold': 'NotoSerif-Bold',\n",
        "  'glossary-subtitle': '',\n",
        "  'idx': 9,\n",
        "  'language': 'Albanais',\n",
        "  'text-direction': 'ltr',\n",
        "  'trigramme': 'alb',\n",
        "  'update': 'false',\n",
        "  'uri': '1vxizSvKqVmwV-slaaxiqH3iJWh-Rv11ex4gBIheZQVY'},\n",
        " {'alphabet': 'ᲐᲑᲒᲓᲔᲕᲖᲗᲘᲙᲚᲛᲜᲝᲞᲟᲠᲡᲢᲣᲤᲥᲦᲧᲨᲩᲪᲫᲬᲭᲮᲯᲰ',\n",
        "  'credits': 'Nina PRIMAKOFF',\n",
        "  'font-family': 'arial_geo',\n",
        "  'font-family-bold': 'arial_geo-bold',\n",
        "  'glossary-subtitle': 'ქართულ-ფრანგული ლექსიკა',\n",
        "  'idx': 10,\n",
        "  'language': 'Géorgien',\n",
        "  'text-direction': 'ltr',\n",
        "  'trigramme': 'geo',\n",
        "  'update': 'false',\n",
        "  'uri': '1Skn4FisSTeB38LASGqzZBJEhfapgF1L1du_n0eFahrc'},\n",
        " {'alphabet': 'ԱաԲբԳգԴդԵեԶզԷէԸըԹթԺժԻիԼլԽխԾծԿկՀհՁձՂղՃճՄմՅյՆնՇշՈոՉչՊպՋջՌռՍսՎվՏտՐրՑցՒւՓփՔքՕօՖֆև',\n",
        "  'credits': 'Nuné DZHALALYAN',\n",
        "  'font-family': 'NotoSerifArmenian-Regular',\n",
        "  'font-family-bold': 'NotoSerifArmenian-Bold',\n",
        "  'glossary-subtitle': '',\n",
        "  'idx': 11,\n",
        "  'language': 'Arménien',\n",
        "  'text-direction': 'ltr',\n",
        "  'trigramme': 'arm',\n",
        "  'update': 'false',\n",
        "  'uri': '1OiXWye9fIDa2dNUPFRO4bluMKJjhLXRddf5urD3HkQo'},\n",
        " {'alphabet': 'اآبپتثجچحخدذرزژسشصضطظعغفقکگلمنوهی',\n",
        "  'credits': 'Massouda HEMATYAR',\n",
        "  'font-family': 'DejaVuSans',\n",
        "  'font-family-bold': 'DejaVuSans-Bold',\n",
        "  'glossary-subtitle': 'دری-فرانسوی',\n",
        "  'idx': 12,\n",
        "  'language': 'Dari',\n",
        "  'text-direction': 'rtl',\n",
        "  'trigramme': 'dar',\n",
        "  'update': 'false',\n",
        "  'uri': '1FVAwC7nEUHvAuLADQYP3QniZ-zHOC4HNcz9aFHX8Blk'},\n",
        " {'alphabet': '',\n",
        "  'credits': 'Massouda HEMATYAR',\n",
        "  'font-family': 'DejaVuSans',\n",
        "  'font-family-bold': 'DejaVuSans-Bold',\n",
        "  'glossary-subtitle': '',\n",
        "  'idx': 13,\n",
        "  'language': 'Pashto',\n",
        "  'text-direction': 'rtl',\n",
        "  'trigramme': 'pst',\n",
        "  'update': 'false',\n",
        "  'uri': '1bosenbp72MR4AHSV3Gr2_oPDTLx3aN5j8-TFxvlcvw8'},\n",
        " {'alphabet': '',\n",
        "  'credits': 'Massouda HEMATYAR',\n",
        "  'font-family': 'DejaVuSans',\n",
        "  'font-family-bold': 'DejaVuSans-Bold',\n",
        "  'glossary-subtitle': '',\n",
        "  'idx': 14,\n",
        "  'language': 'Fârsi',\n",
        "  'text-direction': 'rtl',\n",
        "  'trigramme': 'prs',\n",
        "  'update': 'false',\n",
        "  'uri': '1fPSwSkWuJxJ14qNud-6GspJkXSO9Jt6JN7z4sGZ97O4'},\n",
        " {'alphabet': '',\n",
        "  'credits': '',\n",
        "  'font-family': 'NotoSerif-Regular',\n",
        "  'font-family-bold': 'NotoSerif-Bold',\n",
        "  'glossary-subtitle': '',\n",
        "  'idx': 15,\n",
        "  'language': 'Azéri',\n",
        "  'text-direction': 'ltr',\n",
        "  'trigramme': 'aze',\n",
        "  'update': 'false',\n",
        "  'uri': '12Vi1xBdjzyGF81HxLH0fI5jWoYJ9WXccLMWkBlvdK_s'},\n",
        " {'alphabet': 'AaÁáBbCcDdEeÉéFfGgHhIiÍíJjKkLlMmNnÑñOoÓóPpQqRrSsTtUuÚúÜüVvWwXxYyZz',\n",
        "  'credits': 'Chloé SMALL',\n",
        "  'font-family': 'NotoSerif-Regular',\n",
        "  'font-family-bold': 'NotoSerif-Bold',\n",
        "  'glossary-subtitle': 'Español-Francés',\n",
        "  'idx': 16,\n",
        "  'language': 'Espagnol',\n",
        "  'text-direction': 'ltr',\n",
        "  'trigramme': 'esp',\n",
        "  'update': 'false',\n",
        "  'uri': '1aN8U67exH7rOQARAuB_3jd8GeGg--HP3dRNTcz3swMs'},\n",
        " {'alphabet': '',\n",
        "  'credits': '',\n",
        "  'font-family': 'NotoSerif-Regular',\n",
        "  'font-family-bold': 'NotoSerif-Bold',\n",
        "  'glossary-subtitle': '',\n",
        "  'idx': 17,\n",
        "  'language': 'Amharique',\n",
        "  'text-direction': 'ltr',\n",
        "  'trigramme': 'amh',\n",
        "  'update': 'false',\n",
        "  'uri': '1yDORswN8PYGUyGReiiTTgXUINFvBGFZl9Mob5KUd8kE'},\n",
        " {'alphabet': 'AaÄäBbCcDdEeFfGgHhIiJjKkLlMmNnOoÖöPpQqRrSsẞßTtUuÜüVvWwXxYyZz',\n",
        "  'credits': 'Canan SIMSEK',\n",
        "  'font-family': 'NotoSerif-Regular',\n",
        "  'font-family-bold': 'NotoSerif-Bold',\n",
        "  'glossary-subtitle': '',\n",
        "  'idx': 18,\n",
        "  'language': 'Allemand',\n",
        "  'text-direction': 'ltr',\n",
        "  'trigramme': 'all',\n",
        "  'update': 'false',\n",
        "  'uri': '1xDz6SGVUZfqWSFwdx4jXYhjCmxSxnzFRv9Vxn6YL7sY'}]"
      ],
      "execution_count": null,
      "outputs": []
    },
    {
      "cell_type": "code",
      "metadata": {
        "id": "PPnTtiOOJn9o"
      },
      "source": [
        "vk_lang_dict"
      ],
      "execution_count": null,
      "outputs": []
    },
    {
      "cell_type": "code",
      "metadata": {
        "id": "dY0JSsVrha5U"
      },
      "source": [
        "def rtl_arabic (s, pdf):\n",
        "    arabic_string = arabic_reshaper.reshape(s)\n",
        "    arabic_string = arabic_string[::-1]\n",
        "    w = pdf.get_string_width(arabic_string) + 6\n",
        "    # problème d'inversion des parenthèses\n",
        "    arabic_string = arabic_string.replace('(', '§')\n",
        "    arabic_string = arabic_string.replace(')', '(')    \n",
        "    arabic_string = arabic_string.replace('§', ')')\n",
        "    return arabic_string"
      ],
      "execution_count": null,
      "outputs": []
    },
    {
      "cell_type": "code",
      "metadata": {
        "id": "8PJQGKgywRGt"
      },
      "source": [
        "version = \"2.4.8\"\n",
        "debug = True"
      ],
      "execution_count": null,
      "outputs": []
    },
    {
      "cell_type": "code",
      "metadata": {
        "id": "FUgIUmRlNIvI"
      },
      "source": [
        "vk_color_theme=[\n",
        "{'name':'Abstract vector geometric pattern. Symmetrical layout. Illustration eps 10.','color_1':'128, 191, 162','color_2':'137, 166, 93','color_3':'217, 184, 85','color_4':'217, 170, 85','color_5':'242, 242, 242'},\n",
        "{'name':'color theme_IMG_2040','color_1':'220, 118, 70','color_2':'243, 161, 75','color_3':'147, 173, 164','color_4':'191, 219, 207','color_5':'234, 223, 201'},               \n",
        "{'name':'Water textured background. Calm sea ripples','color_1':'3, 140, 140','color_2':'3, 166, 166','color_3':'3, 127, 140','color_4':'217, 170, 85','color_5':'242, 242, 242'},\n",
        "{'name':'Pink and blue abstract paper background from a curved sheet.','color_1':'217, 119, 173','color_2':'102, 127, 109','color_3':'208, 217, 242','color_4':'121, 150, 132','color_5':'217, 187, 169'},\n",
        "{'name':'Sort of blue','color_1':'255, 255, 255','color_2':'81, 129, 140','color_3':'47, 89, 115','color_4':'133, 166, 162','color_5':'60, 60, 255'},\n",
        "{'name':'asamla','color_1':'255, 255, 255','color_2':'166, 3, 33','color_3':'174, 186, 191','color_4':'242, 188, 27','color_5':'242, 140, 15','color_6':'242, 48, 5'},\n",
        "{'name':'Healthcare background with medical symbols in hexagonal frame','color_1':'255, 255, 255','color_2':'4, 173, 191','color_3':'167, 235, 242','color_4':'4, 191, 191','color_5':' 3, 166, 150','color_6':'4, 191, 157'},\n",
        "{'name':'healthcare background with medical symbols in hexagonal frame','color_1':'242, 242, 242','color_2':'122, 191, 179','color_3':' 149, 191, 184','color_4':'39, 140, 11','color_5':'88, 166, 144','color_6':'166, 3, 33'}\n",
        "\n",
        "]\n",
        "\n",
        "# img = \"26363.jpg\"\n",
        "# credits <a href='https://fr.freepik.com/vecteurs/fond'>Fond vecteur créé par starline - fr.freepik.com</a>"
      ],
      "execution_count": null,
      "outputs": []
    },
    {
      "cell_type": "code",
      "metadata": {
        "colab": {
          "base_uri": "https://localhost:8080/"
        },
        "id": "IHsyxES-OHy6",
        "outputId": "527d3d74-abde-4913-aa7d-0b50d53d42fd"
      },
      "source": [
        "vk_color_theme[1]['name']\n",
        "tuple(map(int, vk_color_theme[1]['color_1'].split(', ')))"
      ],
      "execution_count": null,
      "outputs": [
        {
          "output_type": "execute_result",
          "data": {
            "text/plain": [
              "(220, 118, 70)"
            ]
          },
          "metadata": {},
          "execution_count": 8
        }
      ]
    },
    {
      "cell_type": "markdown",
      "metadata": {
        "id": "yvLf8jTD6oib"
      },
      "source": [
        "### Conversion du PDF en images pour le flip book"
      ]
    },
    {
      "cell_type": "code",
      "metadata": {
        "id": "oL67EV6U6Vgw"
      },
      "source": [
        "def pdf2img(trigramme, output_pdf):\n",
        "\n",
        "  images = convert_from_path(output_pdf)\n",
        "  dossier = item['trigramme']\n",
        "  if not os.path.exists(dossier):\n",
        "    os.makedirs(dossier)\n",
        "\n",
        "  os.chdir(config.root_path + dossier)     \n",
        "  sous_dossier = \"lex-fr-\"+item['trigramme']\n",
        "  if not os.path.exists(sous_dossier):\n",
        "    os.makedirs(sous_dossier)\n",
        "\n",
        "  os.chdir(config.root_path + dossier + \"/\" + sous_dossier) \n",
        "  file = \"med-vac-\" + sous_dossier + \"-\"\n",
        "  i=0\n",
        "  for img in images:\n",
        "    i+=1\n",
        "    img.save(file + '_' + str(i) + \".jpg\", 'JPEG')\n",
        "\n",
        "  os.chdir(config.root_path)\n",
        "  return\n",
        "  "
      ],
      "execution_count": null,
      "outputs": []
    },
    {
      "cell_type": "code",
      "metadata": {
        "id": "FYVJz4nkgxNO"
      },
      "source": [
        "def pdf2img_rev(trigramme, output_pdf):\n",
        "\n",
        "  images = convert_from_path(output_pdf)\n",
        "  dossier = item['trigramme']\n",
        "  if not os.path.exists(dossier):\n",
        "    os.makedirs(dossier)\n",
        "  os.chdir(config.root_path + dossier)\n",
        "  sous_dossier = \"lex-\" + item['trigramme'] + \"-fr\"\n",
        "  if not os.path.exists(sous_dossier):\n",
        "    os.makedirs(sous_dossier)\n",
        "\n",
        "  os.chdir(config.root_path +  dossier + \"/\" + sous_dossier) \n",
        "  file = \"med-vac-\" + sous_dossier + \"-\"\n",
        "  i=0\n",
        "  for img in images:\n",
        "    i+=1\n",
        "    img.save(file + '_' + str(i) + \".jpg\", 'JPEG')\n",
        "\n",
        "  os.chdir(config.root_path)\n",
        "  return\n"
      ],
      "execution_count": null,
      "outputs": []
    },
    {
      "cell_type": "markdown",
      "metadata": {
        "id": "kHjTacPGJyqj"
      },
      "source": [
        "## Index normal"
      ]
    },
    {
      "cell_type": "code",
      "metadata": {
        "id": "KK8iMqE0LNS6"
      },
      "source": [
        "# Ouverture de la Sheet Centrale (corpus_central_base)\n",
        "sheet_central = 'https://docs.google.com/spreadsheets/d/1L8YB1aXHUJwUE9AE6xyn_xMHalinGR335Q7lntwbu1U'\n",
        "wb_central = gc.open_by_url(sheet_central)\n",
        "#ouverture de l'onglet Corpus dans un DF\n",
        "t_corpus = wb_central.worksheet('med_vac_synthese')\n",
        "data_t_corpus = t_corpus.get_all_values()\n",
        "df_corpus = pd.DataFrame(data_t_corpus[1:], columns=data_t_corpus[0])"
      ],
      "execution_count": null,
      "outputs": []
    },
    {
      "cell_type": "code",
      "metadata": {
        "id": "DKf8SEmoLPCA"
      },
      "source": [
        "def charge_corpus_langue(df_corpus, langue):\n",
        "  #ouverture de l'onglet Corpus dans un DF\n",
        "  df = df_corpus[['uid','expression', langue,'index']]\n",
        "  return df"
      ],
      "execution_count": null,
      "outputs": []
    },
    {
      "cell_type": "code",
      "metadata": {
        "id": "d_gOuj8RVh3P"
      },
      "source": [
        "if debug is True:\n",
        "  vk=[]\n",
        "  vk.append(vk_lang_dict[12])\n",
        "  vk_lang_dict=vk"
      ],
      "execution_count": null,
      "outputs": []
    },
    {
      "cell_type": "code",
      "metadata": {
        "id": "as61l91ng68f",
        "colab": {
          "base_uri": "https://localhost:8080/"
        },
        "outputId": "5976fec0-5b51-485d-942a-ca74a7c8b0e8"
      },
      "source": [
        "vk_lang_dict"
      ],
      "execution_count": null,
      "outputs": [
        {
          "output_type": "execute_result",
          "data": {
            "text/plain": [
              "[{'alphabet': '',\n",
              "  'credits': 'Massouda HEMATYAR',\n",
              "  'font-family': 'Arial',\n",
              "  'font-family-bold': 'DejaVuSans-Bold',\n",
              "  'glossary-subtitle': '',\n",
              "  'idx': 13,\n",
              "  'language': 'Pashto',\n",
              "  'meta': {'credits-fr': '',\n",
              "   'credits-tr': '',\n",
              "   'subtitle-fr': '',\n",
              "   'subtitle-tr': '',\n",
              "   'title-fr': '',\n",
              "   'title-tr': ''},\n",
              "  'text-direction': 'rtl',\n",
              "  'trigramme': 'pst',\n",
              "  'unicode_substition': [],\n",
              "  'update': 'false',\n",
              "  'uri': '1IDUQ_SlSOMWX87NrwwZ94SBcNYEoPx-hz7lgC5c5FO8'}]"
            ]
          },
          "metadata": {},
          "execution_count": 14
        }
      ]
    },
    {
      "cell_type": "markdown",
      "metadata": {
        "id": "Lu6BiKWmJpXy"
      },
      "source": [
        "## Index inversé"
      ]
    },
    {
      "cell_type": "code",
      "metadata": {
        "id": "BIeqVDptJEuT"
      },
      "source": [
        "df_corpus"
      ],
      "execution_count": null,
      "outputs": []
    },
    {
      "cell_type": "code",
      "metadata": {
        "id": "qzfXcwNtH6cX"
      },
      "source": [
        "# cas des index normaux (français -> langue)\n",
        "def charge_corpus_langue_rev(uri):\n",
        "  wb = gc.open_by_key(uri)\n",
        "  #ouverture de l'onglet Corpus dans un DF\n",
        "  t_corpus = wb.worksheet('med_vac_synthese')\n",
        "  data_t_corpus = t_corpus.get_all_values()\n",
        "  df_corpus = pd.DataFrame(data_t_corpus[1:], columns=data_t_corpus[0])\n",
        "  return df_corpus\n"
      ],
      "execution_count": null,
      "outputs": []
    },
    {
      "cell_type": "code",
      "metadata": {
        "id": "vZyH4xlmW8cK"
      },
      "source": [
        ""
      ],
      "execution_count": null,
      "outputs": []
    },
    {
      "cell_type": "code",
      "metadata": {
        "id": "USVZCbEBGuJ2"
      },
      "source": [
        "charge_corpus_langue_rev('1xAH-y0HBnrKJmnn585ep9TQJ4sFk1-kbLvKwYLBOZsc')"
      ],
      "execution_count": null,
      "outputs": []
    },
    {
      "cell_type": "code",
      "metadata": {
        "id": "vLjow30tcqUE"
      },
      "source": [
        "# tableau de corpus indéxé par langue de traduction\n",
        "df_corpus_trad = []\n",
        "# itération sur chaque trigramme de langue\n",
        "for i in vk_lang_dict:\n",
        "  if i['update']=='false':\n",
        "    df = charge_corpus_langue_rev(i['uri'])\n",
        "    df_corpus_trad.append(df)\n",
        "  "
      ],
      "execution_count": null,
      "outputs": []
    },
    {
      "cell_type": "code",
      "metadata": {
        "id": "sg4uWTBsCVLU"
      },
      "source": [
        "class PDF(FPDF):\n",
        "  def __init__(self):\n",
        "    super().__init__()\n",
        "    self.WIDTH = 210\n",
        "    self.HEIGHT = 297\n",
        "    self.format = 'A4'\n",
        "    self.unit = 'mm'\n",
        "    self.set_margins(20.0, 20.0, 20.0)\n",
        "    self.color_theme = vk_color_theme[7]\n",
        "    self.color_1 = tuple(map(int, self.color_theme['color_1'].split(', ')))\n",
        "    self.color_2 = tuple(map(int, self.color_theme['color_2'].split(', ')))   \n",
        "    self.color_3 = tuple(map(int, self.color_theme['color_3'].split(', ')))\n",
        "    self.color_4 = tuple(map(int, self.color_theme['color_4'].split(', ')))\n",
        "    self.color_5 = tuple(map(int, self.color_theme['color_5'].split(', ')))    \n",
        "    self.color_6 = tuple(map(int, self.color_theme['color_6'].split(', ')))     \n",
        "    #self.logo_1 = './logo_asamla.jpg'\n",
        "    self.logo_1 = config.root_path + 'resources/logo-asamla-transparent.png'\n",
        "    self.font_1 = ('DejaVuSans', '', 10)\n",
        "    self.font_2 = ('NotoSerif-Regular', '', 20)  \n",
        "    self.font_credits = ('NotoSerif-Regular', '', 12)  \n",
        "    self.font_3 = ('DejaVuSans', '', 14)      \n",
        "\n",
        "    self.font_size_normal = 10.0\n",
        "    self.font_size_index = 32.0\n",
        "    self.chosen_font_expr = 'NotoSerif-Regular' \n",
        "    self.chosen_font_bold = 'NotoSerif-Bold'    \n",
        "    self.standard_text_color = (0,0,0)\n",
        "    self.font_cover_1 = ('BebasNeue-Regular', '', 80)  \n",
        "    self.font_cover_2 = ('NotoSerif-Regular', '', 40)      \n",
        "    self.title_1 = 'Lexique'\n",
        "    self.title_2 = 'Médical'\n",
        "    self.title_3 = 'Vaccination'\n",
        "    self.cover_img_1 = config.root_path + 'resources/med-vac-lex-sample_nomargin.png'\n",
        "    self.cover_background_color = self.color_1\n",
        "    self.cover_text_color = self.color_6\n",
        "    self.cover_23_background_color = self.color_6    \n",
        "    self.cover_4_background_color = self.color_2     \n",
        "\n",
        "    self.cover_23_background_color = self.color_2    \n",
        "    self.cover_4_background_color = self.color_5      \n",
        "\n",
        "    self.print_footer = False\n",
        "    self.print_header = False\n",
        "    self.min_height_required_ln = 25.0\n",
        "    self.line_height = 6.5\n",
        "\n",
        "    self.root_path=config.root_path\n",
        "    self.ligne = 1\n",
        "    self.change_alpha_index = False\n",
        "    self.MAX_LIGNE_COLONNE = 33\n",
        "\n",
        "  def header(self):\n",
        "    if self.print_header is True:\n",
        "      '''\n",
        "      self.set_text_color (*self.cover_text_color)\n",
        "      self.set_font(*self.font_1)\n",
        "      self.cell(0, 0, self.title_1 + ' ' + self.title_2, 0, 0, 'L')\n",
        "      self.cell(0, 0, self.book_title, 0, 0, 'R')      \n",
        "      self.ln(5)      \n",
        "      #self.cell(0, 0, self.get_first_word_in_page(), 0, 0, 'L')  \n",
        "      '''  \n",
        "      new_y = self.get_y() + 5\n",
        "      self.set_draw_color (*self.cover_text_color)\n",
        "      self.set_text_color (*self.cover_text_color)      \n",
        "      self.line(0, new_y, 210, new_y)\n",
        "      self.line(self.WIDTH/2, self.get_y() + 5, self.WIDTH/2, self.HEIGHT-(self.t_margin*2))\n",
        "\n",
        "  def footer(self):\n",
        "    # Go to 1.5 cm from bottom\n",
        "    self.set_y(-15)\n",
        "    # Select Arial italic 8\n",
        "    self.set_font(*self.font_1)\n",
        "    self.set_text_color (*self.cover_text_color)\n",
        "    # Print current and total page numbers\n",
        "    # Do not print footer on first page \n",
        "    if self.print_footer is True:\n",
        "      #self.cell(0, 10, 'Page %s' % self.page_no() + '/{nb}', 0, 0, 'C')    \n",
        "      self.cell(0, 10, '%s' % self.page_no(), 0, 0, 'C')        \n",
        "\n",
        "  def print_page(self, images):\n",
        "    # Generates the report\n",
        "    self.add_page()  \n",
        "\n",
        "  def set_langue(self, langue):\n",
        "    self.local_language = langue\n",
        "\n",
        "  def set_credits(self, credits):\n",
        "    self.credits = credits    \n",
        "\n",
        "  def set_glossary_subtitle (self, glossary_subtitle):\n",
        "    self.glossary_subtitle = glossary_subtitle    \n",
        "\n",
        "  def set_language_special_font (self, language_special_font):\n",
        "    self.language_special_font = language_special_font    \n",
        "\n",
        "  def set_text_direction (self, text_direction):\n",
        "    self.text_direction = text_direction\n",
        "\n",
        "  def set_book_title (self, book_title):\n",
        "    self.book_title = book_title\n",
        "\n",
        "  def add_fonts(self):\n",
        "    self.add_font('BebasNeue-Regular','', '/content/drive/MyDrive/Trad-Union/Corpus/ASAMLA/BebasNeue-Regular.ttf', uni=True)   \n",
        "    self.add_font('DejaVuSans', '', '/usr/share/fonts/truetype/dejavu/DejaVuSans.ttf', uni=True)\n",
        "    self.add_font('DejaVuSans-Bold', '', '/usr/share/fonts/truetype/dejavu/DejaVuSans.ttf', uni=True)    \n",
        "    \n",
        "    self.add_font('NotoSerif-Regular','','/usr/share/fonts/truetype/noto/NotoSerif-Regular.ttf', uni=True)    \n",
        "    self.add_font('NotoSerif-Bold','','/usr/share/fonts/truetype/noto/NotoSerif-Bold.ttf', uni=True)  \n",
        "\n",
        "    self.add_font('arial_geo','','/content/drive/MyDrive/Trad-Union/Corpus/ASAMLA/arial_geo.ttf', uni=True)    \n",
        "    self.add_font('arial_geo-bold','','/content/drive/MyDrive/Trad-Union/Corpus/ASAMLA/arial_geo-bold.ttf', uni=True)         \n",
        "    self.add_font('jiret','','/content/drive/MyDrive/Trad-Union/Corpus/ASAMLA/jiret.ttf', uni=True)            \n",
        "    \n",
        "    self.add_font('NotoSerifArmenian-Regular','','/usr/share/fonts/truetype/noto/NotoSerifArmenian-Regular.ttf', uni=True)  \n",
        "    self.add_font('NotoSerifArmenian-Bold','','/usr/share/fonts/truetype/noto/NotoSerifArmenian-Bold.ttf', uni=True)    \n",
        "    \n",
        "    self.add_font('NotoSansArabic-Regular','','/usr/share/fonts/truetype/noto/NotoSansArabic-Regular.ttf', uni=True)  \n",
        "\n",
        "  def set_effective_page_width(self, value):\n",
        "    self.effective_page_width = value\n",
        "\n",
        "  def set_effective_page_height(self, value):\n",
        "    self.effective_page_height = value\n",
        "\n",
        "  def set_multi_cell_width(self, value):\n",
        "    self.multi_cell_width = value\n",
        "\n",
        "  def set_rowh(self, value):\n",
        "    self.rowh = value\n",
        "\n",
        "  def set_colonne (self, colonne):\n",
        "    self.colonne = colonne\n",
        "\n",
        "  def set_ligne (self, ligne):\n",
        "    self.ligne = ligne\n",
        "\n",
        "  def first_page(self, langue):\n",
        "    self.set_font(*self.font_2)\n",
        "    self.set_text_color (*self.cover_text_color)\n",
        "    # Calculate width of title and position\n",
        "    w = self.get_string_width(self.title_1) + 6\n",
        "    self.set_x((self.WIDTH) / 2)    \n",
        "    self.set_y((self.HEIGHT) /2.5)\n",
        "    self.cell(0,0, self.title_1 + ' ' + self.title_2, 0, 0, 'C',0)\n",
        "    self.ln(10)\n",
        "    self.cell(0,0, self.book_title, 0, 0, 'C',0)\n",
        "    # auteur traduction\n",
        "    self.ln(40)\n",
        "    self.set_font(*self.font_1)\n",
        "    self.cell(0,0, 'Traduction : ' + self.credits, 0, 0, 'C')\n",
        "\n",
        "    self.add_page()\n",
        "    self.set_text_color (0,0,0)\n",
        "\n",
        "  def second_page(self):\n",
        "    self.set_font(*self.font_2)\n",
        "    self.set_text_color (*self.cover_text_color)\n",
        "    # Calculate width of title and position\n",
        "    w = self.get_string_width(self.title_1) + 6\n",
        "    self.set_x((self.WIDTH) / 2)    \n",
        "    self.set_y((self.HEIGHT) /2.5)\n",
        "    self.cell(0,0, self.title_3, 0, 0, 'C')\n",
        "\n",
        "    self.add_page()\n",
        "    self.set_text_color (0,0,0)    \n",
        "\n",
        "  def blank_page(self):\n",
        "    self.add_page()\n",
        "\n",
        "\n",
        "  def cover_green(self):\n",
        "\n",
        "    line_feed_height=25 #19\n",
        "    self.set_fill_color(*self.cover_background_color)\n",
        "    self.rect(0, 0, self.WIDTH, self.HEIGHT, style = 'F')  \n",
        "    self.image(self.cover_img_1,0,0,self.WIDTH,self.HEIGHT)  \n",
        "\n",
        "    self.set_text_color(*self.color_1)\n",
        "    self.set_xy(self.l_margin, (self.HEIGHT/2))\n",
        "    self.set_font(*self.font_cover_1)\n",
        "    self.cell(0,0, self.title_1, 0, 0, 'C')\n",
        "    self.ln(line_feed_height)  \n",
        "\n",
        "    self.set_font(*self.font_cover_1)\n",
        "    self.set_text_color (*self.color_1)\n",
        "    self.cell(0,0, self.title_2, 0, 0, 'C')    \n",
        "    self.ln(line_feed_height)\n",
        "\n",
        "    self.set_font(*self.font_cover_2)\n",
        "    self.set_text_color (*self.color_1)\n",
        "    self.cell(0,0, self.book_title, 0, 0, 'C')    \n",
        "    self.ln(28)\n",
        "\n",
        "    self.midpage = self.get_y()-14\n",
        "    self.set_fill_color(*self.cover_background_color)\n",
        "    #self.rect(0, self.midpage, self.WIDTH/1.5, 30, style = 'F')\n",
        "\n",
        "    self.set_font(*self.font_credits)\n",
        "    self.set_text_color (*self.color_1) \n",
        "    self.cell(0,0, 'Traduction : ' + self.credits, 0, 0, 'C')\n",
        "\n",
        "    self.ln(10)\n",
        "    self.set_font(self.language_special_font,'', 20.0)\n",
        "\n",
        "    if self.text_direction == 'rtl':\n",
        "      self.glossary_subtitle = rtl_arabic(self.glossary_subtitle, self)\n",
        "    # à étudier dans le JSON : glossary_subtitle : ['val1', 'val2']\n",
        "    #self.cell(0,0, self.glossary_subtitle, 0, 0, 'L')      \n",
        "    self.set_font(*self.font_2)\n",
        "\n",
        "    # 0.264583 = constante px -> mm; 0.3 rapport taille image\n",
        "    t_logo_pixel_sz = (511,135)\n",
        "    t_logo_mm_sz_reduced = tuple(np.multiply (t_logo_pixel_sz, 0.3))\n",
        "\n",
        "    self.image(self.logo_1,(self.WIDTH/2)-((t_logo_mm_sz_reduced[0]*0.264583)/2),self.HEIGHT-(self.l_margin*2), t_logo_mm_sz_reduced[1])\n",
        "\n",
        "    self.add_page()  \n",
        "\n",
        "\n",
        "  def cover_2(self):\n",
        "    self.set_fill_color(*self.cover_23_background_color)\n",
        "    self.rect(0, 0, self.WIDTH, self.HEIGHT, style = 'F')\n",
        "\n",
        "\n",
        "    # crédits publication\n",
        "    self.set_font(*self.font_1)\n",
        "    self.set_text_color (*self.cover_background_color) \n",
        "    self.set_xy(self.l_margin,self.HEIGHT-(self.l_margin*2))\n",
        "    credits = \"Adaptation graphique : Gilles Retière, Hammer & Marteau.\"    \n",
        "    self.cell(0,0, credits, 0, 0, 'L')\n",
        "    self.ln(5)  \n",
        "    credits = \"Image de couverture: Freepik.com.\"\n",
        "    self.cell(0,0, credits, 0, 0, 'L')\n",
        "    self.ln(5)      \n",
        "    credits = \"Cette couverture a été conçue en utilisant des ressources de Freepik.com.\"   \n",
        "    self.cell(0,0, credits, 0, 0, 'L')     \n",
        "    self.ln(5)          \n",
        "    \n",
        "    self.add_page()  \n",
        "\n",
        "  def cover_3(self):\n",
        "    # cette page doit etre impaire (recto) : si elle est paire, on insère une page\n",
        "    if self.page_no()%2 == 0:\n",
        "      self.add_page()\n",
        "    self.set_fill_color(*self.cover_23_background_color)\n",
        "    self.rect(0, 0, self.WIDTH, self.HEIGHT, style = 'F')\n",
        "    self.add_page()  \n",
        "\n",
        "  def cover_4(self):\n",
        "    #self.image(self.cover_img_1,0,0,self.WIDTH,self.HEIGHT)\n",
        "    self.set_fill_color(*self.cover_4_background_color)\n",
        "    #self.rect(0, self.midpage, self.WIDTH, 30, style = 'F')\n",
        "    self.rect(0, 0, self.WIDTH, self.HEIGHT, style = 'F') \n",
        "    # coordonneés ASAMLA\n",
        "    self.set_font(*self.font_1)\n",
        "    self.set_text_color (*self.cover_background_color) \n",
        "    self.set_xy(self.l_margin,self.HEIGHT-(self.l_margin*2))\n",
        "    self.cell(0,0, 'ASAMLA', 0, 0, 'L')\n",
        "    self.ln(5)  \n",
        "    self.cell(0,0, '5 place Anatole France', 0, 0, 'L')\n",
        "    self.ln(5)  \n",
        "    self.cell(0,0, '44000 Nantes', 0, 0, 'L')\n",
        "    self.ln(5)      \n",
        "    self.cell(0,0, 'www.asamla.fr', 0, 0, 'L')\n",
        "    self.ln(5)      "
      ],
      "execution_count": null,
      "outputs": []
    },
    {
      "cell_type": "code",
      "metadata": {
        "id": "VX-D1JQxH1rx"
      },
      "source": [
        "def shorten_word_top_of_page (w):\n",
        "  max_len = 20\n",
        "  if len(w) > max_len:\n",
        "    w = w[:max_len] + \"...\"\n",
        "  return w"
      ],
      "execution_count": null,
      "outputs": []
    },
    {
      "cell_type": "code",
      "metadata": {
        "id": "6j_bpJhUImM9"
      },
      "source": [
        "def print_word_top_of_page (pdf, df, ind, item, rev, ndx, t_word, pos):\n",
        "  pdf.set_xy(pdf.l_margin, pdf.t_margin)\n",
        "  pdf.set_text_color (*pdf.cover_text_color)\n",
        "  if rev is True:\n",
        "    pdf.set_font(vk_lang_dict[ndx]['font-family-bold'],'', pdf.font_size_normal)\n",
        "    if vk_lang_dict[ndx]['text-direction'] == 'rtl':\n",
        "      if pos == 'L':\n",
        "        pos = 'R'\n",
        "      else:\n",
        "        pos = 'L'\n",
        "      pdf.cell(0, 0, shorten_word_top_of_page(rtl_arabic(t_word[0], pdf)), 0, 0, pos)\n",
        "    else:\n",
        "      pdf.cell(0, 0, shorten_word_top_of_page(t_word[0]), 0, 0, pos)\n",
        "  else:\n",
        "    pdf.set_font(pdf.chosen_font_bold,'', pdf.font_size_normal)  \n",
        "    pdf.cell(0, 0, shorten_word_top_of_page(t_word[1]), 0, 0, pos)\n"
      ],
      "execution_count": null,
      "outputs": []
    },
    {
      "cell_type": "code",
      "metadata": {
        "id": "ZxkkvTcZ5-kA"
      },
      "source": [
        "def changement_page(pdf, df, ind, item, rev, ndx):\n",
        "  #Impression du premier mot sur page impaire et dernier mot sur page paire\n",
        "  print_word_top_of_page (pdf, df, ind, item, rev, ndx, (df[item['trigramme']][ind-1], df[\"expression\"][ind-1]), 'R')\n",
        "  pdf.add_page()\n",
        "  print_word_top_of_page (pdf, df, ind, item, rev, ndx, (df[item['trigramme']][ind], df[\"expression\"][ind]), 'L')  \n",
        "  return"
      ],
      "execution_count": null,
      "outputs": []
    },
    {
      "cell_type": "code",
      "metadata": {
        "id": "3IIaI6ro77dT"
      },
      "source": [
        "def add_label (x,pdf):\n",
        "  pdf.set_xy(x, pdf.get_y())  \n",
        "  pdf.set_text_color (*pdf.cover_text_color) \n",
        "  pdf.write(pdf.rowh,\"*\", 'http://www.fpdf.org')\n",
        "  pdf.set_text_color (*pdf.standard_text_color)   \n"
      ],
      "execution_count": null,
      "outputs": []
    },
    {
      "cell_type": "code",
      "metadata": {
        "id": "ewOMmSAkLNHZ"
      },
      "source": [
        "def get_x0(text_orientation, margin, printable_width, column, rev):\n",
        "  dict_z = [{'key': 'ltr', 'value':-1}, {'key': 'rtl', 'value':1}]\n",
        "  w = printable_width\n",
        "  m = margin\n",
        "  t_z = tuple(map(lambda x : x['value'], dict_z))\n",
        "  z = t_z[0]\n",
        "  if text_orientation.lower()=='rtl' and rev is True:\n",
        "    z = t_z[1]\n",
        "  x = ((w/2) + z*(w/2)) - m*z\n",
        "\n",
        "  return x"
      ],
      "execution_count": null,
      "outputs": []
    },
    {
      "cell_type": "code",
      "metadata": {
        "id": "Dlj5smCDLtK9"
      },
      "source": [
        "def get_x1(text_orientation, margin, printable_width, column, rev):\n",
        "  dict_z = [{'key': 'ltr', 'value': -1}, {'key': 'rtl', 'value': 1}]\n",
        "  w = printable_width\n",
        "  m = margin\n",
        "  t_z = tuple(map(lambda x : x['value'], dict_z))\n",
        "  z = t_z[0]\n",
        "  if text_orientation.lower()=='rtl' and rev is True:\n",
        "    z = t_z[1]\n",
        "  x = (get_x0(text_orientation,m,w,column, rev) - z*(w/2))\n",
        "  return x"
      ],
      "execution_count": null,
      "outputs": []
    },
    {
      "cell_type": "code",
      "metadata": {
        "id": "QnVV3OQ7TFIG"
      },
      "source": [
        "def get_word_tuple_order(ndx, langue, df, pdf, ind, rev, text_direction):\n",
        "  #par défaut\n",
        "  w = df[langue][ind]\n",
        "  if text_direction == 'rtl':\n",
        "    w = rtl_arabic(w, pdf) \n",
        "  t_word = (df['expression'][ind], w)\n",
        "  if rev is True and text_direction == 'ltr':\n",
        "    t_word = (w, df['expression'][ind])\n",
        "  return t_word"
      ],
      "execution_count": null,
      "outputs": []
    },
    {
      "cell_type": "code",
      "metadata": {
        "id": "jUWjxqMkQVT4"
      },
      "source": [
        "def get_word_tuple_fonts(ndx, langue, df, pdf, ind, rev, text_direction):\n",
        "  #par défaut\n",
        "  alignment = 'L'\n",
        "  t_font = (pdf.chosen_font_bold, vk_lang_dict[ndx]['font-family'])\n",
        "  if text_direction == 'rtl':\n",
        "    # cas de l'arabe et du persan\n",
        "    if rev is True:\n",
        "      t_font = (vk_lang_dict[ndx]['font-family'], vk_lang_dict[ndx]['font-family-bold'])\n",
        "    alignment = 'R' \n",
        "  return t_font"
      ],
      "execution_count": null,
      "outputs": []
    },
    {
      "cell_type": "code",
      "metadata": {
        "id": "GwcwRK1JmeGR"
      },
      "source": [
        "def get_x_offset(pdf, rev, ndx):\n",
        "  if pdf.colonne == 1:\n",
        "    if rev is True and vk_lang_dict[ndx]['text-direction']=='rtl':\n",
        "      x_offset = (pdf.effective_page_width/2) + pdf.l_margin/2  \n",
        "    else:\n",
        "      x_offset = 0     \n",
        "  else:\n",
        "    if rev is True and vk_lang_dict[ndx]['text-direction']=='rtl':\n",
        "      x_offset = 0\n",
        "    else:\n",
        "      x_offset = (pdf.effective_page_width/2) + pdf.l_margin/2  \n",
        "\n",
        "  return x_offset"
      ],
      "execution_count": null,
      "outputs": []
    },
    {
      "cell_type": "code",
      "metadata": {
        "id": "sTHg6GeilMJX"
      },
      "source": [
        "def get_pos_y(pdf, top_y):\n",
        "  ybefore = pdf.get_y()\n",
        "  x_offset = 0\n",
        "  if pdf.colonne == 1:\n",
        "    if pdf.ligne == 1:\n",
        "      if pdf.change_alpha_index == True:\n",
        "        ybefore = pdf.get_y()\n",
        "      else:\n",
        "        ybefore = top_y\n",
        "  if pdf.colonne == 2:\n",
        "    if pdf.ligne == 1:\n",
        "      y_top_col_B = top_y\n",
        "      if pdf.change_alpha_index == True:\n",
        "        ybefore = pdf.get_y()\n",
        "      else:\n",
        "        ybefore = top_y\n",
        "    \n",
        "  return ybefore\n"
      ],
      "execution_count": null,
      "outputs": []
    },
    {
      "cell_type": "code",
      "metadata": {
        "id": "LPo5D4cfpfK8"
      },
      "source": [
        "def print_word_original_rtl(pdf, font, word, pos_x, pos_y, ln):\n",
        "  # expression A\n",
        "  pdf.set_font(font,'', pdf.font_size_normal)\n",
        "  pdf.set_text_color (*pdf.standard_text_color)\n",
        "\n",
        "  if pdf.colonne == 2:\n",
        "    pos_x = pdf.l_margin\n",
        "  pdf.set_xy(pos_x, pos_y)\n",
        "  pdf.multi_cell(pdf.multi_cell_width, pdf.rowh, word, 0, 'R')\n",
        "\n",
        "  pdf.ln(ln) # saut de ligne\n",
        "  pdf.set_ligne(pdf.ligne+1)\n",
        "  pos_x = pos_x +3\n",
        "\n",
        "  return pos_x"
      ],
      "execution_count": null,
      "outputs": []
    },
    {
      "cell_type": "code",
      "metadata": {
        "id": "beDsvyfbpnpm"
      },
      "source": [
        "def print_word_translate_rtl (pdf, font, word, pos_x, pos_y, alignment, ln):\n",
        "  # expression B\n",
        "  pdf.set_font(font,'', pdf.font_size_normal)\n",
        "  pdf.set_text_color (*pdf.standard_text_color)  \n",
        "  if pdf.colonne == 2:\n",
        "    pos_x = pdf.l_margin  \n",
        "  pdf.set_xy(pos_x, pdf.get_y())  \n",
        "  pdf.multi_cell(pdf.multi_cell_width,  pdf.rowh, word, 0, 'L')\n",
        "  yafter = pdf.get_y() # on marque la position de y après écriture\n",
        "  pdf.ln(ln*3) # saut de ligne plus fort entre 2 mots\n",
        "  pdf.set_ligne(pdf.ligne+1)  \n",
        "\n",
        "  return yafter"
      ],
      "execution_count": null,
      "outputs": []
    },
    {
      "cell_type": "code",
      "metadata": {
        "id": "KEvocSeZkKv3"
      },
      "source": [
        "def print_word_original(pdf, font, word, pos_x, pos_y, ln):\n",
        "  # expression A\n",
        "  pdf.set_font(font,'', pdf.font_size_normal)\n",
        "  pdf.set_text_color (*pdf.standard_text_color)\n",
        "\n",
        "  pdf.set_xy(pos_x, pos_y)\n",
        "  try:\n",
        "    pdf.multi_cell(pdf.multi_cell_width, pdf.rowh, word, 0, 'L')\n",
        "  except Exception as e:\n",
        "    print(e)\n",
        "\n",
        "  pdf.ln(ln) # saut de ligne\n",
        "  pdf.set_ligne(pdf.ligne+1)\n",
        "  pos_x = pos_x +3\n",
        "\n",
        "  return pos_x"
      ],
      "execution_count": null,
      "outputs": []
    },
    {
      "cell_type": "code",
      "metadata": {
        "id": "9n3H9s6tlgpR"
      },
      "source": [
        "def print_word_translate (pdf, font, word, pos_x, pos_y, alignment, ln):\n",
        "  # expression B\n",
        "  pdf.set_font(font,'', pdf.font_size_normal)\n",
        "  pdf.set_text_color (*pdf.standard_text_color)  \n",
        "  pdf.set_xy(pos_x, pdf.get_y())  \n",
        "  pdf.multi_cell(pdf.multi_cell_width,  pdf.rowh, word, 0, alignment)\n",
        "  yafter = pdf.get_y() # on marque la position de y après écriture\n",
        "  pdf.ln(ln*3) # saut de ligne plus fort entre 2 mots\n",
        "  pdf.set_ligne(pdf.ligne+1)  \n",
        "\n",
        "  return yafter"
      ],
      "execution_count": null,
      "outputs": []
    },
    {
      "cell_type": "code",
      "metadata": {
        "id": "LySXbSvP2_Nu"
      },
      "source": [
        "def print_metrics_debug (exp, pdf):\n",
        "  print (Fore.GREEN + \"EXP= \" + Style.BRIGHT + exp)\n",
        "  print (Fore.GREEN + \"COL= \" + Style.BRIGHT + str(pdf.colonne))\n"
      ],
      "execution_count": null,
      "outputs": []
    },
    {
      "cell_type": "code",
      "metadata": {
        "id": "0R_DThpWt-vL"
      },
      "source": [
        "def print_word_colonne(ndx, langue, df, pdf, ind, rev, text_direction):\n",
        "  # impression d'une ligne expression/traduction dans la bonne fonte\n",
        "  # on quitte si la traduction est absente\n",
        "  if len(df[langue][ind].strip()) == 0:\n",
        "    return\n",
        "\n",
        "  word_native = df[langue][ind]\n",
        "  \n",
        "  t_fonts = (pdf.chosen_font_bold, vk_lang_dict[ndx]['font-family'])\n",
        "\n",
        "  if text_direction == 'ltr':\n",
        "    alignment = 'L'\n",
        "  else:\n",
        "    # cas de l'arabe et du persan\n",
        "    if rev is True:\n",
        "      t_fonts = (vk_lang_dict[ndx]['font-family'], vk_lang_dict[ndx]['font-family-bold'])  \n",
        "    word_native = rtl_arabic(word_native, pdf) \n",
        "    alignment = 'R' \n",
        "\n",
        "  t_word = (df['expression'][ind], word_native)\n",
        "  if rev is True and text_direction == 'ltr':\n",
        "    t_word = (word_native, df['expression'][ind])\n",
        "    t_fonts = (vk_lang_dict[ndx]['font-family-bold'], pdf.chosen_font_expr)\n",
        "\n",
        "\n",
        "  ln = 1.0\n",
        "  y_top_col_A = 20\n",
        "\n",
        "  ybefore = get_pos_y(pdf, y_top_col_A)\n",
        "  x_offset = get_x_offset(pdf, rev, ndx)\n",
        "\n",
        "  pdf.change_alpha_index == False\n",
        "  pos_x = pdf.get_x()\n",
        "  pos_y = ybefore\n",
        "\n",
        "  if debug == True:\n",
        "    print_metrics_debug(df['expression'][ind], pdf)\n",
        "\n",
        "  # expression A\n",
        "  if rev is True and text_direction == 'rtl': \n",
        "    pos_x = pdf.l_margin + (pdf.effective_page_width/2) + pdf.l_margin/2\n",
        "    pos_x = print_word_original_rtl(pdf, t_fonts[1], t_word[1], pos_x, ybefore, ln)\n",
        "  else:\n",
        "    pos_x = print_word_original(pdf, t_fonts[0], t_word[0], pdf.l_margin + x_offset, ybefore, ln)\n",
        "\n",
        "  '''  \n",
        "\n",
        "  pdf.set_font(t_fonts[0],'', pdf.font_size_normal)\n",
        "  pdf.set_text_color (*pdf.standard_text_color)\n",
        "\n",
        "  if rev is True and text_direction == 'rtl':  \n",
        "    pos_x = get_x0(text_direction, pdf.l_margin, pdf.effective_page_width, pdf.colonne, rev)\n",
        "  else:\n",
        "    pos_x = pdf.l_margin + x_offset\n",
        "\n",
        "  \n",
        "  pdf.set_xy(pos_x, ybefore)\n",
        "  #pdf.multi_cell(pdf.multi_cell_width, pdf.rowh, df['expression'][ind])\n",
        "  pdf.multi_cell(pdf.multi_cell_width, pdf.rowh, t_word[0])\n",
        "\n",
        "  pdf.ln(ln) # saut de ligne\n",
        "  pdf.set_ligne(pdf.ligne+1)\n",
        "\n",
        "  if rev is True and text_direction == 'rtl':  \n",
        "    pos_x = pos_x -3\n",
        "  else:\n",
        "    pos_x = pos_x +3\n",
        "  '''\n",
        "  yafter = pdf.get_y()\n",
        "  # expression B\n",
        "  if rev is True and text_direction == 'rtl':\n",
        "    pos_x = pdf.l_margin*2 + (pdf.effective_page_width/2)\n",
        "    yafter = print_word_translate_rtl(pdf, t_fonts[0], t_word[0], pos_x -3, ybefore, alignment, ln) \n",
        "  else:\n",
        "    yafter = print_word_translate(pdf, t_fonts[1], t_word[1], pdf.l_margin + x_offset +3, ybefore, alignment, ln)  \n",
        "\n",
        "  '''    \n",
        "  # expression B\n",
        "  pdf.set_font(t_fonts[1],'', pdf.font_size_normal)\n",
        "  pdf.set_text_color (*pdf.standard_text_color)  \n",
        "  pdf.set_xy(pos_x, pdf.get_y())  \n",
        "  pdf.multi_cell(pdf.multi_cell_width,  pdf.rowh, t_word[1], 0, alignment)\n",
        "  #pdf.multi_cell(pdf.multi_cell_width, pdf.rowh, rtl_arabic(expression, pdf), 0, 'R')\n",
        "\n",
        "  #add_label (pdf.get_x() + x_offset + 3, pdf)\n",
        "  yafter = pdf.get_y() # on marque la position de y après écriture\n",
        "\n",
        "  pdf.ln(ln*3) # saut de ligne plus fort entre 2 mots\n",
        "  pdf.set_ligne(pdf.ligne+1)  \n",
        "  '''\n",
        "  # on choisi la nouvelle position de y la plus élevée des 2\n",
        "  if yafter > pdf.get_y() :\n",
        "    pdf.set_xy(pdf.l_margin, yafter + ln)"
      ],
      "execution_count": null,
      "outputs": []
    },
    {
      "cell_type": "code",
      "metadata": {
        "id": "f1I-ylLE65vx"
      },
      "source": [
        "def print_alpha_index(pdf, df, ndx, ind, rev):\n",
        "  \n",
        "  ln = 1.0\n",
        "  y_top_col_A = 20\n",
        "\n",
        "  ybefore = get_pos_y(pdf, y_top_col_A)\n",
        "\n",
        "  if ind==0 and rev is True and vk_lang_dict[ndx]['text-direction']=='rtl':\n",
        "    x_offset = (pdf.effective_page_width/2) + pdf.l_margin/2\n",
        "  else:\n",
        "    x_offset = get_x_offset(pdf, rev, ndx)\n",
        "\n",
        "  alpha_length = len(df.loc[df['index']==df['index'][ind]])\n",
        "  if debug is True:\n",
        "    print(\"Changement d'index alpha! \" + str(df['index'][ind]) + \". Qty of words:\" + str(alpha_length))\n",
        "    print(\"Position : Col=\"+str(pdf.colonne)+\". Ligne=\" + str(pdf.ligne))\n",
        "    print(\"Position : X=\"+str(pdf.l_margin + x_offset + 2))    \n",
        "  pdf.change_alpha_index == False\n",
        "  pos_x = pdf.get_x()\n",
        "  pos_y = ybefore\n",
        "  if rev is True:\n",
        "    pdf.set_font(vk_lang_dict[ndx]['font-family-bold'],'', pdf.font_size_index)\n",
        "  else:\n",
        "    pdf.set_font(pdf.chosen_font_bold,'', pdf.font_size_index)\n",
        "  pdf.set_text_color (*pdf.cover_text_color)\n",
        "  \n",
        "  pdf.set_xy(pdf.l_margin + x_offset + 2, ybefore)      \n",
        "  if vk_lang_dict[ndx]['text-direction']=='rtl' and rev is True:\n",
        "    pdf.multi_cell(pdf.multi_cell_width,  pdf.rowh, rtl_arabic(df['index'][ind], pdf), 0, 'R') \n",
        "  else:     \n",
        "    pdf.multi_cell(pdf.multi_cell_width,  pdf.rowh, df['index'][ind], 0, 'L')\n",
        " \n",
        "  yafter = pdf.get_y() # on marque la position de y après écriture\n",
        "  pdf.set_ligne(pdf.ligne+1)\n",
        "  pdf.ln(ln*6) # saut de ligne plus fort entre 2 mots\n",
        "  # on choisi la nouvelle position de y la plus élevée des 2\n",
        "  if yafter > pdf.get_y() :\n",
        "    pdf.set_xy(pdf.l_margin, yafter + ln)\n"
      ],
      "execution_count": null,
      "outputs": []
    },
    {
      "cell_type": "code",
      "metadata": {
        "id": "q_hYko8MfXQQ"
      },
      "source": [
        "def changement_colonne_page(pdf, df, ind, item, rev, ndx):\n",
        "  if pdf.colonne == 2:\n",
        "    changement_page(pdf, df, ind, item, rev, ndx)\n",
        "    pdf.set_colonne(1)\n",
        "    pdf.set_ligne (1)\n",
        "  else :\n",
        "    pdf.set_colonne(2) \n",
        "    pdf.set_ligne (1)\n",
        "  return\n",
        "  "
      ],
      "execution_count": null,
      "outputs": []
    },
    {
      "cell_type": "code",
      "metadata": {
        "id": "mGT_hpUngtPJ"
      },
      "source": [
        "def chk_changement_colonne_page(pdf, df, ind, item, rev, ndx):\n",
        "  space_left = pdf.effective_page_height - pdf.get_y()\n",
        "  # changement de page si place restante insuffisante\n",
        "  if space_left < 1:\n",
        "    if debug is True:\n",
        "      print (\"Colonne \" + str(pdf.colonne) + \" : \" + str(pdf.ligne))\n",
        "    changement_colonne_page(pdf, df, ind, item, rev, ndx)  \n",
        "\n",
        "  return"
      ],
      "execution_count": null,
      "outputs": []
    },
    {
      "cell_type": "code",
      "metadata": {
        "id": "MjGWKO1aMTLd"
      },
      "source": [
        "def create_pdf_instance(ndx, item, df, book_title, rev):\n",
        "  pdf=PDF()\n",
        "  pdf.alias_nb_pages()\n",
        "  pdf.set_langue (item['language'])\n",
        "  pdf.set_credits (vk_lang_dict[ndx]['credits'])\n",
        "  pdf.set_glossary_subtitle (vk_lang_dict[ndx]['glossary-subtitle'])  \n",
        "  pdf.set_language_special_font (vk_lang_dict[ndx]['font-family']) \n",
        "  pdf.set_text_direction (vk_lang_dict[ndx]['text-direction'])  \n",
        "  pdf.set_book_title (book_title)\n",
        "  \n",
        "  pdf.add_fonts()\n",
        "  pdf.format = 'A4'\n",
        "  pdf.unit = 'mm'\n",
        "  pdf.set_margins(20.0, 10.0, 20.0)\n",
        "  A4_height_inches = 11.6929\n",
        "  effective_page_width = pdf.w - 2*pdf.l_margin\n",
        "  effective_page_height = pdf.h - 2*pdf.b_margin\n",
        "  \n",
        "  multi_cell_width = (effective_page_width/2)-15\n",
        "  pdf.set_effective_page_width(effective_page_width)\n",
        "  pdf.set_effective_page_height(effective_page_height)\n",
        "  pdf.set_multi_cell_width(multi_cell_width)\n",
        "\n",
        "  rowh = 3.5\n",
        "  pdf.set_rowh(rowh)\n",
        "  ln = 5.5\n",
        "\n",
        "  # Add new page. Without this you cannot create the document.\n",
        "  pdf.add_page()\n",
        "  # couverture\n",
        "  if debug == False:\n",
        "    pdf.cover_green()\n",
        "    pdf.cover_2()\n",
        "    # Remember to always put one of these at least once.\n",
        "    pdf.set_font('Times','',10.0) \n",
        "    pdf.first_page(item['language'])\n",
        "    pdf.blank_page()\n",
        "    pdf.second_page()\n",
        "\n",
        "    pdf.print_header = True  \n",
        "    pdf.blank_page()\n",
        "    pdf.print_footer = True  \n",
        "    pdf.ln(ln)\n",
        "\n",
        "  idx = '' # index alpha (start)\n",
        "  # pour chaque élement expression/traduction\n",
        "  pdf.print_header = True\n",
        "  pdf.print_footer = True\n",
        "\n",
        "  if vk_lang_dict[ndx]['text-direction'] == 'rtl' and rev is True:\n",
        "    pdf.set_colonne(1)\n",
        "  else:\n",
        "    pdf.set_colonne(1)\n",
        "\n",
        "  # Début de l'itération sur le dataframe\n",
        "  print_word_top_of_page (pdf, df, 0, item, rev, ndx, (df[item['trigramme']][0], df[\"expression\"][0]), 'L')  \n",
        "\n",
        "  for ind in df.index:\n",
        "    ybefore = pdf.get_y()\n",
        "    chk_changement_colonne_page(pdf, df, ind, item, rev, ndx)\n",
        "    if df['index'][ind] != idx:\n",
        "      if pdf.ligne > 1:\n",
        "          pdf.ln(6)\n",
        "          chk_changement_colonne_page(pdf, df, ind, item, rev, ndx)\n",
        "          if pdf.ligne > pdf.MAX_LIGNE_COLONNE:\n",
        "            changement_colonne_page(pdf, df, ind, item, rev, ndx) \n",
        "\n",
        "      print_alpha_index(pdf, df, ndx, ind, rev)\n",
        "      idx = df['index'][ind]\n",
        "      chk_changement_colonne_page(pdf, df, ind, item, rev, ndx)\n",
        "\n",
        "    print_word_colonne (ndx, item['trigramme'], df, pdf, ind, rev, vk_lang_dict[ndx]['text-direction'])\n",
        "    #print_word_tuple(ndx, item['trigramme'], df, pdf, ind, rev, vk_lang_dict[ndx]['text-direction'])\n",
        "\n",
        "  df_size = len(df.index)-1\n",
        "  pos='L'\n",
        "  if pdf.colonne == 2:\n",
        "    pos = 'R'\n",
        "  print_word_top_of_page (pdf, df, df_size, item, rev, ndx, (df[item['trigramme']][df_size], df[\"expression\"][df_size]), pos)  \n",
        "  pdf.ln(ln)  \n",
        "  pdf.print_header = False\n",
        "  pdf.add_page()\n",
        "  pdf.print_footer = False  \n",
        "  pdf.cover_3()\n",
        "  pdf.cover_4()\n",
        "  # cut here -------------------------------------------------------------\n",
        "\n",
        "  dossier = item['trigramme']\n",
        "  #if not os.path.exists(dossier):\n",
        "  #  os.makedirs(dossier)\n",
        "  #os.chdir(\"/content/drive/MyDrive/Trad-Union/Corpus/ASAMLA/\" + dossier)\n",
        "\n",
        "  if rev is True:\n",
        "    output_pdf = 'med-vac-lex-' + item['trigramme'] + '-fr-v' + version + '.pdf'\n",
        "    pdf.output(output_pdf, 'F')\n",
        "  else:\n",
        "    output_pdf = 'med-vac-lex-fr-' + item['trigramme'] + '-v' + version + '.pdf'\n",
        "    pdf.output(output_pdf, 'F')  \n",
        "\n",
        "  #os.chdir(\"/content/drive/MyDrive/Trad-Union/Corpus/ASAMLA/\")\n",
        "\n",
        "  return (output_pdf)"
      ],
      "execution_count": null,
      "outputs": []
    },
    {
      "cell_type": "code",
      "metadata": {
        "id": "4OtBgkb71JDq"
      },
      "source": [
        "debug=False"
      ],
      "execution_count": null,
      "outputs": []
    },
    {
      "cell_type": "code",
      "metadata": {
        "id": "iFreNbsEx_DL"
      },
      "source": [
        "v_ = version.split(\".\")\n",
        "v = int(v_[2])+1\n",
        "version = str(v_[0]+\".\"+v_[1]+\".\"+ str(v))"
      ],
      "execution_count": null,
      "outputs": []
    },
    {
      "cell_type": "code",
      "metadata": {
        "colab": {
          "base_uri": "https://localhost:8080/",
          "height": 35
        },
        "id": "fjtIo8z3yJkw",
        "outputId": "f6e6eddb-3331-4a39-d7fc-1c3fde187f63"
      },
      "source": [
        "version"
      ],
      "execution_count": null,
      "outputs": [
        {
          "output_type": "execute_result",
          "data": {
            "application/vnd.google.colaboratory.intrinsic+json": {
              "type": "string"
            },
            "text/plain": [
              "'2.4.8'"
            ]
          },
          "metadata": {},
          "execution_count": 39
        }
      ]
    },
    {
      "cell_type": "code",
      "metadata": {
        "id": "5kB2mD9YkodD"
      },
      "source": [
        "debug=False"
      ],
      "execution_count": null,
      "outputs": []
    },
    {
      "cell_type": "code",
      "metadata": {
        "id": "NS8rLzV6_Imp"
      },
      "source": [
        "vk_lang_dict[0]['font-family']='NotoSansArabic-Regular'"
      ],
      "execution_count": null,
      "outputs": []
    },
    {
      "cell_type": "code",
      "metadata": {
        "id": "xRN7a9CKsfuD",
        "colab": {
          "base_uri": "https://localhost:8080/"
        },
        "outputId": "ff54f991-0b86-4a4c-8258-792722c75a6b"
      },
      "source": [
        "#ouverture de chaque onglet Corpus de travail dans un DF\n",
        "df = df_corpus_trad.copy()\n",
        "df_corpus_langue=[] \n",
        "os.chdir(config.root_path)\n",
        "print (config.root_path)\n",
        "for index, item in enumerate(vk_lang_dict):\n",
        "  print(df[index])\n",
        "  book_title = \"Français-\"+item['language']\n",
        "  df_corpus_langue.append (charge_corpus_langue(df_corpus, item['trigramme']))\n",
        "  output_pdf = create_pdf_instance(index, item, df_corpus_langue[index], book_title, rev=False)\n",
        "  #pdf2img(item['trigramme'], output_pdf)\n",
        "\n",
        "  book_title = item['language'] + \"-Français\"\n",
        "  output_pdf = create_pdf_instance(index, item, df[index], book_title, rev=True)\n",
        "  #pdf2img_rev(item['trigramme'], output_pdf)   \n"
      ],
      "execution_count": null,
      "outputs": [
        {
          "output_type": "stream",
          "name": "stdout",
          "text": [
            "/content/drive/MyDrive/Trad-Union/Corpus/ASAMLA/\n",
            "          uid  ... index\n",
            "0    4587576b  ...      \n",
            "1    f49563a9  ...      \n",
            "2    f6e3da7d  ...      \n",
            "3    36d5b0ee  ...      \n",
            "4    c5658d3f  ...      \n",
            "..        ...  ...   ...\n",
            "166  0783835b  ...      \n",
            "167  39cba202  ...      \n",
            "168  d5ccd913  ...      \n",
            "169  8a44a95b  ...      \n",
            "170  3ec31ffc  ...      \n",
            "\n",
            "[171 rows x 8 columns]\n"
          ]
        },
        {
          "output_type": "stream",
          "name": "stderr",
          "text": [
            "/usr/local/lib/python3.7/dist-packages/fpdf/ttfonts.py:670: UserWarning: cmap value too big/small: -64332\n",
            "  warnings.warn(\"cmap value too big/small: %s\" % cm)\n",
            "/usr/local/lib/python3.7/dist-packages/fpdf/ttfonts.py:670: UserWarning: cmap value too big/small: -64331\n",
            "  warnings.warn(\"cmap value too big/small: %s\" % cm)\n",
            "/usr/local/lib/python3.7/dist-packages/fpdf/ttfonts.py:670: UserWarning: cmap value too big/small: -64333\n",
            "  warnings.warn(\"cmap value too big/small: %s\" % cm)\n",
            "/usr/local/lib/python3.7/dist-packages/fpdf/ttfonts.py:670: UserWarning: cmap value too big/small: -64357\n",
            "  warnings.warn(\"cmap value too big/small: %s\" % cm)\n",
            "/usr/local/lib/python3.7/dist-packages/fpdf/ttfonts.py:670: UserWarning: cmap value too big/small: -64356\n",
            "  warnings.warn(\"cmap value too big/small: %s\" % cm)\n",
            "/usr/local/lib/python3.7/dist-packages/fpdf/ttfonts.py:670: UserWarning: cmap value too big/small: -64358\n",
            "  warnings.warn(\"cmap value too big/small: %s\" % cm)\n",
            "/usr/local/lib/python3.7/dist-packages/fpdf/ttfonts.py:670: UserWarning: cmap value too big/small: -64353\n",
            "  warnings.warn(\"cmap value too big/small: %s\" % cm)\n",
            "/usr/local/lib/python3.7/dist-packages/fpdf/ttfonts.py:670: UserWarning: cmap value too big/small: -64383\n",
            "  warnings.warn(\"cmap value too big/small: %s\" % cm)\n",
            "/usr/local/lib/python3.7/dist-packages/fpdf/ttfonts.py:670: UserWarning: cmap value too big/small: -64382\n",
            "  warnings.warn(\"cmap value too big/small: %s\" % cm)\n",
            "/usr/local/lib/python3.7/dist-packages/fpdf/ttfonts.py:670: UserWarning: cmap value too big/small: -64384\n",
            "  warnings.warn(\"cmap value too big/small: %s\" % cm)\n",
            "/usr/local/lib/python3.7/dist-packages/fpdf/ttfonts.py:670: UserWarning: cmap value too big/small: -64412\n",
            "  warnings.warn(\"cmap value too big/small: %s\" % cm)\n",
            "/usr/local/lib/python3.7/dist-packages/fpdf/ttfonts.py:670: UserWarning: cmap value too big/small: -64411\n",
            "  warnings.warn(\"cmap value too big/small: %s\" % cm)\n",
            "/usr/local/lib/python3.7/dist-packages/fpdf/ttfonts.py:670: UserWarning: cmap value too big/small: -64413\n",
            "  warnings.warn(\"cmap value too big/small: %s\" % cm)\n",
            "/usr/local/lib/python3.7/dist-packages/fpdf/ttfonts.py:670: UserWarning: cmap value too big/small: -65148\n",
            "  warnings.warn(\"cmap value too big/small: %s\" % cm)\n",
            "/usr/local/lib/python3.7/dist-packages/fpdf/ttfonts.py:670: UserWarning: cmap value too big/small: -65067\n",
            "  warnings.warn(\"cmap value too big/small: %s\" % cm)\n",
            "/usr/local/lib/python3.7/dist-packages/fpdf/ttfonts.py:670: UserWarning: cmap value too big/small: -65162\n",
            "  warnings.warn(\"cmap value too big/small: %s\" % cm)\n",
            "/usr/local/lib/python3.7/dist-packages/fpdf/ttfonts.py:670: UserWarning: cmap value too big/small: -65161\n",
            "  warnings.warn(\"cmap value too big/small: %s\" % cm)\n",
            "/usr/local/lib/python3.7/dist-packages/fpdf/ttfonts.py:670: UserWarning: cmap value too big/small: -65160\n",
            "  warnings.warn(\"cmap value too big/small: %s\" % cm)\n",
            "/usr/local/lib/python3.7/dist-packages/fpdf/ttfonts.py:670: UserWarning: cmap value too big/small: -65159\n",
            "  warnings.warn(\"cmap value too big/small: %s\" % cm)\n",
            "/usr/local/lib/python3.7/dist-packages/fpdf/ttfonts.py:670: UserWarning: cmap value too big/small: -65158\n",
            "  warnings.warn(\"cmap value too big/small: %s\" % cm)\n",
            "/usr/local/lib/python3.7/dist-packages/fpdf/ttfonts.py:670: UserWarning: cmap value too big/small: -65164\n",
            "  warnings.warn(\"cmap value too big/small: %s\" % cm)\n",
            "/usr/local/lib/python3.7/dist-packages/fpdf/ttfonts.py:670: UserWarning: cmap value too big/small: -65163\n",
            "  warnings.warn(\"cmap value too big/small: %s\" % cm)\n",
            "/usr/local/lib/python3.7/dist-packages/fpdf/ttfonts.py:670: UserWarning: cmap value too big/small: -65157\n",
            "  warnings.warn(\"cmap value too big/small: %s\" % cm)\n",
            "/usr/local/lib/python3.7/dist-packages/fpdf/ttfonts.py:670: UserWarning: cmap value too big/small: -65168\n",
            "  warnings.warn(\"cmap value too big/small: %s\" % cm)\n",
            "/usr/local/lib/python3.7/dist-packages/fpdf/ttfonts.py:670: UserWarning: cmap value too big/small: -65169\n",
            "  warnings.warn(\"cmap value too big/small: %s\" % cm)\n",
            "/usr/local/lib/python3.7/dist-packages/fpdf/ttfonts.py:670: UserWarning: cmap value too big/small: -65171\n",
            "  warnings.warn(\"cmap value too big/small: %s\" % cm)\n",
            "/usr/local/lib/python3.7/dist-packages/fpdf/ttfonts.py:670: UserWarning: cmap value too big/small: -65170\n",
            "  warnings.warn(\"cmap value too big/small: %s\" % cm)\n",
            "/usr/local/lib/python3.7/dist-packages/fpdf/ttfonts.py:670: UserWarning: cmap value too big/small: -65172\n",
            "  warnings.warn(\"cmap value too big/small: %s\" % cm)\n",
            "/usr/local/lib/python3.7/dist-packages/fpdf/ttfonts.py:670: UserWarning: cmap value too big/small: -65174\n",
            "  warnings.warn(\"cmap value too big/small: %s\" % cm)\n",
            "/usr/local/lib/python3.7/dist-packages/fpdf/ttfonts.py:670: UserWarning: cmap value too big/small: -65176\n",
            "  warnings.warn(\"cmap value too big/small: %s\" % cm)\n",
            "/usr/local/lib/python3.7/dist-packages/fpdf/ttfonts.py:670: UserWarning: cmap value too big/small: -65173\n",
            "  warnings.warn(\"cmap value too big/small: %s\" % cm)\n",
            "/usr/local/lib/python3.7/dist-packages/fpdf/ttfonts.py:670: UserWarning: cmap value too big/small: -65175\n",
            "  warnings.warn(\"cmap value too big/small: %s\" % cm)\n",
            "/usr/local/lib/python3.7/dist-packages/fpdf/ttfonts.py:670: UserWarning: cmap value too big/small: -64268\n",
            "  warnings.warn(\"cmap value too big/small: %s\" % cm)\n",
            "/usr/local/lib/python3.7/dist-packages/fpdf/ttfonts.py:670: UserWarning: cmap value too big/small: -64301\n",
            "  warnings.warn(\"cmap value too big/small: %s\" % cm)\n",
            "/usr/local/lib/python3.7/dist-packages/fpdf/ttfonts.py:670: UserWarning: cmap value too big/small: -64313\n",
            "  warnings.warn(\"cmap value too big/small: %s\" % cm)\n",
            "/usr/local/lib/python3.7/dist-packages/fpdf/ttfonts.py:670: UserWarning: cmap value too big/small: -64315\n",
            "  warnings.warn(\"cmap value too big/small: %s\" % cm)\n",
            "/usr/local/lib/python3.7/dist-packages/fpdf/ttfonts.py:670: UserWarning: cmap value too big/small: -64397\n",
            "  warnings.warn(\"cmap value too big/small: %s\" % cm)\n",
            "/usr/local/lib/python3.7/dist-packages/fpdf/ttfonts.py:670: UserWarning: cmap value too big/small: -64417\n",
            "  warnings.warn(\"cmap value too big/small: %s\" % cm)\n",
            "/usr/local/lib/python3.7/dist-packages/fpdf/ttfonts.py:670: UserWarning: cmap value too big/small: -65058\n",
            "  warnings.warn(\"cmap value too big/small: %s\" % cm)\n",
            "/usr/local/lib/python3.7/dist-packages/fpdf/ttfonts.py:670: UserWarning: cmap value too big/small: -65065\n",
            "  warnings.warn(\"cmap value too big/small: %s\" % cm)\n",
            "/usr/local/lib/python3.7/dist-packages/fpdf/ttfonts.py:670: UserWarning: cmap value too big/small: -65069\n",
            "  warnings.warn(\"cmap value too big/small: %s\" % cm)\n",
            "/usr/local/lib/python3.7/dist-packages/fpdf/ttfonts.py:670: UserWarning: cmap value too big/small: -65071\n",
            "  warnings.warn(\"cmap value too big/small: %s\" % cm)\n",
            "/usr/local/lib/python3.7/dist-packages/fpdf/ttfonts.py:670: UserWarning: cmap value too big/small: -65074\n",
            "  warnings.warn(\"cmap value too big/small: %s\" % cm)\n",
            "/usr/local/lib/python3.7/dist-packages/fpdf/ttfonts.py:670: UserWarning: cmap value too big/small: -65076\n",
            "  warnings.warn(\"cmap value too big/small: %s\" % cm)\n",
            "/usr/local/lib/python3.7/dist-packages/fpdf/ttfonts.py:670: UserWarning: cmap value too big/small: -65077\n",
            "  warnings.warn(\"cmap value too big/small: %s\" % cm)\n",
            "/usr/local/lib/python3.7/dist-packages/fpdf/ttfonts.py:670: UserWarning: cmap value too big/small: -65079\n",
            "  warnings.warn(\"cmap value too big/small: %s\" % cm)\n",
            "/usr/local/lib/python3.7/dist-packages/fpdf/ttfonts.py:670: UserWarning: cmap value too big/small: -65080\n",
            "  warnings.warn(\"cmap value too big/small: %s\" % cm)\n",
            "/usr/local/lib/python3.7/dist-packages/fpdf/ttfonts.py:670: UserWarning: cmap value too big/small: -65081\n",
            "  warnings.warn(\"cmap value too big/small: %s\" % cm)\n",
            "/usr/local/lib/python3.7/dist-packages/fpdf/ttfonts.py:670: UserWarning: cmap value too big/small: -65082\n",
            "  warnings.warn(\"cmap value too big/small: %s\" % cm)\n",
            "/usr/local/lib/python3.7/dist-packages/fpdf/ttfonts.py:670: UserWarning: cmap value too big/small: -65084\n",
            "  warnings.warn(\"cmap value too big/small: %s\" % cm)\n",
            "/usr/local/lib/python3.7/dist-packages/fpdf/ttfonts.py:670: UserWarning: cmap value too big/small: -65086\n",
            "  warnings.warn(\"cmap value too big/small: %s\" % cm)\n",
            "/usr/local/lib/python3.7/dist-packages/fpdf/ttfonts.py:670: UserWarning: cmap value too big/small: -65090\n",
            "  warnings.warn(\"cmap value too big/small: %s\" % cm)\n",
            "/usr/local/lib/python3.7/dist-packages/fpdf/ttfonts.py:670: UserWarning: cmap value too big/small: -65092\n",
            "  warnings.warn(\"cmap value too big/small: %s\" % cm)\n",
            "/usr/local/lib/python3.7/dist-packages/fpdf/ttfonts.py:670: UserWarning: cmap value too big/small: -65093\n",
            "  warnings.warn(\"cmap value too big/small: %s\" % cm)\n",
            "/usr/local/lib/python3.7/dist-packages/fpdf/ttfonts.py:670: UserWarning: cmap value too big/small: -65095\n",
            "  warnings.warn(\"cmap value too big/small: %s\" % cm)\n",
            "/usr/local/lib/python3.7/dist-packages/fpdf/ttfonts.py:670: UserWarning: cmap value too big/small: -65097\n",
            "  warnings.warn(\"cmap value too big/small: %s\" % cm)\n",
            "/usr/local/lib/python3.7/dist-packages/fpdf/ttfonts.py:670: UserWarning: cmap value too big/small: -65101\n",
            "  warnings.warn(\"cmap value too big/small: %s\" % cm)\n",
            "/usr/local/lib/python3.7/dist-packages/fpdf/ttfonts.py:670: UserWarning: cmap value too big/small: -65103\n",
            "  warnings.warn(\"cmap value too big/small: %s\" % cm)\n",
            "/usr/local/lib/python3.7/dist-packages/fpdf/ttfonts.py:670: UserWarning: cmap value too big/small: -65109\n",
            "  warnings.warn(\"cmap value too big/small: %s\" % cm)\n"
          ]
        }
      ]
    },
    {
      "cell_type": "code",
      "metadata": {
        "id": "VRFjkq5D4DvA",
        "colab": {
          "base_uri": "https://localhost:8080/",
          "height": 35
        },
        "outputId": "3c8072d2-caad-499e-be76-92df7a926fa0"
      },
      "source": [
        "# sauvegarde du fichier de paramétrage\n",
        "'''\n",
        "with open('med_vac_synthese.json', 'w') as fp:\n",
        "    json.dump(vk_lang_dict, fp)\n",
        "'''"
      ],
      "execution_count": null,
      "outputs": [
        {
          "output_type": "execute_result",
          "data": {
            "application/vnd.google.colaboratory.intrinsic+json": {
              "type": "string"
            },
            "text/plain": [
              "\"\\nwith open('med_vac_synthese.json', 'w') as fp:\\n    json.dump(vk_lang_dict, fp)\\n\""
            ]
          },
          "metadata": {},
          "execution_count": 134
        }
      ]
    },
    {
      "cell_type": "code",
      "metadata": {
        "colab": {
          "base_uri": "https://localhost:8080/",
          "height": 35
        },
        "id": "fAJduQUTQeQF",
        "outputId": "fbfb327c-a3f0-472d-c0a3-1782375c334f"
      },
      "source": [
        "pdf = FPDF('P', 'mm', 'A4')\n",
        "im_width = 4001\n",
        "im_height = 7001\n",
        "page_width = 210\n",
        "page_height = 297\n",
        "left_margin = 0\n",
        "right_margin = 0\n",
        "album = []\n",
        "album.append(\"26363.jpg\")\n",
        "for image in album:\n",
        "  pdf.add_page()\n",
        "  pdf.image(image, left_margin, right_margin, page_width, page_height)\n",
        "pdf.output(\"/content/drive/MyDrive/Trad-Union/Corpus/ASAMLA/cover.pdf\", \"F\")"
      ],
      "execution_count": null,
      "outputs": [
        {
          "output_type": "execute_result",
          "data": {
            "application/vnd.google.colaboratory.intrinsic+json": {
              "type": "string"
            },
            "text/plain": [
              "''"
            ]
          },
          "metadata": {},
          "execution_count": 115
        }
      ]
    },
    {
      "cell_type": "code",
      "metadata": {
        "colab": {
          "base_uri": "https://localhost:8080/"
        },
        "id": "3IahguK1ZTkh",
        "outputId": "3ac9630f-4b8f-46d5-c1b1-14cc2dd82567"
      },
      "source": [
        "#https://stackoverflow.com/questions/27327513/create-pdf-from-a-list-of-images\n",
        "from fpdf import FPDF\n",
        "import os, sys, glob\n",
        "from tqdm import tqdm\n",
        "\n",
        "pdf = FPDF('P', 'mm', 'A4')\n",
        "im_width = 1654\n",
        "im_height = 2339\n",
        "\n",
        "aspect_ratio = im_height/im_width\n",
        "page_width = 210\n",
        "# page_height = aspect_ratio * page_width\n",
        "page_height = 297\n",
        "left_margin = 0\n",
        "right_margin = 0\n",
        "\n",
        "\n",
        "dossier = \"ams\"\n",
        "sous_dossier = \"lex-ams-fr\"\n",
        "os.chdir(\"/content/drive/MyDrive/Trad-Union/Corpus/ASAMLA/\" +  dossier + \"/\" + sous_dossier) \n",
        "album = []\n",
        "\n",
        "for i in range(18, 0, -1):\n",
        "  fn = \"med-vac-\" + sous_dossier + \"-_\" + str(i) + \".jpg\"\n",
        "  album.append(fn)\n",
        "\n",
        "# imagelist is the list with all image filenames\n",
        "for image in album:\n",
        "  pdf.add_page()\n",
        "  pdf.image(image, left_margin, right_margin, page_width, page_height)\n",
        "pdf.output(\"/content/drive/MyDrive/Trad-Union/Corpus/ASAMLA/med-vac-ams-fr-v2.1-RTL.pdf\", \"F\")\n",
        "print('Conversion completed!')\n"
      ],
      "execution_count": null,
      "outputs": [
        {
          "output_type": "stream",
          "name": "stdout",
          "text": [
            "Conversion completed!\n"
          ]
        }
      ]
    },
    {
      "cell_type": "code",
      "metadata": {
        "id": "Ognc1xaTvugN"
      },
      "source": [
        ""
      ],
      "execution_count": null,
      "outputs": []
    }
  ]
}