{
  "nbformat": 4,
  "nbformat_minor": 0,
  "metadata": {
    "colab": {
      "name": "corpus_maker_update.ipynb",
      "provenance": [],
      "collapsed_sections": [],
      "authorship_tag": "ABX9TyOrInPx4oaoFYkaNiMmp6pb",
      "include_colab_link": true
    },
    "kernelspec": {
      "name": "python3",
      "display_name": "Python 3"
    },
    "language_info": {
      "name": "python"
    }
  },
  "cells": [
    {
      "cell_type": "markdown",
      "metadata": {
        "id": "view-in-github",
        "colab_type": "text"
      },
      "source": [
        "<a href=\"https://colab.research.google.com/github/gretiere545/corpus/blob/main/corpus_maker_update.ipynb\" target=\"_parent\"><img src=\"https://colab.research.google.com/assets/colab-badge.svg\" alt=\"Open In Colab\"/></a>"
      ]
    },
    {
      "cell_type": "markdown",
      "metadata": {
        "id": "FB29HktrvvBJ"
      },
      "source": [
        "# Fabrique des Corpus ASAMLA"
      ]
    },
    {
      "cell_type": "markdown",
      "metadata": {
        "id": "7P--WKJPv0Px"
      },
      "source": [
        "## Phase 2 : Mise à jour d'un nouveau Corpus\n",
        "Dans le cas où des modifications, ajouts, suppressions ont fait évoluer le Corpus en français, il faut mettre à jour le Corpus de traduction de travail pour les interprètes"
      ]
    },
    {
      "cell_type": "code",
      "metadata": {
        "colab": {
          "base_uri": "https://localhost:8080/"
        },
        "id": "_5CoZ3ORv3Bh",
        "outputId": "077cef24-497a-43db-a89d-64f9b8b1392e"
      },
      "source": [
        "!export PYTHONIOENCODING=utf8\n",
        "!pip install gspread-formatting\n",
        "import pandas as pd\n",
        "import numpy as np\n",
        "import base64\n",
        "import uuid\n",
        "import zlib\n",
        "import binascii\n",
        "import random\n",
        "import os\n",
        "import secrets\n",
        "pd.set_option(\"display.width\",1000)\n",
        "# Ce bout de code pour pouvoir downloader des fichiers sur le drive\n",
        "from google.colab import drive\n",
        "drive.mount('/content/drive')\n",
        "# Ce bout de code pour pouvoir downloader des google sheets dans des dataframes\n",
        "from google.colab import auth\n",
        "auth.authenticate_user()\n",
        "import gspread\n",
        "from gspread_formatting import *\n",
        "from gspread_dataframe import get_as_dataframe, set_with_dataframe\n",
        "from oauth2client.client import GoogleCredentials\n",
        "gc = gspread.authorize(GoogleCredentials.get_application_default())\n",
        "%cd /content/drive/MyDrive/Trad-Union/Corpus/ASAMLA\n"
      ],
      "execution_count": null,
      "outputs": [
        {
          "output_type": "stream",
          "name": "stdout",
          "text": [
            "Collecting gspread-formatting\n",
            "  Downloading gspread_formatting-1.0.4-py2.py3-none-any.whl (21 kB)\n",
            "Requirement already satisfied: gspread>=3.0.0 in /usr/local/lib/python3.7/dist-packages (from gspread-formatting) (3.0.1)\n",
            "Requirement already satisfied: requests>=2.2.1 in /usr/local/lib/python3.7/dist-packages (from gspread>=3.0.0->gspread-formatting) (2.23.0)\n",
            "Requirement already satisfied: idna<3,>=2.5 in /usr/local/lib/python3.7/dist-packages (from requests>=2.2.1->gspread>=3.0.0->gspread-formatting) (2.10)\n",
            "Requirement already satisfied: certifi>=2017.4.17 in /usr/local/lib/python3.7/dist-packages (from requests>=2.2.1->gspread>=3.0.0->gspread-formatting) (2021.10.8)\n",
            "Requirement already satisfied: urllib3!=1.25.0,!=1.25.1,<1.26,>=1.21.1 in /usr/local/lib/python3.7/dist-packages (from requests>=2.2.1->gspread>=3.0.0->gspread-formatting) (1.24.3)\n",
            "Requirement already satisfied: chardet<4,>=3.0.2 in /usr/local/lib/python3.7/dist-packages (from requests>=2.2.1->gspread>=3.0.0->gspread-formatting) (3.0.4)\n",
            "Installing collected packages: gspread-formatting\n",
            "Successfully installed gspread-formatting-1.0.4\n",
            "Mounted at /content/drive\n",
            "/content/drive/MyDrive/Trad-Union/Corpus/ASAMLA\n"
          ]
        }
      ]
    },
    {
      "cell_type": "code",
      "metadata": {
        "id": "bHi93Ea3RNaI"
      },
      "source": [
        "def make_unique_id():\n",
        "  return str(uuid.uuid4())[:8]"
      ],
      "execution_count": null,
      "outputs": []
    },
    {
      "cell_type": "code",
      "metadata": {
        "id": "A-3fautuQyWs"
      },
      "source": [
        "def format_feuille(wb, nom_onglet):\n",
        "  # onglet\n",
        "  ws = wb.worksheet(nom_onglet)\n",
        "  # Format de la partie gauche\n",
        "  fmt = cellFormat(\n",
        "      backgroundColor=color(0.91, 0.96, 0.93),\n",
        "      textFormat=textFormat(bold=False, foregroundColor=color(0,0,0), fontSize='10'),\n",
        "      horizontalAlignment='LEFT'\n",
        "      )\n",
        "  format_cell_range(ws, 'A:B', fmt)\n",
        "\n",
        "  # format de l'entete\n",
        "  fmt = cellFormat(\n",
        "      backgroundColor=color(0.7725,0.8431,0.7922),\n",
        "      textFormat=textFormat(bold=True, foregroundColor=color(0,0,0), fontSize='10'),\n",
        "      horizontalAlignment='LEFT'\n",
        "      )\n",
        "  format_cell_range(ws, '1', fmt)\n",
        "  \n",
        "  # on gèle l'entete et les colonnes de gauche\n",
        "  set_frozen(ws, rows=1, cols=2)\n",
        "  set_column_width(ws, 'A', 100)\n",
        "  set_column_width(ws, 'B', 400)\n",
        "  set_column_width(ws, 'C:', 600)"
      ],
      "execution_count": null,
      "outputs": []
    },
    {
      "cell_type": "markdown",
      "metadata": {
        "id": "ShHAKRghhdgV"
      },
      "source": [
        "Référentiels Corpus de travail"
      ]
    },
    {
      "cell_type": "code",
      "metadata": {
        "id": "Lv4qBn3ZwGVS"
      },
      "source": [
        "# Corpus Français Médical Vaccination\n",
        "corpus_fr_med_vac = \"asamla-corpus_francais_med_vac-v1.2\"\n",
        "corpus_fr_med_vac_uri = \"https://docs.google.com/spreadsheets/d/1-2SDHCFR5JOHCc4MiYSMo4V8yG7kfHbpIKV3q9ci6wE\"\n",
        "# Corpus Français Médical Neurologie\n",
        "corpus_fr_med_neu = \"asamla-corpus_fr_med_neurologie-v0.1\"\n",
        "corpus_fr_med_neu_uri = \"https://docs.google.com/spreadsheets/d/1EmF12up7sCF-KNaEsbGSeL9uco7BUv2enHi4deI12Jk\""
      ],
      "execution_count": null,
      "outputs": []
    },
    {
      "cell_type": "code",
      "metadata": {
        "id": "95A8ti6sRIi2"
      },
      "source": [
        "# Corpus Toutes Langues Médical Vaccination\n",
        "corpus_trad_med_vac = \"ASAMLA - Corpus Médical Vaccination-v2.0\"\n",
        "corpus_trad_med_vac_uri = \"https://docs.google.com/spreadsheets/d/1CclzYfFCW4srA3Lq_np2LpSrxj84JpcbzytL449DH8E\"\n",
        "# Corpus Toutes Langues Médical Neurologie\n",
        "corpus_trad_med_neu = \"ASAMLA-Corpus Médical Neurologie\"\n",
        "corpus_trad_med_neu_uri = \"https://docs.google.com/spreadsheets/d/1RzPCuw1yyfSFPzcttPjXHzMuxSHh4YwpKwgEBS69flU\""
      ],
      "execution_count": null,
      "outputs": []
    },
    {
      "cell_type": "markdown",
      "metadata": {
        "id": "SIp9SViIKXX2"
      },
      "source": [
        "Ouverture de la base centrale (repository) : base se trouvant sur gdrive atos.net"
      ]
    },
    {
      "cell_type": "code",
      "metadata": {
        "id": "ghnGFU1sphV_"
      },
      "source": [
        "# Ouverture de la Sheet Centrale (corpus_central_base)\n",
        "sheet_central = 'https://docs.google.com/spreadsheets/d/1L8YB1aXHUJwUE9AE6xyn_xMHalinGR335Q7lntwbu1U'\n",
        "wb_central = gc.open_by_url(sheet_central)\n",
        "# onglet Médical Vaccination\n",
        "corpus_trad_med_vac_onglet = \"med_vac_synthese\"\n",
        "# onglet Médical Neurologie\n",
        "corpus_trad_med_neu_onglet = \"med_neu_synthese\""
      ],
      "execution_count": null,
      "outputs": []
    },
    {
      "cell_type": "markdown",
      "metadata": {
        "id": "g5pYDgowwHqS"
      },
      "source": [
        "Chargement du Corpus FR : à ce stade, il ne contient que des expressions en français"
      ]
    },
    {
      "cell_type": "code",
      "metadata": {
        "id": "ZFS_1XH3woZF"
      },
      "source": [
        "uri = corpus_fr_med_neu_uri"
      ],
      "execution_count": null,
      "outputs": []
    },
    {
      "cell_type": "markdown",
      "metadata": {
        "id": "w6FLbLQp2q84"
      },
      "source": [
        "#### 2021 10 05 : Suppression de Peul, remplacé par Allemand"
      ]
    },
    {
      "cell_type": "code",
      "metadata": {
        "id": "b7bf-GlWWaaV"
      },
      "source": [
        "vk_lang_dict=[\n",
        "{'language':'Arabe','trigramme':'ams','uri':uri,'idx':1, 'update':'false'},\n",
        "{'language':'Anglais','trigramme':'eng','uri':uri,'idx':2, 'update':'false'},\n",
        "{'language':'Turc','trigramme':'tur','uri':uri,'idx':3, 'update':'false'},\n",
        "{'language':'Russe','trigramme':'rus','uri':uri,'idx':4, 'update':'false'},\n",
        "{'language':'Ukrainien','trigramme':'ukr','uri':uri,'idx':5, 'update':'false'},\n",
        "{'language':'Roumain','trigramme':'rou','uri':uri,'idx':6, 'update':'false'},\n",
        "{'language':'Hongrois','trigramme':'hun','uri':uri,'idx':7, 'update':'false'},\n",
        "{'language':'Tigrinya','trigramme':'tig','uri':uri,'idx':8, 'update':'false'},\n",
        "{'language':'Albanais','trigramme':'alb','uri':uri,'idx':9, 'update':'false'},\n",
        "{'language':'Géorgien','trigramme':'geo','uri':uri,'idx':10, 'update':'false'},\n",
        "{'language':'Arménien','trigramme':'arm','uri':uri,'idx':11, 'update':'false'},\n",
        "{'language':'Dari','trigramme':'dar','uri':uri,'idx':12, 'update':'false'},\n",
        "{'language':'Pashto','trigramme':'pst','uri':uri,'idx':13, 'update':'false'},\n",
        "{'language':'Fârsi','trigramme':'prs','uri':uri,'idx':14, 'update':'false'},\n",
        "{'language':'Azéri','trigramme':'aze','uri':uri,'idx':15, 'update':'false'},\n",
        "{'language':'Espagnol','trigramme':'esp','uri':uri,'idx':16, 'update':'false'},\n",
        "{'language':'Amharique','trigramme':'amh','uri':uri,'idx':17, 'update':'false'},\n",
        "{'language':'Allemand','trigramme':'all','uri':uri,'idx':18, 'update':'false'}\n",
        "]\n"
      ],
      "execution_count": null,
      "outputs": []
    },
    {
      "cell_type": "markdown",
      "metadata": {
        "id": "cLwn4uo9KtFR"
      },
      "source": [
        "Fonction d'attribution d'id unique pour chaque expression à l'intérieur d'un corpus"
      ]
    },
    {
      "cell_type": "code",
      "metadata": {
        "id": "nzGsGA9UoRDL"
      },
      "source": [
        "#ouverture de l'onglet Corpus dans un DF\n",
        "wb = gc.open_by_url(uri)\n",
        "t_corpus = wb.get_worksheet(1)\n",
        "data_t_corpus = t_corpus.get_all_values()\n",
        "df_corpus = pd.DataFrame(data_t_corpus[1:], columns=data_t_corpus[0])"
      ],
      "execution_count": null,
      "outputs": []
    },
    {
      "cell_type": "code",
      "metadata": {
        "id": "t35lD8woh8JJ"
      },
      "source": [
        "# SI L'état de l'expression est VALIDE on ajoute le hash qui sert de clé\n",
        "df_corpus['uid'] = df_corpus[['uid','état']].apply(lambda x: x[0] if (x[0]!=\"\" and x[1]==\"validé\") else make_unique_id() if (x[0]==\"\" and x[1]==\"validé\") else \"\", axis=1)\n",
        "# exemple de bout de code pour accéder à un enregistrement par la clé\n",
        "# df_corpus.loc[df_corpus['uid']=='g06g6WJ6ROb8-tWX2TlVtwvKY3MdWg']['coded_expression'].apply(lambda x:decode_expression(x))"
      ],
      "execution_count": null,
      "outputs": []
    },
    {
      "cell_type": "code",
      "metadata": {
        "id": "hqevU9CGfjzR"
      },
      "source": [
        "# on élimine toutes les lignes sans expression\n",
        "df_corpus[\"expression\"].replace('', np.nan, inplace=True)\n",
        "df_corpus = df_corpus[df_corpus['expression'].notna()]\n",
        "# trim des expressions\n",
        "df_corpus['français'] = df_corpus['expression'].apply(lambda x:x.strip())"
      ],
      "execution_count": null,
      "outputs": []
    },
    {
      "cell_type": "code",
      "metadata": {
        "id": "EK4EJUGwirvz"
      },
      "source": [
        "# on ne conserve que les colonnes utiles\n",
        "df_corpus = df_corpus[['uid','français']]\n",
        "# on ajoute la colonne pour la traduction\n",
        "df_corpus['traduction'] = ''"
      ],
      "execution_count": null,
      "outputs": []
    },
    {
      "cell_type": "markdown",
      "metadata": {
        "id": "wDGk1jsusYLA"
      },
      "source": [
        "Sauvegarde du corpus FR avec l'uid"
      ]
    },
    {
      "cell_type": "code",
      "metadata": {
        "id": "7KFFuo3Thm_P"
      },
      "source": [
        "# sauvegarde du dataframe dans la table wb_central de la feuille gsheet\n",
        "set_with_dataframe(t_corpus, df_corpus)\n"
      ],
      "execution_count": null,
      "outputs": []
    },
    {
      "cell_type": "code",
      "metadata": {
        "id": "Lznkobdbc8Uw"
      },
      "source": [
        "df_corpus = df_corpus.loc[df_corpus['uid']!=\"\"]"
      ],
      "execution_count": null,
      "outputs": []
    },
    {
      "cell_type": "markdown",
      "metadata": {
        "id": "3e20tc-RWCwl"
      },
      "source": [
        "#### Mise à jour du corpus français dans un corpus de traduction : 1 langue = 1 onglet"
      ]
    },
    {
      "cell_type": "code",
      "metadata": {
        "id": "CBDg2QNxV6rG"
      },
      "source": [
        "uri = corpus_trad_med_neu_uri\n",
        "#ouverture de l'onglet Corpus dans un DF\n",
        "wb = gc.open_by_url(uri)\n",
        "#pour chaque corpus, on créé un onglet si besoin\n",
        "for index, item in enumerate(vk_lang_dict):\n",
        "  #df_corpus_all.append (df_corpus)\n",
        "  nom_onglet = item['language']\n",
        "  # si l'onglet existe déjà, on le supprime ?\n",
        "  try:\n",
        "    ws = wb.worksheet(nom_onglet)\n",
        "    data_onglet = ws.get_all_values()\n",
        "    df_onglet = pd.DataFrame(data_onglet[1:], columns=data_onglet[0])\n",
        "    # fusion des données présentes et nouvelles\n",
        "    frames = [df_onglet, df_corpus]\n",
        "    result = pd.concat([df_onglet, df_corpus]).drop_duplicates('uid').reset_index(drop=True)\n",
        "    set_with_dataframe(ws, result)\n",
        "    format_feuille(wb, nom_onglet)     \n",
        "  except:\n",
        "    print (\"Onglet inexistant !\")\n",
        "    wb.add_worksheet(nom_onglet, 1, 1)\n",
        "    export_sheet = wb.worksheet(nom_onglet)\n",
        "    set_with_dataframe(export_sheet, df_corpus)\n",
        "    format_feuille(wb, nom_onglet)    "
      ],
      "execution_count": null,
      "outputs": []
    },
    {
      "cell_type": "code",
      "metadata": {
        "colab": {
          "base_uri": "https://localhost:8080/",
          "height": 206
        },
        "id": "ABR0HNc3CU0N",
        "outputId": "091ad3e0-8c47-4885-cadb-da7f24ec3813"
      },
      "source": [
        "df_corpus"
      ],
      "execution_count": null,
      "outputs": [
        {
          "output_type": "execute_result",
          "data": {
            "text/html": [
              "<div>\n",
              "<style scoped>\n",
              "    .dataframe tbody tr th:only-of-type {\n",
              "        vertical-align: middle;\n",
              "    }\n",
              "\n",
              "    .dataframe tbody tr th {\n",
              "        vertical-align: top;\n",
              "    }\n",
              "\n",
              "    .dataframe thead th {\n",
              "        text-align: right;\n",
              "    }\n",
              "</style>\n",
              "<table border=\"1\" class=\"dataframe\">\n",
              "  <thead>\n",
              "    <tr style=\"text-align: right;\">\n",
              "      <th></th>\n",
              "      <th>uid</th>\n",
              "      <th>français</th>\n",
              "      <th>traduction</th>\n",
              "    </tr>\n",
              "  </thead>\n",
              "  <tbody>\n",
              "    <tr>\n",
              "      <th>0</th>\n",
              "      <td>030d5e5b</td>\n",
              "      <td>Avez-vous des maux de tête ?</td>\n",
              "      <td></td>\n",
              "    </tr>\n",
              "    <tr>\n",
              "      <th>1</th>\n",
              "      <td>3e47a509</td>\n",
              "      <td>Avez-vous mal à la tête ?</td>\n",
              "      <td></td>\n",
              "    </tr>\n",
              "    <tr>\n",
              "      <th>2</th>\n",
              "      <td>f0e17bd2</td>\n",
              "      <td>Avez-vous tendance à avoir des migraines ?</td>\n",
              "      <td></td>\n",
              "    </tr>\n",
              "    <tr>\n",
              "      <th>3</th>\n",
              "      <td>3446fb6e</td>\n",
              "      <td>Prenez-vous des médicaments pour les\\r\\ncontrô...</td>\n",
              "      <td></td>\n",
              "    </tr>\n",
              "    <tr>\n",
              "      <th>4</th>\n",
              "      <td>0b3b1a57</td>\n",
              "      <td>Céphalée unilatérale</td>\n",
              "      <td></td>\n",
              "    </tr>\n",
              "  </tbody>\n",
              "</table>\n",
              "</div>"
            ],
            "text/plain": [
              "        uid                                           français traduction\n",
              "0  030d5e5b                       Avez-vous des maux de tête ?           \n",
              "1  3e47a509                          Avez-vous mal à la tête ?           \n",
              "2  f0e17bd2         Avez-vous tendance à avoir des migraines ?           \n",
              "3  3446fb6e  Prenez-vous des médicaments pour les\\r\\ncontrô...           \n",
              "4  0b3b1a57                               Céphalée unilatérale           "
            ]
          },
          "metadata": {},
          "execution_count": 79
        }
      ]
    },
    {
      "cell_type": "code",
      "metadata": {
        "id": "0ABfTPH5aOel"
      },
      "source": [
        "df1 = pd.DataFrame([['Apple', 'Jammu & Kashmir'], ['Banana', 'Kerala']],\n",
        "                    columns=['Fruit', 'State_Grown'])"
      ],
      "execution_count": null,
      "outputs": []
    },
    {
      "cell_type": "code",
      "metadata": {
        "id": "oUf-6b7ucrLa"
      },
      "source": [
        "df2 = pd.DataFrame([['Apple', ''], ['Watermelon', 'Maharashtra'], ['Banana', ''],['Strawberry', 'Madhya Pradesh']],\n",
        "                  columns=['Fruit', 'State_Grown'])"
      ],
      "execution_count": null,
      "outputs": []
    },
    {
      "cell_type": "code",
      "metadata": {
        "colab": {
          "base_uri": "https://localhost:8080/",
          "height": 112
        },
        "id": "l23n_KOrctzG",
        "outputId": "9c50d1c5-08a5-4a20-e0f1-e4cb9a64be70"
      },
      "source": [
        "df1"
      ],
      "execution_count": null,
      "outputs": [
        {
          "output_type": "execute_result",
          "data": {
            "text/html": [
              "<div>\n",
              "<style scoped>\n",
              "    .dataframe tbody tr th:only-of-type {\n",
              "        vertical-align: middle;\n",
              "    }\n",
              "\n",
              "    .dataframe tbody tr th {\n",
              "        vertical-align: top;\n",
              "    }\n",
              "\n",
              "    .dataframe thead th {\n",
              "        text-align: right;\n",
              "    }\n",
              "</style>\n",
              "<table border=\"1\" class=\"dataframe\">\n",
              "  <thead>\n",
              "    <tr style=\"text-align: right;\">\n",
              "      <th></th>\n",
              "      <th>Fruit</th>\n",
              "      <th>State_Grown</th>\n",
              "    </tr>\n",
              "  </thead>\n",
              "  <tbody>\n",
              "    <tr>\n",
              "      <th>0</th>\n",
              "      <td>Apple</td>\n",
              "      <td>Jammu &amp; Kashmir</td>\n",
              "    </tr>\n",
              "    <tr>\n",
              "      <th>1</th>\n",
              "      <td>Banana</td>\n",
              "      <td>Kerala</td>\n",
              "    </tr>\n",
              "  </tbody>\n",
              "</table>\n",
              "</div>"
            ],
            "text/plain": [
              "    Fruit      State_Grown\n",
              "0   Apple  Jammu & Kashmir\n",
              "1  Banana           Kerala"
            ]
          },
          "metadata": {},
          "execution_count": 17
        }
      ]
    },
    {
      "cell_type": "code",
      "metadata": {
        "colab": {
          "base_uri": "https://localhost:8080/",
          "height": 175
        },
        "id": "-6kHFR9gcuwr",
        "outputId": "610e8c7a-baf7-4d81-e9cd-621eb5ab2461"
      },
      "source": [
        "df2"
      ],
      "execution_count": null,
      "outputs": [
        {
          "output_type": "execute_result",
          "data": {
            "text/html": [
              "<div>\n",
              "<style scoped>\n",
              "    .dataframe tbody tr th:only-of-type {\n",
              "        vertical-align: middle;\n",
              "    }\n",
              "\n",
              "    .dataframe tbody tr th {\n",
              "        vertical-align: top;\n",
              "    }\n",
              "\n",
              "    .dataframe thead th {\n",
              "        text-align: right;\n",
              "    }\n",
              "</style>\n",
              "<table border=\"1\" class=\"dataframe\">\n",
              "  <thead>\n",
              "    <tr style=\"text-align: right;\">\n",
              "      <th></th>\n",
              "      <th>Fruit</th>\n",
              "      <th>State_Grown</th>\n",
              "    </tr>\n",
              "  </thead>\n",
              "  <tbody>\n",
              "    <tr>\n",
              "      <th>0</th>\n",
              "      <td>Apple</td>\n",
              "      <td></td>\n",
              "    </tr>\n",
              "    <tr>\n",
              "      <th>1</th>\n",
              "      <td>Watermelon</td>\n",
              "      <td>Maharashtra</td>\n",
              "    </tr>\n",
              "    <tr>\n",
              "      <th>2</th>\n",
              "      <td>Banana</td>\n",
              "      <td></td>\n",
              "    </tr>\n",
              "    <tr>\n",
              "      <th>3</th>\n",
              "      <td>Strawberry</td>\n",
              "      <td>Madhya Pradesh</td>\n",
              "    </tr>\n",
              "  </tbody>\n",
              "</table>\n",
              "</div>"
            ],
            "text/plain": [
              "        Fruit     State_Grown\n",
              "0       Apple                \n",
              "1  Watermelon     Maharashtra\n",
              "2      Banana                \n",
              "3  Strawberry  Madhya Pradesh"
            ]
          },
          "metadata": {},
          "execution_count": 18
        }
      ]
    },
    {
      "cell_type": "code",
      "metadata": {
        "colab": {
          "base_uri": "https://localhost:8080/",
          "height": 175
        },
        "id": "51koJMBNcv3u",
        "outputId": "e9400ace-a450-4d3e-b7b3-7ee591b4099d"
      },
      "source": [
        "pd.concat([df1, df2]).drop_duplicates('Fruit').reset_index(drop=True)"
      ],
      "execution_count": null,
      "outputs": [
        {
          "output_type": "execute_result",
          "data": {
            "text/html": [
              "<div>\n",
              "<style scoped>\n",
              "    .dataframe tbody tr th:only-of-type {\n",
              "        vertical-align: middle;\n",
              "    }\n",
              "\n",
              "    .dataframe tbody tr th {\n",
              "        vertical-align: top;\n",
              "    }\n",
              "\n",
              "    .dataframe thead th {\n",
              "        text-align: right;\n",
              "    }\n",
              "</style>\n",
              "<table border=\"1\" class=\"dataframe\">\n",
              "  <thead>\n",
              "    <tr style=\"text-align: right;\">\n",
              "      <th></th>\n",
              "      <th>Fruit</th>\n",
              "      <th>State_Grown</th>\n",
              "    </tr>\n",
              "  </thead>\n",
              "  <tbody>\n",
              "    <tr>\n",
              "      <th>0</th>\n",
              "      <td>Apple</td>\n",
              "      <td>Jammu &amp; Kashmir</td>\n",
              "    </tr>\n",
              "    <tr>\n",
              "      <th>1</th>\n",
              "      <td>Banana</td>\n",
              "      <td>Kerala</td>\n",
              "    </tr>\n",
              "    <tr>\n",
              "      <th>2</th>\n",
              "      <td>Watermelon</td>\n",
              "      <td>Maharashtra</td>\n",
              "    </tr>\n",
              "    <tr>\n",
              "      <th>3</th>\n",
              "      <td>Strawberry</td>\n",
              "      <td>Madhya Pradesh</td>\n",
              "    </tr>\n",
              "  </tbody>\n",
              "</table>\n",
              "</div>"
            ],
            "text/plain": [
              "        Fruit      State_Grown\n",
              "0       Apple  Jammu & Kashmir\n",
              "1      Banana           Kerala\n",
              "2  Watermelon      Maharashtra\n",
              "3  Strawberry   Madhya Pradesh"
            ]
          },
          "metadata": {},
          "execution_count": 21
        }
      ]
    },
    {
      "cell_type": "code",
      "metadata": {
        "id": "rWUZOQwqdWQT"
      },
      "source": [
        ""
      ],
      "execution_count": null,
      "outputs": []
    }
  ]
}