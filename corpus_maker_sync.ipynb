{
  "nbformat": 4,
  "nbformat_minor": 0,
  "metadata": {
    "colab": {
      "name": "corpus_maker_sync.ipynb",
      "provenance": [],
      "collapsed_sections": [],
      "authorship_tag": "ABX9TyMco+KxztIY2qKZdfv3j4wo",
      "include_colab_link": true
    },
    "kernelspec": {
      "name": "python3",
      "display_name": "Python 3"
    },
    "language_info": {
      "name": "python"
    }
  },
  "cells": [
    {
      "cell_type": "markdown",
      "metadata": {
        "id": "view-in-github",
        "colab_type": "text"
      },
      "source": [
        "<a href=\"https://colab.research.google.com/github/gretiere545/corpus/blob/main/corpus_maker_sync.ipynb\" target=\"_parent\"><img src=\"https://colab.research.google.com/assets/colab-badge.svg\" alt=\"Open In Colab\"/></a>"
      ]
    },
    {
      "cell_type": "markdown",
      "metadata": {
        "id": "FB29HktrvvBJ"
      },
      "source": [
        "# Fabrique des Corpus ASAMLA\n",
        "## Phase 2 : Synchronisation des Corpus ASAMLA\n",
        "##### Last version : 06 juillet 2021\n",
        "##### Author : gretiere"
      ]
    },
    {
      "cell_type": "code",
      "metadata": {
        "colab": {
          "base_uri": "https://localhost:8080/"
        },
        "id": "_5CoZ3ORv3Bh",
        "outputId": "7242743b-2511-413f-b17e-c58dec238b30"
      },
      "source": [
        "!pip install gspread-formatting\n",
        "# https://console.cloud.google.com/apis/credentials?project=mecenat-asamla-corpus\n",
        "# client ID : 525819594891-bpjcuvkkrgbd5c6kf9jk2mn6t6b9kkoa.apps.googleusercontent.com\n",
        "# client secret : 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\n",
        "import pandas as pd\n",
        "import numpy as np\n",
        "import uuid\n",
        "import random\n",
        "import os\n",
        "import re\n",
        "import json\n",
        "from gspread_formatting import *\n",
        "pd.set_option(\"display.width\",1000)\n",
        "# Ce bout de code pour pouvoir downloader des fichiers sur le drive\n",
        "from google.colab import drive\n",
        "drive.mount('/content/drive')\n",
        "# Ce bout de code pour pouvoir downloader des google sheets dans des dataframes\n",
        "from google.colab import auth\n",
        "auth.authenticate_user()\n",
        "import gspread\n",
        "from gspread_dataframe import get_as_dataframe, set_with_dataframe\n",
        "from oauth2client.client import GoogleCredentials\n",
        "gc = gspread.authorize(GoogleCredentials.get_application_default())\n",
        "!export PYTHONIOENCODING=utf8\n",
        "%cd /content/drive/MyDrive/Trad-Union/Corpus/ASAMLA\n"
      ],
      "execution_count": null,
      "outputs": [
        {
          "output_type": "stream",
          "name": "stdout",
          "text": [
            "Collecting gspread-formatting\n",
            "  Downloading gspread_formatting-1.0.4-py2.py3-none-any.whl (21 kB)\n",
            "Requirement already satisfied: gspread>=3.0.0 in /usr/local/lib/python3.7/dist-packages (from gspread-formatting) (3.0.1)\n",
            "Requirement already satisfied: requests>=2.2.1 in /usr/local/lib/python3.7/dist-packages (from gspread>=3.0.0->gspread-formatting) (2.23.0)\n",
            "Requirement already satisfied: urllib3!=1.25.0,!=1.25.1,<1.26,>=1.21.1 in /usr/local/lib/python3.7/dist-packages (from requests>=2.2.1->gspread>=3.0.0->gspread-formatting) (1.24.3)\n",
            "Requirement already satisfied: idna<3,>=2.5 in /usr/local/lib/python3.7/dist-packages (from requests>=2.2.1->gspread>=3.0.0->gspread-formatting) (2.10)\n",
            "Requirement already satisfied: chardet<4,>=3.0.2 in /usr/local/lib/python3.7/dist-packages (from requests>=2.2.1->gspread>=3.0.0->gspread-formatting) (3.0.4)\n",
            "Requirement already satisfied: certifi>=2017.4.17 in /usr/local/lib/python3.7/dist-packages (from requests>=2.2.1->gspread>=3.0.0->gspread-formatting) (2021.10.8)\n",
            "Installing collected packages: gspread-formatting\n",
            "Successfully installed gspread-formatting-1.0.4\n",
            "Mounted at /content/drive\n",
            "/content/drive/MyDrive/Trad-Union/Corpus/ASAMLA\n"
          ]
        }
      ]
    },
    {
      "cell_type": "markdown",
      "metadata": {
        "id": "g5pYDgowwHqS"
      },
      "source": [
        "### Ouverture du Corpus central (GC Drive compte Atos)\n",
        "*   Cette feuille est la référence et est alimentée par les Corpus individuels\n"
      ]
    },
    {
      "cell_type": "code",
      "metadata": {
        "id": "ghnGFU1sphV_"
      },
      "source": [
        "# Ouverture de la Sheet Centrale (corpus_central_base)\n",
        "sheet_central = 'https://docs.google.com/spreadsheets/d/1L8YB1aXHUJwUE9AE6xyn_xMHalinGR335Q7lntwbu1U'\n",
        "wb_central = gc.open_by_url(sheet_central)\n",
        "t_corpus = wb_central.get_worksheet(2)\n",
        "data_t_corpus = t_corpus.get_all_values()\n",
        "df_corpus = pd.DataFrame(data_t_corpus[1:], columns=data_t_corpus[0])\n",
        "# on supprime les doublons\n",
        "df_corpus_fr = df_corpus[['uid','expression','glossaire','état','date','commentaires','index']].drop_duplicates()"
      ],
      "execution_count": null,
      "outputs": []
    },
    {
      "cell_type": "code",
      "metadata": {
        "colab": {
          "base_uri": "https://localhost:8080/",
          "height": 419
        },
        "id": "SvftUaHY5snw",
        "outputId": "32640af7-745d-4c32-f19b-57d6aa5ab0b7"
      },
      "source": [
        "df_corpus_fr"
      ],
      "execution_count": null,
      "outputs": [
        {
          "output_type": "execute_result",
          "data": {
            "text/html": [
              "<div>\n",
              "<style scoped>\n",
              "    .dataframe tbody tr th:only-of-type {\n",
              "        vertical-align: middle;\n",
              "    }\n",
              "\n",
              "    .dataframe tbody tr th {\n",
              "        vertical-align: top;\n",
              "    }\n",
              "\n",
              "    .dataframe thead th {\n",
              "        text-align: right;\n",
              "    }\n",
              "</style>\n",
              "<table border=\"1\" class=\"dataframe\">\n",
              "  <thead>\n",
              "    <tr style=\"text-align: right;\">\n",
              "      <th></th>\n",
              "      <th>uid</th>\n",
              "      <th>expression</th>\n",
              "      <th>glossaire</th>\n",
              "      <th>état</th>\n",
              "      <th>date</th>\n",
              "      <th>commentaires</th>\n",
              "      <th>index</th>\n",
              "    </tr>\n",
              "  </thead>\n",
              "  <tbody>\n",
              "    <tr>\n",
              "      <th>0</th>\n",
              "      <td>f397cda1</td>\n",
              "      <td>A jeun</td>\n",
              "      <td>TRUE</td>\n",
              "      <td>validé</td>\n",
              "      <td>07/06/2021</td>\n",
              "      <td></td>\n",
              "      <td>A</td>\n",
              "    </tr>\n",
              "    <tr>\n",
              "      <th>1</th>\n",
              "      <td>95c4a863</td>\n",
              "      <td>Accès fébrile concomitant chez un autre membre...</td>\n",
              "      <td>FALSE</td>\n",
              "      <td>supprimé</td>\n",
              "      <td>07/06/2021</td>\n",
              "      <td></td>\n",
              "      <td>A</td>\n",
              "    </tr>\n",
              "    <tr>\n",
              "      <th>2</th>\n",
              "      <td>30579682</td>\n",
              "      <td>Accident</td>\n",
              "      <td>TRUE</td>\n",
              "      <td>validé</td>\n",
              "      <td>07/06/2021</td>\n",
              "      <td></td>\n",
              "      <td>A</td>\n",
              "    </tr>\n",
              "    <tr>\n",
              "      <th>3</th>\n",
              "      <td>6f214e4c</td>\n",
              "      <td>Accident cérébral</td>\n",
              "      <td>TRUE</td>\n",
              "      <td>validé</td>\n",
              "      <td>07/06/2021</td>\n",
              "      <td></td>\n",
              "      <td>A</td>\n",
              "    </tr>\n",
              "    <tr>\n",
              "      <th>4</th>\n",
              "      <td>8b195cf4</td>\n",
              "      <td>Allergie</td>\n",
              "      <td>TRUE</td>\n",
              "      <td>validé</td>\n",
              "      <td>07/06/2021</td>\n",
              "      <td></td>\n",
              "      <td>A</td>\n",
              "    </tr>\n",
              "    <tr>\n",
              "      <th>...</th>\n",
              "      <td>...</td>\n",
              "      <td>...</td>\n",
              "      <td>...</td>\n",
              "      <td>...</td>\n",
              "      <td>...</td>\n",
              "      <td>...</td>\n",
              "      <td>...</td>\n",
              "    </tr>\n",
              "    <tr>\n",
              "      <th>167</th>\n",
              "      <td>fee1214e</td>\n",
              "      <td>Vitamines</td>\n",
              "      <td>TRUE</td>\n",
              "      <td>validé</td>\n",
              "      <td>07/06/2021</td>\n",
              "      <td></td>\n",
              "      <td>V</td>\n",
              "    </tr>\n",
              "    <tr>\n",
              "      <th>168</th>\n",
              "      <td>39cba202</td>\n",
              "      <td>Vomissements</td>\n",
              "      <td>FALSE</td>\n",
              "      <td>validé</td>\n",
              "      <td>07/06/2021</td>\n",
              "      <td></td>\n",
              "      <td>V</td>\n",
              "    </tr>\n",
              "    <tr>\n",
              "      <th>169</th>\n",
              "      <td>80aac977</td>\n",
              "      <td>Vos vaccinations sont-elles à jour ?</td>\n",
              "      <td>FALSE</td>\n",
              "      <td>validé</td>\n",
              "      <td>07/06/2021</td>\n",
              "      <td></td>\n",
              "      <td>V</td>\n",
              "    </tr>\n",
              "    <tr>\n",
              "      <th>170</th>\n",
              "      <td>36e66161</td>\n",
              "      <td>Y a-t-il des cas contagieux à l'école ?</td>\n",
              "      <td>FALSE</td>\n",
              "      <td>validé</td>\n",
              "      <td>07/06/2021</td>\n",
              "      <td></td>\n",
              "      <td>Y</td>\n",
              "    </tr>\n",
              "    <tr>\n",
              "      <th>171</th>\n",
              "      <td>d3dba8e4</td>\n",
              "      <td>Zona</td>\n",
              "      <td>TRUE</td>\n",
              "      <td>validé</td>\n",
              "      <td>07/06/2021</td>\n",
              "      <td></td>\n",
              "      <td>Z</td>\n",
              "    </tr>\n",
              "  </tbody>\n",
              "</table>\n",
              "<p>171 rows × 7 columns</p>\n",
              "</div>"
            ],
            "text/plain": [
              "          uid  ... index\n",
              "0    f397cda1  ...     A\n",
              "1    95c4a863  ...     A\n",
              "2    30579682  ...     A\n",
              "3    6f214e4c  ...     A\n",
              "4    8b195cf4  ...     A\n",
              "..        ...  ...   ...\n",
              "167  fee1214e  ...     V\n",
              "168  39cba202  ...     V\n",
              "169  80aac977  ...     V\n",
              "170  36e66161  ...     Y\n",
              "171  d3dba8e4  ...     Z\n",
              "\n",
              "[171 rows x 7 columns]"
            ]
          },
          "metadata": {},
          "execution_count": 3
        }
      ]
    },
    {
      "cell_type": "markdown",
      "metadata": {
        "id": "aX0WUR9OtJy8"
      },
      "source": [
        "### Traitement du corpus Français-ALL (toutes langues)\n",
        "*   Une feuille = 1 Corpus\n",
        "*   Feuille en partage (1 onglet = 1 langue) \n",
        "\n",
        "#### 2021 10 05 : Suppression de Peul, remplacé par Allemand\n",
        "\n"
      ]
    },
    {
      "cell_type": "code",
      "metadata": {
        "id": "Lv4qBn3ZwGVS"
      },
      "source": [
        "# Corpus de travail des interprètes\n",
        "#uri = \"https://docs.google.com/spreadsheets/d/1-2SDHCFR5JOHCc4MiYSMo4V8yG7kfHbpIKV3q9ci6wE\"\n",
        "# Médical Vaccination\n",
        "unique_interpret_sheet_uri = \"https://docs.google.com/spreadsheets/d/1CclzYfFCW4srA3Lq_np2LpSrxj84JpcbzytL449DH8E\"\n",
        "\n"
      ],
      "execution_count": null,
      "outputs": []
    },
    {
      "cell_type": "code",
      "metadata": {
        "id": "iEgX_bnLyu-l"
      },
      "source": [
        "json_file = 'med_vac_synthese.json'\n",
        "try:\n",
        "  with open(json_file) as vk_dict:\n",
        "      vk_lang_dict = json.load(vk_dict)\n",
        "except BaseException as e:\n",
        "  print(e)\n",
        "  uri = unique_interpret_sheet_uri\n",
        "  vk_lang_dict=[\n",
        "  {'language':'Arabe','trigramme':'ams','uri':uri,'idx':1, 'update':'false', 'alphabet':\"اآٱأإبتثجحخدذرزسشصضطظعغفقكلمنهةوؤيئىء\"},\n",
        "  {'language':'Anglais','trigramme':'eng','uri':uri,'idx':2, 'update':'false','alphabet':\"AaBbCcDdEeFfGgHhIiJjKkLlMmNnOoPpQqRrSsTtUuVvWwXxYyZz\"},\n",
        "  {'language':'Turc','trigramme':'tur','uri':uri,'idx':3, 'update':'false','alphabet':\"AaÂâBbCcÇçDdEeFfGgĞğHhIıİiÎîJjKkLlMmNnOoÖöPpRrSsŞşTtUuÜüÛûVvYyZz\"},\n",
        "  {'language':'Russe','trigramme':'rus','uri':uri,'idx':4, 'update':'false','alphabet':\"АаБбВвГгДдЕеЁёЖжЗзИиЙйКкЛлМмНнОоПпРрСсТтУуФфХхЦцЧчШшЩщЪъЫыЬьЭэЮюЯя\"},\n",
        "  {'language':'Ukrainien','trigramme':'ukr','uri':uri,'idx':5, 'update':'false','alphabet':\"АаБбВвГгҐґДдЕеЄєЖжЗзИиІіЇїЙйКкЛлМмНнОоПпРрСсТтУуФфХхЦцЧчШшЩщЮюЯя\"},\n",
        "  {'language':'Roumain','trigramme':'rou','uri':uri,'idx':6, 'update':'false','alphabet':\"AaĂăÂâBbCcDdEeFfGgHhIiÎîJjKkLlMmNnOoPpQqRrSsȘșTtȚțUuVvWwXxYyZz\"},\n",
        "  {'language':'Hongrois','trigramme':'hun','uri':uri,'idx':7, 'update':'false','alphabet':\"Aa-Áá-Bb-Cc-Cscs-Dd-Ee-Éé-Ff-Gg-Gygy-Hh-Ii-Íí-Jj-Kk-Ll-Lyly-Mm-Nn-Oo-Óó-Öö-Őő-Pp-Qq-Rr-Ss-Szsz-Tt-Tyty-Uu-Úú-Üü-Űű-Vv-Ww-Xx-Yy-Zz-Zszs\"},\n",
        "  {'language':'Tigrinya','trigramme':'tig','uri':uri,'idx':8, 'update':'false','alphabet':\"ሀሁሂሃሄህሆለሉሊላሌልሎሏሐሑሒሓሔሕሖሗመሙሚማሜምሞሟሠሡሢሣሤሥሦሧረሩሪራሬርሮሯሰሱሲሳሴስሶሷሸሹሺሻሼሽሾሿቀቁቂቃቄቅቆቇቐቑቒቓቔቕቖበቡቢባቤብቦቧቨቩቪቫቬቭቮቯተቱቲታቴትቶቷቸቹቺቻቼችቾቿኀኁኂኃኄኅኆኇነኑኒናኔንኖኗኘኙኚኛኜኝኞኟአኡኣኤእኦኧከኩኪካኬክኮኯኸኹኺኻኼኽኾወዉዊዋዌውዎዐዑዒዓዔዕዖዘዙዚዛዜዝዞዟዠዡዢዣዤዥዦዧየዩዪያዬይዮዯደዱዲዳዴድዶዷዸዹዺዻዼዽዾዿጀጁጂጃጄጅጆጇገጉጊጋጌግጎጏጘጙጚጛጜጝጞጟጠጡጢጣጤጥጦጧጨጩጪጫጬጭጮጯጰጱጲጳጴጵጶጷጸጹጺጻጼጽጾጿፀፁፂፃፄፅፆፇፈፉፊፋፌፍፎፏፐፑፒፓፔፕፖፗቈቊቋቌቍቘቚቛቜቝኈኊኋኌኍኰኲኳኴኵዀዂዃዄዅጐጒጓጔጕ\"},\n",
        "  {'language':'Albanais','trigramme':'alb','uri':uri,'idx':9, 'update':'false','alphabet':\"\"},\n",
        "  {'language':'Géorgien','trigramme':'geo','uri':uri,'idx':10, 'update':'false','alphabet':\"ᲐᲑᲒᲓᲔᲕᲖᲗᲘᲙᲚᲛᲜᲝᲞᲟᲠᲡᲢᲣᲤᲥᲦᲧᲨᲩᲪᲫᲬᲭᲮᲯᲰ\"},\n",
        "  {'language':'Arménien','trigramme':'arm','uri':uri,'idx':11, 'update':'false','alphabet':\"ԱաԲբԳգԴդԵեԶզԷէԸըԹթԺժԻիԼլԽխԾծԿկՀհՁձՂղՃճՄմՅյՆնՇշՈոՉչՊպՋջՌռՍսՎվՏտՐրՑցՒւՓփՔքՕօՖֆև\"},\n",
        "  {'language':'Dari','trigramme':'dar','uri':uri,'idx':12, 'update':'false','alphabet':\"اآبپتثجچحخدذرزژسشصضطظعغفقکگلمنوهی\"},\n",
        "  {'language':'Pashto','trigramme':'pst','uri':uri,'idx':13, 'update':'false','alphabet':\"\"},\n",
        "  {'language':'Fârsi','trigramme':'prs','uri':uri,'idx':14, 'update':'false','alphabet':\"\"},\n",
        "  {'language':'Azéri','trigramme':'aze','uri':uri,'idx':15, 'update':'false','alphabet':\"\"},\n",
        "  {'language':'Espagnol','trigramme':'esp','uri':uri,'idx':16, 'update':'false','alphabet':\"AaÁáBbCcDdEeÉéFfGgHhIiÍíJjKkLlMmNnÑñOoÓóPpQqRrSsTtUuÚúÜüVvWwXxYyZz\"},\n",
        "  {'language':'Amharique','trigramme':'amh','uri':uri,'idx':17, 'update':'false','alphabet':\"\"},\n",
        "  {'language':'Allemand','trigramme':'all','uri':uri,'idx':18, 'update':'false','alphabet':\"AaÄäBbCcDdEeFfGgHhIiJjKkLlMmNnOoÖöPpQqRrSsẞßTtUuÜüVvWwXxYyZz\"}\n",
        "  ]"
      ],
      "execution_count": null,
      "outputs": []
    },
    {
      "cell_type": "code",
      "metadata": {
        "id": "RHnxGdPYOTTN"
      },
      "source": [
        "def fetch_corpus_trad(df_corpus, d_lang):\n",
        "  # Chargement des corpus traduits\n",
        "  uri = d_lang['uri']\n",
        "  #ouverture de l'onglet Corpus dans un DF\n",
        "  wb = gc.open_by_url(uri)\n",
        "  t_corpus_trad = wb.get_worksheet(d_lang['idx'])\n",
        "  data_t_corpus = t_corpus_trad.get_all_values()\n",
        "  df_corpus_trad = pd.DataFrame(data_t_corpus[1:], columns=data_t_corpus[0])\n",
        "  # on vérifie que chaque expression possède la même clé\n",
        "  df_corpus = pd.merge(df_corpus,df_corpus_trad[['uid','traduction']],on='uid', how='left')\n",
        "  df_corpus['traduction'] = df_corpus['traduction'].apply(lambda x:x.strip())\n",
        "  \n",
        "  df_corpus.rename({'traduction': d_lang['trigramme']}, axis=1, inplace=True)\n",
        "  return df_corpus"
      ],
      "execution_count": null,
      "outputs": []
    },
    {
      "cell_type": "markdown",
      "metadata": {
        "id": "waZC6OyNUMtr"
      },
      "source": [
        "#### Chaque onglet est chargé dans un DF"
      ]
    },
    {
      "cell_type": "code",
      "metadata": {
        "id": "Cod_bZEYMgZK"
      },
      "source": [
        "vk_df_corpus = []\n",
        "for i in vk_lang_dict:\n",
        "  i['uri'] = unique_interpret_sheet_uri\n",
        "  if i['update']=='false':\n",
        "    df_corpus = fetch_corpus_trad(df_corpus_fr,i)\n",
        "    vk_df_corpus.append(df_corpus)\n",
        "\n"
      ],
      "execution_count": null,
      "outputs": []
    },
    {
      "cell_type": "code",
      "metadata": {
        "id": "0NG97gFGLSIX"
      },
      "source": [
        "def replace_unicode(word, vk_uni):\n",
        "  for t_uni in vk_uni:\n",
        "    word = word.replace (t_uni[1], t_uni[2])\n",
        "  return word\n"
      ],
      "execution_count": null,
      "outputs": []
    },
    {
      "cell_type": "code",
      "metadata": {
        "id": "J8yNuSqz41kG"
      },
      "source": [
        "def narrow_no_break_space (s):\n",
        "  s = \" \".join(s.split())   # on vire tous les espaces en trop\n",
        "  find = r'(\\s*\\?$)'        # on recherche le ? précédé ou pas d'espace \\s*\n",
        "  replace = u'\\u202F'+ r'?'\n",
        "  s = re.sub(find, replace, s)    # on remplace par un blanc insécable + le ?\n",
        "  return s"
      ],
      "execution_count": null,
      "outputs": []
    },
    {
      "cell_type": "markdown",
      "metadata": {
        "id": "uxnzlu4MCOsr"
      },
      "source": [
        "### Application des bonnes règles typographiques pour la ponctuation française : espace fine insécable\n",
        "    # https://www.typofute.com/l_espace_fine_insecable_dans_les_documents_html  \n",
        "    # https://www.compart.com/en/unicode/U+202F\n",
        "\n",
        "\n",
        "\n",
        "\n",
        "\n",
        "\n",
        "\n"
      ]
    },
    {
      "cell_type": "code",
      "metadata": {
        "id": "2_MFfsleahmK",
        "colab": {
          "base_uri": "https://localhost:8080/"
        },
        "outputId": "4cf285e8-f91e-4b0c-c0ca-7e17149b0697"
      },
      "source": [
        "# Application des bonnes règles typographiques pour la ponctuation française : espace fine insécable\n",
        "df_corpus_fr['expression'] = df_corpus_fr['expression'].apply(lambda x:narrow_no_break_space(x))  \n",
        "# itération langues\n",
        "for i in vk_lang_dict:\n",
        "  if i['update']=='false':\n",
        "    df_corpus_fr = pd.merge(df_corpus_fr,vk_df_corpus[i['idx']-1][['uid',i['trigramme']]],on='uid', how='left')\n",
        "    # Application des bonnes règles typographiques pour la ponctuation française : espace fine insécable\n",
        "    df_corpus_fr[i['trigramme']] = df_corpus_fr[i['trigramme']].apply(lambda x:narrow_no_break_space(x))    \n",
        "    if i['unicode_substition']!=[]:\n",
        "      # substition de caractères unicodes (optionnel)\n",
        "      print (i['trigramme'])\n",
        "      df_corpus_fr[i['trigramme']] = df_corpus_fr[i['trigramme']].apply(lambda x:replace_unicode (x, i['unicode_substition']))    "
      ],
      "execution_count": null,
      "outputs": [
        {
          "output_type": "stream",
          "name": "stdout",
          "text": [
            "ukr\n"
          ]
        }
      ]
    },
    {
      "cell_type": "code",
      "metadata": {
        "colab": {
          "base_uri": "https://localhost:8080/"
        },
        "id": "EsCKAwMszDz0",
        "outputId": "1d69049e-e365-41b1-fe85-0c9ae369426e"
      },
      "source": [
        "df_corpus_fr.loc[df_corpus_fr['uid']=='b6b565a5']['ukr']"
      ],
      "execution_count": null,
      "outputs": [
        {
          "output_type": "execute_result",
          "data": {
            "text/plain": [
              "83    Імунітет\n",
              "Name: ukr, dtype: object"
            ]
          },
          "metadata": {},
          "execution_count": 99
        }
      ]
    },
    {
      "cell_type": "code",
      "metadata": {
        "colab": {
          "base_uri": "https://localhost:8080/"
        },
        "id": "wab7Jt05zFeh",
        "outputId": "e24e0047-ba1e-410b-abcd-f33a7079cce5"
      },
      "source": [
        "ord(u' ')"
      ],
      "execution_count": null,
      "outputs": [
        {
          "output_type": "execute_result",
          "data": {
            "text/plain": [
              "8239"
            ]
          },
          "metadata": {},
          "execution_count": 104
        }
      ]
    },
    {
      "cell_type": "code",
      "metadata": {
        "colab": {
          "base_uri": "https://localhost:8080/",
          "height": 165
        },
        "id": "Bb4mi07-B6b9",
        "outputId": "fbd6c0ee-4b92-42c0-c8c4-e7f11e3306b0"
      },
      "source": [
        "df_corpus_fr.loc[df_corpus_fr['uid']=='e391fbcf']"
      ],
      "execution_count": null,
      "outputs": [
        {
          "output_type": "execute_result",
          "data": {
            "text/html": [
              "<div>\n",
              "<style scoped>\n",
              "    .dataframe tbody tr th:only-of-type {\n",
              "        vertical-align: middle;\n",
              "    }\n",
              "\n",
              "    .dataframe tbody tr th {\n",
              "        vertical-align: top;\n",
              "    }\n",
              "\n",
              "    .dataframe thead th {\n",
              "        text-align: right;\n",
              "    }\n",
              "</style>\n",
              "<table border=\"1\" class=\"dataframe\">\n",
              "  <thead>\n",
              "    <tr style=\"text-align: right;\">\n",
              "      <th></th>\n",
              "      <th>uid</th>\n",
              "      <th>expression</th>\n",
              "      <th>glossaire</th>\n",
              "      <th>état</th>\n",
              "      <th>date</th>\n",
              "      <th>commentaires</th>\n",
              "      <th>index</th>\n",
              "      <th>ams</th>\n",
              "      <th>eng</th>\n",
              "      <th>tur</th>\n",
              "      <th>rus</th>\n",
              "      <th>ukr</th>\n",
              "      <th>rou</th>\n",
              "      <th>hun</th>\n",
              "      <th>tig</th>\n",
              "      <th>alb</th>\n",
              "      <th>geo</th>\n",
              "      <th>arm</th>\n",
              "      <th>dar</th>\n",
              "      <th>pst</th>\n",
              "      <th>prs</th>\n",
              "      <th>aze</th>\n",
              "      <th>esp</th>\n",
              "      <th>amh</th>\n",
              "      <th>all</th>\n",
              "    </tr>\n",
              "  </thead>\n",
              "  <tbody>\n",
              "    <tr>\n",
              "      <th>16</th>\n",
              "      <td>e391fbcf</td>\n",
              "      <td>Avez-vous déjà été opéré(e) ?</td>\n",
              "      <td>FALSE</td>\n",
              "      <td>validé</td>\n",
              "      <td>07/06/2021</td>\n",
              "      <td></td>\n",
              "      <td>A</td>\n",
              "      <td>هل سبق أن خضعت لعملية جراحية؟</td>\n",
              "      <td>Have you ever had an operation ?</td>\n",
              "      <td>Daha önce ameliyat oldunuzmu ?</td>\n",
              "      <td>Вам когда-нибудь делали операцию ?</td>\n",
              "      <td>Вам коли-небудь робили операцію ?</td>\n",
              "      <td>Ați fost deja operat ?</td>\n",
              "      <td>Volt műtve ?</td>\n",
              "      <td>መጥባሕቲ ገርካዶ ትፈልጥ ?</td>\n",
              "      <td>A keni bërë ndonjëherë një operacion ?</td>\n",
              "      <td>ოპერაცია თუ გაქვთ როდესმე გაკეთებული ?</td>\n",
              "      <td>Դուք վիրահատված եղե՞լ եք</td>\n",
              "      <td>آیا تا به حال عمل کرده اید؟</td>\n",
              "      <td></td>\n",
              "      <td></td>\n",
              "      <td></td>\n",
              "      <td>¿Ya fue operado ?</td>\n",
              "      <td></td>\n",
              "      <td></td>\n",
              "    </tr>\n",
              "  </tbody>\n",
              "</table>\n",
              "</div>"
            ],
            "text/plain": [
              "         uid                     expression  ... amh all\n",
              "16  e391fbcf  Avez-vous déjà été opéré(e) ?  ...        \n",
              "\n",
              "[1 rows x 25 columns]"
            ]
          },
          "metadata": {},
          "execution_count": 101
        }
      ]
    },
    {
      "cell_type": "code",
      "metadata": {
        "colab": {
          "base_uri": "https://localhost:8080/",
          "height": 179
        },
        "id": "Wt5pLAWga5Ex",
        "outputId": "cbac0762-3457-4e1a-b319-f43b632195e8"
      },
      "source": [
        "# vérification de la présence de la double traduction en hongrois\n",
        "df_corpus_fr.loc[df_corpus_fr['uid']=='f80074ba']"
      ],
      "execution_count": null,
      "outputs": [
        {
          "output_type": "execute_result",
          "data": {
            "text/html": [
              "<div>\n",
              "<style scoped>\n",
              "    .dataframe tbody tr th:only-of-type {\n",
              "        vertical-align: middle;\n",
              "    }\n",
              "\n",
              "    .dataframe tbody tr th {\n",
              "        vertical-align: top;\n",
              "    }\n",
              "\n",
              "    .dataframe thead th {\n",
              "        text-align: right;\n",
              "    }\n",
              "</style>\n",
              "<table border=\"1\" class=\"dataframe\">\n",
              "  <thead>\n",
              "    <tr style=\"text-align: right;\">\n",
              "      <th></th>\n",
              "      <th>uid</th>\n",
              "      <th>expression</th>\n",
              "      <th>glossaire</th>\n",
              "      <th>état</th>\n",
              "      <th>date</th>\n",
              "      <th>commentaires</th>\n",
              "      <th>index</th>\n",
              "      <th>ams</th>\n",
              "      <th>eng</th>\n",
              "      <th>tur</th>\n",
              "      <th>rus</th>\n",
              "      <th>ukr</th>\n",
              "      <th>rou</th>\n",
              "      <th>hun</th>\n",
              "      <th>tig</th>\n",
              "      <th>alb</th>\n",
              "      <th>geo</th>\n",
              "      <th>arm</th>\n",
              "      <th>dar</th>\n",
              "      <th>pst</th>\n",
              "      <th>prs</th>\n",
              "      <th>aze</th>\n",
              "      <th>esp</th>\n",
              "      <th>amh</th>\n",
              "      <th>all</th>\n",
              "    </tr>\n",
              "  </thead>\n",
              "  <tbody>\n",
              "    <tr>\n",
              "      <th>100</th>\n",
              "      <td>f80074ba</td>\n",
              "      <td>Méningite</td>\n",
              "      <td>TRUE</td>\n",
              "      <td>validé</td>\n",
              "      <td>07/06/2021</td>\n",
              "      <td></td>\n",
              "      <td>M</td>\n",
              "      <td>التهاب السحايا</td>\n",
              "      <td>Meningitis</td>\n",
              "      <td>Menenjit</td>\n",
              "      <td>Менингит</td>\n",
              "      <td>Менінгіт</td>\n",
              "      <td>Meningită</td>\n",
              "      <td>Meningitisz (agyhártyagyulladás)</td>\n",
              "      <td>ናይ ዓጽሚ ምግታር ሕማም</td>\n",
              "      <td>Meningjiti</td>\n",
              "      <td>მენინგიტი</td>\n",
              "      <td>մենինգիտ</td>\n",
              "      <td></td>\n",
              "      <td></td>\n",
              "      <td></td>\n",
              "      <td></td>\n",
              "      <td>Meningitis</td>\n",
              "      <td></td>\n",
              "      <td></td>\n",
              "    </tr>\n",
              "    <tr>\n",
              "      <th>101</th>\n",
              "      <td>f80074ba</td>\n",
              "      <td>Méningite</td>\n",
              "      <td>TRUE</td>\n",
              "      <td>validé</td>\n",
              "      <td>07/06/2021</td>\n",
              "      <td></td>\n",
              "      <td>M</td>\n",
              "      <td>التهاب السحايا</td>\n",
              "      <td>Meningitis</td>\n",
              "      <td>Menenjit</td>\n",
              "      <td>Менингит</td>\n",
              "      <td>Менінгіт</td>\n",
              "      <td>Meningită</td>\n",
              "      <td>Agyhártyagyulladás</td>\n",
              "      <td>ናይ ዓጽሚ ምግታር ሕማም</td>\n",
              "      <td>Meningjiti</td>\n",
              "      <td>მენინგიტი</td>\n",
              "      <td>մենինգիտ</td>\n",
              "      <td></td>\n",
              "      <td></td>\n",
              "      <td></td>\n",
              "      <td></td>\n",
              "      <td>Meningitis</td>\n",
              "      <td></td>\n",
              "      <td></td>\n",
              "    </tr>\n",
              "  </tbody>\n",
              "</table>\n",
              "</div>"
            ],
            "text/plain": [
              "          uid expression glossaire    état  ... aze         esp amh all\n",
              "100  f80074ba  Méningite      TRUE  validé  ...      Meningitis        \n",
              "101  f80074ba  Méningite      TRUE  validé  ...      Meningitis        \n",
              "\n",
              "[2 rows x 25 columns]"
            ]
          },
          "metadata": {},
          "execution_count": 93
        }
      ]
    },
    {
      "cell_type": "markdown",
      "metadata": {
        "id": "ADbpfvrYwXVL"
      },
      "source": [
        "**Sauvegarde de la synthèse**"
      ]
    },
    {
      "cell_type": "code",
      "metadata": {
        "id": "OrZEKfdm0aHm"
      },
      "source": [
        "def format_feuille(wb, nom_onglet):\n",
        "  # onglet\n",
        "  ws = wb.worksheet(nom_onglet)\n",
        "  # Format de la partie gauche\n",
        "  fmt = cellFormat(\n",
        "      backgroundColor=color(0.91, 0.96, 0.93),\n",
        "      textFormat=textFormat(bold=False, foregroundColor=color(0,0,0), fontSize='10'),\n",
        "      horizontalAlignment='LEFT'\n",
        "      )\n",
        "  format_cell_range(ws, 'A:G', fmt)\n",
        "\n",
        "  # format de l'entete\n",
        "  fmt = cellFormat(\n",
        "      backgroundColor=color(0.7725,0.8431,0.7922),\n",
        "      textFormat=textFormat(bold=True, foregroundColor=color(0,0,0), fontSize='10'),\n",
        "      horizontalAlignment='LEFT'\n",
        "      )\n",
        "  format_cell_range(ws, '1', fmt)\n",
        "  \n",
        "  # on gèle l'entete et les colonnes de gauche\n",
        "  set_frozen(ws, rows=1, cols=7)\n",
        "  set_column_width(ws, 'A', 100)\n",
        "  set_column_width(ws, 'B', 300)"
      ],
      "execution_count": null,
      "outputs": []
    },
    {
      "cell_type": "code",
      "metadata": {
        "id": "L41t3gDMKZcC"
      },
      "source": [
        "df_corpus_synth = df_corpus_fr.copy()\n",
        "nom_onglet = 'med_vac_synthese'\n",
        "# si l'onglet existe déjà\n",
        "try:\n",
        "  ws = wb_central.worksheet(nom_onglet)\n",
        "  wb_central.del_worksheet(ws)\n",
        "except:\n",
        "  print (\"Onglet inexistant !\")\n",
        "\n",
        "wb_central.add_worksheet(nom_onglet, 1, 1)\n",
        "export_sheet = wb_central.worksheet(nom_onglet)\n",
        "set_with_dataframe(export_sheet, df_corpus_synth)\n",
        "format_feuille(wb_central, nom_onglet)"
      ],
      "execution_count": null,
      "outputs": []
    },
    {
      "cell_type": "markdown",
      "metadata": {
        "id": "UbM2Nw6UzQTN"
      },
      "source": [
        "# FIN"
      ]
    },
    {
      "cell_type": "code",
      "metadata": {
        "id": "UtN2ickm06pR"
      },
      "source": [
        "df_corpus_synth"
      ],
      "execution_count": null,
      "outputs": []
    },
    {
      "cell_type": "code",
      "metadata": {
        "id": "yMcD5-Eei9sy"
      },
      "source": [
        "vk_lang_dict"
      ],
      "execution_count": null,
      "outputs": []
    },
    {
      "cell_type": "code",
      "metadata": {
        "id": "z1S_g4g2N2P1"
      },
      "source": [
        "unicode_substition = [(\"A\", u\"\\u0041\", u\"\\u0410\"),(\"B\", u\"\\u0042\", u\"\\u0412\"),(\"E\", u\"\\u0045\", u\"\\u0415\"),(\"I\", u\"\\u0049\", u\"\\u0406\"), (\"K\", u\"\\u004B\", u\"\\u041A\"),(\"M\", u\"\\u004D\", u\"\\u041C\"),(\"P\", u\"\\u0050\", u\"\\u0420\"),(\"T\",u\"\\u0054\", u\"\\u0422\")]"
      ],
      "execution_count": null,
      "outputs": []
    },
    {
      "cell_type": "code",
      "metadata": {
        "colab": {
          "base_uri": "https://localhost:8080/"
        },
        "id": "1z20gdRphejC",
        "outputId": "14c195f9-4a8b-4f86-959f-ca45b7391181"
      },
      "source": [
        "ord(u'Р')"
      ],
      "execution_count": null,
      "outputs": [
        {
          "output_type": "execute_result",
          "data": {
            "text/plain": [
              "1056"
            ]
          },
          "metadata": {},
          "execution_count": 35
        }
      ]
    },
    {
      "cell_type": "code",
      "metadata": {
        "id": "HWu7djWSm1ee"
      },
      "source": [
        "vk_lang_dict[4][\"unicode_substition\"]=[(\"A\", u\"\\u0041\", u\"\\u0410\"),(\"B\", u\"\\u0042\", u\"\\u0412\"),(\"E\", u\"\\u0045\", u\"\\u0415\"),(\"I\", u\"\\u0049\", u\"\\u0406\"), (\"K\", u\"\\u004B\", u\"\\u041A\"),(\"M\", u\"\\u004D\", u\"\\u041C\"),(\"P\", u\"\\u0050\", u\"\\u0420\"),(\"T\",u\"\\u0054\", u\"\\u0422\")]"
      ],
      "execution_count": null,
      "outputs": []
    },
    {
      "cell_type": "code",
      "metadata": {
        "id": "j7DxVHUwm-LI"
      },
      "source": [
        "unicode_substition = vk_lang_dict[4][\"unicode_substition\"]"
      ],
      "execution_count": null,
      "outputs": []
    },
    {
      "cell_type": "code",
      "metadata": {
        "colab": {
          "base_uri": "https://localhost:8080/"
        },
        "id": "PzCBxu7apinI",
        "outputId": "f6574a9f-8148-4bf3-98b3-a0cb2799f772"
      },
      "source": [
        "unicode_substition"
      ],
      "execution_count": null,
      "outputs": [
        {
          "output_type": "execute_result",
          "data": {
            "text/plain": [
              "[('A', 'A', 'А'),\n",
              " ('B', 'B', 'В'),\n",
              " ('E', 'E', 'Е'),\n",
              " ('I', 'I', 'І'),\n",
              " ('K', 'K', 'К'),\n",
              " ('M', 'M', 'М'),\n",
              " ('P', 'P', 'Р'),\n",
              " ('T', 'T', 'Т')]"
            ]
          },
          "metadata": {},
          "execution_count": 36
        }
      ]
    },
    {
      "cell_type": "code",
      "metadata": {
        "colab": {
          "base_uri": "https://localhost:8080/"
        },
        "id": "pRTdtcYpp-jH",
        "outputId": "9f45890e-cd23-4201-b3ee-a2921851e867"
      },
      "source": [
        "ord(u'І')"
      ],
      "execution_count": null,
      "outputs": [
        {
          "output_type": "execute_result",
          "data": {
            "text/plain": [
              "1030"
            ]
          },
          "metadata": {},
          "execution_count": 71
        }
      ]
    },
    {
      "cell_type": "code",
      "metadata": {
        "id": "tb2DcD-2qilx"
      },
      "source": [
        "# sauvegarde du fichier de paramétrage\n",
        "with open('med_vac_synthese.json', 'w') as fp:\n",
        "    json.dump(vk_lang_dict, fp)"
      ],
      "execution_count": null,
      "outputs": []
    },
    {
      "cell_type": "code",
      "metadata": {
        "colab": {
          "base_uri": "https://localhost:8080/"
        },
        "id": "UX4rlaPOq8gP",
        "outputId": "2a7cf8e6-06ca-4387-ca67-fb0e1d3c1a58"
      },
      "source": [
        "df_corpus_synth.loc[df_corpus_synth['uid']=='b6b565a5']['ukr']\n"
      ],
      "execution_count": null,
      "outputs": [
        {
          "output_type": "execute_result",
          "data": {
            "text/plain": [
              "83    Імунітет\n",
              "Name: ukr, dtype: object"
            ]
          },
          "metadata": {},
          "execution_count": 82
        }
      ]
    },
    {
      "cell_type": "code",
      "metadata": {
        "id": "BJRqGtYVxuF4"
      },
      "source": [
        "s = \"Question?\""
      ],
      "execution_count": null,
      "outputs": []
    },
    {
      "cell_type": "code",
      "metadata": {
        "id": "aVrxW4UasVHx"
      },
      "source": [
        "df_corpus_synth['ukr'] = df_corpus_synth['ukr'].apply(lambda x:replace_unicode (x, unicode_substition))"
      ],
      "execution_count": null,
      "outputs": []
    },
    {
      "cell_type": "code",
      "metadata": {
        "colab": {
          "base_uri": "https://localhost:8080/",
          "height": 35
        },
        "id": "Z8X6PX0C1KQc",
        "outputId": "fd8bbefe-5497-4595-8b60-6dbfc5b1bb1d"
      },
      "source": [
        "narrow_no_break_space(s)"
      ],
      "execution_count": null,
      "outputs": [
        {
          "output_type": "execute_result",
          "data": {
            "application/vnd.google.colaboratory.intrinsic+json": {
              "type": "string"
            },
            "text/plain": [
              "'Question\\u202f?'"
            ]
          },
          "metadata": {},
          "execution_count": 51
        }
      ]
    },
    {
      "cell_type": "code",
      "metadata": {
        "colab": {
          "base_uri": "https://localhost:8080/"
        },
        "id": "xinWVGOGSaWz",
        "outputId": "2cc7b720-c11d-4043-e195-c9760a6dfdba"
      },
      "source": [
        "ord(u\"\\u202F\")"
      ],
      "execution_count": null,
      "outputs": [
        {
          "output_type": "execute_result",
          "data": {
            "text/plain": [
              "8239"
            ]
          },
          "metadata": {},
          "execution_count": 15
        }
      ]
    },
    {
      "cell_type": "code",
      "metadata": {
        "id": "M4fewP95UK_l"
      },
      "source": [
        ""
      ],
      "execution_count": null,
      "outputs": []
    }
  ]
}