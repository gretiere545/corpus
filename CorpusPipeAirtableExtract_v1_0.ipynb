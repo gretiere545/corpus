{
  "nbformat": 4,
  "nbformat_minor": 0,
  "metadata": {
    "colab": {
      "name": "CorpusPipeAirtableExtract-v1.0.ipynb",
      "provenance": [],
      "collapsed_sections": [],
      "authorship_tag": "ABX9TyPsF/DvxAWeleJZgt9ATz3V",
      "include_colab_link": true
    },
    "kernelspec": {
      "name": "python3",
      "display_name": "Python 3"
    },
    "language_info": {
      "name": "python"
    }
  },
  "cells": [
    {
      "cell_type": "markdown",
      "metadata": {
        "id": "view-in-github",
        "colab_type": "text"
      },
      "source": [
        "<a href=\"https://colab.research.google.com/github/gretiere545/corpus/blob/main/CorpusPipeAirtableExtract_v1_0.ipynb\" target=\"_parent\"><img src=\"https://colab.research.google.com/assets/colab-badge.svg\" alt=\"Open In Colab\"/></a>"
      ]
    },
    {
      "cell_type": "markdown",
      "metadata": {
        "id": "FB29HktrvvBJ"
      },
      "source": [
        "# Corpus Airtable API : Extract"
      ]
    },
    {
      "cell_type": "code",
      "metadata": {
        "colab": {
          "base_uri": "https://localhost:8080/"
        },
        "id": "_5CoZ3ORv3Bh",
        "outputId": "be135add-904c-483a-b240-a940e25bb9e6"
      },
      "source": [
        "#!/usr/bin/env python\n",
        "# -*- coding: utf8 -*-\n",
        "!pip install gspread-formatting\n",
        "!pip install airtable-python-wrapper\n",
        "import pandas as pd\n",
        "import numpy as np\n",
        "import requests\n",
        "import json\n",
        "import uuid\n",
        "pd.set_option(\"display.width\",1000)\n",
        "# Ce bout de code pour pouvoir downloader des fichiers sur le drive\n",
        "from google.colab import drive\n",
        "drive.mount('/content/drive')\n",
        "%cd /content/drive/MyDrive/Trad-Union/Corpus/ASAMLA\n",
        "from google.colab import files\n",
        "\n",
        "# Ce bout de code pour pouvoir downloader des google sheets dans des dataframes\n",
        "from google.colab import auth\n",
        "auth.authenticate_user()\n",
        "import gspread\n",
        "from gspread_dataframe import get_as_dataframe, set_with_dataframe\n",
        "from gspread_formatting import *\n",
        "from oauth2client.client import GoogleCredentials\n",
        "gc = gspread.authorize(GoogleCredentials.get_application_default())\n",
        "from airtable import Airtable\n",
        "!export PYTHONIOENCODING=utf8\n"
      ],
      "execution_count": 1,
      "outputs": [
        {
          "output_type": "stream",
          "name": "stdout",
          "text": [
            "Collecting gspread-formatting\n",
            "  Downloading gspread_formatting-1.0.5-py2.py3-none-any.whl (21 kB)\n",
            "Requirement already satisfied: gspread>=3.0.0 in /usr/local/lib/python3.7/dist-packages (from gspread-formatting) (3.4.2)\n",
            "Requirement already satisfied: google-auth in /usr/local/lib/python3.7/dist-packages (from gspread>=3.0.0->gspread-formatting) (1.35.0)\n",
            "Requirement already satisfied: requests>=2.2.1 in /usr/local/lib/python3.7/dist-packages (from gspread>=3.0.0->gspread-formatting) (2.23.0)\n",
            "Requirement already satisfied: chardet<4,>=3.0.2 in /usr/local/lib/python3.7/dist-packages (from requests>=2.2.1->gspread>=3.0.0->gspread-formatting) (3.0.4)\n",
            "Requirement already satisfied: urllib3!=1.25.0,!=1.25.1,<1.26,>=1.21.1 in /usr/local/lib/python3.7/dist-packages (from requests>=2.2.1->gspread>=3.0.0->gspread-formatting) (1.24.3)\n",
            "Requirement already satisfied: idna<3,>=2.5 in /usr/local/lib/python3.7/dist-packages (from requests>=2.2.1->gspread>=3.0.0->gspread-formatting) (2.10)\n",
            "Requirement already satisfied: certifi>=2017.4.17 in /usr/local/lib/python3.7/dist-packages (from requests>=2.2.1->gspread>=3.0.0->gspread-formatting) (2021.10.8)\n",
            "Requirement already satisfied: pyasn1-modules>=0.2.1 in /usr/local/lib/python3.7/dist-packages (from google-auth->gspread>=3.0.0->gspread-formatting) (0.2.8)\n",
            "Requirement already satisfied: cachetools<5.0,>=2.0.0 in /usr/local/lib/python3.7/dist-packages (from google-auth->gspread>=3.0.0->gspread-formatting) (4.2.4)\n",
            "Requirement already satisfied: setuptools>=40.3.0 in /usr/local/lib/python3.7/dist-packages (from google-auth->gspread>=3.0.0->gspread-formatting) (57.4.0)\n",
            "Requirement already satisfied: six>=1.9.0 in /usr/local/lib/python3.7/dist-packages (from google-auth->gspread>=3.0.0->gspread-formatting) (1.15.0)\n",
            "Requirement already satisfied: rsa<5,>=3.1.4 in /usr/local/lib/python3.7/dist-packages (from google-auth->gspread>=3.0.0->gspread-formatting) (4.8)\n",
            "Requirement already satisfied: pyasn1<0.5.0,>=0.4.6 in /usr/local/lib/python3.7/dist-packages (from pyasn1-modules>=0.2.1->google-auth->gspread>=3.0.0->gspread-formatting) (0.4.8)\n",
            "Installing collected packages: gspread-formatting\n",
            "Successfully installed gspread-formatting-1.0.5\n",
            "Collecting airtable-python-wrapper\n",
            "  Downloading airtable_python_wrapper-0.15.3-py2.py3-none-any.whl (12 kB)\n",
            "Requirement already satisfied: requests>=2 in /usr/local/lib/python3.7/dist-packages (from airtable-python-wrapper) (2.23.0)\n",
            "Requirement already satisfied: urllib3!=1.25.0,!=1.25.1,<1.26,>=1.21.1 in /usr/local/lib/python3.7/dist-packages (from requests>=2->airtable-python-wrapper) (1.24.3)\n",
            "Requirement already satisfied: certifi>=2017.4.17 in /usr/local/lib/python3.7/dist-packages (from requests>=2->airtable-python-wrapper) (2021.10.8)\n",
            "Requirement already satisfied: idna<3,>=2.5 in /usr/local/lib/python3.7/dist-packages (from requests>=2->airtable-python-wrapper) (2.10)\n",
            "Requirement already satisfied: chardet<4,>=3.0.2 in /usr/local/lib/python3.7/dist-packages (from requests>=2->airtable-python-wrapper) (3.0.4)\n",
            "Installing collected packages: airtable-python-wrapper\n",
            "Successfully installed airtable-python-wrapper-0.15.3\n",
            "Mounted at /content/drive\n",
            "/content/drive/MyDrive/Trad-Union/Corpus/ASAMLA\n"
          ]
        }
      ]
    },
    {
      "cell_type": "markdown",
      "metadata": {
        "id": "OoQvIFW_zGec"
      },
      "source": [
        ""
      ]
    },
    {
      "cell_type": "code",
      "source": [
        "def get_cc_config(f):\n",
        "  vk = []\n",
        "  try:\n",
        "    with open(f) as vk_f:\n",
        "        vk = json.load(vk_f)\n",
        "  except BaseException as e:\n",
        "    print(e)\n",
        "  return vk\n",
        "\n",
        "def set_cc_config (vk, f):\n",
        "  # sauvegarde du fichier de paramétrage\n",
        "  with open(f, 'w') as fp:\n",
        "      json.dump(vk, fp)  "
      ],
      "metadata": {
        "id": "HkCiMByNk1Me"
      },
      "execution_count": 2,
      "outputs": []
    },
    {
      "cell_type": "code",
      "source": [
        "#\n",
        "# Ouverture de la Sheet Centrale (corpus_central_base)\n",
        "#\n",
        "def get_CCDB_wb(uri):\n",
        "  sheet_central = uri\n",
        "  wb_central = gc.open_by_url(sheet_central)\n",
        "  return wb_central\n",
        "\n",
        "def get_CCDB_data(wb, idx):\n",
        "  t_corpus = wb.get_worksheet(idx)\n",
        "  data_t_corpus = t_corpus.get_all_values()\n",
        "  return data_t_corpus\n",
        "\n",
        "#\n",
        "# DataFrame CC global (toutes les langues)\n",
        "#\n",
        "def get_ccdf_global(CCDB):\n",
        "  return pd.DataFrame(CCDB[1:], columns=CCDB[0])\n",
        "\n",
        "#\n",
        "# DataFrame CC Français (invariable)\n",
        "#\n",
        "def get_ccdf_fr(df_cc):\n",
        "  # on supprime les doublons\n",
        "  return df_cc[['uid','expression','theme','état','date','commentaires','index']]"
      ],
      "metadata": {
        "id": "QYUSE6Dek8OA"
      },
      "execution_count": 3,
      "outputs": []
    },
    {
      "cell_type": "code",
      "source": [
        "# Config Langues\n",
        "config_languages = 'med_vac_synthese.json'\n",
        "vk_languages = get_cc_config(config_languages)"
      ],
      "metadata": {
        "id": "4fUMcMSwlDPi"
      },
      "execution_count": 4,
      "outputs": []
    },
    {
      "cell_type": "code",
      "metadata": {
        "id": "ey1jQEaS54Qz"
      },
      "source": [
        "# Ouverture de la Sheet Centrale\n",
        "sheet = 'https://docs.google.com/spreadsheets/d/1j9mtvKJn0Ad3FqxoJXMSKLJOfYTDOhtw3wxXZ4sQAIc'\n",
        "wb  = gc.open_by_url(sheet)"
      ],
      "execution_count": 5,
      "outputs": []
    },
    {
      "cell_type": "code",
      "source": [
        "# Config Corpus (de consolidation)\n",
        "config_corpus_central = \"corpus_central_config.json\"\n",
        "vk_corpus_central = get_cc_config(config_corpus_central)"
      ],
      "metadata": {
        "id": "YJFHaa9clah-"
      },
      "execution_count": 6,
      "outputs": []
    },
    {
      "cell_type": "code",
      "source": [
        "# Base Centrale\n",
        "# on charge l'onglet 1 (français)\n",
        "db_cc_wb = get_CCDB_wb(vk_corpus_central[0][\"uri\"])\n",
        "db_cc = get_CCDB_data (db_cc_wb, 1)\n",
        "df_cc_global = get_ccdf_global(db_cc)\n",
        "df_cc_fr = get_ccdf_fr(df_cc_global).drop_duplicates()"
      ],
      "metadata": {
        "id": "8LBOpjVJleFb"
      },
      "execution_count": 7,
      "outputs": []
    },
    {
      "cell_type": "code",
      "source": [
        "df_cc_global"
      ],
      "metadata": {
        "id": "jBEU07HyTQnI",
        "colab": {
          "base_uri": "https://localhost:8080/",
          "height": 1000
        },
        "outputId": "71dcad78-50f5-4b77-9bfd-b17a4f3f8f87"
      },
      "execution_count": 8,
      "outputs": [
        {
          "output_type": "execute_result",
          "data": {
            "text/html": [
              "\n",
              "  <div id=\"df-ff1c2a91-e41c-43e2-8262-d628ff09cc7b\">\n",
              "    <div class=\"colab-df-container\">\n",
              "      <div>\n",
              "<style scoped>\n",
              "    .dataframe tbody tr th:only-of-type {\n",
              "        vertical-align: middle;\n",
              "    }\n",
              "\n",
              "    .dataframe tbody tr th {\n",
              "        vertical-align: top;\n",
              "    }\n",
              "\n",
              "    .dataframe thead th {\n",
              "        text-align: right;\n",
              "    }\n",
              "</style>\n",
              "<table border=\"1\" class=\"dataframe\">\n",
              "  <thead>\n",
              "    <tr style=\"text-align: right;\">\n",
              "      <th></th>\n",
              "      <th>uid</th>\n",
              "      <th>expression</th>\n",
              "      <th>date</th>\n",
              "      <th>theme</th>\n",
              "      <th>état</th>\n",
              "      <th>commentaires</th>\n",
              "      <th>index</th>\n",
              "      <th>ams</th>\n",
              "      <th>eng</th>\n",
              "      <th>tur</th>\n",
              "      <th>rus</th>\n",
              "      <th>ukr</th>\n",
              "      <th>rou</th>\n",
              "      <th>hun</th>\n",
              "      <th>tig</th>\n",
              "      <th>alb</th>\n",
              "      <th>geo</th>\n",
              "      <th>arm</th>\n",
              "      <th>dar</th>\n",
              "      <th>pst</th>\n",
              "      <th>prs</th>\n",
              "      <th>aze</th>\n",
              "      <th>esp</th>\n",
              "      <th>amh</th>\n",
              "      <th>all</th>\n",
              "      <th>pol</th>\n",
              "      <th>som</th>\n",
              "    </tr>\n",
              "  </thead>\n",
              "  <tbody>\n",
              "    <tr>\n",
              "      <th>0</th>\n",
              "      <td>f397cda1</td>\n",
              "      <td>A jeun</td>\n",
              "      <td></td>\n",
              "      <td>Vaccination</td>\n",
              "      <td></td>\n",
              "      <td></td>\n",
              "      <td>A</td>\n",
              "      <td>صائم</td>\n",
              "      <td>With an empty stomach</td>\n",
              "      <td>Aç karnına</td>\n",
              "      <td>Натощак</td>\n",
              "      <td>Натщесерце</td>\n",
              "      <td>Pe stomacul gol</td>\n",
              "      <td>ÉHgyomorra</td>\n",
              "      <td>አብ ጥራሕ ከብድኻ(ኺ)</td>\n",
              "      <td>Me stomak te zbrazet</td>\n",
              "      <td>უზმოზე</td>\n",
              "      <td>Սոված փորին</td>\n",
              "      <td>گرسنه</td>\n",
              "      <td>په خالي معدې سره</td>\n",
              "      <td>گرسنه</td>\n",
              "      <td></td>\n",
              "      <td>En ayunas</td>\n",
              "      <td></td>\n",
              "      <td></td>\n",
              "      <td>Na czczo</td>\n",
              "      <td></td>\n",
              "    </tr>\n",
              "    <tr>\n",
              "      <th>1</th>\n",
              "      <td>f9bc13ef</td>\n",
              "      <td>À Quelle moment de la journée prenez-vous le m...</td>\n",
              "      <td></td>\n",
              "      <td>Médecine générale</td>\n",
              "      <td></td>\n",
              "      <td></td>\n",
              "      <td>À</td>\n",
              "      <td>في أي وقت من اليوم تتناول الدواء؟</td>\n",
              "      <td></td>\n",
              "      <td></td>\n",
              "      <td></td>\n",
              "      <td></td>\n",
              "      <td></td>\n",
              "      <td></td>\n",
              "      <td></td>\n",
              "      <td></td>\n",
              "      <td></td>\n",
              "      <td></td>\n",
              "      <td></td>\n",
              "      <td></td>\n",
              "      <td></td>\n",
              "      <td></td>\n",
              "      <td></td>\n",
              "      <td></td>\n",
              "      <td></td>\n",
              "      <td>O jakiej porze dnia przyjmujesz lek ?</td>\n",
              "      <td></td>\n",
              "    </tr>\n",
              "    <tr>\n",
              "      <th>2</th>\n",
              "      <td>6e65dde7</td>\n",
              "      <td>Abcès</td>\n",
              "      <td></td>\n",
              "      <td>Médecine générale</td>\n",
              "      <td></td>\n",
              "      <td></td>\n",
              "      <td>A</td>\n",
              "      <td>خُرّاج</td>\n",
              "      <td></td>\n",
              "      <td>Apse</td>\n",
              "      <td></td>\n",
              "      <td></td>\n",
              "      <td>Abces</td>\n",
              "      <td></td>\n",
              "      <td></td>\n",
              "      <td></td>\n",
              "      <td></td>\n",
              "      <td></td>\n",
              "      <td></td>\n",
              "      <td></td>\n",
              "      <td></td>\n",
              "      <td></td>\n",
              "      <td></td>\n",
              "      <td></td>\n",
              "      <td></td>\n",
              "      <td>Ropień</td>\n",
              "      <td></td>\n",
              "    </tr>\n",
              "    <tr>\n",
              "      <th>3</th>\n",
              "      <td>95c4a863</td>\n",
              "      <td>Accès fébrile concomitant chez un autre membre...</td>\n",
              "      <td></td>\n",
              "      <td>Vaccination</td>\n",
              "      <td></td>\n",
              "      <td></td>\n",
              "      <td>A</td>\n",
              "      <td>نوبة حمى مزامنة عند فرد اخر من الأسرة</td>\n",
              "      <td>Concomitant febrile attack in an other family ...</td>\n",
              "      <td></td>\n",
              "      <td>Сопровождающий жар у другого члена семьи ?</td>\n",
              "      <td>Супроводжуючий жар у іншого члена сім'ї ?</td>\n",
              "      <td>Mai are cineva temperatură în familie ?</td>\n",
              "      <td>Lázas valaki a családban ?</td>\n",
              "      <td>ኣብ ፋሚሊ ሓደ ዓይነት ጸገም ዶ ኣሎኩም</td>\n",
              "      <td>Sulm shoqërues i etheve në një pjesëtar tjetër...</td>\n",
              "      <td>ოჯახის წევრები თუ არიან ამით დაავადებული</td>\n",
              "      <td>Ուղեկցող ջերմություն տան անդամներից մեկի մոտ</td>\n",
              "      <td>حمله تب دار در یکی دیگر از اعضای خانواده؟</td>\n",
              "      <td>د کورنۍ په بل غړي باندې د بخار برید؟</td>\n",
              "      <td>حمله تب دار در یکی دیگر از اعضای خانواده؟</td>\n",
              "      <td></td>\n",
              "      <td>Acceso febril concomitante en otro miembro de ...</td>\n",
              "      <td></td>\n",
              "      <td></td>\n",
              "      <td></td>\n",
              "      <td></td>\n",
              "    </tr>\n",
              "    <tr>\n",
              "      <th>4</th>\n",
              "      <td>30579682</td>\n",
              "      <td>Accident</td>\n",
              "      <td></td>\n",
              "      <td>Vaccination</td>\n",
              "      <td></td>\n",
              "      <td></td>\n",
              "      <td>A</td>\n",
              "      <td>حادث</td>\n",
              "      <td>Accident</td>\n",
              "      <td>Kaza</td>\n",
              "      <td>Несчастный случай</td>\n",
              "      <td>Нещасний випадок</td>\n",
              "      <td>Accident</td>\n",
              "      <td>Baleset</td>\n",
              "      <td>ሐደጋ</td>\n",
              "      <td>Aksident</td>\n",
              "      <td>უბედური შემთხვევა</td>\n",
              "      <td>Վթար</td>\n",
              "      <td>تصادف</td>\n",
              "      <td>حادثه</td>\n",
              "      <td>تصادف</td>\n",
              "      <td></td>\n",
              "      <td>Accidente</td>\n",
              "      <td></td>\n",
              "      <td></td>\n",
              "      <td>Wypadek</td>\n",
              "      <td></td>\n",
              "    </tr>\n",
              "    <tr>\n",
              "      <th>...</th>\n",
              "      <td>...</td>\n",
              "      <td>...</td>\n",
              "      <td>...</td>\n",
              "      <td>...</td>\n",
              "      <td>...</td>\n",
              "      <td>...</td>\n",
              "      <td>...</td>\n",
              "      <td>...</td>\n",
              "      <td>...</td>\n",
              "      <td>...</td>\n",
              "      <td>...</td>\n",
              "      <td>...</td>\n",
              "      <td>...</td>\n",
              "      <td>...</td>\n",
              "      <td>...</td>\n",
              "      <td>...</td>\n",
              "      <td>...</td>\n",
              "      <td>...</td>\n",
              "      <td>...</td>\n",
              "      <td>...</td>\n",
              "      <td>...</td>\n",
              "      <td>...</td>\n",
              "      <td>...</td>\n",
              "      <td>...</td>\n",
              "      <td>...</td>\n",
              "      <td>...</td>\n",
              "      <td>...</td>\n",
              "    </tr>\n",
              "    <tr>\n",
              "      <th>250</th>\n",
              "      <td>52418</td>\n",
              "      <td>Vous avez des allergies aux médicaments ?</td>\n",
              "      <td></td>\n",
              "      <td>Médecine générale</td>\n",
              "      <td></td>\n",
              "      <td></td>\n",
              "      <td>V</td>\n",
              "      <td></td>\n",
              "      <td></td>\n",
              "      <td></td>\n",
              "      <td></td>\n",
              "      <td></td>\n",
              "      <td></td>\n",
              "      <td></td>\n",
              "      <td></td>\n",
              "      <td></td>\n",
              "      <td></td>\n",
              "      <td></td>\n",
              "      <td></td>\n",
              "      <td></td>\n",
              "      <td></td>\n",
              "      <td></td>\n",
              "      <td></td>\n",
              "      <td></td>\n",
              "      <td></td>\n",
              "      <td></td>\n",
              "      <td></td>\n",
              "    </tr>\n",
              "    <tr>\n",
              "      <th>251</th>\n",
              "      <td>5baecf7f</td>\n",
              "      <td>Vous avez mal autre part ?</td>\n",
              "      <td></td>\n",
              "      <td>Médecine générale</td>\n",
              "      <td></td>\n",
              "      <td></td>\n",
              "      <td>V</td>\n",
              "      <td>هل لديك ألم في مكان آخر؟</td>\n",
              "      <td></td>\n",
              "      <td>Başka bir yeriniz ağrıyormu ?</td>\n",
              "      <td></td>\n",
              "      <td></td>\n",
              "      <td>Aveti dureri in alta parte ?</td>\n",
              "      <td></td>\n",
              "      <td></td>\n",
              "      <td></td>\n",
              "      <td></td>\n",
              "      <td></td>\n",
              "      <td></td>\n",
              "      <td></td>\n",
              "      <td></td>\n",
              "      <td></td>\n",
              "      <td></td>\n",
              "      <td></td>\n",
              "      <td></td>\n",
              "      <td>Czy boli Cię coś gdzieś indziej ?</td>\n",
              "      <td></td>\n",
              "    </tr>\n",
              "    <tr>\n",
              "      <th>252</th>\n",
              "      <td>36e66161</td>\n",
              "      <td>Y a-t-il des cas contagieux à l'école ?</td>\n",
              "      <td></td>\n",
              "      <td>Vaccination</td>\n",
              "      <td></td>\n",
              "      <td></td>\n",
              "      <td>Y</td>\n",
              "      <td>هل توجد حالات معدية في المدرسة؟</td>\n",
              "      <td>Are there contagious cases at school ?</td>\n",
              "      <td>Okulda blaşıcı durum varmı ?</td>\n",
              "      <td>Бывают ли в школе заразные случаи ?</td>\n",
              "      <td>Чи бувають у школі заразні випадки ?</td>\n",
              "      <td>La sșcoală sunt cazuri de infecție contagioasă ?</td>\n",
              "      <td>Aktualizálták / Frissitették a védőoltásokat ?</td>\n",
              "      <td>አብ ትምህርቲ ዲዩ ለጊብካ ?</td>\n",
              "      <td>A ka raste ngjitëse në shkollë ?</td>\n",
              "      <td>თუ არის ავადმყოფობის შემთხვევა სკოლაში ?</td>\n",
              "      <td>Վարակիչ դեպքեր կա՞ն դպրոցում</td>\n",
              "      <td>آیا موارد مسری در مدرسه وجود دارد؟</td>\n",
              "      <td>ایا په ښوونځي کې کومې ساري پیښې شتون لري؟</td>\n",
              "      <td>آیا موارد مسری در مدرسه وجود دارد؟</td>\n",
              "      <td></td>\n",
              "      <td>¿Tienen casos contagiosos en la escuela ?</td>\n",
              "      <td></td>\n",
              "      <td></td>\n",
              "      <td>Czy w szkole są przypadki zakaźne ?</td>\n",
              "      <td></td>\n",
              "    </tr>\n",
              "    <tr>\n",
              "      <th>253</th>\n",
              "      <td>c32f5fd9</td>\n",
              "      <td>Y a-t-il des maladies chroniques dans votre fa...</td>\n",
              "      <td></td>\n",
              "      <td>Médecine générale</td>\n",
              "      <td></td>\n",
              "      <td></td>\n",
              "      <td>Y</td>\n",
              "      <td>هل يوجد أمراض مزمنة في عائلتك؟</td>\n",
              "      <td></td>\n",
              "      <td>Ailenizde kronik hastalık varmı ?</td>\n",
              "      <td></td>\n",
              "      <td></td>\n",
              "      <td>Sunt persoane in familie cu boli cronice ?</td>\n",
              "      <td></td>\n",
              "      <td></td>\n",
              "      <td></td>\n",
              "      <td></td>\n",
              "      <td></td>\n",
              "      <td></td>\n",
              "      <td></td>\n",
              "      <td></td>\n",
              "      <td></td>\n",
              "      <td></td>\n",
              "      <td></td>\n",
              "      <td></td>\n",
              "      <td>Czy w Twojej rodzinie są jakieś choroby przewl...</td>\n",
              "      <td></td>\n",
              "    </tr>\n",
              "    <tr>\n",
              "      <th>254</th>\n",
              "      <td>d3dba8e4</td>\n",
              "      <td>Zona</td>\n",
              "      <td></td>\n",
              "      <td>Vaccination</td>\n",
              "      <td></td>\n",
              "      <td></td>\n",
              "      <td>Z</td>\n",
              "      <td>مرض الحزام الناري أو الهريس النطاقي</td>\n",
              "      <td>Shingles</td>\n",
              "      <td>Zona hastalığı</td>\n",
              "      <td>Опоясывающий лишай</td>\n",
              "      <td>Оперізуючий лишай</td>\n",
              "      <td>Zona zoster / Herpes zoster</td>\n",
              "      <td>Ragályos betegek vannak az iskolában ?</td>\n",
              "      <td>ዞና ዝብሃል ሕማም ኣብ ቖርበት ማለት ብደገ ዝቖስል ብርቱዕ ቓንዛ ዘለዎ ...</td>\n",
              "      <td>Zona</td>\n",
              "      <td>ჰერპეს-სიმპლექსის ვირუსი</td>\n",
              "      <td>շինգլեր</td>\n",
              "      <td>زونا</td>\n",
              "      <td>زونا</td>\n",
              "      <td>زونا</td>\n",
              "      <td></td>\n",
              "      <td>Zona</td>\n",
              "      <td></td>\n",
              "      <td></td>\n",
              "      <td>Półpasiec</td>\n",
              "      <td></td>\n",
              "    </tr>\n",
              "  </tbody>\n",
              "</table>\n",
              "<p>255 rows × 27 columns</p>\n",
              "</div>\n",
              "      <button class=\"colab-df-convert\" onclick=\"convertToInteractive('df-ff1c2a91-e41c-43e2-8262-d628ff09cc7b')\"\n",
              "              title=\"Convert this dataframe to an interactive table.\"\n",
              "              style=\"display:none;\">\n",
              "        \n",
              "  <svg xmlns=\"http://www.w3.org/2000/svg\" height=\"24px\"viewBox=\"0 0 24 24\"\n",
              "       width=\"24px\">\n",
              "    <path d=\"M0 0h24v24H0V0z\" fill=\"none\"/>\n",
              "    <path d=\"M18.56 5.44l.94 2.06.94-2.06 2.06-.94-2.06-.94-.94-2.06-.94 2.06-2.06.94zm-11 1L8.5 8.5l.94-2.06 2.06-.94-2.06-.94L8.5 2.5l-.94 2.06-2.06.94zm10 10l.94 2.06.94-2.06 2.06-.94-2.06-.94-.94-2.06-.94 2.06-2.06.94z\"/><path d=\"M17.41 7.96l-1.37-1.37c-.4-.4-.92-.59-1.43-.59-.52 0-1.04.2-1.43.59L10.3 9.45l-7.72 7.72c-.78.78-.78 2.05 0 2.83L4 21.41c.39.39.9.59 1.41.59.51 0 1.02-.2 1.41-.59l7.78-7.78 2.81-2.81c.8-.78.8-2.07 0-2.86zM5.41 20L4 18.59l7.72-7.72 1.47 1.35L5.41 20z\"/>\n",
              "  </svg>\n",
              "      </button>\n",
              "      \n",
              "  <style>\n",
              "    .colab-df-container {\n",
              "      display:flex;\n",
              "      flex-wrap:wrap;\n",
              "      gap: 12px;\n",
              "    }\n",
              "\n",
              "    .colab-df-convert {\n",
              "      background-color: #E8F0FE;\n",
              "      border: none;\n",
              "      border-radius: 50%;\n",
              "      cursor: pointer;\n",
              "      display: none;\n",
              "      fill: #1967D2;\n",
              "      height: 32px;\n",
              "      padding: 0 0 0 0;\n",
              "      width: 32px;\n",
              "    }\n",
              "\n",
              "    .colab-df-convert:hover {\n",
              "      background-color: #E2EBFA;\n",
              "      box-shadow: 0px 1px 2px rgba(60, 64, 67, 0.3), 0px 1px 3px 1px rgba(60, 64, 67, 0.15);\n",
              "      fill: #174EA6;\n",
              "    }\n",
              "\n",
              "    [theme=dark] .colab-df-convert {\n",
              "      background-color: #3B4455;\n",
              "      fill: #D2E3FC;\n",
              "    }\n",
              "\n",
              "    [theme=dark] .colab-df-convert:hover {\n",
              "      background-color: #434B5C;\n",
              "      box-shadow: 0px 1px 3px 1px rgba(0, 0, 0, 0.15);\n",
              "      filter: drop-shadow(0px 1px 2px rgba(0, 0, 0, 0.3));\n",
              "      fill: #FFFFFF;\n",
              "    }\n",
              "  </style>\n",
              "\n",
              "      <script>\n",
              "        const buttonEl =\n",
              "          document.querySelector('#df-ff1c2a91-e41c-43e2-8262-d628ff09cc7b button.colab-df-convert');\n",
              "        buttonEl.style.display =\n",
              "          google.colab.kernel.accessAllowed ? 'block' : 'none';\n",
              "\n",
              "        async function convertToInteractive(key) {\n",
              "          const element = document.querySelector('#df-ff1c2a91-e41c-43e2-8262-d628ff09cc7b');\n",
              "          const dataTable =\n",
              "            await google.colab.kernel.invokeFunction('convertToInteractive',\n",
              "                                                     [key], {});\n",
              "          if (!dataTable) return;\n",
              "\n",
              "          const docLinkHtml = 'Like what you see? Visit the ' +\n",
              "            '<a target=\"_blank\" href=https://colab.research.google.com/notebooks/data_table.ipynb>data table notebook</a>'\n",
              "            + ' to learn more about interactive tables.';\n",
              "          element.innerHTML = '';\n",
              "          dataTable['output_type'] = 'display_data';\n",
              "          await google.colab.output.renderOutput(dataTable, element);\n",
              "          const docLink = document.createElement('div');\n",
              "          docLink.innerHTML = docLinkHtml;\n",
              "          element.appendChild(docLink);\n",
              "        }\n",
              "      </script>\n",
              "    </div>\n",
              "  </div>\n",
              "  "
            ],
            "text/plain": [
              "          uid  ... som\n",
              "0    f397cda1  ...    \n",
              "1    f9bc13ef  ...    \n",
              "2    6e65dde7  ...    \n",
              "3    95c4a863  ...    \n",
              "4    30579682  ...    \n",
              "..        ...  ...  ..\n",
              "250     52418  ...    \n",
              "251  5baecf7f  ...    \n",
              "252  36e66161  ...    \n",
              "253  c32f5fd9  ...    \n",
              "254  d3dba8e4  ...    \n",
              "\n",
              "[255 rows x 27 columns]"
            ]
          },
          "metadata": {},
          "execution_count": 8
        }
      ]
    },
    {
      "cell_type": "markdown",
      "metadata": {
        "id": "ZbXgJiWKBEwY"
      },
      "source": [
        "### Appel de l'API\n",
        "https://towardsdatascience.com/downloading-airtable-data-into-python-89e5c7107a24"
      ]
    },
    {
      "cell_type": "code",
      "metadata": {
        "id": "Mi4zCrC54xR-"
      },
      "source": [
        "params = ()\n",
        "api_key = \"keyrI98TIqu6mbFcf\" \n",
        "api_key_gmail = \"keysgpJWq3aWwqSZe\"\n",
        "headers = {\"Authorization\": \"Bearer \" + api_key,\"Content-Type\" : \"application/json\"}\n",
        "base_id = \"appawT3gg7cJhPYv0\" # Base Nouvelle HV\n",
        "table_name = 'Theme'\n",
        "airtable_theme = Airtable(base_id, table_name, api_key)"
      ],
      "execution_count": 9,
      "outputs": []
    },
    {
      "cell_type": "code",
      "source": [
        "table_name = 'Corpus'\n",
        "airtable_corpus = Airtable(base_id, table_name, api_key)"
      ],
      "metadata": {
        "id": "LAIlBGJtPK2H"
      },
      "execution_count": 10,
      "outputs": []
    },
    {
      "cell_type": "markdown",
      "source": [
        "```\n",
        "for page in airtable.get_iter(view='Grid view',sort='Proposition'):\n",
        "  for record in page:\n",
        "    value = record['fields']['Proposition']\n",
        "```\n",
        "\n"
      ],
      "metadata": {
        "id": "BRVoSlYoTdax"
      }
    },
    {
      "cell_type": "code",
      "source": [
        "vk_theme = airtable_theme.get_all(view='Grid view',sort='Terme')\n",
        "df_vk_theme = pd.DataFrame.from_records((r['fields'] for r in vk_theme))"
      ],
      "metadata": {
        "id": "hcErKj3pQ2TE"
      },
      "execution_count": 34,
      "outputs": []
    },
    {
      "cell_type": "code",
      "source": [
        "vk_corpus = airtable_corpus.get_all(view='Admin',sort='Proposition')\n",
        "df_vk_corpus = pd.DataFrame.from_records((r['fields'] for r in vk_corpus))"
      ],
      "metadata": {
        "id": "yphc7qIDi4WC"
      },
      "execution_count": 35,
      "outputs": []
    },
    {
      "cell_type": "code",
      "source": [
        "# on caste la série en string\n",
        "df_vk_theme[\"Corpus\"] = df_vk_theme[\"Corpus\"].apply(lambda x: x[0])\n",
        "# on caste en string tout le reste aussi\n",
        "df_vk_theme[\"Définition\"] = df_vk_theme[\"Définition\"].apply(lambda x: x[0])\n"
      ],
      "metadata": {
        "id": "Hu4sSnV6m-lL"
      },
      "execution_count": 36,
      "outputs": []
    },
    {
      "cell_type": "code",
      "source": [
        "# recherche de REC ID pour obtenir la traduction (ici on prend le russe)\n",
        "def get_corpus_rec (key):\n",
        "  return df_vk_corpus.loc[df_vk_corpus[\"Name ID\"]==key][\"rus\"].values.item()"
      ],
      "metadata": {
        "id": "vSeRkcx5jreg"
      },
      "execution_count": 37,
      "outputs": []
    },
    {
      "cell_type": "code",
      "source": [
        "# recherche de REC ID pour obtenir la traduction (ici on prend le russe)\n",
        "def get_phrase (key):\n",
        "  r = \"\"\n",
        "  if pd.notna(key):\n",
        "    print(key)\n",
        "    r = df_vk_corpus.loc[df_vk_corpus[\"Name ID\"]==key][\"Proposition\"].values.item()\n",
        "  return r \n"
      ],
      "metadata": {
        "id": "PRU1X3nwNmKn"
      },
      "execution_count": 56,
      "outputs": []
    },
    {
      "cell_type": "code",
      "source": [
        "# On ajoute la traduction\n",
        "df_vk_theme[\"rus\"] = df_vk_theme[\"Corpus\"].apply(lambda x: get_corpus_rec(x))"
      ],
      "metadata": {
        "id": "a8FVirGUTcB5"
      },
      "execution_count": 39,
      "outputs": []
    },
    {
      "cell_type": "code",
      "source": [
        "df_vk_theme = df_vk_theme.explode(\"Phrase\")"
      ],
      "metadata": {
        "id": "VEmMwl3XNLyn"
      },
      "execution_count": 45,
      "outputs": []
    },
    {
      "cell_type": "code",
      "source": [
        "df_vk_theme = df_vk_theme.explode(\"Thème\")"
      ],
      "metadata": {
        "id": "nHjFIWCaUH9B"
      },
      "execution_count": 61,
      "outputs": []
    },
    {
      "cell_type": "code",
      "source": [
        "df_vk_theme = df_vk_theme.explode(\"Expression\")"
      ],
      "metadata": {
        "id": "QYl6a2tqUc2w"
      },
      "execution_count": 65,
      "outputs": []
    },
    {
      "cell_type": "code",
      "source": [
        "df_vk_theme[\"Expression\"] = df_vk_theme[\"Expression\"].apply(lambda x: get_phrase(x))"
      ],
      "metadata": {
        "colab": {
          "base_uri": "https://localhost:8080/"
        },
        "id": "ENcC7fEfUwTp",
        "outputId": "0657d4e0-9916-485f-be4f-1be91bb0f5be"
      },
      "execution_count": 67,
      "outputs": [
        {
          "output_type": "stream",
          "name": "stdout",
          "text": [
            "recDNzt9YOceP1MSY\n",
            "recMyIOGoTKuZ55Si\n"
          ]
        }
      ]
    },
    {
      "cell_type": "code",
      "source": [
        "df_vk_theme[\"Phrase\"] = df_vk_theme[\"Phrase\"].apply(lambda x: get_phrase(x))"
      ],
      "metadata": {
        "id": "vePPkyD6UvDz"
      },
      "execution_count": null,
      "outputs": []
    },
    {
      "cell_type": "code",
      "source": [
        "df_vk_theme"
      ],
      "metadata": {
        "colab": {
          "base_uri": "https://localhost:8080/",
          "height": 771
        },
        "id": "4qPirvG9UPob",
        "outputId": "154b1560-80b9-4a80-99fc-141da041bc6e"
      },
      "execution_count": 68,
      "outputs": [
        {
          "output_type": "execute_result",
          "data": {
            "text/html": [
              "\n",
              "  <div id=\"df-ac0d9760-e180-4255-ad18-fd5975183b83\">\n",
              "    <div class=\"colab-df-container\">\n",
              "      <div>\n",
              "<style scoped>\n",
              "    .dataframe tbody tr th:only-of-type {\n",
              "        vertical-align: middle;\n",
              "    }\n",
              "\n",
              "    .dataframe tbody tr th {\n",
              "        vertical-align: top;\n",
              "    }\n",
              "\n",
              "    .dataframe thead th {\n",
              "        text-align: right;\n",
              "    }\n",
              "</style>\n",
              "<table border=\"1\" class=\"dataframe\">\n",
              "  <thead>\n",
              "    <tr style=\"text-align: right;\">\n",
              "      <th></th>\n",
              "      <th>Corpus</th>\n",
              "      <th>Rubrique</th>\n",
              "      <th>Terme</th>\n",
              "      <th>Définition</th>\n",
              "      <th>Thème</th>\n",
              "      <th>Phrase</th>\n",
              "      <th>Expression</th>\n",
              "      <th>rus</th>\n",
              "    </tr>\n",
              "  </thead>\n",
              "  <tbody>\n",
              "    <tr>\n",
              "      <th>0</th>\n",
              "      <td>recVvIHdNWf80zvsG</td>\n",
              "      <td>Traitements</td>\n",
              "      <td>À quel moment de la journée vous prenez le méd...</td>\n",
              "      <td>phrase</td>\n",
              "      <td>Médecine générale</td>\n",
              "      <td></td>\n",
              "      <td></td>\n",
              "      <td>NaN</td>\n",
              "    </tr>\n",
              "    <tr>\n",
              "      <th>1</th>\n",
              "      <td>recFclp4FIK5u5sa3</td>\n",
              "      <td>Généralités - état civil</td>\n",
              "      <td>Age</td>\n",
              "      <td>nm</td>\n",
              "      <td>Médecine générale</td>\n",
              "      <td>Quel âge avez-vous ?</td>\n",
              "      <td></td>\n",
              "      <td>NaN</td>\n",
              "    </tr>\n",
              "    <tr>\n",
              "      <th>2</th>\n",
              "      <td>reccvrUrXdeQgVAnC</td>\n",
              "      <td>Antécédents</td>\n",
              "      <td>Antécédents</td>\n",
              "      <td>nm</td>\n",
              "      <td>Vaccination</td>\n",
              "      <td></td>\n",
              "      <td></td>\n",
              "      <td>ПредшествующиE заболевания</td>\n",
              "    </tr>\n",
              "    <tr>\n",
              "      <th>3</th>\n",
              "      <td>reczaubMtqEVNLdn3</td>\n",
              "      <td>Antécédents</td>\n",
              "      <td>Avez-vous déjà été opéré(e) ?</td>\n",
              "      <td>phrase</td>\n",
              "      <td>Vaccination</td>\n",
              "      <td></td>\n",
              "      <td></td>\n",
              "      <td>Вам когда-нибудь делали операцию ?</td>\n",
              "    </tr>\n",
              "    <tr>\n",
              "      <th>4</th>\n",
              "      <td>reckZlBAzDSte2Aql</td>\n",
              "      <td>Antécédents</td>\n",
              "      <td>Avez-vous déjà été transfusé(e) ?</td>\n",
              "      <td>phrase</td>\n",
              "      <td>Vaccination</td>\n",
              "      <td></td>\n",
              "      <td></td>\n",
              "      <td>Вам когда-нибудь делали переливание крови ?</td>\n",
              "    </tr>\n",
              "    <tr>\n",
              "      <th>5</th>\n",
              "      <td>recMenxhf0pi6hyRb</td>\n",
              "      <td>Antécédents</td>\n",
              "      <td>Avez-vous des antécédents dans la famille ?</td>\n",
              "      <td>phrase</td>\n",
              "      <td>Vaccination</td>\n",
              "      <td>D'autres membres de la famille sont-ils actuel...</td>\n",
              "      <td></td>\n",
              "      <td>У вас есть предшествующиE заболевания семье (а...</td>\n",
              "    </tr>\n",
              "    <tr>\n",
              "      <th>6</th>\n",
              "      <td>rec33YHbQfJVyNqZB</td>\n",
              "      <td>Le corps humain</td>\n",
              "      <td>Bras</td>\n",
              "      <td>nm</td>\n",
              "      <td>Vaccination</td>\n",
              "      <td>Montrez la trace au niveau du bras</td>\n",
              "      <td></td>\n",
              "      <td>РукA</td>\n",
              "    </tr>\n",
              "    <tr>\n",
              "      <th>7</th>\n",
              "      <td>rec8pS46MYGy4eNMk</td>\n",
              "      <td>Examen</td>\n",
              "      <td>Fibroscopie</td>\n",
              "      <td>nf</td>\n",
              "      <td>Médecine générale</td>\n",
              "      <td></td>\n",
              "      <td>Fibroscopie digestive</td>\n",
              "      <td>NaN</td>\n",
              "    </tr>\n",
              "    <tr>\n",
              "      <th>8</th>\n",
              "      <td>recN8cQKAYrainO3w</td>\n",
              "      <td>Symptômes</td>\n",
              "      <td>Fièvre</td>\n",
              "      <td>nf</td>\n",
              "      <td>Vaccination</td>\n",
              "      <td>Avez-vous de la fièvre ?</td>\n",
              "      <td></td>\n",
              "      <td>Жар, горячка</td>\n",
              "    </tr>\n",
              "    <tr>\n",
              "      <th>8</th>\n",
              "      <td>recN8cQKAYrainO3w</td>\n",
              "      <td>Symptômes</td>\n",
              "      <td>Fièvre</td>\n",
              "      <td>nf</td>\n",
              "      <td>Vaccination</td>\n",
              "      <td>Date du début de la fièvre</td>\n",
              "      <td></td>\n",
              "      <td>Жар, горячка</td>\n",
              "    </tr>\n",
              "    <tr>\n",
              "      <th>9</th>\n",
              "      <td>recPchccj05SZLgIN</td>\n",
              "      <td>Traitements</td>\n",
              "      <td>Médecin traitant</td>\n",
              "      <td>exp</td>\n",
              "      <td>Vaccination</td>\n",
              "      <td></td>\n",
              "      <td></td>\n",
              "      <td>Лечащий врач</td>\n",
              "    </tr>\n",
              "    <tr>\n",
              "      <th>10</th>\n",
              "      <td>recoVqs2Drj3FQ1M1</td>\n",
              "      <td>Le corps humain</td>\n",
              "      <td>Nez</td>\n",
              "      <td>nm</td>\n",
              "      <td>NaN</td>\n",
              "      <td>Prélèvement nasal</td>\n",
              "      <td></td>\n",
              "      <td>NaN</td>\n",
              "    </tr>\n",
              "    <tr>\n",
              "      <th>11</th>\n",
              "      <td>recm4NqJ73m4S46AF</td>\n",
              "      <td>Généralités - état civil</td>\n",
              "      <td>Nom</td>\n",
              "      <td>nm</td>\n",
              "      <td>Médecine générale</td>\n",
              "      <td>Bonjour, comment vous appelez-vous ?</td>\n",
              "      <td></td>\n",
              "      <td>NaN</td>\n",
              "    </tr>\n",
              "    <tr>\n",
              "      <th>12</th>\n",
              "      <td>recIKFiQVAl9BTOLD</td>\n",
              "      <td>Le corps humain</td>\n",
              "      <td>Oreille</td>\n",
              "      <td>nf</td>\n",
              "      <td>NaN</td>\n",
              "      <td></td>\n",
              "      <td>Oreillons</td>\n",
              "      <td>NaN</td>\n",
              "    </tr>\n",
              "    <tr>\n",
              "      <th>13</th>\n",
              "      <td>recnFsFSoE1DCjYqt</td>\n",
              "      <td>Etat général</td>\n",
              "      <td>Poids</td>\n",
              "      <td>nm</td>\n",
              "      <td>Vaccination</td>\n",
              "      <td>Votre poids a-t-il augmenté ?</td>\n",
              "      <td></td>\n",
              "      <td>Вес</td>\n",
              "    </tr>\n",
              "    <tr>\n",
              "      <th>13</th>\n",
              "      <td>recnFsFSoE1DCjYqt</td>\n",
              "      <td>Etat général</td>\n",
              "      <td>Poids</td>\n",
              "      <td>nm</td>\n",
              "      <td>Vaccination</td>\n",
              "      <td>Votre poids a-t-il baissé ?</td>\n",
              "      <td></td>\n",
              "      <td>Вес</td>\n",
              "    </tr>\n",
              "    <tr>\n",
              "      <th>13</th>\n",
              "      <td>recnFsFSoE1DCjYqt</td>\n",
              "      <td>Etat général</td>\n",
              "      <td>Poids</td>\n",
              "      <td>nm</td>\n",
              "      <td>Vaccination</td>\n",
              "      <td>Votre poids est-il stable ?</td>\n",
              "      <td></td>\n",
              "      <td>Вес</td>\n",
              "    </tr>\n",
              "    <tr>\n",
              "      <th>13</th>\n",
              "      <td>recnFsFSoE1DCjYqt</td>\n",
              "      <td>Etat général</td>\n",
              "      <td>Poids</td>\n",
              "      <td>nm</td>\n",
              "      <td>Vaccination</td>\n",
              "      <td>Quel est votre poids ?</td>\n",
              "      <td></td>\n",
              "      <td>Вес</td>\n",
              "    </tr>\n",
              "    <tr>\n",
              "      <th>14</th>\n",
              "      <td>recA87PtLJrLNxrWv</td>\n",
              "      <td>Traitements</td>\n",
              "      <td>Prenez-vous régulièrement des médicaments ?</td>\n",
              "      <td>phrase</td>\n",
              "      <td>Vaccination</td>\n",
              "      <td></td>\n",
              "      <td></td>\n",
              "      <td>Вы регулярно принимаете лекарства ?</td>\n",
              "    </tr>\n",
              "    <tr>\n",
              "      <th>15</th>\n",
              "      <td>recxY8cLPegUjuokd</td>\n",
              "      <td>Généralités - état civil</td>\n",
              "      <td>Prénom</td>\n",
              "      <td>nm</td>\n",
              "      <td>Médecine générale</td>\n",
              "      <td></td>\n",
              "      <td></td>\n",
              "      <td>NaN</td>\n",
              "    </tr>\n",
              "    <tr>\n",
              "      <th>16</th>\n",
              "      <td>recPd4zs5SiIqkQXA</td>\n",
              "      <td>Etat général</td>\n",
              "      <td>Taille</td>\n",
              "      <td>nf</td>\n",
              "      <td>Vaccination</td>\n",
              "      <td>Quelle est votre taille ?</td>\n",
              "      <td></td>\n",
              "      <td>Рост</td>\n",
              "    </tr>\n",
              "    <tr>\n",
              "      <th>17</th>\n",
              "      <td>rec8d0Jcw9xJQxfMW</td>\n",
              "      <td>Symptômes</td>\n",
              "      <td>Température</td>\n",
              "      <td>nf</td>\n",
              "      <td>Vaccination</td>\n",
              "      <td>Avez-vous pris (mesuré) votre température ?</td>\n",
              "      <td></td>\n",
              "      <td>Температура</td>\n",
              "    </tr>\n",
              "    <tr>\n",
              "      <th>18</th>\n",
              "      <td>rec5wqYAEVz6LPva5</td>\n",
              "      <td>Traitements</td>\n",
              "      <td>Traitement</td>\n",
              "      <td>nm</td>\n",
              "      <td>NaN</td>\n",
              "      <td></td>\n",
              "      <td></td>\n",
              "      <td>NaN</td>\n",
              "    </tr>\n",
              "  </tbody>\n",
              "</table>\n",
              "</div>\n",
              "      <button class=\"colab-df-convert\" onclick=\"convertToInteractive('df-ac0d9760-e180-4255-ad18-fd5975183b83')\"\n",
              "              title=\"Convert this dataframe to an interactive table.\"\n",
              "              style=\"display:none;\">\n",
              "        \n",
              "  <svg xmlns=\"http://www.w3.org/2000/svg\" height=\"24px\"viewBox=\"0 0 24 24\"\n",
              "       width=\"24px\">\n",
              "    <path d=\"M0 0h24v24H0V0z\" fill=\"none\"/>\n",
              "    <path d=\"M18.56 5.44l.94 2.06.94-2.06 2.06-.94-2.06-.94-.94-2.06-.94 2.06-2.06.94zm-11 1L8.5 8.5l.94-2.06 2.06-.94-2.06-.94L8.5 2.5l-.94 2.06-2.06.94zm10 10l.94 2.06.94-2.06 2.06-.94-2.06-.94-.94-2.06-.94 2.06-2.06.94z\"/><path d=\"M17.41 7.96l-1.37-1.37c-.4-.4-.92-.59-1.43-.59-.52 0-1.04.2-1.43.59L10.3 9.45l-7.72 7.72c-.78.78-.78 2.05 0 2.83L4 21.41c.39.39.9.59 1.41.59.51 0 1.02-.2 1.41-.59l7.78-7.78 2.81-2.81c.8-.78.8-2.07 0-2.86zM5.41 20L4 18.59l7.72-7.72 1.47 1.35L5.41 20z\"/>\n",
              "  </svg>\n",
              "      </button>\n",
              "      \n",
              "  <style>\n",
              "    .colab-df-container {\n",
              "      display:flex;\n",
              "      flex-wrap:wrap;\n",
              "      gap: 12px;\n",
              "    }\n",
              "\n",
              "    .colab-df-convert {\n",
              "      background-color: #E8F0FE;\n",
              "      border: none;\n",
              "      border-radius: 50%;\n",
              "      cursor: pointer;\n",
              "      display: none;\n",
              "      fill: #1967D2;\n",
              "      height: 32px;\n",
              "      padding: 0 0 0 0;\n",
              "      width: 32px;\n",
              "    }\n",
              "\n",
              "    .colab-df-convert:hover {\n",
              "      background-color: #E2EBFA;\n",
              "      box-shadow: 0px 1px 2px rgba(60, 64, 67, 0.3), 0px 1px 3px 1px rgba(60, 64, 67, 0.15);\n",
              "      fill: #174EA6;\n",
              "    }\n",
              "\n",
              "    [theme=dark] .colab-df-convert {\n",
              "      background-color: #3B4455;\n",
              "      fill: #D2E3FC;\n",
              "    }\n",
              "\n",
              "    [theme=dark] .colab-df-convert:hover {\n",
              "      background-color: #434B5C;\n",
              "      box-shadow: 0px 1px 3px 1px rgba(0, 0, 0, 0.15);\n",
              "      filter: drop-shadow(0px 1px 2px rgba(0, 0, 0, 0.3));\n",
              "      fill: #FFFFFF;\n",
              "    }\n",
              "  </style>\n",
              "\n",
              "      <script>\n",
              "        const buttonEl =\n",
              "          document.querySelector('#df-ac0d9760-e180-4255-ad18-fd5975183b83 button.colab-df-convert');\n",
              "        buttonEl.style.display =\n",
              "          google.colab.kernel.accessAllowed ? 'block' : 'none';\n",
              "\n",
              "        async function convertToInteractive(key) {\n",
              "          const element = document.querySelector('#df-ac0d9760-e180-4255-ad18-fd5975183b83');\n",
              "          const dataTable =\n",
              "            await google.colab.kernel.invokeFunction('convertToInteractive',\n",
              "                                                     [key], {});\n",
              "          if (!dataTable) return;\n",
              "\n",
              "          const docLinkHtml = 'Like what you see? Visit the ' +\n",
              "            '<a target=\"_blank\" href=https://colab.research.google.com/notebooks/data_table.ipynb>data table notebook</a>'\n",
              "            + ' to learn more about interactive tables.';\n",
              "          element.innerHTML = '';\n",
              "          dataTable['output_type'] = 'display_data';\n",
              "          await google.colab.output.renderOutput(dataTable, element);\n",
              "          const docLink = document.createElement('div');\n",
              "          docLink.innerHTML = docLinkHtml;\n",
              "          element.appendChild(docLink);\n",
              "        }\n",
              "      </script>\n",
              "    </div>\n",
              "  </div>\n",
              "  "
            ],
            "text/plain": [
              "               Corpus  ...                                                rus\n",
              "0   recVvIHdNWf80zvsG  ...                                                NaN\n",
              "1   recFclp4FIK5u5sa3  ...                                                NaN\n",
              "2   reccvrUrXdeQgVAnC  ...                         ПредшествующиE заболевания\n",
              "3   reczaubMtqEVNLdn3  ...                 Вам когда-нибудь делали операцию ?\n",
              "4   reckZlBAzDSte2Aql  ...        Вам когда-нибудь делали переливание крови ?\n",
              "5   recMenxhf0pi6hyRb  ...  У вас есть предшествующиE заболевания семье (а...\n",
              "6   rec33YHbQfJVyNqZB  ...                                               РукA\n",
              "7   rec8pS46MYGy4eNMk  ...                                                NaN\n",
              "8   recN8cQKAYrainO3w  ...                                       Жар, горячка\n",
              "8   recN8cQKAYrainO3w  ...                                       Жар, горячка\n",
              "9   recPchccj05SZLgIN  ...                                       Лечащий врач\n",
              "10  recoVqs2Drj3FQ1M1  ...                                                NaN\n",
              "11  recm4NqJ73m4S46AF  ...                                                NaN\n",
              "12  recIKFiQVAl9BTOLD  ...                                                NaN\n",
              "13  recnFsFSoE1DCjYqt  ...                                                Вес\n",
              "13  recnFsFSoE1DCjYqt  ...                                                Вес\n",
              "13  recnFsFSoE1DCjYqt  ...                                                Вес\n",
              "13  recnFsFSoE1DCjYqt  ...                                                Вес\n",
              "14  recA87PtLJrLNxrWv  ...                Вы регулярно принимаете лекарства ?\n",
              "15  recxY8cLPegUjuokd  ...                                                NaN\n",
              "16  recPd4zs5SiIqkQXA  ...                                               Рост\n",
              "17  rec8d0Jcw9xJQxfMW  ...                                        Температура\n",
              "18  rec5wqYAEVz6LPva5  ...                                                NaN\n",
              "\n",
              "[23 rows x 8 columns]"
            ]
          },
          "metadata": {},
          "execution_count": 68
        }
      ]
    },
    {
      "cell_type": "code",
      "source": [
        "gk = df_vk_theme.groupby(\"Rubrique\")"
      ],
      "metadata": {
        "id": "-gqnMCJBmBPG"
      },
      "execution_count": 62,
      "outputs": []
    },
    {
      "cell_type": "code",
      "source": [
        "gk.get_group('Etat général')"
      ],
      "metadata": {
        "colab": {
          "base_uri": "https://localhost:8080/",
          "height": 206
        },
        "id": "peAQvuQ_4dOY",
        "outputId": "3c57c32f-616f-416c-b881-945f7f8be651"
      },
      "execution_count": 63,
      "outputs": [
        {
          "output_type": "execute_result",
          "data": {
            "text/html": [
              "\n",
              "  <div id=\"df-364d098e-582a-4db9-b767-3a75f588f283\">\n",
              "    <div class=\"colab-df-container\">\n",
              "      <div>\n",
              "<style scoped>\n",
              "    .dataframe tbody tr th:only-of-type {\n",
              "        vertical-align: middle;\n",
              "    }\n",
              "\n",
              "    .dataframe tbody tr th {\n",
              "        vertical-align: top;\n",
              "    }\n",
              "\n",
              "    .dataframe thead th {\n",
              "        text-align: right;\n",
              "    }\n",
              "</style>\n",
              "<table border=\"1\" class=\"dataframe\">\n",
              "  <thead>\n",
              "    <tr style=\"text-align: right;\">\n",
              "      <th></th>\n",
              "      <th>Corpus</th>\n",
              "      <th>Rubrique</th>\n",
              "      <th>Terme</th>\n",
              "      <th>Définition</th>\n",
              "      <th>Thème</th>\n",
              "      <th>Phrase</th>\n",
              "      <th>Expression</th>\n",
              "      <th>rus</th>\n",
              "    </tr>\n",
              "  </thead>\n",
              "  <tbody>\n",
              "    <tr>\n",
              "      <th>13</th>\n",
              "      <td>recnFsFSoE1DCjYqt</td>\n",
              "      <td>Etat général</td>\n",
              "      <td>Poids</td>\n",
              "      <td>nm</td>\n",
              "      <td>Vaccination</td>\n",
              "      <td>Votre poids a-t-il augmenté ?</td>\n",
              "      <td>NaN</td>\n",
              "      <td>Вес</td>\n",
              "    </tr>\n",
              "    <tr>\n",
              "      <th>13</th>\n",
              "      <td>recnFsFSoE1DCjYqt</td>\n",
              "      <td>Etat général</td>\n",
              "      <td>Poids</td>\n",
              "      <td>nm</td>\n",
              "      <td>Vaccination</td>\n",
              "      <td>Votre poids a-t-il baissé ?</td>\n",
              "      <td>NaN</td>\n",
              "      <td>Вес</td>\n",
              "    </tr>\n",
              "    <tr>\n",
              "      <th>13</th>\n",
              "      <td>recnFsFSoE1DCjYqt</td>\n",
              "      <td>Etat général</td>\n",
              "      <td>Poids</td>\n",
              "      <td>nm</td>\n",
              "      <td>Vaccination</td>\n",
              "      <td>Votre poids est-il stable ?</td>\n",
              "      <td>NaN</td>\n",
              "      <td>Вес</td>\n",
              "    </tr>\n",
              "    <tr>\n",
              "      <th>13</th>\n",
              "      <td>recnFsFSoE1DCjYqt</td>\n",
              "      <td>Etat général</td>\n",
              "      <td>Poids</td>\n",
              "      <td>nm</td>\n",
              "      <td>Vaccination</td>\n",
              "      <td>Quel est votre poids ?</td>\n",
              "      <td>NaN</td>\n",
              "      <td>Вес</td>\n",
              "    </tr>\n",
              "    <tr>\n",
              "      <th>16</th>\n",
              "      <td>recPd4zs5SiIqkQXA</td>\n",
              "      <td>Etat général</td>\n",
              "      <td>Taille</td>\n",
              "      <td>nf</td>\n",
              "      <td>Vaccination</td>\n",
              "      <td>Quelle est votre taille ?</td>\n",
              "      <td>NaN</td>\n",
              "      <td>Рост</td>\n",
              "    </tr>\n",
              "  </tbody>\n",
              "</table>\n",
              "</div>\n",
              "      <button class=\"colab-df-convert\" onclick=\"convertToInteractive('df-364d098e-582a-4db9-b767-3a75f588f283')\"\n",
              "              title=\"Convert this dataframe to an interactive table.\"\n",
              "              style=\"display:none;\">\n",
              "        \n",
              "  <svg xmlns=\"http://www.w3.org/2000/svg\" height=\"24px\"viewBox=\"0 0 24 24\"\n",
              "       width=\"24px\">\n",
              "    <path d=\"M0 0h24v24H0V0z\" fill=\"none\"/>\n",
              "    <path d=\"M18.56 5.44l.94 2.06.94-2.06 2.06-.94-2.06-.94-.94-2.06-.94 2.06-2.06.94zm-11 1L8.5 8.5l.94-2.06 2.06-.94-2.06-.94L8.5 2.5l-.94 2.06-2.06.94zm10 10l.94 2.06.94-2.06 2.06-.94-2.06-.94-.94-2.06-.94 2.06-2.06.94z\"/><path d=\"M17.41 7.96l-1.37-1.37c-.4-.4-.92-.59-1.43-.59-.52 0-1.04.2-1.43.59L10.3 9.45l-7.72 7.72c-.78.78-.78 2.05 0 2.83L4 21.41c.39.39.9.59 1.41.59.51 0 1.02-.2 1.41-.59l7.78-7.78 2.81-2.81c.8-.78.8-2.07 0-2.86zM5.41 20L4 18.59l7.72-7.72 1.47 1.35L5.41 20z\"/>\n",
              "  </svg>\n",
              "      </button>\n",
              "      \n",
              "  <style>\n",
              "    .colab-df-container {\n",
              "      display:flex;\n",
              "      flex-wrap:wrap;\n",
              "      gap: 12px;\n",
              "    }\n",
              "\n",
              "    .colab-df-convert {\n",
              "      background-color: #E8F0FE;\n",
              "      border: none;\n",
              "      border-radius: 50%;\n",
              "      cursor: pointer;\n",
              "      display: none;\n",
              "      fill: #1967D2;\n",
              "      height: 32px;\n",
              "      padding: 0 0 0 0;\n",
              "      width: 32px;\n",
              "    }\n",
              "\n",
              "    .colab-df-convert:hover {\n",
              "      background-color: #E2EBFA;\n",
              "      box-shadow: 0px 1px 2px rgba(60, 64, 67, 0.3), 0px 1px 3px 1px rgba(60, 64, 67, 0.15);\n",
              "      fill: #174EA6;\n",
              "    }\n",
              "\n",
              "    [theme=dark] .colab-df-convert {\n",
              "      background-color: #3B4455;\n",
              "      fill: #D2E3FC;\n",
              "    }\n",
              "\n",
              "    [theme=dark] .colab-df-convert:hover {\n",
              "      background-color: #434B5C;\n",
              "      box-shadow: 0px 1px 3px 1px rgba(0, 0, 0, 0.15);\n",
              "      filter: drop-shadow(0px 1px 2px rgba(0, 0, 0, 0.3));\n",
              "      fill: #FFFFFF;\n",
              "    }\n",
              "  </style>\n",
              "\n",
              "      <script>\n",
              "        const buttonEl =\n",
              "          document.querySelector('#df-364d098e-582a-4db9-b767-3a75f588f283 button.colab-df-convert');\n",
              "        buttonEl.style.display =\n",
              "          google.colab.kernel.accessAllowed ? 'block' : 'none';\n",
              "\n",
              "        async function convertToInteractive(key) {\n",
              "          const element = document.querySelector('#df-364d098e-582a-4db9-b767-3a75f588f283');\n",
              "          const dataTable =\n",
              "            await google.colab.kernel.invokeFunction('convertToInteractive',\n",
              "                                                     [key], {});\n",
              "          if (!dataTable) return;\n",
              "\n",
              "          const docLinkHtml = 'Like what you see? Visit the ' +\n",
              "            '<a target=\"_blank\" href=https://colab.research.google.com/notebooks/data_table.ipynb>data table notebook</a>'\n",
              "            + ' to learn more about interactive tables.';\n",
              "          element.innerHTML = '';\n",
              "          dataTable['output_type'] = 'display_data';\n",
              "          await google.colab.output.renderOutput(dataTable, element);\n",
              "          const docLink = document.createElement('div');\n",
              "          docLink.innerHTML = docLinkHtml;\n",
              "          element.appendChild(docLink);\n",
              "        }\n",
              "      </script>\n",
              "    </div>\n",
              "  </div>\n",
              "  "
            ],
            "text/plain": [
              "               Corpus      Rubrique  ... Expression   rus\n",
              "13  recnFsFSoE1DCjYqt  Etat général  ...        NaN   Вес\n",
              "13  recnFsFSoE1DCjYqt  Etat général  ...        NaN   Вес\n",
              "13  recnFsFSoE1DCjYqt  Etat général  ...        NaN   Вес\n",
              "13  recnFsFSoE1DCjYqt  Etat général  ...        NaN   Вес\n",
              "16  recPd4zs5SiIqkQXA  Etat général  ...        NaN  Рост\n",
              "\n",
              "[5 rows x 8 columns]"
            ]
          },
          "metadata": {},
          "execution_count": 63
        }
      ]
    },
    {
      "cell_type": "code",
      "source": [
        "df_vk_corpus.loc[df_vk_corpus[\"Name ID\"]==\"recNQqTXnpEEJAQm6\"][\"Proposition\"].values.item()"
      ],
      "metadata": {
        "colab": {
          "base_uri": "https://localhost:8080/",
          "height": 35
        },
        "id": "1HvuH0HNO6l-",
        "outputId": "b4d95f27-994e-4202-9742-bc9adc9e271c"
      },
      "execution_count": 53,
      "outputs": [
        {
          "output_type": "execute_result",
          "data": {
            "application/vnd.google.colaboratory.intrinsic+json": {
              "type": "string"
            },
            "text/plain": [
              "'Quelle est votre taille\\u202f?'"
            ]
          },
          "metadata": {},
          "execution_count": 53
        }
      ]
    },
    {
      "cell_type": "code",
      "source": [
        ""
      ],
      "metadata": {
        "colab": {
          "base_uri": "https://localhost:8080/"
        },
        "id": "hcn-GktVOOO5",
        "outputId": "a5a54696-54b9-40f0-8383-ffbdc15da76f"
      },
      "execution_count": 58,
      "outputs": [
        {
          "output_type": "stream",
          "name": "stdout",
          "text": [
            "recXflm2lWveR6neX\n",
            "recJ31CEHNRSc4H6m\n",
            "rec3KIsjsQ4hN4yj3\n",
            "recsRiPxYQHWzQ55y\n",
            "recG6Td4yr6cOrYXL\n",
            "recDIZedc9PyD4aY4\n",
            "recY3xPGlPI4PuVjE\n",
            "receaQEuvP4z54rkk\n",
            "recpJHzSrc1ertCTr\n",
            "recuyWKo1a0ujlY7U\n",
            "recnEzvTeb7iJiZYH\n",
            "recNQqTXnpEEJAQm6\n",
            "recyhlDdiBICVS3zs\n"
          ]
        }
      ]
    },
    {
      "cell_type": "markdown",
      "source": [
        "END"
      ],
      "metadata": {
        "id": "IBGXlI5dMWuV"
      }
    },
    {
      "cell_type": "markdown",
      "source": [
        "Recherche des UID manquants dans Airtable"
      ],
      "metadata": {
        "id": "U-7k2nzJUsid"
      }
    },
    {
      "cell_type": "code",
      "source": [
        "def airtable_get_missing_uids(df):\n",
        "  return df.loc[pd.isna(df[\"UID\"])]\n"
      ],
      "metadata": {
        "id": "Gtod6pghUwQi"
      },
      "execution_count": null,
      "outputs": []
    },
    {
      "cell_type": "markdown",
      "source": [
        "Recherche dans Airtable par Séquence"
      ],
      "metadata": {
        "id": "5SKRdfNJVJsK"
      }
    },
    {
      "cell_type": "code",
      "source": [
        "def airtable_get_records_by_sequence(df, sequence):\n",
        "  return df.loc[df[\"Séquence\"]==sequence]\n"
      ],
      "metadata": {
        "id": "vSn5dpoYVi4M"
      },
      "execution_count": null,
      "outputs": []
    },
    {
      "cell_type": "code",
      "source": [
        "df_vkat.loc[df_vkat[\"Séquence\"]==\"1. Présentation + antécédents\"]"
      ],
      "metadata": {
        "id": "fcJHEddUWLWs"
      },
      "execution_count": null,
      "outputs": []
    },
    {
      "cell_type": "code",
      "source": [
        "airtable_get_missing_uids(df_vkat)"
      ],
      "metadata": {
        "id": "57wH5iFxREtI"
      },
      "execution_count": null,
      "outputs": []
    },
    {
      "cell_type": "markdown",
      "source": [
        "Rceherche des termes présents dans Central, présents dans AIRTBL mais sans UID"
      ],
      "metadata": {
        "id": "fXlfUrfdYIbI"
      }
    },
    {
      "cell_type": "code",
      "source": [
        "df_cc_fr"
      ],
      "metadata": {
        "id": "5WsaDLG6XyfL"
      },
      "execution_count": null,
      "outputs": []
    },
    {
      "cell_type": "code",
      "source": [
        "vk_at_trad = airtable.get_all(view='Traductions',sort='Proposition')\n",
        "df_vk_at_trad = pd.DataFrame.from_records((r['fields'] for r in vk_at_trad))\n",
        "df_vk_at_trad = df_vk_at_trad[[\"Proposition\",\"idx_cor\",\"UID\"]]\n",
        "df_vk_at_trad_notna = df_vk_at_trad.loc[pd.notna(df_vk_at_trad[\"UID\"])]\n",
        "df_vk_at_trad_na = df_vk_at_trad.loc[pd.isna(df_vk_at_trad[\"UID\"])]"
      ],
      "metadata": {
        "id": "K3gKCepieMIQ"
      },
      "execution_count": null,
      "outputs": []
    },
    {
      "cell_type": "markdown",
      "source": [
        "### merge côté AT : avec les UID présents "
      ],
      "metadata": {
        "id": "INb1Du8CtbBR"
      }
    },
    {
      "cell_type": "code",
      "source": [
        "df_merged = pd.merge(df_cc_global, df_vk_at_trad_notna, how=\"right\", left_on='uid', right_on='UID')"
      ],
      "metadata": {
        "id": "WmQoZ0pvgZtQ"
      },
      "execution_count": null,
      "outputs": []
    },
    {
      "cell_type": "markdown",
      "source": [
        "## On complète avec les traductions"
      ],
      "metadata": {
        "id": "ldztSIEztkja"
      }
    },
    {
      "cell_type": "code",
      "source": [
        "for index, row in df_merged.iterrows():\n",
        "  if row[\"uid\"] is not None:\n",
        "    record = airtable.match('UID', row[\"uid\"])\n",
        "    aDict = {}\n",
        "    for i in vk_languages:\n",
        "      key = i[\"trigramme\"]\n",
        "      aDict[key] = row[key]\n",
        "      #print (record['id'] +\" \" + row[\"eng\"])\n",
        "    airtable.update(record['id'], aDict)\n"
      ],
      "metadata": {
        "id": "--ive2GSiBtb"
      },
      "execution_count": null,
      "outputs": []
    },
    {
      "cell_type": "markdown",
      "source": [
        "## On complète avec les UID manquants"
      ],
      "metadata": {
        "id": "TDC5UPAZtj7e"
      }
    },
    {
      "cell_type": "code",
      "source": [
        "df_vk_at_trad_na"
      ],
      "metadata": {
        "id": "AcFNN2eIuIog"
      },
      "execution_count": null,
      "outputs": []
    },
    {
      "cell_type": "code",
      "source": [
        "df_merged = pd.merge(df_cc_global, df_vk_at_trad_na, how=\"right\", left_on='expression', right_on='Proposition')"
      ],
      "metadata": {
        "id": "8t7rvIBUtvJu"
      },
      "execution_count": null,
      "outputs": []
    },
    {
      "cell_type": "code",
      "source": [
        "df_merged = df_merged.loc[pd.notna(df_merged[\"uid\"])]"
      ],
      "metadata": {
        "id": "6ahCm4WCufpQ"
      },
      "execution_count": null,
      "outputs": []
    },
    {
      "cell_type": "code",
      "source": [
        "for index, row in df_merged.iterrows():\n",
        "  if row[\"uid\"] is not None:\n",
        "    record = airtable.match('Proposition', row[\"expression\"])\n",
        "    aDict = {}\n",
        "    key = \"UID\"\n",
        "    aDict[key] = row[\"uid\"]\n",
        "    for i in vk_languages:\n",
        "      key = i[\"trigramme\"]\n",
        "      aDict[key] = row[key]\n",
        "      #print (record['id'] +\" \" + row[\"eng\"])\n",
        "    airtable.update(record['id'], aDict)"
      ],
      "metadata": {
        "id": "cOtC1mTRvf4b"
      },
      "execution_count": null,
      "outputs": []
    },
    {
      "cell_type": "markdown",
      "source": [
        "## On vide toute la base AT dans Central Consolidation"
      ],
      "metadata": {
        "id": "DS-bEnO8wWdd"
      }
    },
    {
      "cell_type": "code",
      "source": [
        "vk_at = airtable.get_all(view='Admin',sort='Proposition')\n",
        "df_vkat = pd.DataFrame.from_records((r['fields'] for r in vk_at))"
      ],
      "metadata": {
        "id": "E0Ohsqdnyic-"
      },
      "execution_count": null,
      "outputs": []
    },
    {
      "cell_type": "code",
      "source": [
        "# Corpus_consolidation\n",
        "uri = \"https://docs.google.com/spreadsheets/d/1cSnSnnQunL-I7hpyYkIqbtuGr55unVJ3Qe8URSrjTr8/edit?usp=sharing\"\n",
        "\n",
        "wb = get_CCDB_wb(uri)\n",
        "db_cc = get_CCDB_data (wb, 0)\n",
        "\n",
        "nom_onglet = 'Termes'\n",
        "# si l'onglet existe déjà\n",
        "try:\n",
        "  ws = wb.worksheet(nom_onglet)\n",
        "  wb.del_worksheet(ws)\n",
        "except:\n",
        "  print (\"Onglet inexistant !\")\n",
        "\n",
        "wb.add_worksheet(nom_onglet, 1, 1)\n",
        "export_sheet = wb.worksheet(nom_onglet)\n",
        "set_with_dataframe(export_sheet, df_vkat)\n",
        "\n"
      ],
      "metadata": {
        "id": "jwPPFWmSxrsj"
      },
      "execution_count": null,
      "outputs": []
    },
    {
      "cell_type": "markdown",
      "source": [
        "END"
      ],
      "metadata": {
        "id": "GrpHI9nesnIY"
      }
    },
    {
      "cell_type": "code",
      "source": [
        "record = airtable.match('UID', '30579682')\n",
        "fields = {'eng': 'Accident'}\n",
        "airtable.update(record['id'], fields)"
      ],
      "metadata": {
        "colab": {
          "base_uri": "https://localhost:8080/"
        },
        "id": "i4bxE6U-dJLn",
        "outputId": "2d304bb3-bd16-4af0-e266-ea21e647b4bf"
      },
      "execution_count": null,
      "outputs": [
        {
          "output_type": "execute_result",
          "data": {
            "text/plain": [
              "{'createdTime': '2021-12-10T08:47:48.000Z',\n",
              " 'fields': {'CATEGRAM': ['nm'],\n",
              "  'Name ID': 'recGaRQGjV5qN3QBN',\n",
              "  'Proposition': 'Accident',\n",
              "  'TYPE': 'vocabulaire',\n",
              "  'Thématique': 'Vaccination',\n",
              "  'UID': '30579682',\n",
              "  'VOCABULAIRE': 'Général',\n",
              "  'eng': 'Accident',\n",
              "  'idx': 'A',\n",
              "  'idx_cor': 'A'},\n",
              " 'id': 'recGaRQGjV5qN3QBN'}"
            ]
          },
          "metadata": {},
          "execution_count": 39
        }
      ]
    },
    {
      "cell_type": "code",
      "source": [
        "record"
      ],
      "metadata": {
        "colab": {
          "base_uri": "https://localhost:8080/"
        },
        "id": "FVhleF-qdP8m",
        "outputId": "6842713c-df5e-40c3-d9ac-94d4b4bb4b4c"
      },
      "execution_count": null,
      "outputs": [
        {
          "output_type": "execute_result",
          "data": {
            "text/plain": [
              "{'createdTime': '2021-12-10T08:47:48.000Z',\n",
              " 'fields': {'CATEGRAM': ['nm'],\n",
              "  'Name ID': 'recGaRQGjV5qN3QBN',\n",
              "  'Proposition': 'Accident',\n",
              "  'TYPE': 'vocabulaire',\n",
              "  'Thématique': 'Vaccination',\n",
              "  'UID': '30579682',\n",
              "  'VOCABULAIRE': 'Général',\n",
              "  'idx': 'A',\n",
              "  'idx_cor': 'A'},\n",
              " 'id': 'recGaRQGjV5qN3QBN'}"
            ]
          },
          "metadata": {},
          "execution_count": 33
        }
      ]
    },
    {
      "cell_type": "code",
      "metadata": {
        "id": "9yIqVmuF5sLc"
      },
      "source": [
        "def airtable_table_get(uri, params, headers):\n",
        "  airtable_records = []\n",
        "  run = True\n",
        "  while run is True:\n",
        "    response = requests.get(uri, params=params, headers=headers)\n",
        "    airtable_response = response.json()\n",
        "    airtable_records += (airtable_response['records'])\n",
        "    if 'offset' in airtable_response:\n",
        "      run = True\n",
        "      params = (('offset', airtable_response['offset']),)\n",
        "    else:\n",
        "      run = False\n",
        "  return airtable_records"
      ],
      "execution_count": null,
      "outputs": []
    },
    {
      "cell_type": "markdown",
      "metadata": {
        "id": "Td15VBcoLa2f"
      },
      "source": [
        "# Table Corpus"
      ]
    },
    {
      "cell_type": "code",
      "metadata": {
        "id": "7Vt-ZR-AJlzP"
      },
      "source": [
        "\n",
        "url = \"https://api.airtable.com/v0/\" + base_id + \"/\" + table_name\n"
      ],
      "execution_count": null,
      "outputs": []
    },
    {
      "cell_type": "markdown",
      "metadata": {
        "id": "ViCvTpxuBHoz"
      },
      "source": [
        "### On lit tous les enregistrements, puis on met dans un dataframe"
      ]
    },
    {
      "cell_type": "code",
      "metadata": {
        "id": "l8xZ5LY6MLFl"
      },
      "source": [
        "airtable_records = airtable_table_get(url, params, headers)\n",
        "\n",
        "airtable_rows = [] \n",
        "airtable_index = []\n",
        "for record in airtable_records:\n",
        "  airtable_rows.append(record['fields'])\n",
        "  airtable_index.append(record['id'])\n",
        "df = pd.DataFrame(airtable_rows, index=airtable_index)\n",
        "df = df [['Proposition','UID', 'Name ID', 'DEPENDANCE', 'idx', 'idx_cor','Statut','Thématique']]\n",
        "df.sort_values(by=['Proposition'], ascending=True, inplace=True)"
      ],
      "execution_count": null,
      "outputs": []
    },
    {
      "cell_type": "code",
      "source": [
        "df.head(10)"
      ],
      "metadata": {
        "colab": {
          "base_uri": "https://localhost:8080/",
          "height": 363
        },
        "id": "6mXBIWjy1qNA",
        "outputId": "157f2898-0e0d-48e6-ec4a-7aa85789b3c5"
      },
      "execution_count": null,
      "outputs": [
        {
          "output_type": "execute_result",
          "data": {
            "text/html": [
              "\n",
              "  <div id=\"df-22447ca0-0f23-457d-8f2b-09b219e4cba2\">\n",
              "    <div class=\"colab-df-container\">\n",
              "      <div>\n",
              "<style scoped>\n",
              "    .dataframe tbody tr th:only-of-type {\n",
              "        vertical-align: middle;\n",
              "    }\n",
              "\n",
              "    .dataframe tbody tr th {\n",
              "        vertical-align: top;\n",
              "    }\n",
              "\n",
              "    .dataframe thead th {\n",
              "        text-align: right;\n",
              "    }\n",
              "</style>\n",
              "<table border=\"1\" class=\"dataframe\">\n",
              "  <thead>\n",
              "    <tr style=\"text-align: right;\">\n",
              "      <th></th>\n",
              "      <th>Proposition</th>\n",
              "      <th>UID</th>\n",
              "      <th>Name ID</th>\n",
              "      <th>DEPENDANCE</th>\n",
              "      <th>idx</th>\n",
              "      <th>idx_cor</th>\n",
              "      <th>Statut</th>\n",
              "      <th>Thématique</th>\n",
              "    </tr>\n",
              "  </thead>\n",
              "  <tbody>\n",
              "    <tr>\n",
              "      <th>recKbPHqDTXNPwYK0</th>\n",
              "      <td>A jeun</td>\n",
              "      <td>f397cda1</td>\n",
              "      <td>recKbPHqDTXNPwYK0</td>\n",
              "      <td>NaN</td>\n",
              "      <td>J</td>\n",
              "      <td>J</td>\n",
              "      <td>NaN</td>\n",
              "      <td>Vaccination</td>\n",
              "    </tr>\n",
              "    <tr>\n",
              "      <th>rec1qTnfWxjhx6SBl</th>\n",
              "      <td>AME - Aide médicale d'État</td>\n",
              "      <td>f49563a9</td>\n",
              "      <td>rec1qTnfWxjhx6SBl</td>\n",
              "      <td>NaN</td>\n",
              "      <td>A</td>\n",
              "      <td>A</td>\n",
              "      <td>NaN</td>\n",
              "      <td>Vaccination</td>\n",
              "    </tr>\n",
              "    <tr>\n",
              "      <th>rec0HgtD22F7TWM3W</th>\n",
              "      <td>Abcès</td>\n",
              "      <td>6e65dde7</td>\n",
              "      <td>rec0HgtD22F7TWM3W</td>\n",
              "      <td>NaN</td>\n",
              "      <td>A</td>\n",
              "      <td>A</td>\n",
              "      <td>NaN</td>\n",
              "      <td>Médecine générale</td>\n",
              "    </tr>\n",
              "    <tr>\n",
              "      <th>recGaRQGjV5qN3QBN</th>\n",
              "      <td>Accident</td>\n",
              "      <td>30579682</td>\n",
              "      <td>recGaRQGjV5qN3QBN</td>\n",
              "      <td>NaN</td>\n",
              "      <td>A</td>\n",
              "      <td>A</td>\n",
              "      <td>NaN</td>\n",
              "      <td>Vaccination</td>\n",
              "    </tr>\n",
              "    <tr>\n",
              "      <th>rec3MxDq67MC982ng</th>\n",
              "      <td>Accident cérébral</td>\n",
              "      <td>6f214e4c</td>\n",
              "      <td>rec3MxDq67MC982ng</td>\n",
              "      <td>[recGaRQGjV5qN3QBN]</td>\n",
              "      <td>A</td>\n",
              "      <td>A</td>\n",
              "      <td>NaN</td>\n",
              "      <td>Vaccination</td>\n",
              "    </tr>\n",
              "    <tr>\n",
              "      <th>reciexfGbNKvXzQg8</th>\n",
              "      <td>Alcool</td>\n",
              "      <td>NaN</td>\n",
              "      <td>reciexfGbNKvXzQg8</td>\n",
              "      <td>NaN</td>\n",
              "      <td>A</td>\n",
              "      <td>A</td>\n",
              "      <td>NaN</td>\n",
              "      <td>Médecine générale</td>\n",
              "    </tr>\n",
              "    <tr>\n",
              "      <th>recfY4uKkgK8Jp8GO</th>\n",
              "      <td>Allergie</td>\n",
              "      <td>8b195cf4</td>\n",
              "      <td>recfY4uKkgK8Jp8GO</td>\n",
              "      <td>NaN</td>\n",
              "      <td>A</td>\n",
              "      <td>A</td>\n",
              "      <td>NaN</td>\n",
              "      <td>Vaccination</td>\n",
              "    </tr>\n",
              "    <tr>\n",
              "      <th>recSKSrXVLhDfMq6w</th>\n",
              "      <td>Allergie alimentaire</td>\n",
              "      <td>f754eebf</td>\n",
              "      <td>recSKSrXVLhDfMq6w</td>\n",
              "      <td>[recfY4uKkgK8Jp8GO]</td>\n",
              "      <td>A</td>\n",
              "      <td>A</td>\n",
              "      <td>NaN</td>\n",
              "      <td>Vaccination</td>\n",
              "    </tr>\n",
              "    <tr>\n",
              "      <th>rectthHdPchXi1zr9</th>\n",
              "      <td>Allergie médicamenteuse</td>\n",
              "      <td>7256c169</td>\n",
              "      <td>rectthHdPchXi1zr9</td>\n",
              "      <td>[recfY4uKkgK8Jp8GO, recOivQOmeragygVr]</td>\n",
              "      <td>A</td>\n",
              "      <td>A</td>\n",
              "      <td>NaN</td>\n",
              "      <td>Vaccination</td>\n",
              "    </tr>\n",
              "    <tr>\n",
              "      <th>recHNzXfvWWm0Lwp8</th>\n",
              "      <td>Allergie à un médicament</td>\n",
              "      <td>316fa7ab</td>\n",
              "      <td>recHNzXfvWWm0Lwp8</td>\n",
              "      <td>[recfY4uKkgK8Jp8GO, recOivQOmeragygVr]</td>\n",
              "      <td>A</td>\n",
              "      <td>A</td>\n",
              "      <td>NaN</td>\n",
              "      <td>Vaccination</td>\n",
              "    </tr>\n",
              "  </tbody>\n",
              "</table>\n",
              "</div>\n",
              "      <button class=\"colab-df-convert\" onclick=\"convertToInteractive('df-22447ca0-0f23-457d-8f2b-09b219e4cba2')\"\n",
              "              title=\"Convert this dataframe to an interactive table.\"\n",
              "              style=\"display:none;\">\n",
              "        \n",
              "  <svg xmlns=\"http://www.w3.org/2000/svg\" height=\"24px\"viewBox=\"0 0 24 24\"\n",
              "       width=\"24px\">\n",
              "    <path d=\"M0 0h24v24H0V0z\" fill=\"none\"/>\n",
              "    <path d=\"M18.56 5.44l.94 2.06.94-2.06 2.06-.94-2.06-.94-.94-2.06-.94 2.06-2.06.94zm-11 1L8.5 8.5l.94-2.06 2.06-.94-2.06-.94L8.5 2.5l-.94 2.06-2.06.94zm10 10l.94 2.06.94-2.06 2.06-.94-2.06-.94-.94-2.06-.94 2.06-2.06.94z\"/><path d=\"M17.41 7.96l-1.37-1.37c-.4-.4-.92-.59-1.43-.59-.52 0-1.04.2-1.43.59L10.3 9.45l-7.72 7.72c-.78.78-.78 2.05 0 2.83L4 21.41c.39.39.9.59 1.41.59.51 0 1.02-.2 1.41-.59l7.78-7.78 2.81-2.81c.8-.78.8-2.07 0-2.86zM5.41 20L4 18.59l7.72-7.72 1.47 1.35L5.41 20z\"/>\n",
              "  </svg>\n",
              "      </button>\n",
              "      \n",
              "  <style>\n",
              "    .colab-df-container {\n",
              "      display:flex;\n",
              "      flex-wrap:wrap;\n",
              "      gap: 12px;\n",
              "    }\n",
              "\n",
              "    .colab-df-convert {\n",
              "      background-color: #E8F0FE;\n",
              "      border: none;\n",
              "      border-radius: 50%;\n",
              "      cursor: pointer;\n",
              "      display: none;\n",
              "      fill: #1967D2;\n",
              "      height: 32px;\n",
              "      padding: 0 0 0 0;\n",
              "      width: 32px;\n",
              "    }\n",
              "\n",
              "    .colab-df-convert:hover {\n",
              "      background-color: #E2EBFA;\n",
              "      box-shadow: 0px 1px 2px rgba(60, 64, 67, 0.3), 0px 1px 3px 1px rgba(60, 64, 67, 0.15);\n",
              "      fill: #174EA6;\n",
              "    }\n",
              "\n",
              "    [theme=dark] .colab-df-convert {\n",
              "      background-color: #3B4455;\n",
              "      fill: #D2E3FC;\n",
              "    }\n",
              "\n",
              "    [theme=dark] .colab-df-convert:hover {\n",
              "      background-color: #434B5C;\n",
              "      box-shadow: 0px 1px 3px 1px rgba(0, 0, 0, 0.15);\n",
              "      filter: drop-shadow(0px 1px 2px rgba(0, 0, 0, 0.3));\n",
              "      fill: #FFFFFF;\n",
              "    }\n",
              "  </style>\n",
              "\n",
              "      <script>\n",
              "        const buttonEl =\n",
              "          document.querySelector('#df-22447ca0-0f23-457d-8f2b-09b219e4cba2 button.colab-df-convert');\n",
              "        buttonEl.style.display =\n",
              "          google.colab.kernel.accessAllowed ? 'block' : 'none';\n",
              "\n",
              "        async function convertToInteractive(key) {\n",
              "          const element = document.querySelector('#df-22447ca0-0f23-457d-8f2b-09b219e4cba2');\n",
              "          const dataTable =\n",
              "            await google.colab.kernel.invokeFunction('convertToInteractive',\n",
              "                                                     [key], {});\n",
              "          if (!dataTable) return;\n",
              "\n",
              "          const docLinkHtml = 'Like what you see? Visit the ' +\n",
              "            '<a target=\"_blank\" href=https://colab.research.google.com/notebooks/data_table.ipynb>data table notebook</a>'\n",
              "            + ' to learn more about interactive tables.';\n",
              "          element.innerHTML = '';\n",
              "          dataTable['output_type'] = 'display_data';\n",
              "          await google.colab.output.renderOutput(dataTable, element);\n",
              "          const docLink = document.createElement('div');\n",
              "          docLink.innerHTML = docLinkHtml;\n",
              "          element.appendChild(docLink);\n",
              "        }\n",
              "      </script>\n",
              "    </div>\n",
              "  </div>\n",
              "  "
            ],
            "text/plain": [
              "                                  Proposition  ...         Thématique\n",
              "recKbPHqDTXNPwYK0                      A jeun  ...        Vaccination\n",
              "rec1qTnfWxjhx6SBl  AME - Aide médicale d'État  ...        Vaccination\n",
              "rec0HgtD22F7TWM3W                       Abcès  ...  Médecine générale\n",
              "recGaRQGjV5qN3QBN                    Accident  ...        Vaccination\n",
              "rec3MxDq67MC982ng           Accident cérébral  ...        Vaccination\n",
              "reciexfGbNKvXzQg8                      Alcool  ...  Médecine générale\n",
              "recfY4uKkgK8Jp8GO                    Allergie  ...        Vaccination\n",
              "recSKSrXVLhDfMq6w        Allergie alimentaire  ...        Vaccination\n",
              "rectthHdPchXi1zr9     Allergie médicamenteuse  ...        Vaccination\n",
              "recHNzXfvWWm0Lwp8    Allergie à un médicament  ...        Vaccination\n",
              "\n",
              "[10 rows x 8 columns]"
            ]
          },
          "metadata": {},
          "execution_count": 53
        }
      ]
    },
    {
      "cell_type": "code",
      "source": [
        "def make_unique_id():\n",
        "  return str(uuid.uuid4())[:8]"
      ],
      "metadata": {
        "id": "sfN2zOKd0DPr"
      },
      "execution_count": null,
      "outputs": []
    },
    {
      "cell_type": "code",
      "source": [
        "def lookup_uid (uid):\n",
        "  try:\n",
        "    record = df_cc_fr.loc[df_cc_fr[\"uid\"]==uid][\"index\"].item()\n",
        "  except Exception as e:\n",
        "    list_no_uid.append(uid)\n",
        "    return uid\n",
        "  if record is not None:\n",
        "    return record"
      ],
      "metadata": {
        "id": "BxowEm56s5S7"
      },
      "execution_count": null,
      "outputs": []
    },
    {
      "cell_type": "code",
      "source": [
        "x = df_cc_fr.loc[df_cc_fr[\"uid\"]==\"72f0e8db\"][\"index\"].item()"
      ],
      "metadata": {
        "id": "Up-l6grOtVx0"
      },
      "execution_count": null,
      "outputs": []
    },
    {
      "cell_type": "code",
      "source": [
        "list_no_uid = [] # uid non présents côté central = mots à créer\n",
        "df['UID'] = df['UID'].apply(lambda x: make_unique_id() if pd.isna(x) else x)\n",
        "df.idx_cor = df['UID'].apply(lambda x: lookup_uid(x))"
      ],
      "metadata": {
        "id": "ezaiOPYlx9Mg"
      },
      "execution_count": null,
      "outputs": []
    },
    {
      "cell_type": "markdown",
      "source": [
        "convert the dataframe to a dictionary of dictionaries."
      ],
      "metadata": {
        "id": "ki6AHtiKT7L6"
      }
    },
    {
      "cell_type": "code",
      "source": [
        "df.tail()"
      ],
      "metadata": {
        "colab": {
          "base_uri": "https://localhost:8080/",
          "height": 206
        },
        "id": "Np075CkxXZNq",
        "outputId": "74f61a36-bead-4913-e5d2-1fd294c90fe7"
      },
      "execution_count": null,
      "outputs": [
        {
          "output_type": "execute_result",
          "data": {
            "text/html": [
              "\n",
              "  <div id=\"df-c6325ba4-794c-4b44-8943-a1e2fcc92c87\">\n",
              "    <div class=\"colab-df-container\">\n",
              "      <div>\n",
              "<style scoped>\n",
              "    .dataframe tbody tr th:only-of-type {\n",
              "        vertical-align: middle;\n",
              "    }\n",
              "\n",
              "    .dataframe tbody tr th {\n",
              "        vertical-align: top;\n",
              "    }\n",
              "\n",
              "    .dataframe thead th {\n",
              "        text-align: right;\n",
              "    }\n",
              "</style>\n",
              "<table border=\"1\" class=\"dataframe\">\n",
              "  <thead>\n",
              "    <tr style=\"text-align: right;\">\n",
              "      <th></th>\n",
              "      <th>Proposition</th>\n",
              "      <th>UID</th>\n",
              "      <th>Name ID</th>\n",
              "      <th>DEPENDANCE</th>\n",
              "      <th>idx</th>\n",
              "      <th>idx_cor</th>\n",
              "      <th>Statut</th>\n",
              "      <th>Thématique</th>\n",
              "    </tr>\n",
              "  </thead>\n",
              "  <tbody>\n",
              "    <tr>\n",
              "      <th>recia1L6nICYg6LJ8</th>\n",
              "      <td>Zona</td>\n",
              "      <td>d3dba8e4</td>\n",
              "      <td>recia1L6nICYg6LJ8</td>\n",
              "      <td>NaN</td>\n",
              "      <td>NaN</td>\n",
              "      <td>Z</td>\n",
              "      <td>NaN</td>\n",
              "      <td>Vaccination</td>\n",
              "    </tr>\n",
              "    <tr>\n",
              "      <th>recVvIHdNWf80zvsG</th>\n",
              "      <td>À quelle moment de la journée vous prenez le m...</td>\n",
              "      <td>0f86d1ef</td>\n",
              "      <td>recVvIHdNWf80zvsG</td>\n",
              "      <td>[recOivQOmeragygVr]</td>\n",
              "      <td>M</td>\n",
              "      <td>0f86d1ef</td>\n",
              "      <td>Ramona</td>\n",
              "      <td>Médecine générale</td>\n",
              "    </tr>\n",
              "    <tr>\n",
              "      <th>recWp0rajm2qKcJuF</th>\n",
              "      <td>Êtes vous vacciné (e) ?</td>\n",
              "      <td>c5df267a</td>\n",
              "      <td>recWp0rajm2qKcJuF</td>\n",
              "      <td>NaN</td>\n",
              "      <td>NaN</td>\n",
              "      <td>Ê</td>\n",
              "      <td>NaN</td>\n",
              "      <td>Médecine générale</td>\n",
              "    </tr>\n",
              "    <tr>\n",
              "      <th>recBY5NXGM8UtBcaX</th>\n",
              "      <td>Êtes-vous enceinte ?</td>\n",
              "      <td>7768882c</td>\n",
              "      <td>recBY5NXGM8UtBcaX</td>\n",
              "      <td>NaN</td>\n",
              "      <td>NaN</td>\n",
              "      <td>Ê</td>\n",
              "      <td>NaN</td>\n",
              "      <td>Médecine générale</td>\n",
              "    </tr>\n",
              "    <tr>\n",
              "      <th>reczy8Os5Hc3qZ1yA</th>\n",
              "      <td>Œdème</td>\n",
              "      <td>72f0e8db</td>\n",
              "      <td>reczy8Os5Hc3qZ1yA</td>\n",
              "      <td>NaN</td>\n",
              "      <td>NaN</td>\n",
              "      <td>Œ</td>\n",
              "      <td>NaN</td>\n",
              "      <td>Médecine générale</td>\n",
              "    </tr>\n",
              "  </tbody>\n",
              "</table>\n",
              "</div>\n",
              "      <button class=\"colab-df-convert\" onclick=\"convertToInteractive('df-c6325ba4-794c-4b44-8943-a1e2fcc92c87')\"\n",
              "              title=\"Convert this dataframe to an interactive table.\"\n",
              "              style=\"display:none;\">\n",
              "        \n",
              "  <svg xmlns=\"http://www.w3.org/2000/svg\" height=\"24px\"viewBox=\"0 0 24 24\"\n",
              "       width=\"24px\">\n",
              "    <path d=\"M0 0h24v24H0V0z\" fill=\"none\"/>\n",
              "    <path d=\"M18.56 5.44l.94 2.06.94-2.06 2.06-.94-2.06-.94-.94-2.06-.94 2.06-2.06.94zm-11 1L8.5 8.5l.94-2.06 2.06-.94-2.06-.94L8.5 2.5l-.94 2.06-2.06.94zm10 10l.94 2.06.94-2.06 2.06-.94-2.06-.94-.94-2.06-.94 2.06-2.06.94z\"/><path d=\"M17.41 7.96l-1.37-1.37c-.4-.4-.92-.59-1.43-.59-.52 0-1.04.2-1.43.59L10.3 9.45l-7.72 7.72c-.78.78-.78 2.05 0 2.83L4 21.41c.39.39.9.59 1.41.59.51 0 1.02-.2 1.41-.59l7.78-7.78 2.81-2.81c.8-.78.8-2.07 0-2.86zM5.41 20L4 18.59l7.72-7.72 1.47 1.35L5.41 20z\"/>\n",
              "  </svg>\n",
              "      </button>\n",
              "      \n",
              "  <style>\n",
              "    .colab-df-container {\n",
              "      display:flex;\n",
              "      flex-wrap:wrap;\n",
              "      gap: 12px;\n",
              "    }\n",
              "\n",
              "    .colab-df-convert {\n",
              "      background-color: #E8F0FE;\n",
              "      border: none;\n",
              "      border-radius: 50%;\n",
              "      cursor: pointer;\n",
              "      display: none;\n",
              "      fill: #1967D2;\n",
              "      height: 32px;\n",
              "      padding: 0 0 0 0;\n",
              "      width: 32px;\n",
              "    }\n",
              "\n",
              "    .colab-df-convert:hover {\n",
              "      background-color: #E2EBFA;\n",
              "      box-shadow: 0px 1px 2px rgba(60, 64, 67, 0.3), 0px 1px 3px 1px rgba(60, 64, 67, 0.15);\n",
              "      fill: #174EA6;\n",
              "    }\n",
              "\n",
              "    [theme=dark] .colab-df-convert {\n",
              "      background-color: #3B4455;\n",
              "      fill: #D2E3FC;\n",
              "    }\n",
              "\n",
              "    [theme=dark] .colab-df-convert:hover {\n",
              "      background-color: #434B5C;\n",
              "      box-shadow: 0px 1px 3px 1px rgba(0, 0, 0, 0.15);\n",
              "      filter: drop-shadow(0px 1px 2px rgba(0, 0, 0, 0.3));\n",
              "      fill: #FFFFFF;\n",
              "    }\n",
              "  </style>\n",
              "\n",
              "      <script>\n",
              "        const buttonEl =\n",
              "          document.querySelector('#df-c6325ba4-794c-4b44-8943-a1e2fcc92c87 button.colab-df-convert');\n",
              "        buttonEl.style.display =\n",
              "          google.colab.kernel.accessAllowed ? 'block' : 'none';\n",
              "\n",
              "        async function convertToInteractive(key) {\n",
              "          const element = document.querySelector('#df-c6325ba4-794c-4b44-8943-a1e2fcc92c87');\n",
              "          const dataTable =\n",
              "            await google.colab.kernel.invokeFunction('convertToInteractive',\n",
              "                                                     [key], {});\n",
              "          if (!dataTable) return;\n",
              "\n",
              "          const docLinkHtml = 'Like what you see? Visit the ' +\n",
              "            '<a target=\"_blank\" href=https://colab.research.google.com/notebooks/data_table.ipynb>data table notebook</a>'\n",
              "            + ' to learn more about interactive tables.';\n",
              "          element.innerHTML = '';\n",
              "          dataTable['output_type'] = 'display_data';\n",
              "          await google.colab.output.renderOutput(dataTable, element);\n",
              "          const docLink = document.createElement('div');\n",
              "          docLink.innerHTML = docLinkHtml;\n",
              "          element.appendChild(docLink);\n",
              "        }\n",
              "      </script>\n",
              "    </div>\n",
              "  </div>\n",
              "  "
            ],
            "text/plain": [
              "                                                         Proposition  ...         Thématique\n",
              "recia1L6nICYg6LJ8                                               Zona  ...        Vaccination\n",
              "recVvIHdNWf80zvsG  À quelle moment de la journée vous prenez le m...  ...  Médecine générale\n",
              "recWp0rajm2qKcJuF                            Êtes vous vacciné (e) ?  ...  Médecine générale\n",
              "recBY5NXGM8UtBcaX                               Êtes-vous enceinte ?  ...  Médecine générale\n",
              "reczy8Os5Hc3qZ1yA                                              Œdème  ...  Médecine générale\n",
              "\n",
              "[5 rows x 8 columns]"
            ]
          },
          "metadata": {},
          "execution_count": 29
        }
      ]
    },
    {
      "cell_type": "code",
      "source": [
        "dict_records = df.tail().to_dict(orient=\"index\")"
      ],
      "metadata": {
        "id": "oyRHDXzvTHjA"
      },
      "execution_count": null,
      "outputs": []
    },
    {
      "cell_type": "code",
      "source": [
        "for record_id, upload_data in dict_records.items():\n",
        "  record_url = url + \"/\" + record_id\n",
        "  upload_dict = {\"records\" : [{\"fields\" : upload_data}]}\n",
        "  upload_json = json.dumps(upload_dict)\n",
        "  requests.post(url, data=upload_json, headers=headers)"
      ],
      "metadata": {
        "id": "5XBfgW3PUrdN"
      },
      "execution_count": null,
      "outputs": []
    },
    {
      "cell_type": "code",
      "source": [
        "headers"
      ],
      "metadata": {
        "colab": {
          "base_uri": "https://localhost:8080/"
        },
        "id": "mbWEXLZUcxSM",
        "outputId": "326a70ec-87e8-456c-c5ff-50757bd4f8cd"
      },
      "execution_count": null,
      "outputs": [
        {
          "output_type": "execute_result",
          "data": {
            "text/plain": [
              "{'Authorization': 'Bearer keyrI98TIqu6mbFcf',\n",
              " 'Content-Type': 'application/json'}"
            ]
          },
          "metadata": {},
          "execution_count": 55
        }
      ]
    },
    {
      "cell_type": "code",
      "source": [
        "requests.patch(url, data=upload_json, headers=headers)"
      ],
      "metadata": {
        "colab": {
          "base_uri": "https://localhost:8080/"
        },
        "id": "o8n3oC8sXz_q",
        "outputId": "59ca8181-c67e-413c-9303-4a95a1bb0cb3"
      },
      "execution_count": null,
      "outputs": [
        {
          "output_type": "execute_result",
          "data": {
            "text/plain": [
              "<Response [422]>"
            ]
          },
          "metadata": {},
          "execution_count": 67
        }
      ]
    },
    {
      "cell_type": "code",
      "source": [
        "upload_json='{\"records\": [{\"fields\": {\"Proposition\": \"OEDEME\", \"id\": \"reczy8Os5Hc3qZ1yA\"}}]}'"
      ],
      "metadata": {
        "id": "4z1Tka3Het97"
      },
      "execution_count": null,
      "outputs": []
    },
    {
      "cell_type": "code",
      "source": [
        "requests.post(record_url, data=upload_json, headers=headers)"
      ],
      "metadata": {
        "colab": {
          "base_uri": "https://localhost:8080/"
        },
        "id": "kz8cAEx3WRM6",
        "outputId": "d7947213-1e29-4af2-ed81-713ad4be7262"
      },
      "execution_count": null,
      "outputs": [
        {
          "output_type": "execute_result",
          "data": {
            "text/plain": [
              "<Response [404]>"
            ]
          },
          "metadata": {},
          "execution_count": 69
        }
      ]
    },
    {
      "cell_type": "code",
      "metadata": {
        "id": "ZDtjJZDO-REI"
      },
      "source": [
        "def fmt_table(wb, nom_onglet):\n",
        "  # onglet\n",
        "  ws = wb.worksheet(nom_onglet)\n",
        "\n",
        "  # Format de la partie gauche\n",
        "  fmt = cellFormat(\n",
        "      backgroundColor=color(0.91, 0.96, 0.93),\n",
        "      textFormat=textFormat(bold=False, foregroundColor=color(0,0,0), fontSize='10'),\n",
        "      horizontalAlignment='LEFT'\n",
        "      )\n",
        "  format_cell_range(ws, 'A:', fmt)\n",
        "\n",
        "  # format de l'entete\n",
        "  fmt = cellFormat(\n",
        "      backgroundColor=color(0.7725,0.8431,0.7922),\n",
        "      textFormat=textFormat(bold=True, foregroundColor=color(0,0,0), fontSize='10'),\n",
        "      horizontalAlignment='LEFT'\n",
        "      )\n",
        "  format_cell_range(ws, '1', fmt)\n",
        "  \n",
        "  # format de l'auto wrap\n",
        "  fmt = cellFormat(\n",
        "      wrapStrategy='WRAP'\n",
        "      )\n",
        "  format_cell_range(ws, 'B:C', fmt)\n",
        "\n",
        "  # on gèle l'entete et les colonnes de gauche\n",
        "  set_frozen(ws, rows=1, cols=1)\n",
        "  set_column_width(ws, 'A:C', 500)\n"
      ],
      "execution_count": null,
      "outputs": []
    },
    {
      "cell_type": "code",
      "metadata": {
        "id": "CsC901Jt9y3L"
      },
      "source": [
        "nom_onglet = 'Liste'\n",
        "# si l'onglet existe déjà\n",
        "try:\n",
        "  ws = wb.worksheet(nom_onglet)\n",
        "  wb.del_worksheet(ws)\n",
        "except:\n",
        "  print (\"Onglet inexistant !\")\n",
        "\n",
        "wb.add_worksheet(nom_onglet, 1, 1)\n",
        "export_sheet = wb.worksheet(nom_onglet)\n",
        "set_with_dataframe(export_sheet, df)\n",
        "fmt_table(wb,nom_onglet)\n"
      ],
      "execution_count": null,
      "outputs": []
    },
    {
      "cell_type": "code",
      "metadata": {
        "id": "UKh-k1rvN46E"
      },
      "source": [
        "table_name = 'Structure'\n",
        "url = \"https://api.airtable.com/v0/\" + base_id + \"/\" + table_name"
      ],
      "execution_count": null,
      "outputs": []
    },
    {
      "cell_type": "code",
      "metadata": {
        "id": "TEUOFK-KVDV5",
        "colab": {
          "base_uri": "https://localhost:8080/",
          "height": 297
        },
        "outputId": "78664522-8f30-4092-f0c9-622ba77be86c"
      },
      "source": [
        "df"
      ],
      "execution_count": null,
      "outputs": [
        {
          "output_type": "execute_result",
          "data": {
            "text/html": [
              "<div>\n",
              "<style scoped>\n",
              "    .dataframe tbody tr th:only-of-type {\n",
              "        vertical-align: middle;\n",
              "    }\n",
              "\n",
              "    .dataframe tbody tr th {\n",
              "        vertical-align: top;\n",
              "    }\n",
              "\n",
              "    .dataframe thead th {\n",
              "        text-align: right;\n",
              "    }\n",
              "</style>\n",
              "<table border=\"1\" class=\"dataframe\">\n",
              "  <thead>\n",
              "    <tr style=\"text-align: right;\">\n",
              "      <th></th>\n",
              "      <th>Name</th>\n",
              "      <th>Situation de départ</th>\n",
              "      <th>Notes</th>\n",
              "    </tr>\n",
              "  </thead>\n",
              "  <tbody>\n",
              "    <tr>\n",
              "      <th>recnI80hvydv71fs4</th>\n",
              "      <td>0.Conception</td>\n",
              "      <td>Plus on possède, plus on est soi-même possédé....</td>\n",
              "      <td>Trouver le plaisir d’écrire. Partir d’idées, d...</td>\n",
              "    </tr>\n",
              "    <tr>\n",
              "      <th>recI2pgkNq2iP52rm</th>\n",
              "      <td>1.Situation initiale</td>\n",
              "      <td>Un jour d'été où il pleut et fait un temps abo...</td>\n",
              "      <td>Une vengeance d'une femme éconduite lors d'un ...</td>\n",
              "    </tr>\n",
              "    <tr>\n",
              "      <th>recb2DqhB9GvfI12n</th>\n",
              "      <td>2.Personnage</td>\n",
              "      <td>Un homme (marié ?) qui a donné rendez-vous à u...</td>\n",
              "      <td>Un Dom Juan sûr de son charme et imbu de sa pe...</td>\n",
              "    </tr>\n",
              "    <tr>\n",
              "      <th>recNLdU01JpCnvknJ</th>\n",
              "      <td>3.Acte déclencheur</td>\n",
              "      <td>La femme lui propose un jeu. Elle est dans le ...</td>\n",
              "      <td>NaN</td>\n",
              "    </tr>\n",
              "    <tr>\n",
              "      <th>recRxZVhpSPD6oQXx</th>\n",
              "      <td>4.Réaction</td>\n",
              "      <td>L'homme est d'abord tenté de partir car il est...</td>\n",
              "      <td>NaN</td>\n",
              "    </tr>\n",
              "    <tr>\n",
              "      <th>recRr06fOM4hGGaLY</th>\n",
              "      <td>5.Péripéties</td>\n",
              "      <td>Pendant la visite (ennuyeuse), l'homme tente d...</td>\n",
              "      <td>NaN</td>\n",
              "    </tr>\n",
              "    <tr>\n",
              "      <th>recvWnAYn9VNySVlB</th>\n",
              "      <td>6.Chute</td>\n",
              "      <td>Un spectacle où une partie du public est appel...</td>\n",
              "      <td>NaN</td>\n",
              "    </tr>\n",
              "    <tr>\n",
              "      <th>recDmZtMMNmiy7R0M</th>\n",
              "      <td>Récit</td>\n",
              "      <td>NaN</td>\n",
              "      <td>NaN</td>\n",
              "    </tr>\n",
              "  </tbody>\n",
              "</table>\n",
              "</div>"
            ],
            "text/plain": [
              "                                   Name  ...                                              Notes\n",
              "recnI80hvydv71fs4          0.Conception  ...  Trouver le plaisir d’écrire. Partir d’idées, d...\n",
              "recI2pgkNq2iP52rm  1.Situation initiale  ...  Une vengeance d'une femme éconduite lors d'un ...\n",
              "recb2DqhB9GvfI12n          2.Personnage  ...  Un Dom Juan sûr de son charme et imbu de sa pe...\n",
              "recNLdU01JpCnvknJ    3.Acte déclencheur  ...                                                NaN\n",
              "recRxZVhpSPD6oQXx            4.Réaction  ...                                                NaN\n",
              "recRr06fOM4hGGaLY          5.Péripéties  ...                                                NaN\n",
              "recvWnAYn9VNySVlB               6.Chute  ...                                                NaN\n",
              "recDmZtMMNmiy7R0M                 Récit  ...                                                NaN\n",
              "\n",
              "[8 rows x 3 columns]"
            ]
          },
          "metadata": {},
          "execution_count": 11
        }
      ]
    },
    {
      "cell_type": "code",
      "metadata": {
        "id": "TISNw9MItvH6"
      },
      "source": [
        ""
      ],
      "execution_count": null,
      "outputs": []
    }
  ]
}