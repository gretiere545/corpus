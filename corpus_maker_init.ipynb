{
  "nbformat": 4,
  "nbformat_minor": 0,
  "metadata": {
    "colab": {
      "name": "corpus_maker_init.ipynb",
      "provenance": [],
      "collapsed_sections": [],
      "authorship_tag": "ABX9TyP/AxAduLslFFYdvnUx/Mu+",
      "include_colab_link": true
    },
    "kernelspec": {
      "name": "python3",
      "display_name": "Python 3"
    },
    "language_info": {
      "name": "python"
    }
  },
  "cells": [
    {
      "cell_type": "markdown",
      "metadata": {
        "id": "view-in-github",
        "colab_type": "text"
      },
      "source": [
        "<a href=\"https://colab.research.google.com/github/gretiere545/corpus/blob/main/corpus_maker_init.ipynb\" target=\"_parent\"><img src=\"https://colab.research.google.com/assets/colab-badge.svg\" alt=\"Open In Colab\"/></a>"
      ]
    },
    {
      "cell_type": "markdown",
      "metadata": {
        "id": "FB29HktrvvBJ"
      },
      "source": [
        "# Fabrique des Corpus ASAMLA"
      ]
    },
    {
      "cell_type": "markdown",
      "metadata": {
        "id": "7P--WKJPv0Px"
      },
      "source": [
        "## Phase 1 : Initialisation d'un nouveau Corpus"
      ]
    },
    {
      "cell_type": "code",
      "metadata": {
        "colab": {
          "base_uri": "https://localhost:8080/"
        },
        "id": "_5CoZ3ORv3Bh",
        "outputId": "ca572364-33a7-430a-b8c7-6bc4d528c24f"
      },
      "source": [
        "!export PYTHONIOENCODING=utf8\n",
        "!pip install gspread-formatting\n",
        "import pandas as pd\n",
        "import numpy as np\n",
        "import base64\n",
        "import uuid\n",
        "import zlib\n",
        "import binascii\n",
        "import random\n",
        "import os\n",
        "import json\n",
        "import secrets\n",
        "pd.set_option(\"display.width\",1000)\n",
        "# Ce bout de code pour pouvoir downloader des fichiers sur le drive\n",
        "from google.colab import drive\n",
        "drive.mount('/content/drive')\n",
        "# Ce bout de code pour pouvoir downloader des google sheets dans des dataframes\n",
        "from google.colab import auth\n",
        "auth.authenticate_user()\n",
        "import gspread\n",
        "from gspread_formatting import *\n",
        "from gspread_dataframe import get_as_dataframe, set_with_dataframe\n",
        "from oauth2client.client import GoogleCredentials\n",
        "gc = gspread.authorize(GoogleCredentials.get_application_default())\n",
        "%cd /content/drive/MyDrive/Trad-Union/Corpus/ASAMLA\n"
      ],
      "execution_count": 25,
      "outputs": [
        {
          "output_type": "stream",
          "name": "stdout",
          "text": [
            "Requirement already satisfied: gspread-formatting in /usr/local/lib/python3.7/dist-packages (1.0.5)\n",
            "Requirement already satisfied: gspread>=3.0.0 in /usr/local/lib/python3.7/dist-packages (from gspread-formatting) (3.0.1)\n",
            "Requirement already satisfied: requests>=2.2.1 in /usr/local/lib/python3.7/dist-packages (from gspread>=3.0.0->gspread-formatting) (2.23.0)\n",
            "Requirement already satisfied: certifi>=2017.4.17 in /usr/local/lib/python3.7/dist-packages (from requests>=2.2.1->gspread>=3.0.0->gspread-formatting) (2021.10.8)\n",
            "Requirement already satisfied: chardet<4,>=3.0.2 in /usr/local/lib/python3.7/dist-packages (from requests>=2.2.1->gspread>=3.0.0->gspread-formatting) (3.0.4)\n",
            "Requirement already satisfied: urllib3!=1.25.0,!=1.25.1,<1.26,>=1.21.1 in /usr/local/lib/python3.7/dist-packages (from requests>=2.2.1->gspread>=3.0.0->gspread-formatting) (1.24.3)\n",
            "Requirement already satisfied: idna<3,>=2.5 in /usr/local/lib/python3.7/dist-packages (from requests>=2.2.1->gspread>=3.0.0->gspread-formatting) (2.10)\n",
            "Drive already mounted at /content/drive; to attempt to forcibly remount, call drive.mount(\"/content/drive\", force_remount=True).\n",
            "/content/drive/MyDrive/Trad-Union/Corpus/ASAMLA\n"
          ]
        }
      ]
    },
    {
      "cell_type": "code",
      "metadata": {
        "id": "bHi93Ea3RNaI"
      },
      "source": [
        "def make_unique_id():\n",
        "  return str(uuid.uuid4())[:8]"
      ],
      "execution_count": 27,
      "outputs": []
    },
    {
      "cell_type": "code",
      "metadata": {
        "id": "A-3fautuQyWs"
      },
      "source": [
        "def format_feuille(wb, nom_onglet):\n",
        "  # onglet\n",
        "  ws = wb.worksheet(nom_onglet)\n",
        "  # Format de la partie gauche\n",
        "  fmt = cellFormat(\n",
        "      backgroundColor=color(0.91, 0.96, 0.93),\n",
        "      textFormat=textFormat(bold=False, foregroundColor=color(0,0,0), fontSize='10'),\n",
        "      horizontalAlignment='LEFT'\n",
        "      )\n",
        "  format_cell_range(ws, 'A:B', fmt)\n",
        "\n",
        "  # format de l'entete\n",
        "  fmt = cellFormat(\n",
        "      backgroundColor=color(0.7725,0.8431,0.7922),\n",
        "      textFormat=textFormat(bold=True, foregroundColor=color(0,0,0), fontSize='10'),\n",
        "      horizontalAlignment='LEFT'\n",
        "      )\n",
        "  format_cell_range(ws, '1', fmt)\n",
        "  \n",
        "  # on gèle l'entete et les colonnes de gauche\n",
        "  set_frozen(ws, rows=1, cols=2)\n",
        "  set_column_width(ws, 'A', 100)\n",
        "  set_column_width(ws, 'B', 400)\n",
        "  set_column_width(ws, 'C:', 600)"
      ],
      "execution_count": 28,
      "outputs": []
    },
    {
      "cell_type": "markdown",
      "metadata": {
        "id": "ShHAKRghhdgV"
      },
      "source": [
        "Référentiels Corpus de travail"
      ]
    },
    {
      "cell_type": "code",
      "metadata": {
        "id": "Lv4qBn3ZwGVS"
      },
      "source": [
        "# Corpus Français Médical Vaccination\n",
        "corpus_fr_med_vac = \"asamla-corpus_francais_med_vac-v1.2\"\n",
        "corpus_fr_med_vac_uri = \"https://docs.google.com/spreadsheets/d/1-2SDHCFR5JOHCc4MiYSMo4V8yG7kfHbpIKV3q9ci6wE\"\n",
        "# Corpus Français Médical Médecine Générale\n",
        "corpus_fr_med_gen = \"ASAMLA - Corpus Médical - Médecine générale-v1.0\"\n",
        "corpus_fr_med_gen_uri = \"https://docs.google.com/spreadsheets/d/1M3CFSpAGII25qCl0apYrRPX-DmpdxDFLLB_Ob-MX8DQ\""
      ],
      "execution_count": 8,
      "outputs": []
    },
    {
      "cell_type": "code",
      "metadata": {
        "id": "95A8ti6sRIi2"
      },
      "source": [
        "# Corpus Toutes Langues Médical Vaccination\n",
        "corpus_trad_med_vac = \"ASAMLA - Corpus Médical Vaccination-v2.0\"\n",
        "corpus_trad_med_vac_uri = \"https://docs.google.com/spreadsheets/d/1CclzYfFCW4srA3Lq_np2LpSrxj84JpcbzytL449DH8E\"\n",
        "# Corpus Toutes Langues Médical Médecine Générale\n",
        "corpus_trad_med_neu = \"ASAMLA - Corpus Médical Médecine Générale-v1.0\"\n",
        "corpus_trad_med_neu_uri = \"https://docs.google.com/spreadsheets/d/1zB7hvjr2HufHcVgcJfEtrUUmR75wU5OCiL-_d4oDtTU\""
      ],
      "execution_count": 29,
      "outputs": []
    },
    {
      "cell_type": "markdown",
      "metadata": {
        "id": "SIp9SViIKXX2"
      },
      "source": [
        "Ouverture de la base centrale (repository) : base se trouvant sur gdrive atos.net"
      ]
    },
    {
      "cell_type": "code",
      "metadata": {
        "id": "ghnGFU1sphV_"
      },
      "source": [
        "# Ouverture de la Sheet Centrale (corpus_central_base)\n",
        "sheet_central = 'https://docs.google.com/spreadsheets/d/1L8YB1aXHUJwUE9AE6xyn_xMHalinGR335Q7lntwbu1U'\n",
        "wb_central = gc.open_by_url(sheet_central)\n",
        "# onglet Médical Vaccination\n",
        "corpus_trad_med_vac_onglet = \"med_vac_synthese\"\n",
        "# onglet Médical Médecine Générale\n",
        "corpus_trad_med_gen_onglet = \"med_gen_synthese\""
      ],
      "execution_count": 30,
      "outputs": []
    },
    {
      "cell_type": "markdown",
      "metadata": {
        "id": "g5pYDgowwHqS"
      },
      "source": [
        "Chargement du Corpus FR : à ce stade, il ne contient que des expressions en français"
      ]
    },
    {
      "cell_type": "code",
      "metadata": {
        "id": "4aBP7BgTaDTa"
      },
      "source": [
        "def get_cc_config(cfg):\n",
        "  vk_lang_dict = []\n",
        "  try:\n",
        "    with open(cfg) as vk_dict:\n",
        "        vk_lang_dict = json.load(vk_dict)\n",
        "  except BaseException as e:\n",
        "    print(e)\n",
        "  return vk_lang_dict\n",
        "\n",
        "def set_cc_config (vk_lang_dict, cfg):\n",
        "  # sauvegarde du fichier de paramétrage\n",
        "  with open(cfg, 'w') as fp:\n",
        "      json.dump(vk_lang_dict, fp)  "
      ],
      "execution_count": 31,
      "outputs": []
    },
    {
      "cell_type": "code",
      "metadata": {
        "id": "XMJjkXpDaMLA"
      },
      "source": [
        "lang_config = 'med_vac_synthese.json'\n",
        "vk_lang_dict = get_cc_config(lang_config)"
      ],
      "execution_count": 32,
      "outputs": []
    },
    {
      "cell_type": "code",
      "metadata": {
        "id": "ZFS_1XH3woZF"
      },
      "source": [
        "uri = corpus_fr_med_gen_uri"
      ],
      "execution_count": 33,
      "outputs": []
    },
    {
      "cell_type": "code",
      "source": [
        "def narrow_no_break_space (s):\n",
        "  s = \" \".join(s.split())   # on vire tous les espaces en trop\n",
        "  find = r'(\\s*\\?$)'        # on recherche le ? précédé ou pas d'espace \\s*\n",
        "  replace = u'\\u202F'+ r'?'\n",
        "  s = re.sub(find, replace, s)    # on remplace par un blanc insécable + le ?\n",
        "  return s"
      ],
      "metadata": {
        "id": "Ol-NghuOQhp-"
      },
      "execution_count": 34,
      "outputs": []
    },
    {
      "cell_type": "markdown",
      "metadata": {
        "id": "UnKd7yYm2Pdz"
      },
      "source": [
        "2021 10 05 : \n",
        "Suppression du Peul, remplacé par Allemand"
      ]
    },
    {
      "cell_type": "markdown",
      "metadata": {
        "id": "cLwn4uo9KtFR"
      },
      "source": [
        "Fonction d'attribution d'id unique pour chaque expression à l'intérieur d'un corpus"
      ]
    },
    {
      "cell_type": "code",
      "metadata": {
        "id": "nzGsGA9UoRDL"
      },
      "source": [
        "#ouverture de l'onglet Corpus dans un DF\n",
        "wb = gc.open_by_url(uri)\n",
        "t_corpus = wb.get_worksheet(0)\n",
        "data_t_corpus = t_corpus.get_all_values()\n",
        "df_corpus = pd.DataFrame(data_t_corpus[1:], columns=data_t_corpus[0])"
      ],
      "execution_count": 35,
      "outputs": []
    },
    {
      "cell_type": "code",
      "source": [
        "df_corpus"
      ],
      "metadata": {
        "colab": {
          "base_uri": "https://localhost:8080/",
          "height": 424
        },
        "id": "Pr99cVTDHsef",
        "outputId": "c7c8974d-9bdc-453e-f227-25cd915b227d"
      },
      "execution_count": 40,
      "outputs": [
        {
          "output_type": "execute_result",
          "data": {
            "text/html": [
              "<div>\n",
              "<style scoped>\n",
              "    .dataframe tbody tr th:only-of-type {\n",
              "        vertical-align: middle;\n",
              "    }\n",
              "\n",
              "    .dataframe tbody tr th {\n",
              "        vertical-align: top;\n",
              "    }\n",
              "\n",
              "    .dataframe thead th {\n",
              "        text-align: right;\n",
              "    }\n",
              "</style>\n",
              "<table border=\"1\" class=\"dataframe\">\n",
              "  <thead>\n",
              "    <tr style=\"text-align: right;\">\n",
              "      <th></th>\n",
              "      <th>uid</th>\n",
              "      <th>français</th>\n",
              "      <th>traduction</th>\n",
              "    </tr>\n",
              "  </thead>\n",
              "  <tbody>\n",
              "    <tr>\n",
              "      <th>0</th>\n",
              "      <td>03bb6e86</td>\n",
              "      <td>Bonjour, comment vous appelez-vous ?</td>\n",
              "      <td></td>\n",
              "    </tr>\n",
              "    <tr>\n",
              "      <th>1</th>\n",
              "      <td>38a24ddb</td>\n",
              "      <td>Quel est le motif de votre visite ?</td>\n",
              "      <td></td>\n",
              "    </tr>\n",
              "    <tr>\n",
              "      <th>2</th>\n",
              "      <td>ba312208</td>\n",
              "      <td>Quel âge avez-vous ?</td>\n",
              "      <td></td>\n",
              "    </tr>\n",
              "    <tr>\n",
              "      <th>3</th>\n",
              "      <td>192bc4c8</td>\n",
              "      <td>Vous venez de quel pays ?</td>\n",
              "      <td></td>\n",
              "    </tr>\n",
              "    <tr>\n",
              "      <th>4</th>\n",
              "      <td>955f030c</td>\n",
              "      <td>Buvez-vous de l’alcool ?</td>\n",
              "      <td></td>\n",
              "    </tr>\n",
              "    <tr>\n",
              "      <th>...</th>\n",
              "      <td>...</td>\n",
              "      <td>...</td>\n",
              "      <td>...</td>\n",
              "    </tr>\n",
              "    <tr>\n",
              "      <th>78</th>\n",
              "      <td>50460084</td>\n",
              "      <td>Saignement</td>\n",
              "      <td></td>\n",
              "    </tr>\n",
              "    <tr>\n",
              "      <th>79</th>\n",
              "      <td>af9faaa5</td>\n",
              "      <td>Purulent</td>\n",
              "      <td></td>\n",
              "    </tr>\n",
              "    <tr>\n",
              "      <th>80</th>\n",
              "      <td>1ffe71ca</td>\n",
              "      <td>Fatigue</td>\n",
              "      <td></td>\n",
              "    </tr>\n",
              "    <tr>\n",
              "      <th>81</th>\n",
              "      <td>6fa427fc</td>\n",
              "      <td>angine</td>\n",
              "      <td></td>\n",
              "    </tr>\n",
              "    <tr>\n",
              "      <th>82</th>\n",
              "      <td>72f0e8db</td>\n",
              "      <td>oedème</td>\n",
              "      <td></td>\n",
              "    </tr>\n",
              "  </tbody>\n",
              "</table>\n",
              "<p>83 rows × 3 columns</p>\n",
              "</div>"
            ],
            "text/plain": [
              "         uid                              français traduction\n",
              "0   03bb6e86  Bonjour, comment vous appelez-vous ?           \n",
              "1   38a24ddb   Quel est le motif de votre visite ?           \n",
              "2   ba312208                  Quel âge avez-vous ?           \n",
              "3   192bc4c8             Vous venez de quel pays ?           \n",
              "4   955f030c              Buvez-vous de l’alcool ?           \n",
              "..       ...                                   ...        ...\n",
              "78  50460084                            Saignement           \n",
              "79  af9faaa5                              Purulent           \n",
              "80  1ffe71ca                               Fatigue           \n",
              "81  6fa427fc                                angine           \n",
              "82  72f0e8db                                oedème           \n",
              "\n",
              "[83 rows x 3 columns]"
            ]
          },
          "metadata": {},
          "execution_count": 40
        }
      ]
    },
    {
      "cell_type": "code",
      "metadata": {
        "id": "t35lD8woh8JJ"
      },
      "source": [
        "# SI L'état de l'expression est VALIDE on ajoute le hash qui sert de clé\n",
        "df_corpus['uid'] = df_corpus[['uid','état']].apply(lambda x: x[0] if (x[0]!=\"\" and x[1]==\"validé\") else make_unique_id() if (x[0]==\"\" and x[1]==\"validé\") else \"\", axis=1)\n",
        "# exemple de bout de code pour accéder à un enregistrement par la clé\n",
        "# df_corpus.loc[df_corpus['uid']=='g06g6WJ6ROb8-tWX2TlVtwvKY3MdWg']['coded_expression'].apply(lambda x:decode_expression(x))"
      ],
      "execution_count": 37,
      "outputs": []
    },
    {
      "cell_type": "code",
      "metadata": {
        "id": "hqevU9CGfjzR",
        "colab": {
          "base_uri": "https://localhost:8080/"
        },
        "outputId": "eddb8ae6-ab72-4211-d7cc-303646b0ab1f"
      },
      "source": [
        "# on élimine toutes les lignes sans expression\n",
        "df_corpus[\"expression\"].replace('', np.nan, inplace=True)\n",
        "df_corpus = df_corpus[df_corpus['expression'].notna()]\n",
        "# trim des expressions\n",
        "df_corpus['français'] = df_corpus['expression'].apply(lambda x:x.strip())\n",
        "df_corpus['français'] = df_corpus['français'].apply(lambda x:narrow_no_break_space(x))   "
      ],
      "execution_count": 38,
      "outputs": [
        {
          "output_type": "stream",
          "name": "stderr",
          "text": [
            "/usr/local/lib/python3.7/dist-packages/pandas/core/series.py:4582: SettingWithCopyWarning: \n",
            "A value is trying to be set on a copy of a slice from a DataFrame\n",
            "\n",
            "See the caveats in the documentation: https://pandas.pydata.org/pandas-docs/stable/user_guide/indexing.html#returning-a-view-versus-a-copy\n",
            "  method=method,\n"
          ]
        }
      ]
    },
    {
      "cell_type": "code",
      "metadata": {
        "id": "EK4EJUGwirvz",
        "colab": {
          "base_uri": "https://localhost:8080/"
        },
        "outputId": "a18e642c-fbce-4402-ae05-61c4042a0e77"
      },
      "source": [
        "# on ne conserve que les colonnes utiles\n",
        "df_corpus = df_corpus[['uid','français']]\n",
        "# on ajoute la colonne pour la traduction\n",
        "df_corpus['traduction'] = ''"
      ],
      "execution_count": 39,
      "outputs": [
        {
          "output_type": "stream",
          "name": "stderr",
          "text": [
            "/usr/local/lib/python3.7/dist-packages/ipykernel_launcher.py:4: SettingWithCopyWarning: \n",
            "A value is trying to be set on a copy of a slice from a DataFrame.\n",
            "Try using .loc[row_indexer,col_indexer] = value instead\n",
            "\n",
            "See the caveats in the documentation: https://pandas.pydata.org/pandas-docs/stable/user_guide/indexing.html#returning-a-view-versus-a-copy\n",
            "  after removing the cwd from sys.path.\n"
          ]
        }
      ]
    },
    {
      "cell_type": "markdown",
      "metadata": {
        "id": "wDGk1jsusYLA"
      },
      "source": [
        "Sauvegarde du corpus FR avec l'uid"
      ]
    },
    {
      "cell_type": "code",
      "metadata": {
        "id": "7KFFuo3Thm_P"
      },
      "source": [
        "# sauvegarde du dataframe dans la table wb_central de la feuille gsheet\n",
        "set_with_dataframe(t_corpus, df_corpus)\n"
      ],
      "execution_count": 41,
      "outputs": []
    },
    {
      "cell_type": "code",
      "metadata": {
        "id": "Lznkobdbc8Uw"
      },
      "source": [
        "df_corpus = df_corpus.loc[df_corpus['uid']!=\"\"]"
      ],
      "execution_count": null,
      "outputs": []
    },
    {
      "cell_type": "markdown",
      "metadata": {
        "id": "3e20tc-RWCwl"
      },
      "source": [
        "#### Déploiement du corpus français dans un corpus de traduction : 1 langue = 1 onglet"
      ]
    },
    {
      "cell_type": "code",
      "metadata": {
        "id": "CBDg2QNxV6rG"
      },
      "source": [
        "uri = corpus_trad_med_neu_uri\n",
        "#ouverture de l'onglet Corpus dans un DF\n",
        "wb = gc.open_by_url(uri)\n",
        "#pour chaque corpus, on créé un onglet si besoin\n",
        "for index, item in enumerate(vk_lang_dict):\n",
        "  #df_corpus_all.append (df_corpus)\n",
        "  nom_onglet = item['language']\n",
        "  # si l'onglet existe déjà, on le supprime ?\n",
        "  try:\n",
        "    ws = wb.worksheet(nom_onglet)\n",
        "    wb.del_worksheet(ws)  \n",
        "  except:\n",
        "    print (\"Onglet inexistant !\")\n",
        "  wb.add_worksheet(nom_onglet, 1, 1)\n",
        "  export_sheet = wb.worksheet(nom_onglet)\n",
        "  set_with_dataframe(export_sheet, df_corpus)\n",
        "  format_feuille(wb, nom_onglet)    "
      ],
      "execution_count": 42,
      "outputs": []
    },
    {
      "cell_type": "code",
      "metadata": {
        "id": "EE6Pg6TfEn9g"
      },
      "source": [
        ""
      ],
      "execution_count": null,
      "outputs": []
    }
  ]
}