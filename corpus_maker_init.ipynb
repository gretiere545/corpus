{
  "nbformat": 4,
  "nbformat_minor": 0,
  "metadata": {
    "colab": {
      "name": "corpus_maker_init.ipynb",
      "provenance": [],
      "collapsed_sections": [],
      "authorship_tag": "ABX9TyNo7/o8sVWeb7j/1vZVXUYB",
      "include_colab_link": true
    },
    "kernelspec": {
      "name": "python3",
      "display_name": "Python 3"
    },
    "language_info": {
      "name": "python"
    }
  },
  "cells": [
    {
      "cell_type": "markdown",
      "metadata": {
        "id": "view-in-github",
        "colab_type": "text"
      },
      "source": [
        "<a href=\"https://colab.research.google.com/github/gretiere545/corpus/blob/main/corpus_maker_init.ipynb\" target=\"_parent\"><img src=\"https://colab.research.google.com/assets/colab-badge.svg\" alt=\"Open In Colab\"/></a>"
      ]
    },
    {
      "cell_type": "markdown",
      "metadata": {
        "id": "FB29HktrvvBJ"
      },
      "source": [
        "# Fabrique des Corpus ASAMLA"
      ]
    },
    {
      "cell_type": "markdown",
      "metadata": {
        "id": "7P--WKJPv0Px"
      },
      "source": [
        "## Phase 1 : Initialisation d'un nouveau Corpus"
      ]
    },
    {
      "cell_type": "code",
      "metadata": {
        "colab": {
          "base_uri": "https://localhost:8080/"
        },
        "id": "_5CoZ3ORv3Bh",
        "outputId": "f185bb9e-5df7-405d-c4b8-0f8e2a051290"
      },
      "source": [
        "!export PYTHONIOENCODING=utf8\n",
        "!pip install gspread-formatting\n",
        "import pandas as pd\n",
        "import numpy as np\n",
        "import base64\n",
        "import uuid\n",
        "import zlib\n",
        "import binascii\n",
        "import random\n",
        "import os\n",
        "import json\n",
        "import secrets\n",
        "pd.set_option(\"display.width\",1000)\n",
        "# Ce bout de code pour pouvoir downloader des fichiers sur le drive\n",
        "from google.colab import drive\n",
        "drive.mount('/content/drive')\n",
        "# Ce bout de code pour pouvoir downloader des google sheets dans des dataframes\n",
        "from google.colab import auth\n",
        "auth.authenticate_user()\n",
        "import gspread\n",
        "from gspread_formatting import *\n",
        "from gspread_dataframe import get_as_dataframe, set_with_dataframe\n",
        "from oauth2client.client import GoogleCredentials\n",
        "gc = gspread.authorize(GoogleCredentials.get_application_default())\n",
        "%cd /content/drive/MyDrive/Trad-Union/Corpus/ASAMLA\n"
      ],
      "execution_count": 1,
      "outputs": [
        {
          "output_type": "stream",
          "name": "stdout",
          "text": [
            "Collecting gspread-formatting\n",
            "  Downloading gspread_formatting-1.0.5-py2.py3-none-any.whl (21 kB)\n",
            "Requirement already satisfied: gspread>=3.0.0 in /usr/local/lib/python3.7/dist-packages (from gspread-formatting) (3.0.1)\n",
            "Requirement already satisfied: requests>=2.2.1 in /usr/local/lib/python3.7/dist-packages (from gspread>=3.0.0->gspread-formatting) (2.23.0)\n",
            "Requirement already satisfied: chardet<4,>=3.0.2 in /usr/local/lib/python3.7/dist-packages (from requests>=2.2.1->gspread>=3.0.0->gspread-formatting) (3.0.4)\n",
            "Requirement already satisfied: idna<3,>=2.5 in /usr/local/lib/python3.7/dist-packages (from requests>=2.2.1->gspread>=3.0.0->gspread-formatting) (2.10)\n",
            "Requirement already satisfied: certifi>=2017.4.17 in /usr/local/lib/python3.7/dist-packages (from requests>=2.2.1->gspread>=3.0.0->gspread-formatting) (2021.10.8)\n",
            "Requirement already satisfied: urllib3!=1.25.0,!=1.25.1,<1.26,>=1.21.1 in /usr/local/lib/python3.7/dist-packages (from requests>=2.2.1->gspread>=3.0.0->gspread-formatting) (1.24.3)\n",
            "Installing collected packages: gspread-formatting\n",
            "Successfully installed gspread-formatting-1.0.5\n",
            "Mounted at /content/drive\n",
            "/content/drive/MyDrive/Trad-Union/Corpus/ASAMLA\n"
          ]
        }
      ]
    },
    {
      "cell_type": "code",
      "metadata": {
        "id": "bHi93Ea3RNaI"
      },
      "source": [
        "def make_unique_id():\n",
        "  return str(uuid.uuid4())[:8]"
      ],
      "execution_count": 2,
      "outputs": []
    },
    {
      "cell_type": "code",
      "metadata": {
        "id": "A-3fautuQyWs"
      },
      "source": [
        "def format_feuille(wb, nom_onglet):\n",
        "  # onglet\n",
        "  ws = wb.worksheet(nom_onglet)\n",
        "  # Format de la partie gauche\n",
        "  fmt = cellFormat(\n",
        "      backgroundColor=color(0.91, 0.96, 0.93),\n",
        "      textFormat=textFormat(bold=False, foregroundColor=color(0,0,0), fontSize='10'),\n",
        "      horizontalAlignment='LEFT'\n",
        "      )\n",
        "  format_cell_range(ws, 'A:B', fmt)\n",
        "\n",
        "  # format de l'entete\n",
        "  fmt = cellFormat(\n",
        "      backgroundColor=color(0.7725,0.8431,0.7922),\n",
        "      textFormat=textFormat(bold=True, foregroundColor=color(0,0,0), fontSize='10'),\n",
        "      horizontalAlignment='LEFT'\n",
        "      )\n",
        "  format_cell_range(ws, '1', fmt)\n",
        "  \n",
        "  # on gèle l'entete et les colonnes de gauche\n",
        "  set_frozen(ws, rows=1, cols=2)\n",
        "  set_column_width(ws, 'A', 100)\n",
        "  set_column_width(ws, 'B', 400)\n",
        "  set_column_width(ws, 'C:', 600)"
      ],
      "execution_count": 3,
      "outputs": []
    },
    {
      "cell_type": "markdown",
      "metadata": {
        "id": "ShHAKRghhdgV"
      },
      "source": [
        "Référentiels Corpus de travail"
      ]
    },
    {
      "cell_type": "code",
      "metadata": {
        "id": "Lv4qBn3ZwGVS"
      },
      "source": [
        "# Corpus Français Médical Vaccination\n",
        "corpus_fr_med_vac = \"asamla-corpus_francais_med_vac-v1.2\"\n",
        "corpus_fr_med_vac_uri = \"https://docs.google.com/spreadsheets/d/1-2SDHCFR5JOHCc4MiYSMo4V8yG7kfHbpIKV3q9ci6wE\"\n",
        "# Corpus Français Médical Médecine Générale\n",
        "corpus_fr_med_gen = \"ASAMLA - Corpus Médical Médecine Générale-Liste des expressions à traduire-v1.0\"\n",
        "corpus_fr_med_gen_uri = \"https://docs.google.com/spreadsheets/d/1M3CFSpAGII25qCl0apYrRPX-DmpdxDFLLB_Ob-MX8DQ\""
      ],
      "execution_count": 29,
      "outputs": []
    },
    {
      "cell_type": "code",
      "metadata": {
        "id": "95A8ti6sRIi2"
      },
      "source": [
        "# Corpus Toutes Langues Médical Vaccination\n",
        "corpus_trad_med_vac = \"ASAMLA - Corpus Médical Vaccination-v2.0\"\n",
        "corpus_trad_med_vac_uri = \"https://docs.google.com/spreadsheets/d/1CclzYfFCW4srA3Lq_np2LpSrxj84JpcbzytL449DH8E\"\n",
        "# Corpus Toutes Langues Médical Médecine Générale\n",
        "corpus_trad_med_neu = \"ASAMLA - Corpus Médical Médecine Générale-Traduction-v1.0\"\n",
        "corpus_trad_med_neu_uri = \"https://docs.google.com/spreadsheets/d/1zB7hvjr2HufHcVgcJfEtrUUmR75wU5OCiL-_d4oDtTU\""
      ],
      "execution_count": 6,
      "outputs": []
    },
    {
      "cell_type": "markdown",
      "metadata": {
        "id": "SIp9SViIKXX2"
      },
      "source": [
        "Ouverture de la base centrale (repository) : base se trouvant sur gdrive atos.net"
      ]
    },
    {
      "cell_type": "code",
      "metadata": {
        "id": "ghnGFU1sphV_"
      },
      "source": [
        "# Ouverture de la Sheet Centrale (corpus_central_base)\n",
        "sheet_central = 'https://docs.google.com/spreadsheets/d/1L8YB1aXHUJwUE9AE6xyn_xMHalinGR335Q7lntwbu1U'\n",
        "wb_central = gc.open_by_url(sheet_central)\n",
        "# onglet Médical Vaccination\n",
        "corpus_trad_med_vac_onglet = \"med_vac_synthese\"\n",
        "# onglet Médical Médecine Générale\n",
        "corpus_trad_med_gen_onglet = \"med_gen_synthese\""
      ],
      "execution_count": 30,
      "outputs": []
    },
    {
      "cell_type": "markdown",
      "metadata": {
        "id": "g5pYDgowwHqS"
      },
      "source": [
        "Chargement du Corpus FR : à ce stade, il ne contient que des expressions en français"
      ]
    },
    {
      "cell_type": "code",
      "metadata": {
        "id": "4aBP7BgTaDTa"
      },
      "source": [
        "def get_cc_config(cfg):\n",
        "  vk_lang_dict = []\n",
        "  try:\n",
        "    with open(cfg) as vk_dict:\n",
        "        vk_lang_dict = json.load(vk_dict)\n",
        "  except BaseException as e:\n",
        "    print(e)\n",
        "  return vk_lang_dict\n",
        "\n",
        "def set_cc_config (vk_lang_dict, cfg):\n",
        "  # sauvegarde du fichier de paramétrage\n",
        "  with open(cfg, 'w') as fp:\n",
        "      json.dump(vk_lang_dict, fp)  "
      ],
      "execution_count": 7,
      "outputs": []
    },
    {
      "cell_type": "code",
      "metadata": {
        "id": "XMJjkXpDaMLA"
      },
      "source": [
        "lang_config = 'med_vac_synthese.json'\n",
        "vk_lang_dict = get_cc_config(lang_config)"
      ],
      "execution_count": 8,
      "outputs": []
    },
    {
      "cell_type": "code",
      "metadata": {
        "id": "ZFS_1XH3woZF"
      },
      "source": [
        "uri = corpus_fr_med_gen_uri"
      ],
      "execution_count": 30,
      "outputs": []
    },
    {
      "cell_type": "code",
      "source": [
        "def narrow_no_break_space (s):\n",
        "  s = \" \".join(s.split())   # on vire tous les espaces en trop\n",
        "  find = r'(\\s*\\?$)'        # on recherche le ? précédé ou pas d'espace \\s*\n",
        "  replace = u'\\u202F'+ r'?'\n",
        "  s = re.sub(find, replace, s)    # on remplace par un blanc insécable + le ?\n",
        "  return s"
      ],
      "metadata": {
        "id": "Ol-NghuOQhp-"
      },
      "execution_count": 10,
      "outputs": []
    },
    {
      "cell_type": "markdown",
      "metadata": {
        "id": "UnKd7yYm2Pdz"
      },
      "source": [
        "2021 10 05 : \n",
        "Suppression du Peul, remplacé par Allemand"
      ]
    },
    {
      "cell_type": "markdown",
      "metadata": {
        "id": "cLwn4uo9KtFR"
      },
      "source": [
        "Fonction d'attribution d'id unique pour chaque expression à l'intérieur d'un corpus"
      ]
    },
    {
      "cell_type": "code",
      "metadata": {
        "id": "nzGsGA9UoRDL"
      },
      "source": [
        "#ouverture de l'onglet Corpus dans un DF\n",
        "wb = gc.open_by_url(uri)\n",
        "t_corpus = wb.get_worksheet(0)\n",
        "data_t_corpus = t_corpus.get_all_values()\n",
        "df_corpus = pd.DataFrame(data_t_corpus[1:], columns=data_t_corpus[0])"
      ],
      "execution_count": 35,
      "outputs": []
    },
    {
      "cell_type": "code",
      "source": [
        "df_corpus"
      ],
      "metadata": {
        "colab": {
          "base_uri": "https://localhost:8080/",
          "height": 424
        },
        "id": "rB3LdZeFl3ZX",
        "outputId": "905d5238-fba6-4c76-d6f0-7c4eefdf99bf"
      },
      "execution_count": 36,
      "outputs": [
        {
          "output_type": "execute_result",
          "data": {
            "text/html": [
              "<div>\n",
              "<style scoped>\n",
              "    .dataframe tbody tr th:only-of-type {\n",
              "        vertical-align: middle;\n",
              "    }\n",
              "\n",
              "    .dataframe tbody tr th {\n",
              "        vertical-align: top;\n",
              "    }\n",
              "\n",
              "    .dataframe thead th {\n",
              "        text-align: right;\n",
              "    }\n",
              "</style>\n",
              "<table border=\"1\" class=\"dataframe\">\n",
              "  <thead>\n",
              "    <tr style=\"text-align: right;\">\n",
              "      <th></th>\n",
              "      <th>uid</th>\n",
              "      <th>expression</th>\n",
              "      <th>traduction</th>\n",
              "      <th>date</th>\n",
              "      <th>commentaires</th>\n",
              "      <th>état</th>\n",
              "    </tr>\n",
              "  </thead>\n",
              "  <tbody>\n",
              "    <tr>\n",
              "      <th>0</th>\n",
              "      <td>03bb6e86</td>\n",
              "      <td>Bonjour, comment vous appelez-vous ?</td>\n",
              "      <td></td>\n",
              "      <td>09/12/2021</td>\n",
              "      <td></td>\n",
              "      <td>validé</td>\n",
              "    </tr>\n",
              "    <tr>\n",
              "      <th>1</th>\n",
              "      <td>38a24ddb</td>\n",
              "      <td>Quel est le motif de votre visite ?</td>\n",
              "      <td></td>\n",
              "      <td>09/12/2021</td>\n",
              "      <td></td>\n",
              "      <td>validé</td>\n",
              "    </tr>\n",
              "    <tr>\n",
              "      <th>2</th>\n",
              "      <td>ba312208</td>\n",
              "      <td>Quel âge avez-vous ?</td>\n",
              "      <td></td>\n",
              "      <td>09/12/2021</td>\n",
              "      <td></td>\n",
              "      <td>validé</td>\n",
              "    </tr>\n",
              "    <tr>\n",
              "      <th>3</th>\n",
              "      <td>192bc4c8</td>\n",
              "      <td>Vous venez de quel pays ?</td>\n",
              "      <td></td>\n",
              "      <td>09/12/2021</td>\n",
              "      <td></td>\n",
              "      <td>validé</td>\n",
              "    </tr>\n",
              "    <tr>\n",
              "      <th>4</th>\n",
              "      <td>955f030c</td>\n",
              "      <td>Buvez-vous de l’alcool ?</td>\n",
              "      <td></td>\n",
              "      <td>09/12/2021</td>\n",
              "      <td></td>\n",
              "      <td>validé</td>\n",
              "    </tr>\n",
              "    <tr>\n",
              "      <th>...</th>\n",
              "      <td>...</td>\n",
              "      <td>...</td>\n",
              "      <td>...</td>\n",
              "      <td>...</td>\n",
              "      <td>...</td>\n",
              "      <td>...</td>\n",
              "    </tr>\n",
              "    <tr>\n",
              "      <th>78</th>\n",
              "      <td>50460084</td>\n",
              "      <td>Saignement</td>\n",
              "      <td></td>\n",
              "      <td>09/12/2021</td>\n",
              "      <td></td>\n",
              "      <td>validé</td>\n",
              "    </tr>\n",
              "    <tr>\n",
              "      <th>79</th>\n",
              "      <td>af9faaa5</td>\n",
              "      <td>Purulent</td>\n",
              "      <td></td>\n",
              "      <td>09/12/2021</td>\n",
              "      <td></td>\n",
              "      <td>validé</td>\n",
              "    </tr>\n",
              "    <tr>\n",
              "      <th>80</th>\n",
              "      <td>1ffe71ca</td>\n",
              "      <td>Fatigue</td>\n",
              "      <td></td>\n",
              "      <td>09/12/2021</td>\n",
              "      <td></td>\n",
              "      <td>validé</td>\n",
              "    </tr>\n",
              "    <tr>\n",
              "      <th>81</th>\n",
              "      <td>6fa427fc</td>\n",
              "      <td>Angine</td>\n",
              "      <td></td>\n",
              "      <td>09/12/2021</td>\n",
              "      <td></td>\n",
              "      <td>validé</td>\n",
              "    </tr>\n",
              "    <tr>\n",
              "      <th>82</th>\n",
              "      <td>72f0e8db</td>\n",
              "      <td>Œdème</td>\n",
              "      <td></td>\n",
              "      <td>09/12/2021</td>\n",
              "      <td></td>\n",
              "      <td>validé</td>\n",
              "    </tr>\n",
              "  </tbody>\n",
              "</table>\n",
              "<p>83 rows × 6 columns</p>\n",
              "</div>"
            ],
            "text/plain": [
              "         uid                            expression  ... commentaires    état\n",
              "0   03bb6e86  Bonjour, comment vous appelez-vous ?  ...               validé\n",
              "1   38a24ddb   Quel est le motif de votre visite ?  ...               validé\n",
              "2   ba312208                  Quel âge avez-vous ?  ...               validé\n",
              "3   192bc4c8             Vous venez de quel pays ?  ...               validé\n",
              "4   955f030c              Buvez-vous de l’alcool ?  ...               validé\n",
              "..       ...                                   ...  ...          ...     ...\n",
              "78  50460084                            Saignement  ...               validé\n",
              "79  af9faaa5                              Purulent  ...               validé\n",
              "80  1ffe71ca                               Fatigue  ...               validé\n",
              "81  6fa427fc                                Angine  ...               validé\n",
              "82  72f0e8db                                 Œdème  ...               validé\n",
              "\n",
              "[83 rows x 6 columns]"
            ]
          },
          "metadata": {},
          "execution_count": 36
        }
      ]
    },
    {
      "cell_type": "code",
      "source": [
        "df_corpus['uid'] = df_corpus['uid'].astype(\"string\")"
      ],
      "metadata": {
        "id": "Pr99cVTDHsef"
      },
      "execution_count": 37,
      "outputs": []
    },
    {
      "cell_type": "code",
      "source": [
        "df_corpus"
      ],
      "metadata": {
        "colab": {
          "base_uri": "https://localhost:8080/",
          "height": 424
        },
        "id": "Am9Vk1d5lj6k",
        "outputId": "72942a87-5dd6-467d-80e1-d506fc9e0e2e"
      },
      "execution_count": 41,
      "outputs": [
        {
          "output_type": "execute_result",
          "data": {
            "text/html": [
              "<div>\n",
              "<style scoped>\n",
              "    .dataframe tbody tr th:only-of-type {\n",
              "        vertical-align: middle;\n",
              "    }\n",
              "\n",
              "    .dataframe tbody tr th {\n",
              "        vertical-align: top;\n",
              "    }\n",
              "\n",
              "    .dataframe thead th {\n",
              "        text-align: right;\n",
              "    }\n",
              "</style>\n",
              "<table border=\"1\" class=\"dataframe\">\n",
              "  <thead>\n",
              "    <tr style=\"text-align: right;\">\n",
              "      <th></th>\n",
              "      <th>uid</th>\n",
              "      <th>français</th>\n",
              "      <th>traduction</th>\n",
              "    </tr>\n",
              "  </thead>\n",
              "  <tbody>\n",
              "    <tr>\n",
              "      <th>0</th>\n",
              "      <td>03bb6e86</td>\n",
              "      <td>Bonjour, comment vous appelez-vous ?</td>\n",
              "      <td></td>\n",
              "    </tr>\n",
              "    <tr>\n",
              "      <th>1</th>\n",
              "      <td>38a24ddb</td>\n",
              "      <td>Quel est le motif de votre visite ?</td>\n",
              "      <td></td>\n",
              "    </tr>\n",
              "    <tr>\n",
              "      <th>2</th>\n",
              "      <td>ba312208</td>\n",
              "      <td>Quel âge avez-vous ?</td>\n",
              "      <td></td>\n",
              "    </tr>\n",
              "    <tr>\n",
              "      <th>3</th>\n",
              "      <td>192bc4c8</td>\n",
              "      <td>Vous venez de quel pays ?</td>\n",
              "      <td></td>\n",
              "    </tr>\n",
              "    <tr>\n",
              "      <th>4</th>\n",
              "      <td>955f030c</td>\n",
              "      <td>Buvez-vous de l’alcool ?</td>\n",
              "      <td></td>\n",
              "    </tr>\n",
              "    <tr>\n",
              "      <th>...</th>\n",
              "      <td>...</td>\n",
              "      <td>...</td>\n",
              "      <td>...</td>\n",
              "    </tr>\n",
              "    <tr>\n",
              "      <th>78</th>\n",
              "      <td>50460084</td>\n",
              "      <td>Saignement</td>\n",
              "      <td></td>\n",
              "    </tr>\n",
              "    <tr>\n",
              "      <th>79</th>\n",
              "      <td>af9faaa5</td>\n",
              "      <td>Purulent</td>\n",
              "      <td></td>\n",
              "    </tr>\n",
              "    <tr>\n",
              "      <th>80</th>\n",
              "      <td>1ffe71ca</td>\n",
              "      <td>Fatigue</td>\n",
              "      <td></td>\n",
              "    </tr>\n",
              "    <tr>\n",
              "      <th>81</th>\n",
              "      <td>6fa427fc</td>\n",
              "      <td>Angine</td>\n",
              "      <td></td>\n",
              "    </tr>\n",
              "    <tr>\n",
              "      <th>82</th>\n",
              "      <td>72f0e8db</td>\n",
              "      <td>Œdème</td>\n",
              "      <td></td>\n",
              "    </tr>\n",
              "  </tbody>\n",
              "</table>\n",
              "<p>83 rows × 3 columns</p>\n",
              "</div>"
            ],
            "text/plain": [
              "         uid                              français traduction\n",
              "0   03bb6e86  Bonjour, comment vous appelez-vous ?           \n",
              "1   38a24ddb   Quel est le motif de votre visite ?           \n",
              "2   ba312208                  Quel âge avez-vous ?           \n",
              "3   192bc4c8             Vous venez de quel pays ?           \n",
              "4   955f030c              Buvez-vous de l’alcool ?           \n",
              "..       ...                                   ...        ...\n",
              "78  50460084                            Saignement           \n",
              "79  af9faaa5                              Purulent           \n",
              "80  1ffe71ca                               Fatigue           \n",
              "81  6fa427fc                                Angine           \n",
              "82  72f0e8db                                 Œdème           \n",
              "\n",
              "[83 rows x 3 columns]"
            ]
          },
          "metadata": {},
          "execution_count": 41
        }
      ]
    },
    {
      "cell_type": "code",
      "metadata": {
        "id": "t35lD8woh8JJ"
      },
      "source": [
        "# SI L'état de l'expression est VALIDE on ajoute le hash qui sert de clé\n",
        "df_corpus['uid'] = df_corpus[['uid','état']].apply(lambda x: x[0] if (x[0]!=\"\" and x[1]==\"validé\") else make_unique_id() if (x[0]==\"\" and x[1]==\"validé\") else \"\", axis=1)\n",
        "# exemple de bout de code pour accéder à un enregistrement par la clé\n",
        "# df_corpus.loc[df_corpus['uid']=='g06g6WJ6ROb8-tWX2TlVtwvKY3MdWg']['coded_expression'].apply(lambda x:decode_expression(x))"
      ],
      "execution_count": 37,
      "outputs": []
    },
    {
      "cell_type": "code",
      "metadata": {
        "id": "hqevU9CGfjzR"
      },
      "source": [
        "# on élimine toutes les lignes sans expression\n",
        "df_corpus[\"expression\"].replace('', np.nan, inplace=True)\n",
        "df_corpus = df_corpus[df_corpus['expression'].notna()]\n",
        "# trim des expressions\n",
        "df_corpus['français'] = df_corpus['expression'].apply(lambda x:x.strip())\n",
        "df_corpus['français'] = df_corpus['français'].apply(lambda x:narrow_no_break_space(x))   "
      ],
      "execution_count": 39,
      "outputs": []
    },
    {
      "cell_type": "code",
      "metadata": {
        "id": "EK4EJUGwirvz",
        "colab": {
          "base_uri": "https://localhost:8080/"
        },
        "outputId": "8d6976ce-5cd7-4c81-fa87-ab52451dfca7"
      },
      "source": [
        "# on ne conserve que les colonnes utiles\n",
        "df_corpus = df_corpus[['uid','français']]\n",
        "# on ajoute la colonne pour la traduction\n",
        "df_corpus['traduction'] = ''"
      ],
      "execution_count": 40,
      "outputs": [
        {
          "output_type": "stream",
          "name": "stderr",
          "text": [
            "/usr/local/lib/python3.7/dist-packages/ipykernel_launcher.py:4: SettingWithCopyWarning: \n",
            "A value is trying to be set on a copy of a slice from a DataFrame.\n",
            "Try using .loc[row_indexer,col_indexer] = value instead\n",
            "\n",
            "See the caveats in the documentation: https://pandas.pydata.org/pandas-docs/stable/user_guide/indexing.html#returning-a-view-versus-a-copy\n",
            "  after removing the cwd from sys.path.\n"
          ]
        }
      ]
    },
    {
      "cell_type": "markdown",
      "metadata": {
        "id": "wDGk1jsusYLA"
      },
      "source": [
        "Sauvegarde du corpus FR avec l'uid"
      ]
    },
    {
      "cell_type": "code",
      "metadata": {
        "id": "7KFFuo3Thm_P"
      },
      "source": [
        "# sauvegarde du dataframe dans la table wb_central de la feuille gsheet\n",
        "set_with_dataframe(t_corpus, df_corpus)\n"
      ],
      "execution_count": 42,
      "outputs": []
    },
    {
      "cell_type": "code",
      "metadata": {
        "id": "Lznkobdbc8Uw"
      },
      "source": [
        "df_corpus = df_corpus.loc[df_corpus['uid']!=\"\"]"
      ],
      "execution_count": null,
      "outputs": []
    },
    {
      "cell_type": "markdown",
      "metadata": {
        "id": "3e20tc-RWCwl"
      },
      "source": [
        "#### Déploiement du corpus français dans un corpus de traduction : 1 langue = 1 onglet"
      ]
    },
    {
      "cell_type": "code",
      "metadata": {
        "id": "CBDg2QNxV6rG",
        "colab": {
          "base_uri": "https://localhost:8080/"
        },
        "outputId": "878ae9c8-a996-4910-fa0e-3c0f0806340b"
      },
      "source": [
        "uri = corpus_trad_med_neu_uri\n",
        "#ouverture de l'onglet Corpus dans un DF\n",
        "wb = gc.open_by_url(uri)\n",
        "#pour chaque corpus, on créé un onglet si besoin\n",
        "for index, item in enumerate(vk_lang_dict):\n",
        "  #df_corpus_all.append (df_corpus)\n",
        "  nom_onglet = item['language']\n",
        "  print (\"Processing \" + nom_onglet)  \n",
        "  # si l'onglet existe déjà, on le supprime ?\n",
        "  try:\n",
        "    ws = wb.worksheet(nom_onglet)\n",
        "    wb.del_worksheet(ws)  \n",
        "  except:\n",
        "    print (\"Onglet inexistant !\")\n",
        "    print (\"Non existing : \" + nom_onglet)\n",
        "  wb.add_worksheet(nom_onglet, 1, 1)\n",
        "  export_sheet = wb.worksheet(nom_onglet)\n",
        "  set_with_dataframe(export_sheet, df_corpus)\n",
        "  format_feuille(wb, nom_onglet)    "
      ],
      "execution_count": 43,
      "outputs": [
        {
          "output_type": "stream",
          "name": "stdout",
          "text": [
            "Processing Arabe\n",
            "Processing Anglais\n",
            "Processing Turc\n",
            "Processing Russe\n",
            "Processing Ukrainien\n",
            "Processing Roumain\n",
            "Processing Hongrois\n",
            "Processing Tigrinya\n",
            "Processing Albanais\n",
            "Processing Géorgien\n",
            "Processing Arménien\n",
            "Processing Dari\n",
            "Processing Pashto\n",
            "Processing Fârsi\n",
            "Processing Azéri\n",
            "Processing Espagnol\n",
            "Processing Amharique\n",
            "Processing Allemand\n",
            "Processing Polonais\n",
            "Onglet inexistant !\n",
            "Non existing : Polonais\n",
            "Processing Somali\n",
            "Onglet inexistant !\n",
            "Non existing : Somali\n"
          ]
        }
      ]
    },
    {
      "cell_type": "code",
      "metadata": {
        "id": "EE6Pg6TfEn9g"
      },
      "source": [
        "uri = corpus_trad_med_neu_uri\n",
        "#ouverture de l'onglet Corpus dans un DF\n",
        "wb = gc.open_by_url(uri)\n",
        "#pour chaque corpus, on créé un onglet si besoin\n",
        "for index, item in enumerate(vk_lang_dict):\n",
        "  #df_corpus_all.append (df_corpus)\n",
        "  nom_onglet = item['language']\n",
        "  print (\"Processing \" + nom_onglet)\n",
        "  # si l'onglet existe déjà, on le supprime ?\n",
        "  try:\n",
        "    ws = wb.worksheet(nom_onglet)\n",
        "    data_onglet = ws.get_all_values()\n",
        "    df_onglet = pd.DataFrame(data_onglet[1:], columns=data_onglet[0])\n",
        "    # fusion des données présentes et nouvelles\n",
        "    frames = [df_onglet, df_corpus]\n",
        "    result = pd.concat([df_onglet, df_corpus]).drop_duplicates('uid').reset_index(drop=True)\n",
        "    set_with_dataframe(ws, result)\n",
        "    format_feuille(wb, nom_onglet)     \n",
        "  except:\n",
        "    print (\"Onglet inexistant !\")\n",
        "    print (\"Non existing : \" + nom_onglet)\n",
        "    wb.add_worksheet(nom_onglet, 1, 1)\n",
        "    export_sheet = wb.worksheet(nom_onglet)\n",
        "    set_with_dataframe(export_sheet, df_corpus)\n",
        "    format_feuille(wb, nom_onglet)   "
      ],
      "execution_count": null,
      "outputs": []
    },
    {
      "cell_type": "code",
      "source": [
        "nom_onglet = 'Turc'\n",
        "ws = wb.worksheet(nom_onglet)\n",
        "data_onglet = ws.get_all_values()\n",
        "df_onglet = pd.DataFrame(data_onglet[1:], columns=data_onglet[0])"
      ],
      "metadata": {
        "id": "IIDbmNddfkf9"
      },
      "execution_count": 15,
      "outputs": []
    },
    {
      "cell_type": "code",
      "source": [
        "pd.merge(left=df_corpus, right=df_onglet, \n",
        "                      how='outer',\n",
        "                      left_index=True,\n",
        "                      right_index=True,\n",
        "                      on=('uid')\n",
        "                     ).sort_index(axis=1)"
      ],
      "metadata": {
        "colab": {
          "base_uri": "https://localhost:8080/",
          "height": 424
        },
        "id": "1tuFHQg8h-Qd",
        "outputId": "0d70a1c9-acc9-48b1-b7ec-7eb4c951bf63"
      },
      "execution_count": 18,
      "outputs": [
        {
          "output_type": "execute_result",
          "data": {
            "text/html": [
              "<div>\n",
              "<style scoped>\n",
              "    .dataframe tbody tr th:only-of-type {\n",
              "        vertical-align: middle;\n",
              "    }\n",
              "\n",
              "    .dataframe tbody tr th {\n",
              "        vertical-align: top;\n",
              "    }\n",
              "\n",
              "    .dataframe thead th {\n",
              "        text-align: right;\n",
              "    }\n",
              "</style>\n",
              "<table border=\"1\" class=\"dataframe\">\n",
              "  <thead>\n",
              "    <tr style=\"text-align: right;\">\n",
              "      <th></th>\n",
              "      <th>commentaires_x</th>\n",
              "      <th>commentaires_y</th>\n",
              "      <th>date_x</th>\n",
              "      <th>date_y</th>\n",
              "      <th>français_x</th>\n",
              "      <th>français_y</th>\n",
              "      <th>traduction_x</th>\n",
              "      <th>traduction_y</th>\n",
              "      <th>uid</th>\n",
              "      <th>état_x</th>\n",
              "      <th>état_y</th>\n",
              "    </tr>\n",
              "  </thead>\n",
              "  <tbody>\n",
              "    <tr>\n",
              "      <th>0</th>\n",
              "      <td></td>\n",
              "      <td></td>\n",
              "      <td>09/12/2021</td>\n",
              "      <td></td>\n",
              "      <td>Bonjour, comment vous appelez-vous ?</td>\n",
              "      <td>Bonjour, comment vous appelez-vous ?</td>\n",
              "      <td></td>\n",
              "      <td>Merhaba isminiz  nedir ?</td>\n",
              "      <td>03bb6e86</td>\n",
              "      <td>validé</td>\n",
              "      <td></td>\n",
              "    </tr>\n",
              "    <tr>\n",
              "      <th>1</th>\n",
              "      <td></td>\n",
              "      <td></td>\n",
              "      <td>09/12/2021</td>\n",
              "      <td></td>\n",
              "      <td>Quel est le motif de votre visite ?</td>\n",
              "      <td>Quel est le motif de votre visite ?</td>\n",
              "      <td></td>\n",
              "      <td>niçin burdasınız?</td>\n",
              "      <td>38a24ddb</td>\n",
              "      <td>validé</td>\n",
              "      <td></td>\n",
              "    </tr>\n",
              "    <tr>\n",
              "      <th>2</th>\n",
              "      <td></td>\n",
              "      <td></td>\n",
              "      <td>09/12/2021</td>\n",
              "      <td></td>\n",
              "      <td>Quel âge avez-vous ?</td>\n",
              "      <td>Quel âge avez-vous ?</td>\n",
              "      <td></td>\n",
              "      <td>kaç yaşındasınız</td>\n",
              "      <td>ba312208</td>\n",
              "      <td>validé</td>\n",
              "      <td></td>\n",
              "    </tr>\n",
              "    <tr>\n",
              "      <th>3</th>\n",
              "      <td></td>\n",
              "      <td></td>\n",
              "      <td>09/12/2021</td>\n",
              "      <td></td>\n",
              "      <td>Vous venez de quel pays ?</td>\n",
              "      <td>Vous venez de quel pays ?</td>\n",
              "      <td></td>\n",
              "      <td>hangi ûlkeden geliyorsunuz?</td>\n",
              "      <td>192bc4c8</td>\n",
              "      <td>validé</td>\n",
              "      <td></td>\n",
              "    </tr>\n",
              "    <tr>\n",
              "      <th>4</th>\n",
              "      <td></td>\n",
              "      <td></td>\n",
              "      <td>09/12/2021</td>\n",
              "      <td></td>\n",
              "      <td>Buvez-vous de l’alcool ?</td>\n",
              "      <td>Buvez-vous de l’alcool ?</td>\n",
              "      <td></td>\n",
              "      <td>alkol içiyormusunuz?</td>\n",
              "      <td>955f030c</td>\n",
              "      <td>validé</td>\n",
              "      <td></td>\n",
              "    </tr>\n",
              "    <tr>\n",
              "      <th>...</th>\n",
              "      <td>...</td>\n",
              "      <td>...</td>\n",
              "      <td>...</td>\n",
              "      <td>...</td>\n",
              "      <td>...</td>\n",
              "      <td>...</td>\n",
              "      <td>...</td>\n",
              "      <td>...</td>\n",
              "      <td>...</td>\n",
              "      <td>...</td>\n",
              "      <td>...</td>\n",
              "    </tr>\n",
              "    <tr>\n",
              "      <th>79</th>\n",
              "      <td></td>\n",
              "      <td></td>\n",
              "      <td>09/12/2021</td>\n",
              "      <td></td>\n",
              "      <td>Purulent</td>\n",
              "      <td>Purulent</td>\n",
              "      <td></td>\n",
              "      <td>iltihaplı</td>\n",
              "      <td>af9faaa5</td>\n",
              "      <td>validé</td>\n",
              "      <td></td>\n",
              "    </tr>\n",
              "    <tr>\n",
              "      <th>80</th>\n",
              "      <td></td>\n",
              "      <td></td>\n",
              "      <td>09/12/2021</td>\n",
              "      <td></td>\n",
              "      <td>Fatigue</td>\n",
              "      <td>Fatigue</td>\n",
              "      <td></td>\n",
              "      <td>yorgunluk</td>\n",
              "      <td>1ffe71ca</td>\n",
              "      <td>validé</td>\n",
              "      <td></td>\n",
              "    </tr>\n",
              "    <tr>\n",
              "      <th>81</th>\n",
              "      <td></td>\n",
              "      <td></td>\n",
              "      <td>09/12/2021</td>\n",
              "      <td></td>\n",
              "      <td>Angine</td>\n",
              "      <td>angine</td>\n",
              "      <td></td>\n",
              "      <td></td>\n",
              "      <td>6fa427fc</td>\n",
              "      <td>validé</td>\n",
              "      <td></td>\n",
              "    </tr>\n",
              "    <tr>\n",
              "      <th>82</th>\n",
              "      <td></td>\n",
              "      <td></td>\n",
              "      <td>09/12/2021</td>\n",
              "      <td></td>\n",
              "      <td>Œdème</td>\n",
              "      <td>oedème</td>\n",
              "      <td></td>\n",
              "      <td></td>\n",
              "      <td>72f0e8db</td>\n",
              "      <td>validé</td>\n",
              "      <td></td>\n",
              "    </tr>\n",
              "    <tr>\n",
              "      <th>83</th>\n",
              "      <td>NaN</td>\n",
              "      <td></td>\n",
              "      <td>NaN</td>\n",
              "      <td>09/12/2021</td>\n",
              "      <td>NaN</td>\n",
              "      <td>Vous avez des allergies aux médicaments ?</td>\n",
              "      <td>NaN</td>\n",
              "      <td></td>\n",
              "      <td>52418</td>\n",
              "      <td>NaN</td>\n",
              "      <td>validé</td>\n",
              "    </tr>\n",
              "  </tbody>\n",
              "</table>\n",
              "<p>84 rows × 11 columns</p>\n",
              "</div>"
            ],
            "text/plain": [
              "   commentaires_x commentaires_y      date_x  ...       uid  état_x  état_y\n",
              "0                                 09/12/2021  ...  03bb6e86  validé        \n",
              "1                                 09/12/2021  ...  38a24ddb  validé        \n",
              "2                                 09/12/2021  ...  ba312208  validé        \n",
              "3                                 09/12/2021  ...  192bc4c8  validé        \n",
              "4                                 09/12/2021  ...  955f030c  validé        \n",
              "..            ...            ...         ...  ...       ...     ...     ...\n",
              "79                                09/12/2021  ...  af9faaa5  validé        \n",
              "80                                09/12/2021  ...  1ffe71ca  validé        \n",
              "81                                09/12/2021  ...  6fa427fc  validé        \n",
              "82                                09/12/2021  ...  72f0e8db  validé        \n",
              "83            NaN                        NaN  ...     52418     NaN  validé\n",
              "\n",
              "[84 rows x 11 columns]"
            ]
          },
          "metadata": {},
          "execution_count": 18
        }
      ]
    },
    {
      "cell_type": "code",
      "source": [
        "df_onglet"
      ],
      "metadata": {
        "colab": {
          "base_uri": "https://localhost:8080/",
          "height": 424
        },
        "id": "aMTChH1ajKB9",
        "outputId": "18e141d6-12a7-4e19-8581-39a36557948b"
      },
      "execution_count": 19,
      "outputs": [
        {
          "output_type": "execute_result",
          "data": {
            "text/html": [
              "<div>\n",
              "<style scoped>\n",
              "    .dataframe tbody tr th:only-of-type {\n",
              "        vertical-align: middle;\n",
              "    }\n",
              "\n",
              "    .dataframe tbody tr th {\n",
              "        vertical-align: top;\n",
              "    }\n",
              "\n",
              "    .dataframe thead th {\n",
              "        text-align: right;\n",
              "    }\n",
              "</style>\n",
              "<table border=\"1\" class=\"dataframe\">\n",
              "  <thead>\n",
              "    <tr style=\"text-align: right;\">\n",
              "      <th></th>\n",
              "      <th>uid</th>\n",
              "      <th>français</th>\n",
              "      <th>traduction</th>\n",
              "      <th>date</th>\n",
              "      <th>commentaires</th>\n",
              "      <th>état</th>\n",
              "    </tr>\n",
              "  </thead>\n",
              "  <tbody>\n",
              "    <tr>\n",
              "      <th>0</th>\n",
              "      <td>03bb6e86</td>\n",
              "      <td>Bonjour, comment vous appelez-vous ?</td>\n",
              "      <td>Merhaba isminiz  nedir ?</td>\n",
              "      <td></td>\n",
              "      <td></td>\n",
              "      <td></td>\n",
              "    </tr>\n",
              "    <tr>\n",
              "      <th>1</th>\n",
              "      <td>38a24ddb</td>\n",
              "      <td>Quel est le motif de votre visite ?</td>\n",
              "      <td>niçin burdasınız?</td>\n",
              "      <td></td>\n",
              "      <td></td>\n",
              "      <td></td>\n",
              "    </tr>\n",
              "    <tr>\n",
              "      <th>2</th>\n",
              "      <td>ba312208</td>\n",
              "      <td>Quel âge avez-vous ?</td>\n",
              "      <td>kaç yaşındasınız</td>\n",
              "      <td></td>\n",
              "      <td></td>\n",
              "      <td></td>\n",
              "    </tr>\n",
              "    <tr>\n",
              "      <th>3</th>\n",
              "      <td>192bc4c8</td>\n",
              "      <td>Vous venez de quel pays ?</td>\n",
              "      <td>hangi ûlkeden geliyorsunuz?</td>\n",
              "      <td></td>\n",
              "      <td></td>\n",
              "      <td></td>\n",
              "    </tr>\n",
              "    <tr>\n",
              "      <th>4</th>\n",
              "      <td>955f030c</td>\n",
              "      <td>Buvez-vous de l’alcool ?</td>\n",
              "      <td>alkol içiyormusunuz?</td>\n",
              "      <td></td>\n",
              "      <td></td>\n",
              "      <td></td>\n",
              "    </tr>\n",
              "    <tr>\n",
              "      <th>...</th>\n",
              "      <td>...</td>\n",
              "      <td>...</td>\n",
              "      <td>...</td>\n",
              "      <td>...</td>\n",
              "      <td>...</td>\n",
              "      <td>...</td>\n",
              "    </tr>\n",
              "    <tr>\n",
              "      <th>79</th>\n",
              "      <td>af9faaa5</td>\n",
              "      <td>Purulent</td>\n",
              "      <td>iltihaplı</td>\n",
              "      <td></td>\n",
              "      <td></td>\n",
              "      <td></td>\n",
              "    </tr>\n",
              "    <tr>\n",
              "      <th>80</th>\n",
              "      <td>1ffe71ca</td>\n",
              "      <td>Fatigue</td>\n",
              "      <td>yorgunluk</td>\n",
              "      <td></td>\n",
              "      <td></td>\n",
              "      <td></td>\n",
              "    </tr>\n",
              "    <tr>\n",
              "      <th>81</th>\n",
              "      <td>6fa427fc</td>\n",
              "      <td>angine</td>\n",
              "      <td></td>\n",
              "      <td></td>\n",
              "      <td></td>\n",
              "      <td></td>\n",
              "    </tr>\n",
              "    <tr>\n",
              "      <th>82</th>\n",
              "      <td>72f0e8db</td>\n",
              "      <td>oedème</td>\n",
              "      <td></td>\n",
              "      <td></td>\n",
              "      <td></td>\n",
              "      <td></td>\n",
              "    </tr>\n",
              "    <tr>\n",
              "      <th>83</th>\n",
              "      <td>52418</td>\n",
              "      <td>Vous avez des allergies aux médicaments ?</td>\n",
              "      <td></td>\n",
              "      <td>09/12/2021</td>\n",
              "      <td></td>\n",
              "      <td>validé</td>\n",
              "    </tr>\n",
              "  </tbody>\n",
              "</table>\n",
              "<p>84 rows × 6 columns</p>\n",
              "</div>"
            ],
            "text/plain": [
              "         uid                                   français  ... commentaires    état\n",
              "0   03bb6e86       Bonjour, comment vous appelez-vous ?  ...                     \n",
              "1   38a24ddb        Quel est le motif de votre visite ?  ...                     \n",
              "2   ba312208                       Quel âge avez-vous ?  ...                     \n",
              "3   192bc4c8                  Vous venez de quel pays ?  ...                     \n",
              "4   955f030c                   Buvez-vous de l’alcool ?  ...                     \n",
              "..       ...                                        ...  ...          ...     ...\n",
              "79  af9faaa5                                   Purulent  ...                     \n",
              "80  1ffe71ca                                    Fatigue  ...                     \n",
              "81  6fa427fc                                     angine  ...                     \n",
              "82  72f0e8db                                     oedème  ...                     \n",
              "83     52418  Vous avez des allergies aux médicaments ?  ...               validé\n",
              "\n",
              "[84 rows x 6 columns]"
            ]
          },
          "metadata": {},
          "execution_count": 19
        }
      ]
    },
    {
      "cell_type": "code",
      "source": [
        "new_df = df_onglet.merge(df_corpus, on='uid', how='left')\n",
        "new_df.drop(['français_x', 'date_x','commentaires_x','traduction_y','état_x'], axis=1, inplace=True)\n",
        "new_df.rename(columns={'traduction_x': 'traduction', 'français_y': 'français','date_y': 'date', 'commentaires_y': 'commentaires', 'état_y': 'état'})"
      ],
      "metadata": {
        "colab": {
          "base_uri": "https://localhost:8080/",
          "height": 424
        },
        "id": "OBKtDom_ho2D",
        "outputId": "be5046bc-d866-40c1-ca47-c0575709638c"
      },
      "execution_count": 22,
      "outputs": [
        {
          "output_type": "execute_result",
          "data": {
            "text/html": [
              "<div>\n",
              "<style scoped>\n",
              "    .dataframe tbody tr th:only-of-type {\n",
              "        vertical-align: middle;\n",
              "    }\n",
              "\n",
              "    .dataframe tbody tr th {\n",
              "        vertical-align: top;\n",
              "    }\n",
              "\n",
              "    .dataframe thead th {\n",
              "        text-align: right;\n",
              "    }\n",
              "</style>\n",
              "<table border=\"1\" class=\"dataframe\">\n",
              "  <thead>\n",
              "    <tr style=\"text-align: right;\">\n",
              "      <th></th>\n",
              "      <th>uid</th>\n",
              "      <th>traduction</th>\n",
              "      <th>français</th>\n",
              "      <th>date</th>\n",
              "      <th>commentaires</th>\n",
              "      <th>état</th>\n",
              "    </tr>\n",
              "  </thead>\n",
              "  <tbody>\n",
              "    <tr>\n",
              "      <th>0</th>\n",
              "      <td>03bb6e86</td>\n",
              "      <td>Merhaba isminiz  nedir ?</td>\n",
              "      <td>Bonjour, comment vous appelez-vous ?</td>\n",
              "      <td>09/12/2021</td>\n",
              "      <td></td>\n",
              "      <td>validé</td>\n",
              "    </tr>\n",
              "    <tr>\n",
              "      <th>1</th>\n",
              "      <td>38a24ddb</td>\n",
              "      <td>niçin burdasınız?</td>\n",
              "      <td>Quel est le motif de votre visite ?</td>\n",
              "      <td>09/12/2021</td>\n",
              "      <td></td>\n",
              "      <td>validé</td>\n",
              "    </tr>\n",
              "    <tr>\n",
              "      <th>2</th>\n",
              "      <td>ba312208</td>\n",
              "      <td>kaç yaşındasınız</td>\n",
              "      <td>Quel âge avez-vous ?</td>\n",
              "      <td>09/12/2021</td>\n",
              "      <td></td>\n",
              "      <td>validé</td>\n",
              "    </tr>\n",
              "    <tr>\n",
              "      <th>3</th>\n",
              "      <td>192bc4c8</td>\n",
              "      <td>hangi ûlkeden geliyorsunuz?</td>\n",
              "      <td>Vous venez de quel pays ?</td>\n",
              "      <td>09/12/2021</td>\n",
              "      <td></td>\n",
              "      <td>validé</td>\n",
              "    </tr>\n",
              "    <tr>\n",
              "      <th>4</th>\n",
              "      <td>955f030c</td>\n",
              "      <td>alkol içiyormusunuz?</td>\n",
              "      <td>Buvez-vous de l’alcool ?</td>\n",
              "      <td>09/12/2021</td>\n",
              "      <td></td>\n",
              "      <td>validé</td>\n",
              "    </tr>\n",
              "    <tr>\n",
              "      <th>...</th>\n",
              "      <td>...</td>\n",
              "      <td>...</td>\n",
              "      <td>...</td>\n",
              "      <td>...</td>\n",
              "      <td>...</td>\n",
              "      <td>...</td>\n",
              "    </tr>\n",
              "    <tr>\n",
              "      <th>79</th>\n",
              "      <td>af9faaa5</td>\n",
              "      <td>iltihaplı</td>\n",
              "      <td>Purulent</td>\n",
              "      <td>09/12/2021</td>\n",
              "      <td></td>\n",
              "      <td>validé</td>\n",
              "    </tr>\n",
              "    <tr>\n",
              "      <th>80</th>\n",
              "      <td>1ffe71ca</td>\n",
              "      <td>yorgunluk</td>\n",
              "      <td>Fatigue</td>\n",
              "      <td>09/12/2021</td>\n",
              "      <td></td>\n",
              "      <td>validé</td>\n",
              "    </tr>\n",
              "    <tr>\n",
              "      <th>81</th>\n",
              "      <td>6fa427fc</td>\n",
              "      <td></td>\n",
              "      <td>Angine</td>\n",
              "      <td>09/12/2021</td>\n",
              "      <td></td>\n",
              "      <td>validé</td>\n",
              "    </tr>\n",
              "    <tr>\n",
              "      <th>82</th>\n",
              "      <td>72f0e8db</td>\n",
              "      <td></td>\n",
              "      <td>Œdème</td>\n",
              "      <td>09/12/2021</td>\n",
              "      <td></td>\n",
              "      <td>validé</td>\n",
              "    </tr>\n",
              "    <tr>\n",
              "      <th>83</th>\n",
              "      <td>52418</td>\n",
              "      <td></td>\n",
              "      <td>NaN</td>\n",
              "      <td>NaN</td>\n",
              "      <td>NaN</td>\n",
              "      <td>NaN</td>\n",
              "    </tr>\n",
              "  </tbody>\n",
              "</table>\n",
              "<p>84 rows × 6 columns</p>\n",
              "</div>"
            ],
            "text/plain": [
              "         uid                   traduction  ... commentaires    état\n",
              "0   03bb6e86     Merhaba isminiz  nedir ?  ...               validé\n",
              "1   38a24ddb            niçin burdasınız?  ...               validé\n",
              "2   ba312208             kaç yaşındasınız  ...               validé\n",
              "3   192bc4c8  hangi ûlkeden geliyorsunuz?  ...               validé\n",
              "4   955f030c         alkol içiyormusunuz?  ...               validé\n",
              "..       ...                          ...  ...          ...     ...\n",
              "79  af9faaa5                    iltihaplı  ...               validé\n",
              "80  1ffe71ca                    yorgunluk  ...               validé\n",
              "81  6fa427fc                               ...               validé\n",
              "82  72f0e8db                               ...               validé\n",
              "83     52418                               ...          NaN     NaN\n",
              "\n",
              "[84 rows x 6 columns]"
            ]
          },
          "metadata": {},
          "execution_count": 22
        }
      ]
    },
    {
      "cell_type": "code",
      "source": [
        "df_onglet['français']="
      ],
      "metadata": {
        "colab": {
          "base_uri": "https://localhost:8080/",
          "height": 424
        },
        "id": "tNKTDlUWeT5H",
        "outputId": "918ab751-e866-4d69-e143-2de03e6c512b"
      },
      "execution_count": 16,
      "outputs": [
        {
          "output_type": "execute_result",
          "data": {
            "text/html": [
              "<div>\n",
              "<style scoped>\n",
              "    .dataframe tbody tr th:only-of-type {\n",
              "        vertical-align: middle;\n",
              "    }\n",
              "\n",
              "    .dataframe tbody tr th {\n",
              "        vertical-align: top;\n",
              "    }\n",
              "\n",
              "    .dataframe thead th {\n",
              "        text-align: right;\n",
              "    }\n",
              "</style>\n",
              "<table border=\"1\" class=\"dataframe\">\n",
              "  <thead>\n",
              "    <tr style=\"text-align: right;\">\n",
              "      <th></th>\n",
              "      <th>uid</th>\n",
              "      <th>français</th>\n",
              "      <th>traduction</th>\n",
              "      <th>date</th>\n",
              "      <th>commentaires</th>\n",
              "      <th>état</th>\n",
              "    </tr>\n",
              "  </thead>\n",
              "  <tbody>\n",
              "    <tr>\n",
              "      <th>0</th>\n",
              "      <td>03bb6e86</td>\n",
              "      <td>Bonjour, comment vous appelez-vous ?</td>\n",
              "      <td>Merhaba isminiz  nedir ?</td>\n",
              "      <td></td>\n",
              "      <td></td>\n",
              "      <td></td>\n",
              "    </tr>\n",
              "    <tr>\n",
              "      <th>1</th>\n",
              "      <td>38a24ddb</td>\n",
              "      <td>Quel est le motif de votre visite ?</td>\n",
              "      <td>niçin burdasınız?</td>\n",
              "      <td></td>\n",
              "      <td></td>\n",
              "      <td></td>\n",
              "    </tr>\n",
              "    <tr>\n",
              "      <th>2</th>\n",
              "      <td>ba312208</td>\n",
              "      <td>Quel âge avez-vous ?</td>\n",
              "      <td>kaç yaşındasınız</td>\n",
              "      <td></td>\n",
              "      <td></td>\n",
              "      <td></td>\n",
              "    </tr>\n",
              "    <tr>\n",
              "      <th>3</th>\n",
              "      <td>192bc4c8</td>\n",
              "      <td>Vous venez de quel pays ?</td>\n",
              "      <td>hangi ûlkeden geliyorsunuz?</td>\n",
              "      <td></td>\n",
              "      <td></td>\n",
              "      <td></td>\n",
              "    </tr>\n",
              "    <tr>\n",
              "      <th>4</th>\n",
              "      <td>955f030c</td>\n",
              "      <td>Buvez-vous de l’alcool ?</td>\n",
              "      <td>alkol içiyormusunuz?</td>\n",
              "      <td></td>\n",
              "      <td></td>\n",
              "      <td></td>\n",
              "    </tr>\n",
              "    <tr>\n",
              "      <th>...</th>\n",
              "      <td>...</td>\n",
              "      <td>...</td>\n",
              "      <td>...</td>\n",
              "      <td>...</td>\n",
              "      <td>...</td>\n",
              "      <td>...</td>\n",
              "    </tr>\n",
              "    <tr>\n",
              "      <th>79</th>\n",
              "      <td>af9faaa5</td>\n",
              "      <td>Purulent</td>\n",
              "      <td>iltihaplı</td>\n",
              "      <td></td>\n",
              "      <td></td>\n",
              "      <td></td>\n",
              "    </tr>\n",
              "    <tr>\n",
              "      <th>80</th>\n",
              "      <td>1ffe71ca</td>\n",
              "      <td>Fatigue</td>\n",
              "      <td>yorgunluk</td>\n",
              "      <td></td>\n",
              "      <td></td>\n",
              "      <td></td>\n",
              "    </tr>\n",
              "    <tr>\n",
              "      <th>81</th>\n",
              "      <td>6fa427fc</td>\n",
              "      <td>angine</td>\n",
              "      <td></td>\n",
              "      <td></td>\n",
              "      <td></td>\n",
              "      <td></td>\n",
              "    </tr>\n",
              "    <tr>\n",
              "      <th>82</th>\n",
              "      <td>72f0e8db</td>\n",
              "      <td>oedème</td>\n",
              "      <td></td>\n",
              "      <td></td>\n",
              "      <td></td>\n",
              "      <td></td>\n",
              "    </tr>\n",
              "    <tr>\n",
              "      <th>83</th>\n",
              "      <td>52418</td>\n",
              "      <td>Vous avez des allergies aux médicaments ?</td>\n",
              "      <td></td>\n",
              "      <td>09/12/2021</td>\n",
              "      <td></td>\n",
              "      <td>validé</td>\n",
              "    </tr>\n",
              "  </tbody>\n",
              "</table>\n",
              "<p>84 rows × 6 columns</p>\n",
              "</div>"
            ],
            "text/plain": [
              "         uid                                   français  ... commentaires    état\n",
              "0   03bb6e86       Bonjour, comment vous appelez-vous ?  ...                     \n",
              "1   38a24ddb        Quel est le motif de votre visite ?  ...                     \n",
              "2   ba312208                       Quel âge avez-vous ?  ...                     \n",
              "3   192bc4c8                  Vous venez de quel pays ?  ...                     \n",
              "4   955f030c                   Buvez-vous de l’alcool ?  ...                     \n",
              "..       ...                                        ...  ...          ...     ...\n",
              "79  af9faaa5                                   Purulent  ...                     \n",
              "80  1ffe71ca                                    Fatigue  ...                     \n",
              "81  6fa427fc                                     angine  ...                     \n",
              "82  72f0e8db                                     oedème  ...                     \n",
              "83     52418  Vous avez des allergies aux médicaments ?  ...               validé\n",
              "\n",
              "[84 rows x 6 columns]"
            ]
          },
          "metadata": {},
          "execution_count": 16
        }
      ]
    },
    {
      "cell_type": "code",
      "source": [
        ""
      ],
      "metadata": {
        "id": "4oWgX2xUf0X8"
      },
      "execution_count": null,
      "outputs": []
    }
  ]
}