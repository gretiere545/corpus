{
  "nbformat": 4,
  "nbformat_minor": 0,
  "metadata": {
    "colab": {
      "name": "corpus_sync_airtable.ipynb",
      "provenance": [],
      "collapsed_sections": [],
      "authorship_tag": "ABX9TyP8hfNc5gy0+R94zEM5R0ma",
      "include_colab_link": true
    },
    "kernelspec": {
      "name": "python3",
      "display_name": "Python 3"
    },
    "language_info": {
      "name": "python"
    }
  },
  "cells": [
    {
      "cell_type": "markdown",
      "metadata": {
        "id": "view-in-github",
        "colab_type": "text"
      },
      "source": [
        "<a href=\"https://colab.research.google.com/github/gretiere545/corpus/blob/main/corpus_sync_airtable.ipynb\" target=\"_parent\"><img src=\"https://colab.research.google.com/assets/colab-badge.svg\" alt=\"Open In Colab\"/></a>"
      ]
    },
    {
      "cell_type": "markdown",
      "metadata": {
        "id": "FB29HktrvvBJ"
      },
      "source": [
        "# Corpus Airtable API"
      ]
    },
    {
      "cell_type": "code",
      "metadata": {
        "colab": {
          "base_uri": "https://localhost:8080/"
        },
        "id": "_5CoZ3ORv3Bh",
        "outputId": "5eeefd74-e82a-4dd5-8fde-ebc6eaee97a1"
      },
      "source": [
        "#!/usr/bin/env python\n",
        "# -*- coding: utf8 -*-\n",
        "!pip install gspread --upgrade\n",
        "# fix here => https://stackoverflow.com/questions/71347973/modulenotfounderror-no-module-named-gspread-models\n",
        "!pip uninstall gspread-dataframe\n",
        "!pip install gspread-dataframe\n",
        "!pip install gspread-formatting\n",
        "!pip install airtable-python-wrapper\n",
        "import pandas as pd\n",
        "import numpy as np\n",
        "import requests\n",
        "import json\n",
        "import uuid\n",
        "from datetime import datetime\n",
        "import datetime\n",
        "pd.set_option(\"display.width\",1000)\n",
        "# Ce bout de code pour pouvoir downloader des fichiers sur le drive\n",
        "from google.colab import drive\n",
        "drive.mount('/content/drive')\n",
        "%cd /content/drive/MyDrive/Trad-Union/Corpus/ASAMLA\n",
        "from google.colab import files\n",
        "\n",
        "# Ce bout de code pour pouvoir downloader des google sheets dans des dataframes\n",
        "from google.colab import auth\n",
        "auth.authenticate_user()\n",
        "import gspread\n",
        "from gspread_dataframe import get_as_dataframe, set_with_dataframe\n",
        "from gspread_formatting import *\n",
        "from oauth2client.client import GoogleCredentials\n",
        "# fix here => https://github.com/burnash/gspread/issues/1014\n",
        "from google.auth import default\n",
        "creds, _ = default()\n",
        "gc = gspread.authorize(creds)\n",
        "#gc = gspread.authorize(GoogleCredentials.get_application_default())\n",
        "from airtable import Airtable\n",
        "\n",
        "!pip install txtai[pipeline]\n",
        "!pip install sacremoses\n",
        "from txtai.pipeline import Translation\n",
        "translate = Translation()\n",
        "\n",
        "!pip install -U deep-translator\n",
        "\n",
        "!export PYTHONIOENCODING=utf8\n"
      ],
      "execution_count": 1,
      "outputs": [
        {
          "output_type": "stream",
          "name": "stdout",
          "text": [
            "Looking in indexes: https://pypi.org/simple, https://us-python.pkg.dev/colab-wheels/public/simple/\n",
            "Requirement already satisfied: gspread in /usr/local/lib/python3.7/dist-packages (5.4.0)\n",
            "Requirement already satisfied: google-auth-oauthlib>=0.4.1 in /usr/local/lib/python3.7/dist-packages (from gspread) (0.4.6)\n",
            "Requirement already satisfied: google-auth>=1.12.0 in /usr/local/lib/python3.7/dist-packages (from gspread) (1.35.0)\n",
            "Requirement already satisfied: pyasn1-modules>=0.2.1 in /usr/local/lib/python3.7/dist-packages (from google-auth>=1.12.0->gspread) (0.2.8)\n",
            "Requirement already satisfied: six>=1.9.0 in /usr/local/lib/python3.7/dist-packages (from google-auth>=1.12.0->gspread) (1.15.0)\n",
            "Requirement already satisfied: cachetools<5.0,>=2.0.0 in /usr/local/lib/python3.7/dist-packages (from google-auth>=1.12.0->gspread) (4.2.4)\n",
            "Requirement already satisfied: setuptools>=40.3.0 in /usr/local/lib/python3.7/dist-packages (from google-auth>=1.12.0->gspread) (57.4.0)\n",
            "Requirement already satisfied: rsa<5,>=3.1.4 in /usr/local/lib/python3.7/dist-packages (from google-auth>=1.12.0->gspread) (4.8)\n",
            "Requirement already satisfied: requests-oauthlib>=0.7.0 in /usr/local/lib/python3.7/dist-packages (from google-auth-oauthlib>=0.4.1->gspread) (1.3.1)\n",
            "Requirement already satisfied: pyasn1<0.5.0,>=0.4.6 in /usr/local/lib/python3.7/dist-packages (from pyasn1-modules>=0.2.1->google-auth>=1.12.0->gspread) (0.4.8)\n",
            "Requirement already satisfied: oauthlib>=3.0.0 in /usr/local/lib/python3.7/dist-packages (from requests-oauthlib>=0.7.0->google-auth-oauthlib>=0.4.1->gspread) (3.2.0)\n",
            "Requirement already satisfied: requests>=2.0.0 in /usr/local/lib/python3.7/dist-packages (from requests-oauthlib>=0.7.0->google-auth-oauthlib>=0.4.1->gspread) (2.23.0)\n",
            "Requirement already satisfied: certifi>=2017.4.17 in /usr/local/lib/python3.7/dist-packages (from requests>=2.0.0->requests-oauthlib>=0.7.0->google-auth-oauthlib>=0.4.1->gspread) (2022.5.18.1)\n",
            "Requirement already satisfied: urllib3!=1.25.0,!=1.25.1,<1.26,>=1.21.1 in /usr/local/lib/python3.7/dist-packages (from requests>=2.0.0->requests-oauthlib>=0.7.0->google-auth-oauthlib>=0.4.1->gspread) (1.24.3)\n",
            "Requirement already satisfied: chardet<4,>=3.0.2 in /usr/local/lib/python3.7/dist-packages (from requests>=2.0.0->requests-oauthlib>=0.7.0->google-auth-oauthlib>=0.4.1->gspread) (3.0.4)\n",
            "Requirement already satisfied: idna<3,>=2.5 in /usr/local/lib/python3.7/dist-packages (from requests>=2.0.0->requests-oauthlib>=0.7.0->google-auth-oauthlib>=0.4.1->gspread) (2.10)\n",
            "Found existing installation: gspread-dataframe 3.3.0\n",
            "Uninstalling gspread-dataframe-3.3.0:\n",
            "  Would remove:\n",
            "    /usr/local/lib/python3.7/dist-packages/gspread_dataframe-3.3.0.dist-info/*\n",
            "    /usr/local/lib/python3.7/dist-packages/gspread_dataframe.py\n",
            "Proceed (y/n)? y\n",
            "  Successfully uninstalled gspread-dataframe-3.3.0\n",
            "Looking in indexes: https://pypi.org/simple, https://us-python.pkg.dev/colab-wheels/public/simple/\n",
            "Collecting gspread-dataframe\n",
            "  Using cached gspread_dataframe-3.3.0-py2.py3-none-any.whl (7.9 kB)\n",
            "Requirement already satisfied: six>=1.12.0 in /usr/local/lib/python3.7/dist-packages (from gspread-dataframe) (1.15.0)\n",
            "Requirement already satisfied: gspread>=3.0.0 in /usr/local/lib/python3.7/dist-packages (from gspread-dataframe) (5.4.0)\n",
            "Requirement already satisfied: pandas>=0.24.0 in /usr/local/lib/python3.7/dist-packages (from gspread-dataframe) (1.3.5)\n",
            "Requirement already satisfied: google-auth-oauthlib>=0.4.1 in /usr/local/lib/python3.7/dist-packages (from gspread>=3.0.0->gspread-dataframe) (0.4.6)\n",
            "Requirement already satisfied: google-auth>=1.12.0 in /usr/local/lib/python3.7/dist-packages (from gspread>=3.0.0->gspread-dataframe) (1.35.0)\n",
            "Requirement already satisfied: rsa<5,>=3.1.4 in /usr/local/lib/python3.7/dist-packages (from google-auth>=1.12.0->gspread>=3.0.0->gspread-dataframe) (4.8)\n",
            "Requirement already satisfied: setuptools>=40.3.0 in /usr/local/lib/python3.7/dist-packages (from google-auth>=1.12.0->gspread>=3.0.0->gspread-dataframe) (57.4.0)\n",
            "Requirement already satisfied: pyasn1-modules>=0.2.1 in /usr/local/lib/python3.7/dist-packages (from google-auth>=1.12.0->gspread>=3.0.0->gspread-dataframe) (0.2.8)\n",
            "Requirement already satisfied: cachetools<5.0,>=2.0.0 in /usr/local/lib/python3.7/dist-packages (from google-auth>=1.12.0->gspread>=3.0.0->gspread-dataframe) (4.2.4)\n",
            "Requirement already satisfied: requests-oauthlib>=0.7.0 in /usr/local/lib/python3.7/dist-packages (from google-auth-oauthlib>=0.4.1->gspread>=3.0.0->gspread-dataframe) (1.3.1)\n",
            "Requirement already satisfied: numpy>=1.17.3 in /usr/local/lib/python3.7/dist-packages (from pandas>=0.24.0->gspread-dataframe) (1.21.6)\n",
            "Requirement already satisfied: python-dateutil>=2.7.3 in /usr/local/lib/python3.7/dist-packages (from pandas>=0.24.0->gspread-dataframe) (2.8.2)\n",
            "Requirement already satisfied: pytz>=2017.3 in /usr/local/lib/python3.7/dist-packages (from pandas>=0.24.0->gspread-dataframe) (2022.1)\n",
            "Requirement already satisfied: pyasn1<0.5.0,>=0.4.6 in /usr/local/lib/python3.7/dist-packages (from pyasn1-modules>=0.2.1->google-auth>=1.12.0->gspread>=3.0.0->gspread-dataframe) (0.4.8)\n",
            "Requirement already satisfied: requests>=2.0.0 in /usr/local/lib/python3.7/dist-packages (from requests-oauthlib>=0.7.0->google-auth-oauthlib>=0.4.1->gspread>=3.0.0->gspread-dataframe) (2.23.0)\n",
            "Requirement already satisfied: oauthlib>=3.0.0 in /usr/local/lib/python3.7/dist-packages (from requests-oauthlib>=0.7.0->google-auth-oauthlib>=0.4.1->gspread>=3.0.0->gspread-dataframe) (3.2.0)\n",
            "Requirement already satisfied: certifi>=2017.4.17 in /usr/local/lib/python3.7/dist-packages (from requests>=2.0.0->requests-oauthlib>=0.7.0->google-auth-oauthlib>=0.4.1->gspread>=3.0.0->gspread-dataframe) (2022.5.18.1)\n",
            "Requirement already satisfied: urllib3!=1.25.0,!=1.25.1,<1.26,>=1.21.1 in /usr/local/lib/python3.7/dist-packages (from requests>=2.0.0->requests-oauthlib>=0.7.0->google-auth-oauthlib>=0.4.1->gspread>=3.0.0->gspread-dataframe) (1.24.3)\n",
            "Requirement already satisfied: chardet<4,>=3.0.2 in /usr/local/lib/python3.7/dist-packages (from requests>=2.0.0->requests-oauthlib>=0.7.0->google-auth-oauthlib>=0.4.1->gspread>=3.0.0->gspread-dataframe) (3.0.4)\n",
            "Requirement already satisfied: idna<3,>=2.5 in /usr/local/lib/python3.7/dist-packages (from requests>=2.0.0->requests-oauthlib>=0.7.0->google-auth-oauthlib>=0.4.1->gspread>=3.0.0->gspread-dataframe) (2.10)\n",
            "Installing collected packages: gspread-dataframe\n",
            "Successfully installed gspread-dataframe-3.3.0\n",
            "Looking in indexes: https://pypi.org/simple, https://us-python.pkg.dev/colab-wheels/public/simple/\n",
            "Requirement already satisfied: gspread-formatting in /usr/local/lib/python3.7/dist-packages (1.0.6)\n",
            "Requirement already satisfied: gspread>=3.0.0 in /usr/local/lib/python3.7/dist-packages (from gspread-formatting) (5.4.0)\n",
            "Requirement already satisfied: google-auth>=1.12.0 in /usr/local/lib/python3.7/dist-packages (from gspread>=3.0.0->gspread-formatting) (1.35.0)\n",
            "Requirement already satisfied: google-auth-oauthlib>=0.4.1 in /usr/local/lib/python3.7/dist-packages (from gspread>=3.0.0->gspread-formatting) (0.4.6)\n",
            "Requirement already satisfied: six>=1.9.0 in /usr/local/lib/python3.7/dist-packages (from google-auth>=1.12.0->gspread>=3.0.0->gspread-formatting) (1.15.0)\n",
            "Requirement already satisfied: pyasn1-modules>=0.2.1 in /usr/local/lib/python3.7/dist-packages (from google-auth>=1.12.0->gspread>=3.0.0->gspread-formatting) (0.2.8)\n",
            "Requirement already satisfied: cachetools<5.0,>=2.0.0 in /usr/local/lib/python3.7/dist-packages (from google-auth>=1.12.0->gspread>=3.0.0->gspread-formatting) (4.2.4)\n",
            "Requirement already satisfied: rsa<5,>=3.1.4 in /usr/local/lib/python3.7/dist-packages (from google-auth>=1.12.0->gspread>=3.0.0->gspread-formatting) (4.8)\n",
            "Requirement already satisfied: setuptools>=40.3.0 in /usr/local/lib/python3.7/dist-packages (from google-auth>=1.12.0->gspread>=3.0.0->gspread-formatting) (57.4.0)\n",
            "Requirement already satisfied: requests-oauthlib>=0.7.0 in /usr/local/lib/python3.7/dist-packages (from google-auth-oauthlib>=0.4.1->gspread>=3.0.0->gspread-formatting) (1.3.1)\n",
            "Requirement already satisfied: pyasn1<0.5.0,>=0.4.6 in /usr/local/lib/python3.7/dist-packages (from pyasn1-modules>=0.2.1->google-auth>=1.12.0->gspread>=3.0.0->gspread-formatting) (0.4.8)\n",
            "Requirement already satisfied: oauthlib>=3.0.0 in /usr/local/lib/python3.7/dist-packages (from requests-oauthlib>=0.7.0->google-auth-oauthlib>=0.4.1->gspread>=3.0.0->gspread-formatting) (3.2.0)\n",
            "Requirement already satisfied: requests>=2.0.0 in /usr/local/lib/python3.7/dist-packages (from requests-oauthlib>=0.7.0->google-auth-oauthlib>=0.4.1->gspread>=3.0.0->gspread-formatting) (2.23.0)\n",
            "Requirement already satisfied: certifi>=2017.4.17 in /usr/local/lib/python3.7/dist-packages (from requests>=2.0.0->requests-oauthlib>=0.7.0->google-auth-oauthlib>=0.4.1->gspread>=3.0.0->gspread-formatting) (2022.5.18.1)\n",
            "Requirement already satisfied: idna<3,>=2.5 in /usr/local/lib/python3.7/dist-packages (from requests>=2.0.0->requests-oauthlib>=0.7.0->google-auth-oauthlib>=0.4.1->gspread>=3.0.0->gspread-formatting) (2.10)\n",
            "Requirement already satisfied: chardet<4,>=3.0.2 in /usr/local/lib/python3.7/dist-packages (from requests>=2.0.0->requests-oauthlib>=0.7.0->google-auth-oauthlib>=0.4.1->gspread>=3.0.0->gspread-formatting) (3.0.4)\n",
            "Requirement already satisfied: urllib3!=1.25.0,!=1.25.1,<1.26,>=1.21.1 in /usr/local/lib/python3.7/dist-packages (from requests>=2.0.0->requests-oauthlib>=0.7.0->google-auth-oauthlib>=0.4.1->gspread>=3.0.0->gspread-formatting) (1.24.3)\n",
            "Looking in indexes: https://pypi.org/simple, https://us-python.pkg.dev/colab-wheels/public/simple/\n",
            "Requirement already satisfied: airtable-python-wrapper in /usr/local/lib/python3.7/dist-packages (0.15.3)\n",
            "Requirement already satisfied: requests>=2 in /usr/local/lib/python3.7/dist-packages (from airtable-python-wrapper) (2.23.0)\n",
            "Requirement already satisfied: idna<3,>=2.5 in /usr/local/lib/python3.7/dist-packages (from requests>=2->airtable-python-wrapper) (2.10)\n",
            "Requirement already satisfied: chardet<4,>=3.0.2 in /usr/local/lib/python3.7/dist-packages (from requests>=2->airtable-python-wrapper) (3.0.4)\n",
            "Requirement already satisfied: certifi>=2017.4.17 in /usr/local/lib/python3.7/dist-packages (from requests>=2->airtable-python-wrapper) (2022.5.18.1)\n",
            "Requirement already satisfied: urllib3!=1.25.0,!=1.25.1,<1.26,>=1.21.1 in /usr/local/lib/python3.7/dist-packages (from requests>=2->airtable-python-wrapper) (1.24.3)\n",
            "Drive already mounted at /content/drive; to attempt to forcibly remount, call drive.mount(\"/content/drive\", force_remount=True).\n",
            "/content/drive/MyDrive/Trad-Union/Corpus/ASAMLA\n",
            "Looking in indexes: https://pypi.org/simple, https://us-python.pkg.dev/colab-wheels/public/simple/\n",
            "Requirement already satisfied: txtai[pipeline] in /usr/local/lib/python3.7/dist-packages (4.5.0)\n",
            "Requirement already satisfied: torch>=1.6.0 in /usr/local/lib/python3.7/dist-packages (from txtai[pipeline]) (1.11.0+cu113)\n",
            "Requirement already satisfied: transformers>=4.12.3 in /usr/local/lib/python3.7/dist-packages (from txtai[pipeline]) (4.19.2)\n",
            "Requirement already satisfied: tokenizers>=0.10.3 in /usr/local/lib/python3.7/dist-packages (from txtai[pipeline]) (0.12.1)\n",
            "Requirement already satisfied: pyyaml>=5.3 in /usr/local/lib/python3.7/dist-packages (from txtai[pipeline]) (6.0)\n",
            "Requirement already satisfied: faiss-cpu>=1.7.1.post2 in /usr/local/lib/python3.7/dist-packages (from txtai[pipeline]) (1.7.2)\n",
            "Requirement already satisfied: numpy>=1.18.4 in /usr/local/lib/python3.7/dist-packages (from txtai[pipeline]) (1.21.6)\n",
            "Requirement already satisfied: onnxruntime>=1.8.1 in /usr/local/lib/python3.7/dist-packages (from txtai[pipeline]) (1.11.1)\n",
            "Requirement already satisfied: fasttext>=0.9.2 in /usr/local/lib/python3.7/dist-packages (from txtai[pipeline]) (0.9.2)\n",
            "Requirement already satisfied: soundfile>=0.10.3.post1 in /usr/local/lib/python3.7/dist-packages (from txtai[pipeline]) (0.10.3.post1)\n",
            "Requirement already satisfied: tika>=1.24 in /usr/local/lib/python3.7/dist-packages (from txtai[pipeline]) (1.24)\n",
            "Requirement already satisfied: timm>=0.4.12 in /usr/local/lib/python3.7/dist-packages (from txtai[pipeline]) (0.5.4)\n",
            "Requirement already satisfied: onnxmltools>=1.9.1 in /usr/local/lib/python3.7/dist-packages (from txtai[pipeline]) (1.11.0)\n",
            "Requirement already satisfied: beautifulsoup4>=4.9.3 in /usr/local/lib/python3.7/dist-packages (from txtai[pipeline]) (4.11.1)\n",
            "Requirement already satisfied: sentencepiece>=0.1.91 in /usr/local/lib/python3.7/dist-packages (from txtai[pipeline]) (0.1.96)\n",
            "Requirement already satisfied: pillow>=9.0.1 in /usr/local/lib/python3.7/dist-packages (from txtai[pipeline]) (9.1.1)\n",
            "Requirement already satisfied: onnx>=1.10.1 in /usr/local/lib/python3.7/dist-packages (from txtai[pipeline]) (1.11.0)\n",
            "Requirement already satisfied: pandas>=1.1.0 in /usr/local/lib/python3.7/dist-packages (from txtai[pipeline]) (1.3.5)\n",
            "Requirement already satisfied: imagehash>=4.2.1 in /usr/local/lib/python3.7/dist-packages (from txtai[pipeline]) (4.2.1)\n",
            "Requirement already satisfied: nltk>=3.5 in /usr/local/lib/python3.7/dist-packages (from txtai[pipeline]) (3.7)\n",
            "Requirement already satisfied: soupsieve>1.2 in /usr/local/lib/python3.7/dist-packages (from beautifulsoup4>=4.9.3->txtai[pipeline]) (2.3.2.post1)\n",
            "Requirement already satisfied: setuptools>=0.7.0 in /usr/local/lib/python3.7/dist-packages (from fasttext>=0.9.2->txtai[pipeline]) (57.4.0)\n",
            "Requirement already satisfied: pybind11>=2.2 in /usr/local/lib/python3.7/dist-packages (from fasttext>=0.9.2->txtai[pipeline]) (2.9.2)\n",
            "Requirement already satisfied: six in /usr/local/lib/python3.7/dist-packages (from imagehash>=4.2.1->txtai[pipeline]) (1.15.0)\n",
            "Requirement already satisfied: PyWavelets in /usr/local/lib/python3.7/dist-packages (from imagehash>=4.2.1->txtai[pipeline]) (1.3.0)\n",
            "Requirement already satisfied: scipy in /usr/local/lib/python3.7/dist-packages (from imagehash>=4.2.1->txtai[pipeline]) (1.4.1)\n",
            "Requirement already satisfied: click in /usr/local/lib/python3.7/dist-packages (from nltk>=3.5->txtai[pipeline]) (7.1.2)\n",
            "Requirement already satisfied: tqdm in /usr/local/lib/python3.7/dist-packages (from nltk>=3.5->txtai[pipeline]) (4.64.0)\n",
            "Requirement already satisfied: regex>=2021.8.3 in /usr/local/lib/python3.7/dist-packages (from nltk>=3.5->txtai[pipeline]) (2022.4.24)\n",
            "Requirement already satisfied: joblib in /usr/local/lib/python3.7/dist-packages (from nltk>=3.5->txtai[pipeline]) (1.1.0)\n",
            "Requirement already satisfied: typing-extensions>=3.6.2.1 in /usr/local/lib/python3.7/dist-packages (from onnx>=1.10.1->txtai[pipeline]) (4.2.0)\n",
            "Requirement already satisfied: protobuf>=3.12.2 in /usr/local/lib/python3.7/dist-packages (from onnx>=1.10.1->txtai[pipeline]) (3.17.3)\n",
            "Requirement already satisfied: skl2onnx in /usr/local/lib/python3.7/dist-packages (from onnxmltools>=1.9.1->txtai[pipeline]) (1.11.2)\n",
            "Requirement already satisfied: flatbuffers in /usr/local/lib/python3.7/dist-packages (from onnxruntime>=1.8.1->txtai[pipeline]) (2.0)\n",
            "Requirement already satisfied: pytz>=2017.3 in /usr/local/lib/python3.7/dist-packages (from pandas>=1.1.0->txtai[pipeline]) (2022.1)\n",
            "Requirement already satisfied: python-dateutil>=2.7.3 in /usr/local/lib/python3.7/dist-packages (from pandas>=1.1.0->txtai[pipeline]) (2.8.2)\n",
            "Requirement already satisfied: cffi>=1.0 in /usr/local/lib/python3.7/dist-packages (from soundfile>=0.10.3.post1->txtai[pipeline]) (1.15.0)\n",
            "Requirement already satisfied: pycparser in /usr/local/lib/python3.7/dist-packages (from cffi>=1.0->soundfile>=0.10.3.post1->txtai[pipeline]) (2.21)\n",
            "Requirement already satisfied: requests in /usr/local/lib/python3.7/dist-packages (from tika>=1.24->txtai[pipeline]) (2.23.0)\n",
            "Requirement already satisfied: torchvision in /usr/local/lib/python3.7/dist-packages (from timm>=0.4.12->txtai[pipeline]) (0.12.0+cu113)\n",
            "Requirement already satisfied: filelock in /usr/local/lib/python3.7/dist-packages (from transformers>=4.12.3->txtai[pipeline]) (3.7.0)\n",
            "Requirement already satisfied: huggingface-hub<1.0,>=0.1.0 in /usr/local/lib/python3.7/dist-packages (from transformers>=4.12.3->txtai[pipeline]) (0.7.0)\n",
            "Requirement already satisfied: packaging>=20.0 in /usr/local/lib/python3.7/dist-packages (from transformers>=4.12.3->txtai[pipeline]) (21.3)\n",
            "Requirement already satisfied: importlib-metadata in /usr/local/lib/python3.7/dist-packages (from transformers>=4.12.3->txtai[pipeline]) (4.11.4)\n",
            "Requirement already satisfied: pyparsing!=3.0.5,>=2.0.2 in /usr/local/lib/python3.7/dist-packages (from packaging>=20.0->transformers>=4.12.3->txtai[pipeline]) (3.0.9)\n",
            "Requirement already satisfied: zipp>=0.5 in /usr/local/lib/python3.7/dist-packages (from importlib-metadata->transformers>=4.12.3->txtai[pipeline]) (3.8.0)\n",
            "Requirement already satisfied: idna<3,>=2.5 in /usr/local/lib/python3.7/dist-packages (from requests->tika>=1.24->txtai[pipeline]) (2.10)\n",
            "Requirement already satisfied: urllib3!=1.25.0,!=1.25.1,<1.26,>=1.21.1 in /usr/local/lib/python3.7/dist-packages (from requests->tika>=1.24->txtai[pipeline]) (1.24.3)\n",
            "Requirement already satisfied: certifi>=2017.4.17 in /usr/local/lib/python3.7/dist-packages (from requests->tika>=1.24->txtai[pipeline]) (2022.5.18.1)\n",
            "Requirement already satisfied: chardet<4,>=3.0.2 in /usr/local/lib/python3.7/dist-packages (from requests->tika>=1.24->txtai[pipeline]) (3.0.4)\n",
            "Requirement already satisfied: onnxconverter-common>=1.7.0 in /usr/local/lib/python3.7/dist-packages (from skl2onnx->onnxmltools>=1.9.1->txtai[pipeline]) (1.9.0)\n",
            "Requirement already satisfied: scikit-learn>=0.19 in /usr/local/lib/python3.7/dist-packages (from skl2onnx->onnxmltools>=1.9.1->txtai[pipeline]) (1.0.2)\n",
            "Requirement already satisfied: threadpoolctl>=2.0.0 in /usr/local/lib/python3.7/dist-packages (from scikit-learn>=0.19->skl2onnx->onnxmltools>=1.9.1->txtai[pipeline]) (3.1.0)\n",
            "Looking in indexes: https://pypi.org/simple, https://us-python.pkg.dev/colab-wheels/public/simple/\n",
            "Requirement already satisfied: sacremoses in /usr/local/lib/python3.7/dist-packages (0.0.53)\n",
            "Requirement already satisfied: click in /usr/local/lib/python3.7/dist-packages (from sacremoses) (7.1.2)\n",
            "Requirement already satisfied: tqdm in /usr/local/lib/python3.7/dist-packages (from sacremoses) (4.64.0)\n",
            "Requirement already satisfied: regex in /usr/local/lib/python3.7/dist-packages (from sacremoses) (2022.4.24)\n",
            "Requirement already satisfied: joblib in /usr/local/lib/python3.7/dist-packages (from sacremoses) (1.1.0)\n",
            "Requirement already satisfied: six in /usr/local/lib/python3.7/dist-packages (from sacremoses) (1.15.0)\n",
            "Looking in indexes: https://pypi.org/simple, https://us-python.pkg.dev/colab-wheels/public/simple/\n",
            "Collecting deep-translator\n",
            "  Downloading deep_translator-1.8.3-py3-none-any.whl (29 kB)\n",
            "Requirement already satisfied: beautifulsoup4<5.0.0,>=4.9.1 in /usr/local/lib/python3.7/dist-packages (from deep-translator) (4.11.1)\n",
            "Requirement already satisfied: requests<3.0.0,>=2.23.0 in /usr/local/lib/python3.7/dist-packages (from deep-translator) (2.23.0)\n",
            "Requirement already satisfied: soupsieve>1.2 in /usr/local/lib/python3.7/dist-packages (from beautifulsoup4<5.0.0,>=4.9.1->deep-translator) (2.3.2.post1)\n",
            "Requirement already satisfied: certifi>=2017.4.17 in /usr/local/lib/python3.7/dist-packages (from requests<3.0.0,>=2.23.0->deep-translator) (2022.5.18.1)\n",
            "Requirement already satisfied: urllib3!=1.25.0,!=1.25.1,<1.26,>=1.21.1 in /usr/local/lib/python3.7/dist-packages (from requests<3.0.0,>=2.23.0->deep-translator) (1.24.3)\n",
            "Requirement already satisfied: chardet<4,>=3.0.2 in /usr/local/lib/python3.7/dist-packages (from requests<3.0.0,>=2.23.0->deep-translator) (3.0.4)\n",
            "Requirement already satisfied: idna<3,>=2.5 in /usr/local/lib/python3.7/dist-packages (from requests<3.0.0,>=2.23.0->deep-translator) (2.10)\n",
            "Installing collected packages: deep-translator\n",
            "Successfully installed deep-translator-1.8.3\n"
          ]
        }
      ]
    },
    {
      "cell_type": "markdown",
      "metadata": {
        "id": "OoQvIFW_zGec"
      },
      "source": [
        ""
      ]
    },
    {
      "cell_type": "code",
      "source": [
        "iso_codes = {\"ams\": \"ar\",\n",
        "            \"rus\": \"ru\",\n",
        "            \"ukr\": \"uk\",\n",
        "            \"rou\": \"ro\",\n",
        "            \"alb\": \"sq\",\n",
        "            \"eng\": \"en\",\n",
        "            \"tur\": \"tr\",\n",
        "            \"tig\": \"ti\",\n",
        "            \"geo\": \"ka\",\n",
        "            \"arm\": \"hy\",\n",
        "            \"dar\": \"fa\",\n",
        "            \"prs\": \"fa\",\n",
        "            \"pst\": \"ps\",\n",
        "            \"esp\": \"es\",\n",
        "            \"pol\": \"pl\",\n",
        "            \"som\": \"so\",\n",
        "            \"amh\": \"am\",\n",
        "            \"all\": \"de\",\n",
        "            \"hun\": \"hu\" }"
      ],
      "metadata": {
        "id": "9uerzglpZ4KH"
      },
      "execution_count": 2,
      "outputs": []
    },
    {
      "cell_type": "code",
      "source": [
        "deep_translator_vendor_codes =[\n",
        "    {\"ai_code\":\"11\", \"vendor\":\"txtai(Neuml)\",\"pivot\":\"en\", \"f\":\"fetch_deep_tlr_txtai\"},\n",
        "    {\"ai_code\":\"12\", \"vendor\":\"GoogleTranslator\",\"pivot\":\"en\", \"f\":\"fetch_deep_tlr_google\"},\n",
        "    {\"ai_code\":\"13\", \"vendor\":\"Pons\",\"pivot\":\"fr\", \"f\":\"fetch_deep_tlr_pons\"},   \n",
        "    {\"ai_code\":\"14\", \"vendor\":\"DeepL\",\"pivot\":\"en\", \"f\":\"fetch_deep_tlr_deepl\"}\n",
        "]"
      ],
      "metadata": {
        "id": "7ZsSwhF3-Cnz"
      },
      "execution_count": 3,
      "outputs": []
    },
    {
      "cell_type": "code",
      "source": [
        "def get_cc_config(f):\n",
        "  vk = []\n",
        "  try:\n",
        "    with open(f) as vk_f:\n",
        "        vk = json.load(vk_f)\n",
        "  except BaseException as e:\n",
        "    print(e)\n",
        "  return vk\n",
        "\n",
        "def set_cc_config (vk, f):\n",
        "  # sauvegarde du fichier de paramétrage\n",
        "  with open(f, 'w') as fp:\n",
        "      json.dump(vk, fp)  "
      ],
      "metadata": {
        "id": "HkCiMByNk1Me"
      },
      "execution_count": 4,
      "outputs": []
    },
    {
      "cell_type": "code",
      "source": [
        "#\n",
        "# Ouverture de la Sheet Centrale (corpus_central_base)\n",
        "#\n",
        "def get_CCDB_wb(uri):\n",
        "  sheet_central = uri\n",
        "  wb_central = gc.open_by_url(sheet_central)\n",
        "  return wb_central\n",
        "\n",
        "def get_CCDB_data(wb, idx):\n",
        "  t_corpus = wb.get_worksheet(idx)\n",
        "  data_t_corpus = t_corpus.get_all_values()\n",
        "  return data_t_corpus\n",
        "\n",
        "#\n",
        "# DataFrame CC global (toutes les langues)\n",
        "#\n",
        "def get_ccdf_global(CCDB):\n",
        "  return pd.DataFrame(CCDB[1:], columns=CCDB[0])\n",
        "\n",
        "#\n",
        "# DataFrame CC Français (invariable)\n",
        "#\n",
        "def get_ccdf_fr(df_cc):\n",
        "  # on supprime les doublons\n",
        "  return df_cc[['uid','expression','theme','état','date','commentaires','index']]"
      ],
      "metadata": {
        "id": "QYUSE6Dek8OA"
      },
      "execution_count": 5,
      "outputs": []
    },
    {
      "cell_type": "code",
      "source": [
        "# Config Langues\n",
        "config_languages = 'med_vac_synthese.json'\n",
        "vk_languages = get_cc_config(config_languages)"
      ],
      "metadata": {
        "id": "4fUMcMSwlDPi"
      },
      "execution_count": 6,
      "outputs": []
    },
    {
      "cell_type": "code",
      "metadata": {
        "id": "ey1jQEaS54Qz"
      },
      "source": [
        "# Ouverture de la Sheet Centrale\n",
        "sheet = 'https://docs.google.com/spreadsheets/d/1j9mtvKJn0Ad3FqxoJXMSKLJOfYTDOhtw3wxXZ4sQAIc'\n",
        "wb  = gc.open_by_url(sheet)"
      ],
      "execution_count": 7,
      "outputs": []
    },
    {
      "cell_type": "code",
      "source": [
        "# Config Corpus (de consolidation)\n",
        "config_corpus_central = \"corpus_central_config.json\"\n",
        "vk_corpus_central = get_cc_config(config_corpus_central)"
      ],
      "metadata": {
        "id": "YJFHaa9clah-"
      },
      "execution_count": 8,
      "outputs": []
    },
    {
      "cell_type": "code",
      "source": [
        "# Base Centrale\n",
        "# on charge l'onglet 1 (français)\n",
        "db_cc_wb = get_CCDB_wb(vk_corpus_central[0][\"uri\"])\n",
        "db_cc = get_CCDB_data (db_cc_wb, 1)\n",
        "df_cc_global = get_ccdf_global(db_cc)\n",
        "df_cc_fr = get_ccdf_fr(df_cc_global).drop_duplicates()"
      ],
      "metadata": {
        "id": "8LBOpjVJleFb"
      },
      "execution_count": 9,
      "outputs": []
    },
    {
      "cell_type": "markdown",
      "source": [
        "# Comparaison des versions de référentiels"
      ],
      "metadata": {
        "id": "vJskeRVlRVJ_"
      }
    },
    {
      "cell_type": "code",
      "source": [
        "def getLastModifiedTime (wb):\n",
        "  # https://stackoverflow.com/questions/64254039/python-how-to-check-if-a-google-spreadsheets-was-updated\n",
        "  # https://stackoverflow.com/questions/52260789/update-googlesheet-cell-with-timestamp-from-python\n",
        "  revisions_uri = f'https://www.googleapis.com/drive/v3/files/{wb.id}/revisions'\n",
        "  headers = {'Authorization': f'Bearer {GoogleCredentials.get_application_default().get_access_token().access_token}'}\n",
        "  response = requests.get(revisions_uri, headers=headers).json()\n",
        "  return response['revisions'][-1]['modifiedTime']"
      ],
      "metadata": {
        "id": "1BCh19bDQ8Et"
      },
      "execution_count": 10,
      "outputs": []
    },
    {
      "cell_type": "code",
      "source": [
        "print (getLastModifiedTime(db_cc_wb))"
      ],
      "metadata": {
        "colab": {
          "base_uri": "https://localhost:8080/"
        },
        "id": "KsxWPCyBRaNM",
        "outputId": "c57df370-7024-48b6-afdc-2bcb2abec97c"
      },
      "execution_count": 11,
      "outputs": [
        {
          "output_type": "stream",
          "name": "stdout",
          "text": [
            "2022-04-01T12:52:39.368Z\n"
          ]
        }
      ]
    },
    {
      "cell_type": "code",
      "source": [
        "df_cc_global.loc[df_cc_global[\"expression\"]==\"Anesthésie générale\"]"
      ],
      "metadata": {
        "id": "jBEU07HyTQnI",
        "colab": {
          "base_uri": "https://localhost:8080/",
          "height": 110
        },
        "outputId": "e8e53a60-dfa8-4f5c-c9c3-df28946d9683"
      },
      "execution_count": 12,
      "outputs": [
        {
          "output_type": "execute_result",
          "data": {
            "text/plain": [
              "          uid           expression date              theme état commentaires index        ams eng             tur  ... arm dar pst prs aze esp amh all                  pol som\n",
              "174  ef2f771b  Anesthésie générale       Médecine générale                       A  تخدير عام      Genel anestezi  ...                                  Znieczulenie ogólne    \n",
              "\n",
              "[1 rows x 27 columns]"
            ],
            "text/html": [
              "\n",
              "  <div id=\"df-570c9328-b3da-4cb0-9555-96a15646046b\">\n",
              "    <div class=\"colab-df-container\">\n",
              "      <div>\n",
              "<style scoped>\n",
              "    .dataframe tbody tr th:only-of-type {\n",
              "        vertical-align: middle;\n",
              "    }\n",
              "\n",
              "    .dataframe tbody tr th {\n",
              "        vertical-align: top;\n",
              "    }\n",
              "\n",
              "    .dataframe thead th {\n",
              "        text-align: right;\n",
              "    }\n",
              "</style>\n",
              "<table border=\"1\" class=\"dataframe\">\n",
              "  <thead>\n",
              "    <tr style=\"text-align: right;\">\n",
              "      <th></th>\n",
              "      <th>uid</th>\n",
              "      <th>expression</th>\n",
              "      <th>date</th>\n",
              "      <th>theme</th>\n",
              "      <th>état</th>\n",
              "      <th>commentaires</th>\n",
              "      <th>index</th>\n",
              "      <th>ams</th>\n",
              "      <th>eng</th>\n",
              "      <th>tur</th>\n",
              "      <th>...</th>\n",
              "      <th>arm</th>\n",
              "      <th>dar</th>\n",
              "      <th>pst</th>\n",
              "      <th>prs</th>\n",
              "      <th>aze</th>\n",
              "      <th>esp</th>\n",
              "      <th>amh</th>\n",
              "      <th>all</th>\n",
              "      <th>pol</th>\n",
              "      <th>som</th>\n",
              "    </tr>\n",
              "  </thead>\n",
              "  <tbody>\n",
              "    <tr>\n",
              "      <th>174</th>\n",
              "      <td>ef2f771b</td>\n",
              "      <td>Anesthésie générale</td>\n",
              "      <td></td>\n",
              "      <td>Médecine générale</td>\n",
              "      <td></td>\n",
              "      <td></td>\n",
              "      <td>A</td>\n",
              "      <td>تخدير عام</td>\n",
              "      <td></td>\n",
              "      <td>Genel anestezi</td>\n",
              "      <td>...</td>\n",
              "      <td></td>\n",
              "      <td></td>\n",
              "      <td></td>\n",
              "      <td></td>\n",
              "      <td></td>\n",
              "      <td></td>\n",
              "      <td></td>\n",
              "      <td></td>\n",
              "      <td>Znieczulenie ogólne</td>\n",
              "      <td></td>\n",
              "    </tr>\n",
              "  </tbody>\n",
              "</table>\n",
              "<p>1 rows × 27 columns</p>\n",
              "</div>\n",
              "      <button class=\"colab-df-convert\" onclick=\"convertToInteractive('df-570c9328-b3da-4cb0-9555-96a15646046b')\"\n",
              "              title=\"Convert this dataframe to an interactive table.\"\n",
              "              style=\"display:none;\">\n",
              "        \n",
              "  <svg xmlns=\"http://www.w3.org/2000/svg\" height=\"24px\"viewBox=\"0 0 24 24\"\n",
              "       width=\"24px\">\n",
              "    <path d=\"M0 0h24v24H0V0z\" fill=\"none\"/>\n",
              "    <path d=\"M18.56 5.44l.94 2.06.94-2.06 2.06-.94-2.06-.94-.94-2.06-.94 2.06-2.06.94zm-11 1L8.5 8.5l.94-2.06 2.06-.94-2.06-.94L8.5 2.5l-.94 2.06-2.06.94zm10 10l.94 2.06.94-2.06 2.06-.94-2.06-.94-.94-2.06-.94 2.06-2.06.94z\"/><path d=\"M17.41 7.96l-1.37-1.37c-.4-.4-.92-.59-1.43-.59-.52 0-1.04.2-1.43.59L10.3 9.45l-7.72 7.72c-.78.78-.78 2.05 0 2.83L4 21.41c.39.39.9.59 1.41.59.51 0 1.02-.2 1.41-.59l7.78-7.78 2.81-2.81c.8-.78.8-2.07 0-2.86zM5.41 20L4 18.59l7.72-7.72 1.47 1.35L5.41 20z\"/>\n",
              "  </svg>\n",
              "      </button>\n",
              "      \n",
              "  <style>\n",
              "    .colab-df-container {\n",
              "      display:flex;\n",
              "      flex-wrap:wrap;\n",
              "      gap: 12px;\n",
              "    }\n",
              "\n",
              "    .colab-df-convert {\n",
              "      background-color: #E8F0FE;\n",
              "      border: none;\n",
              "      border-radius: 50%;\n",
              "      cursor: pointer;\n",
              "      display: none;\n",
              "      fill: #1967D2;\n",
              "      height: 32px;\n",
              "      padding: 0 0 0 0;\n",
              "      width: 32px;\n",
              "    }\n",
              "\n",
              "    .colab-df-convert:hover {\n",
              "      background-color: #E2EBFA;\n",
              "      box-shadow: 0px 1px 2px rgba(60, 64, 67, 0.3), 0px 1px 3px 1px rgba(60, 64, 67, 0.15);\n",
              "      fill: #174EA6;\n",
              "    }\n",
              "\n",
              "    [theme=dark] .colab-df-convert {\n",
              "      background-color: #3B4455;\n",
              "      fill: #D2E3FC;\n",
              "    }\n",
              "\n",
              "    [theme=dark] .colab-df-convert:hover {\n",
              "      background-color: #434B5C;\n",
              "      box-shadow: 0px 1px 3px 1px rgba(0, 0, 0, 0.15);\n",
              "      filter: drop-shadow(0px 1px 2px rgba(0, 0, 0, 0.3));\n",
              "      fill: #FFFFFF;\n",
              "    }\n",
              "  </style>\n",
              "\n",
              "      <script>\n",
              "        const buttonEl =\n",
              "          document.querySelector('#df-570c9328-b3da-4cb0-9555-96a15646046b button.colab-df-convert');\n",
              "        buttonEl.style.display =\n",
              "          google.colab.kernel.accessAllowed ? 'block' : 'none';\n",
              "\n",
              "        async function convertToInteractive(key) {\n",
              "          const element = document.querySelector('#df-570c9328-b3da-4cb0-9555-96a15646046b');\n",
              "          const dataTable =\n",
              "            await google.colab.kernel.invokeFunction('convertToInteractive',\n",
              "                                                     [key], {});\n",
              "          if (!dataTable) return;\n",
              "\n",
              "          const docLinkHtml = 'Like what you see? Visit the ' +\n",
              "            '<a target=\"_blank\" href=https://colab.research.google.com/notebooks/data_table.ipynb>data table notebook</a>'\n",
              "            + ' to learn more about interactive tables.';\n",
              "          element.innerHTML = '';\n",
              "          dataTable['output_type'] = 'display_data';\n",
              "          await google.colab.output.renderOutput(dataTable, element);\n",
              "          const docLink = document.createElement('div');\n",
              "          docLink.innerHTML = docLinkHtml;\n",
              "          element.appendChild(docLink);\n",
              "        }\n",
              "      </script>\n",
              "    </div>\n",
              "  </div>\n",
              "  "
            ]
          },
          "metadata": {},
          "execution_count": 12
        }
      ]
    },
    {
      "cell_type": "markdown",
      "metadata": {
        "id": "ZbXgJiWKBEwY"
      },
      "source": [
        "### Appel de l'API\n",
        "https://towardsdatascience.com/downloading-airtable-data-into-python-89e5c7107a24"
      ]
    },
    {
      "cell_type": "code",
      "metadata": {
        "id": "Mi4zCrC54xR-"
      },
      "source": [
        "params = ()\n",
        "api_key = \"keyrI98TIqu6mbFcf\" \n",
        "api_key_gmail = \"keysgpJWq3aWwqSZe\"\n",
        "headers = {\"Authorization\": \"Bearer \" + api_key,\"Content-Type\" : \"application/json\"}\n",
        "base_id = \"appawT3gg7cJhPYv0\" # Base Nouvelle HV\n",
        "table_name = 'Corpus'"
      ],
      "execution_count": 13,
      "outputs": []
    },
    {
      "cell_type": "code",
      "source": [
        "airtable = Airtable(base_id, table_name, api_key)"
      ],
      "metadata": {
        "id": "LAIlBGJtPK2H"
      },
      "execution_count": 14,
      "outputs": []
    },
    {
      "cell_type": "markdown",
      "source": [
        "```\n",
        "for page in airtable.get_iter(view='Grid view',sort='Proposition'):\n",
        "  for record in page:\n",
        "    value = record['fields']['Proposition']\n",
        "```\n",
        "\n"
      ],
      "metadata": {
        "id": "BRVoSlYoTdax"
      }
    },
    {
      "cell_type": "code",
      "source": [
        "def airtable_fetch_all_records():\n",
        "  vk_at = airtable.get_all(view='Admin',sort='Proposition')\n",
        "  df_vkat = pd.DataFrame.from_records((r['fields'] for r in vk_at))\n",
        "  return df_vkat"
      ],
      "metadata": {
        "id": "hcErKj3pQ2TE"
      },
      "execution_count": 15,
      "outputs": []
    },
    {
      "cell_type": "code",
      "source": [
        "def getNotInGSheet(df_cc_global, df_vkat):\n",
        "  df_not_in_gsheet = df_vkat[~df_vkat[\"UID\"].isin(df_cc_global[\"uid\"])]\n",
        "  return df_not_in_gsheet"
      ],
      "metadata": {
        "id": "zXKLHbsPI4Ju"
      },
      "execution_count": 16,
      "outputs": []
    },
    {
      "cell_type": "code",
      "source": [
        "df_vkat = airtable_fetch_all_records()"
      ],
      "metadata": {
        "id": "TgygNth1fjVP"
      },
      "execution_count": 17,
      "outputs": []
    },
    {
      "cell_type": "code",
      "source": [
        "master=\"langdeck\""
      ],
      "metadata": {
        "id": "gLg_lUN10xnZ"
      },
      "execution_count": 18,
      "outputs": []
    },
    {
      "cell_type": "code",
      "source": [
        "def txtai_alpha (input, iso_code):\n",
        "  try:\n",
        "    translation = translate(input, iso_code)\n",
        "  except Exception as e:\n",
        "    translation = \"\"\n",
        "    pass\n",
        "  return translation, 2"
      ],
      "metadata": {
        "id": "vnsqiihvkQOf"
      },
      "execution_count": 19,
      "outputs": []
    },
    {
      "cell_type": "code",
      "source": [
        "def fetch_pivot_en (txt_fr):\n",
        "  try:\n",
        "    translation = translate(txt_fr, \"en\")\n",
        "    print (translation)\n",
        "  except Exception as e:\n",
        "    translation = \"\"\n",
        "    pass  \n",
        "  return translation"
      ],
      "metadata": {
        "id": "8hChZ0J1jWly"
      },
      "execution_count": 20,
      "outputs": []
    },
    {
      "cell_type": "markdown",
      "source": [
        "## on met à jour dans Airtable"
      ],
      "metadata": {
        "id": "NG5wuIasm_ph"
      }
    },
    {
      "cell_type": "code",
      "source": [
        "'''\n",
        "df_vkat_pivot = df_vkat.copy()\n",
        "df_vkat[\"pivot_en\"] = df_vkat[[\"Pivot\",\"eng\"]].apply(lambda x:x[1] if not pd.isna(x[1]) else fetch_pivot_en(x[0]), axis=1)\n",
        "if master == \"langdeck\":\n",
        "  for index, row in df_vkat_pivot.iterrows():\n",
        "    if row[\"UID\"] is not None:\n",
        "      record = airtable.match('UID', row[\"UID\"])\n",
        "      if bool(record):\n",
        "        aDict = {}\n",
        "        key = \"UID\"\n",
        "        aDict[key] = row[\"UID\"]\n",
        "        aDict[\"pivot_en\"] = row[\"pivot_en\"]\n",
        "        airtable.update(record['id'], aDict)\n",
        "'''"
      ],
      "metadata": {
        "colab": {
          "base_uri": "https://localhost:8080/",
          "height": 72
        },
        "id": "zClrQAZ-m_Ka",
        "outputId": "e181f13b-f47d-406c-cf7f-3339be06c78f"
      },
      "execution_count": 21,
      "outputs": [
        {
          "output_type": "execute_result",
          "data": {
            "text/plain": [
              "'\\ndf_vkat_pivot = df_vkat.copy()\\ndf_vkat[\"pivot_en\"] = df_vkat[[\"Pivot\",\"eng\"]].apply(lambda x:x[1] if not pd.isna(x[1]) else fetch_pivot_en(x[0]), axis=1)\\nif master == \"langdeck\":\\n  for index, row in df_vkat_pivot.iterrows():\\n    if row[\"UID\"] is not None:\\n      record = airtable.match(\\'UID\\', row[\"UID\"])\\n      if bool(record):\\n        aDict = {}\\n        key = \"UID\"\\n        aDict[key] = row[\"UID\"]\\n        aDict[\"pivot_en\"] = row[\"pivot_en\"]\\n        airtable.update(record[\\'id\\'], aDict)\\n'"
            ],
            "application/vnd.google.colaboratory.intrinsic+json": {
              "type": "string"
            }
          },
          "metadata": {},
          "execution_count": 21
        }
      ]
    },
    {
      "cell_type": "markdown",
      "source": [
        "## Synchronisation du serveur vers airtable"
      ],
      "metadata": {
        "id": "JuonwX1-7290"
      }
    },
    {
      "cell_type": "markdown",
      "source": [
        "### 1. Différence entre A et B (sur UID)"
      ],
      "metadata": {
        "id": "FtKv8Z8yDdNx"
      }
    },
    {
      "cell_type": "code",
      "source": [
        "df_not_in_airtable = df_cc_global[~df_cc_global[\"uid\"].isin(df_vkat[\"UID\"])].dropna()\n",
        "df_not_in_airtable"
      ],
      "metadata": {
        "colab": {
          "base_uri": "https://localhost:8080/",
          "height": 79
        },
        "id": "hLZ3yTp9GbRE",
        "outputId": "e8dcacad-6571-455b-f192-6cefbd994b1a"
      },
      "execution_count": 22,
      "outputs": [
        {
          "output_type": "execute_result",
          "data": {
            "text/plain": [
              "Empty DataFrame\n",
              "Columns: [uid, expression, date, theme, état, commentaires, index, ams, eng, tur, rus, ukr, rou, hun, tig, alb, geo, arm, dar, pst, prs, aze, esp, amh, all, pol, som]\n",
              "Index: []\n",
              "\n",
              "[0 rows x 27 columns]"
            ],
            "text/html": [
              "\n",
              "  <div id=\"df-c83e3b4a-4995-4be6-a432-42a7360df0fd\">\n",
              "    <div class=\"colab-df-container\">\n",
              "      <div>\n",
              "<style scoped>\n",
              "    .dataframe tbody tr th:only-of-type {\n",
              "        vertical-align: middle;\n",
              "    }\n",
              "\n",
              "    .dataframe tbody tr th {\n",
              "        vertical-align: top;\n",
              "    }\n",
              "\n",
              "    .dataframe thead th {\n",
              "        text-align: right;\n",
              "    }\n",
              "</style>\n",
              "<table border=\"1\" class=\"dataframe\">\n",
              "  <thead>\n",
              "    <tr style=\"text-align: right;\">\n",
              "      <th></th>\n",
              "      <th>uid</th>\n",
              "      <th>expression</th>\n",
              "      <th>date</th>\n",
              "      <th>theme</th>\n",
              "      <th>état</th>\n",
              "      <th>commentaires</th>\n",
              "      <th>index</th>\n",
              "      <th>ams</th>\n",
              "      <th>eng</th>\n",
              "      <th>tur</th>\n",
              "      <th>...</th>\n",
              "      <th>arm</th>\n",
              "      <th>dar</th>\n",
              "      <th>pst</th>\n",
              "      <th>prs</th>\n",
              "      <th>aze</th>\n",
              "      <th>esp</th>\n",
              "      <th>amh</th>\n",
              "      <th>all</th>\n",
              "      <th>pol</th>\n",
              "      <th>som</th>\n",
              "    </tr>\n",
              "  </thead>\n",
              "  <tbody>\n",
              "  </tbody>\n",
              "</table>\n",
              "<p>0 rows × 27 columns</p>\n",
              "</div>\n",
              "      <button class=\"colab-df-convert\" onclick=\"convertToInteractive('df-c83e3b4a-4995-4be6-a432-42a7360df0fd')\"\n",
              "              title=\"Convert this dataframe to an interactive table.\"\n",
              "              style=\"display:none;\">\n",
              "        \n",
              "  <svg xmlns=\"http://www.w3.org/2000/svg\" height=\"24px\"viewBox=\"0 0 24 24\"\n",
              "       width=\"24px\">\n",
              "    <path d=\"M0 0h24v24H0V0z\" fill=\"none\"/>\n",
              "    <path d=\"M18.56 5.44l.94 2.06.94-2.06 2.06-.94-2.06-.94-.94-2.06-.94 2.06-2.06.94zm-11 1L8.5 8.5l.94-2.06 2.06-.94-2.06-.94L8.5 2.5l-.94 2.06-2.06.94zm10 10l.94 2.06.94-2.06 2.06-.94-2.06-.94-.94-2.06-.94 2.06-2.06.94z\"/><path d=\"M17.41 7.96l-1.37-1.37c-.4-.4-.92-.59-1.43-.59-.52 0-1.04.2-1.43.59L10.3 9.45l-7.72 7.72c-.78.78-.78 2.05 0 2.83L4 21.41c.39.39.9.59 1.41.59.51 0 1.02-.2 1.41-.59l7.78-7.78 2.81-2.81c.8-.78.8-2.07 0-2.86zM5.41 20L4 18.59l7.72-7.72 1.47 1.35L5.41 20z\"/>\n",
              "  </svg>\n",
              "      </button>\n",
              "      \n",
              "  <style>\n",
              "    .colab-df-container {\n",
              "      display:flex;\n",
              "      flex-wrap:wrap;\n",
              "      gap: 12px;\n",
              "    }\n",
              "\n",
              "    .colab-df-convert {\n",
              "      background-color: #E8F0FE;\n",
              "      border: none;\n",
              "      border-radius: 50%;\n",
              "      cursor: pointer;\n",
              "      display: none;\n",
              "      fill: #1967D2;\n",
              "      height: 32px;\n",
              "      padding: 0 0 0 0;\n",
              "      width: 32px;\n",
              "    }\n",
              "\n",
              "    .colab-df-convert:hover {\n",
              "      background-color: #E2EBFA;\n",
              "      box-shadow: 0px 1px 2px rgba(60, 64, 67, 0.3), 0px 1px 3px 1px rgba(60, 64, 67, 0.15);\n",
              "      fill: #174EA6;\n",
              "    }\n",
              "\n",
              "    [theme=dark] .colab-df-convert {\n",
              "      background-color: #3B4455;\n",
              "      fill: #D2E3FC;\n",
              "    }\n",
              "\n",
              "    [theme=dark] .colab-df-convert:hover {\n",
              "      background-color: #434B5C;\n",
              "      box-shadow: 0px 1px 3px 1px rgba(0, 0, 0, 0.15);\n",
              "      filter: drop-shadow(0px 1px 2px rgba(0, 0, 0, 0.3));\n",
              "      fill: #FFFFFF;\n",
              "    }\n",
              "  </style>\n",
              "\n",
              "      <script>\n",
              "        const buttonEl =\n",
              "          document.querySelector('#df-c83e3b4a-4995-4be6-a432-42a7360df0fd button.colab-df-convert');\n",
              "        buttonEl.style.display =\n",
              "          google.colab.kernel.accessAllowed ? 'block' : 'none';\n",
              "\n",
              "        async function convertToInteractive(key) {\n",
              "          const element = document.querySelector('#df-c83e3b4a-4995-4be6-a432-42a7360df0fd');\n",
              "          const dataTable =\n",
              "            await google.colab.kernel.invokeFunction('convertToInteractive',\n",
              "                                                     [key], {});\n",
              "          if (!dataTable) return;\n",
              "\n",
              "          const docLinkHtml = 'Like what you see? Visit the ' +\n",
              "            '<a target=\"_blank\" href=https://colab.research.google.com/notebooks/data_table.ipynb>data table notebook</a>'\n",
              "            + ' to learn more about interactive tables.';\n",
              "          element.innerHTML = '';\n",
              "          dataTable['output_type'] = 'display_data';\n",
              "          await google.colab.output.renderOutput(dataTable, element);\n",
              "          const docLink = document.createElement('div');\n",
              "          docLink.innerHTML = docLinkHtml;\n",
              "          element.appendChild(docLink);\n",
              "        }\n",
              "      </script>\n",
              "    </div>\n",
              "  </div>\n",
              "  "
            ]
          },
          "metadata": {},
          "execution_count": 22
        }
      ]
    },
    {
      "cell_type": "markdown",
      "source": [
        "### On ajoute les éléments de A absents dans B"
      ],
      "metadata": {
        "id": "_CMTnwYKjntP"
      }
    },
    {
      "cell_type": "code",
      "source": [
        "if master != \"langdeck\":\n",
        "  for index, row in df_not_in_airtable.iterrows():\n",
        "    if row[\"uid\"] is not None:\n",
        "      record = airtable.match('UID', row[\"uid\"])\n",
        "      if bool(record) is False:\n",
        "        aDict = {}\n",
        "        key = \"UID\"\n",
        "        aDict[key] = row[\"uid\"]\n",
        "        aDict[\"Proposition\"] = row[\"expression\"]\n",
        "        aDict[\"idx\"] = row[\"index\"]\n",
        "        for i in vk_languages:\n",
        "          key = i[\"trigramme\"]\n",
        "          aDict[key] = row[key]\n",
        "        airtable.insert(aDict)"
      ],
      "metadata": {
        "id": "YUceP1Kahxy-"
      },
      "execution_count": 23,
      "outputs": []
    },
    {
      "cell_type": "markdown",
      "source": [
        "### On met à jour les traductions de A présents dans B\n",
        "\n",
        "> Bloc en retrait\n",
        "\n"
      ],
      "metadata": {
        "id": "doXm-89FZ-TF"
      }
    },
    {
      "cell_type": "code",
      "source": [
        "if master != \"langdeck\":\n",
        "  cpt = 0\n",
        "  max = len(df_cc_global) \n",
        "  for index, row in df_cc_global.iterrows():\n",
        "    if row[\"uid\"] is not None:\n",
        "      record = airtable.match('UID', row[\"uid\"])\n",
        "      if bool(record):\n",
        "        aDict = {}\n",
        "        key = \"UID\"\n",
        "        aDict[key] = row[\"uid\"]\n",
        "        for i in vk_languages:\n",
        "          key = i[\"trigramme\"]\n",
        "          aDict[key] = row[key]\n",
        "        airtable.update(record['id'], aDict)\n",
        "        cpt+=1\n",
        "        print(str(cpt/max) + \" %\", end=\"\\r\", flush=True)      \n",
        "        #print (record['id'] +\" \" + row[\"uid\"] +\" \" + row[\"tur\"])"
      ],
      "metadata": {
        "id": "aDXoT-QGaV6I"
      },
      "execution_count": 24,
      "outputs": []
    },
    {
      "cell_type": "markdown",
      "source": [
        "### On récupère les éléments de B absents de A"
      ],
      "metadata": {
        "id": "ppdsQTTXjuBF"
      }
    },
    {
      "cell_type": "code",
      "source": [
        "df_not_in_gsheet = getNotInGSheet(df_cc_global, df_vkat)\n",
        "#df_not_in_gsheet[[\"Proposition\",\"idx_cor\",\"UID\"]]"
      ],
      "metadata": {
        "id": "H79urZPdbHEt"
      },
      "execution_count": 25,
      "outputs": []
    },
    {
      "cell_type": "markdown",
      "source": [
        "## Mise en forme et ajustements dans Airtable"
      ],
      "metadata": {
        "id": "DSZzmwN_wRrM"
      }
    },
    {
      "cell_type": "code",
      "source": [
        "def make_unique_id():\n",
        "  return str(uuid.uuid4())[:8]"
      ],
      "metadata": {
        "id": "sfN2zOKd0DPr"
      },
      "execution_count": 26,
      "outputs": []
    },
    {
      "cell_type": "code",
      "source": [
        "df_vkat = airtable_fetch_all_records()"
      ],
      "metadata": {
        "id": "iGm1ZZVEJI5q"
      },
      "execution_count": 27,
      "outputs": []
    },
    {
      "cell_type": "markdown",
      "source": [
        "### Update des UIDS et des HASH manquants"
      ],
      "metadata": {
        "id": "4Yfjzn3NR4cb"
      }
    },
    {
      "cell_type": "code",
      "source": [
        "def chk_uid (vk_uid, record):\n",
        "  try:\n",
        "    value = record['fields']['UID']\n",
        "  except KeyError:\n",
        "    # uid manquant\n",
        "    print (\"mssing uid\")\n",
        "    while True:\n",
        "      auid = make_unique_id()\n",
        "      if auid not in vk_uid:\n",
        "        aDict = {}\n",
        "        aDict[\"UID\"] = auid\n",
        "        print (record['id'] + \" \" + aDict[\"UID\"])\n",
        "        airtable.update(record['id'], aDict)\n",
        "        vk_uid.append(auid) \n",
        "        break \n",
        "  finally:\n",
        "    return"
      ],
      "metadata": {
        "id": "rS6Bn9l8lh4Y"
      },
      "execution_count": 28,
      "outputs": []
    },
    {
      "cell_type": "code",
      "source": [
        "def airtable_check_missing_uids():\n",
        "  vk_uid = df_vkat['UID'].tolist()\n",
        "  for page in airtable.get_iter(view='Admin',sort='Proposition'):\n",
        "    for record in page:\n",
        "      chk_uid (vk_uid, record)\n"
      ],
      "metadata": {
        "id": "H6cZU6MWV_jB"
      },
      "execution_count": 29,
      "outputs": []
    },
    {
      "cell_type": "code",
      "source": [
        "airtable_check_missing_uids()"
      ],
      "metadata": {
        "id": "z7W08BitQKV4"
      },
      "execution_count": 30,
      "outputs": []
    },
    {
      "cell_type": "markdown",
      "source": [
        "## Toggle des enregistrements de AT à ajouter dans la sheet locale"
      ],
      "metadata": {
        "id": "4qvT9GyIm2cK"
      }
    },
    {
      "cell_type": "code",
      "source": [
        "if master != \"langdeck\":\n",
        "  df_vkat = airtable_fetch_all_records()\n",
        "  df_not_in_gsheet = getNotInGSheet(df_cc_global, df_vkat)\n",
        "  # on met à jour le status dans Airtable\n",
        "  for index, row in df_not_in_gsheet.iterrows():\n",
        "    if row[\"UID\"] is not None:\n",
        "      record = airtable.match('UID', row[\"UID\"])\n",
        "      if bool(record) is True:\n",
        "        aDict = {}\n",
        "        aDict[\"AppendToCorpus\"] = True\n",
        "        airtable.update(record['id'], aDict)\n",
        "        print (\"Updating status for \" + row[\"UID\"])"
      ],
      "metadata": {
        "id": "VROfZS0uXfr7"
      },
      "execution_count": 31,
      "outputs": []
    },
    {
      "cell_type": "markdown",
      "source": [
        "# Report dans la sheet locale"
      ],
      "metadata": {
        "id": "rrBpuRCjYY4W"
      }
    },
    {
      "cell_type": "code",
      "source": [
        "if master != \"langdeck\":\n",
        "  # Ouverture de la Sheet Locale (mots à traduire)\n",
        "  sheet = 'https://docs.google.com/spreadsheets/d/1M3CFSpAGII25qCl0apYrRPX-DmpdxDFLLB_Ob-MX8DQ/'\n",
        "  wb  = gc.open_by_url(sheet)\n",
        "  t_corpus = wb.worksheet(\"fra_med_gen\")\n",
        "  data_t_corpus = t_corpus.get_all_values()\n",
        "  df_langdeck = pd.DataFrame(data_t_corpus[1:], columns=data_t_corpus[0]).drop_duplicates()  \n",
        "  df_not_in_gsheet.rename(columns={'UID': 'uid', 'Proposition': 'français'}, inplace=True)\n",
        "  df_not_in_gsheet = df_not_in_gsheet[[\"uid\",\"français\"]]\n",
        "  frames = [df_langdeck, df_not_in_gsheet]\n",
        "  result = pd.concat(frames)\n",
        "  result.drop_duplicates(subset=['uid'], inplace=True, keep='last')\n",
        "  set_with_dataframe(t_corpus, result)"
      ],
      "metadata": {
        "id": "N7UfFo9Qn0g2"
      },
      "execution_count": 32,
      "outputs": []
    },
    {
      "cell_type": "markdown",
      "source": [
        "# Regroupement pour Langdeck"
      ],
      "metadata": {
        "id": "GIBnt7xnYpux"
      }
    },
    {
      "cell_type": "code",
      "source": [
        "def compare_langdeck_time(hash, time):\n",
        "  ts1 = time\n",
        "  ts2 = df_langdeck.loc[df_langdeck[\"hash\"]==hash][\"unixtime\"].values[0]\n",
        "  return ts1 > ts2\n"
      ],
      "metadata": {
        "id": "WvmxO4wsrW6-"
      },
      "execution_count": 33,
      "outputs": []
    },
    {
      "cell_type": "code",
      "source": [
        "def compare_airtable_time(hash, time):\n",
        "  ts1 = time\n",
        "  ts2 = df_airtable_for_langdeck.loc[df_airtable_for_langdeck[\"hash\"]==hash][\"unixtime\"].values[0]\n",
        "  return ts1 > ts2"
      ],
      "metadata": {
        "id": "jvvm26KdyRA8"
      },
      "execution_count": 34,
      "outputs": []
    },
    {
      "cell_type": "code",
      "source": [
        "def get_df_airtable_for_langdeck():\n",
        "  df_vkat = airtable_fetch_all_records()\n",
        "  df_temp = df_vkat.copy()\n",
        "  df_temp = df_temp[[\"UID\",\"Maitre\",\"Ordre\",\"Proposition\",\"pivot_en\",\"idx_cor\",\"Thématique\",\"lastModified\",\"ams\",\"eng\",\"tur\",\"rus\",\"ukr\",\"rou\",\"hun\",\"alb\",\"geo\",\"arm\",\"dar\",\"pst\",\"prs\",\"esp\",\"pol\",\"tig\"]]\n",
        "  df_temp.rename(columns={\"UID\":\"uid\",\"Proposition\":\"expression\",\"pivot_en\":\"pivot\",\"idx_cor\":\"idx\", \"Maitre\":\"maitre\",\"Ordre\":\"ordre\",\"Thématique\":\"themes\",\"lastModified\":\"timestamp\"}, inplace=True)\n",
        "  # https://stackoverflow.com/questions/28654047/convert-columns-into-rows-with-pandas\n",
        "  df_airtable_for_langdeck = pd.melt(df_temp, id_vars=[\"uid\", \"maitre\",\"ordre\",\"expression\",\"pivot\",\"idx\",\"timestamp\",\"themes\"], \n",
        "                    var_name=\"language\", value_name=\"translation\")\n",
        "  #https://stackoverflow.com/questions/60393668/pandas-generate-unique-id-based-on-row-values\n",
        "  #https://stackoverflow.com/questions/64604408/transform-dataframe-column-with-a-hash-value\n",
        "  df_airtable_for_langdeck['hash'] = df_airtable_for_langdeck[['uid', 'language']].sum(axis=1).astype(str)\n",
        "  #Fonction lambda pour récupérer le nom long de la langue (https://stackoverflow.com/questions/2191699/find-an-element-in-a-list-of-tuples)\n",
        "  df_airtable_for_langdeck[\"language_fulltext\"] = df_airtable_for_langdeck[\"language\"].apply(lambda x:[item for item in [(a_dict[\"trigramme\"],a_dict[\"language\"]) for a_dict in vk_languages] if item[0] == x][0][1])  \n",
        "  df_airtable_for_langdeck['timestamp'] = df_airtable_for_langdeck['timestamp'].astype('datetime64[s]')\n",
        "  df_airtable_for_langdeck['unixtime'] = df_airtable_for_langdeck['timestamp'].astype('datetime64[s]').astype('int')\n",
        "  # ajout des thématiques  \n",
        "  # on éclate la liste des thèmes en 3 colonnes\n",
        "  df_airtable_for_langdeck[[\"theme_1\",\"theme_2\",\"theme_3\"]] = pd.DataFrame([pd.Series(x) for x in df_airtable_for_langdeck.themes])\n",
        "  return df_airtable_for_langdeck"
      ],
      "metadata": {
        "id": "UtmSi8oBTgb6"
      },
      "execution_count": 35,
      "outputs": []
    },
    {
      "cell_type": "markdown",
      "source": [
        "### Vérification qu'il n'existe pas des doublons (hash)"
      ],
      "metadata": {
        "id": "5Pe8F6nDlkar"
      }
    },
    {
      "cell_type": "code",
      "source": [
        "df_airtable_for_langdeck = get_df_airtable_for_langdeck()\n",
        "df_airtable_for_langdeck[df_airtable_for_langdeck['hash'].duplicated()].sort_values(\"hash\")"
      ],
      "metadata": {
        "colab": {
          "base_uri": "https://localhost:8080/",
          "height": 86
        },
        "id": "M22Emwy2h5T1",
        "outputId": "dfa32c9a-b14f-46a5-f1f5-5d95fda8b736"
      },
      "execution_count": 36,
      "outputs": [
        {
          "output_type": "stream",
          "name": "stderr",
          "text": [
            "/usr/local/lib/python3.7/dist-packages/ipykernel_launcher.py:15: FutureWarning: casting datetime64[ns] values to int64 with .astype(...) is deprecated and will raise in a future version. Use .view(...) instead.\n",
            "  from ipykernel import kernelapp as app\n"
          ]
        },
        {
          "output_type": "execute_result",
          "data": {
            "text/plain": [
              "Empty DataFrame\n",
              "Columns: [uid, maitre, ordre, expression, pivot, idx, timestamp, themes, language, translation, hash, language_fulltext, unixtime, theme_1, theme_2, theme_3]\n",
              "Index: []"
            ],
            "text/html": [
              "\n",
              "  <div id=\"df-d9969036-a620-401a-a4da-2dc8696b1c10\">\n",
              "    <div class=\"colab-df-container\">\n",
              "      <div>\n",
              "<style scoped>\n",
              "    .dataframe tbody tr th:only-of-type {\n",
              "        vertical-align: middle;\n",
              "    }\n",
              "\n",
              "    .dataframe tbody tr th {\n",
              "        vertical-align: top;\n",
              "    }\n",
              "\n",
              "    .dataframe thead th {\n",
              "        text-align: right;\n",
              "    }\n",
              "</style>\n",
              "<table border=\"1\" class=\"dataframe\">\n",
              "  <thead>\n",
              "    <tr style=\"text-align: right;\">\n",
              "      <th></th>\n",
              "      <th>uid</th>\n",
              "      <th>maitre</th>\n",
              "      <th>ordre</th>\n",
              "      <th>expression</th>\n",
              "      <th>pivot</th>\n",
              "      <th>idx</th>\n",
              "      <th>timestamp</th>\n",
              "      <th>themes</th>\n",
              "      <th>language</th>\n",
              "      <th>translation</th>\n",
              "      <th>hash</th>\n",
              "      <th>language_fulltext</th>\n",
              "      <th>unixtime</th>\n",
              "      <th>theme_1</th>\n",
              "      <th>theme_2</th>\n",
              "      <th>theme_3</th>\n",
              "    </tr>\n",
              "  </thead>\n",
              "  <tbody>\n",
              "  </tbody>\n",
              "</table>\n",
              "</div>\n",
              "      <button class=\"colab-df-convert\" onclick=\"convertToInteractive('df-d9969036-a620-401a-a4da-2dc8696b1c10')\"\n",
              "              title=\"Convert this dataframe to an interactive table.\"\n",
              "              style=\"display:none;\">\n",
              "        \n",
              "  <svg xmlns=\"http://www.w3.org/2000/svg\" height=\"24px\"viewBox=\"0 0 24 24\"\n",
              "       width=\"24px\">\n",
              "    <path d=\"M0 0h24v24H0V0z\" fill=\"none\"/>\n",
              "    <path d=\"M18.56 5.44l.94 2.06.94-2.06 2.06-.94-2.06-.94-.94-2.06-.94 2.06-2.06.94zm-11 1L8.5 8.5l.94-2.06 2.06-.94-2.06-.94L8.5 2.5l-.94 2.06-2.06.94zm10 10l.94 2.06.94-2.06 2.06-.94-2.06-.94-.94-2.06-.94 2.06-2.06.94z\"/><path d=\"M17.41 7.96l-1.37-1.37c-.4-.4-.92-.59-1.43-.59-.52 0-1.04.2-1.43.59L10.3 9.45l-7.72 7.72c-.78.78-.78 2.05 0 2.83L4 21.41c.39.39.9.59 1.41.59.51 0 1.02-.2 1.41-.59l7.78-7.78 2.81-2.81c.8-.78.8-2.07 0-2.86zM5.41 20L4 18.59l7.72-7.72 1.47 1.35L5.41 20z\"/>\n",
              "  </svg>\n",
              "      </button>\n",
              "      \n",
              "  <style>\n",
              "    .colab-df-container {\n",
              "      display:flex;\n",
              "      flex-wrap:wrap;\n",
              "      gap: 12px;\n",
              "    }\n",
              "\n",
              "    .colab-df-convert {\n",
              "      background-color: #E8F0FE;\n",
              "      border: none;\n",
              "      border-radius: 50%;\n",
              "      cursor: pointer;\n",
              "      display: none;\n",
              "      fill: #1967D2;\n",
              "      height: 32px;\n",
              "      padding: 0 0 0 0;\n",
              "      width: 32px;\n",
              "    }\n",
              "\n",
              "    .colab-df-convert:hover {\n",
              "      background-color: #E2EBFA;\n",
              "      box-shadow: 0px 1px 2px rgba(60, 64, 67, 0.3), 0px 1px 3px 1px rgba(60, 64, 67, 0.15);\n",
              "      fill: #174EA6;\n",
              "    }\n",
              "\n",
              "    [theme=dark] .colab-df-convert {\n",
              "      background-color: #3B4455;\n",
              "      fill: #D2E3FC;\n",
              "    }\n",
              "\n",
              "    [theme=dark] .colab-df-convert:hover {\n",
              "      background-color: #434B5C;\n",
              "      box-shadow: 0px 1px 3px 1px rgba(0, 0, 0, 0.15);\n",
              "      filter: drop-shadow(0px 1px 2px rgba(0, 0, 0, 0.3));\n",
              "      fill: #FFFFFF;\n",
              "    }\n",
              "  </style>\n",
              "\n",
              "      <script>\n",
              "        const buttonEl =\n",
              "          document.querySelector('#df-d9969036-a620-401a-a4da-2dc8696b1c10 button.colab-df-convert');\n",
              "        buttonEl.style.display =\n",
              "          google.colab.kernel.accessAllowed ? 'block' : 'none';\n",
              "\n",
              "        async function convertToInteractive(key) {\n",
              "          const element = document.querySelector('#df-d9969036-a620-401a-a4da-2dc8696b1c10');\n",
              "          const dataTable =\n",
              "            await google.colab.kernel.invokeFunction('convertToInteractive',\n",
              "                                                     [key], {});\n",
              "          if (!dataTable) return;\n",
              "\n",
              "          const docLinkHtml = 'Like what you see? Visit the ' +\n",
              "            '<a target=\"_blank\" href=https://colab.research.google.com/notebooks/data_table.ipynb>data table notebook</a>'\n",
              "            + ' to learn more about interactive tables.';\n",
              "          element.innerHTML = '';\n",
              "          dataTable['output_type'] = 'display_data';\n",
              "          await google.colab.output.renderOutput(dataTable, element);\n",
              "          const docLink = document.createElement('div');\n",
              "          docLink.innerHTML = docLinkHtml;\n",
              "          element.appendChild(docLink);\n",
              "        }\n",
              "      </script>\n",
              "    </div>\n",
              "  </div>\n",
              "  "
            ]
          },
          "metadata": {},
          "execution_count": 36
        }
      ]
    },
    {
      "cell_type": "code",
      "source": [
        "# on éclate la liste des thèmes en 3 colonnes\n",
        "df_airtable_for_langdeck[[\"theme_1\",\"theme_2\",\"theme_3\"]] = pd.DataFrame([pd.Series(x) for x in df_airtable_for_langdeck.themes])\n"
      ],
      "metadata": {
        "id": "RAs40UyjYTTD"
      },
      "execution_count": 37,
      "outputs": []
    },
    {
      "cell_type": "code",
      "source": [
        "# on ajoute une colonne de translation state (0=VOID; 1=PENDING; 2=OK; 3=KO)\n",
        "df_airtable_for_langdeck[\"translation_state\"] = df_airtable_for_langdeck[\"translation\"].apply(lambda x:0 if pd.isna(x) else 1)"
      ],
      "metadata": {
        "id": "2D7MsWudWeEE"
      },
      "execution_count": 38,
      "outputs": []
    },
    {
      "cell_type": "markdown",
      "source": [
        "## Base Langdeck"
      ],
      "metadata": {
        "id": "VCFyNWs_6us5"
      }
    },
    {
      "cell_type": "code",
      "source": [
        "db_langdeck_url = \"https://docs.google.com/spreadsheets/d/1bkL0bK2yh6Ea_BQaFIJ_yAvbTXw8NOFtlTZJSZK_5FY/\" #polyglot-central\n",
        "db_langdeck_url = \"https://docs.google.com/spreadsheets/d/1iJLt3qAKq576eNirMwcsdRltg7nerwa9N70dA0vraa8/\" #db-langdeck"
      ],
      "metadata": {
        "id": "Gd-KJ-hvYufg"
      },
      "execution_count": 39,
      "outputs": []
    },
    {
      "cell_type": "code",
      "source": [
        "def get_df_langdeck(url):\n",
        "  # Ouverture de la Sheet Langdeck (mots à traduire)\n",
        "\n",
        "  #sheet = 'https://docs.google.com/spreadsheets/d/1cSnSnnQunL-I7hpyYkIqbtuGr55unVJ3Qe8URSrjTr8/'\n",
        "  #t_corpus = wb.worksheet(\"Langdeck\")\n",
        "  sheet = url\n",
        "  # 'https://docs.google.com/spreadsheets/d/1bkL0bK2yh6Ea_BQaFIJ_yAvbTXw8NOFtlTZJSZK_5FY/'\n",
        "  # sheet = 'https://docs.google.com/spreadsheets/d/1iJLt3qAKq576eNirMwcsdRltg7nerwa9N70dA0vraa8/'\n",
        "  wb  = gc.open_by_url(sheet)\n",
        "  t_corpus = wb.worksheet(\"t_sync_voc\")\n",
        "  data_t_corpus = t_corpus.get_all_values()\n",
        "  df_langdeck = pd.DataFrame(data_t_corpus[1:], columns=data_t_corpus[0]).drop_duplicates()  \n",
        "  df_langdeck['ordre'] = pd.to_numeric(df_langdeck['ordre'])\n",
        "  df_langdeck['timestamp'] = df_langdeck['timestamp'].astype('datetime64[s]')\n",
        "  df_langdeck['unixtime'] = df_langdeck['timestamp'].astype('datetime64[s]').astype('int')\n",
        " \n",
        "  return df_langdeck"
      ],
      "metadata": {
        "id": "lAbymXs2awME"
      },
      "execution_count": 40,
      "outputs": []
    },
    {
      "cell_type": "code",
      "source": [
        "def is_audio(f):\n",
        "  path = \"/content/drive/My Drive/appsheet/data/langdeck-1629444/\"\n",
        "  f = path + f\n",
        "  result = True\n",
        "  try:\n",
        "    file = open(f, \"r\")\n",
        "  except FileNotFoundError as e:\n",
        "    # do nothing\n",
        "    result = False\n",
        "\n",
        "  return result"
      ],
      "metadata": {
        "id": "U4i-ZGqo3L8s"
      },
      "execution_count": 41,
      "outputs": []
    },
    {
      "cell_type": "code",
      "source": [
        " df_langdeck = get_df_langdeck(db_langdeck_url)\n",
        " df_langdeck['is_audio'] = df_langdeck['audio'].apply(lambda x:is_audio(x))\n",
        " # df_langdeck.loc[df_langdeck['is_audio']==True]"
      ],
      "metadata": {
        "id": "kIuQIC4R2_IG",
        "colab": {
          "base_uri": "https://localhost:8080/"
        },
        "outputId": "af03a08e-829a-4683-e584-41da14d7beb3"
      },
      "execution_count": 42,
      "outputs": [
        {
          "output_type": "stream",
          "name": "stderr",
          "text": [
            "/usr/local/lib/python3.7/dist-packages/ipykernel_launcher.py:15: FutureWarning: casting datetime64[ns] values to int64 with .astype(...) is deprecated and will raise in a future version. Use .view(...) instead.\n",
            "  from ipykernel import kernelapp as app\n"
          ]
        }
      ]
    },
    {
      "cell_type": "markdown",
      "source": [
        "## MAJ du status isAudio"
      ],
      "metadata": {
        "id": "3Jyc5-y5hFEN"
      }
    },
    {
      "cell_type": "code",
      "source": [
        "# NE PAS UTILISER\n",
        "'''\n",
        "df_isaudio = df_langdeck.loc[df_langdeck['is_audio']==True]\n",
        "sheet = db_langdeck_url\n",
        "wb  = gc.open_by_url(sheet)\n",
        "t_corpus = wb.worksheet(\"t_sync_voc\")\n",
        "for index, row in df_isaudio.iterrows():\n",
        "  cell = t_corpus.find(row['hash'])\n",
        "  t_corpus.update_cell(cell.row, 12, row['is_audio'])\n",
        "  print(index)\n",
        "'''"
      ],
      "metadata": {
        "id": "o14Ak_9ThEAJ",
        "colab": {
          "base_uri": "https://localhost:8080/",
          "height": 54
        },
        "outputId": "70f050eb-92ee-40cb-91a8-b7df5d7ab5cd"
      },
      "execution_count": 43,
      "outputs": [
        {
          "output_type": "execute_result",
          "data": {
            "text/plain": [
              "'\\ndf_isaudio = df_langdeck.loc[df_langdeck[\\'is_audio\\']==True]\\nsheet = db_langdeck_url\\nwb  = gc.open_by_url(sheet)\\nt_corpus = wb.worksheet(\"t_sync_voc\")\\nfor index, row in df_isaudio.iterrows():\\n  cell = t_corpus.find(row[\\'hash\\'])\\n  t_corpus.update_cell(cell.row, 12, row[\\'is_audio\\'])\\n  print(index)\\n'"
            ],
            "application/vnd.google.colaboratory.intrinsic+json": {
              "type": "string"
            }
          },
          "metadata": {},
          "execution_count": 43
        }
      ]
    },
    {
      "cell_type": "markdown",
      "source": [
        "## Comparaison 1 : new records dans Airtable à ajouter dans Langdeck"
      ],
      "metadata": {
        "id": "dSbpL-Tf60jE"
      }
    },
    {
      "cell_type": "code",
      "source": [
        "sheet = db_langdeck_url\n",
        "wb  = gc.open_by_url(sheet)\n",
        "t_corpus = wb.worksheet(\"t_sync_voc\")"
      ],
      "metadata": {
        "id": "Jos5wnIZQ5xx"
      },
      "execution_count": 44,
      "outputs": []
    },
    {
      "cell_type": "code",
      "source": [
        "# la différence se fait sur le hash et non l'uid\n",
        "df_new_in_airtable = df_airtable_for_langdeck[~df_airtable_for_langdeck[\"hash\"].isin(df_langdeck[\"hash\"])]\n",
        "print (str(len(df_new_in_airtable)) + \" new airtable rows detected.\")\n",
        "for index, row in df_new_in_airtable.iterrows():\n",
        "\n",
        "  if pd.isna(row['theme_1']):\n",
        "    row['theme_1'] = \"\"\n",
        "  if pd.isna(row['theme_2']):\n",
        "    row['theme_2'] = \"\"\n",
        "  if pd.isna(row['theme_3']):\n",
        "    row['theme_3'] = \"\"        \n",
        "  print (row['hash'])    \n",
        "  t_corpus.append_row([row['hash'],\n",
        "                       row['uid'], \n",
        "                       row['maitre'], \n",
        "                       row['ordre'],\n",
        "                       row['expression'], \n",
        "                       row['idx'], \n",
        "                       str(pd.to_datetime(row['timestamp'])), \n",
        "                       row['language'],                     \n",
        "                       \"\", \n",
        "                       row['language_fulltext'],\n",
        "                       \"Files_Files_/Corpus/t_expo_audio/\" + row['uid'] + \"-\" + row['language'] + \".mp3\",\n",
        "                       False,\n",
        "                       \"\",\n",
        "                       row['theme_1'],\n",
        "                       row['theme_2'],\n",
        "                       row['theme_3']                     \n",
        "                       ])\n",
        "\n",
        "# on recharge avec les nouvelles données\n",
        "df_langdeck = get_df_langdeck(db_langdeck_url)"
      ],
      "metadata": {
        "id": "dzYwBpOK91PV",
        "colab": {
          "base_uri": "https://localhost:8080/"
        },
        "outputId": "37b56636-4c12-498d-f884-fd1227e704a6"
      },
      "execution_count": 45,
      "outputs": [
        {
          "output_type": "stream",
          "name": "stdout",
          "text": [
            "0 new airtable rows detected.\n"
          ]
        },
        {
          "output_type": "stream",
          "name": "stderr",
          "text": [
            "/usr/local/lib/python3.7/dist-packages/ipykernel_launcher.py:15: FutureWarning: casting datetime64[ns] values to int64 with .astype(...) is deprecated and will raise in a future version. Use .view(...) instead.\n",
            "  from ipykernel import kernelapp as app\n"
          ]
        }
      ]
    },
    {
      "cell_type": "code",
      "source": [
        "len(df_langdeck)"
      ],
      "metadata": {
        "colab": {
          "base_uri": "https://localhost:8080/"
        },
        "id": "5jHqoyx-8ohZ",
        "outputId": "c4037600-86d9-4c79-e3ae-5fefdcf8065f"
      },
      "execution_count": 46,
      "outputs": [
        {
          "output_type": "execute_result",
          "data": {
            "text/plain": [
              "5984"
            ]
          },
          "metadata": {},
          "execution_count": 46
        }
      ]
    },
    {
      "cell_type": "markdown",
      "source": [
        "## Comparaison 2 : updated records from Airtable to Langdeck\n",
        "On met à jour les méta mais pas les traductions (traduction dans langdeck uniq.)"
      ],
      "metadata": {
        "id": "UVhcCrwy95Sj"
      }
    },
    {
      "cell_type": "code",
      "source": [
        "df_airtable_for_langdeck = get_df_airtable_for_langdeck()\n",
        "df_airtable_for_langdeck[df_airtable_for_langdeck['hash'].duplicated()].sort_values(\"hash\")\n",
        "# df_airtable_for_langdeck"
      ],
      "metadata": {
        "id": "k9Z9asUQ5mwn",
        "colab": {
          "base_uri": "https://localhost:8080/",
          "height": 86
        },
        "outputId": "a06b8762-87e1-498f-ce7e-8c789bdeb850"
      },
      "execution_count": 47,
      "outputs": [
        {
          "output_type": "stream",
          "name": "stderr",
          "text": [
            "/usr/local/lib/python3.7/dist-packages/ipykernel_launcher.py:15: FutureWarning: casting datetime64[ns] values to int64 with .astype(...) is deprecated and will raise in a future version. Use .view(...) instead.\n",
            "  from ipykernel import kernelapp as app\n"
          ]
        },
        {
          "output_type": "execute_result",
          "data": {
            "text/plain": [
              "Empty DataFrame\n",
              "Columns: [uid, maitre, ordre, expression, pivot, idx, timestamp, themes, language, translation, hash, language_fulltext, unixtime, theme_1, theme_2, theme_3]\n",
              "Index: []"
            ],
            "text/html": [
              "\n",
              "  <div id=\"df-3c5fe7ac-5c17-43aa-8465-caa604fe0afc\">\n",
              "    <div class=\"colab-df-container\">\n",
              "      <div>\n",
              "<style scoped>\n",
              "    .dataframe tbody tr th:only-of-type {\n",
              "        vertical-align: middle;\n",
              "    }\n",
              "\n",
              "    .dataframe tbody tr th {\n",
              "        vertical-align: top;\n",
              "    }\n",
              "\n",
              "    .dataframe thead th {\n",
              "        text-align: right;\n",
              "    }\n",
              "</style>\n",
              "<table border=\"1\" class=\"dataframe\">\n",
              "  <thead>\n",
              "    <tr style=\"text-align: right;\">\n",
              "      <th></th>\n",
              "      <th>uid</th>\n",
              "      <th>maitre</th>\n",
              "      <th>ordre</th>\n",
              "      <th>expression</th>\n",
              "      <th>pivot</th>\n",
              "      <th>idx</th>\n",
              "      <th>timestamp</th>\n",
              "      <th>themes</th>\n",
              "      <th>language</th>\n",
              "      <th>translation</th>\n",
              "      <th>hash</th>\n",
              "      <th>language_fulltext</th>\n",
              "      <th>unixtime</th>\n",
              "      <th>theme_1</th>\n",
              "      <th>theme_2</th>\n",
              "      <th>theme_3</th>\n",
              "    </tr>\n",
              "  </thead>\n",
              "  <tbody>\n",
              "  </tbody>\n",
              "</table>\n",
              "</div>\n",
              "      <button class=\"colab-df-convert\" onclick=\"convertToInteractive('df-3c5fe7ac-5c17-43aa-8465-caa604fe0afc')\"\n",
              "              title=\"Convert this dataframe to an interactive table.\"\n",
              "              style=\"display:none;\">\n",
              "        \n",
              "  <svg xmlns=\"http://www.w3.org/2000/svg\" height=\"24px\"viewBox=\"0 0 24 24\"\n",
              "       width=\"24px\">\n",
              "    <path d=\"M0 0h24v24H0V0z\" fill=\"none\"/>\n",
              "    <path d=\"M18.56 5.44l.94 2.06.94-2.06 2.06-.94-2.06-.94-.94-2.06-.94 2.06-2.06.94zm-11 1L8.5 8.5l.94-2.06 2.06-.94-2.06-.94L8.5 2.5l-.94 2.06-2.06.94zm10 10l.94 2.06.94-2.06 2.06-.94-2.06-.94-.94-2.06-.94 2.06-2.06.94z\"/><path d=\"M17.41 7.96l-1.37-1.37c-.4-.4-.92-.59-1.43-.59-.52 0-1.04.2-1.43.59L10.3 9.45l-7.72 7.72c-.78.78-.78 2.05 0 2.83L4 21.41c.39.39.9.59 1.41.59.51 0 1.02-.2 1.41-.59l7.78-7.78 2.81-2.81c.8-.78.8-2.07 0-2.86zM5.41 20L4 18.59l7.72-7.72 1.47 1.35L5.41 20z\"/>\n",
              "  </svg>\n",
              "      </button>\n",
              "      \n",
              "  <style>\n",
              "    .colab-df-container {\n",
              "      display:flex;\n",
              "      flex-wrap:wrap;\n",
              "      gap: 12px;\n",
              "    }\n",
              "\n",
              "    .colab-df-convert {\n",
              "      background-color: #E8F0FE;\n",
              "      border: none;\n",
              "      border-radius: 50%;\n",
              "      cursor: pointer;\n",
              "      display: none;\n",
              "      fill: #1967D2;\n",
              "      height: 32px;\n",
              "      padding: 0 0 0 0;\n",
              "      width: 32px;\n",
              "    }\n",
              "\n",
              "    .colab-df-convert:hover {\n",
              "      background-color: #E2EBFA;\n",
              "      box-shadow: 0px 1px 2px rgba(60, 64, 67, 0.3), 0px 1px 3px 1px rgba(60, 64, 67, 0.15);\n",
              "      fill: #174EA6;\n",
              "    }\n",
              "\n",
              "    [theme=dark] .colab-df-convert {\n",
              "      background-color: #3B4455;\n",
              "      fill: #D2E3FC;\n",
              "    }\n",
              "\n",
              "    [theme=dark] .colab-df-convert:hover {\n",
              "      background-color: #434B5C;\n",
              "      box-shadow: 0px 1px 3px 1px rgba(0, 0, 0, 0.15);\n",
              "      filter: drop-shadow(0px 1px 2px rgba(0, 0, 0, 0.3));\n",
              "      fill: #FFFFFF;\n",
              "    }\n",
              "  </style>\n",
              "\n",
              "      <script>\n",
              "        const buttonEl =\n",
              "          document.querySelector('#df-3c5fe7ac-5c17-43aa-8465-caa604fe0afc button.colab-df-convert');\n",
              "        buttonEl.style.display =\n",
              "          google.colab.kernel.accessAllowed ? 'block' : 'none';\n",
              "\n",
              "        async function convertToInteractive(key) {\n",
              "          const element = document.querySelector('#df-3c5fe7ac-5c17-43aa-8465-caa604fe0afc');\n",
              "          const dataTable =\n",
              "            await google.colab.kernel.invokeFunction('convertToInteractive',\n",
              "                                                     [key], {});\n",
              "          if (!dataTable) return;\n",
              "\n",
              "          const docLinkHtml = 'Like what you see? Visit the ' +\n",
              "            '<a target=\"_blank\" href=https://colab.research.google.com/notebooks/data_table.ipynb>data table notebook</a>'\n",
              "            + ' to learn more about interactive tables.';\n",
              "          element.innerHTML = '';\n",
              "          dataTable['output_type'] = 'display_data';\n",
              "          await google.colab.output.renderOutput(dataTable, element);\n",
              "          const docLink = document.createElement('div');\n",
              "          docLink.innerHTML = docLinkHtml;\n",
              "          element.appendChild(docLink);\n",
              "        }\n",
              "      </script>\n",
              "    </div>\n",
              "  </div>\n",
              "  "
            ]
          },
          "metadata": {},
          "execution_count": 47
        }
      ]
    },
    {
      "cell_type": "markdown",
      "source": [
        "Mise à jour (INIT) des thématiques"
      ],
      "metadata": {
        "id": "jjRqVTgTb1IA"
      }
    },
    {
      "cell_type": "code",
      "source": [
        "for index, row in df_airtable_for_langdeck.iterrows():\n",
        "  # clé A et B : concat des clés primaires\n",
        "  t = df_langdeck.loc[df_langdeck[\"hash\"]==row['hash']].applymap(str)\n",
        "  # key_b = langdeck (sheet)\n",
        "  try:\n",
        "    key_b = t[\"theme_1\"].item() + t[\"theme_2\"].item() + t[\"theme_3\"].item()\n",
        "  except Exception as e:\n",
        "    print (row['hash'] + str(e))\n",
        "    pass\n",
        "\n",
        "  if not pd.isna(row['theme_1']):\n",
        "    key_a = row['theme_1']\n",
        "  else:\n",
        "    row['theme_1'] = \"\"\n",
        "    key_a = row['theme_1']\n",
        "\n",
        "  if not pd.isna(row['theme_2']): \n",
        "    key_a = key_a + row['theme_2']  \n",
        "  else:\n",
        "    row['theme_2'] = \"\"\n",
        "    key_a = key_a + row['theme_2']        \n",
        "      \n",
        "  if not pd.isna(row['theme_3']):\n",
        "    key_a = key_a + row['theme_3']  \n",
        "  else:\n",
        "    row['theme_3'] = \"\"    \n",
        "    key_a = key_a + row['theme_3'] \n",
        "\n",
        "  # si lex clés diffenet\n",
        "  \n",
        "  if key_a != key_b:  \n",
        "    cell = t_corpus.find(row['hash'])\n",
        "    print (\"Updating cell \" + str(cell.row))\n",
        "    t_corpus.update_cell(cell.row, 14, row['theme_1'])\n",
        "    t_corpus.update_cell(cell.row, 15, row['theme_2'])\n",
        "    t_corpus.update_cell(cell.row, 16, row['theme_3'])"
      ],
      "metadata": {
        "id": "UMwnwBkab63K"
      },
      "execution_count": 48,
      "outputs": []
    },
    {
      "cell_type": "code",
      "source": [
        "df_langdeck = get_df_langdeck(db_langdeck_url)\n",
        "df_airtable_for_langdeck[\"last_updated\"] = df_airtable_for_langdeck[[\"hash\",\"unixtime\"]].apply(lambda x:compare_langdeck_time(x[0],x[1]), axis=1) \n",
        "df_newly_updated_in_airtable = df_airtable_for_langdeck.loc[df_airtable_for_langdeck[\"last_updated\"]]"
      ],
      "metadata": {
        "id": "69gMTcukpJoK",
        "colab": {
          "base_uri": "https://localhost:8080/"
        },
        "outputId": "8ce58f6b-4fb1-40c3-90c3-18f3fd9a9b7e"
      },
      "execution_count": 49,
      "outputs": [
        {
          "output_type": "stream",
          "name": "stderr",
          "text": [
            "/usr/local/lib/python3.7/dist-packages/ipykernel_launcher.py:15: FutureWarning: casting datetime64[ns] values to int64 with .astype(...) is deprecated and will raise in a future version. Use .view(...) instead.\n",
            "  from ipykernel import kernelapp as app\n"
          ]
        }
      ]
    },
    {
      "cell_type": "code",
      "source": [
        "sheet = db_langdeck_url\n",
        "wb  = gc.open_by_url(sheet)\n",
        "t_corpus = wb.worksheet(\"t_sync_voc\")\n",
        "# on recharge avec les nouvelles données\n",
        "df_langdeck = get_df_langdeck(db_langdeck_url)"
      ],
      "metadata": {
        "id": "6VLxsM2X_AfR",
        "colab": {
          "base_uri": "https://localhost:8080/"
        },
        "outputId": "fea5f0ca-f805-416f-89ea-9c7284b60c00"
      },
      "execution_count": 50,
      "outputs": [
        {
          "output_type": "stream",
          "name": "stderr",
          "text": [
            "/usr/local/lib/python3.7/dist-packages/ipykernel_launcher.py:15: FutureWarning: casting datetime64[ns] values to int64 with .astype(...) is deprecated and will raise in a future version. Use .view(...) instead.\n",
            "  from ipykernel import kernelapp as app\n"
          ]
        }
      ]
    },
    {
      "cell_type": "code",
      "source": [
        "for index, row in df_newly_updated_in_airtable.iterrows():\n",
        "  # clé A et B : concat des clés primaires\n",
        "  key_a = row['maitre']+str(row[\"ordre\"])+row[\"expression\"]+row[\"idx\"]\n",
        "  t = df_langdeck.loc[df_langdeck[\"hash\"]==row['hash']].applymap(str)\n",
        "  key_b = t[\"maitre\"].item() + t[\"ordre\"].item() + t[\"expression\"].item() + t[\"idx\"].item()\n",
        "  # si lex clés diffenet\n",
        "  if key_a != key_b:\n",
        "    cell = t_corpus.find(row['hash'])\n",
        "    t_corpus.update_cell(cell.row, 3, row['maitre'])\n",
        "    t_corpus.update_cell(cell.row, 4, row['ordre'])  \n",
        "    t_corpus.update_cell(cell.row, 5, row['expression'])  \n",
        "    t_corpus.update_cell(cell.row, 6, row['idx'])\n",
        "    t_corpus.update_cell(cell.row, 7, str(pd.to_datetime(row['timestamp'])))    \n",
        "    print (\"Update from Airtable Meta \" + key_a)\n",
        "# on recharge avec les nouvelles données\n",
        "df_langdeck = get_df_langdeck(db_langdeck_url)"
      ],
      "metadata": {
        "colab": {
          "base_uri": "https://localhost:8080/"
        },
        "id": "yMmDPwYm-N5Q",
        "outputId": "eae88d88-a6bb-46bb-82e5-91abfbfc6cdb"
      },
      "execution_count": 51,
      "outputs": [
        {
          "output_type": "stream",
          "name": "stderr",
          "text": [
            "/usr/local/lib/python3.7/dist-packages/ipykernel_launcher.py:15: FutureWarning: casting datetime64[ns] values to int64 with .astype(...) is deprecated and will raise in a future version. Use .view(...) instead.\n",
            "  from ipykernel import kernelapp as app\n"
          ]
        }
      ]
    },
    {
      "cell_type": "markdown",
      "source": [
        "## Comparaison 3 : updated records from Langdeck to Airtable"
      ],
      "metadata": {
        "id": "C0B5tQI7x2tA"
      }
    },
    {
      "cell_type": "code",
      "source": [
        "df_langdeck[\"last_updated\"] = df_langdeck[[\"hash\",\"unixtime\"]].apply(lambda x:compare_airtable_time(x[0],x[1]), axis=1) \n",
        "df_newly_updated_in_langdeck = df_langdeck.loc[df_langdeck[\"last_updated\"]]"
      ],
      "metadata": {
        "id": "-CoDE_GQx2Sy"
      },
      "execution_count": 52,
      "outputs": []
    },
    {
      "cell_type": "code",
      "source": [
        "df_airtable_for_langdeck.dtypes"
      ],
      "metadata": {
        "colab": {
          "base_uri": "https://localhost:8080/"
        },
        "id": "nBFhDEC1fPi5",
        "outputId": "b88f29b7-b41d-475c-832b-6922d33ffa7d"
      },
      "execution_count": 53,
      "outputs": [
        {
          "output_type": "execute_result",
          "data": {
            "text/plain": [
              "uid                          object\n",
              "maitre                       object\n",
              "ordre                         int64\n",
              "expression                   object\n",
              "pivot                        object\n",
              "idx                          object\n",
              "timestamp            datetime64[ns]\n",
              "themes                       object\n",
              "language                     object\n",
              "translation                  object\n",
              "hash                         object\n",
              "language_fulltext            object\n",
              "unixtime                      int64\n",
              "theme_1                      object\n",
              "theme_2                      object\n",
              "theme_3                      object\n",
              "last_updated                   bool\n",
              "dtype: object"
            ]
          },
          "metadata": {},
          "execution_count": 53
        }
      ]
    },
    {
      "cell_type": "code",
      "source": [
        "df_newly_updated_in_langdeck"
      ],
      "metadata": {
        "colab": {
          "base_uri": "https://localhost:8080/",
          "height": 341
        },
        "id": "S2MQkYlYzyJV",
        "outputId": "91b85743-03b2-469f-cf02-53c5f8e82ade"
      },
      "execution_count": 54,
      "outputs": [
        {
          "output_type": "execute_result",
          "data": {
            "text/plain": [
              "             hash       uid      maitre  ordre          expression idx           timestamp language                translation language_fulltext  ... theme_1_svg theme_2_svg theme_3_svg             unixtime translation_state      translation_pivot translation_ai_source translation_score translation_state_txt  last_updated\n",
              "1490  7c15835bukr  7c15835b  Jeun : à ~      3  Etes-vous à jeun ?   J 2022-05-20 20:44:54      ukr                 Натщесерце         Ukrainien  ...                                      1653079494000000000                 2  With an empty stomach                     0               0.5               Pending          True\n",
              "1524  b6b565a5ukr  b6b565a5    Immunité      1            Immunité   I 2022-05-20 20:43:25      ukr                   ІМунітет         Ukrainien  ...                                      1653079405000000000                 2               Immunity                     0               0.5               Pending          True\n",
              "2150  1fcd7dd3hun  1fcd7dd3     Diabète      1             Diabète   D 2022-06-01 10:49:53      hun  Diabetesz, cukor betegség          Hongrois  ...                                      1654080593000000000                 1               Diabetes                     0               0.5                    OK          True\n",
              "\n",
              "[3 rows x 26 columns]"
            ],
            "text/html": [
              "\n",
              "  <div id=\"df-4ea93007-8694-43fc-adaa-415c320fa604\">\n",
              "    <div class=\"colab-df-container\">\n",
              "      <div>\n",
              "<style scoped>\n",
              "    .dataframe tbody tr th:only-of-type {\n",
              "        vertical-align: middle;\n",
              "    }\n",
              "\n",
              "    .dataframe tbody tr th {\n",
              "        vertical-align: top;\n",
              "    }\n",
              "\n",
              "    .dataframe thead th {\n",
              "        text-align: right;\n",
              "    }\n",
              "</style>\n",
              "<table border=\"1\" class=\"dataframe\">\n",
              "  <thead>\n",
              "    <tr style=\"text-align: right;\">\n",
              "      <th></th>\n",
              "      <th>hash</th>\n",
              "      <th>uid</th>\n",
              "      <th>maitre</th>\n",
              "      <th>ordre</th>\n",
              "      <th>expression</th>\n",
              "      <th>idx</th>\n",
              "      <th>timestamp</th>\n",
              "      <th>language</th>\n",
              "      <th>translation</th>\n",
              "      <th>language_fulltext</th>\n",
              "      <th>...</th>\n",
              "      <th>theme_1_svg</th>\n",
              "      <th>theme_2_svg</th>\n",
              "      <th>theme_3_svg</th>\n",
              "      <th>unixtime</th>\n",
              "      <th>translation_state</th>\n",
              "      <th>translation_pivot</th>\n",
              "      <th>translation_ai_source</th>\n",
              "      <th>translation_score</th>\n",
              "      <th>translation_state_txt</th>\n",
              "      <th>last_updated</th>\n",
              "    </tr>\n",
              "  </thead>\n",
              "  <tbody>\n",
              "    <tr>\n",
              "      <th>1490</th>\n",
              "      <td>7c15835bukr</td>\n",
              "      <td>7c15835b</td>\n",
              "      <td>Jeun : à ~</td>\n",
              "      <td>3</td>\n",
              "      <td>Etes-vous à jeun ?</td>\n",
              "      <td>J</td>\n",
              "      <td>2022-05-20 20:44:54</td>\n",
              "      <td>ukr</td>\n",
              "      <td>Натщесерце</td>\n",
              "      <td>Ukrainien</td>\n",
              "      <td>...</td>\n",
              "      <td></td>\n",
              "      <td></td>\n",
              "      <td></td>\n",
              "      <td>1653079494000000000</td>\n",
              "      <td>2</td>\n",
              "      <td>With an empty stomach</td>\n",
              "      <td>0</td>\n",
              "      <td>0.5</td>\n",
              "      <td>Pending</td>\n",
              "      <td>True</td>\n",
              "    </tr>\n",
              "    <tr>\n",
              "      <th>1524</th>\n",
              "      <td>b6b565a5ukr</td>\n",
              "      <td>b6b565a5</td>\n",
              "      <td>Immunité</td>\n",
              "      <td>1</td>\n",
              "      <td>Immunité</td>\n",
              "      <td>I</td>\n",
              "      <td>2022-05-20 20:43:25</td>\n",
              "      <td>ukr</td>\n",
              "      <td>ІМунітет</td>\n",
              "      <td>Ukrainien</td>\n",
              "      <td>...</td>\n",
              "      <td></td>\n",
              "      <td></td>\n",
              "      <td></td>\n",
              "      <td>1653079405000000000</td>\n",
              "      <td>2</td>\n",
              "      <td>Immunity</td>\n",
              "      <td>0</td>\n",
              "      <td>0.5</td>\n",
              "      <td>Pending</td>\n",
              "      <td>True</td>\n",
              "    </tr>\n",
              "    <tr>\n",
              "      <th>2150</th>\n",
              "      <td>1fcd7dd3hun</td>\n",
              "      <td>1fcd7dd3</td>\n",
              "      <td>Diabète</td>\n",
              "      <td>1</td>\n",
              "      <td>Diabète</td>\n",
              "      <td>D</td>\n",
              "      <td>2022-06-01 10:49:53</td>\n",
              "      <td>hun</td>\n",
              "      <td>Diabetesz, cukor betegség</td>\n",
              "      <td>Hongrois</td>\n",
              "      <td>...</td>\n",
              "      <td></td>\n",
              "      <td></td>\n",
              "      <td></td>\n",
              "      <td>1654080593000000000</td>\n",
              "      <td>1</td>\n",
              "      <td>Diabetes</td>\n",
              "      <td>0</td>\n",
              "      <td>0.5</td>\n",
              "      <td>OK</td>\n",
              "      <td>True</td>\n",
              "    </tr>\n",
              "  </tbody>\n",
              "</table>\n",
              "<p>3 rows × 26 columns</p>\n",
              "</div>\n",
              "      <button class=\"colab-df-convert\" onclick=\"convertToInteractive('df-4ea93007-8694-43fc-adaa-415c320fa604')\"\n",
              "              title=\"Convert this dataframe to an interactive table.\"\n",
              "              style=\"display:none;\">\n",
              "        \n",
              "  <svg xmlns=\"http://www.w3.org/2000/svg\" height=\"24px\"viewBox=\"0 0 24 24\"\n",
              "       width=\"24px\">\n",
              "    <path d=\"M0 0h24v24H0V0z\" fill=\"none\"/>\n",
              "    <path d=\"M18.56 5.44l.94 2.06.94-2.06 2.06-.94-2.06-.94-.94-2.06-.94 2.06-2.06.94zm-11 1L8.5 8.5l.94-2.06 2.06-.94-2.06-.94L8.5 2.5l-.94 2.06-2.06.94zm10 10l.94 2.06.94-2.06 2.06-.94-2.06-.94-.94-2.06-.94 2.06-2.06.94z\"/><path d=\"M17.41 7.96l-1.37-1.37c-.4-.4-.92-.59-1.43-.59-.52 0-1.04.2-1.43.59L10.3 9.45l-7.72 7.72c-.78.78-.78 2.05 0 2.83L4 21.41c.39.39.9.59 1.41.59.51 0 1.02-.2 1.41-.59l7.78-7.78 2.81-2.81c.8-.78.8-2.07 0-2.86zM5.41 20L4 18.59l7.72-7.72 1.47 1.35L5.41 20z\"/>\n",
              "  </svg>\n",
              "      </button>\n",
              "      \n",
              "  <style>\n",
              "    .colab-df-container {\n",
              "      display:flex;\n",
              "      flex-wrap:wrap;\n",
              "      gap: 12px;\n",
              "    }\n",
              "\n",
              "    .colab-df-convert {\n",
              "      background-color: #E8F0FE;\n",
              "      border: none;\n",
              "      border-radius: 50%;\n",
              "      cursor: pointer;\n",
              "      display: none;\n",
              "      fill: #1967D2;\n",
              "      height: 32px;\n",
              "      padding: 0 0 0 0;\n",
              "      width: 32px;\n",
              "    }\n",
              "\n",
              "    .colab-df-convert:hover {\n",
              "      background-color: #E2EBFA;\n",
              "      box-shadow: 0px 1px 2px rgba(60, 64, 67, 0.3), 0px 1px 3px 1px rgba(60, 64, 67, 0.15);\n",
              "      fill: #174EA6;\n",
              "    }\n",
              "\n",
              "    [theme=dark] .colab-df-convert {\n",
              "      background-color: #3B4455;\n",
              "      fill: #D2E3FC;\n",
              "    }\n",
              "\n",
              "    [theme=dark] .colab-df-convert:hover {\n",
              "      background-color: #434B5C;\n",
              "      box-shadow: 0px 1px 3px 1px rgba(0, 0, 0, 0.15);\n",
              "      filter: drop-shadow(0px 1px 2px rgba(0, 0, 0, 0.3));\n",
              "      fill: #FFFFFF;\n",
              "    }\n",
              "  </style>\n",
              "\n",
              "      <script>\n",
              "        const buttonEl =\n",
              "          document.querySelector('#df-4ea93007-8694-43fc-adaa-415c320fa604 button.colab-df-convert');\n",
              "        buttonEl.style.display =\n",
              "          google.colab.kernel.accessAllowed ? 'block' : 'none';\n",
              "\n",
              "        async function convertToInteractive(key) {\n",
              "          const element = document.querySelector('#df-4ea93007-8694-43fc-adaa-415c320fa604');\n",
              "          const dataTable =\n",
              "            await google.colab.kernel.invokeFunction('convertToInteractive',\n",
              "                                                     [key], {});\n",
              "          if (!dataTable) return;\n",
              "\n",
              "          const docLinkHtml = 'Like what you see? Visit the ' +\n",
              "            '<a target=\"_blank\" href=https://colab.research.google.com/notebooks/data_table.ipynb>data table notebook</a>'\n",
              "            + ' to learn more about interactive tables.';\n",
              "          element.innerHTML = '';\n",
              "          dataTable['output_type'] = 'display_data';\n",
              "          await google.colab.output.renderOutput(dataTable, element);\n",
              "          const docLink = document.createElement('div');\n",
              "          docLink.innerHTML = docLinkHtml;\n",
              "          element.appendChild(docLink);\n",
              "        }\n",
              "      </script>\n",
              "    </div>\n",
              "  </div>\n",
              "  "
            ]
          },
          "metadata": {},
          "execution_count": 54
        }
      ]
    },
    {
      "cell_type": "markdown",
      "source": [
        "## Mise à jour dans Airtable + maj symétrique du timestamp dans Langdeck"
      ],
      "metadata": {
        "id": "141aDNSL0ezB"
      }
    },
    {
      "cell_type": "code",
      "source": [
        "for index, row in df_newly_updated_in_langdeck.iterrows():\n",
        "  if row[\"uid\"] is not None:\n",
        "    record = airtable.match('UID', row[\"uid\"])\n",
        "    if bool(record) is True:\n",
        "      aDict = {}\n",
        "      aDict[row[\"language\"]] = row[\"translation\"]\n",
        "      airtable.update(record['id'], aDict)\n",
        "      print (\"Updating status for \" + row[\"uid\"])\n"
      ],
      "metadata": {
        "id": "HrVniAvh0hmP",
        "colab": {
          "base_uri": "https://localhost:8080/"
        },
        "outputId": "514ca379-9899-4a0d-e337-80be94174128"
      },
      "execution_count": 55,
      "outputs": [
        {
          "output_type": "stream",
          "name": "stdout",
          "text": [
            "Updating status for 7c15835b\n",
            "Updating status for b6b565a5\n",
            "Updating status for 1fcd7dd3\n"
          ]
        }
      ]
    },
    {
      "cell_type": "code",
      "source": [
        "for index, row in df_newly_updated_in_langdeck.iterrows():\n",
        "  if row[\"uid\"] is not None:\n",
        "    record = airtable.match('UID', row[\"uid\"])\n",
        "    if bool(record) is True:\n",
        "      # mise à jour symétrique pour garantir le même timestamp\n",
        "      cell = t_corpus.find(row['hash'])\n",
        "      t_corpus.update_cell(cell.row, 6, row[\"idx\"])\n",
        "      t_corpus.update_cell(cell.row, 7, str(pd.to_datetime(row['timestamp'])))\n",
        "# on recharge avec les nouvelles données\n",
        "df_langdeck = get_df_langdeck(db_langdeck_url)"
      ],
      "metadata": {
        "id": "dnJGy5OPev4e",
        "colab": {
          "base_uri": "https://localhost:8080/"
        },
        "outputId": "e3cbd18d-3118-4442-eb4e-63d4327c3ce4"
      },
      "execution_count": 56,
      "outputs": [
        {
          "output_type": "stream",
          "name": "stderr",
          "text": [
            "/usr/local/lib/python3.7/dist-packages/ipykernel_launcher.py:15: FutureWarning: casting datetime64[ns] values to int64 with .astype(...) is deprecated and will raise in a future version. Use .view(...) instead.\n",
            "  from ipykernel import kernelapp as app\n"
          ]
        }
      ]
    },
    {
      "cell_type": "code",
      "source": [
        "# on ajoute une colonne de translation state (0=VOID; 1=PENDING; 2=OK; 3=KO)\n",
        "#df_langdeck[\"translation_state\"] = df_langdeck[\"translation\"].apply(lambda x:0 if x==\"\" else 1)\n",
        "df_langdeck = get_df_langdeck(db_langdeck_url)"
      ],
      "metadata": {
        "id": "73Y_4g3dYqPC",
        "colab": {
          "base_uri": "https://localhost:8080/"
        },
        "outputId": "35fee546-dffb-48ab-cd4e-d2cc511b61e0"
      },
      "execution_count": 57,
      "outputs": [
        {
          "output_type": "stream",
          "name": "stderr",
          "text": [
            "/usr/local/lib/python3.7/dist-packages/ipykernel_launcher.py:15: FutureWarning: casting datetime64[ns] values to int64 with .astype(...) is deprecated and will raise in a future version. Use .view(...) instead.\n",
            "  from ipykernel import kernelapp as app\n"
          ]
        }
      ]
    },
    {
      "cell_type": "code",
      "source": [
        "df_langdeck.dtypes"
      ],
      "metadata": {
        "colab": {
          "base_uri": "https://localhost:8080/"
        },
        "id": "V5A0JWRNbdYJ",
        "outputId": "48377daa-bdcf-45dd-a05a-b33e07f19ac1"
      },
      "execution_count": 58,
      "outputs": [
        {
          "output_type": "execute_result",
          "data": {
            "text/plain": [
              "hash                             object\n",
              "uid                              object\n",
              "maitre                           object\n",
              "ordre                             int64\n",
              "expression                       object\n",
              "idx                              object\n",
              "timestamp                datetime64[ns]\n",
              "language                         object\n",
              "translation                      object\n",
              "language_fulltext                object\n",
              "audio                            object\n",
              "is_audio                         object\n",
              "uploaded_file                    object\n",
              "theme_1                          object\n",
              "theme_2                          object\n",
              "theme_3                          object\n",
              "theme_1_svg                      object\n",
              "theme_2_svg                      object\n",
              "theme_3_svg                      object\n",
              "unixtime                          int64\n",
              "translation_state                object\n",
              "translation_pivot                object\n",
              "translation_ai_source            object\n",
              "translation_score                object\n",
              "translation_state_txt            object\n",
              "dtype: object"
            ]
          },
          "metadata": {},
          "execution_count": 58
        }
      ]
    },
    {
      "cell_type": "code",
      "source": [
        "def get_translation_pivot (hash):\n",
        "  r = df_airtable_for_langdeck.loc[df_airtable_for_langdeck[\"hash\"]==hash][\"pivot\"].values.item()\n",
        "  return r"
      ],
      "metadata": {
        "id": "Wk3CAfgZgcg_"
      },
      "execution_count": 59,
      "outputs": []
    },
    {
      "cell_type": "code",
      "source": [
        "# on ajoute une colonne pour la translation pivot (en)\n",
        "df_langdeck[\"translation_pivot\"] = df_langdeck[\"hash\"].apply(lambda x:get_translation_pivot(x))\n",
        "df_langdeck[\"translation_state\"] = df_langdeck[\"translation_state\"].astype(int)"
      ],
      "metadata": {
        "id": "tOyE2X1Pgl2I"
      },
      "execution_count": 60,
      "outputs": []
    },
    {
      "cell_type": "code",
      "source": [
        "df_langdeck.dtypes"
      ],
      "metadata": {
        "colab": {
          "base_uri": "https://localhost:8080/"
        },
        "id": "1v2c4c0CyuSY",
        "outputId": "8f728770-30d2-4041-aa7d-615d1d9f661c"
      },
      "execution_count": 61,
      "outputs": [
        {
          "output_type": "execute_result",
          "data": {
            "text/plain": [
              "hash                             object\n",
              "uid                              object\n",
              "maitre                           object\n",
              "ordre                             int64\n",
              "expression                       object\n",
              "idx                              object\n",
              "timestamp                datetime64[ns]\n",
              "language                         object\n",
              "translation                      object\n",
              "language_fulltext                object\n",
              "audio                            object\n",
              "is_audio                         object\n",
              "uploaded_file                    object\n",
              "theme_1                          object\n",
              "theme_2                          object\n",
              "theme_3                          object\n",
              "theme_1_svg                      object\n",
              "theme_2_svg                      object\n",
              "theme_3_svg                      object\n",
              "unixtime                          int64\n",
              "translation_state                 int64\n",
              "translation_pivot                object\n",
              "translation_ai_source            object\n",
              "translation_score                object\n",
              "translation_state_txt            object\n",
              "dtype: object"
            ]
          },
          "metadata": {},
          "execution_count": 61
        }
      ]
    },
    {
      "cell_type": "code",
      "source": [
        "df_langdeck.iloc[0]"
      ],
      "metadata": {
        "colab": {
          "base_uri": "https://localhost:8080/"
        },
        "id": "YIhovA8r_PdB",
        "outputId": "74e04c73-2230-4518-f70f-01e2be536266"
      },
      "execution_count": 62,
      "outputs": [
        {
          "output_type": "execute_result",
          "data": {
            "text/plain": [
              "hash                                                           f9bc13efams\n",
              "uid                                                               f9bc13ef\n",
              "maitre                                                          Médicament\n",
              "ordre                                                                    3\n",
              "expression               À quel moment de la journée vous prenez le méd...\n",
              "idx                                                                      M\n",
              "timestamp                                              2022-04-01 08:15:21\n",
              "language                                                               ams\n",
              "translation                              في أي وقت من اليوم تتناول الدواء؟\n",
              "language_fulltext                                                    Arabe\n",
              "audio                    Files_Files_/Corpus/t_expo_audio/f9bc13ef-ams.mp3\n",
              "is_audio                                                             FALSE\n",
              "uploaded_file                                                             \n",
              "theme_1                                                  Médecine générale\n",
              "theme_2                                                                   \n",
              "theme_3                                                                   \n",
              "theme_1_svg                                  Files_Files_/misc/Médical.png\n",
              "theme_2_svg                                                               \n",
              "theme_3_svg                                                               \n",
              "unixtime                                               1648800921000000000\n",
              "translation_state                                                        1\n",
              "translation_pivot            At what time of day do you take the medicine?\n",
              "translation_ai_source                                                    0\n",
              "translation_score                                                        1\n",
              "translation_state_txt                                                   OK\n",
              "Name: 0, dtype: object"
            ]
          },
          "metadata": {},
          "execution_count": 62
        }
      ]
    },
    {
      "cell_type": "markdown",
      "source": [
        "# Table Vocabulaire (Maitre)"
      ],
      "metadata": {
        "id": "uPPulsgoX73O"
      }
    },
    {
      "cell_type": "code",
      "source": [
        "df_vocabulary = df_langdeck.copy()"
      ],
      "metadata": {
        "id": "Hg5MJKxbYCdE"
      },
      "execution_count": 93,
      "outputs": []
    },
    {
      "cell_type": "code",
      "source": [
        "df_vocabulary = df_vocabulary.drop_duplicates(subset=['maitre'], keep='first').sort_values('maitre', ascending=True)"
      ],
      "metadata": {
        "id": "aOCd-CvbY8iS"
      },
      "execution_count": 94,
      "outputs": []
    },
    {
      "cell_type": "code",
      "source": [
        "df_vocabulary = df_vocabulary[[\"maitre\",\"idx\",\"translation_pivot\"]]\n"
      ],
      "metadata": {
        "id": "WjPe6KeTaCTI"
      },
      "execution_count": 95,
      "outputs": []
    },
    {
      "cell_type": "code",
      "source": [
        "df_vocabulary.reset_index()"
      ],
      "metadata": {
        "colab": {
          "base_uri": "https://localhost:8080/",
          "height": 423
        },
        "id": "KDmjq4Z7aXMy",
        "outputId": "f10a7d60-4a8f-4244-e2cd-0cdc98c992aa"
      },
      "execution_count": 96,
      "outputs": [
        {
          "output_type": "execute_result",
          "data": {
            "text/plain": [
              "     index        maitre idx       translation_pivot\n",
              "0       14           AME   A  AME- State Medical Aid\n",
              "1        1         Abcès   A               Abscesses\n",
              "2        2       Abdomen   A                 Abdomen\n",
              "3        4      Accident   A                Accident\n",
              "4        6  Accouchement   A              Childbirth\n",
              "..     ...           ...  ..                     ...\n",
              "222    332  Vomissements   V                Vomiting\n",
              "223    340          Zona   Z                Shingles\n",
              "224      8           Âge   A                     Age\n",
              "225    213         Œdème   O                  Oedema\n",
              "226   5523      Œsophage   O               Esophagus\n",
              "\n",
              "[227 rows x 4 columns]"
            ],
            "text/html": [
              "\n",
              "  <div id=\"df-1986537f-d02c-48d6-a234-c9c0338008f2\">\n",
              "    <div class=\"colab-df-container\">\n",
              "      <div>\n",
              "<style scoped>\n",
              "    .dataframe tbody tr th:only-of-type {\n",
              "        vertical-align: middle;\n",
              "    }\n",
              "\n",
              "    .dataframe tbody tr th {\n",
              "        vertical-align: top;\n",
              "    }\n",
              "\n",
              "    .dataframe thead th {\n",
              "        text-align: right;\n",
              "    }\n",
              "</style>\n",
              "<table border=\"1\" class=\"dataframe\">\n",
              "  <thead>\n",
              "    <tr style=\"text-align: right;\">\n",
              "      <th></th>\n",
              "      <th>index</th>\n",
              "      <th>maitre</th>\n",
              "      <th>idx</th>\n",
              "      <th>translation_pivot</th>\n",
              "    </tr>\n",
              "  </thead>\n",
              "  <tbody>\n",
              "    <tr>\n",
              "      <th>0</th>\n",
              "      <td>14</td>\n",
              "      <td>AME</td>\n",
              "      <td>A</td>\n",
              "      <td>AME- State Medical Aid</td>\n",
              "    </tr>\n",
              "    <tr>\n",
              "      <th>1</th>\n",
              "      <td>1</td>\n",
              "      <td>Abcès</td>\n",
              "      <td>A</td>\n",
              "      <td>Abscesses</td>\n",
              "    </tr>\n",
              "    <tr>\n",
              "      <th>2</th>\n",
              "      <td>2</td>\n",
              "      <td>Abdomen</td>\n",
              "      <td>A</td>\n",
              "      <td>Abdomen</td>\n",
              "    </tr>\n",
              "    <tr>\n",
              "      <th>3</th>\n",
              "      <td>4</td>\n",
              "      <td>Accident</td>\n",
              "      <td>A</td>\n",
              "      <td>Accident</td>\n",
              "    </tr>\n",
              "    <tr>\n",
              "      <th>4</th>\n",
              "      <td>6</td>\n",
              "      <td>Accouchement</td>\n",
              "      <td>A</td>\n",
              "      <td>Childbirth</td>\n",
              "    </tr>\n",
              "    <tr>\n",
              "      <th>...</th>\n",
              "      <td>...</td>\n",
              "      <td>...</td>\n",
              "      <td>...</td>\n",
              "      <td>...</td>\n",
              "    </tr>\n",
              "    <tr>\n",
              "      <th>222</th>\n",
              "      <td>332</td>\n",
              "      <td>Vomissements</td>\n",
              "      <td>V</td>\n",
              "      <td>Vomiting</td>\n",
              "    </tr>\n",
              "    <tr>\n",
              "      <th>223</th>\n",
              "      <td>340</td>\n",
              "      <td>Zona</td>\n",
              "      <td>Z</td>\n",
              "      <td>Shingles</td>\n",
              "    </tr>\n",
              "    <tr>\n",
              "      <th>224</th>\n",
              "      <td>8</td>\n",
              "      <td>Âge</td>\n",
              "      <td>A</td>\n",
              "      <td>Age</td>\n",
              "    </tr>\n",
              "    <tr>\n",
              "      <th>225</th>\n",
              "      <td>213</td>\n",
              "      <td>Œdème</td>\n",
              "      <td>O</td>\n",
              "      <td>Oedema</td>\n",
              "    </tr>\n",
              "    <tr>\n",
              "      <th>226</th>\n",
              "      <td>5523</td>\n",
              "      <td>Œsophage</td>\n",
              "      <td>O</td>\n",
              "      <td>Esophagus</td>\n",
              "    </tr>\n",
              "  </tbody>\n",
              "</table>\n",
              "<p>227 rows × 4 columns</p>\n",
              "</div>\n",
              "      <button class=\"colab-df-convert\" onclick=\"convertToInteractive('df-1986537f-d02c-48d6-a234-c9c0338008f2')\"\n",
              "              title=\"Convert this dataframe to an interactive table.\"\n",
              "              style=\"display:none;\">\n",
              "        \n",
              "  <svg xmlns=\"http://www.w3.org/2000/svg\" height=\"24px\"viewBox=\"0 0 24 24\"\n",
              "       width=\"24px\">\n",
              "    <path d=\"M0 0h24v24H0V0z\" fill=\"none\"/>\n",
              "    <path d=\"M18.56 5.44l.94 2.06.94-2.06 2.06-.94-2.06-.94-.94-2.06-.94 2.06-2.06.94zm-11 1L8.5 8.5l.94-2.06 2.06-.94-2.06-.94L8.5 2.5l-.94 2.06-2.06.94zm10 10l.94 2.06.94-2.06 2.06-.94-2.06-.94-.94-2.06-.94 2.06-2.06.94z\"/><path d=\"M17.41 7.96l-1.37-1.37c-.4-.4-.92-.59-1.43-.59-.52 0-1.04.2-1.43.59L10.3 9.45l-7.72 7.72c-.78.78-.78 2.05 0 2.83L4 21.41c.39.39.9.59 1.41.59.51 0 1.02-.2 1.41-.59l7.78-7.78 2.81-2.81c.8-.78.8-2.07 0-2.86zM5.41 20L4 18.59l7.72-7.72 1.47 1.35L5.41 20z\"/>\n",
              "  </svg>\n",
              "      </button>\n",
              "      \n",
              "  <style>\n",
              "    .colab-df-container {\n",
              "      display:flex;\n",
              "      flex-wrap:wrap;\n",
              "      gap: 12px;\n",
              "    }\n",
              "\n",
              "    .colab-df-convert {\n",
              "      background-color: #E8F0FE;\n",
              "      border: none;\n",
              "      border-radius: 50%;\n",
              "      cursor: pointer;\n",
              "      display: none;\n",
              "      fill: #1967D2;\n",
              "      height: 32px;\n",
              "      padding: 0 0 0 0;\n",
              "      width: 32px;\n",
              "    }\n",
              "\n",
              "    .colab-df-convert:hover {\n",
              "      background-color: #E2EBFA;\n",
              "      box-shadow: 0px 1px 2px rgba(60, 64, 67, 0.3), 0px 1px 3px 1px rgba(60, 64, 67, 0.15);\n",
              "      fill: #174EA6;\n",
              "    }\n",
              "\n",
              "    [theme=dark] .colab-df-convert {\n",
              "      background-color: #3B4455;\n",
              "      fill: #D2E3FC;\n",
              "    }\n",
              "\n",
              "    [theme=dark] .colab-df-convert:hover {\n",
              "      background-color: #434B5C;\n",
              "      box-shadow: 0px 1px 3px 1px rgba(0, 0, 0, 0.15);\n",
              "      filter: drop-shadow(0px 1px 2px rgba(0, 0, 0, 0.3));\n",
              "      fill: #FFFFFF;\n",
              "    }\n",
              "  </style>\n",
              "\n",
              "      <script>\n",
              "        const buttonEl =\n",
              "          document.querySelector('#df-1986537f-d02c-48d6-a234-c9c0338008f2 button.colab-df-convert');\n",
              "        buttonEl.style.display =\n",
              "          google.colab.kernel.accessAllowed ? 'block' : 'none';\n",
              "\n",
              "        async function convertToInteractive(key) {\n",
              "          const element = document.querySelector('#df-1986537f-d02c-48d6-a234-c9c0338008f2');\n",
              "          const dataTable =\n",
              "            await google.colab.kernel.invokeFunction('convertToInteractive',\n",
              "                                                     [key], {});\n",
              "          if (!dataTable) return;\n",
              "\n",
              "          const docLinkHtml = 'Like what you see? Visit the ' +\n",
              "            '<a target=\"_blank\" href=https://colab.research.google.com/notebooks/data_table.ipynb>data table notebook</a>'\n",
              "            + ' to learn more about interactive tables.';\n",
              "          element.innerHTML = '';\n",
              "          dataTable['output_type'] = 'display_data';\n",
              "          await google.colab.output.renderOutput(dataTable, element);\n",
              "          const docLink = document.createElement('div');\n",
              "          docLink.innerHTML = docLinkHtml;\n",
              "          element.appendChild(docLink);\n",
              "        }\n",
              "      </script>\n",
              "    </div>\n",
              "  </div>\n",
              "  "
            ]
          },
          "metadata": {},
          "execution_count": 96
        }
      ]
    },
    {
      "cell_type": "code",
      "source": [
        "!pip install pymediawiki\n",
        "# https://github.com/barrust/mediawiki\n",
        "# https://pymediawiki.readthedocs.io/en/latest/code.html\n",
        "from mediawiki import MediaWiki"
      ],
      "metadata": {
        "colab": {
          "base_uri": "https://localhost:8080/"
        },
        "id": "tm9Rd57_aXIa",
        "outputId": "b684f6de-2253-4d18-e9ce-1c7ce424b774"
      },
      "execution_count": 86,
      "outputs": [
        {
          "output_type": "stream",
          "name": "stdout",
          "text": [
            "Looking in indexes: https://pypi.org/simple, https://us-python.pkg.dev/colab-wheels/public/simple/\n",
            "Requirement already satisfied: pymediawiki in /usr/local/lib/python3.7/dist-packages (0.7.1)\n",
            "Requirement already satisfied: beautifulsoup4 in /usr/local/lib/python3.7/dist-packages (from pymediawiki) (4.11.1)\n",
            "Requirement already satisfied: requests<3.0.0,>=2.0.0 in /usr/local/lib/python3.7/dist-packages (from pymediawiki) (2.23.0)\n",
            "Requirement already satisfied: chardet<4,>=3.0.2 in /usr/local/lib/python3.7/dist-packages (from requests<3.0.0,>=2.0.0->pymediawiki) (3.0.4)\n",
            "Requirement already satisfied: urllib3!=1.25.0,!=1.25.1,<1.26,>=1.21.1 in /usr/local/lib/python3.7/dist-packages (from requests<3.0.0,>=2.0.0->pymediawiki) (1.24.3)\n",
            "Requirement already satisfied: idna<3,>=2.5 in /usr/local/lib/python3.7/dist-packages (from requests<3.0.0,>=2.0.0->pymediawiki) (2.10)\n",
            "Requirement already satisfied: certifi>=2017.4.17 in /usr/local/lib/python3.7/dist-packages (from requests<3.0.0,>=2.0.0->pymediawiki) (2022.5.18.1)\n",
            "Requirement already satisfied: soupsieve>1.2 in /usr/local/lib/python3.7/dist-packages (from beautifulsoup4->pymediawiki) (2.3.2.post1)\n"
          ]
        }
      ]
    },
    {
      "cell_type": "code",
      "source": [
        "def get_wikipedia(text, language):\n",
        "  wikipedia = MediaWiki(lang=language)  \n",
        "  r = \"\"\n",
        "  try:\n",
        "    p = wikipedia.page(text)\n",
        "    r = p.summary\n",
        "  except Exception as e:\n",
        "    r = str(e)\n",
        "    pass\n",
        "\n",
        "  return r"
      ],
      "metadata": {
        "id": "uxkBQNhIbU_i"
      },
      "execution_count": 87,
      "outputs": []
    },
    {
      "cell_type": "code",
      "source": [
        "df_vocabulary[\"wikipedia_fr\"] = df_vocabulary[\"maitre\"].apply(lambda x:get_wikipedia(x, \"fr\"))\n",
        "df_vocabulary[\"wikipedia_en\"] = df_vocabulary[\"translation_pivot\"].apply(lambda x:get_wikipedia(x, \"en\"))"
      ],
      "metadata": {
        "id": "lviuFT4CdfA2"
      },
      "execution_count": 97,
      "outputs": []
    },
    {
      "cell_type": "code",
      "source": [
        "df_vocabulary[\"wiki_search_text_fr\"] = df_vocabulary[\"maitre\"]\n",
        "df_vocabulary[\"wiki_search_text_en\"] = df_vocabulary[\"translation_pivot\"]"
      ],
      "metadata": {
        "id": "NlgNCNUUlbSK"
      },
      "execution_count": 100,
      "outputs": []
    },
    {
      "cell_type": "code",
      "source": [
        "del df_vocabulary[\"wiki_search_text\"]"
      ],
      "metadata": {
        "id": "TKNeqCu1loVY"
      },
      "execution_count": 101,
      "outputs": []
    },
    {
      "cell_type": "code",
      "source": [
        "df_vocabulary.iloc[224][\"wikipedia_fr\"][0]=='\\n'"
      ],
      "metadata": {
        "colab": {
          "base_uri": "https://localhost:8080/"
        },
        "id": "Axwu3I3hmu8X",
        "outputId": "2e97e8e2-1eca-41e5-8502-71a536b61be4"
      },
      "execution_count": 108,
      "outputs": [
        {
          "output_type": "execute_result",
          "data": {
            "text/plain": [
              "True"
            ]
          },
          "metadata": {},
          "execution_count": 108
        }
      ]
    },
    {
      "cell_type": "code",
      "source": [
        "df_vocabulary[\"wikipedia_fr_state\"]=df_vocabulary[\"wikipedia_fr\"].apply(lambda x: 1 if x[0]==\"\\n\" else 0)\n",
        "df_vocabulary[\"wikipedia_en_state\"]=df_vocabulary[\"wikipedia_en\"].apply(lambda x: 1 if x[0]==\"\\n\" else 0)"
      ],
      "metadata": {
        "id": "SkhDlxzufumO"
      },
      "execution_count": 110,
      "outputs": []
    },
    {
      "cell_type": "code",
      "source": [
        "df_vocabulary"
      ],
      "metadata": {
        "colab": {
          "base_uri": "https://localhost:8080/",
          "height": 589
        },
        "id": "I-52JfRvnO96",
        "outputId": "7d0e76c7-fb32-45c1-d236-935bfdf5feda"
      },
      "execution_count": 111,
      "outputs": [
        {
          "output_type": "execute_result",
          "data": {
            "text/plain": [
              "            maitre idx       translation_pivot                                       wikipedia_fr                                       wikipedia_en wiki_search_text_fr     wiki_search_text_en  wikipedia_fr_state  wikipedia_en_state\n",
              "14             AME   A  AME- State Medical Aid  L’âme (du latin anima, « souffle, respiration ...  The French Universal Health Coverage (French: ...                 AME  AME- State Medical Aid                   0                   0\n",
              "1            Abcès   A               Abscesses  Un abcès est une accumulation locale de pus ap...  An abscess is a collection of pus that has bui...               Abcès               Abscesses                   0                   0\n",
              "2          Abdomen   A                 Abdomen  L’abdomen (du latin, de même sens) est une par...  The abdomen (colloquially called the belly, tu...             Abdomen                 Abdomen                   0                   0\n",
              "4         Accident   A                Accident  Un accident est un événement, généralement non...  An accident is an unintended, normally unwante...            Accident                Accident                   0                   0\n",
              "6     Accouchement   A              Childbirth  L'accouchement est l'action de mettre un enfan...  Childbirth, also known as labour or delivery, ...        Accouchement              Childbirth                   0                   0\n",
              "...            ...  ..                     ...                                                ...                                                ...                 ...                     ...                 ...                 ...\n",
              "332   Vomissements   V                Vomiting  Le vomissement est le rejet actif par la bouch...  Vomiting (also known as emesis and throwing up...        Vomissements                Vomiting                   0                   0\n",
              "340           Zona   Z                Shingles  Le zona est une dermatose virale, due au virus...  Shingles, also known as zoster or herpes zoste...                Zona                Shingles                   0                   0\n",
              "8              Âge   A                     Age  \\n\"Âge\" may refer to: \\n  12 ans d'âge\\n  13e ...  \\n\"Age\" may refer to: \\n  \"Age\" (song)\\n  AG (...                 Âge                     Age                   1                   1\n",
              "213          Œdème   O                  Oedema  Un œdème est un gonflement d'un organe ou d'un...  Edema, also spelled oedema, and also known as ...               Œdème                  Oedema                   0                   0\n",
              "5523      Œsophage   O               Esophagus  L'œsophage (du grec οισοφάγος, littéralement «...  The esophagus (American English) or oesophagus...            Œsophage               Esophagus                   0                   0\n",
              "\n",
              "[227 rows x 9 columns]"
            ],
            "text/html": [
              "\n",
              "  <div id=\"df-d56cdeb6-7940-49ec-aed5-b58b255cdd32\">\n",
              "    <div class=\"colab-df-container\">\n",
              "      <div>\n",
              "<style scoped>\n",
              "    .dataframe tbody tr th:only-of-type {\n",
              "        vertical-align: middle;\n",
              "    }\n",
              "\n",
              "    .dataframe tbody tr th {\n",
              "        vertical-align: top;\n",
              "    }\n",
              "\n",
              "    .dataframe thead th {\n",
              "        text-align: right;\n",
              "    }\n",
              "</style>\n",
              "<table border=\"1\" class=\"dataframe\">\n",
              "  <thead>\n",
              "    <tr style=\"text-align: right;\">\n",
              "      <th></th>\n",
              "      <th>maitre</th>\n",
              "      <th>idx</th>\n",
              "      <th>translation_pivot</th>\n",
              "      <th>wikipedia_fr</th>\n",
              "      <th>wikipedia_en</th>\n",
              "      <th>wiki_search_text_fr</th>\n",
              "      <th>wiki_search_text_en</th>\n",
              "      <th>wikipedia_fr_state</th>\n",
              "      <th>wikipedia_en_state</th>\n",
              "    </tr>\n",
              "  </thead>\n",
              "  <tbody>\n",
              "    <tr>\n",
              "      <th>14</th>\n",
              "      <td>AME</td>\n",
              "      <td>A</td>\n",
              "      <td>AME- State Medical Aid</td>\n",
              "      <td>L’âme (du latin anima, « souffle, respiration ...</td>\n",
              "      <td>The French Universal Health Coverage (French: ...</td>\n",
              "      <td>AME</td>\n",
              "      <td>AME- State Medical Aid</td>\n",
              "      <td>0</td>\n",
              "      <td>0</td>\n",
              "    </tr>\n",
              "    <tr>\n",
              "      <th>1</th>\n",
              "      <td>Abcès</td>\n",
              "      <td>A</td>\n",
              "      <td>Abscesses</td>\n",
              "      <td>Un abcès est une accumulation locale de pus ap...</td>\n",
              "      <td>An abscess is a collection of pus that has bui...</td>\n",
              "      <td>Abcès</td>\n",
              "      <td>Abscesses</td>\n",
              "      <td>0</td>\n",
              "      <td>0</td>\n",
              "    </tr>\n",
              "    <tr>\n",
              "      <th>2</th>\n",
              "      <td>Abdomen</td>\n",
              "      <td>A</td>\n",
              "      <td>Abdomen</td>\n",
              "      <td>L’abdomen (du latin, de même sens) est une par...</td>\n",
              "      <td>The abdomen (colloquially called the belly, tu...</td>\n",
              "      <td>Abdomen</td>\n",
              "      <td>Abdomen</td>\n",
              "      <td>0</td>\n",
              "      <td>0</td>\n",
              "    </tr>\n",
              "    <tr>\n",
              "      <th>4</th>\n",
              "      <td>Accident</td>\n",
              "      <td>A</td>\n",
              "      <td>Accident</td>\n",
              "      <td>Un accident est un événement, généralement non...</td>\n",
              "      <td>An accident is an unintended, normally unwante...</td>\n",
              "      <td>Accident</td>\n",
              "      <td>Accident</td>\n",
              "      <td>0</td>\n",
              "      <td>0</td>\n",
              "    </tr>\n",
              "    <tr>\n",
              "      <th>6</th>\n",
              "      <td>Accouchement</td>\n",
              "      <td>A</td>\n",
              "      <td>Childbirth</td>\n",
              "      <td>L'accouchement est l'action de mettre un enfan...</td>\n",
              "      <td>Childbirth, also known as labour or delivery, ...</td>\n",
              "      <td>Accouchement</td>\n",
              "      <td>Childbirth</td>\n",
              "      <td>0</td>\n",
              "      <td>0</td>\n",
              "    </tr>\n",
              "    <tr>\n",
              "      <th>...</th>\n",
              "      <td>...</td>\n",
              "      <td>...</td>\n",
              "      <td>...</td>\n",
              "      <td>...</td>\n",
              "      <td>...</td>\n",
              "      <td>...</td>\n",
              "      <td>...</td>\n",
              "      <td>...</td>\n",
              "      <td>...</td>\n",
              "    </tr>\n",
              "    <tr>\n",
              "      <th>332</th>\n",
              "      <td>Vomissements</td>\n",
              "      <td>V</td>\n",
              "      <td>Vomiting</td>\n",
              "      <td>Le vomissement est le rejet actif par la bouch...</td>\n",
              "      <td>Vomiting (also known as emesis and throwing up...</td>\n",
              "      <td>Vomissements</td>\n",
              "      <td>Vomiting</td>\n",
              "      <td>0</td>\n",
              "      <td>0</td>\n",
              "    </tr>\n",
              "    <tr>\n",
              "      <th>340</th>\n",
              "      <td>Zona</td>\n",
              "      <td>Z</td>\n",
              "      <td>Shingles</td>\n",
              "      <td>Le zona est une dermatose virale, due au virus...</td>\n",
              "      <td>Shingles, also known as zoster or herpes zoste...</td>\n",
              "      <td>Zona</td>\n",
              "      <td>Shingles</td>\n",
              "      <td>0</td>\n",
              "      <td>0</td>\n",
              "    </tr>\n",
              "    <tr>\n",
              "      <th>8</th>\n",
              "      <td>Âge</td>\n",
              "      <td>A</td>\n",
              "      <td>Age</td>\n",
              "      <td>\\n\"Âge\" may refer to: \\n  12 ans d'âge\\n  13e ...</td>\n",
              "      <td>\\n\"Age\" may refer to: \\n  \"Age\" (song)\\n  AG (...</td>\n",
              "      <td>Âge</td>\n",
              "      <td>Age</td>\n",
              "      <td>1</td>\n",
              "      <td>1</td>\n",
              "    </tr>\n",
              "    <tr>\n",
              "      <th>213</th>\n",
              "      <td>Œdème</td>\n",
              "      <td>O</td>\n",
              "      <td>Oedema</td>\n",
              "      <td>Un œdème est un gonflement d'un organe ou d'un...</td>\n",
              "      <td>Edema, also spelled oedema, and also known as ...</td>\n",
              "      <td>Œdème</td>\n",
              "      <td>Oedema</td>\n",
              "      <td>0</td>\n",
              "      <td>0</td>\n",
              "    </tr>\n",
              "    <tr>\n",
              "      <th>5523</th>\n",
              "      <td>Œsophage</td>\n",
              "      <td>O</td>\n",
              "      <td>Esophagus</td>\n",
              "      <td>L'œsophage (du grec οισοφάγος, littéralement «...</td>\n",
              "      <td>The esophagus (American English) or oesophagus...</td>\n",
              "      <td>Œsophage</td>\n",
              "      <td>Esophagus</td>\n",
              "      <td>0</td>\n",
              "      <td>0</td>\n",
              "    </tr>\n",
              "  </tbody>\n",
              "</table>\n",
              "<p>227 rows × 9 columns</p>\n",
              "</div>\n",
              "      <button class=\"colab-df-convert\" onclick=\"convertToInteractive('df-d56cdeb6-7940-49ec-aed5-b58b255cdd32')\"\n",
              "              title=\"Convert this dataframe to an interactive table.\"\n",
              "              style=\"display:none;\">\n",
              "        \n",
              "  <svg xmlns=\"http://www.w3.org/2000/svg\" height=\"24px\"viewBox=\"0 0 24 24\"\n",
              "       width=\"24px\">\n",
              "    <path d=\"M0 0h24v24H0V0z\" fill=\"none\"/>\n",
              "    <path d=\"M18.56 5.44l.94 2.06.94-2.06 2.06-.94-2.06-.94-.94-2.06-.94 2.06-2.06.94zm-11 1L8.5 8.5l.94-2.06 2.06-.94-2.06-.94L8.5 2.5l-.94 2.06-2.06.94zm10 10l.94 2.06.94-2.06 2.06-.94-2.06-.94-.94-2.06-.94 2.06-2.06.94z\"/><path d=\"M17.41 7.96l-1.37-1.37c-.4-.4-.92-.59-1.43-.59-.52 0-1.04.2-1.43.59L10.3 9.45l-7.72 7.72c-.78.78-.78 2.05 0 2.83L4 21.41c.39.39.9.59 1.41.59.51 0 1.02-.2 1.41-.59l7.78-7.78 2.81-2.81c.8-.78.8-2.07 0-2.86zM5.41 20L4 18.59l7.72-7.72 1.47 1.35L5.41 20z\"/>\n",
              "  </svg>\n",
              "      </button>\n",
              "      \n",
              "  <style>\n",
              "    .colab-df-container {\n",
              "      display:flex;\n",
              "      flex-wrap:wrap;\n",
              "      gap: 12px;\n",
              "    }\n",
              "\n",
              "    .colab-df-convert {\n",
              "      background-color: #E8F0FE;\n",
              "      border: none;\n",
              "      border-radius: 50%;\n",
              "      cursor: pointer;\n",
              "      display: none;\n",
              "      fill: #1967D2;\n",
              "      height: 32px;\n",
              "      padding: 0 0 0 0;\n",
              "      width: 32px;\n",
              "    }\n",
              "\n",
              "    .colab-df-convert:hover {\n",
              "      background-color: #E2EBFA;\n",
              "      box-shadow: 0px 1px 2px rgba(60, 64, 67, 0.3), 0px 1px 3px 1px rgba(60, 64, 67, 0.15);\n",
              "      fill: #174EA6;\n",
              "    }\n",
              "\n",
              "    [theme=dark] .colab-df-convert {\n",
              "      background-color: #3B4455;\n",
              "      fill: #D2E3FC;\n",
              "    }\n",
              "\n",
              "    [theme=dark] .colab-df-convert:hover {\n",
              "      background-color: #434B5C;\n",
              "      box-shadow: 0px 1px 3px 1px rgba(0, 0, 0, 0.15);\n",
              "      filter: drop-shadow(0px 1px 2px rgba(0, 0, 0, 0.3));\n",
              "      fill: #FFFFFF;\n",
              "    }\n",
              "  </style>\n",
              "\n",
              "      <script>\n",
              "        const buttonEl =\n",
              "          document.querySelector('#df-d56cdeb6-7940-49ec-aed5-b58b255cdd32 button.colab-df-convert');\n",
              "        buttonEl.style.display =\n",
              "          google.colab.kernel.accessAllowed ? 'block' : 'none';\n",
              "\n",
              "        async function convertToInteractive(key) {\n",
              "          const element = document.querySelector('#df-d56cdeb6-7940-49ec-aed5-b58b255cdd32');\n",
              "          const dataTable =\n",
              "            await google.colab.kernel.invokeFunction('convertToInteractive',\n",
              "                                                     [key], {});\n",
              "          if (!dataTable) return;\n",
              "\n",
              "          const docLinkHtml = 'Like what you see? Visit the ' +\n",
              "            '<a target=\"_blank\" href=https://colab.research.google.com/notebooks/data_table.ipynb>data table notebook</a>'\n",
              "            + ' to learn more about interactive tables.';\n",
              "          element.innerHTML = '';\n",
              "          dataTable['output_type'] = 'display_data';\n",
              "          await google.colab.output.renderOutput(dataTable, element);\n",
              "          const docLink = document.createElement('div');\n",
              "          docLink.innerHTML = docLinkHtml;\n",
              "          element.appendChild(docLink);\n",
              "        }\n",
              "      </script>\n",
              "    </div>\n",
              "  </div>\n",
              "  "
            ]
          },
          "metadata": {},
          "execution_count": 111
        }
      ]
    },
    {
      "cell_type": "code",
      "source": [
        "try:\n",
        "  t_ = wb.worksheet(\"t_corpus_vocabulary\")\n",
        "  wb.del_worksheet(t_)\n",
        "except:\n",
        "  print (\"Onglet inexistant !\")\n",
        "\n",
        "wb.add_worksheet(\"t_corpus_vocabulary\", 1, 1)\n",
        "export_sheet = wb.worksheet(\"t_corpus_vocabulary\")\n",
        "set_with_dataframe(export_sheet, df_vocabulary)"
      ],
      "metadata": {
        "colab": {
          "base_uri": "https://localhost:8080/"
        },
        "id": "9584TAJaodL7",
        "outputId": "86ffe2c0-6d02-4c17-e351-5aa02a5213b7"
      },
      "execution_count": 112,
      "outputs": [
        {
          "output_type": "stream",
          "name": "stdout",
          "text": [
            "Onglet inexistant !\n"
          ]
        }
      ]
    },
    {
      "cell_type": "markdown",
      "source": [
        "# On cherche une traduction avec l'IA si manquante"
      ],
      "metadata": {
        "id": "seTQr_K4sOM-"
      }
    },
    {
      "cell_type": "markdown",
      "source": [
        "1. On charge la base des traductions"
      ],
      "metadata": {
        "id": "n_1wdl0Lidi1"
      }
    },
    {
      "cell_type": "code",
      "source": [
        "sheet = db_langdeck_url\n",
        "wb  = gc.open_by_url(sheet)\n",
        "t_corpus = wb.worksheet(\"t_translate_deep\")\n",
        "data_t_corpus = t_corpus.get_all_values()\n",
        "# on recharge avec les nouvelles données\n",
        "df_translate_deep =  pd.DataFrame(data_t_corpus[1:], columns=data_t_corpus[0]).drop_duplicates()  \n",
        "df_translate_deep = df_translate_deep[[\"hash_ai\",\"hash\",\"maitre\",\"expression\",\"language\",\"translation\",\"translation_pivot\",\"translation_state\",\"translation_ai_source\",\"translation_ai\"]]\t\t\t\t\t\t\t\t\t"
      ],
      "metadata": {
        "id": "ul2wxIRxig-b"
      },
      "execution_count": null,
      "outputs": []
    },
    {
      "cell_type": "code",
      "source": [
        "df_translate_deep"
      ],
      "metadata": {
        "colab": {
          "base_uri": "https://localhost:8080/",
          "height": 502
        },
        "id": "x1vsm2UJklB5",
        "outputId": "a2471b32-7231-4874-b4af-4e2be104a1cf"
      },
      "execution_count": null,
      "outputs": [
        {
          "output_type": "execute_result",
          "data": {
            "text/plain": [
              "           hash_ai         hash      maitre                                         expression language                            translation                                  translation_pivot translation_state translation_ai_source                                     translation_ai\n",
              "0    f9bc13efams12  f9bc13efams  Médicament  À quel moment de la journée vous prenez le méd...      ams      في أي وقت من اليوم تتناول الدواء؟      At what time of day do you take the medicine?                 2                    12                  في أي وقت من اليوم تتناول الدواء؟\n",
              "1    6e65dde7ams12  6e65dde7ams       Abcès                                              Abcès      ams                                 خُرّاج                                          Abscesses                 2                    12                                           الخراجات\n",
              "2    80cbaceaams12  80cbaceaams     Abdomen                                            Abdomen      ams                                  البطن                                            Abdomen                 2                    12                                              البطن\n",
              "3    95c4a863ams12  95c4a863ams     Fébrile  Accès fébrile concomitant chez un autre membre...      ams  نوبة حمى مزامنة عند فرد اخر من الأسرة  Concomitant febrile attack in an other family ...                 2                    12  هل يصاحب ذلك نوبة حمى في أحد أفراد الأسرة الآخ...\n",
              "4    30579682ams12  30579682ams    Accident                                           Accident      ams                                   حادث                                           Accident                 2                    12                                              حادثة\n",
              "..             ...          ...         ...                                                ...      ...                                    ...                                                ...               ...                   ...                                                ...\n",
              "743  e352c9c7ams13  e352c9c7ams    Sinusite                                           Sinusite      ams                            أضف تعليقًا                                           Sine [K]                 2                    13                                        جيب الزاية \n",
              "744  be431a55ams13  be431a55ams      Ulcère                                             Ulcère      ams                                  Ulcer                                              Ulcer                 2                    13                                 قَرْحَة <قَرْحات> \n",
              "745  7019983eams13  7019983eams      Ulcère                                Ulcère de l'estomac      ams                              مُلْسَكَر                                      Stomach ulcer                 2                    13                                قَرْحَةُ المَعِدَة \n",
              "746  a2e70804ams13  a2e70804ams      Ulcère                         Ulcère de l'intestin grêle      ams                  أُجُزأة صغيرة من الأم                       Ulcer of the small intestine                 2                    13                                  المِعَى الدَّقيق \n",
              "747  cd6176c4ams13  cd6176c4ams      Ventre                                             Ventre      ams                            اذهب اليها.                                         Go for it.                 2                    13                                             أيّدَ \n",
              "\n",
              "[748 rows x 10 columns]"
            ],
            "text/html": [
              "\n",
              "  <div id=\"df-db8a5d7e-6af7-4e9b-97a0-9cea15f23f4d\">\n",
              "    <div class=\"colab-df-container\">\n",
              "      <div>\n",
              "<style scoped>\n",
              "    .dataframe tbody tr th:only-of-type {\n",
              "        vertical-align: middle;\n",
              "    }\n",
              "\n",
              "    .dataframe tbody tr th {\n",
              "        vertical-align: top;\n",
              "    }\n",
              "\n",
              "    .dataframe thead th {\n",
              "        text-align: right;\n",
              "    }\n",
              "</style>\n",
              "<table border=\"1\" class=\"dataframe\">\n",
              "  <thead>\n",
              "    <tr style=\"text-align: right;\">\n",
              "      <th></th>\n",
              "      <th>hash_ai</th>\n",
              "      <th>hash</th>\n",
              "      <th>maitre</th>\n",
              "      <th>expression</th>\n",
              "      <th>language</th>\n",
              "      <th>translation</th>\n",
              "      <th>translation_pivot</th>\n",
              "      <th>translation_state</th>\n",
              "      <th>translation_ai_source</th>\n",
              "      <th>translation_ai</th>\n",
              "    </tr>\n",
              "  </thead>\n",
              "  <tbody>\n",
              "    <tr>\n",
              "      <th>0</th>\n",
              "      <td>f9bc13efams12</td>\n",
              "      <td>f9bc13efams</td>\n",
              "      <td>Médicament</td>\n",
              "      <td>À quel moment de la journée vous prenez le méd...</td>\n",
              "      <td>ams</td>\n",
              "      <td>في أي وقت من اليوم تتناول الدواء؟</td>\n",
              "      <td>At what time of day do you take the medicine?</td>\n",
              "      <td>2</td>\n",
              "      <td>12</td>\n",
              "      <td>في أي وقت من اليوم تتناول الدواء؟</td>\n",
              "    </tr>\n",
              "    <tr>\n",
              "      <th>1</th>\n",
              "      <td>6e65dde7ams12</td>\n",
              "      <td>6e65dde7ams</td>\n",
              "      <td>Abcès</td>\n",
              "      <td>Abcès</td>\n",
              "      <td>ams</td>\n",
              "      <td>خُرّاج</td>\n",
              "      <td>Abscesses</td>\n",
              "      <td>2</td>\n",
              "      <td>12</td>\n",
              "      <td>الخراجات</td>\n",
              "    </tr>\n",
              "    <tr>\n",
              "      <th>2</th>\n",
              "      <td>80cbaceaams12</td>\n",
              "      <td>80cbaceaams</td>\n",
              "      <td>Abdomen</td>\n",
              "      <td>Abdomen</td>\n",
              "      <td>ams</td>\n",
              "      <td>البطن</td>\n",
              "      <td>Abdomen</td>\n",
              "      <td>2</td>\n",
              "      <td>12</td>\n",
              "      <td>البطن</td>\n",
              "    </tr>\n",
              "    <tr>\n",
              "      <th>3</th>\n",
              "      <td>95c4a863ams12</td>\n",
              "      <td>95c4a863ams</td>\n",
              "      <td>Fébrile</td>\n",
              "      <td>Accès fébrile concomitant chez un autre membre...</td>\n",
              "      <td>ams</td>\n",
              "      <td>نوبة حمى مزامنة عند فرد اخر من الأسرة</td>\n",
              "      <td>Concomitant febrile attack in an other family ...</td>\n",
              "      <td>2</td>\n",
              "      <td>12</td>\n",
              "      <td>هل يصاحب ذلك نوبة حمى في أحد أفراد الأسرة الآخ...</td>\n",
              "    </tr>\n",
              "    <tr>\n",
              "      <th>4</th>\n",
              "      <td>30579682ams12</td>\n",
              "      <td>30579682ams</td>\n",
              "      <td>Accident</td>\n",
              "      <td>Accident</td>\n",
              "      <td>ams</td>\n",
              "      <td>حادث</td>\n",
              "      <td>Accident</td>\n",
              "      <td>2</td>\n",
              "      <td>12</td>\n",
              "      <td>حادثة</td>\n",
              "    </tr>\n",
              "    <tr>\n",
              "      <th>...</th>\n",
              "      <td>...</td>\n",
              "      <td>...</td>\n",
              "      <td>...</td>\n",
              "      <td>...</td>\n",
              "      <td>...</td>\n",
              "      <td>...</td>\n",
              "      <td>...</td>\n",
              "      <td>...</td>\n",
              "      <td>...</td>\n",
              "      <td>...</td>\n",
              "    </tr>\n",
              "    <tr>\n",
              "      <th>743</th>\n",
              "      <td>e352c9c7ams13</td>\n",
              "      <td>e352c9c7ams</td>\n",
              "      <td>Sinusite</td>\n",
              "      <td>Sinusite</td>\n",
              "      <td>ams</td>\n",
              "      <td>أضف تعليقًا</td>\n",
              "      <td>Sine [K]</td>\n",
              "      <td>2</td>\n",
              "      <td>13</td>\n",
              "      <td>جيب الزاية</td>\n",
              "    </tr>\n",
              "    <tr>\n",
              "      <th>744</th>\n",
              "      <td>be431a55ams13</td>\n",
              "      <td>be431a55ams</td>\n",
              "      <td>Ulcère</td>\n",
              "      <td>Ulcère</td>\n",
              "      <td>ams</td>\n",
              "      <td>Ulcer</td>\n",
              "      <td>Ulcer</td>\n",
              "      <td>2</td>\n",
              "      <td>13</td>\n",
              "      <td>قَرْحَة &lt;قَرْحات&gt;</td>\n",
              "    </tr>\n",
              "    <tr>\n",
              "      <th>745</th>\n",
              "      <td>7019983eams13</td>\n",
              "      <td>7019983eams</td>\n",
              "      <td>Ulcère</td>\n",
              "      <td>Ulcère de l'estomac</td>\n",
              "      <td>ams</td>\n",
              "      <td>مُلْسَكَر</td>\n",
              "      <td>Stomach ulcer</td>\n",
              "      <td>2</td>\n",
              "      <td>13</td>\n",
              "      <td>قَرْحَةُ المَعِدَة</td>\n",
              "    </tr>\n",
              "    <tr>\n",
              "      <th>746</th>\n",
              "      <td>a2e70804ams13</td>\n",
              "      <td>a2e70804ams</td>\n",
              "      <td>Ulcère</td>\n",
              "      <td>Ulcère de l'intestin grêle</td>\n",
              "      <td>ams</td>\n",
              "      <td>أُجُزأة صغيرة من الأم</td>\n",
              "      <td>Ulcer of the small intestine</td>\n",
              "      <td>2</td>\n",
              "      <td>13</td>\n",
              "      <td>المِعَى الدَّقيق</td>\n",
              "    </tr>\n",
              "    <tr>\n",
              "      <th>747</th>\n",
              "      <td>cd6176c4ams13</td>\n",
              "      <td>cd6176c4ams</td>\n",
              "      <td>Ventre</td>\n",
              "      <td>Ventre</td>\n",
              "      <td>ams</td>\n",
              "      <td>اذهب اليها.</td>\n",
              "      <td>Go for it.</td>\n",
              "      <td>2</td>\n",
              "      <td>13</td>\n",
              "      <td>أيّدَ</td>\n",
              "    </tr>\n",
              "  </tbody>\n",
              "</table>\n",
              "<p>748 rows × 10 columns</p>\n",
              "</div>\n",
              "      <button class=\"colab-df-convert\" onclick=\"convertToInteractive('df-db8a5d7e-6af7-4e9b-97a0-9cea15f23f4d')\"\n",
              "              title=\"Convert this dataframe to an interactive table.\"\n",
              "              style=\"display:none;\">\n",
              "        \n",
              "  <svg xmlns=\"http://www.w3.org/2000/svg\" height=\"24px\"viewBox=\"0 0 24 24\"\n",
              "       width=\"24px\">\n",
              "    <path d=\"M0 0h24v24H0V0z\" fill=\"none\"/>\n",
              "    <path d=\"M18.56 5.44l.94 2.06.94-2.06 2.06-.94-2.06-.94-.94-2.06-.94 2.06-2.06.94zm-11 1L8.5 8.5l.94-2.06 2.06-.94-2.06-.94L8.5 2.5l-.94 2.06-2.06.94zm10 10l.94 2.06.94-2.06 2.06-.94-2.06-.94-.94-2.06-.94 2.06-2.06.94z\"/><path d=\"M17.41 7.96l-1.37-1.37c-.4-.4-.92-.59-1.43-.59-.52 0-1.04.2-1.43.59L10.3 9.45l-7.72 7.72c-.78.78-.78 2.05 0 2.83L4 21.41c.39.39.9.59 1.41.59.51 0 1.02-.2 1.41-.59l7.78-7.78 2.81-2.81c.8-.78.8-2.07 0-2.86zM5.41 20L4 18.59l7.72-7.72 1.47 1.35L5.41 20z\"/>\n",
              "  </svg>\n",
              "      </button>\n",
              "      \n",
              "  <style>\n",
              "    .colab-df-container {\n",
              "      display:flex;\n",
              "      flex-wrap:wrap;\n",
              "      gap: 12px;\n",
              "    }\n",
              "\n",
              "    .colab-df-convert {\n",
              "      background-color: #E8F0FE;\n",
              "      border: none;\n",
              "      border-radius: 50%;\n",
              "      cursor: pointer;\n",
              "      display: none;\n",
              "      fill: #1967D2;\n",
              "      height: 32px;\n",
              "      padding: 0 0 0 0;\n",
              "      width: 32px;\n",
              "    }\n",
              "\n",
              "    .colab-df-convert:hover {\n",
              "      background-color: #E2EBFA;\n",
              "      box-shadow: 0px 1px 2px rgba(60, 64, 67, 0.3), 0px 1px 3px 1px rgba(60, 64, 67, 0.15);\n",
              "      fill: #174EA6;\n",
              "    }\n",
              "\n",
              "    [theme=dark] .colab-df-convert {\n",
              "      background-color: #3B4455;\n",
              "      fill: #D2E3FC;\n",
              "    }\n",
              "\n",
              "    [theme=dark] .colab-df-convert:hover {\n",
              "      background-color: #434B5C;\n",
              "      box-shadow: 0px 1px 3px 1px rgba(0, 0, 0, 0.15);\n",
              "      filter: drop-shadow(0px 1px 2px rgba(0, 0, 0, 0.3));\n",
              "      fill: #FFFFFF;\n",
              "    }\n",
              "  </style>\n",
              "\n",
              "      <script>\n",
              "        const buttonEl =\n",
              "          document.querySelector('#df-db8a5d7e-6af7-4e9b-97a0-9cea15f23f4d button.colab-df-convert');\n",
              "        buttonEl.style.display =\n",
              "          google.colab.kernel.accessAllowed ? 'block' : 'none';\n",
              "\n",
              "        async function convertToInteractive(key) {\n",
              "          const element = document.querySelector('#df-db8a5d7e-6af7-4e9b-97a0-9cea15f23f4d');\n",
              "          const dataTable =\n",
              "            await google.colab.kernel.invokeFunction('convertToInteractive',\n",
              "                                                     [key], {});\n",
              "          if (!dataTable) return;\n",
              "\n",
              "          const docLinkHtml = 'Like what you see? Visit the ' +\n",
              "            '<a target=\"_blank\" href=https://colab.research.google.com/notebooks/data_table.ipynb>data table notebook</a>'\n",
              "            + ' to learn more about interactive tables.';\n",
              "          element.innerHTML = '';\n",
              "          dataTable['output_type'] = 'display_data';\n",
              "          await google.colab.output.renderOutput(dataTable, element);\n",
              "          const docLink = document.createElement('div');\n",
              "          docLink.innerHTML = docLinkHtml;\n",
              "          element.appendChild(docLink);\n",
              "        }\n",
              "      </script>\n",
              "    </div>\n",
              "  </div>\n",
              "  "
            ]
          },
          "metadata": {},
          "execution_count": 65
        }
      ]
    },
    {
      "cell_type": "code",
      "source": [
        "def fetch_deep_translator(hashid, language, vendor_code, row):\n",
        "  iso_code = iso_codes[language]\n",
        "  ai_dict = next(filter(lambda x: x.get('ai_code') == vendor_code,deep_translator_vendor_codes))\n",
        "  vendor = ai_dict[\"vendor\"]\n",
        "  pivot = ai_dict[\"pivot\"]\n",
        "  if pivot == \"en\":\n",
        "    pivot_expr = row[\"translation_pivot\"]\n",
        "  else:\n",
        "    pivot_expr = row[\"expression\"]\n",
        "  message = \"Appel de l'IA Deep \" + vendor + \" pour la langue \" + iso_code + \" pour l'expression \" + pivot_expr\n",
        "\n",
        "\n",
        "  df_langdeck_ai_temp[[\"translation_ai\",\"translation_state\",\"translation_ai_source\"]] = df_langdeck_ai_temp[[\"translation\",\"translation_pivot\",\"language\",\"translation_state\"]].apply(\n",
        "      lambda x:fetch_deep_tlr_google(x[1],x[2], filter, ai), \n",
        "      axis=1, \n",
        "      result_type=\"expand\")\n",
        "\n",
        "  return message"
      ],
      "metadata": {
        "id": "H4CBhiz9eC_L"
      },
      "execution_count": null,
      "outputs": []
    },
    {
      "cell_type": "code",
      "source": [
        "hash_ai = \"7c15835bukr12\"\n",
        "len(df_translate_deep.loc[df_translate_deep[\"hash_ai\"]==hash_ai])"
      ],
      "metadata": {
        "colab": {
          "base_uri": "https://localhost:8080/"
        },
        "id": "1UP5M7QYjgIo",
        "outputId": "5b98699f-5039-4df1-f26d-eee439aebbb0"
      },
      "execution_count": null,
      "outputs": [
        {
          "output_type": "execute_result",
          "data": {
            "text/plain": [
              "0"
            ]
          },
          "metadata": {},
          "execution_count": 104
        }
      ]
    },
    {
      "cell_type": "code",
      "source": [
        "filtre = \"ams\"\n",
        "vc = \"11\"\n",
        "for key, value in df_langdeck.iterrows():\n",
        "  if value[\"language\"]==filtre:\n",
        "    # on recherche la clé hash+ia dana la table deep\n",
        "    hash_ai = value[\"hash\"]+vc\n",
        "    found = df_translate_deep.loc[df_translate_deep[\"hash_ai\"]==hash_ai]\n",
        "    # pas trouvé, on passe la ligne pour appel ia\n",
        "    if len(found)==0:\n",
        "      print (\"Recherche de \" +hash_ai)\n",
        "      print (fetch_deep_translator(value[\"hash\"], value[\"language\"], vc, value))\n"
      ],
      "metadata": {
        "id": "44uNkrK4dzVi"
      },
      "execution_count": null,
      "outputs": []
    },
    {
      "cell_type": "code",
      "source": [
        "def fetch_deep_tlr_txtai (input, language, filter, ai_code):\n",
        "\n",
        "  translation = input\n",
        "  state = 0 #par défaut\n",
        "\n",
        "  if language == filter:\n",
        "    iso_code = iso_codes[language]\n",
        "    translation = \"\"\n",
        "    try:\n",
        "      # print (input + \" : \" + language)\n",
        "      translation = translate(input, iso_code)\n",
        "      if translation != \"\":\n",
        "        print (input + \" : \" + translation)\n",
        "        state = 2 #found\n",
        "    except Exception as e:\n",
        "      translation = \"\"\n",
        "      pass\n",
        "  else:\n",
        "    ai_code = 0\n",
        "\n",
        "  return translation, state, ai_code"
      ],
      "metadata": {
        "id": "5yBa0wYetY_-"
      },
      "execution_count": null,
      "outputs": []
    },
    {
      "cell_type": "code",
      "source": [
        ""
      ],
      "metadata": {
        "colab": {
          "base_uri": "https://localhost:8080/"
        },
        "id": "IxeOiZStIVL6",
        "outputId": "cb89ab44-8e55-487f-b2b9-73b8da72d798"
      },
      "execution_count": null,
      "outputs": [
        {
          "output_type": "stream",
          "name": "stdout",
          "text": [
            "Collecting deep-translator\n",
            "  Downloading deep_translator-1.8.3-py3-none-any.whl (29 kB)\n",
            "Requirement already satisfied: requests<3.0.0,>=2.23.0 in /usr/local/lib/python3.7/dist-packages (from deep-translator) (2.23.0)\n",
            "Requirement already satisfied: beautifulsoup4<5.0.0,>=4.9.1 in /usr/local/lib/python3.7/dist-packages (from deep-translator) (4.11.1)\n",
            "Requirement already satisfied: soupsieve>1.2 in /usr/local/lib/python3.7/dist-packages (from beautifulsoup4<5.0.0,>=4.9.1->deep-translator) (2.3.2.post1)\n",
            "Requirement already satisfied: chardet<4,>=3.0.2 in /usr/local/lib/python3.7/dist-packages (from requests<3.0.0,>=2.23.0->deep-translator) (3.0.4)\n",
            "Requirement already satisfied: urllib3!=1.25.0,!=1.25.1,<1.26,>=1.21.1 in /usr/local/lib/python3.7/dist-packages (from requests<3.0.0,>=2.23.0->deep-translator) (1.24.3)\n",
            "Requirement already satisfied: idna<3,>=2.5 in /usr/local/lib/python3.7/dist-packages (from requests<3.0.0,>=2.23.0->deep-translator) (2.10)\n",
            "Requirement already satisfied: certifi>=2017.4.17 in /usr/local/lib/python3.7/dist-packages (from requests<3.0.0,>=2.23.0->deep-translator) (2021.10.8)\n",
            "Installing collected packages: deep-translator\n",
            "Successfully installed deep-translator-1.8.3\n"
          ]
        }
      ]
    },
    {
      "cell_type": "code",
      "source": [
        "\n",
        "translated = GoogleTranslator(source='auto', target='de').translate(\"keep it up, you are awesome\")  # output -> Weiter so, du bist großartig"
      ],
      "metadata": {
        "id": "2HdZFXRNIfWk"
      },
      "execution_count": null,
      "outputs": []
    },
    {
      "cell_type": "code",
      "source": [
        ""
      ],
      "metadata": {
        "id": "kCQiIqD7Iimm"
      },
      "execution_count": null,
      "outputs": []
    },
    {
      "cell_type": "code",
      "source": [
        "def fetch_deep_tlr_pons (input, language, filter, ai_code):\n",
        "\n",
        "  translation = input\n",
        "  state = 0 #par défaut\n",
        "\n",
        "  if language == filter:\n",
        "    iso_code = iso_codes[language]\n",
        "    translation = \"\"\n",
        "    try:\n",
        "      # print (input + \" : \" + language)\n",
        "      translation = PonsTranslator(source='en', target=iso_code).translate(input)\n",
        "      if translation != \"\":\n",
        "        print (input + \" : \" + translation)\n",
        "        state = 2 #found\n",
        "    except Exception as e:\n",
        "      translation = \"\"\n",
        "      pass\n",
        "  else:\n",
        "    ai_code = 0\n",
        "\n",
        "  return translation, state, ai_code"
      ],
      "metadata": {
        "id": "b5rM4fGMX0IG"
      },
      "execution_count": null,
      "outputs": []
    },
    {
      "cell_type": "code",
      "source": [
        "def fetch_deep_tlr_google (input, language, filter, ai_code):\n",
        "\n",
        "  translation = input\n",
        "  state = 0 #par défaut\n",
        "\n",
        "  if language == filter:\n",
        "    iso_code = iso_codes[language]\n",
        "    translation = \"\"\n",
        "    try:\n",
        "      # print (input + \" : \" + language)\n",
        "      translation = GoogleTranslator(source='auto', target=iso_code).translate(input)\n",
        "      if translation != \"\":\n",
        "        print (input + \" : \" + translation)\n",
        "        state = 2 #found\n",
        "    except Exception as e:\n",
        "      translation = \"\"\n",
        "      pass\n",
        "  else:\n",
        "    ai_code = 0\n",
        "\n",
        "  return translation, state, ai_code"
      ],
      "metadata": {
        "id": "iuGdfd5-HpHa"
      },
      "execution_count": null,
      "outputs": []
    },
    {
      "cell_type": "code",
      "source": [
        "df_langdeck_ai_temp = df_langdeck.copy()\n",
        "df_langdeck_ai_temp = df_langdeck_ai_temp [[\"hash\",\"maitre\",\"expression\",\"language\",\"translation\",\"translation_pivot\",\"translation_state\",\"translation_ai_source\"]]\n",
        "df_langdeck_ai_temp[\"translation_ai\"]=\"\""
      ],
      "metadata": {
        "id": "alRbAFmQKg0m"
      },
      "execution_count": null,
      "outputs": []
    },
    {
      "cell_type": "code",
      "source": [
        ""
      ],
      "metadata": {
        "id": "iJP_15m8KlZ9"
      },
      "execution_count": null,
      "outputs": []
    },
    {
      "cell_type": "code",
      "source": [
        ""
      ],
      "metadata": {
        "id": "LXAi2ptXNCFc"
      },
      "execution_count": null,
      "outputs": []
    },
    {
      "cell_type": "markdown",
      "source": [
        "Google Translator"
      ],
      "metadata": {
        "id": "-6UTqvHhY8EM"
      }
    },
    {
      "cell_type": "code",
      "source": [
        "from deep_translator import GoogleTranslator\n",
        "filter = \"ams\"\n",
        "ai = 12\n",
        "df_langdeck_ai_temp[[\"translation_ai\",\"translation_state\",\"translation_ai_source\"]] = df_langdeck_ai_temp[[\"translation\",\"translation_pivot\",\"language\",\"translation_state\"]].apply(\n",
        "    lambda x:fetch_deep_tlr_google(x[1],x[2], filter, ai), \n",
        "    axis=1, \n",
        "    result_type=\"expand\")"
      ],
      "metadata": {
        "id": "vnqiGtXSNFP7"
      },
      "execution_count": null,
      "outputs": []
    },
    {
      "cell_type": "markdown",
      "source": [
        "Pons"
      ],
      "metadata": {
        "id": "DYLgReUEZJCs"
      }
    },
    {
      "cell_type": "code",
      "source": [
        "from deep_translator import PonsTranslator\n",
        "filter = \"ams\"\n",
        "ai = 13\n",
        "df_langdeck_ai_temp[[\"translation_ai\",\"translation_state\",\"translation_ai_source\"]] = df_langdeck_ai_temp[[\"translation\",\"translation_pivot\",\"language\",\"translation_state\"]].apply(\n",
        "    lambda x:fetch_deep_tlr_pons(x[1],x[2], filter, ai), \n",
        "    axis=1, \n",
        "    result_type=\"expand\")"
      ],
      "metadata": {
        "id": "o9fbZ0KqIEuU"
      },
      "execution_count": null,
      "outputs": []
    },
    {
      "cell_type": "code",
      "source": [
        "'''\n",
        "filter = \"rou\"\n",
        "ai = 11\n",
        "# algorithme :\n",
        "# si state==1(pending) ou 2(validé) => pas d'appel IA\n",
        "# si state==0 => appel ia\n",
        "df_langdeck[[\"translation\",\"translation_state\",\"translation_ai_source\"]] = df_langdeck[[\"translation\",\"translation_pivot\",\"language\",\"translation_state\"]].apply(\n",
        "    lambda x:fetch_deep_tlr_txtai(x[1],x[2], filter, ai) \n",
        "    if x[3]==0 \n",
        "    else (x[0],x[3],0), \n",
        "    axis=1, \n",
        "    result_type=\"expand\")\n",
        "'''"
      ],
      "metadata": {
        "id": "tKWh8cWfv4bK",
        "colab": {
          "base_uri": "https://localhost:8080/",
          "height": 72
        },
        "outputId": "b6772545-c21d-4034-bc9f-422bb6d1fb02"
      },
      "execution_count": null,
      "outputs": [
        {
          "output_type": "execute_result",
          "data": {
            "text/plain": [
              "'\\nfilter = \"rou\"\\nai = 11\\n# algorithme :\\n# si state==1(pending) ou 2(validé) => pas d\\'appel IA\\n# si state==0 => appel ia\\ndf_langdeck[[\"translation\",\"translation_state\",\"translation_ai_source\"]] = df_langdeck[[\"translation\",\"translation_pivot\",\"language\",\"translation_state\"]].apply(\\n    lambda x:fetch_translation_ia_txtai(x[1],x[2], filter, ai) \\n    if x[3]==0 \\n    else (x[0],x[3],0), \\n    axis=1, \\n    result_type=\"expand\")\\n'"
            ],
            "application/vnd.google.colaboratory.intrinsic+json": {
              "type": "string"
            }
          },
          "metadata": {},
          "execution_count": 107
        }
      ]
    },
    {
      "cell_type": "code",
      "source": [
        "df_langdeck_ai_temp[\"hash_ai\"]=df_langdeck_ai_temp[[\"hash\",\"translation_ai_source\"]].apply(lambda x:x[0]+str(x[1]), axis=1)"
      ],
      "metadata": {
        "id": "5N-u5iIJZa7s"
      },
      "execution_count": null,
      "outputs": []
    },
    {
      "cell_type": "code",
      "source": [
        "df_langdeck_ai_temp = df_langdeck_ai_temp.drop(df_langdeck_ai_temp[df_langdeck_ai_temp[\"translation_ai_source\"]==0].index)"
      ],
      "metadata": {
        "id": "hds0XOyiMPBA"
      },
      "execution_count": null,
      "outputs": []
    },
    {
      "cell_type": "code",
      "source": [
        "frames = [df_langdeck_ai, df_langdeck_ai_temp]\n",
        "df_langdeck_ai = pd.concat(frames)"
      ],
      "metadata": {
        "id": "_rZ80I_qdv9A"
      },
      "execution_count": null,
      "outputs": []
    },
    {
      "cell_type": "code",
      "source": [
        "df_langdeck_ai.loc[df_langdeck_ai[\"translation_ai_source\"]==13]"
      ],
      "metadata": {
        "colab": {
          "base_uri": "https://localhost:8080/",
          "height": 502
        },
        "id": "eXLFrJBdGQQ2",
        "outputId": "de0a8eb0-e95b-4d99-a103-3ea62f828cc2"
      },
      "execution_count": null,
      "outputs": [
        {
          "output_type": "execute_result",
          "data": {
            "text/plain": [
              "             hash      maitre                                         expression language                            translation                                  translation_pivot  translation_state  translation_ai_source       translation_ai        hash_ai\n",
              "0     f9bc13efams  Médicament  À quel moment de la journée vous prenez le méd...      ams      في أي وقت من اليوم تتناول الدواء؟      At what time of day do you take the medicine?                  2                     13             أثْناءَ   f9bc13efams13\n",
              "1     6e65dde7ams       Abcès                                              Abcès      ams                                 خُرّاج                                          Abscesses                  2                     13   خُرَاج <خُرَاجات>   6e65dde7ams13\n",
              "2     80cbaceaams     Abdomen                                            Abdomen      ams                                  البطن                                            Abdomen                  2                     13             البَطْن   80cbaceaams13\n",
              "3     95c4a863ams     Fébrile  Accès fébrile concomitant chez un autre membre...      ams  نوبة حمى مزامنة عند فرد اخر من الأسرة  Concomitant febrile attack in an other family ...                  0                     13                       95c4a863ams13\n",
              "4     30579682ams    Accident                                           Accident      ams                                   حادث                                           Accident                  2                     13          مُصَادَفَة   30579682ams13\n",
              "...           ...         ...                                                ...      ...                                    ...                                                ...                ...                    ...                  ...            ...\n",
              "5529  e352c9c7ams    Sinusite                                           Sinusite      ams                            أضف تعليقًا                                           Sine [K]                  2                     13          جيب الزاية   e352c9c7ams13\n",
              "5530  be431a55ams      Ulcère                                             Ulcère      ams                                  Ulcer                                              Ulcer                  2                     13   قَرْحَة <قَرْحات>   be431a55ams13\n",
              "5531  7019983eams      Ulcère                                Ulcère de l'estomac      ams                              مُلْسَكَر                                      Stomach ulcer                  2                     13  قَرْحَةُ المَعِدَة   7019983eams13\n",
              "5532  a2e70804ams      Ulcère                         Ulcère de l'intestin grêle      ams                  أُجُزأة صغيرة من الأم                       Ulcer of the small intestine                  2                     13    المِعَى الدَّقيق   a2e70804ams13\n",
              "5533  cd6176c4ams      Ventre                                             Ventre      ams                            اذهب اليها.                                         Go for it.                  2                     13               أيّدَ   cd6176c4ams13\n",
              "\n",
              "[374 rows x 10 columns]"
            ],
            "text/html": [
              "\n",
              "  <div id=\"df-d9fc2fe8-01a6-4ad2-be28-fbeee18df666\">\n",
              "    <div class=\"colab-df-container\">\n",
              "      <div>\n",
              "<style scoped>\n",
              "    .dataframe tbody tr th:only-of-type {\n",
              "        vertical-align: middle;\n",
              "    }\n",
              "\n",
              "    .dataframe tbody tr th {\n",
              "        vertical-align: top;\n",
              "    }\n",
              "\n",
              "    .dataframe thead th {\n",
              "        text-align: right;\n",
              "    }\n",
              "</style>\n",
              "<table border=\"1\" class=\"dataframe\">\n",
              "  <thead>\n",
              "    <tr style=\"text-align: right;\">\n",
              "      <th></th>\n",
              "      <th>hash</th>\n",
              "      <th>maitre</th>\n",
              "      <th>expression</th>\n",
              "      <th>language</th>\n",
              "      <th>translation</th>\n",
              "      <th>translation_pivot</th>\n",
              "      <th>translation_state</th>\n",
              "      <th>translation_ai_source</th>\n",
              "      <th>translation_ai</th>\n",
              "      <th>hash_ai</th>\n",
              "    </tr>\n",
              "  </thead>\n",
              "  <tbody>\n",
              "    <tr>\n",
              "      <th>0</th>\n",
              "      <td>f9bc13efams</td>\n",
              "      <td>Médicament</td>\n",
              "      <td>À quel moment de la journée vous prenez le méd...</td>\n",
              "      <td>ams</td>\n",
              "      <td>في أي وقت من اليوم تتناول الدواء؟</td>\n",
              "      <td>At what time of day do you take the medicine?</td>\n",
              "      <td>2</td>\n",
              "      <td>13</td>\n",
              "      <td>أثْناءَ</td>\n",
              "      <td>f9bc13efams13</td>\n",
              "    </tr>\n",
              "    <tr>\n",
              "      <th>1</th>\n",
              "      <td>6e65dde7ams</td>\n",
              "      <td>Abcès</td>\n",
              "      <td>Abcès</td>\n",
              "      <td>ams</td>\n",
              "      <td>خُرّاج</td>\n",
              "      <td>Abscesses</td>\n",
              "      <td>2</td>\n",
              "      <td>13</td>\n",
              "      <td>خُرَاج &lt;خُرَاجات&gt;</td>\n",
              "      <td>6e65dde7ams13</td>\n",
              "    </tr>\n",
              "    <tr>\n",
              "      <th>2</th>\n",
              "      <td>80cbaceaams</td>\n",
              "      <td>Abdomen</td>\n",
              "      <td>Abdomen</td>\n",
              "      <td>ams</td>\n",
              "      <td>البطن</td>\n",
              "      <td>Abdomen</td>\n",
              "      <td>2</td>\n",
              "      <td>13</td>\n",
              "      <td>البَطْن</td>\n",
              "      <td>80cbaceaams13</td>\n",
              "    </tr>\n",
              "    <tr>\n",
              "      <th>3</th>\n",
              "      <td>95c4a863ams</td>\n",
              "      <td>Fébrile</td>\n",
              "      <td>Accès fébrile concomitant chez un autre membre...</td>\n",
              "      <td>ams</td>\n",
              "      <td>نوبة حمى مزامنة عند فرد اخر من الأسرة</td>\n",
              "      <td>Concomitant febrile attack in an other family ...</td>\n",
              "      <td>0</td>\n",
              "      <td>13</td>\n",
              "      <td></td>\n",
              "      <td>95c4a863ams13</td>\n",
              "    </tr>\n",
              "    <tr>\n",
              "      <th>4</th>\n",
              "      <td>30579682ams</td>\n",
              "      <td>Accident</td>\n",
              "      <td>Accident</td>\n",
              "      <td>ams</td>\n",
              "      <td>حادث</td>\n",
              "      <td>Accident</td>\n",
              "      <td>2</td>\n",
              "      <td>13</td>\n",
              "      <td>مُصَادَفَة</td>\n",
              "      <td>30579682ams13</td>\n",
              "    </tr>\n",
              "    <tr>\n",
              "      <th>...</th>\n",
              "      <td>...</td>\n",
              "      <td>...</td>\n",
              "      <td>...</td>\n",
              "      <td>...</td>\n",
              "      <td>...</td>\n",
              "      <td>...</td>\n",
              "      <td>...</td>\n",
              "      <td>...</td>\n",
              "      <td>...</td>\n",
              "      <td>...</td>\n",
              "    </tr>\n",
              "    <tr>\n",
              "      <th>5529</th>\n",
              "      <td>e352c9c7ams</td>\n",
              "      <td>Sinusite</td>\n",
              "      <td>Sinusite</td>\n",
              "      <td>ams</td>\n",
              "      <td>أضف تعليقًا</td>\n",
              "      <td>Sine [K]</td>\n",
              "      <td>2</td>\n",
              "      <td>13</td>\n",
              "      <td>جيب الزاية</td>\n",
              "      <td>e352c9c7ams13</td>\n",
              "    </tr>\n",
              "    <tr>\n",
              "      <th>5530</th>\n",
              "      <td>be431a55ams</td>\n",
              "      <td>Ulcère</td>\n",
              "      <td>Ulcère</td>\n",
              "      <td>ams</td>\n",
              "      <td>Ulcer</td>\n",
              "      <td>Ulcer</td>\n",
              "      <td>2</td>\n",
              "      <td>13</td>\n",
              "      <td>قَرْحَة &lt;قَرْحات&gt;</td>\n",
              "      <td>be431a55ams13</td>\n",
              "    </tr>\n",
              "    <tr>\n",
              "      <th>5531</th>\n",
              "      <td>7019983eams</td>\n",
              "      <td>Ulcère</td>\n",
              "      <td>Ulcère de l'estomac</td>\n",
              "      <td>ams</td>\n",
              "      <td>مُلْسَكَر</td>\n",
              "      <td>Stomach ulcer</td>\n",
              "      <td>2</td>\n",
              "      <td>13</td>\n",
              "      <td>قَرْحَةُ المَعِدَة</td>\n",
              "      <td>7019983eams13</td>\n",
              "    </tr>\n",
              "    <tr>\n",
              "      <th>5532</th>\n",
              "      <td>a2e70804ams</td>\n",
              "      <td>Ulcère</td>\n",
              "      <td>Ulcère de l'intestin grêle</td>\n",
              "      <td>ams</td>\n",
              "      <td>أُجُزأة صغيرة من الأم</td>\n",
              "      <td>Ulcer of the small intestine</td>\n",
              "      <td>2</td>\n",
              "      <td>13</td>\n",
              "      <td>المِعَى الدَّقيق</td>\n",
              "      <td>a2e70804ams13</td>\n",
              "    </tr>\n",
              "    <tr>\n",
              "      <th>5533</th>\n",
              "      <td>cd6176c4ams</td>\n",
              "      <td>Ventre</td>\n",
              "      <td>Ventre</td>\n",
              "      <td>ams</td>\n",
              "      <td>اذهب اليها.</td>\n",
              "      <td>Go for it.</td>\n",
              "      <td>2</td>\n",
              "      <td>13</td>\n",
              "      <td>أيّدَ</td>\n",
              "      <td>cd6176c4ams13</td>\n",
              "    </tr>\n",
              "  </tbody>\n",
              "</table>\n",
              "<p>374 rows × 10 columns</p>\n",
              "</div>\n",
              "      <button class=\"colab-df-convert\" onclick=\"convertToInteractive('df-d9fc2fe8-01a6-4ad2-be28-fbeee18df666')\"\n",
              "              title=\"Convert this dataframe to an interactive table.\"\n",
              "              style=\"display:none;\">\n",
              "        \n",
              "  <svg xmlns=\"http://www.w3.org/2000/svg\" height=\"24px\"viewBox=\"0 0 24 24\"\n",
              "       width=\"24px\">\n",
              "    <path d=\"M0 0h24v24H0V0z\" fill=\"none\"/>\n",
              "    <path d=\"M18.56 5.44l.94 2.06.94-2.06 2.06-.94-2.06-.94-.94-2.06-.94 2.06-2.06.94zm-11 1L8.5 8.5l.94-2.06 2.06-.94-2.06-.94L8.5 2.5l-.94 2.06-2.06.94zm10 10l.94 2.06.94-2.06 2.06-.94-2.06-.94-.94-2.06-.94 2.06-2.06.94z\"/><path d=\"M17.41 7.96l-1.37-1.37c-.4-.4-.92-.59-1.43-.59-.52 0-1.04.2-1.43.59L10.3 9.45l-7.72 7.72c-.78.78-.78 2.05 0 2.83L4 21.41c.39.39.9.59 1.41.59.51 0 1.02-.2 1.41-.59l7.78-7.78 2.81-2.81c.8-.78.8-2.07 0-2.86zM5.41 20L4 18.59l7.72-7.72 1.47 1.35L5.41 20z\"/>\n",
              "  </svg>\n",
              "      </button>\n",
              "      \n",
              "  <style>\n",
              "    .colab-df-container {\n",
              "      display:flex;\n",
              "      flex-wrap:wrap;\n",
              "      gap: 12px;\n",
              "    }\n",
              "\n",
              "    .colab-df-convert {\n",
              "      background-color: #E8F0FE;\n",
              "      border: none;\n",
              "      border-radius: 50%;\n",
              "      cursor: pointer;\n",
              "      display: none;\n",
              "      fill: #1967D2;\n",
              "      height: 32px;\n",
              "      padding: 0 0 0 0;\n",
              "      width: 32px;\n",
              "    }\n",
              "\n",
              "    .colab-df-convert:hover {\n",
              "      background-color: #E2EBFA;\n",
              "      box-shadow: 0px 1px 2px rgba(60, 64, 67, 0.3), 0px 1px 3px 1px rgba(60, 64, 67, 0.15);\n",
              "      fill: #174EA6;\n",
              "    }\n",
              "\n",
              "    [theme=dark] .colab-df-convert {\n",
              "      background-color: #3B4455;\n",
              "      fill: #D2E3FC;\n",
              "    }\n",
              "\n",
              "    [theme=dark] .colab-df-convert:hover {\n",
              "      background-color: #434B5C;\n",
              "      box-shadow: 0px 1px 3px 1px rgba(0, 0, 0, 0.15);\n",
              "      filter: drop-shadow(0px 1px 2px rgba(0, 0, 0, 0.3));\n",
              "      fill: #FFFFFF;\n",
              "    }\n",
              "  </style>\n",
              "\n",
              "      <script>\n",
              "        const buttonEl =\n",
              "          document.querySelector('#df-d9fc2fe8-01a6-4ad2-be28-fbeee18df666 button.colab-df-convert');\n",
              "        buttonEl.style.display =\n",
              "          google.colab.kernel.accessAllowed ? 'block' : 'none';\n",
              "\n",
              "        async function convertToInteractive(key) {\n",
              "          const element = document.querySelector('#df-d9fc2fe8-01a6-4ad2-be28-fbeee18df666');\n",
              "          const dataTable =\n",
              "            await google.colab.kernel.invokeFunction('convertToInteractive',\n",
              "                                                     [key], {});\n",
              "          if (!dataTable) return;\n",
              "\n",
              "          const docLinkHtml = 'Like what you see? Visit the ' +\n",
              "            '<a target=\"_blank\" href=https://colab.research.google.com/notebooks/data_table.ipynb>data table notebook</a>'\n",
              "            + ' to learn more about interactive tables.';\n",
              "          element.innerHTML = '';\n",
              "          dataTable['output_type'] = 'display_data';\n",
              "          await google.colab.output.renderOutput(dataTable, element);\n",
              "          const docLink = document.createElement('div');\n",
              "          docLink.innerHTML = docLinkHtml;\n",
              "          element.appendChild(docLink);\n",
              "        }\n",
              "      </script>\n",
              "    </div>\n",
              "  </div>\n",
              "  "
            ]
          },
          "metadata": {},
          "execution_count": 140
        }
      ]
    },
    {
      "cell_type": "code",
      "source": [
        "try:\n",
        "  t_sync_voc = wb.worksheet(\"t_translate_deep\")\n",
        "  wb.del_worksheet(t_sync_voc)\n",
        "except:\n",
        "  print (\"Onglet inexistant !\")\n",
        "\n",
        "wb.add_worksheet(\"t_translate_deep\", 1, 1)\n",
        "export_sheet = wb.worksheet(\"t_translate_deep\")\n",
        "set_with_dataframe(export_sheet, df_langdeck_ai)"
      ],
      "metadata": {
        "colab": {
          "base_uri": "https://localhost:8080/"
        },
        "id": "3fhM_O4jhgql",
        "outputId": "9abc9b7f-5640-4209-cd23-c6a859eaabb3"
      },
      "execution_count": null,
      "outputs": [
        {
          "output_type": "stream",
          "name": "stdout",
          "text": [
            "Onglet inexistant !\n"
          ]
        }
      ]
    },
    {
      "cell_type": "code",
      "source": [
        "\n",
        "#df_langdeck[\"translation_ai_source\"] = np.nan\n",
        "df_langdeck[\"translation_score\"] = df_langdeck[\"translation_state\"].apply(lambda x: (1.0 if x==1 else 0.5 if x==2 else 0.0))\n",
        "df_langdeck[\"translation_state_txt\"] = df_langdeck[\"translation_state\"].apply(lambda x: (\"OK\" if x==1 else \"Pending\" if x==2 else \"Reject\"))"
      ],
      "metadata": {
        "id": "_eY3Ujk-yzqS"
      },
      "execution_count": null,
      "outputs": []
    },
    {
      "cell_type": "code",
      "source": [
        "try:\n",
        "  t_sync_voc = wb.worksheet(\"t_sync_voc\")\n",
        "  wb.del_worksheet(t_sync_voc)\n",
        "except:\n",
        "  print (\"Onglet inexistant !\")\n",
        "\n",
        "wb.add_worksheet(\"t_sync_voc\", 1, 1)\n",
        "export_sheet = wb.worksheet(\"t_sync_voc\")\n",
        "set_with_dataframe(export_sheet, df_langdeck)"
      ],
      "metadata": {
        "id": "jovn4_URZlYF"
      },
      "execution_count": null,
      "outputs": []
    },
    {
      "cell_type": "markdown",
      "source": [
        "# Vue Lexique"
      ],
      "metadata": {
        "id": "Ir-IVRoHBzNM"
      }
    },
    {
      "cell_type": "code",
      "source": [
        "t_lexique = wb.worksheet(\"t_lex_theme\")\n",
        "# on recharge avec les nouvelles données"
      ],
      "metadata": {
        "id": "5NQSoutoCfO_"
      },
      "execution_count": null,
      "outputs": []
    },
    {
      "cell_type": "markdown",
      "source": [
        "### nouvelles colonnes Thèmes"
      ],
      "metadata": {
        "id": "Sd5ifS4CHtYv"
      }
    },
    {
      "cell_type": "code",
      "source": [
        "# on crée une liste des valeurs uniques des 3 colonnes de thèmes\n",
        "frames = [df_langdeck[\"theme_1\"],df_langdeck[\"theme_2\"],df_langdeck[\"theme_3\"]]\n",
        "vk_theme = list(set(pd.concat(frames).to_list()))\n",
        "vk_theme.remove('')"
      ],
      "metadata": {
        "id": "mgpUaOFoHBC_"
      },
      "execution_count": null,
      "outputs": []
    },
    {
      "cell_type": "code",
      "source": [
        "# on ajoute les colonnes à partir de la liste et on valorise T/F\n",
        "df_lexique = df_langdeck.copy()\n",
        "df_lexique = pd.concat([df_lexique, pd.DataFrame(columns = vk_theme)])\n",
        "for item in vk_theme:\n",
        "  print (item)\n",
        "  df_lexique[item] = df_lexique[[\"theme_1\",\"theme_2\",\"theme_3\"]].apply(lambda x:True if (x[0]==item or x[1]==item or x[2]==item) else False, axis=1)"
      ],
      "metadata": {
        "colab": {
          "base_uri": "https://localhost:8080/"
        },
        "id": "3TBJdhyPPGnd",
        "outputId": "93513e28-e2ef-4231-c4b3-b51516867dc9"
      },
      "execution_count": null,
      "outputs": [
        {
          "output_type": "stream",
          "name": "stdout",
          "text": [
            "Examen du patient\n",
            "Corps humain\n",
            "Médecine générale\n",
            "Etat civil\n",
            "Hépato-Gastroentérologie\n",
            "Maladie\n",
            "Vaccination\n",
            "Dossier du patient\n",
            "Douleur\n"
          ]
        }
      ]
    },
    {
      "cell_type": "code",
      "source": [
        "frames=[]\n",
        "df=pd.DataFrame()\n",
        "frames.append(df)\n",
        "# pour chaque thème on ajoute les expressions trouvées\n",
        "for item in vk_theme:\n",
        "  df_temp = df_lexique.loc[df_lexique[item] == True]\n",
        "  df_temp.insert(0,'theme', item)\n",
        "  df_temp.insert(0,'section', df_temp[\"ordre\"].apply(lambda x:(\"Vocabulaire\" if x==1 else \"Expression\" if x==2 else \"Phrase\" if x>=3 else \"NONE\")))\n",
        "  df_temp.insert(0,'theme_hash', df_temp[\"hash\"].apply(lambda x:\"\".join(item.split())+x))\n",
        "  frames.append(df_temp)\n",
        "  # on concatène le tout dans un new dataframe\n",
        "  df_langdeck_theme = pd.concat(frames)"
      ],
      "metadata": {
        "id": "Q0wzscMluZ1Y"
      },
      "execution_count": null,
      "outputs": []
    },
    {
      "cell_type": "code",
      "source": [
        "df_langdeck_theme.iloc[0]"
      ],
      "metadata": {
        "colab": {
          "base_uri": "https://localhost:8080/"
        },
        "id": "WX3YYEdGvAeb",
        "outputId": "f8e987e5-140f-440b-de17-a3afff0ff149"
      },
      "execution_count": null,
      "outputs": [
        {
          "output_type": "execute_result",
          "data": {
            "text/plain": [
              "theme_hash                                         Examendupatient0a2cb764ams\n",
              "section                                                                Phrase\n",
              "theme                                                       Examen du patient\n",
              "hash                                                              0a2cb764ams\n",
              "uid                                                                  0a2cb764\n",
              "maitre                                                                Douleur\n",
              "ordre                                                                     3.0\n",
              "expression                                  Où sont les douleurs exactement ?\n",
              "idx                                                                         D\n",
              "timestamp                                                 2022-04-01 08:25:25\n",
              "language                                                                  ams\n",
              "translation                                                    أين هو الألم ؟\n",
              "language_fulltext                                                       Arabe\n",
              "audio                       Files_Files_/Corpus/t_expo_audio/0a2cb764-ams.mp3\n",
              "is_audio                                                                FALSE\n",
              "uploaded_file                                                                \n",
              "theme_1                                                               Douleur\n",
              "theme_2                                                     Examen du patient\n",
              "theme_3                                                                      \n",
              "theme_1_svg                                                                  \n",
              "theme_2_svg                                                                  \n",
              "theme_3_svg                                                                  \n",
              "unixtime                                                1648801525000000000.0\n",
              "translation_state                                                         2.0\n",
              "translation_pivot                               Where is the pain precisely ?\n",
              "translation_ai_source                                                     0.0\n",
              "translation_score                                                         0.5\n",
              "translation_state_txt                                                 Pending\n",
              "Examen du patient                                                        True\n",
              "Corps humain                                                            False\n",
              "Médecine générale                                                       False\n",
              "Etat civil                                                              False\n",
              "Hépato-Gastroentérologie                                                False\n",
              "Maladie                                                                 False\n",
              "Vaccination                                                             False\n",
              "Dossier du patient                                                      False\n",
              "Douleur                                                                  True\n",
              "Name: 221, dtype: object"
            ]
          },
          "metadata": {},
          "execution_count": 90
        }
      ]
    },
    {
      "cell_type": "code",
      "source": [
        "try:\n",
        "  t_lexique = wb.worksheet(\"t_lex_theme\")\n",
        "  wb.del_worksheet(t_lexique)\n",
        "except:\n",
        "  print (\"Onglet inexistant !\")\n",
        "\n",
        "wb.add_worksheet(\"t_lex_theme\", 1, 1)\n",
        "export_sheet = wb.worksheet(\"t_lex_theme\")\n",
        "set_with_dataframe(export_sheet, df_langdeck_theme)"
      ],
      "metadata": {
        "id": "bkhhHzyUR7kC"
      },
      "execution_count": null,
      "outputs": []
    },
    {
      "cell_type": "markdown",
      "source": [
        "# FIN pour l'instant"
      ],
      "metadata": {
        "id": "QPYy0V1g8Fq8"
      }
    },
    {
      "cell_type": "markdown",
      "source": [
        "# Appel IA Google Translate"
      ],
      "metadata": {
        "id": "mAMwNbxDr4LA"
      }
    },
    {
      "cell_type": "code",
      "source": [
        ""
      ],
      "metadata": {
        "id": "WA76ThQgsMFQ"
      },
      "execution_count": null,
      "outputs": []
    },
    {
      "cell_type": "code",
      "source": [
        "translation = translate(\"Forearm\", \"ar\")\n",
        "translation"
      ],
      "metadata": {
        "colab": {
          "base_uri": "https://localhost:8080/",
          "height": 36
        },
        "id": "zBg0AoDKwI_V",
        "outputId": "c53a14b5-ce15-4cc9-8858-d0b714b324ed"
      },
      "execution_count": null,
      "outputs": [
        {
          "output_type": "execute_result",
          "data": {
            "text/plain": [
              "'الكتاب'"
            ],
            "application/vnd.google.colaboratory.intrinsic+json": {
              "type": "string"
            }
          },
          "metadata": {},
          "execution_count": 115
        }
      ]
    },
    {
      "cell_type": "code",
      "source": [
        "def txtai_alpha (input, iso_code):\n",
        "  try:\n",
        "    translation = translate(input, \"ar\")\n",
        "  except Exception as e:\n",
        "    translation = \"\"\n",
        "    pass\n",
        "  return translation, 2\n"
      ],
      "metadata": {
        "id": "2O-27iacec86"
      },
      "execution_count": null,
      "outputs": []
    },
    {
      "cell_type": "code",
      "source": [
        "df_txtai = df_langdeck.loc[(df_langdeck[\"language\"]==\"ams\") & (df_langdeck[\"translation_state\"]==0) & (df_langdeck[\"idx\"]==\"B\")]"
      ],
      "metadata": {
        "id": "Rb8_7yp4dY1b"
      },
      "execution_count": null,
      "outputs": []
    },
    {
      "cell_type": "code",
      "source": [
        "df_txtai"
      ],
      "metadata": {
        "colab": {
          "base_uri": "https://localhost:8080/",
          "height": 309
        },
        "id": "ZEApvzNzh8C5",
        "outputId": "72538fd2-cfb8-4a4c-f1c5-5cd19d902537"
      },
      "execution_count": null,
      "outputs": [
        {
          "output_type": "execute_result",
          "data": {
            "text/plain": [
              "           hash       uid   maitre  ordre expression idx           timestamp language translation language_fulltext  ... translation_state Corps humain Etat civil Hépato-Gastroentérologie Examen du patient Vaccination Maladie Dossier du patient Douleur  Médecine générale\n",
              "56  f3bff76cams  f3bff76c  Bonjour    1.0    Bonjour   B 2022-03-31 14:33:26      ams                         Arabe  ...               0.0        False      False                    False             False       False   False               True   False               True\n",
              "58  b80ffb21ams  b80ffb21   Bouche    1.0     Bouche   B 2022-03-31 15:25:18      ams                         Arabe  ...               0.0         True      False                    False             False       False   False              False   False              False\n",
              "\n",
              "[2 rows x 30 columns]"
            ],
            "text/html": [
              "\n",
              "  <div id=\"df-b80230e8-9af6-4292-9daa-915fb11cda71\">\n",
              "    <div class=\"colab-df-container\">\n",
              "      <div>\n",
              "<style scoped>\n",
              "    .dataframe tbody tr th:only-of-type {\n",
              "        vertical-align: middle;\n",
              "    }\n",
              "\n",
              "    .dataframe tbody tr th {\n",
              "        vertical-align: top;\n",
              "    }\n",
              "\n",
              "    .dataframe thead th {\n",
              "        text-align: right;\n",
              "    }\n",
              "</style>\n",
              "<table border=\"1\" class=\"dataframe\">\n",
              "  <thead>\n",
              "    <tr style=\"text-align: right;\">\n",
              "      <th></th>\n",
              "      <th>hash</th>\n",
              "      <th>uid</th>\n",
              "      <th>maitre</th>\n",
              "      <th>ordre</th>\n",
              "      <th>expression</th>\n",
              "      <th>idx</th>\n",
              "      <th>timestamp</th>\n",
              "      <th>language</th>\n",
              "      <th>translation</th>\n",
              "      <th>language_fulltext</th>\n",
              "      <th>...</th>\n",
              "      <th>translation_state</th>\n",
              "      <th>Corps humain</th>\n",
              "      <th>Etat civil</th>\n",
              "      <th>Hépato-Gastroentérologie</th>\n",
              "      <th>Examen du patient</th>\n",
              "      <th>Vaccination</th>\n",
              "      <th>Maladie</th>\n",
              "      <th>Dossier du patient</th>\n",
              "      <th>Douleur</th>\n",
              "      <th>Médecine générale</th>\n",
              "    </tr>\n",
              "  </thead>\n",
              "  <tbody>\n",
              "    <tr>\n",
              "      <th>56</th>\n",
              "      <td>f3bff76cams</td>\n",
              "      <td>f3bff76c</td>\n",
              "      <td>Bonjour</td>\n",
              "      <td>1.0</td>\n",
              "      <td>Bonjour</td>\n",
              "      <td>B</td>\n",
              "      <td>2022-03-31 14:33:26</td>\n",
              "      <td>ams</td>\n",
              "      <td></td>\n",
              "      <td>Arabe</td>\n",
              "      <td>...</td>\n",
              "      <td>0.0</td>\n",
              "      <td>False</td>\n",
              "      <td>False</td>\n",
              "      <td>False</td>\n",
              "      <td>False</td>\n",
              "      <td>False</td>\n",
              "      <td>False</td>\n",
              "      <td>True</td>\n",
              "      <td>False</td>\n",
              "      <td>True</td>\n",
              "    </tr>\n",
              "    <tr>\n",
              "      <th>58</th>\n",
              "      <td>b80ffb21ams</td>\n",
              "      <td>b80ffb21</td>\n",
              "      <td>Bouche</td>\n",
              "      <td>1.0</td>\n",
              "      <td>Bouche</td>\n",
              "      <td>B</td>\n",
              "      <td>2022-03-31 15:25:18</td>\n",
              "      <td>ams</td>\n",
              "      <td></td>\n",
              "      <td>Arabe</td>\n",
              "      <td>...</td>\n",
              "      <td>0.0</td>\n",
              "      <td>True</td>\n",
              "      <td>False</td>\n",
              "      <td>False</td>\n",
              "      <td>False</td>\n",
              "      <td>False</td>\n",
              "      <td>False</td>\n",
              "      <td>False</td>\n",
              "      <td>False</td>\n",
              "      <td>False</td>\n",
              "    </tr>\n",
              "  </tbody>\n",
              "</table>\n",
              "<p>2 rows × 30 columns</p>\n",
              "</div>\n",
              "      <button class=\"colab-df-convert\" onclick=\"convertToInteractive('df-b80230e8-9af6-4292-9daa-915fb11cda71')\"\n",
              "              title=\"Convert this dataframe to an interactive table.\"\n",
              "              style=\"display:none;\">\n",
              "        \n",
              "  <svg xmlns=\"http://www.w3.org/2000/svg\" height=\"24px\"viewBox=\"0 0 24 24\"\n",
              "       width=\"24px\">\n",
              "    <path d=\"M0 0h24v24H0V0z\" fill=\"none\"/>\n",
              "    <path d=\"M18.56 5.44l.94 2.06.94-2.06 2.06-.94-2.06-.94-.94-2.06-.94 2.06-2.06.94zm-11 1L8.5 8.5l.94-2.06 2.06-.94-2.06-.94L8.5 2.5l-.94 2.06-2.06.94zm10 10l.94 2.06.94-2.06 2.06-.94-2.06-.94-.94-2.06-.94 2.06-2.06.94z\"/><path d=\"M17.41 7.96l-1.37-1.37c-.4-.4-.92-.59-1.43-.59-.52 0-1.04.2-1.43.59L10.3 9.45l-7.72 7.72c-.78.78-.78 2.05 0 2.83L4 21.41c.39.39.9.59 1.41.59.51 0 1.02-.2 1.41-.59l7.78-7.78 2.81-2.81c.8-.78.8-2.07 0-2.86zM5.41 20L4 18.59l7.72-7.72 1.47 1.35L5.41 20z\"/>\n",
              "  </svg>\n",
              "      </button>\n",
              "      \n",
              "  <style>\n",
              "    .colab-df-container {\n",
              "      display:flex;\n",
              "      flex-wrap:wrap;\n",
              "      gap: 12px;\n",
              "    }\n",
              "\n",
              "    .colab-df-convert {\n",
              "      background-color: #E8F0FE;\n",
              "      border: none;\n",
              "      border-radius: 50%;\n",
              "      cursor: pointer;\n",
              "      display: none;\n",
              "      fill: #1967D2;\n",
              "      height: 32px;\n",
              "      padding: 0 0 0 0;\n",
              "      width: 32px;\n",
              "    }\n",
              "\n",
              "    .colab-df-convert:hover {\n",
              "      background-color: #E2EBFA;\n",
              "      box-shadow: 0px 1px 2px rgba(60, 64, 67, 0.3), 0px 1px 3px 1px rgba(60, 64, 67, 0.15);\n",
              "      fill: #174EA6;\n",
              "    }\n",
              "\n",
              "    [theme=dark] .colab-df-convert {\n",
              "      background-color: #3B4455;\n",
              "      fill: #D2E3FC;\n",
              "    }\n",
              "\n",
              "    [theme=dark] .colab-df-convert:hover {\n",
              "      background-color: #434B5C;\n",
              "      box-shadow: 0px 1px 3px 1px rgba(0, 0, 0, 0.15);\n",
              "      filter: drop-shadow(0px 1px 2px rgba(0, 0, 0, 0.3));\n",
              "      fill: #FFFFFF;\n",
              "    }\n",
              "  </style>\n",
              "\n",
              "      <script>\n",
              "        const buttonEl =\n",
              "          document.querySelector('#df-b80230e8-9af6-4292-9daa-915fb11cda71 button.colab-df-convert');\n",
              "        buttonEl.style.display =\n",
              "          google.colab.kernel.accessAllowed ? 'block' : 'none';\n",
              "\n",
              "        async function convertToInteractive(key) {\n",
              "          const element = document.querySelector('#df-b80230e8-9af6-4292-9daa-915fb11cda71');\n",
              "          const dataTable =\n",
              "            await google.colab.kernel.invokeFunction('convertToInteractive',\n",
              "                                                     [key], {});\n",
              "          if (!dataTable) return;\n",
              "\n",
              "          const docLinkHtml = 'Like what you see? Visit the ' +\n",
              "            '<a target=\"_blank\" href=https://colab.research.google.com/notebooks/data_table.ipynb>data table notebook</a>'\n",
              "            + ' to learn more about interactive tables.';\n",
              "          element.innerHTML = '';\n",
              "          dataTable['output_type'] = 'display_data';\n",
              "          await google.colab.output.renderOutput(dataTable, element);\n",
              "          const docLink = document.createElement('div');\n",
              "          docLink.innerHTML = docLinkHtml;\n",
              "          element.appendChild(docLink);\n",
              "        }\n",
              "      </script>\n",
              "    </div>\n",
              "  </div>\n",
              "  "
            ]
          },
          "metadata": {},
          "execution_count": 110
        }
      ]
    },
    {
      "cell_type": "code",
      "source": [
        "df_txtai[[\"translation\",\"translation_state\"]]=df_txtai[[\"expression\",\"translation_state\"]].apply(lambda x: txtai_alpha(x[0], \"ar\") if x[1]==0 else \"\", axis=1, result_type=\"expand\")"
      ],
      "metadata": {
        "colab": {
          "base_uri": "https://localhost:8080/"
        },
        "id": "SfW1iuNBfnYC",
        "outputId": "57a3a260-c65f-4f9b-a907-4e12385a3017"
      },
      "execution_count": null,
      "outputs": [
        {
          "output_type": "stream",
          "name": "stderr",
          "text": [
            "/usr/local/lib/python3.7/dist-packages/pandas/core/frame.py:3641: SettingWithCopyWarning: \n",
            "A value is trying to be set on a copy of a slice from a DataFrame.\n",
            "Try using .loc[row_indexer,col_indexer] = value instead\n",
            "\n",
            "See the caveats in the documentation: https://pandas.pydata.org/pandas-docs/stable/user_guide/indexing.html#returning-a-view-versus-a-copy\n",
            "  self[k1] = value[k2]\n"
          ]
        }
      ]
    },
    {
      "cell_type": "code",
      "source": [
        "df_txtai"
      ],
      "metadata": {
        "colab": {
          "base_uri": "https://localhost:8080/",
          "height": 309
        },
        "id": "M_d22c-AgudT",
        "outputId": "c12bef21-f7f8-4a8f-e1d2-a03377031678"
      },
      "execution_count": null,
      "outputs": [
        {
          "output_type": "execute_result",
          "data": {
            "text/plain": [
              "           hash       uid   maitre  ordre expression idx           timestamp language                                        translation language_fulltext  ... translation_state Corps humain Etat civil Hépato-Gastroentérologie Examen du patient Vaccination Maladie Dossier du patient Douleur  Médecine générale\n",
              "56  f3bff76cams  f3bff76c  Bonjour    1.0    Bonjour   B 2022-03-31 14:33:26      ams  مرحباً، مرحباً، مرحباً، مرحباً، مرحباً، مرحباً...             Arabe  ...                 2        False      False                    False             False       False   False               True   False               True\n",
              "58  b80ffb21ams  b80ffb21   Bouche    1.0     Bouche   B 2022-03-31 15:25:18      ams                                  لاشتششششششششششششش             Arabe  ...                 2         True      False                    False             False       False   False              False   False              False\n",
              "\n",
              "[2 rows x 30 columns]"
            ],
            "text/html": [
              "\n",
              "  <div id=\"df-012d4183-01fc-4919-8964-9671cfadb2ac\">\n",
              "    <div class=\"colab-df-container\">\n",
              "      <div>\n",
              "<style scoped>\n",
              "    .dataframe tbody tr th:only-of-type {\n",
              "        vertical-align: middle;\n",
              "    }\n",
              "\n",
              "    .dataframe tbody tr th {\n",
              "        vertical-align: top;\n",
              "    }\n",
              "\n",
              "    .dataframe thead th {\n",
              "        text-align: right;\n",
              "    }\n",
              "</style>\n",
              "<table border=\"1\" class=\"dataframe\">\n",
              "  <thead>\n",
              "    <tr style=\"text-align: right;\">\n",
              "      <th></th>\n",
              "      <th>hash</th>\n",
              "      <th>uid</th>\n",
              "      <th>maitre</th>\n",
              "      <th>ordre</th>\n",
              "      <th>expression</th>\n",
              "      <th>idx</th>\n",
              "      <th>timestamp</th>\n",
              "      <th>language</th>\n",
              "      <th>translation</th>\n",
              "      <th>language_fulltext</th>\n",
              "      <th>...</th>\n",
              "      <th>translation_state</th>\n",
              "      <th>Corps humain</th>\n",
              "      <th>Etat civil</th>\n",
              "      <th>Hépato-Gastroentérologie</th>\n",
              "      <th>Examen du patient</th>\n",
              "      <th>Vaccination</th>\n",
              "      <th>Maladie</th>\n",
              "      <th>Dossier du patient</th>\n",
              "      <th>Douleur</th>\n",
              "      <th>Médecine générale</th>\n",
              "    </tr>\n",
              "  </thead>\n",
              "  <tbody>\n",
              "    <tr>\n",
              "      <th>56</th>\n",
              "      <td>f3bff76cams</td>\n",
              "      <td>f3bff76c</td>\n",
              "      <td>Bonjour</td>\n",
              "      <td>1.0</td>\n",
              "      <td>Bonjour</td>\n",
              "      <td>B</td>\n",
              "      <td>2022-03-31 14:33:26</td>\n",
              "      <td>ams</td>\n",
              "      <td>مرحباً، مرحباً، مرحباً، مرحباً، مرحباً، مرحباً...</td>\n",
              "      <td>Arabe</td>\n",
              "      <td>...</td>\n",
              "      <td>2</td>\n",
              "      <td>False</td>\n",
              "      <td>False</td>\n",
              "      <td>False</td>\n",
              "      <td>False</td>\n",
              "      <td>False</td>\n",
              "      <td>False</td>\n",
              "      <td>True</td>\n",
              "      <td>False</td>\n",
              "      <td>True</td>\n",
              "    </tr>\n",
              "    <tr>\n",
              "      <th>58</th>\n",
              "      <td>b80ffb21ams</td>\n",
              "      <td>b80ffb21</td>\n",
              "      <td>Bouche</td>\n",
              "      <td>1.0</td>\n",
              "      <td>Bouche</td>\n",
              "      <td>B</td>\n",
              "      <td>2022-03-31 15:25:18</td>\n",
              "      <td>ams</td>\n",
              "      <td>لاشتششششششششششششش</td>\n",
              "      <td>Arabe</td>\n",
              "      <td>...</td>\n",
              "      <td>2</td>\n",
              "      <td>True</td>\n",
              "      <td>False</td>\n",
              "      <td>False</td>\n",
              "      <td>False</td>\n",
              "      <td>False</td>\n",
              "      <td>False</td>\n",
              "      <td>False</td>\n",
              "      <td>False</td>\n",
              "      <td>False</td>\n",
              "    </tr>\n",
              "  </tbody>\n",
              "</table>\n",
              "<p>2 rows × 30 columns</p>\n",
              "</div>\n",
              "      <button class=\"colab-df-convert\" onclick=\"convertToInteractive('df-012d4183-01fc-4919-8964-9671cfadb2ac')\"\n",
              "              title=\"Convert this dataframe to an interactive table.\"\n",
              "              style=\"display:none;\">\n",
              "        \n",
              "  <svg xmlns=\"http://www.w3.org/2000/svg\" height=\"24px\"viewBox=\"0 0 24 24\"\n",
              "       width=\"24px\">\n",
              "    <path d=\"M0 0h24v24H0V0z\" fill=\"none\"/>\n",
              "    <path d=\"M18.56 5.44l.94 2.06.94-2.06 2.06-.94-2.06-.94-.94-2.06-.94 2.06-2.06.94zm-11 1L8.5 8.5l.94-2.06 2.06-.94-2.06-.94L8.5 2.5l-.94 2.06-2.06.94zm10 10l.94 2.06.94-2.06 2.06-.94-2.06-.94-.94-2.06-.94 2.06-2.06.94z\"/><path d=\"M17.41 7.96l-1.37-1.37c-.4-.4-.92-.59-1.43-.59-.52 0-1.04.2-1.43.59L10.3 9.45l-7.72 7.72c-.78.78-.78 2.05 0 2.83L4 21.41c.39.39.9.59 1.41.59.51 0 1.02-.2 1.41-.59l7.78-7.78 2.81-2.81c.8-.78.8-2.07 0-2.86zM5.41 20L4 18.59l7.72-7.72 1.47 1.35L5.41 20z\"/>\n",
              "  </svg>\n",
              "      </button>\n",
              "      \n",
              "  <style>\n",
              "    .colab-df-container {\n",
              "      display:flex;\n",
              "      flex-wrap:wrap;\n",
              "      gap: 12px;\n",
              "    }\n",
              "\n",
              "    .colab-df-convert {\n",
              "      background-color: #E8F0FE;\n",
              "      border: none;\n",
              "      border-radius: 50%;\n",
              "      cursor: pointer;\n",
              "      display: none;\n",
              "      fill: #1967D2;\n",
              "      height: 32px;\n",
              "      padding: 0 0 0 0;\n",
              "      width: 32px;\n",
              "    }\n",
              "\n",
              "    .colab-df-convert:hover {\n",
              "      background-color: #E2EBFA;\n",
              "      box-shadow: 0px 1px 2px rgba(60, 64, 67, 0.3), 0px 1px 3px 1px rgba(60, 64, 67, 0.15);\n",
              "      fill: #174EA6;\n",
              "    }\n",
              "\n",
              "    [theme=dark] .colab-df-convert {\n",
              "      background-color: #3B4455;\n",
              "      fill: #D2E3FC;\n",
              "    }\n",
              "\n",
              "    [theme=dark] .colab-df-convert:hover {\n",
              "      background-color: #434B5C;\n",
              "      box-shadow: 0px 1px 3px 1px rgba(0, 0, 0, 0.15);\n",
              "      filter: drop-shadow(0px 1px 2px rgba(0, 0, 0, 0.3));\n",
              "      fill: #FFFFFF;\n",
              "    }\n",
              "  </style>\n",
              "\n",
              "      <script>\n",
              "        const buttonEl =\n",
              "          document.querySelector('#df-012d4183-01fc-4919-8964-9671cfadb2ac button.colab-df-convert');\n",
              "        buttonEl.style.display =\n",
              "          google.colab.kernel.accessAllowed ? 'block' : 'none';\n",
              "\n",
              "        async function convertToInteractive(key) {\n",
              "          const element = document.querySelector('#df-012d4183-01fc-4919-8964-9671cfadb2ac');\n",
              "          const dataTable =\n",
              "            await google.colab.kernel.invokeFunction('convertToInteractive',\n",
              "                                                     [key], {});\n",
              "          if (!dataTable) return;\n",
              "\n",
              "          const docLinkHtml = 'Like what you see? Visit the ' +\n",
              "            '<a target=\"_blank\" href=https://colab.research.google.com/notebooks/data_table.ipynb>data table notebook</a>'\n",
              "            + ' to learn more about interactive tables.';\n",
              "          element.innerHTML = '';\n",
              "          dataTable['output_type'] = 'display_data';\n",
              "          await google.colab.output.renderOutput(dataTable, element);\n",
              "          const docLink = document.createElement('div');\n",
              "          docLink.innerHTML = docLinkHtml;\n",
              "          element.appendChild(docLink);\n",
              "        }\n",
              "      </script>\n",
              "    </div>\n",
              "  </div>\n",
              "  "
            ]
          },
          "metadata": {},
          "execution_count": 112
        }
      ]
    },
    {
      "cell_type": "markdown",
      "source": [
        "## Mise à jour inutile dans Langdeck !!"
      ],
      "metadata": {
        "id": "RqdCS-uf8K04"
      }
    },
    {
      "cell_type": "code",
      "source": [
        "df_airtable_for_langdeck = get_df_airtable_for_langdeck()\n",
        "df_airtable_for_langdeck[\"last_updated\"] = df_airtable_for_langdeck[[\"hash\",\"unixtime\"]].apply(lambda x:compare_langdeck_time(x[0],x[1]), axis=1) \n",
        "df_newly_updated_in_airtable = df_airtable_for_langdeck.loc[df_airtable_for_langdeck[\"last_updated\"]]\n"
      ],
      "metadata": {
        "colab": {
          "base_uri": "https://localhost:8080/"
        },
        "id": "KQmaIp8Y1kDA",
        "outputId": "f25d7d6f-2811-43eb-c23a-ba9fbf2dbd0a"
      },
      "execution_count": null,
      "outputs": [
        {
          "output_type": "stream",
          "name": "stderr",
          "text": [
            "/usr/local/lib/python3.7/dist-packages/ipykernel_launcher.py:15: FutureWarning: casting datetime64[ns] values to int64 with .astype(...) is deprecated and will raise in a future version. Use .view(...) instead.\n",
            "  from ipykernel import kernelapp as app\n"
          ]
        }
      ]
    },
    {
      "cell_type": "markdown",
      "source": [
        "### Récupération des audios"
      ],
      "metadata": {
        "id": "FF4BrmOs8RvT"
      }
    },
    {
      "cell_type": "code",
      "source": [
        "df_newly_updated_in_airtable\n"
      ],
      "metadata": {
        "colab": {
          "base_uri": "https://localhost:8080/",
          "height": 424
        },
        "id": "OWxPy-9-4r3L",
        "outputId": "a6b0191f-6f96-423f-d7bd-e18d6c3084af"
      },
      "execution_count": null,
      "outputs": [
        {
          "output_type": "execute_result",
          "data": {
            "text/plain": [
              "           uid      maitre  ordre            expression idx           timestamp language     translation         hash language_fulltext             unixtime  last_updated\n",
              "78    8745562b     Comment      3  Comment allez-vous ?   C 2022-04-11 13:41:03      ams             NaN  8745562bams             Arabe  1649684463000000000          True\n",
              "187   2bd46073        Main      1                  Main   M 2022-04-11 13:41:01      ams             NaN  2bd46073ams             Arabe  1649684461000000000          True\n",
              "201   80e0c323  Médicament      1         Médicament(s)   M 2022-04-11 13:41:02      ams         تَورُّم  80e0c323ams             Arabe  1649684462000000000          True\n",
              "257   ba312208         Âge      3  Quel âge avez-vous ?   A 2022-04-11 13:41:02      ams  ما سبب زيارتك؟  ba312208ams             Arabe  1649684462000000000          True\n",
              "529   2bd46073        Main      1                  Main   M 2022-04-11 13:41:01      eng            Hand  2bd46073eng           Anglais  1649684461000000000          True\n",
              "...        ...         ...    ...                   ...  ..                 ...      ...             ...          ...               ...                  ...           ...\n",
              "5045  ba312208         Âge      3  Quel âge avez-vous ?   A 2022-04-11 13:41:02      pol  Ile masz lat ?  ba312208pol          Polonais  1649684462000000000          True\n",
              "5208  8745562b     Comment      3  Comment allez-vous ?   C 2022-04-11 13:41:03      tig             NaN  8745562btig          Tigrinya  1649684463000000000          True\n",
              "5317  2bd46073        Main      1                  Main   M 2022-04-11 13:41:01      tig             NaN  2bd46073tig          Tigrinya  1649684461000000000          True\n",
              "5331  80e0c323  Médicament      1         Médicament(s)   M 2022-04-11 13:41:02      tig             ከኒና  80e0c323tig          Tigrinya  1649684462000000000          True\n",
              "5387  ba312208         Âge      3  Quel âge avez-vous ?   A 2022-04-11 13:41:02      tig     ክንደይ ዕድሜኻ ?  ba312208tig          Tigrinya  1649684462000000000          True\n",
              "\n",
              "[63 rows x 12 columns]"
            ],
            "text/html": [
              "\n",
              "  <div id=\"df-0a400336-6d82-4fa3-aa8f-9bc7ac5b776a\">\n",
              "    <div class=\"colab-df-container\">\n",
              "      <div>\n",
              "<style scoped>\n",
              "    .dataframe tbody tr th:only-of-type {\n",
              "        vertical-align: middle;\n",
              "    }\n",
              "\n",
              "    .dataframe tbody tr th {\n",
              "        vertical-align: top;\n",
              "    }\n",
              "\n",
              "    .dataframe thead th {\n",
              "        text-align: right;\n",
              "    }\n",
              "</style>\n",
              "<table border=\"1\" class=\"dataframe\">\n",
              "  <thead>\n",
              "    <tr style=\"text-align: right;\">\n",
              "      <th></th>\n",
              "      <th>uid</th>\n",
              "      <th>maitre</th>\n",
              "      <th>ordre</th>\n",
              "      <th>expression</th>\n",
              "      <th>idx</th>\n",
              "      <th>timestamp</th>\n",
              "      <th>language</th>\n",
              "      <th>translation</th>\n",
              "      <th>hash</th>\n",
              "      <th>language_fulltext</th>\n",
              "      <th>unixtime</th>\n",
              "      <th>last_updated</th>\n",
              "    </tr>\n",
              "  </thead>\n",
              "  <tbody>\n",
              "    <tr>\n",
              "      <th>78</th>\n",
              "      <td>8745562b</td>\n",
              "      <td>Comment</td>\n",
              "      <td>3</td>\n",
              "      <td>Comment allez-vous ?</td>\n",
              "      <td>C</td>\n",
              "      <td>2022-04-11 13:41:03</td>\n",
              "      <td>ams</td>\n",
              "      <td>NaN</td>\n",
              "      <td>8745562bams</td>\n",
              "      <td>Arabe</td>\n",
              "      <td>1649684463000000000</td>\n",
              "      <td>True</td>\n",
              "    </tr>\n",
              "    <tr>\n",
              "      <th>187</th>\n",
              "      <td>2bd46073</td>\n",
              "      <td>Main</td>\n",
              "      <td>1</td>\n",
              "      <td>Main</td>\n",
              "      <td>M</td>\n",
              "      <td>2022-04-11 13:41:01</td>\n",
              "      <td>ams</td>\n",
              "      <td>NaN</td>\n",
              "      <td>2bd46073ams</td>\n",
              "      <td>Arabe</td>\n",
              "      <td>1649684461000000000</td>\n",
              "      <td>True</td>\n",
              "    </tr>\n",
              "    <tr>\n",
              "      <th>201</th>\n",
              "      <td>80e0c323</td>\n",
              "      <td>Médicament</td>\n",
              "      <td>1</td>\n",
              "      <td>Médicament(s)</td>\n",
              "      <td>M</td>\n",
              "      <td>2022-04-11 13:41:02</td>\n",
              "      <td>ams</td>\n",
              "      <td>تَورُّم</td>\n",
              "      <td>80e0c323ams</td>\n",
              "      <td>Arabe</td>\n",
              "      <td>1649684462000000000</td>\n",
              "      <td>True</td>\n",
              "    </tr>\n",
              "    <tr>\n",
              "      <th>257</th>\n",
              "      <td>ba312208</td>\n",
              "      <td>Âge</td>\n",
              "      <td>3</td>\n",
              "      <td>Quel âge avez-vous ?</td>\n",
              "      <td>A</td>\n",
              "      <td>2022-04-11 13:41:02</td>\n",
              "      <td>ams</td>\n",
              "      <td>ما سبب زيارتك؟</td>\n",
              "      <td>ba312208ams</td>\n",
              "      <td>Arabe</td>\n",
              "      <td>1649684462000000000</td>\n",
              "      <td>True</td>\n",
              "    </tr>\n",
              "    <tr>\n",
              "      <th>529</th>\n",
              "      <td>2bd46073</td>\n",
              "      <td>Main</td>\n",
              "      <td>1</td>\n",
              "      <td>Main</td>\n",
              "      <td>M</td>\n",
              "      <td>2022-04-11 13:41:01</td>\n",
              "      <td>eng</td>\n",
              "      <td>Hand</td>\n",
              "      <td>2bd46073eng</td>\n",
              "      <td>Anglais</td>\n",
              "      <td>1649684461000000000</td>\n",
              "      <td>True</td>\n",
              "    </tr>\n",
              "    <tr>\n",
              "      <th>...</th>\n",
              "      <td>...</td>\n",
              "      <td>...</td>\n",
              "      <td>...</td>\n",
              "      <td>...</td>\n",
              "      <td>...</td>\n",
              "      <td>...</td>\n",
              "      <td>...</td>\n",
              "      <td>...</td>\n",
              "      <td>...</td>\n",
              "      <td>...</td>\n",
              "      <td>...</td>\n",
              "      <td>...</td>\n",
              "    </tr>\n",
              "    <tr>\n",
              "      <th>5045</th>\n",
              "      <td>ba312208</td>\n",
              "      <td>Âge</td>\n",
              "      <td>3</td>\n",
              "      <td>Quel âge avez-vous ?</td>\n",
              "      <td>A</td>\n",
              "      <td>2022-04-11 13:41:02</td>\n",
              "      <td>pol</td>\n",
              "      <td>Ile masz lat ?</td>\n",
              "      <td>ba312208pol</td>\n",
              "      <td>Polonais</td>\n",
              "      <td>1649684462000000000</td>\n",
              "      <td>True</td>\n",
              "    </tr>\n",
              "    <tr>\n",
              "      <th>5208</th>\n",
              "      <td>8745562b</td>\n",
              "      <td>Comment</td>\n",
              "      <td>3</td>\n",
              "      <td>Comment allez-vous ?</td>\n",
              "      <td>C</td>\n",
              "      <td>2022-04-11 13:41:03</td>\n",
              "      <td>tig</td>\n",
              "      <td>NaN</td>\n",
              "      <td>8745562btig</td>\n",
              "      <td>Tigrinya</td>\n",
              "      <td>1649684463000000000</td>\n",
              "      <td>True</td>\n",
              "    </tr>\n",
              "    <tr>\n",
              "      <th>5317</th>\n",
              "      <td>2bd46073</td>\n",
              "      <td>Main</td>\n",
              "      <td>1</td>\n",
              "      <td>Main</td>\n",
              "      <td>M</td>\n",
              "      <td>2022-04-11 13:41:01</td>\n",
              "      <td>tig</td>\n",
              "      <td>NaN</td>\n",
              "      <td>2bd46073tig</td>\n",
              "      <td>Tigrinya</td>\n",
              "      <td>1649684461000000000</td>\n",
              "      <td>True</td>\n",
              "    </tr>\n",
              "    <tr>\n",
              "      <th>5331</th>\n",
              "      <td>80e0c323</td>\n",
              "      <td>Médicament</td>\n",
              "      <td>1</td>\n",
              "      <td>Médicament(s)</td>\n",
              "      <td>M</td>\n",
              "      <td>2022-04-11 13:41:02</td>\n",
              "      <td>tig</td>\n",
              "      <td>ከኒና</td>\n",
              "      <td>80e0c323tig</td>\n",
              "      <td>Tigrinya</td>\n",
              "      <td>1649684462000000000</td>\n",
              "      <td>True</td>\n",
              "    </tr>\n",
              "    <tr>\n",
              "      <th>5387</th>\n",
              "      <td>ba312208</td>\n",
              "      <td>Âge</td>\n",
              "      <td>3</td>\n",
              "      <td>Quel âge avez-vous ?</td>\n",
              "      <td>A</td>\n",
              "      <td>2022-04-11 13:41:02</td>\n",
              "      <td>tig</td>\n",
              "      <td>ክንደይ ዕድሜኻ ?</td>\n",
              "      <td>ba312208tig</td>\n",
              "      <td>Tigrinya</td>\n",
              "      <td>1649684462000000000</td>\n",
              "      <td>True</td>\n",
              "    </tr>\n",
              "  </tbody>\n",
              "</table>\n",
              "<p>63 rows × 12 columns</p>\n",
              "</div>\n",
              "      <button class=\"colab-df-convert\" onclick=\"convertToInteractive('df-0a400336-6d82-4fa3-aa8f-9bc7ac5b776a')\"\n",
              "              title=\"Convert this dataframe to an interactive table.\"\n",
              "              style=\"display:none;\">\n",
              "        \n",
              "  <svg xmlns=\"http://www.w3.org/2000/svg\" height=\"24px\"viewBox=\"0 0 24 24\"\n",
              "       width=\"24px\">\n",
              "    <path d=\"M0 0h24v24H0V0z\" fill=\"none\"/>\n",
              "    <path d=\"M18.56 5.44l.94 2.06.94-2.06 2.06-.94-2.06-.94-.94-2.06-.94 2.06-2.06.94zm-11 1L8.5 8.5l.94-2.06 2.06-.94-2.06-.94L8.5 2.5l-.94 2.06-2.06.94zm10 10l.94 2.06.94-2.06 2.06-.94-2.06-.94-.94-2.06-.94 2.06-2.06.94z\"/><path d=\"M17.41 7.96l-1.37-1.37c-.4-.4-.92-.59-1.43-.59-.52 0-1.04.2-1.43.59L10.3 9.45l-7.72 7.72c-.78.78-.78 2.05 0 2.83L4 21.41c.39.39.9.59 1.41.59.51 0 1.02-.2 1.41-.59l7.78-7.78 2.81-2.81c.8-.78.8-2.07 0-2.86zM5.41 20L4 18.59l7.72-7.72 1.47 1.35L5.41 20z\"/>\n",
              "  </svg>\n",
              "      </button>\n",
              "      \n",
              "  <style>\n",
              "    .colab-df-container {\n",
              "      display:flex;\n",
              "      flex-wrap:wrap;\n",
              "      gap: 12px;\n",
              "    }\n",
              "\n",
              "    .colab-df-convert {\n",
              "      background-color: #E8F0FE;\n",
              "      border: none;\n",
              "      border-radius: 50%;\n",
              "      cursor: pointer;\n",
              "      display: none;\n",
              "      fill: #1967D2;\n",
              "      height: 32px;\n",
              "      padding: 0 0 0 0;\n",
              "      width: 32px;\n",
              "    }\n",
              "\n",
              "    .colab-df-convert:hover {\n",
              "      background-color: #E2EBFA;\n",
              "      box-shadow: 0px 1px 2px rgba(60, 64, 67, 0.3), 0px 1px 3px 1px rgba(60, 64, 67, 0.15);\n",
              "      fill: #174EA6;\n",
              "    }\n",
              "\n",
              "    [theme=dark] .colab-df-convert {\n",
              "      background-color: #3B4455;\n",
              "      fill: #D2E3FC;\n",
              "    }\n",
              "\n",
              "    [theme=dark] .colab-df-convert:hover {\n",
              "      background-color: #434B5C;\n",
              "      box-shadow: 0px 1px 3px 1px rgba(0, 0, 0, 0.15);\n",
              "      filter: drop-shadow(0px 1px 2px rgba(0, 0, 0, 0.3));\n",
              "      fill: #FFFFFF;\n",
              "    }\n",
              "  </style>\n",
              "\n",
              "      <script>\n",
              "        const buttonEl =\n",
              "          document.querySelector('#df-0a400336-6d82-4fa3-aa8f-9bc7ac5b776a button.colab-df-convert');\n",
              "        buttonEl.style.display =\n",
              "          google.colab.kernel.accessAllowed ? 'block' : 'none';\n",
              "\n",
              "        async function convertToInteractive(key) {\n",
              "          const element = document.querySelector('#df-0a400336-6d82-4fa3-aa8f-9bc7ac5b776a');\n",
              "          const dataTable =\n",
              "            await google.colab.kernel.invokeFunction('convertToInteractive',\n",
              "                                                     [key], {});\n",
              "          if (!dataTable) return;\n",
              "\n",
              "          const docLinkHtml = 'Like what you see? Visit the ' +\n",
              "            '<a target=\"_blank\" href=https://colab.research.google.com/notebooks/data_table.ipynb>data table notebook</a>'\n",
              "            + ' to learn more about interactive tables.';\n",
              "          element.innerHTML = '';\n",
              "          dataTable['output_type'] = 'display_data';\n",
              "          await google.colab.output.renderOutput(dataTable, element);\n",
              "          const docLink = document.createElement('div');\n",
              "          docLink.innerHTML = docLinkHtml;\n",
              "          element.appendChild(docLink);\n",
              "        }\n",
              "      </script>\n",
              "    </div>\n",
              "  </div>\n",
              "  "
            ]
          },
          "metadata": {},
          "execution_count": 78
        }
      ]
    },
    {
      "cell_type": "markdown",
      "source": [
        "## Mise à jour dans Langdeck"
      ],
      "metadata": {
        "id": "pMLrUAzMA4Uj"
      }
    },
    {
      "cell_type": "code",
      "source": [
        "l = len(df_newly_updated_in_airtable)\n",
        "# on parcoure la table cible\n",
        "for i in range (2, l):\n",
        "  # un enregistrement\n",
        "  tuple_list = t_corpus.row_values(i)\n",
        "  # on recherche la clé dans le dataframe source\n",
        "  t_ = df_airtable_for_langdeck.loc[(df_airtable_for_langdeck['uid']==tuple_list[0]) & (df_airtable_for_langdeck['language']==tuple_list[6])]\n",
        "  # verification du hash\n",
        "  if len(t_)==1:\n",
        "    t_corpus.update_cell(i, 9, t_[\"hash\"].values[0])\n",
        "  # comparaison des ts (A=AT;B=GG)\n",
        "  ts_a = pd.to_datetime(t_[\"timestamp\"].values[0], \"%Y-%m-%d %H:%M:%S\")\n",
        "  ts_b = datetime.datetime.strptime(tuple_list[5], \"%Y-%m-%d %H:%M:%S\")\n",
        "  # print (t_[\"hash\"].values[0] + \": Airtable ts \" + str(ts_a) + \" GG ts \" + str(ts_b))\n",
        "  if ts_a > ts_b:\n",
        "    # cas Airtable + récent => update dans Langdeck\n",
        "    t_corpus.update_cell(i, 2, t_[\"maitre\"].values[0])\n",
        "    t_corpus.update_cell(i, 3, int(t_[\"ordre\"].values[0]))\n",
        "    t_corpus.update_cell(i, 4, t_[\"expression\"].values[0])\n",
        "    t_corpus.update_cell(i, 5, t_[\"idx\"].values[0])\n",
        "    if not pd.isnull(t_[\"translation\"].values[0]):\n",
        "      t_corpus.update_cell(i, 8, t_[\"translation\"].values[0])    \n",
        "  elif ts_b > ts_a:\n",
        "    # cas Langdeck + récent => update translation dans AT uniqumeent !\n",
        "    record = airtable.match('UID', tuple_list[0])\n",
        "    if bool(record) is True:\n",
        "      if not pd.isnull(tuple_list[7]):\n",
        "        aDict = {}\n",
        "        aDict[tuple_list[6]] = tuple_list[7]\n",
        "        airtable.update(record['id'], aDict)\n",
        "        print (record['id'])\n",
        "\n",
        "\n",
        "    \n"
      ],
      "metadata": {
        "id": "xn9fdIUFAcjP"
      },
      "execution_count": null,
      "outputs": []
    },
    {
      "cell_type": "code",
      "source": [
        "frames = [df_airtable_for_langdeck, df_langdeck]\n",
        "result = pd.concat(frames, keys=[\"hash\"])\n",
        "result.drop_duplicates(subset=['hash'], inplace=True, keep='last')"
      ],
      "metadata": {
        "id": "vb9vcmtSlVFi"
      },
      "execution_count": null,
      "outputs": []
    },
    {
      "cell_type": "code",
      "source": [
        "result"
      ],
      "metadata": {
        "colab": {
          "base_uri": "https://localhost:8080/",
          "height": 424
        },
        "id": "cz2-ChfMxnyu",
        "outputId": "b4967cd3-36fa-4b64-f15a-2bcfbebfbd97"
      },
      "execution_count": null,
      "outputs": [
        {
          "output_type": "execute_result",
          "data": {
            "text/plain": [
              "                uid      maitre  ordre                                         expression idx           timestamp language                                        translation         hash language_fulltext\n",
              "hash 0     f9bc13ef  Médicament      3  À quel moment de la journée vous prenez le méd...   M 2022-04-01 08:15:21      ams                  في أي وقت من اليوم تتناول الدواء؟  f9bc13efams             Arabe\n",
              "     1     6e65dde7       Abcès      1                                              Abcès   A 2022-03-29 15:58:04      ams                                             خُرّاج  6e65dde7ams             Arabe\n",
              "     2     80cbacea     Abdomen      1                                            Abdomen   A 2022-04-07 08:42:16      ams                                              البطن  80cbaceaams             Arabe\n",
              "     3     95c4a863     Fébrile      3  Accès fébrile concomitant chez un autre membre...   F 2022-04-01 08:27:19      ams              نوبة حمى مزامنة عند فرد اخر من الأسرة  95c4a863ams             Arabe\n",
              "     4     30579682    Accident      1                                           Accident   A 2022-03-29 15:58:05      ams                                               حادث  30579682ams             Arabe\n",
              "...             ...         ...    ...                                                ...  ..                 ...      ...                                                ...          ...               ...\n",
              "     5451  d112f379       Poids      3                        Votre poids est-il stable ?   P 2022-03-31 14:33:52      tig                                                NaN  d112f379tig          Tigrinya\n",
              "     5452  2344ba84   Accoucher      3  Vous avez accouché par césarienne ou voie basse ?   A 2022-03-29 16:00:33      tig                             ብኦፕረሽን ወይ ብኖርማር ወሊድኪ ?  2344ba84tig          Tigrinya\n",
              "     5453  36e66161  Contagieux      3            Y a-t-il des cas contagieux à l'école ?   C 2022-03-29 16:00:33      tig                                 አብ ትምህርቲ ዲዩ ለጊብካ ?  36e66161tig          Tigrinya\n",
              "     5454  c32f5fd9   Chronique      3  Y a-t-il des maladies chroniques dans votre fa...   C 2022-04-01 08:23:46      tig                      ካብ በተሰብካ ሕዱር ሕማሕ ዘለዎ አለካ ዲዩ ?  c32f5fd9tig          Tigrinya\n",
              "     5455  d3dba8e4        Zona      1                                               Zona   Z 2022-03-29 16:00:34      tig  ዞና ዝብሃል ሕማም ኣብ ቖርበት ማለት ብደገ ዝቖስል ብርቱዕ ቓንዛ ዘለዎ ...  d3dba8e4tig          Tigrinya\n",
              "\n",
              "[5456 rows x 10 columns]"
            ],
            "text/html": [
              "\n",
              "  <div id=\"df-5da7e4fd-5e50-4328-9ca7-5a5fb1f63014\">\n",
              "    <div class=\"colab-df-container\">\n",
              "      <div>\n",
              "<style scoped>\n",
              "    .dataframe tbody tr th:only-of-type {\n",
              "        vertical-align: middle;\n",
              "    }\n",
              "\n",
              "    .dataframe tbody tr th {\n",
              "        vertical-align: top;\n",
              "    }\n",
              "\n",
              "    .dataframe thead th {\n",
              "        text-align: right;\n",
              "    }\n",
              "</style>\n",
              "<table border=\"1\" class=\"dataframe\">\n",
              "  <thead>\n",
              "    <tr style=\"text-align: right;\">\n",
              "      <th></th>\n",
              "      <th></th>\n",
              "      <th>uid</th>\n",
              "      <th>maitre</th>\n",
              "      <th>ordre</th>\n",
              "      <th>expression</th>\n",
              "      <th>idx</th>\n",
              "      <th>timestamp</th>\n",
              "      <th>language</th>\n",
              "      <th>translation</th>\n",
              "      <th>hash</th>\n",
              "      <th>language_fulltext</th>\n",
              "    </tr>\n",
              "  </thead>\n",
              "  <tbody>\n",
              "    <tr>\n",
              "      <th rowspan=\"11\" valign=\"top\">hash</th>\n",
              "      <th>0</th>\n",
              "      <td>f9bc13ef</td>\n",
              "      <td>Médicament</td>\n",
              "      <td>3</td>\n",
              "      <td>À quel moment de la journée vous prenez le méd...</td>\n",
              "      <td>M</td>\n",
              "      <td>2022-04-01 08:15:21</td>\n",
              "      <td>ams</td>\n",
              "      <td>في أي وقت من اليوم تتناول الدواء؟</td>\n",
              "      <td>f9bc13efams</td>\n",
              "      <td>Arabe</td>\n",
              "    </tr>\n",
              "    <tr>\n",
              "      <th>1</th>\n",
              "      <td>6e65dde7</td>\n",
              "      <td>Abcès</td>\n",
              "      <td>1</td>\n",
              "      <td>Abcès</td>\n",
              "      <td>A</td>\n",
              "      <td>2022-03-29 15:58:04</td>\n",
              "      <td>ams</td>\n",
              "      <td>خُرّاج</td>\n",
              "      <td>6e65dde7ams</td>\n",
              "      <td>Arabe</td>\n",
              "    </tr>\n",
              "    <tr>\n",
              "      <th>2</th>\n",
              "      <td>80cbacea</td>\n",
              "      <td>Abdomen</td>\n",
              "      <td>1</td>\n",
              "      <td>Abdomen</td>\n",
              "      <td>A</td>\n",
              "      <td>2022-04-07 08:42:16</td>\n",
              "      <td>ams</td>\n",
              "      <td>البطن</td>\n",
              "      <td>80cbaceaams</td>\n",
              "      <td>Arabe</td>\n",
              "    </tr>\n",
              "    <tr>\n",
              "      <th>3</th>\n",
              "      <td>95c4a863</td>\n",
              "      <td>Fébrile</td>\n",
              "      <td>3</td>\n",
              "      <td>Accès fébrile concomitant chez un autre membre...</td>\n",
              "      <td>F</td>\n",
              "      <td>2022-04-01 08:27:19</td>\n",
              "      <td>ams</td>\n",
              "      <td>نوبة حمى مزامنة عند فرد اخر من الأسرة</td>\n",
              "      <td>95c4a863ams</td>\n",
              "      <td>Arabe</td>\n",
              "    </tr>\n",
              "    <tr>\n",
              "      <th>4</th>\n",
              "      <td>30579682</td>\n",
              "      <td>Accident</td>\n",
              "      <td>1</td>\n",
              "      <td>Accident</td>\n",
              "      <td>A</td>\n",
              "      <td>2022-03-29 15:58:05</td>\n",
              "      <td>ams</td>\n",
              "      <td>حادث</td>\n",
              "      <td>30579682ams</td>\n",
              "      <td>Arabe</td>\n",
              "    </tr>\n",
              "    <tr>\n",
              "      <th>...</th>\n",
              "      <td>...</td>\n",
              "      <td>...</td>\n",
              "      <td>...</td>\n",
              "      <td>...</td>\n",
              "      <td>...</td>\n",
              "      <td>...</td>\n",
              "      <td>...</td>\n",
              "      <td>...</td>\n",
              "      <td>...</td>\n",
              "      <td>...</td>\n",
              "    </tr>\n",
              "    <tr>\n",
              "      <th>5451</th>\n",
              "      <td>d112f379</td>\n",
              "      <td>Poids</td>\n",
              "      <td>3</td>\n",
              "      <td>Votre poids est-il stable ?</td>\n",
              "      <td>P</td>\n",
              "      <td>2022-03-31 14:33:52</td>\n",
              "      <td>tig</td>\n",
              "      <td>NaN</td>\n",
              "      <td>d112f379tig</td>\n",
              "      <td>Tigrinya</td>\n",
              "    </tr>\n",
              "    <tr>\n",
              "      <th>5452</th>\n",
              "      <td>2344ba84</td>\n",
              "      <td>Accoucher</td>\n",
              "      <td>3</td>\n",
              "      <td>Vous avez accouché par césarienne ou voie basse ?</td>\n",
              "      <td>A</td>\n",
              "      <td>2022-03-29 16:00:33</td>\n",
              "      <td>tig</td>\n",
              "      <td>ብኦፕረሽን ወይ ብኖርማር ወሊድኪ ?</td>\n",
              "      <td>2344ba84tig</td>\n",
              "      <td>Tigrinya</td>\n",
              "    </tr>\n",
              "    <tr>\n",
              "      <th>5453</th>\n",
              "      <td>36e66161</td>\n",
              "      <td>Contagieux</td>\n",
              "      <td>3</td>\n",
              "      <td>Y a-t-il des cas contagieux à l'école ?</td>\n",
              "      <td>C</td>\n",
              "      <td>2022-03-29 16:00:33</td>\n",
              "      <td>tig</td>\n",
              "      <td>አብ ትምህርቲ ዲዩ ለጊብካ ?</td>\n",
              "      <td>36e66161tig</td>\n",
              "      <td>Tigrinya</td>\n",
              "    </tr>\n",
              "    <tr>\n",
              "      <th>5454</th>\n",
              "      <td>c32f5fd9</td>\n",
              "      <td>Chronique</td>\n",
              "      <td>3</td>\n",
              "      <td>Y a-t-il des maladies chroniques dans votre fa...</td>\n",
              "      <td>C</td>\n",
              "      <td>2022-04-01 08:23:46</td>\n",
              "      <td>tig</td>\n",
              "      <td>ካብ በተሰብካ ሕዱር ሕማሕ ዘለዎ አለካ ዲዩ ?</td>\n",
              "      <td>c32f5fd9tig</td>\n",
              "      <td>Tigrinya</td>\n",
              "    </tr>\n",
              "    <tr>\n",
              "      <th>5455</th>\n",
              "      <td>d3dba8e4</td>\n",
              "      <td>Zona</td>\n",
              "      <td>1</td>\n",
              "      <td>Zona</td>\n",
              "      <td>Z</td>\n",
              "      <td>2022-03-29 16:00:34</td>\n",
              "      <td>tig</td>\n",
              "      <td>ዞና ዝብሃል ሕማም ኣብ ቖርበት ማለት ብደገ ዝቖስል ብርቱዕ ቓንዛ ዘለዎ ...</td>\n",
              "      <td>d3dba8e4tig</td>\n",
              "      <td>Tigrinya</td>\n",
              "    </tr>\n",
              "  </tbody>\n",
              "</table>\n",
              "<p>5456 rows × 10 columns</p>\n",
              "</div>\n",
              "      <button class=\"colab-df-convert\" onclick=\"convertToInteractive('df-5da7e4fd-5e50-4328-9ca7-5a5fb1f63014')\"\n",
              "              title=\"Convert this dataframe to an interactive table.\"\n",
              "              style=\"display:none;\">\n",
              "        \n",
              "  <svg xmlns=\"http://www.w3.org/2000/svg\" height=\"24px\"viewBox=\"0 0 24 24\"\n",
              "       width=\"24px\">\n",
              "    <path d=\"M0 0h24v24H0V0z\" fill=\"none\"/>\n",
              "    <path d=\"M18.56 5.44l.94 2.06.94-2.06 2.06-.94-2.06-.94-.94-2.06-.94 2.06-2.06.94zm-11 1L8.5 8.5l.94-2.06 2.06-.94-2.06-.94L8.5 2.5l-.94 2.06-2.06.94zm10 10l.94 2.06.94-2.06 2.06-.94-2.06-.94-.94-2.06-.94 2.06-2.06.94z\"/><path d=\"M17.41 7.96l-1.37-1.37c-.4-.4-.92-.59-1.43-.59-.52 0-1.04.2-1.43.59L10.3 9.45l-7.72 7.72c-.78.78-.78 2.05 0 2.83L4 21.41c.39.39.9.59 1.41.59.51 0 1.02-.2 1.41-.59l7.78-7.78 2.81-2.81c.8-.78.8-2.07 0-2.86zM5.41 20L4 18.59l7.72-7.72 1.47 1.35L5.41 20z\"/>\n",
              "  </svg>\n",
              "      </button>\n",
              "      \n",
              "  <style>\n",
              "    .colab-df-container {\n",
              "      display:flex;\n",
              "      flex-wrap:wrap;\n",
              "      gap: 12px;\n",
              "    }\n",
              "\n",
              "    .colab-df-convert {\n",
              "      background-color: #E8F0FE;\n",
              "      border: none;\n",
              "      border-radius: 50%;\n",
              "      cursor: pointer;\n",
              "      display: none;\n",
              "      fill: #1967D2;\n",
              "      height: 32px;\n",
              "      padding: 0 0 0 0;\n",
              "      width: 32px;\n",
              "    }\n",
              "\n",
              "    .colab-df-convert:hover {\n",
              "      background-color: #E2EBFA;\n",
              "      box-shadow: 0px 1px 2px rgba(60, 64, 67, 0.3), 0px 1px 3px 1px rgba(60, 64, 67, 0.15);\n",
              "      fill: #174EA6;\n",
              "    }\n",
              "\n",
              "    [theme=dark] .colab-df-convert {\n",
              "      background-color: #3B4455;\n",
              "      fill: #D2E3FC;\n",
              "    }\n",
              "\n",
              "    [theme=dark] .colab-df-convert:hover {\n",
              "      background-color: #434B5C;\n",
              "      box-shadow: 0px 1px 3px 1px rgba(0, 0, 0, 0.15);\n",
              "      filter: drop-shadow(0px 1px 2px rgba(0, 0, 0, 0.3));\n",
              "      fill: #FFFFFF;\n",
              "    }\n",
              "  </style>\n",
              "\n",
              "      <script>\n",
              "        const buttonEl =\n",
              "          document.querySelector('#df-5da7e4fd-5e50-4328-9ca7-5a5fb1f63014 button.colab-df-convert');\n",
              "        buttonEl.style.display =\n",
              "          google.colab.kernel.accessAllowed ? 'block' : 'none';\n",
              "\n",
              "        async function convertToInteractive(key) {\n",
              "          const element = document.querySelector('#df-5da7e4fd-5e50-4328-9ca7-5a5fb1f63014');\n",
              "          const dataTable =\n",
              "            await google.colab.kernel.invokeFunction('convertToInteractive',\n",
              "                                                     [key], {});\n",
              "          if (!dataTable) return;\n",
              "\n",
              "          const docLinkHtml = 'Like what you see? Visit the ' +\n",
              "            '<a target=\"_blank\" href=https://colab.research.google.com/notebooks/data_table.ipynb>data table notebook</a>'\n",
              "            + ' to learn more about interactive tables.';\n",
              "          element.innerHTML = '';\n",
              "          dataTable['output_type'] = 'display_data';\n",
              "          await google.colab.output.renderOutput(dataTable, element);\n",
              "          const docLink = document.createElement('div');\n",
              "          docLink.innerHTML = docLinkHtml;\n",
              "          element.appendChild(docLink);\n",
              "        }\n",
              "      </script>\n",
              "    </div>\n",
              "  </div>\n",
              "  "
            ]
          },
          "metadata": {},
          "execution_count": 103
        }
      ]
    },
    {
      "cell_type": "code",
      "source": [
        "df_airtable_for_langdeck[(df_airtable_for_langdeck['hash'].isin(df_langdeck['hash']) & ~df_airtable_for_langdeck['timestamp'].isin(df_langdeck['timestamp']) )]"
      ],
      "metadata": {
        "colab": {
          "base_uri": "https://localhost:8080/",
          "height": 81
        },
        "id": "DkOO4NF0ZwY6",
        "outputId": "0eba439b-7e3c-49eb-c236-3f3556968c94"
      },
      "execution_count": null,
      "outputs": [
        {
          "output_type": "execute_result",
          "data": {
            "text/plain": [
              "        uid   maitre  ordre expression idx           timestamp language translation         hash language_fulltext\n",
              "2  80cbacea  Abdomen      1    Abdomen   A 2022-04-07 08:42:16      ams       البطن  80cbaceaams             Arabe"
            ],
            "text/html": [
              "\n",
              "  <div id=\"df-23f0fca1-481b-4a31-8380-1271bdd44c0a\">\n",
              "    <div class=\"colab-df-container\">\n",
              "      <div>\n",
              "<style scoped>\n",
              "    .dataframe tbody tr th:only-of-type {\n",
              "        vertical-align: middle;\n",
              "    }\n",
              "\n",
              "    .dataframe tbody tr th {\n",
              "        vertical-align: top;\n",
              "    }\n",
              "\n",
              "    .dataframe thead th {\n",
              "        text-align: right;\n",
              "    }\n",
              "</style>\n",
              "<table border=\"1\" class=\"dataframe\">\n",
              "  <thead>\n",
              "    <tr style=\"text-align: right;\">\n",
              "      <th></th>\n",
              "      <th>uid</th>\n",
              "      <th>maitre</th>\n",
              "      <th>ordre</th>\n",
              "      <th>expression</th>\n",
              "      <th>idx</th>\n",
              "      <th>timestamp</th>\n",
              "      <th>language</th>\n",
              "      <th>translation</th>\n",
              "      <th>hash</th>\n",
              "      <th>language_fulltext</th>\n",
              "    </tr>\n",
              "  </thead>\n",
              "  <tbody>\n",
              "    <tr>\n",
              "      <th>2</th>\n",
              "      <td>80cbacea</td>\n",
              "      <td>Abdomen</td>\n",
              "      <td>1</td>\n",
              "      <td>Abdomen</td>\n",
              "      <td>A</td>\n",
              "      <td>2022-04-07 08:42:16</td>\n",
              "      <td>ams</td>\n",
              "      <td>البطن</td>\n",
              "      <td>80cbaceaams</td>\n",
              "      <td>Arabe</td>\n",
              "    </tr>\n",
              "  </tbody>\n",
              "</table>\n",
              "</div>\n",
              "      <button class=\"colab-df-convert\" onclick=\"convertToInteractive('df-23f0fca1-481b-4a31-8380-1271bdd44c0a')\"\n",
              "              title=\"Convert this dataframe to an interactive table.\"\n",
              "              style=\"display:none;\">\n",
              "        \n",
              "  <svg xmlns=\"http://www.w3.org/2000/svg\" height=\"24px\"viewBox=\"0 0 24 24\"\n",
              "       width=\"24px\">\n",
              "    <path d=\"M0 0h24v24H0V0z\" fill=\"none\"/>\n",
              "    <path d=\"M18.56 5.44l.94 2.06.94-2.06 2.06-.94-2.06-.94-.94-2.06-.94 2.06-2.06.94zm-11 1L8.5 8.5l.94-2.06 2.06-.94-2.06-.94L8.5 2.5l-.94 2.06-2.06.94zm10 10l.94 2.06.94-2.06 2.06-.94-2.06-.94-.94-2.06-.94 2.06-2.06.94z\"/><path d=\"M17.41 7.96l-1.37-1.37c-.4-.4-.92-.59-1.43-.59-.52 0-1.04.2-1.43.59L10.3 9.45l-7.72 7.72c-.78.78-.78 2.05 0 2.83L4 21.41c.39.39.9.59 1.41.59.51 0 1.02-.2 1.41-.59l7.78-7.78 2.81-2.81c.8-.78.8-2.07 0-2.86zM5.41 20L4 18.59l7.72-7.72 1.47 1.35L5.41 20z\"/>\n",
              "  </svg>\n",
              "      </button>\n",
              "      \n",
              "  <style>\n",
              "    .colab-df-container {\n",
              "      display:flex;\n",
              "      flex-wrap:wrap;\n",
              "      gap: 12px;\n",
              "    }\n",
              "\n",
              "    .colab-df-convert {\n",
              "      background-color: #E8F0FE;\n",
              "      border: none;\n",
              "      border-radius: 50%;\n",
              "      cursor: pointer;\n",
              "      display: none;\n",
              "      fill: #1967D2;\n",
              "      height: 32px;\n",
              "      padding: 0 0 0 0;\n",
              "      width: 32px;\n",
              "    }\n",
              "\n",
              "    .colab-df-convert:hover {\n",
              "      background-color: #E2EBFA;\n",
              "      box-shadow: 0px 1px 2px rgba(60, 64, 67, 0.3), 0px 1px 3px 1px rgba(60, 64, 67, 0.15);\n",
              "      fill: #174EA6;\n",
              "    }\n",
              "\n",
              "    [theme=dark] .colab-df-convert {\n",
              "      background-color: #3B4455;\n",
              "      fill: #D2E3FC;\n",
              "    }\n",
              "\n",
              "    [theme=dark] .colab-df-convert:hover {\n",
              "      background-color: #434B5C;\n",
              "      box-shadow: 0px 1px 3px 1px rgba(0, 0, 0, 0.15);\n",
              "      filter: drop-shadow(0px 1px 2px rgba(0, 0, 0, 0.3));\n",
              "      fill: #FFFFFF;\n",
              "    }\n",
              "  </style>\n",
              "\n",
              "      <script>\n",
              "        const buttonEl =\n",
              "          document.querySelector('#df-23f0fca1-481b-4a31-8380-1271bdd44c0a button.colab-df-convert');\n",
              "        buttonEl.style.display =\n",
              "          google.colab.kernel.accessAllowed ? 'block' : 'none';\n",
              "\n",
              "        async function convertToInteractive(key) {\n",
              "          const element = document.querySelector('#df-23f0fca1-481b-4a31-8380-1271bdd44c0a');\n",
              "          const dataTable =\n",
              "            await google.colab.kernel.invokeFunction('convertToInteractive',\n",
              "                                                     [key], {});\n",
              "          if (!dataTable) return;\n",
              "\n",
              "          const docLinkHtml = 'Like what you see? Visit the ' +\n",
              "            '<a target=\"_blank\" href=https://colab.research.google.com/notebooks/data_table.ipynb>data table notebook</a>'\n",
              "            + ' to learn more about interactive tables.';\n",
              "          element.innerHTML = '';\n",
              "          dataTable['output_type'] = 'display_data';\n",
              "          await google.colab.output.renderOutput(dataTable, element);\n",
              "          const docLink = document.createElement('div');\n",
              "          docLink.innerHTML = docLinkHtml;\n",
              "          element.appendChild(docLink);\n",
              "        }\n",
              "      </script>\n",
              "    </div>\n",
              "  </div>\n",
              "  "
            ]
          },
          "metadata": {},
          "execution_count": 104
        }
      ]
    },
    {
      "cell_type": "code",
      "source": [
        "set_with_dataframe(t_corpus, result)"
      ],
      "metadata": {
        "id": "zfEj1MtIa-4F"
      },
      "execution_count": null,
      "outputs": []
    },
    {
      "cell_type": "code",
      "source": [
        ""
      ],
      "metadata": {
        "id": "BNF489BlYtIv"
      },
      "execution_count": null,
      "outputs": []
    },
    {
      "cell_type": "markdown",
      "source": [
        "END"
      ],
      "metadata": {
        "id": "NK0L2hYqdsjX"
      }
    },
    {
      "cell_type": "markdown",
      "source": [
        "### Vocabulaire avec groupement :\n",
        "\n",
        "\n",
        "1.   Index alpha\n",
        "2.   Mot clé\n",
        "3.   Ordre\n",
        "\n"
      ],
      "metadata": {
        "id": "cdPFqRRaPQgp"
      }
    },
    {
      "cell_type": "code",
      "source": [
        "vk_voc = airtable.get_all(view='Vocabulary', sort=['idx_cor','Maitre','Ordre'])\n",
        "df_voc = pd.DataFrame.from_records((r['fields'] for r in vk_voc))\n",
        "df_voc = df_voc[['idx_cor','Maitre','Ordre','Proposition','CATEGRAM','TYPE','Thématique']]"
      ],
      "metadata": {
        "id": "cHRm0SL0HVip"
      },
      "execution_count": null,
      "outputs": []
    },
    {
      "cell_type": "markdown",
      "source": [
        "### Traductions avec groupement :\n",
        "\n",
        "\n",
        "1.   Index alpha\n",
        "2.   Mot clé\n",
        "3.   Ordre"
      ],
      "metadata": {
        "id": "2wcUjGFBSkCa"
      }
    },
    {
      "cell_type": "code",
      "source": [
        "df_voc_trad = airtable.get_all(view='Traductions', sort=['idx_cor','Maitre','Ordre'])\n",
        "df_voc_trad = pd.DataFrame.from_records((r['fields'] for r in df_voc_trad))\n",
        "df_voc_trad = df_voc_trad[['idx_cor','Maitre','Ordre','Proposition','CATEGRAM','TYPE','Thématique',\n",
        "             'eng','ams','tur','rus','ukr','rou','hun','tig','alb','geo','arm',\n",
        "             'dar','pst','esp','pol']]"
      ],
      "metadata": {
        "id": "Bgg44ROuR4hL"
      },
      "execution_count": null,
      "outputs": []
    },
    {
      "cell_type": "code",
      "source": [
        "# Corpus_consolidation\n",
        "uri = \"https://docs.google.com/spreadsheets/d/1cSnSnnQunL-I7hpyYkIqbtuGr55unVJ3Qe8URSrjTr8/edit?usp=sharing\"\n",
        "\n",
        "wb = get_CCDB_wb(uri)\n",
        "db_cc = get_CCDB_data (wb, 0)\n",
        "\n",
        "nom_onglet = 'Lexique'\n",
        "# si l'onglet existe déjà\n",
        "try:\n",
        "  ws = wb.worksheet(nom_onglet)\n",
        "  wb.del_worksheet(ws)\n",
        "except:\n",
        "  print (\"Onglet inexistant !\")\n",
        "\n",
        "wb.add_worksheet(nom_onglet, 1, 1)\n",
        "export_sheet = wb.worksheet(nom_onglet)\n",
        "set_with_dataframe(export_sheet, df_voc_trad)"
      ],
      "metadata": {
        "colab": {
          "base_uri": "https://localhost:8080/"
        },
        "id": "WT5hbTFFSxNt",
        "outputId": "ed9bc995-068c-4756-bfe7-9017c5340e54"
      },
      "execution_count": null,
      "outputs": [
        {
          "output_type": "stream",
          "name": "stdout",
          "text": [
            "Onglet inexistant !\n"
          ]
        }
      ]
    },
    {
      "cell_type": "code",
      "source": [
        "grouped = df_voc.groupby(['idx_cor','Maitre'])\n",
        "'''\n",
        "for name, group in grouped:\n",
        "  print (name)\n",
        "  print (group[\"Proposition\"])\n",
        "'''"
      ],
      "metadata": {
        "colab": {
          "base_uri": "https://localhost:8080/",
          "height": 35
        },
        "id": "evgY7mxqP7WE",
        "outputId": "75660d4f-af74-4aa8-cd47-d511f4d308fa"
      },
      "execution_count": null,
      "outputs": [
        {
          "output_type": "execute_result",
          "data": {
            "text/plain": [
              "'\\nfor name, group in grouped:\\n  print (name)\\n  print (group[\"Proposition\"])\\n'"
            ],
            "application/vnd.google.colaboratory.intrinsic+json": {
              "type": "string"
            }
          },
          "metadata": {},
          "execution_count": 23
        }
      ]
    },
    {
      "cell_type": "markdown",
      "source": [
        "Recherche des UID manquants dans Airtable"
      ],
      "metadata": {
        "id": "U-7k2nzJUsid"
      }
    },
    {
      "cell_type": "code",
      "source": [
        "def airtable_get_missing_uids(df):\n",
        "  return df.loc[pd.isna(df[\"UID\"])]\n"
      ],
      "metadata": {
        "id": "Gtod6pghUwQi"
      },
      "execution_count": null,
      "outputs": []
    },
    {
      "cell_type": "markdown",
      "source": [
        "Recherche dans Airtable par Séquence"
      ],
      "metadata": {
        "id": "5SKRdfNJVJsK"
      }
    },
    {
      "cell_type": "code",
      "source": [
        "def airtable_get_records_by_sequence(df, sequence):\n",
        "  return df.loc[df[\"Séquence\"]==sequence]\n"
      ],
      "metadata": {
        "id": "vSn5dpoYVi4M"
      },
      "execution_count": null,
      "outputs": []
    },
    {
      "cell_type": "code",
      "source": [
        "#df_vkat.loc[df_vkat[\"Séquence\"]==\"1. Présentation + antécédents\"]"
      ],
      "metadata": {
        "id": "fcJHEddUWLWs"
      },
      "execution_count": null,
      "outputs": []
    },
    {
      "cell_type": "code",
      "source": [
        "airtable_get_missing_uids(df_vkat)"
      ],
      "metadata": {
        "id": "57wH5iFxREtI",
        "colab": {
          "base_uri": "https://localhost:8080/",
          "height": 468
        },
        "outputId": "f6fedb58-76d3-4a76-b039-3b113a31dc32"
      },
      "execution_count": null,
      "outputs": [
        {
          "output_type": "execute_result",
          "data": {
            "text/plain": [
              "                       Proposition  CATEGRAM           DEPENDANCE idx_cor         TYPE  UID VOCABULAIRE           Thématique  idx  Ordre  ... Updates Séquence MedGen Statut Fiche Phrase Assoc Définition Corpus copy DOMAINE Exp Assoc\n",
              "6                  ~ chirurgicale      [exp]  [reco8iFRctnJgMJCl]       I   expression  NaN         NaN        [Vaccination]    I      2  ...     NaN      NaN    NaN    NaN   NaN          NaN        NaN         NaN     NaN       NaN\n",
              "26                    Accouchement      [nm]                  NaN       A  vocabulaire  NaN         NaN  [Médecine générale]  NaN      1  ...     NaN      NaN    NaN    NaN   NaN          NaN        NaN         NaN     NaN       NaN\n",
              "27                       Accoucher      [vi]                  NaN       A  vocabulaire  NaN         NaN  [Médecine générale]  NaN      1  ...     NaN      NaN    NaN    NaN   NaN          NaN        NaN         NaN     NaN       NaN\n",
              "40                      Appareil ~     [exp]                  NaN       D   expression  NaN         NaN  [Médecine générale]  NaN      2  ...     NaN      NaN    NaN    NaN   NaN          NaN        NaN         NaN     NaN       NaN\n",
              "41                       Assurance      [nf]                  NaN       A  vocabulaire  NaN     Général  [Médecine générale]  NaN      1  ...     NaN      NaN    NaN    NaN   NaN          NaN        NaN         NaN     NaN       NaN\n",
              "..                             ...       ...                  ...     ...          ...  ...         ...                  ...  ...    ...  ...     ...      ...    ...    ...   ...          ...        ...         ...     ...       ...\n",
              "304                          Urine      [nf]                  NaN       U  vocabulaire  NaN         NaN                  NaN  NaN      1  ...     NaN      NaN    NaN    NaN   NaN          NaN        NaN         NaN     NaN       NaN\n",
              "306                       Vaccinal     [adj]                  NaN       V  vocabulaire  NaN         NaN                  NaN  NaN      1  ...     NaN      NaN    NaN    NaN   NaN          NaN        NaN         NaN     NaN       NaN\n",
              "308                    Vacciné, -e     [adj]                  NaN       V  vocabulaire  NaN         NaN                  NaN  NaN      1  ...     NaN      NaN    NaN    NaN   NaN          NaN        NaN         NaN     NaN       NaN\n",
              "317  Votre poids a-t-il augmenté ?  [phrase]  [recnFsFSoE1DCjYqt]       P       phrase  NaN         NaN  [Médecine générale]  NaN      3  ...     NaN      NaN    NaN    NaN   NaN          NaN        NaN         NaN     NaN       NaN\n",
              "319    Votre poids est-il stable ?  [phrase]  [recnFsFSoE1DCjYqt]       P       phrase  NaN         NaN  [Médecine générale]  NaN      3  ...     NaN      NaN    NaN    NaN   NaN          NaN        NaN         NaN     NaN       NaN\n",
              "\n",
              "[64 rows x 39 columns]"
            ],
            "text/html": [
              "\n",
              "  <div id=\"df-f55aeecb-91ff-4920-b2ea-8a4d69a74e8c\">\n",
              "    <div class=\"colab-df-container\">\n",
              "      <div>\n",
              "<style scoped>\n",
              "    .dataframe tbody tr th:only-of-type {\n",
              "        vertical-align: middle;\n",
              "    }\n",
              "\n",
              "    .dataframe tbody tr th {\n",
              "        vertical-align: top;\n",
              "    }\n",
              "\n",
              "    .dataframe thead th {\n",
              "        text-align: right;\n",
              "    }\n",
              "</style>\n",
              "<table border=\"1\" class=\"dataframe\">\n",
              "  <thead>\n",
              "    <tr style=\"text-align: right;\">\n",
              "      <th></th>\n",
              "      <th>Proposition</th>\n",
              "      <th>CATEGRAM</th>\n",
              "      <th>DEPENDANCE</th>\n",
              "      <th>idx_cor</th>\n",
              "      <th>TYPE</th>\n",
              "      <th>UID</th>\n",
              "      <th>VOCABULAIRE</th>\n",
              "      <th>Thématique</th>\n",
              "      <th>idx</th>\n",
              "      <th>Ordre</th>\n",
              "      <th>...</th>\n",
              "      <th>Updates</th>\n",
              "      <th>Séquence</th>\n",
              "      <th>MedGen</th>\n",
              "      <th>Statut</th>\n",
              "      <th>Fiche</th>\n",
              "      <th>Phrase Assoc</th>\n",
              "      <th>Définition</th>\n",
              "      <th>Corpus copy</th>\n",
              "      <th>DOMAINE</th>\n",
              "      <th>Exp Assoc</th>\n",
              "    </tr>\n",
              "  </thead>\n",
              "  <tbody>\n",
              "    <tr>\n",
              "      <th>6</th>\n",
              "      <td>~ chirurgicale</td>\n",
              "      <td>[exp]</td>\n",
              "      <td>[reco8iFRctnJgMJCl]</td>\n",
              "      <td>I</td>\n",
              "      <td>expression</td>\n",
              "      <td>NaN</td>\n",
              "      <td>NaN</td>\n",
              "      <td>[Vaccination]</td>\n",
              "      <td>I</td>\n",
              "      <td>2</td>\n",
              "      <td>...</td>\n",
              "      <td>NaN</td>\n",
              "      <td>NaN</td>\n",
              "      <td>NaN</td>\n",
              "      <td>NaN</td>\n",
              "      <td>NaN</td>\n",
              "      <td>NaN</td>\n",
              "      <td>NaN</td>\n",
              "      <td>NaN</td>\n",
              "      <td>NaN</td>\n",
              "      <td>NaN</td>\n",
              "    </tr>\n",
              "    <tr>\n",
              "      <th>26</th>\n",
              "      <td>Accouchement</td>\n",
              "      <td>[nm]</td>\n",
              "      <td>NaN</td>\n",
              "      <td>A</td>\n",
              "      <td>vocabulaire</td>\n",
              "      <td>NaN</td>\n",
              "      <td>NaN</td>\n",
              "      <td>[Médecine générale]</td>\n",
              "      <td>NaN</td>\n",
              "      <td>1</td>\n",
              "      <td>...</td>\n",
              "      <td>NaN</td>\n",
              "      <td>NaN</td>\n",
              "      <td>NaN</td>\n",
              "      <td>NaN</td>\n",
              "      <td>NaN</td>\n",
              "      <td>NaN</td>\n",
              "      <td>NaN</td>\n",
              "      <td>NaN</td>\n",
              "      <td>NaN</td>\n",
              "      <td>NaN</td>\n",
              "    </tr>\n",
              "    <tr>\n",
              "      <th>27</th>\n",
              "      <td>Accoucher</td>\n",
              "      <td>[vi]</td>\n",
              "      <td>NaN</td>\n",
              "      <td>A</td>\n",
              "      <td>vocabulaire</td>\n",
              "      <td>NaN</td>\n",
              "      <td>NaN</td>\n",
              "      <td>[Médecine générale]</td>\n",
              "      <td>NaN</td>\n",
              "      <td>1</td>\n",
              "      <td>...</td>\n",
              "      <td>NaN</td>\n",
              "      <td>NaN</td>\n",
              "      <td>NaN</td>\n",
              "      <td>NaN</td>\n",
              "      <td>NaN</td>\n",
              "      <td>NaN</td>\n",
              "      <td>NaN</td>\n",
              "      <td>NaN</td>\n",
              "      <td>NaN</td>\n",
              "      <td>NaN</td>\n",
              "    </tr>\n",
              "    <tr>\n",
              "      <th>40</th>\n",
              "      <td>Appareil ~</td>\n",
              "      <td>[exp]</td>\n",
              "      <td>NaN</td>\n",
              "      <td>D</td>\n",
              "      <td>expression</td>\n",
              "      <td>NaN</td>\n",
              "      <td>NaN</td>\n",
              "      <td>[Médecine générale]</td>\n",
              "      <td>NaN</td>\n",
              "      <td>2</td>\n",
              "      <td>...</td>\n",
              "      <td>NaN</td>\n",
              "      <td>NaN</td>\n",
              "      <td>NaN</td>\n",
              "      <td>NaN</td>\n",
              "      <td>NaN</td>\n",
              "      <td>NaN</td>\n",
              "      <td>NaN</td>\n",
              "      <td>NaN</td>\n",
              "      <td>NaN</td>\n",
              "      <td>NaN</td>\n",
              "    </tr>\n",
              "    <tr>\n",
              "      <th>41</th>\n",
              "      <td>Assurance</td>\n",
              "      <td>[nf]</td>\n",
              "      <td>NaN</td>\n",
              "      <td>A</td>\n",
              "      <td>vocabulaire</td>\n",
              "      <td>NaN</td>\n",
              "      <td>Général</td>\n",
              "      <td>[Médecine générale]</td>\n",
              "      <td>NaN</td>\n",
              "      <td>1</td>\n",
              "      <td>...</td>\n",
              "      <td>NaN</td>\n",
              "      <td>NaN</td>\n",
              "      <td>NaN</td>\n",
              "      <td>NaN</td>\n",
              "      <td>NaN</td>\n",
              "      <td>NaN</td>\n",
              "      <td>NaN</td>\n",
              "      <td>NaN</td>\n",
              "      <td>NaN</td>\n",
              "      <td>NaN</td>\n",
              "    </tr>\n",
              "    <tr>\n",
              "      <th>...</th>\n",
              "      <td>...</td>\n",
              "      <td>...</td>\n",
              "      <td>...</td>\n",
              "      <td>...</td>\n",
              "      <td>...</td>\n",
              "      <td>...</td>\n",
              "      <td>...</td>\n",
              "      <td>...</td>\n",
              "      <td>...</td>\n",
              "      <td>...</td>\n",
              "      <td>...</td>\n",
              "      <td>...</td>\n",
              "      <td>...</td>\n",
              "      <td>...</td>\n",
              "      <td>...</td>\n",
              "      <td>...</td>\n",
              "      <td>...</td>\n",
              "      <td>...</td>\n",
              "      <td>...</td>\n",
              "      <td>...</td>\n",
              "      <td>...</td>\n",
              "    </tr>\n",
              "    <tr>\n",
              "      <th>304</th>\n",
              "      <td>Urine</td>\n",
              "      <td>[nf]</td>\n",
              "      <td>NaN</td>\n",
              "      <td>U</td>\n",
              "      <td>vocabulaire</td>\n",
              "      <td>NaN</td>\n",
              "      <td>NaN</td>\n",
              "      <td>NaN</td>\n",
              "      <td>NaN</td>\n",
              "      <td>1</td>\n",
              "      <td>...</td>\n",
              "      <td>NaN</td>\n",
              "      <td>NaN</td>\n",
              "      <td>NaN</td>\n",
              "      <td>NaN</td>\n",
              "      <td>NaN</td>\n",
              "      <td>NaN</td>\n",
              "      <td>NaN</td>\n",
              "      <td>NaN</td>\n",
              "      <td>NaN</td>\n",
              "      <td>NaN</td>\n",
              "    </tr>\n",
              "    <tr>\n",
              "      <th>306</th>\n",
              "      <td>Vaccinal</td>\n",
              "      <td>[adj]</td>\n",
              "      <td>NaN</td>\n",
              "      <td>V</td>\n",
              "      <td>vocabulaire</td>\n",
              "      <td>NaN</td>\n",
              "      <td>NaN</td>\n",
              "      <td>NaN</td>\n",
              "      <td>NaN</td>\n",
              "      <td>1</td>\n",
              "      <td>...</td>\n",
              "      <td>NaN</td>\n",
              "      <td>NaN</td>\n",
              "      <td>NaN</td>\n",
              "      <td>NaN</td>\n",
              "      <td>NaN</td>\n",
              "      <td>NaN</td>\n",
              "      <td>NaN</td>\n",
              "      <td>NaN</td>\n",
              "      <td>NaN</td>\n",
              "      <td>NaN</td>\n",
              "    </tr>\n",
              "    <tr>\n",
              "      <th>308</th>\n",
              "      <td>Vacciné, -e</td>\n",
              "      <td>[adj]</td>\n",
              "      <td>NaN</td>\n",
              "      <td>V</td>\n",
              "      <td>vocabulaire</td>\n",
              "      <td>NaN</td>\n",
              "      <td>NaN</td>\n",
              "      <td>NaN</td>\n",
              "      <td>NaN</td>\n",
              "      <td>1</td>\n",
              "      <td>...</td>\n",
              "      <td>NaN</td>\n",
              "      <td>NaN</td>\n",
              "      <td>NaN</td>\n",
              "      <td>NaN</td>\n",
              "      <td>NaN</td>\n",
              "      <td>NaN</td>\n",
              "      <td>NaN</td>\n",
              "      <td>NaN</td>\n",
              "      <td>NaN</td>\n",
              "      <td>NaN</td>\n",
              "    </tr>\n",
              "    <tr>\n",
              "      <th>317</th>\n",
              "      <td>Votre poids a-t-il augmenté ?</td>\n",
              "      <td>[phrase]</td>\n",
              "      <td>[recnFsFSoE1DCjYqt]</td>\n",
              "      <td>P</td>\n",
              "      <td>phrase</td>\n",
              "      <td>NaN</td>\n",
              "      <td>NaN</td>\n",
              "      <td>[Médecine générale]</td>\n",
              "      <td>NaN</td>\n",
              "      <td>3</td>\n",
              "      <td>...</td>\n",
              "      <td>NaN</td>\n",
              "      <td>NaN</td>\n",
              "      <td>NaN</td>\n",
              "      <td>NaN</td>\n",
              "      <td>NaN</td>\n",
              "      <td>NaN</td>\n",
              "      <td>NaN</td>\n",
              "      <td>NaN</td>\n",
              "      <td>NaN</td>\n",
              "      <td>NaN</td>\n",
              "    </tr>\n",
              "    <tr>\n",
              "      <th>319</th>\n",
              "      <td>Votre poids est-il stable ?</td>\n",
              "      <td>[phrase]</td>\n",
              "      <td>[recnFsFSoE1DCjYqt]</td>\n",
              "      <td>P</td>\n",
              "      <td>phrase</td>\n",
              "      <td>NaN</td>\n",
              "      <td>NaN</td>\n",
              "      <td>[Médecine générale]</td>\n",
              "      <td>NaN</td>\n",
              "      <td>3</td>\n",
              "      <td>...</td>\n",
              "      <td>NaN</td>\n",
              "      <td>NaN</td>\n",
              "      <td>NaN</td>\n",
              "      <td>NaN</td>\n",
              "      <td>NaN</td>\n",
              "      <td>NaN</td>\n",
              "      <td>NaN</td>\n",
              "      <td>NaN</td>\n",
              "      <td>NaN</td>\n",
              "      <td>NaN</td>\n",
              "    </tr>\n",
              "  </tbody>\n",
              "</table>\n",
              "<p>64 rows × 39 columns</p>\n",
              "</div>\n",
              "      <button class=\"colab-df-convert\" onclick=\"convertToInteractive('df-f55aeecb-91ff-4920-b2ea-8a4d69a74e8c')\"\n",
              "              title=\"Convert this dataframe to an interactive table.\"\n",
              "              style=\"display:none;\">\n",
              "        \n",
              "  <svg xmlns=\"http://www.w3.org/2000/svg\" height=\"24px\"viewBox=\"0 0 24 24\"\n",
              "       width=\"24px\">\n",
              "    <path d=\"M0 0h24v24H0V0z\" fill=\"none\"/>\n",
              "    <path d=\"M18.56 5.44l.94 2.06.94-2.06 2.06-.94-2.06-.94-.94-2.06-.94 2.06-2.06.94zm-11 1L8.5 8.5l.94-2.06 2.06-.94-2.06-.94L8.5 2.5l-.94 2.06-2.06.94zm10 10l.94 2.06.94-2.06 2.06-.94-2.06-.94-.94-2.06-.94 2.06-2.06.94z\"/><path d=\"M17.41 7.96l-1.37-1.37c-.4-.4-.92-.59-1.43-.59-.52 0-1.04.2-1.43.59L10.3 9.45l-7.72 7.72c-.78.78-.78 2.05 0 2.83L4 21.41c.39.39.9.59 1.41.59.51 0 1.02-.2 1.41-.59l7.78-7.78 2.81-2.81c.8-.78.8-2.07 0-2.86zM5.41 20L4 18.59l7.72-7.72 1.47 1.35L5.41 20z\"/>\n",
              "  </svg>\n",
              "      </button>\n",
              "      \n",
              "  <style>\n",
              "    .colab-df-container {\n",
              "      display:flex;\n",
              "      flex-wrap:wrap;\n",
              "      gap: 12px;\n",
              "    }\n",
              "\n",
              "    .colab-df-convert {\n",
              "      background-color: #E8F0FE;\n",
              "      border: none;\n",
              "      border-radius: 50%;\n",
              "      cursor: pointer;\n",
              "      display: none;\n",
              "      fill: #1967D2;\n",
              "      height: 32px;\n",
              "      padding: 0 0 0 0;\n",
              "      width: 32px;\n",
              "    }\n",
              "\n",
              "    .colab-df-convert:hover {\n",
              "      background-color: #E2EBFA;\n",
              "      box-shadow: 0px 1px 2px rgba(60, 64, 67, 0.3), 0px 1px 3px 1px rgba(60, 64, 67, 0.15);\n",
              "      fill: #174EA6;\n",
              "    }\n",
              "\n",
              "    [theme=dark] .colab-df-convert {\n",
              "      background-color: #3B4455;\n",
              "      fill: #D2E3FC;\n",
              "    }\n",
              "\n",
              "    [theme=dark] .colab-df-convert:hover {\n",
              "      background-color: #434B5C;\n",
              "      box-shadow: 0px 1px 3px 1px rgba(0, 0, 0, 0.15);\n",
              "      filter: drop-shadow(0px 1px 2px rgba(0, 0, 0, 0.3));\n",
              "      fill: #FFFFFF;\n",
              "    }\n",
              "  </style>\n",
              "\n",
              "      <script>\n",
              "        const buttonEl =\n",
              "          document.querySelector('#df-f55aeecb-91ff-4920-b2ea-8a4d69a74e8c button.colab-df-convert');\n",
              "        buttonEl.style.display =\n",
              "          google.colab.kernel.accessAllowed ? 'block' : 'none';\n",
              "\n",
              "        async function convertToInteractive(key) {\n",
              "          const element = document.querySelector('#df-f55aeecb-91ff-4920-b2ea-8a4d69a74e8c');\n",
              "          const dataTable =\n",
              "            await google.colab.kernel.invokeFunction('convertToInteractive',\n",
              "                                                     [key], {});\n",
              "          if (!dataTable) return;\n",
              "\n",
              "          const docLinkHtml = 'Like what you see? Visit the ' +\n",
              "            '<a target=\"_blank\" href=https://colab.research.google.com/notebooks/data_table.ipynb>data table notebook</a>'\n",
              "            + ' to learn more about interactive tables.';\n",
              "          element.innerHTML = '';\n",
              "          dataTable['output_type'] = 'display_data';\n",
              "          await google.colab.output.renderOutput(dataTable, element);\n",
              "          const docLink = document.createElement('div');\n",
              "          docLink.innerHTML = docLinkHtml;\n",
              "          element.appendChild(docLink);\n",
              "        }\n",
              "      </script>\n",
              "    </div>\n",
              "  </div>\n",
              "  "
            ]
          },
          "metadata": {},
          "execution_count": 21
        }
      ]
    },
    {
      "cell_type": "markdown",
      "source": [
        "Rceherche des termes présents dans Central, présents dans AIRTBL mais sans UID"
      ],
      "metadata": {
        "id": "fXlfUrfdYIbI"
      }
    },
    {
      "cell_type": "code",
      "source": [
        "vk_at_trad = airtable.get_all(view='Traductions',sort='Proposition')\n",
        "df_vk_at_trad = pd.DataFrame.from_records((r['fields'] for r in vk_at_trad))\n",
        "df_vk_at_trad = df_vk_at_trad[[\"Proposition\",\"idx_cor\",\"UID\"]]\n",
        "df_vk_at_trad_notna = df_vk_at_trad.loc[pd.notna(df_vk_at_trad[\"UID\"])]\n",
        "df_vk_at_trad_na = df_vk_at_trad.loc[pd.isna(df_vk_at_trad[\"UID\"])]"
      ],
      "metadata": {
        "id": "K3gKCepieMIQ"
      },
      "execution_count": null,
      "outputs": []
    },
    {
      "cell_type": "markdown",
      "source": [
        "### merge côté AT : avec les UID présents "
      ],
      "metadata": {
        "id": "INb1Du8CtbBR"
      }
    },
    {
      "cell_type": "code",
      "source": [
        "df_merged = pd.merge(df_cc_global, df_vk_at_trad_notna, how=\"right\", left_on='uid', right_on='UID')"
      ],
      "metadata": {
        "id": "WmQoZ0pvgZtQ"
      },
      "execution_count": null,
      "outputs": []
    },
    {
      "cell_type": "markdown",
      "source": [
        "## On complète avec les traductions"
      ],
      "metadata": {
        "id": "ldztSIEztkja"
      }
    },
    {
      "cell_type": "code",
      "source": [
        "for index, row in df_merged.iterrows():\n",
        "  if row[\"uid\"] is not None:\n",
        "    record = airtable.match('UID', row[\"uid\"])\n",
        "    aDict = {}\n",
        "    for i in vk_languages:\n",
        "      key = i[\"trigramme\"]\n",
        "      aDict[key] = row[key]\n",
        "      #print (record['id'] +\" \" + row[\"eng\"])\n",
        "    airtable.update(record['id'], aDict)\n"
      ],
      "metadata": {
        "id": "--ive2GSiBtb"
      },
      "execution_count": null,
      "outputs": []
    },
    {
      "cell_type": "markdown",
      "source": [
        "## On complète avec les UID manquants"
      ],
      "metadata": {
        "id": "TDC5UPAZtj7e"
      }
    },
    {
      "cell_type": "code",
      "source": [
        "df_vk_at_trad_na"
      ],
      "metadata": {
        "id": "AcFNN2eIuIog"
      },
      "execution_count": null,
      "outputs": []
    },
    {
      "cell_type": "code",
      "source": [
        "df_merged = pd.merge(df_cc_global, df_vk_at_trad_na, how=\"right\", left_on='expression', right_on='Proposition')"
      ],
      "metadata": {
        "id": "8t7rvIBUtvJu"
      },
      "execution_count": null,
      "outputs": []
    },
    {
      "cell_type": "code",
      "source": [
        "df_merged = df_merged.loc[pd.notna(df_merged[\"uid\"])]"
      ],
      "metadata": {
        "id": "6ahCm4WCufpQ"
      },
      "execution_count": null,
      "outputs": []
    },
    {
      "cell_type": "code",
      "source": [
        "for index, row in df_merged.iterrows():\n",
        "  if row[\"uid\"] is not None:\n",
        "    record = airtable.match('Proposition', row[\"expression\"])\n",
        "    aDict = {}\n",
        "    key = \"UID\"\n",
        "    aDict[key] = row[\"uid\"]\n",
        "    for i in vk_languages:\n",
        "      key = i[\"trigramme\"]\n",
        "      aDict[key] = row[key]\n",
        "      #print (record['id'] +\" \" + row[\"eng\"])\n",
        "    airtable.update(record['id'], aDict)"
      ],
      "metadata": {
        "id": "cOtC1mTRvf4b"
      },
      "execution_count": null,
      "outputs": []
    },
    {
      "cell_type": "markdown",
      "source": [
        "## On vide toute la base AT dans Central Consolidation"
      ],
      "metadata": {
        "id": "DS-bEnO8wWdd"
      }
    },
    {
      "cell_type": "code",
      "source": [
        "vk_at = airtable.get_all(view='Admin',sort='Proposition')\n",
        "df_vkat = pd.DataFrame.from_records((r['fields'] for r in vk_at))"
      ],
      "metadata": {
        "id": "E0Ohsqdnyic-"
      },
      "execution_count": null,
      "outputs": []
    },
    {
      "cell_type": "code",
      "source": [
        "# Corpus_consolidation\n",
        "uri = \"https://docs.google.com/spreadsheets/d/1cSnSnnQunL-I7hpyYkIqbtuGr55unVJ3Qe8URSrjTr8/edit?usp=sharing\"\n",
        "\n",
        "wb = get_CCDB_wb(uri)\n",
        "db_cc = get_CCDB_data (wb, 0)\n",
        "\n",
        "nom_onglet = 'Termes'\n",
        "# si l'onglet existe déjà\n",
        "try:\n",
        "  ws = wb.worksheet(nom_onglet)\n",
        "  wb.del_worksheet(ws)\n",
        "except:\n",
        "  print (\"Onglet inexistant !\")\n",
        "\n",
        "wb.add_worksheet(nom_onglet, 1, 1)\n",
        "export_sheet = wb.worksheet(nom_onglet)\n",
        "set_with_dataframe(export_sheet, df_vkat)\n",
        "\n"
      ],
      "metadata": {
        "id": "jwPPFWmSxrsj"
      },
      "execution_count": null,
      "outputs": []
    },
    {
      "cell_type": "markdown",
      "source": [
        "END"
      ],
      "metadata": {
        "id": "GrpHI9nesnIY"
      }
    },
    {
      "cell_type": "code",
      "source": [
        "record = airtable.match('UID', '30579682')\n",
        "fields = {'eng': 'Accident'}\n",
        "airtable.update(record['id'], fields)"
      ],
      "metadata": {
        "colab": {
          "base_uri": "https://localhost:8080/"
        },
        "id": "i4bxE6U-dJLn",
        "outputId": "2d304bb3-bd16-4af0-e266-ea21e647b4bf"
      },
      "execution_count": null,
      "outputs": [
        {
          "output_type": "execute_result",
          "data": {
            "text/plain": [
              "{'createdTime': '2021-12-10T08:47:48.000Z',\n",
              " 'fields': {'CATEGRAM': ['nm'],\n",
              "  'Name ID': 'recGaRQGjV5qN3QBN',\n",
              "  'Proposition': 'Accident',\n",
              "  'TYPE': 'vocabulaire',\n",
              "  'Thématique': 'Vaccination',\n",
              "  'UID': '30579682',\n",
              "  'VOCABULAIRE': 'Général',\n",
              "  'eng': 'Accident',\n",
              "  'idx': 'A',\n",
              "  'idx_cor': 'A'},\n",
              " 'id': 'recGaRQGjV5qN3QBN'}"
            ]
          },
          "metadata": {},
          "execution_count": 39
        }
      ]
    },
    {
      "cell_type": "code",
      "source": [
        "record"
      ],
      "metadata": {
        "colab": {
          "base_uri": "https://localhost:8080/"
        },
        "id": "FVhleF-qdP8m",
        "outputId": "6842713c-df5e-40c3-d9ac-94d4b4bb4b4c"
      },
      "execution_count": null,
      "outputs": [
        {
          "output_type": "execute_result",
          "data": {
            "text/plain": [
              "{'createdTime': '2021-12-10T08:47:48.000Z',\n",
              " 'fields': {'CATEGRAM': ['nm'],\n",
              "  'Name ID': 'recGaRQGjV5qN3QBN',\n",
              "  'Proposition': 'Accident',\n",
              "  'TYPE': 'vocabulaire',\n",
              "  'Thématique': 'Vaccination',\n",
              "  'UID': '30579682',\n",
              "  'VOCABULAIRE': 'Général',\n",
              "  'idx': 'A',\n",
              "  'idx_cor': 'A'},\n",
              " 'id': 'recGaRQGjV5qN3QBN'}"
            ]
          },
          "metadata": {},
          "execution_count": 33
        }
      ]
    },
    {
      "cell_type": "code",
      "metadata": {
        "id": "9yIqVmuF5sLc"
      },
      "source": [
        "def airtable_table_get(uri, params, headers):\n",
        "  airtable_records = []\n",
        "  run = True\n",
        "  while run is True:\n",
        "    response = requests.get(uri, params=params, headers=headers)\n",
        "    airtable_response = response.json()\n",
        "    airtable_records += (airtable_response['records'])\n",
        "    if 'offset' in airtable_response:\n",
        "      run = True\n",
        "      params = (('offset', airtable_response['offset']),)\n",
        "    else:\n",
        "      run = False\n",
        "  return airtable_records"
      ],
      "execution_count": null,
      "outputs": []
    },
    {
      "cell_type": "markdown",
      "metadata": {
        "id": "Td15VBcoLa2f"
      },
      "source": [
        "# Table Corpus"
      ]
    },
    {
      "cell_type": "code",
      "metadata": {
        "id": "7Vt-ZR-AJlzP"
      },
      "source": [
        "\n",
        "url = \"https://api.airtable.com/v0/\" + base_id + \"/\" + table_name\n"
      ],
      "execution_count": null,
      "outputs": []
    },
    {
      "cell_type": "markdown",
      "metadata": {
        "id": "ViCvTpxuBHoz"
      },
      "source": [
        "### On lit tous les enregistrements, puis on met dans un dataframe"
      ]
    },
    {
      "cell_type": "code",
      "metadata": {
        "id": "l8xZ5LY6MLFl"
      },
      "source": [
        "airtable_records = airtable_table_get(url, params, headers)\n",
        "\n",
        "airtable_rows = [] \n",
        "airtable_index = []\n",
        "for record in airtable_records:\n",
        "  airtable_rows.append(record['fields'])\n",
        "  airtable_index.append(record['id'])\n",
        "df = pd.DataFrame(airtable_rows, index=airtable_index)\n",
        "df = df [['Proposition','UID', 'Name ID', 'DEPENDANCE', 'idx', 'idx_cor','Statut','Thématique']]\n",
        "df.sort_values(by=['Proposition'], ascending=True, inplace=True)"
      ],
      "execution_count": null,
      "outputs": []
    },
    {
      "cell_type": "code",
      "source": [
        "df.head(10)"
      ],
      "metadata": {
        "colab": {
          "base_uri": "https://localhost:8080/",
          "height": 363
        },
        "id": "6mXBIWjy1qNA",
        "outputId": "157f2898-0e0d-48e6-ec4a-7aa85789b3c5"
      },
      "execution_count": null,
      "outputs": [
        {
          "output_type": "execute_result",
          "data": {
            "text/html": [
              "\n",
              "  <div id=\"df-22447ca0-0f23-457d-8f2b-09b219e4cba2\">\n",
              "    <div class=\"colab-df-container\">\n",
              "      <div>\n",
              "<style scoped>\n",
              "    .dataframe tbody tr th:only-of-type {\n",
              "        vertical-align: middle;\n",
              "    }\n",
              "\n",
              "    .dataframe tbody tr th {\n",
              "        vertical-align: top;\n",
              "    }\n",
              "\n",
              "    .dataframe thead th {\n",
              "        text-align: right;\n",
              "    }\n",
              "</style>\n",
              "<table border=\"1\" class=\"dataframe\">\n",
              "  <thead>\n",
              "    <tr style=\"text-align: right;\">\n",
              "      <th></th>\n",
              "      <th>Proposition</th>\n",
              "      <th>UID</th>\n",
              "      <th>Name ID</th>\n",
              "      <th>DEPENDANCE</th>\n",
              "      <th>idx</th>\n",
              "      <th>idx_cor</th>\n",
              "      <th>Statut</th>\n",
              "      <th>Thématique</th>\n",
              "    </tr>\n",
              "  </thead>\n",
              "  <tbody>\n",
              "    <tr>\n",
              "      <th>recKbPHqDTXNPwYK0</th>\n",
              "      <td>A jeun</td>\n",
              "      <td>f397cda1</td>\n",
              "      <td>recKbPHqDTXNPwYK0</td>\n",
              "      <td>NaN</td>\n",
              "      <td>J</td>\n",
              "      <td>J</td>\n",
              "      <td>NaN</td>\n",
              "      <td>Vaccination</td>\n",
              "    </tr>\n",
              "    <tr>\n",
              "      <th>rec1qTnfWxjhx6SBl</th>\n",
              "      <td>AME - Aide médicale d'État</td>\n",
              "      <td>f49563a9</td>\n",
              "      <td>rec1qTnfWxjhx6SBl</td>\n",
              "      <td>NaN</td>\n",
              "      <td>A</td>\n",
              "      <td>A</td>\n",
              "      <td>NaN</td>\n",
              "      <td>Vaccination</td>\n",
              "    </tr>\n",
              "    <tr>\n",
              "      <th>rec0HgtD22F7TWM3W</th>\n",
              "      <td>Abcès</td>\n",
              "      <td>6e65dde7</td>\n",
              "      <td>rec0HgtD22F7TWM3W</td>\n",
              "      <td>NaN</td>\n",
              "      <td>A</td>\n",
              "      <td>A</td>\n",
              "      <td>NaN</td>\n",
              "      <td>Médecine générale</td>\n",
              "    </tr>\n",
              "    <tr>\n",
              "      <th>recGaRQGjV5qN3QBN</th>\n",
              "      <td>Accident</td>\n",
              "      <td>30579682</td>\n",
              "      <td>recGaRQGjV5qN3QBN</td>\n",
              "      <td>NaN</td>\n",
              "      <td>A</td>\n",
              "      <td>A</td>\n",
              "      <td>NaN</td>\n",
              "      <td>Vaccination</td>\n",
              "    </tr>\n",
              "    <tr>\n",
              "      <th>rec3MxDq67MC982ng</th>\n",
              "      <td>Accident cérébral</td>\n",
              "      <td>6f214e4c</td>\n",
              "      <td>rec3MxDq67MC982ng</td>\n",
              "      <td>[recGaRQGjV5qN3QBN]</td>\n",
              "      <td>A</td>\n",
              "      <td>A</td>\n",
              "      <td>NaN</td>\n",
              "      <td>Vaccination</td>\n",
              "    </tr>\n",
              "    <tr>\n",
              "      <th>reciexfGbNKvXzQg8</th>\n",
              "      <td>Alcool</td>\n",
              "      <td>NaN</td>\n",
              "      <td>reciexfGbNKvXzQg8</td>\n",
              "      <td>NaN</td>\n",
              "      <td>A</td>\n",
              "      <td>A</td>\n",
              "      <td>NaN</td>\n",
              "      <td>Médecine générale</td>\n",
              "    </tr>\n",
              "    <tr>\n",
              "      <th>recfY4uKkgK8Jp8GO</th>\n",
              "      <td>Allergie</td>\n",
              "      <td>8b195cf4</td>\n",
              "      <td>recfY4uKkgK8Jp8GO</td>\n",
              "      <td>NaN</td>\n",
              "      <td>A</td>\n",
              "      <td>A</td>\n",
              "      <td>NaN</td>\n",
              "      <td>Vaccination</td>\n",
              "    </tr>\n",
              "    <tr>\n",
              "      <th>recSKSrXVLhDfMq6w</th>\n",
              "      <td>Allergie alimentaire</td>\n",
              "      <td>f754eebf</td>\n",
              "      <td>recSKSrXVLhDfMq6w</td>\n",
              "      <td>[recfY4uKkgK8Jp8GO]</td>\n",
              "      <td>A</td>\n",
              "      <td>A</td>\n",
              "      <td>NaN</td>\n",
              "      <td>Vaccination</td>\n",
              "    </tr>\n",
              "    <tr>\n",
              "      <th>rectthHdPchXi1zr9</th>\n",
              "      <td>Allergie médicamenteuse</td>\n",
              "      <td>7256c169</td>\n",
              "      <td>rectthHdPchXi1zr9</td>\n",
              "      <td>[recfY4uKkgK8Jp8GO, recOivQOmeragygVr]</td>\n",
              "      <td>A</td>\n",
              "      <td>A</td>\n",
              "      <td>NaN</td>\n",
              "      <td>Vaccination</td>\n",
              "    </tr>\n",
              "    <tr>\n",
              "      <th>recHNzXfvWWm0Lwp8</th>\n",
              "      <td>Allergie à un médicament</td>\n",
              "      <td>316fa7ab</td>\n",
              "      <td>recHNzXfvWWm0Lwp8</td>\n",
              "      <td>[recfY4uKkgK8Jp8GO, recOivQOmeragygVr]</td>\n",
              "      <td>A</td>\n",
              "      <td>A</td>\n",
              "      <td>NaN</td>\n",
              "      <td>Vaccination</td>\n",
              "    </tr>\n",
              "  </tbody>\n",
              "</table>\n",
              "</div>\n",
              "      <button class=\"colab-df-convert\" onclick=\"convertToInteractive('df-22447ca0-0f23-457d-8f2b-09b219e4cba2')\"\n",
              "              title=\"Convert this dataframe to an interactive table.\"\n",
              "              style=\"display:none;\">\n",
              "        \n",
              "  <svg xmlns=\"http://www.w3.org/2000/svg\" height=\"24px\"viewBox=\"0 0 24 24\"\n",
              "       width=\"24px\">\n",
              "    <path d=\"M0 0h24v24H0V0z\" fill=\"none\"/>\n",
              "    <path d=\"M18.56 5.44l.94 2.06.94-2.06 2.06-.94-2.06-.94-.94-2.06-.94 2.06-2.06.94zm-11 1L8.5 8.5l.94-2.06 2.06-.94-2.06-.94L8.5 2.5l-.94 2.06-2.06.94zm10 10l.94 2.06.94-2.06 2.06-.94-2.06-.94-.94-2.06-.94 2.06-2.06.94z\"/><path d=\"M17.41 7.96l-1.37-1.37c-.4-.4-.92-.59-1.43-.59-.52 0-1.04.2-1.43.59L10.3 9.45l-7.72 7.72c-.78.78-.78 2.05 0 2.83L4 21.41c.39.39.9.59 1.41.59.51 0 1.02-.2 1.41-.59l7.78-7.78 2.81-2.81c.8-.78.8-2.07 0-2.86zM5.41 20L4 18.59l7.72-7.72 1.47 1.35L5.41 20z\"/>\n",
              "  </svg>\n",
              "      </button>\n",
              "      \n",
              "  <style>\n",
              "    .colab-df-container {\n",
              "      display:flex;\n",
              "      flex-wrap:wrap;\n",
              "      gap: 12px;\n",
              "    }\n",
              "\n",
              "    .colab-df-convert {\n",
              "      background-color: #E8F0FE;\n",
              "      border: none;\n",
              "      border-radius: 50%;\n",
              "      cursor: pointer;\n",
              "      display: none;\n",
              "      fill: #1967D2;\n",
              "      height: 32px;\n",
              "      padding: 0 0 0 0;\n",
              "      width: 32px;\n",
              "    }\n",
              "\n",
              "    .colab-df-convert:hover {\n",
              "      background-color: #E2EBFA;\n",
              "      box-shadow: 0px 1px 2px rgba(60, 64, 67, 0.3), 0px 1px 3px 1px rgba(60, 64, 67, 0.15);\n",
              "      fill: #174EA6;\n",
              "    }\n",
              "\n",
              "    [theme=dark] .colab-df-convert {\n",
              "      background-color: #3B4455;\n",
              "      fill: #D2E3FC;\n",
              "    }\n",
              "\n",
              "    [theme=dark] .colab-df-convert:hover {\n",
              "      background-color: #434B5C;\n",
              "      box-shadow: 0px 1px 3px 1px rgba(0, 0, 0, 0.15);\n",
              "      filter: drop-shadow(0px 1px 2px rgba(0, 0, 0, 0.3));\n",
              "      fill: #FFFFFF;\n",
              "    }\n",
              "  </style>\n",
              "\n",
              "      <script>\n",
              "        const buttonEl =\n",
              "          document.querySelector('#df-22447ca0-0f23-457d-8f2b-09b219e4cba2 button.colab-df-convert');\n",
              "        buttonEl.style.display =\n",
              "          google.colab.kernel.accessAllowed ? 'block' : 'none';\n",
              "\n",
              "        async function convertToInteractive(key) {\n",
              "          const element = document.querySelector('#df-22447ca0-0f23-457d-8f2b-09b219e4cba2');\n",
              "          const dataTable =\n",
              "            await google.colab.kernel.invokeFunction('convertToInteractive',\n",
              "                                                     [key], {});\n",
              "          if (!dataTable) return;\n",
              "\n",
              "          const docLinkHtml = 'Like what you see? Visit the ' +\n",
              "            '<a target=\"_blank\" href=https://colab.research.google.com/notebooks/data_table.ipynb>data table notebook</a>'\n",
              "            + ' to learn more about interactive tables.';\n",
              "          element.innerHTML = '';\n",
              "          dataTable['output_type'] = 'display_data';\n",
              "          await google.colab.output.renderOutput(dataTable, element);\n",
              "          const docLink = document.createElement('div');\n",
              "          docLink.innerHTML = docLinkHtml;\n",
              "          element.appendChild(docLink);\n",
              "        }\n",
              "      </script>\n",
              "    </div>\n",
              "  </div>\n",
              "  "
            ],
            "text/plain": [
              "                                  Proposition  ...         Thématique\n",
              "recKbPHqDTXNPwYK0                      A jeun  ...        Vaccination\n",
              "rec1qTnfWxjhx6SBl  AME - Aide médicale d'État  ...        Vaccination\n",
              "rec0HgtD22F7TWM3W                       Abcès  ...  Médecine générale\n",
              "recGaRQGjV5qN3QBN                    Accident  ...        Vaccination\n",
              "rec3MxDq67MC982ng           Accident cérébral  ...        Vaccination\n",
              "reciexfGbNKvXzQg8                      Alcool  ...  Médecine générale\n",
              "recfY4uKkgK8Jp8GO                    Allergie  ...        Vaccination\n",
              "recSKSrXVLhDfMq6w        Allergie alimentaire  ...        Vaccination\n",
              "rectthHdPchXi1zr9     Allergie médicamenteuse  ...        Vaccination\n",
              "recHNzXfvWWm0Lwp8    Allergie à un médicament  ...        Vaccination\n",
              "\n",
              "[10 rows x 8 columns]"
            ]
          },
          "metadata": {},
          "execution_count": 53
        }
      ]
    },
    {
      "cell_type": "code",
      "source": [
        "def lookup_uid (uid):\n",
        "  try:\n",
        "    record = df_cc_fr.loc[df_cc_fr[\"uid\"]==uid][\"index\"].item()\n",
        "  except Exception as e:\n",
        "    list_no_uid.append(uid)\n",
        "    return uid\n",
        "  if record is not None:\n",
        "    return record"
      ],
      "metadata": {
        "id": "BxowEm56s5S7"
      },
      "execution_count": null,
      "outputs": []
    },
    {
      "cell_type": "code",
      "source": [
        "x = df_cc_fr.loc[df_cc_fr[\"uid\"]==\"72f0e8db\"][\"index\"].item()"
      ],
      "metadata": {
        "id": "Up-l6grOtVx0"
      },
      "execution_count": null,
      "outputs": []
    },
    {
      "cell_type": "code",
      "source": [
        "list_no_uid = [] # uid non présents côté central = mots à créer\n",
        "df['UID'] = df['UID'].apply(lambda x: make_unique_id() if pd.isna(x) else x)\n",
        "df.idx_cor = df['UID'].apply(lambda x: lookup_uid(x))"
      ],
      "metadata": {
        "id": "ezaiOPYlx9Mg"
      },
      "execution_count": null,
      "outputs": []
    },
    {
      "cell_type": "markdown",
      "source": [
        "convert the dataframe to a dictionary of dictionaries."
      ],
      "metadata": {
        "id": "ki6AHtiKT7L6"
      }
    },
    {
      "cell_type": "code",
      "source": [
        "df.tail()"
      ],
      "metadata": {
        "colab": {
          "base_uri": "https://localhost:8080/",
          "height": 206
        },
        "id": "Np075CkxXZNq",
        "outputId": "74f61a36-bead-4913-e5d2-1fd294c90fe7"
      },
      "execution_count": null,
      "outputs": [
        {
          "output_type": "execute_result",
          "data": {
            "text/html": [
              "\n",
              "  <div id=\"df-c6325ba4-794c-4b44-8943-a1e2fcc92c87\">\n",
              "    <div class=\"colab-df-container\">\n",
              "      <div>\n",
              "<style scoped>\n",
              "    .dataframe tbody tr th:only-of-type {\n",
              "        vertical-align: middle;\n",
              "    }\n",
              "\n",
              "    .dataframe tbody tr th {\n",
              "        vertical-align: top;\n",
              "    }\n",
              "\n",
              "    .dataframe thead th {\n",
              "        text-align: right;\n",
              "    }\n",
              "</style>\n",
              "<table border=\"1\" class=\"dataframe\">\n",
              "  <thead>\n",
              "    <tr style=\"text-align: right;\">\n",
              "      <th></th>\n",
              "      <th>Proposition</th>\n",
              "      <th>UID</th>\n",
              "      <th>Name ID</th>\n",
              "      <th>DEPENDANCE</th>\n",
              "      <th>idx</th>\n",
              "      <th>idx_cor</th>\n",
              "      <th>Statut</th>\n",
              "      <th>Thématique</th>\n",
              "    </tr>\n",
              "  </thead>\n",
              "  <tbody>\n",
              "    <tr>\n",
              "      <th>recia1L6nICYg6LJ8</th>\n",
              "      <td>Zona</td>\n",
              "      <td>d3dba8e4</td>\n",
              "      <td>recia1L6nICYg6LJ8</td>\n",
              "      <td>NaN</td>\n",
              "      <td>NaN</td>\n",
              "      <td>Z</td>\n",
              "      <td>NaN</td>\n",
              "      <td>Vaccination</td>\n",
              "    </tr>\n",
              "    <tr>\n",
              "      <th>recVvIHdNWf80zvsG</th>\n",
              "      <td>À quelle moment de la journée vous prenez le m...</td>\n",
              "      <td>0f86d1ef</td>\n",
              "      <td>recVvIHdNWf80zvsG</td>\n",
              "      <td>[recOivQOmeragygVr]</td>\n",
              "      <td>M</td>\n",
              "      <td>0f86d1ef</td>\n",
              "      <td>Ramona</td>\n",
              "      <td>Médecine générale</td>\n",
              "    </tr>\n",
              "    <tr>\n",
              "      <th>recWp0rajm2qKcJuF</th>\n",
              "      <td>Êtes vous vacciné (e) ?</td>\n",
              "      <td>c5df267a</td>\n",
              "      <td>recWp0rajm2qKcJuF</td>\n",
              "      <td>NaN</td>\n",
              "      <td>NaN</td>\n",
              "      <td>Ê</td>\n",
              "      <td>NaN</td>\n",
              "      <td>Médecine générale</td>\n",
              "    </tr>\n",
              "    <tr>\n",
              "      <th>recBY5NXGM8UtBcaX</th>\n",
              "      <td>Êtes-vous enceinte ?</td>\n",
              "      <td>7768882c</td>\n",
              "      <td>recBY5NXGM8UtBcaX</td>\n",
              "      <td>NaN</td>\n",
              "      <td>NaN</td>\n",
              "      <td>Ê</td>\n",
              "      <td>NaN</td>\n",
              "      <td>Médecine générale</td>\n",
              "    </tr>\n",
              "    <tr>\n",
              "      <th>reczy8Os5Hc3qZ1yA</th>\n",
              "      <td>Œdème</td>\n",
              "      <td>72f0e8db</td>\n",
              "      <td>reczy8Os5Hc3qZ1yA</td>\n",
              "      <td>NaN</td>\n",
              "      <td>NaN</td>\n",
              "      <td>Œ</td>\n",
              "      <td>NaN</td>\n",
              "      <td>Médecine générale</td>\n",
              "    </tr>\n",
              "  </tbody>\n",
              "</table>\n",
              "</div>\n",
              "      <button class=\"colab-df-convert\" onclick=\"convertToInteractive('df-c6325ba4-794c-4b44-8943-a1e2fcc92c87')\"\n",
              "              title=\"Convert this dataframe to an interactive table.\"\n",
              "              style=\"display:none;\">\n",
              "        \n",
              "  <svg xmlns=\"http://www.w3.org/2000/svg\" height=\"24px\"viewBox=\"0 0 24 24\"\n",
              "       width=\"24px\">\n",
              "    <path d=\"M0 0h24v24H0V0z\" fill=\"none\"/>\n",
              "    <path d=\"M18.56 5.44l.94 2.06.94-2.06 2.06-.94-2.06-.94-.94-2.06-.94 2.06-2.06.94zm-11 1L8.5 8.5l.94-2.06 2.06-.94-2.06-.94L8.5 2.5l-.94 2.06-2.06.94zm10 10l.94 2.06.94-2.06 2.06-.94-2.06-.94-.94-2.06-.94 2.06-2.06.94z\"/><path d=\"M17.41 7.96l-1.37-1.37c-.4-.4-.92-.59-1.43-.59-.52 0-1.04.2-1.43.59L10.3 9.45l-7.72 7.72c-.78.78-.78 2.05 0 2.83L4 21.41c.39.39.9.59 1.41.59.51 0 1.02-.2 1.41-.59l7.78-7.78 2.81-2.81c.8-.78.8-2.07 0-2.86zM5.41 20L4 18.59l7.72-7.72 1.47 1.35L5.41 20z\"/>\n",
              "  </svg>\n",
              "      </button>\n",
              "      \n",
              "  <style>\n",
              "    .colab-df-container {\n",
              "      display:flex;\n",
              "      flex-wrap:wrap;\n",
              "      gap: 12px;\n",
              "    }\n",
              "\n",
              "    .colab-df-convert {\n",
              "      background-color: #E8F0FE;\n",
              "      border: none;\n",
              "      border-radius: 50%;\n",
              "      cursor: pointer;\n",
              "      display: none;\n",
              "      fill: #1967D2;\n",
              "      height: 32px;\n",
              "      padding: 0 0 0 0;\n",
              "      width: 32px;\n",
              "    }\n",
              "\n",
              "    .colab-df-convert:hover {\n",
              "      background-color: #E2EBFA;\n",
              "      box-shadow: 0px 1px 2px rgba(60, 64, 67, 0.3), 0px 1px 3px 1px rgba(60, 64, 67, 0.15);\n",
              "      fill: #174EA6;\n",
              "    }\n",
              "\n",
              "    [theme=dark] .colab-df-convert {\n",
              "      background-color: #3B4455;\n",
              "      fill: #D2E3FC;\n",
              "    }\n",
              "\n",
              "    [theme=dark] .colab-df-convert:hover {\n",
              "      background-color: #434B5C;\n",
              "      box-shadow: 0px 1px 3px 1px rgba(0, 0, 0, 0.15);\n",
              "      filter: drop-shadow(0px 1px 2px rgba(0, 0, 0, 0.3));\n",
              "      fill: #FFFFFF;\n",
              "    }\n",
              "  </style>\n",
              "\n",
              "      <script>\n",
              "        const buttonEl =\n",
              "          document.querySelector('#df-c6325ba4-794c-4b44-8943-a1e2fcc92c87 button.colab-df-convert');\n",
              "        buttonEl.style.display =\n",
              "          google.colab.kernel.accessAllowed ? 'block' : 'none';\n",
              "\n",
              "        async function convertToInteractive(key) {\n",
              "          const element = document.querySelector('#df-c6325ba4-794c-4b44-8943-a1e2fcc92c87');\n",
              "          const dataTable =\n",
              "            await google.colab.kernel.invokeFunction('convertToInteractive',\n",
              "                                                     [key], {});\n",
              "          if (!dataTable) return;\n",
              "\n",
              "          const docLinkHtml = 'Like what you see? Visit the ' +\n",
              "            '<a target=\"_blank\" href=https://colab.research.google.com/notebooks/data_table.ipynb>data table notebook</a>'\n",
              "            + ' to learn more about interactive tables.';\n",
              "          element.innerHTML = '';\n",
              "          dataTable['output_type'] = 'display_data';\n",
              "          await google.colab.output.renderOutput(dataTable, element);\n",
              "          const docLink = document.createElement('div');\n",
              "          docLink.innerHTML = docLinkHtml;\n",
              "          element.appendChild(docLink);\n",
              "        }\n",
              "      </script>\n",
              "    </div>\n",
              "  </div>\n",
              "  "
            ],
            "text/plain": [
              "                                                         Proposition  ...         Thématique\n",
              "recia1L6nICYg6LJ8                                               Zona  ...        Vaccination\n",
              "recVvIHdNWf80zvsG  À quelle moment de la journée vous prenez le m...  ...  Médecine générale\n",
              "recWp0rajm2qKcJuF                            Êtes vous vacciné (e) ?  ...  Médecine générale\n",
              "recBY5NXGM8UtBcaX                               Êtes-vous enceinte ?  ...  Médecine générale\n",
              "reczy8Os5Hc3qZ1yA                                              Œdème  ...  Médecine générale\n",
              "\n",
              "[5 rows x 8 columns]"
            ]
          },
          "metadata": {},
          "execution_count": 29
        }
      ]
    },
    {
      "cell_type": "code",
      "source": [
        "dict_records = df.tail().to_dict(orient=\"index\")"
      ],
      "metadata": {
        "id": "oyRHDXzvTHjA"
      },
      "execution_count": null,
      "outputs": []
    },
    {
      "cell_type": "code",
      "source": [
        "for record_id, upload_data in dict_records.items():\n",
        "  record_url = url + \"/\" + record_id\n",
        "  upload_dict = {\"records\" : [{\"fields\" : upload_data}]}\n",
        "  upload_json = json.dumps(upload_dict)\n",
        "  requests.post(url, data=upload_json, headers=headers)"
      ],
      "metadata": {
        "id": "5XBfgW3PUrdN"
      },
      "execution_count": null,
      "outputs": []
    },
    {
      "cell_type": "code",
      "source": [
        "headers"
      ],
      "metadata": {
        "colab": {
          "base_uri": "https://localhost:8080/"
        },
        "id": "mbWEXLZUcxSM",
        "outputId": "326a70ec-87e8-456c-c5ff-50757bd4f8cd"
      },
      "execution_count": null,
      "outputs": [
        {
          "output_type": "execute_result",
          "data": {
            "text/plain": [
              "{'Authorization': 'Bearer keyrI98TIqu6mbFcf',\n",
              " 'Content-Type': 'application/json'}"
            ]
          },
          "metadata": {},
          "execution_count": 55
        }
      ]
    },
    {
      "cell_type": "code",
      "source": [
        "requests.patch(url, data=upload_json, headers=headers)"
      ],
      "metadata": {
        "colab": {
          "base_uri": "https://localhost:8080/"
        },
        "id": "o8n3oC8sXz_q",
        "outputId": "59ca8181-c67e-413c-9303-4a95a1bb0cb3"
      },
      "execution_count": null,
      "outputs": [
        {
          "output_type": "execute_result",
          "data": {
            "text/plain": [
              "<Response [422]>"
            ]
          },
          "metadata": {},
          "execution_count": 67
        }
      ]
    },
    {
      "cell_type": "code",
      "source": [
        "upload_json='{\"records\": [{\"fields\": {\"Proposition\": \"OEDEME\", \"id\": \"reczy8Os5Hc3qZ1yA\"}}]}'"
      ],
      "metadata": {
        "id": "4z1Tka3Het97"
      },
      "execution_count": null,
      "outputs": []
    },
    {
      "cell_type": "code",
      "source": [
        "requests.post(record_url, data=upload_json, headers=headers)"
      ],
      "metadata": {
        "colab": {
          "base_uri": "https://localhost:8080/"
        },
        "id": "kz8cAEx3WRM6",
        "outputId": "d7947213-1e29-4af2-ed81-713ad4be7262"
      },
      "execution_count": null,
      "outputs": [
        {
          "output_type": "execute_result",
          "data": {
            "text/plain": [
              "<Response [404]>"
            ]
          },
          "metadata": {},
          "execution_count": 69
        }
      ]
    },
    {
      "cell_type": "code",
      "metadata": {
        "id": "ZDtjJZDO-REI"
      },
      "source": [
        "def fmt_table(wb, nom_onglet):\n",
        "  # onglet\n",
        "  ws = wb.worksheet(nom_onglet)\n",
        "\n",
        "  # Format de la partie gauche\n",
        "  fmt = cellFormat(\n",
        "      backgroundColor=color(0.91, 0.96, 0.93),\n",
        "      textFormat=textFormat(bold=False, foregroundColor=color(0,0,0), fontSize='10'),\n",
        "      horizontalAlignment='LEFT'\n",
        "      )\n",
        "  format_cell_range(ws, 'A:', fmt)\n",
        "\n",
        "  # format de l'entete\n",
        "  fmt = cellFormat(\n",
        "      backgroundColor=color(0.7725,0.8431,0.7922),\n",
        "      textFormat=textFormat(bold=True, foregroundColor=color(0,0,0), fontSize='10'),\n",
        "      horizontalAlignment='LEFT'\n",
        "      )\n",
        "  format_cell_range(ws, '1', fmt)\n",
        "  \n",
        "  # format de l'auto wrap\n",
        "  fmt = cellFormat(\n",
        "      wrapStrategy='WRAP'\n",
        "      )\n",
        "  format_cell_range(ws, 'B:C', fmt)\n",
        "\n",
        "  # on gèle l'entete et les colonnes de gauche\n",
        "  set_frozen(ws, rows=1, cols=1)\n",
        "  set_column_width(ws, 'A:C', 500)\n"
      ],
      "execution_count": null,
      "outputs": []
    },
    {
      "cell_type": "code",
      "metadata": {
        "id": "CsC901Jt9y3L"
      },
      "source": [
        "nom_onglet = 'Liste'\n",
        "# si l'onglet existe déjà\n",
        "try:\n",
        "  ws = wb.worksheet(nom_onglet)\n",
        "  wb.del_worksheet(ws)\n",
        "except:\n",
        "  print (\"Onglet inexistant !\")\n",
        "\n",
        "wb.add_worksheet(nom_onglet, 1, 1)\n",
        "export_sheet = wb.worksheet(nom_onglet)\n",
        "set_with_dataframe(export_sheet, df)\n",
        "fmt_table(wb,nom_onglet)\n"
      ],
      "execution_count": null,
      "outputs": []
    },
    {
      "cell_type": "code",
      "metadata": {
        "id": "UKh-k1rvN46E"
      },
      "source": [
        "table_name = 'Structure'\n",
        "url = \"https://api.airtable.com/v0/\" + base_id + \"/\" + table_name"
      ],
      "execution_count": null,
      "outputs": []
    },
    {
      "cell_type": "code",
      "metadata": {
        "id": "TEUOFK-KVDV5",
        "colab": {
          "base_uri": "https://localhost:8080/",
          "height": 297
        },
        "outputId": "78664522-8f30-4092-f0c9-622ba77be86c"
      },
      "source": [
        "df"
      ],
      "execution_count": null,
      "outputs": [
        {
          "output_type": "execute_result",
          "data": {
            "text/html": [
              "<div>\n",
              "<style scoped>\n",
              "    .dataframe tbody tr th:only-of-type {\n",
              "        vertical-align: middle;\n",
              "    }\n",
              "\n",
              "    .dataframe tbody tr th {\n",
              "        vertical-align: top;\n",
              "    }\n",
              "\n",
              "    .dataframe thead th {\n",
              "        text-align: right;\n",
              "    }\n",
              "</style>\n",
              "<table border=\"1\" class=\"dataframe\">\n",
              "  <thead>\n",
              "    <tr style=\"text-align: right;\">\n",
              "      <th></th>\n",
              "      <th>Name</th>\n",
              "      <th>Situation de départ</th>\n",
              "      <th>Notes</th>\n",
              "    </tr>\n",
              "  </thead>\n",
              "  <tbody>\n",
              "    <tr>\n",
              "      <th>recnI80hvydv71fs4</th>\n",
              "      <td>0.Conception</td>\n",
              "      <td>Plus on possède, plus on est soi-même possédé....</td>\n",
              "      <td>Trouver le plaisir d’écrire. Partir d’idées, d...</td>\n",
              "    </tr>\n",
              "    <tr>\n",
              "      <th>recI2pgkNq2iP52rm</th>\n",
              "      <td>1.Situation initiale</td>\n",
              "      <td>Un jour d'été où il pleut et fait un temps abo...</td>\n",
              "      <td>Une vengeance d'une femme éconduite lors d'un ...</td>\n",
              "    </tr>\n",
              "    <tr>\n",
              "      <th>recb2DqhB9GvfI12n</th>\n",
              "      <td>2.Personnage</td>\n",
              "      <td>Un homme (marié ?) qui a donné rendez-vous à u...</td>\n",
              "      <td>Un Dom Juan sûr de son charme et imbu de sa pe...</td>\n",
              "    </tr>\n",
              "    <tr>\n",
              "      <th>recNLdU01JpCnvknJ</th>\n",
              "      <td>3.Acte déclencheur</td>\n",
              "      <td>La femme lui propose un jeu. Elle est dans le ...</td>\n",
              "      <td>NaN</td>\n",
              "    </tr>\n",
              "    <tr>\n",
              "      <th>recRxZVhpSPD6oQXx</th>\n",
              "      <td>4.Réaction</td>\n",
              "      <td>L'homme est d'abord tenté de partir car il est...</td>\n",
              "      <td>NaN</td>\n",
              "    </tr>\n",
              "    <tr>\n",
              "      <th>recRr06fOM4hGGaLY</th>\n",
              "      <td>5.Péripéties</td>\n",
              "      <td>Pendant la visite (ennuyeuse), l'homme tente d...</td>\n",
              "      <td>NaN</td>\n",
              "    </tr>\n",
              "    <tr>\n",
              "      <th>recvWnAYn9VNySVlB</th>\n",
              "      <td>6.Chute</td>\n",
              "      <td>Un spectacle où une partie du public est appel...</td>\n",
              "      <td>NaN</td>\n",
              "    </tr>\n",
              "    <tr>\n",
              "      <th>recDmZtMMNmiy7R0M</th>\n",
              "      <td>Récit</td>\n",
              "      <td>NaN</td>\n",
              "      <td>NaN</td>\n",
              "    </tr>\n",
              "  </tbody>\n",
              "</table>\n",
              "</div>"
            ],
            "text/plain": [
              "                                   Name  ...                                              Notes\n",
              "recnI80hvydv71fs4          0.Conception  ...  Trouver le plaisir d’écrire. Partir d’idées, d...\n",
              "recI2pgkNq2iP52rm  1.Situation initiale  ...  Une vengeance d'une femme éconduite lors d'un ...\n",
              "recb2DqhB9GvfI12n          2.Personnage  ...  Un Dom Juan sûr de son charme et imbu de sa pe...\n",
              "recNLdU01JpCnvknJ    3.Acte déclencheur  ...                                                NaN\n",
              "recRxZVhpSPD6oQXx            4.Réaction  ...                                                NaN\n",
              "recRr06fOM4hGGaLY          5.Péripéties  ...                                                NaN\n",
              "recvWnAYn9VNySVlB               6.Chute  ...                                                NaN\n",
              "recDmZtMMNmiy7R0M                 Récit  ...                                                NaN\n",
              "\n",
              "[8 rows x 3 columns]"
            ]
          },
          "metadata": {},
          "execution_count": 11
        }
      ]
    },
    {
      "cell_type": "code",
      "metadata": {
        "id": "TISNw9MItvH6"
      },
      "source": [
        ""
      ],
      "execution_count": null,
      "outputs": []
    }
  ]
}