{
  "nbformat": 4,
  "nbformat_minor": 0,
  "metadata": {
    "colab": {
      "name": "corpus_sync_airtable.ipynb",
      "provenance": [],
      "collapsed_sections": [],
      "authorship_tag": "ABX9TyNWaYeU6cSyeoLp0ilkp8AN",
      "include_colab_link": true
    },
    "kernelspec": {
      "name": "python3",
      "display_name": "Python 3"
    },
    "language_info": {
      "name": "python"
    }
  },
  "cells": [
    {
      "cell_type": "markdown",
      "metadata": {
        "id": "view-in-github",
        "colab_type": "text"
      },
      "source": [
        "<a href=\"https://colab.research.google.com/github/gretiere545/corpus/blob/main/corpus_sync_airtable.ipynb\" target=\"_parent\"><img src=\"https://colab.research.google.com/assets/colab-badge.svg\" alt=\"Open In Colab\"/></a>"
      ]
    },
    {
      "cell_type": "markdown",
      "metadata": {
        "id": "FB29HktrvvBJ"
      },
      "source": [
        "# Corpus Airtable API"
      ]
    },
    {
      "cell_type": "code",
      "metadata": {
        "colab": {
          "base_uri": "https://localhost:8080/"
        },
        "id": "_5CoZ3ORv3Bh",
        "outputId": "53f76734-b350-45d8-9ba1-53f3f517595c"
      },
      "source": [
        "#!/usr/bin/env python\n",
        "# -*- coding: utf8 -*-\n",
        "!pip install gspread-formatting\n",
        "!pip install airtable-python-wrapper\n",
        "import pandas as pd\n",
        "import numpy as np\n",
        "import requests\n",
        "import json\n",
        "import uuid\n",
        "pd.set_option(\"display.width\",1000)\n",
        "# Ce bout de code pour pouvoir downloader des fichiers sur le drive\n",
        "from google.colab import drive\n",
        "drive.mount('/content/drive')\n",
        "%cd /content/drive/MyDrive/Trad-Union/Corpus/ASAMLA\n",
        "from google.colab import files\n",
        "\n",
        "# Ce bout de code pour pouvoir downloader des google sheets dans des dataframes\n",
        "from google.colab import auth\n",
        "auth.authenticate_user()\n",
        "import gspread\n",
        "from gspread_dataframe import get_as_dataframe, set_with_dataframe\n",
        "from gspread_formatting import *\n",
        "from oauth2client.client import GoogleCredentials\n",
        "gc = gspread.authorize(GoogleCredentials.get_application_default())\n",
        "from airtable import Airtable\n",
        "!export PYTHONIOENCODING=utf8\n"
      ],
      "execution_count": 1,
      "outputs": [
        {
          "output_type": "stream",
          "name": "stdout",
          "text": [
            "Collecting gspread-formatting\n",
            "  Downloading gspread_formatting-1.0.6-py2.py3-none-any.whl (21 kB)\n",
            "Requirement already satisfied: gspread>=3.0.0 in /usr/local/lib/python3.7/dist-packages (from gspread-formatting) (3.4.2)\n",
            "Requirement already satisfied: requests>=2.2.1 in /usr/local/lib/python3.7/dist-packages (from gspread>=3.0.0->gspread-formatting) (2.23.0)\n",
            "Requirement already satisfied: google-auth in /usr/local/lib/python3.7/dist-packages (from gspread>=3.0.0->gspread-formatting) (1.35.0)\n",
            "Requirement already satisfied: chardet<4,>=3.0.2 in /usr/local/lib/python3.7/dist-packages (from requests>=2.2.1->gspread>=3.0.0->gspread-formatting) (3.0.4)\n",
            "Requirement already satisfied: certifi>=2017.4.17 in /usr/local/lib/python3.7/dist-packages (from requests>=2.2.1->gspread>=3.0.0->gspread-formatting) (2021.10.8)\n",
            "Requirement already satisfied: urllib3!=1.25.0,!=1.25.1,<1.26,>=1.21.1 in /usr/local/lib/python3.7/dist-packages (from requests>=2.2.1->gspread>=3.0.0->gspread-formatting) (1.24.3)\n",
            "Requirement already satisfied: idna<3,>=2.5 in /usr/local/lib/python3.7/dist-packages (from requests>=2.2.1->gspread>=3.0.0->gspread-formatting) (2.10)\n",
            "Requirement already satisfied: six>=1.9.0 in /usr/local/lib/python3.7/dist-packages (from google-auth->gspread>=3.0.0->gspread-formatting) (1.15.0)\n",
            "Requirement already satisfied: rsa<5,>=3.1.4 in /usr/local/lib/python3.7/dist-packages (from google-auth->gspread>=3.0.0->gspread-formatting) (4.8)\n",
            "Requirement already satisfied: cachetools<5.0,>=2.0.0 in /usr/local/lib/python3.7/dist-packages (from google-auth->gspread>=3.0.0->gspread-formatting) (4.2.4)\n",
            "Requirement already satisfied: setuptools>=40.3.0 in /usr/local/lib/python3.7/dist-packages (from google-auth->gspread>=3.0.0->gspread-formatting) (57.4.0)\n",
            "Requirement already satisfied: pyasn1-modules>=0.2.1 in /usr/local/lib/python3.7/dist-packages (from google-auth->gspread>=3.0.0->gspread-formatting) (0.2.8)\n",
            "Requirement already satisfied: pyasn1<0.5.0,>=0.4.6 in /usr/local/lib/python3.7/dist-packages (from pyasn1-modules>=0.2.1->google-auth->gspread>=3.0.0->gspread-formatting) (0.4.8)\n",
            "Installing collected packages: gspread-formatting\n",
            "Successfully installed gspread-formatting-1.0.6\n",
            "Collecting airtable-python-wrapper\n",
            "  Downloading airtable_python_wrapper-0.15.3-py2.py3-none-any.whl (12 kB)\n",
            "Requirement already satisfied: requests>=2 in /usr/local/lib/python3.7/dist-packages (from airtable-python-wrapper) (2.23.0)\n",
            "Requirement already satisfied: idna<3,>=2.5 in /usr/local/lib/python3.7/dist-packages (from requests>=2->airtable-python-wrapper) (2.10)\n",
            "Requirement already satisfied: certifi>=2017.4.17 in /usr/local/lib/python3.7/dist-packages (from requests>=2->airtable-python-wrapper) (2021.10.8)\n",
            "Requirement already satisfied: urllib3!=1.25.0,!=1.25.1,<1.26,>=1.21.1 in /usr/local/lib/python3.7/dist-packages (from requests>=2->airtable-python-wrapper) (1.24.3)\n",
            "Requirement already satisfied: chardet<4,>=3.0.2 in /usr/local/lib/python3.7/dist-packages (from requests>=2->airtable-python-wrapper) (3.0.4)\n",
            "Installing collected packages: airtable-python-wrapper\n",
            "Successfully installed airtable-python-wrapper-0.15.3\n",
            "Mounted at /content/drive\n",
            "/content/drive/MyDrive/Trad-Union/Corpus/ASAMLA\n"
          ]
        }
      ]
    },
    {
      "cell_type": "markdown",
      "metadata": {
        "id": "OoQvIFW_zGec"
      },
      "source": [
        ""
      ]
    },
    {
      "cell_type": "code",
      "source": [
        "def get_cc_config(f):\n",
        "  vk = []\n",
        "  try:\n",
        "    with open(f) as vk_f:\n",
        "        vk = json.load(vk_f)\n",
        "  except BaseException as e:\n",
        "    print(e)\n",
        "  return vk\n",
        "\n",
        "def set_cc_config (vk, f):\n",
        "  # sauvegarde du fichier de paramétrage\n",
        "  with open(f, 'w') as fp:\n",
        "      json.dump(vk, fp)  "
      ],
      "metadata": {
        "id": "HkCiMByNk1Me"
      },
      "execution_count": 2,
      "outputs": []
    },
    {
      "cell_type": "code",
      "source": [
        "#\n",
        "# Ouverture de la Sheet Centrale (corpus_central_base)\n",
        "#\n",
        "def get_CCDB_wb(uri):\n",
        "  sheet_central = uri\n",
        "  wb_central = gc.open_by_url(sheet_central)\n",
        "  return wb_central\n",
        "\n",
        "def get_CCDB_data(wb, idx):\n",
        "  t_corpus = wb.get_worksheet(idx)\n",
        "  data_t_corpus = t_corpus.get_all_values()\n",
        "  return data_t_corpus\n",
        "\n",
        "#\n",
        "# DataFrame CC global (toutes les langues)\n",
        "#\n",
        "def get_ccdf_global(CCDB):\n",
        "  return pd.DataFrame(CCDB[1:], columns=CCDB[0])\n",
        "\n",
        "#\n",
        "# DataFrame CC Français (invariable)\n",
        "#\n",
        "def get_ccdf_fr(df_cc):\n",
        "  # on supprime les doublons\n",
        "  return df_cc[['uid','expression','theme','état','date','commentaires','index']]"
      ],
      "metadata": {
        "id": "QYUSE6Dek8OA"
      },
      "execution_count": 3,
      "outputs": []
    },
    {
      "cell_type": "code",
      "source": [
        "# Config Langues\n",
        "config_languages = 'med_vac_synthese.json'\n",
        "vk_languages = get_cc_config(config_languages)"
      ],
      "metadata": {
        "id": "4fUMcMSwlDPi"
      },
      "execution_count": 44,
      "outputs": []
    },
    {
      "cell_type": "code",
      "metadata": {
        "id": "ey1jQEaS54Qz"
      },
      "source": [
        "# Ouverture de la Sheet Centrale\n",
        "sheet = 'https://docs.google.com/spreadsheets/d/1j9mtvKJn0Ad3FqxoJXMSKLJOfYTDOhtw3wxXZ4sQAIc'\n",
        "wb  = gc.open_by_url(sheet)"
      ],
      "execution_count": 45,
      "outputs": []
    },
    {
      "cell_type": "code",
      "source": [
        "# Config Corpus (de consolidation)\n",
        "config_corpus_central = \"corpus_central_config.json\"\n",
        "vk_corpus_central = get_cc_config(config_corpus_central)"
      ],
      "metadata": {
        "id": "YJFHaa9clah-"
      },
      "execution_count": 46,
      "outputs": []
    },
    {
      "cell_type": "code",
      "source": [
        "# Base Centrale\n",
        "# on charge l'onglet 1 (français)\n",
        "db_cc_wb = get_CCDB_wb(vk_corpus_central[0][\"uri\"])\n",
        "db_cc = get_CCDB_data (db_cc_wb, 1)\n",
        "df_cc_global = get_ccdf_global(db_cc)\n",
        "df_cc_fr = get_ccdf_fr(df_cc_global).drop_duplicates()"
      ],
      "metadata": {
        "id": "8LBOpjVJleFb"
      },
      "execution_count": 47,
      "outputs": []
    },
    {
      "cell_type": "code",
      "source": [
        "df_cc_global"
      ],
      "metadata": {
        "id": "jBEU07HyTQnI",
        "colab": {
          "base_uri": "https://localhost:8080/",
          "height": 676
        },
        "outputId": "a9e38717-f2b4-44dc-88c0-ab990543c76c"
      },
      "execution_count": 48,
      "outputs": [
        {
          "output_type": "execute_result",
          "data": {
            "text/plain": [
              "          uid                                         expression date              theme état commentaires index                                    ams                                                eng                                tur  ...                                           arm                                        dar                                   pst                                        prs aze                                                esp amh all                                                pol som\n",
              "0    f397cda1                                             A jeun             Vaccination                       A                                   صائم                              With an empty stomach                         Aç karnına  ...                                   Սոված փորին                                      گرسنه                      په خالي معدې سره                                      گرسنه                                              En ayunas                                                   Na czczo    \n",
              "1    95c4a863  Accès fébrile concomitant chez un autre membre...             Vaccination                       A  نوبة حمى مزامنة عند فرد اخر من الأسرة  Concomitant febrile attack in an other family ...                                     ...  Ուղեկցող ջերմություն տան անդամներից մեկի մոտ  حمله تب دار در یکی دیگر از اعضای خانواده؟  د کورنۍ په بل غړي باندې د بخار برید؟  حمله تب دار در یکی دیگر از اعضای خانواده؟      Acceso febril concomitante en otro miembro de ...                                                               \n",
              "2    30579682                                           Accident             Vaccination                       A                                   حادث                                           Accident                               Kaza  ...                                          Վթար                                      تصادف                                 حادثه                                      تصادف                                              Accidente                                                    Wypadek    \n",
              "3    6f214e4c                                  Accident cérébral             Vaccination                       A                           سكتتة دماغية                                     Brain accident                     Beyin problemi  ...                                        Կաթված                                 تصادف مغزی                            د دماغ ټکر                                 تصادف مغزی                                     Accidente cerebral                                                               \n",
              "4    8b195cf4                                           Allergie             Vaccination                       A                                 حساسية                                            Allergy                             Alerji  ...                                       Ալերգիա                                     حساسیت                                 الرجی                                     حساسیت                                                Alergia                                                    Alergia    \n",
              "..        ...                                                ...  ...                ...  ...          ...   ...                                    ...                                                ...                                ...  ...                                           ...                                        ...                                   ...                                        ...  ..                                                ...  ..  ..                                                ...  ..\n",
              "254  c32f5fd9  Y a-t-il des maladies chroniques dans votre fa...       Médecine générale                       Y                                                                                            Ailenizde kronik hastalık varmı ?  ...                                                                                                                                                                                                                                           Czy w Twojej rodzinie są jakieś choroby przewl...    \n",
              "255  ebaf8e32                                            Médecin       Médecine générale                       M                                                                                                                               ...                                                                                                                                                                                                                                                                                      Lekarz    \n",
              "256  76ae390d                                  Médecine générale       Médecine générale                       M                                                                                                                               ...                                                                                                                                                                                                                                                                             Medycyna ogólna    \n",
              "257  ca2eb80a                                       Consultation       Médecine générale                       C                                                                                                                               ...                                                                                                                                                                                                                                                                                                \n",
              "258  de77211f           Quelle est le motif de la consultation ?       Médecine générale                       Q                                                                                                                               ...                                                                                                                                                                                                                                                                                                \n",
              "\n",
              "[259 rows x 27 columns]"
            ],
            "text/html": [
              "\n",
              "  <div id=\"df-7dbce086-7bca-425a-80d2-cf76c8425651\">\n",
              "    <div class=\"colab-df-container\">\n",
              "      <div>\n",
              "<style scoped>\n",
              "    .dataframe tbody tr th:only-of-type {\n",
              "        vertical-align: middle;\n",
              "    }\n",
              "\n",
              "    .dataframe tbody tr th {\n",
              "        vertical-align: top;\n",
              "    }\n",
              "\n",
              "    .dataframe thead th {\n",
              "        text-align: right;\n",
              "    }\n",
              "</style>\n",
              "<table border=\"1\" class=\"dataframe\">\n",
              "  <thead>\n",
              "    <tr style=\"text-align: right;\">\n",
              "      <th></th>\n",
              "      <th>uid</th>\n",
              "      <th>expression</th>\n",
              "      <th>date</th>\n",
              "      <th>theme</th>\n",
              "      <th>état</th>\n",
              "      <th>commentaires</th>\n",
              "      <th>index</th>\n",
              "      <th>ams</th>\n",
              "      <th>eng</th>\n",
              "      <th>tur</th>\n",
              "      <th>...</th>\n",
              "      <th>arm</th>\n",
              "      <th>dar</th>\n",
              "      <th>pst</th>\n",
              "      <th>prs</th>\n",
              "      <th>aze</th>\n",
              "      <th>esp</th>\n",
              "      <th>amh</th>\n",
              "      <th>all</th>\n",
              "      <th>pol</th>\n",
              "      <th>som</th>\n",
              "    </tr>\n",
              "  </thead>\n",
              "  <tbody>\n",
              "    <tr>\n",
              "      <th>0</th>\n",
              "      <td>f397cda1</td>\n",
              "      <td>A jeun</td>\n",
              "      <td></td>\n",
              "      <td>Vaccination</td>\n",
              "      <td></td>\n",
              "      <td></td>\n",
              "      <td>A</td>\n",
              "      <td>صائم</td>\n",
              "      <td>With an empty stomach</td>\n",
              "      <td>Aç karnına</td>\n",
              "      <td>...</td>\n",
              "      <td>Սոված փորին</td>\n",
              "      <td>گرسنه</td>\n",
              "      <td>په خالي معدې سره</td>\n",
              "      <td>گرسنه</td>\n",
              "      <td></td>\n",
              "      <td>En ayunas</td>\n",
              "      <td></td>\n",
              "      <td></td>\n",
              "      <td>Na czczo</td>\n",
              "      <td></td>\n",
              "    </tr>\n",
              "    <tr>\n",
              "      <th>1</th>\n",
              "      <td>95c4a863</td>\n",
              "      <td>Accès fébrile concomitant chez un autre membre...</td>\n",
              "      <td></td>\n",
              "      <td>Vaccination</td>\n",
              "      <td></td>\n",
              "      <td></td>\n",
              "      <td>A</td>\n",
              "      <td>نوبة حمى مزامنة عند فرد اخر من الأسرة</td>\n",
              "      <td>Concomitant febrile attack in an other family ...</td>\n",
              "      <td></td>\n",
              "      <td>...</td>\n",
              "      <td>Ուղեկցող ջերմություն տան անդամներից մեկի մոտ</td>\n",
              "      <td>حمله تب دار در یکی دیگر از اعضای خانواده؟</td>\n",
              "      <td>د کورنۍ په بل غړي باندې د بخار برید؟</td>\n",
              "      <td>حمله تب دار در یکی دیگر از اعضای خانواده؟</td>\n",
              "      <td></td>\n",
              "      <td>Acceso febril concomitante en otro miembro de ...</td>\n",
              "      <td></td>\n",
              "      <td></td>\n",
              "      <td></td>\n",
              "      <td></td>\n",
              "    </tr>\n",
              "    <tr>\n",
              "      <th>2</th>\n",
              "      <td>30579682</td>\n",
              "      <td>Accident</td>\n",
              "      <td></td>\n",
              "      <td>Vaccination</td>\n",
              "      <td></td>\n",
              "      <td></td>\n",
              "      <td>A</td>\n",
              "      <td>حادث</td>\n",
              "      <td>Accident</td>\n",
              "      <td>Kaza</td>\n",
              "      <td>...</td>\n",
              "      <td>Վթար</td>\n",
              "      <td>تصادف</td>\n",
              "      <td>حادثه</td>\n",
              "      <td>تصادف</td>\n",
              "      <td></td>\n",
              "      <td>Accidente</td>\n",
              "      <td></td>\n",
              "      <td></td>\n",
              "      <td>Wypadek</td>\n",
              "      <td></td>\n",
              "    </tr>\n",
              "    <tr>\n",
              "      <th>3</th>\n",
              "      <td>6f214e4c</td>\n",
              "      <td>Accident cérébral</td>\n",
              "      <td></td>\n",
              "      <td>Vaccination</td>\n",
              "      <td></td>\n",
              "      <td></td>\n",
              "      <td>A</td>\n",
              "      <td>سكتتة دماغية</td>\n",
              "      <td>Brain accident</td>\n",
              "      <td>Beyin problemi</td>\n",
              "      <td>...</td>\n",
              "      <td>Կաթված</td>\n",
              "      <td>تصادف مغزی</td>\n",
              "      <td>د دماغ ټکر</td>\n",
              "      <td>تصادف مغزی</td>\n",
              "      <td></td>\n",
              "      <td>Accidente cerebral</td>\n",
              "      <td></td>\n",
              "      <td></td>\n",
              "      <td></td>\n",
              "      <td></td>\n",
              "    </tr>\n",
              "    <tr>\n",
              "      <th>4</th>\n",
              "      <td>8b195cf4</td>\n",
              "      <td>Allergie</td>\n",
              "      <td></td>\n",
              "      <td>Vaccination</td>\n",
              "      <td></td>\n",
              "      <td></td>\n",
              "      <td>A</td>\n",
              "      <td>حساسية</td>\n",
              "      <td>Allergy</td>\n",
              "      <td>Alerji</td>\n",
              "      <td>...</td>\n",
              "      <td>Ալերգիա</td>\n",
              "      <td>حساسیت</td>\n",
              "      <td>الرجی</td>\n",
              "      <td>حساسیت</td>\n",
              "      <td></td>\n",
              "      <td>Alergia</td>\n",
              "      <td></td>\n",
              "      <td></td>\n",
              "      <td>Alergia</td>\n",
              "      <td></td>\n",
              "    </tr>\n",
              "    <tr>\n",
              "      <th>...</th>\n",
              "      <td>...</td>\n",
              "      <td>...</td>\n",
              "      <td>...</td>\n",
              "      <td>...</td>\n",
              "      <td>...</td>\n",
              "      <td>...</td>\n",
              "      <td>...</td>\n",
              "      <td>...</td>\n",
              "      <td>...</td>\n",
              "      <td>...</td>\n",
              "      <td>...</td>\n",
              "      <td>...</td>\n",
              "      <td>...</td>\n",
              "      <td>...</td>\n",
              "      <td>...</td>\n",
              "      <td>...</td>\n",
              "      <td>...</td>\n",
              "      <td>...</td>\n",
              "      <td>...</td>\n",
              "      <td>...</td>\n",
              "      <td>...</td>\n",
              "    </tr>\n",
              "    <tr>\n",
              "      <th>254</th>\n",
              "      <td>c32f5fd9</td>\n",
              "      <td>Y a-t-il des maladies chroniques dans votre fa...</td>\n",
              "      <td></td>\n",
              "      <td>Médecine générale</td>\n",
              "      <td></td>\n",
              "      <td></td>\n",
              "      <td>Y</td>\n",
              "      <td></td>\n",
              "      <td></td>\n",
              "      <td>Ailenizde kronik hastalık varmı ?</td>\n",
              "      <td>...</td>\n",
              "      <td></td>\n",
              "      <td></td>\n",
              "      <td></td>\n",
              "      <td></td>\n",
              "      <td></td>\n",
              "      <td></td>\n",
              "      <td></td>\n",
              "      <td></td>\n",
              "      <td>Czy w Twojej rodzinie są jakieś choroby przewl...</td>\n",
              "      <td></td>\n",
              "    </tr>\n",
              "    <tr>\n",
              "      <th>255</th>\n",
              "      <td>ebaf8e32</td>\n",
              "      <td>Médecin</td>\n",
              "      <td></td>\n",
              "      <td>Médecine générale</td>\n",
              "      <td></td>\n",
              "      <td></td>\n",
              "      <td>M</td>\n",
              "      <td></td>\n",
              "      <td></td>\n",
              "      <td></td>\n",
              "      <td>...</td>\n",
              "      <td></td>\n",
              "      <td></td>\n",
              "      <td></td>\n",
              "      <td></td>\n",
              "      <td></td>\n",
              "      <td></td>\n",
              "      <td></td>\n",
              "      <td></td>\n",
              "      <td>Lekarz</td>\n",
              "      <td></td>\n",
              "    </tr>\n",
              "    <tr>\n",
              "      <th>256</th>\n",
              "      <td>76ae390d</td>\n",
              "      <td>Médecine générale</td>\n",
              "      <td></td>\n",
              "      <td>Médecine générale</td>\n",
              "      <td></td>\n",
              "      <td></td>\n",
              "      <td>M</td>\n",
              "      <td></td>\n",
              "      <td></td>\n",
              "      <td></td>\n",
              "      <td>...</td>\n",
              "      <td></td>\n",
              "      <td></td>\n",
              "      <td></td>\n",
              "      <td></td>\n",
              "      <td></td>\n",
              "      <td></td>\n",
              "      <td></td>\n",
              "      <td></td>\n",
              "      <td>Medycyna ogólna</td>\n",
              "      <td></td>\n",
              "    </tr>\n",
              "    <tr>\n",
              "      <th>257</th>\n",
              "      <td>ca2eb80a</td>\n",
              "      <td>Consultation</td>\n",
              "      <td></td>\n",
              "      <td>Médecine générale</td>\n",
              "      <td></td>\n",
              "      <td></td>\n",
              "      <td>C</td>\n",
              "      <td></td>\n",
              "      <td></td>\n",
              "      <td></td>\n",
              "      <td>...</td>\n",
              "      <td></td>\n",
              "      <td></td>\n",
              "      <td></td>\n",
              "      <td></td>\n",
              "      <td></td>\n",
              "      <td></td>\n",
              "      <td></td>\n",
              "      <td></td>\n",
              "      <td></td>\n",
              "      <td></td>\n",
              "    </tr>\n",
              "    <tr>\n",
              "      <th>258</th>\n",
              "      <td>de77211f</td>\n",
              "      <td>Quelle est le motif de la consultation ?</td>\n",
              "      <td></td>\n",
              "      <td>Médecine générale</td>\n",
              "      <td></td>\n",
              "      <td></td>\n",
              "      <td>Q</td>\n",
              "      <td></td>\n",
              "      <td></td>\n",
              "      <td></td>\n",
              "      <td>...</td>\n",
              "      <td></td>\n",
              "      <td></td>\n",
              "      <td></td>\n",
              "      <td></td>\n",
              "      <td></td>\n",
              "      <td></td>\n",
              "      <td></td>\n",
              "      <td></td>\n",
              "      <td></td>\n",
              "      <td></td>\n",
              "    </tr>\n",
              "  </tbody>\n",
              "</table>\n",
              "<p>259 rows × 27 columns</p>\n",
              "</div>\n",
              "      <button class=\"colab-df-convert\" onclick=\"convertToInteractive('df-7dbce086-7bca-425a-80d2-cf76c8425651')\"\n",
              "              title=\"Convert this dataframe to an interactive table.\"\n",
              "              style=\"display:none;\">\n",
              "        \n",
              "  <svg xmlns=\"http://www.w3.org/2000/svg\" height=\"24px\"viewBox=\"0 0 24 24\"\n",
              "       width=\"24px\">\n",
              "    <path d=\"M0 0h24v24H0V0z\" fill=\"none\"/>\n",
              "    <path d=\"M18.56 5.44l.94 2.06.94-2.06 2.06-.94-2.06-.94-.94-2.06-.94 2.06-2.06.94zm-11 1L8.5 8.5l.94-2.06 2.06-.94-2.06-.94L8.5 2.5l-.94 2.06-2.06.94zm10 10l.94 2.06.94-2.06 2.06-.94-2.06-.94-.94-2.06-.94 2.06-2.06.94z\"/><path d=\"M17.41 7.96l-1.37-1.37c-.4-.4-.92-.59-1.43-.59-.52 0-1.04.2-1.43.59L10.3 9.45l-7.72 7.72c-.78.78-.78 2.05 0 2.83L4 21.41c.39.39.9.59 1.41.59.51 0 1.02-.2 1.41-.59l7.78-7.78 2.81-2.81c.8-.78.8-2.07 0-2.86zM5.41 20L4 18.59l7.72-7.72 1.47 1.35L5.41 20z\"/>\n",
              "  </svg>\n",
              "      </button>\n",
              "      \n",
              "  <style>\n",
              "    .colab-df-container {\n",
              "      display:flex;\n",
              "      flex-wrap:wrap;\n",
              "      gap: 12px;\n",
              "    }\n",
              "\n",
              "    .colab-df-convert {\n",
              "      background-color: #E8F0FE;\n",
              "      border: none;\n",
              "      border-radius: 50%;\n",
              "      cursor: pointer;\n",
              "      display: none;\n",
              "      fill: #1967D2;\n",
              "      height: 32px;\n",
              "      padding: 0 0 0 0;\n",
              "      width: 32px;\n",
              "    }\n",
              "\n",
              "    .colab-df-convert:hover {\n",
              "      background-color: #E2EBFA;\n",
              "      box-shadow: 0px 1px 2px rgba(60, 64, 67, 0.3), 0px 1px 3px 1px rgba(60, 64, 67, 0.15);\n",
              "      fill: #174EA6;\n",
              "    }\n",
              "\n",
              "    [theme=dark] .colab-df-convert {\n",
              "      background-color: #3B4455;\n",
              "      fill: #D2E3FC;\n",
              "    }\n",
              "\n",
              "    [theme=dark] .colab-df-convert:hover {\n",
              "      background-color: #434B5C;\n",
              "      box-shadow: 0px 1px 3px 1px rgba(0, 0, 0, 0.15);\n",
              "      filter: drop-shadow(0px 1px 2px rgba(0, 0, 0, 0.3));\n",
              "      fill: #FFFFFF;\n",
              "    }\n",
              "  </style>\n",
              "\n",
              "      <script>\n",
              "        const buttonEl =\n",
              "          document.querySelector('#df-7dbce086-7bca-425a-80d2-cf76c8425651 button.colab-df-convert');\n",
              "        buttonEl.style.display =\n",
              "          google.colab.kernel.accessAllowed ? 'block' : 'none';\n",
              "\n",
              "        async function convertToInteractive(key) {\n",
              "          const element = document.querySelector('#df-7dbce086-7bca-425a-80d2-cf76c8425651');\n",
              "          const dataTable =\n",
              "            await google.colab.kernel.invokeFunction('convertToInteractive',\n",
              "                                                     [key], {});\n",
              "          if (!dataTable) return;\n",
              "\n",
              "          const docLinkHtml = 'Like what you see? Visit the ' +\n",
              "            '<a target=\"_blank\" href=https://colab.research.google.com/notebooks/data_table.ipynb>data table notebook</a>'\n",
              "            + ' to learn more about interactive tables.';\n",
              "          element.innerHTML = '';\n",
              "          dataTable['output_type'] = 'display_data';\n",
              "          await google.colab.output.renderOutput(dataTable, element);\n",
              "          const docLink = document.createElement('div');\n",
              "          docLink.innerHTML = docLinkHtml;\n",
              "          element.appendChild(docLink);\n",
              "        }\n",
              "      </script>\n",
              "    </div>\n",
              "  </div>\n",
              "  "
            ]
          },
          "metadata": {},
          "execution_count": 48
        }
      ]
    },
    {
      "cell_type": "markdown",
      "metadata": {
        "id": "ZbXgJiWKBEwY"
      },
      "source": [
        "### Appel de l'API\n",
        "https://towardsdatascience.com/downloading-airtable-data-into-python-89e5c7107a24"
      ]
    },
    {
      "cell_type": "code",
      "metadata": {
        "id": "Mi4zCrC54xR-"
      },
      "source": [
        "params = ()\n",
        "api_key = \"keyrI98TIqu6mbFcf\" \n",
        "api_key_gmail = \"keysgpJWq3aWwqSZe\"\n",
        "headers = {\"Authorization\": \"Bearer \" + api_key,\"Content-Type\" : \"application/json\"}\n",
        "base_id = \"appawT3gg7cJhPYv0\" # Base Nouvelle HV\n",
        "table_name = 'Corpus'"
      ],
      "execution_count": 49,
      "outputs": []
    },
    {
      "cell_type": "code",
      "source": [
        "airtable = Airtable(base_id, table_name, api_key)"
      ],
      "metadata": {
        "id": "LAIlBGJtPK2H"
      },
      "execution_count": 50,
      "outputs": []
    },
    {
      "cell_type": "markdown",
      "source": [
        "```\n",
        "for page in airtable.get_iter(view='Grid view',sort='Proposition'):\n",
        "  for record in page:\n",
        "    value = record['fields']['Proposition']\n",
        "```\n",
        "\n"
      ],
      "metadata": {
        "id": "BRVoSlYoTdax"
      }
    },
    {
      "cell_type": "code",
      "source": [
        "vk_at = airtable.get_all(view='Admin',sort='Proposition')\n",
        "df_vkat = pd.DataFrame.from_records((r['fields'] for r in vk_at))"
      ],
      "metadata": {
        "id": "hcErKj3pQ2TE"
      },
      "execution_count": 51,
      "outputs": []
    },
    {
      "cell_type": "markdown",
      "source": [
        "## Synchronisation du serveur vers airtable"
      ],
      "metadata": {
        "id": "JuonwX1-7290"
      }
    },
    {
      "cell_type": "markdown",
      "source": [
        "### 1. Différence entre A et B (sur UID)"
      ],
      "metadata": {
        "id": "FtKv8Z8yDdNx"
      }
    },
    {
      "cell_type": "code",
      "source": [
        "df_not_in_airtable = df_cc_global[~df_cc_global[\"uid\"].isin(df_vkat[\"UID\"])].dropna()\n",
        "df_not_in_airtable"
      ],
      "metadata": {
        "colab": {
          "base_uri": "https://localhost:8080/",
          "height": 79
        },
        "id": "hLZ3yTp9GbRE",
        "outputId": "09a36259-8249-4439-a4cc-cc4a71e35c08"
      },
      "execution_count": 52,
      "outputs": [
        {
          "output_type": "execute_result",
          "data": {
            "text/plain": [
              "Empty DataFrame\n",
              "Columns: [uid, expression, date, theme, état, commentaires, index, ams, eng, tur, rus, ukr, rou, hun, tig, alb, geo, arm, dar, pst, prs, aze, esp, amh, all, pol, som]\n",
              "Index: []\n",
              "\n",
              "[0 rows x 27 columns]"
            ],
            "text/html": [
              "\n",
              "  <div id=\"df-d34b8f85-7561-4889-8061-1f77e3481f5d\">\n",
              "    <div class=\"colab-df-container\">\n",
              "      <div>\n",
              "<style scoped>\n",
              "    .dataframe tbody tr th:only-of-type {\n",
              "        vertical-align: middle;\n",
              "    }\n",
              "\n",
              "    .dataframe tbody tr th {\n",
              "        vertical-align: top;\n",
              "    }\n",
              "\n",
              "    .dataframe thead th {\n",
              "        text-align: right;\n",
              "    }\n",
              "</style>\n",
              "<table border=\"1\" class=\"dataframe\">\n",
              "  <thead>\n",
              "    <tr style=\"text-align: right;\">\n",
              "      <th></th>\n",
              "      <th>uid</th>\n",
              "      <th>expression</th>\n",
              "      <th>date</th>\n",
              "      <th>theme</th>\n",
              "      <th>état</th>\n",
              "      <th>commentaires</th>\n",
              "      <th>index</th>\n",
              "      <th>ams</th>\n",
              "      <th>eng</th>\n",
              "      <th>tur</th>\n",
              "      <th>...</th>\n",
              "      <th>arm</th>\n",
              "      <th>dar</th>\n",
              "      <th>pst</th>\n",
              "      <th>prs</th>\n",
              "      <th>aze</th>\n",
              "      <th>esp</th>\n",
              "      <th>amh</th>\n",
              "      <th>all</th>\n",
              "      <th>pol</th>\n",
              "      <th>som</th>\n",
              "    </tr>\n",
              "  </thead>\n",
              "  <tbody>\n",
              "  </tbody>\n",
              "</table>\n",
              "<p>0 rows × 27 columns</p>\n",
              "</div>\n",
              "      <button class=\"colab-df-convert\" onclick=\"convertToInteractive('df-d34b8f85-7561-4889-8061-1f77e3481f5d')\"\n",
              "              title=\"Convert this dataframe to an interactive table.\"\n",
              "              style=\"display:none;\">\n",
              "        \n",
              "  <svg xmlns=\"http://www.w3.org/2000/svg\" height=\"24px\"viewBox=\"0 0 24 24\"\n",
              "       width=\"24px\">\n",
              "    <path d=\"M0 0h24v24H0V0z\" fill=\"none\"/>\n",
              "    <path d=\"M18.56 5.44l.94 2.06.94-2.06 2.06-.94-2.06-.94-.94-2.06-.94 2.06-2.06.94zm-11 1L8.5 8.5l.94-2.06 2.06-.94-2.06-.94L8.5 2.5l-.94 2.06-2.06.94zm10 10l.94 2.06.94-2.06 2.06-.94-2.06-.94-.94-2.06-.94 2.06-2.06.94z\"/><path d=\"M17.41 7.96l-1.37-1.37c-.4-.4-.92-.59-1.43-.59-.52 0-1.04.2-1.43.59L10.3 9.45l-7.72 7.72c-.78.78-.78 2.05 0 2.83L4 21.41c.39.39.9.59 1.41.59.51 0 1.02-.2 1.41-.59l7.78-7.78 2.81-2.81c.8-.78.8-2.07 0-2.86zM5.41 20L4 18.59l7.72-7.72 1.47 1.35L5.41 20z\"/>\n",
              "  </svg>\n",
              "      </button>\n",
              "      \n",
              "  <style>\n",
              "    .colab-df-container {\n",
              "      display:flex;\n",
              "      flex-wrap:wrap;\n",
              "      gap: 12px;\n",
              "    }\n",
              "\n",
              "    .colab-df-convert {\n",
              "      background-color: #E8F0FE;\n",
              "      border: none;\n",
              "      border-radius: 50%;\n",
              "      cursor: pointer;\n",
              "      display: none;\n",
              "      fill: #1967D2;\n",
              "      height: 32px;\n",
              "      padding: 0 0 0 0;\n",
              "      width: 32px;\n",
              "    }\n",
              "\n",
              "    .colab-df-convert:hover {\n",
              "      background-color: #E2EBFA;\n",
              "      box-shadow: 0px 1px 2px rgba(60, 64, 67, 0.3), 0px 1px 3px 1px rgba(60, 64, 67, 0.15);\n",
              "      fill: #174EA6;\n",
              "    }\n",
              "\n",
              "    [theme=dark] .colab-df-convert {\n",
              "      background-color: #3B4455;\n",
              "      fill: #D2E3FC;\n",
              "    }\n",
              "\n",
              "    [theme=dark] .colab-df-convert:hover {\n",
              "      background-color: #434B5C;\n",
              "      box-shadow: 0px 1px 3px 1px rgba(0, 0, 0, 0.15);\n",
              "      filter: drop-shadow(0px 1px 2px rgba(0, 0, 0, 0.3));\n",
              "      fill: #FFFFFF;\n",
              "    }\n",
              "  </style>\n",
              "\n",
              "      <script>\n",
              "        const buttonEl =\n",
              "          document.querySelector('#df-d34b8f85-7561-4889-8061-1f77e3481f5d button.colab-df-convert');\n",
              "        buttonEl.style.display =\n",
              "          google.colab.kernel.accessAllowed ? 'block' : 'none';\n",
              "\n",
              "        async function convertToInteractive(key) {\n",
              "          const element = document.querySelector('#df-d34b8f85-7561-4889-8061-1f77e3481f5d');\n",
              "          const dataTable =\n",
              "            await google.colab.kernel.invokeFunction('convertToInteractive',\n",
              "                                                     [key], {});\n",
              "          if (!dataTable) return;\n",
              "\n",
              "          const docLinkHtml = 'Like what you see? Visit the ' +\n",
              "            '<a target=\"_blank\" href=https://colab.research.google.com/notebooks/data_table.ipynb>data table notebook</a>'\n",
              "            + ' to learn more about interactive tables.';\n",
              "          element.innerHTML = '';\n",
              "          dataTable['output_type'] = 'display_data';\n",
              "          await google.colab.output.renderOutput(dataTable, element);\n",
              "          const docLink = document.createElement('div');\n",
              "          docLink.innerHTML = docLinkHtml;\n",
              "          element.appendChild(docLink);\n",
              "        }\n",
              "      </script>\n",
              "    </div>\n",
              "  </div>\n",
              "  "
            ]
          },
          "metadata": {},
          "execution_count": 52
        }
      ]
    },
    {
      "cell_type": "markdown",
      "source": [
        "### On met à jour les traductions de A présents dans B\n",
        "\n",
        "> Bloc en retrait\n",
        "\n"
      ],
      "metadata": {
        "id": "doXm-89FZ-TF"
      }
    },
    {
      "cell_type": "code",
      "source": [
        "for index, row in df_cc_global.iterrows():\n",
        "  if row[\"uid\"] is not None:\n",
        "    record = airtable.match('UID', row[\"uid\"])\n",
        "    if bool(record):\n",
        "      aDict = {}\n",
        "      key = \"UID\"\n",
        "      aDict[key] = row[\"uid\"]\n",
        "      for i in vk_languages:\n",
        "        key = i[\"trigramme\"]\n",
        "        aDict[key] = row[key]\n",
        "      airtable.update(record['id'], aDict)\n",
        "      #print (record['id'] +\" \" + row[\"eng\"])\n",
        "      print (record['id'] +\" \" + row[\"uid\"] +\" \" + row[\"tur\"])"
      ],
      "metadata": {
        "id": "aDXoT-QGaV6I"
      },
      "execution_count": null,
      "outputs": []
    },
    {
      "cell_type": "markdown",
      "source": [
        "### On ajoute les éléments de A absents dans B"
      ],
      "metadata": {
        "id": "_CMTnwYKjntP"
      }
    },
    {
      "cell_type": "code",
      "source": [
        "for index, row in df_not_in_airtable.iterrows():\n",
        "  if row[\"uid\"] is not None:\n",
        "    record = airtable.match('UID', row[\"uid\"])\n",
        "    if bool(record) is False:\n",
        "      aDict = {}\n",
        "      key = \"UID\"\n",
        "      aDict[key] = row[\"uid\"]\n",
        "      aDict[\"Proposition\"] = row[\"expression\"]\n",
        "      aDict[\"idx\"] = row[\"index\"]\n",
        "      for i in vk_languages:\n",
        "        key = i[\"trigramme\"]\n",
        "        aDict[key] = row[key]\n",
        "      airtable.insert(aDict)\n",
        "      print (row[\"uid\"] +\" \" + row[\"tur\"])"
      ],
      "metadata": {
        "id": "YUceP1Kahxy-"
      },
      "execution_count": 14,
      "outputs": []
    },
    {
      "cell_type": "markdown",
      "source": [
        "### On récupère les éléments de B absents de A"
      ],
      "metadata": {
        "id": "ppdsQTTXjuBF"
      }
    },
    {
      "cell_type": "code",
      "source": [
        "df_not_in_gsheet = df_vkat[~df_vkat[\"UID\"].isin(df_cc_global[\"uid\"])]\n",
        "#df_not_in_gsheet.loc[:,\"Tildation\"] = df_not_in_gsheet[\"Proposition\"]\n",
        "#df_not_in_gsheet[\"Proposition\"] = df_not_in_gsheet[[\"Proposition\",\"Maitre\"]].apply(lambda x:f_tilde(x[0].strip(),x[1].strip()), axis=1)\n",
        "df_not_in_gsheet[[\"Proposition\",\"Tildation\",\"Maitre\"]]"
      ],
      "metadata": {
        "id": "zXKLHbsPI4Ju"
      },
      "execution_count": null,
      "outputs": []
    },
    {
      "cell_type": "code",
      "source": [
        "len(df_not_in_gsheet)"
      ],
      "metadata": {
        "colab": {
          "base_uri": "https://localhost:8080/"
        },
        "id": "H79urZPdbHEt",
        "outputId": "74bd622b-c904-4c34-c68f-a703102e574c"
      },
      "execution_count": 54,
      "outputs": [
        {
          "output_type": "execute_result",
          "data": {
            "text/plain": [
              "56"
            ]
          },
          "metadata": {},
          "execution_count": 54
        }
      ]
    },
    {
      "cell_type": "code",
      "source": [
        "def f_tilde (x1, x2):\n",
        "  if \"~\" in x1:\n",
        "    x1 = re.sub(r'~', x2, x1)\n",
        "  return x1"
      ],
      "metadata": {
        "id": "K576p7YKX0eF"
      },
      "execution_count": 55,
      "outputs": []
    },
    {
      "cell_type": "markdown",
      "source": [
        "## Mise en forme et ajustements dans Airtable"
      ],
      "metadata": {
        "id": "DSZzmwN_wRrM"
      }
    },
    {
      "cell_type": "code",
      "source": [
        "vk_at = airtable.get_all(view='Admin',sort='Proposition')\n",
        "df_vkat = pd.DataFrame.from_records((r['fields'] for r in vk_at))"
      ],
      "metadata": {
        "id": "peasr-wWw8cu"
      },
      "execution_count": 56,
      "outputs": []
    },
    {
      "cell_type": "code",
      "source": [
        "def make_unique_id():\n",
        "  return str(uuid.uuid4())[:8]"
      ],
      "metadata": {
        "id": "sfN2zOKd0DPr"
      },
      "execution_count": 57,
      "outputs": []
    },
    {
      "cell_type": "markdown",
      "source": [
        "### Update des UIDS manquants"
      ],
      "metadata": {
        "id": "4Yfjzn3NR4cb"
      }
    },
    {
      "cell_type": "code",
      "source": [
        "vk_uid = df_vkat['UID'].tolist()\n",
        "for page in airtable.get_iter(view='Admin',sort='Proposition'):\n",
        "  for record in page:\n",
        "    try:\n",
        "      value = record['fields']['UID']\n",
        "      print(value)\n",
        "    except KeyError:\n",
        "      print (\"mssing uid\")\n",
        "      while True:\n",
        "        auid = make_unique_id()\n",
        "        if auid not in vk_uid:\n",
        "          aDict = {}\n",
        "          aDict[\"UID\"] = auid\n",
        "          print (record['id'] + \" \" + aDict[\"UID\"])\n",
        "          airtable.update(record['id'], aDict)\n",
        "          vk_uid.append(auid) \n",
        "          break     \n",
        "\n",
        "vk_at = airtable.get_all(view='Admin',sort='Proposition')\n",
        "df_vkat = pd.DataFrame.from_records((r['fields'] for r in vk_at))      "
      ],
      "metadata": {
        "id": "H6cZU6MWV_jB"
      },
      "execution_count": null,
      "outputs": []
    },
    {
      "cell_type": "code",
      "source": [
        "df_tilde = df_vkat.copy()\n",
        "df_tilde.loc[:,\"Tildation\"] = df_tilde[\"Proposition\"]\n",
        "df_tilde[\"Proposition\"] = df_tilde[[\"Proposition\",\"Maitre\"]].apply(lambda x:f_tilde(x[0].strip(),x[1].strip()), axis=1)\n",
        "df_tilde[[\"UID\",\"Proposition\",\"Tildation\",\"Maitre\"]]"
      ],
      "metadata": {
        "colab": {
          "base_uri": "https://localhost:8080/",
          "height": 424
        },
        "id": "ayfHUO-Wg8fq",
        "outputId": "a3a06b3c-d210-4b23-dc5c-a2d556f767fb"
      },
      "execution_count": 59,
      "outputs": [
        {
          "output_type": "execute_result",
          "data": {
            "text/plain": [
              "          UID                                        Proposition                                          Tildation      Maitre\n",
              "0    c6501ea6                                  Maladie chronique                                        ~ chronique     Maladie\n",
              "1    51457d4d                                 Examen de l'enfant                                      ~ de l'enfant      Examen\n",
              "2    436f35d5                                   Reflux gastrique                                        ~ gastrique      Reflux\n",
              "3    f9bc13ef  À quel moment de la journée vous prenez le Méd...  À quel moment de la journée vous prenez le Méd...  Médicament\n",
              "4    6e65dde7                                              Abcès                                              Abcès       Abcès\n",
              "..        ...                                                ...                                                ...         ...\n",
              "328  d112f379                        Votre poids est-il stable ?                        Votre poids est-il stable ?       Poids\n",
              "329  2344ba84  Vous avez accouché par césarienne ou voie basse ?  Vous avez accouché par césarienne ou voie basse ?   Accoucher\n",
              "330  36e66161            Y a-t-il des cas contagieux à l'école ?            Y a-t-il des cas contagieux à l'école ?  Contagieux\n",
              "331  c32f5fd9  Y a-t-il des maladies Chroniques dans votre fa...  Y a-t-il des maladies Chroniques dans votre fa...   Chronique\n",
              "332  d3dba8e4                                               Zona                                               Zona        Zona\n",
              "\n",
              "[333 rows x 4 columns]"
            ],
            "text/html": [
              "\n",
              "  <div id=\"df-4e8d030a-42cf-4469-be17-9d4392196baf\">\n",
              "    <div class=\"colab-df-container\">\n",
              "      <div>\n",
              "<style scoped>\n",
              "    .dataframe tbody tr th:only-of-type {\n",
              "        vertical-align: middle;\n",
              "    }\n",
              "\n",
              "    .dataframe tbody tr th {\n",
              "        vertical-align: top;\n",
              "    }\n",
              "\n",
              "    .dataframe thead th {\n",
              "        text-align: right;\n",
              "    }\n",
              "</style>\n",
              "<table border=\"1\" class=\"dataframe\">\n",
              "  <thead>\n",
              "    <tr style=\"text-align: right;\">\n",
              "      <th></th>\n",
              "      <th>UID</th>\n",
              "      <th>Proposition</th>\n",
              "      <th>Tildation</th>\n",
              "      <th>Maitre</th>\n",
              "    </tr>\n",
              "  </thead>\n",
              "  <tbody>\n",
              "    <tr>\n",
              "      <th>0</th>\n",
              "      <td>c6501ea6</td>\n",
              "      <td>Maladie chronique</td>\n",
              "      <td>~ chronique</td>\n",
              "      <td>Maladie</td>\n",
              "    </tr>\n",
              "    <tr>\n",
              "      <th>1</th>\n",
              "      <td>51457d4d</td>\n",
              "      <td>Examen de l'enfant</td>\n",
              "      <td>~ de l'enfant</td>\n",
              "      <td>Examen</td>\n",
              "    </tr>\n",
              "    <tr>\n",
              "      <th>2</th>\n",
              "      <td>436f35d5</td>\n",
              "      <td>Reflux gastrique</td>\n",
              "      <td>~ gastrique</td>\n",
              "      <td>Reflux</td>\n",
              "    </tr>\n",
              "    <tr>\n",
              "      <th>3</th>\n",
              "      <td>f9bc13ef</td>\n",
              "      <td>À quel moment de la journée vous prenez le Méd...</td>\n",
              "      <td>À quel moment de la journée vous prenez le Méd...</td>\n",
              "      <td>Médicament</td>\n",
              "    </tr>\n",
              "    <tr>\n",
              "      <th>4</th>\n",
              "      <td>6e65dde7</td>\n",
              "      <td>Abcès</td>\n",
              "      <td>Abcès</td>\n",
              "      <td>Abcès</td>\n",
              "    </tr>\n",
              "    <tr>\n",
              "      <th>...</th>\n",
              "      <td>...</td>\n",
              "      <td>...</td>\n",
              "      <td>...</td>\n",
              "      <td>...</td>\n",
              "    </tr>\n",
              "    <tr>\n",
              "      <th>328</th>\n",
              "      <td>d112f379</td>\n",
              "      <td>Votre poids est-il stable ?</td>\n",
              "      <td>Votre poids est-il stable ?</td>\n",
              "      <td>Poids</td>\n",
              "    </tr>\n",
              "    <tr>\n",
              "      <th>329</th>\n",
              "      <td>2344ba84</td>\n",
              "      <td>Vous avez accouché par césarienne ou voie basse ?</td>\n",
              "      <td>Vous avez accouché par césarienne ou voie basse ?</td>\n",
              "      <td>Accoucher</td>\n",
              "    </tr>\n",
              "    <tr>\n",
              "      <th>330</th>\n",
              "      <td>36e66161</td>\n",
              "      <td>Y a-t-il des cas contagieux à l'école ?</td>\n",
              "      <td>Y a-t-il des cas contagieux à l'école ?</td>\n",
              "      <td>Contagieux</td>\n",
              "    </tr>\n",
              "    <tr>\n",
              "      <th>331</th>\n",
              "      <td>c32f5fd9</td>\n",
              "      <td>Y a-t-il des maladies Chroniques dans votre fa...</td>\n",
              "      <td>Y a-t-il des maladies Chroniques dans votre fa...</td>\n",
              "      <td>Chronique</td>\n",
              "    </tr>\n",
              "    <tr>\n",
              "      <th>332</th>\n",
              "      <td>d3dba8e4</td>\n",
              "      <td>Zona</td>\n",
              "      <td>Zona</td>\n",
              "      <td>Zona</td>\n",
              "    </tr>\n",
              "  </tbody>\n",
              "</table>\n",
              "<p>333 rows × 4 columns</p>\n",
              "</div>\n",
              "      <button class=\"colab-df-convert\" onclick=\"convertToInteractive('df-4e8d030a-42cf-4469-be17-9d4392196baf')\"\n",
              "              title=\"Convert this dataframe to an interactive table.\"\n",
              "              style=\"display:none;\">\n",
              "        \n",
              "  <svg xmlns=\"http://www.w3.org/2000/svg\" height=\"24px\"viewBox=\"0 0 24 24\"\n",
              "       width=\"24px\">\n",
              "    <path d=\"M0 0h24v24H0V0z\" fill=\"none\"/>\n",
              "    <path d=\"M18.56 5.44l.94 2.06.94-2.06 2.06-.94-2.06-.94-.94-2.06-.94 2.06-2.06.94zm-11 1L8.5 8.5l.94-2.06 2.06-.94-2.06-.94L8.5 2.5l-.94 2.06-2.06.94zm10 10l.94 2.06.94-2.06 2.06-.94-2.06-.94-.94-2.06-.94 2.06-2.06.94z\"/><path d=\"M17.41 7.96l-1.37-1.37c-.4-.4-.92-.59-1.43-.59-.52 0-1.04.2-1.43.59L10.3 9.45l-7.72 7.72c-.78.78-.78 2.05 0 2.83L4 21.41c.39.39.9.59 1.41.59.51 0 1.02-.2 1.41-.59l7.78-7.78 2.81-2.81c.8-.78.8-2.07 0-2.86zM5.41 20L4 18.59l7.72-7.72 1.47 1.35L5.41 20z\"/>\n",
              "  </svg>\n",
              "      </button>\n",
              "      \n",
              "  <style>\n",
              "    .colab-df-container {\n",
              "      display:flex;\n",
              "      flex-wrap:wrap;\n",
              "      gap: 12px;\n",
              "    }\n",
              "\n",
              "    .colab-df-convert {\n",
              "      background-color: #E8F0FE;\n",
              "      border: none;\n",
              "      border-radius: 50%;\n",
              "      cursor: pointer;\n",
              "      display: none;\n",
              "      fill: #1967D2;\n",
              "      height: 32px;\n",
              "      padding: 0 0 0 0;\n",
              "      width: 32px;\n",
              "    }\n",
              "\n",
              "    .colab-df-convert:hover {\n",
              "      background-color: #E2EBFA;\n",
              "      box-shadow: 0px 1px 2px rgba(60, 64, 67, 0.3), 0px 1px 3px 1px rgba(60, 64, 67, 0.15);\n",
              "      fill: #174EA6;\n",
              "    }\n",
              "\n",
              "    [theme=dark] .colab-df-convert {\n",
              "      background-color: #3B4455;\n",
              "      fill: #D2E3FC;\n",
              "    }\n",
              "\n",
              "    [theme=dark] .colab-df-convert:hover {\n",
              "      background-color: #434B5C;\n",
              "      box-shadow: 0px 1px 3px 1px rgba(0, 0, 0, 0.15);\n",
              "      filter: drop-shadow(0px 1px 2px rgba(0, 0, 0, 0.3));\n",
              "      fill: #FFFFFF;\n",
              "    }\n",
              "  </style>\n",
              "\n",
              "      <script>\n",
              "        const buttonEl =\n",
              "          document.querySelector('#df-4e8d030a-42cf-4469-be17-9d4392196baf button.colab-df-convert');\n",
              "        buttonEl.style.display =\n",
              "          google.colab.kernel.accessAllowed ? 'block' : 'none';\n",
              "\n",
              "        async function convertToInteractive(key) {\n",
              "          const element = document.querySelector('#df-4e8d030a-42cf-4469-be17-9d4392196baf');\n",
              "          const dataTable =\n",
              "            await google.colab.kernel.invokeFunction('convertToInteractive',\n",
              "                                                     [key], {});\n",
              "          if (!dataTable) return;\n",
              "\n",
              "          const docLinkHtml = 'Like what you see? Visit the ' +\n",
              "            '<a target=\"_blank\" href=https://colab.research.google.com/notebooks/data_table.ipynb>data table notebook</a>'\n",
              "            + ' to learn more about interactive tables.';\n",
              "          element.innerHTML = '';\n",
              "          dataTable['output_type'] = 'display_data';\n",
              "          await google.colab.output.renderOutput(dataTable, element);\n",
              "          const docLink = document.createElement('div');\n",
              "          docLink.innerHTML = docLinkHtml;\n",
              "          element.appendChild(docLink);\n",
              "        }\n",
              "      </script>\n",
              "    </div>\n",
              "  </div>\n",
              "  "
            ]
          },
          "metadata": {},
          "execution_count": 59
        }
      ]
    },
    {
      "cell_type": "code",
      "source": [
        "df_tilde[[\"UID\",\"Proposition\",\"Tildation\",\"Maitre\"]].head(20)"
      ],
      "metadata": {
        "id": "yidlzB3WcA5i"
      },
      "execution_count": null,
      "outputs": []
    },
    {
      "cell_type": "markdown",
      "source": [
        "### Mise à jour des tildations"
      ],
      "metadata": {
        "id": "dkLDnNZcYpK2"
      }
    },
    {
      "cell_type": "code",
      "source": [
        "vk_uid = df_vkat['UID'].tolist()\n",
        "for index, row in df_tilde.iterrows():\n",
        "  if pd.isna(row[\"UID\"]):\n",
        "    # do so\n",
        "    print (\"Missing UID\")\n",
        "  else:\n",
        "    record = airtable.match('UID', row[\"UID\"])\n",
        "    if bool(record) is True:\n",
        "      aDict = {}\n",
        "      aDict[\"UID\"] = row[\"UID\"]\n",
        "      aDict[\"Proposition\"] = row[\"Proposition\"]\n",
        "      aDict[\"Tildation\"] = row[\"Tildation\"]\n",
        "      airtable.update(record['id'], aDict)\n",
        "      print (record['id'] +\" \" + row[\"UID\"] +\" \" + row[\"Proposition\"] +\" \" + row[\"Tildation\"])"
      ],
      "metadata": {
        "colab": {
          "base_uri": "https://localhost:8080/"
        },
        "id": "rpne4J_1wZNQ",
        "outputId": "1d27568a-07b1-40d6-a9d8-7963941cfbfc"
      },
      "execution_count": 61,
      "outputs": [
        {
          "output_type": "stream",
          "name": "stdout",
          "text": [
            "rec3qNg19Ky7xPquj c6501ea6 Maladie chronique ~ chronique\n",
            "rec2BxPWaCAdsqH5q 51457d4d Examen de l'enfant ~ de l'enfant\n",
            "recCmLFLuFBgLXdbx 436f35d5 Reflux gastrique ~ gastrique\n",
            "recVvIHdNWf80zvsG f9bc13ef À quel moment de la journée vous prenez le Médicament? À quel moment de la journée vous prenez le Médicament?\n",
            "rec0HgtD22F7TWM3W 6e65dde7 Abcès Abcès\n",
            "recFcGpw548CQNBdy 95c4a863 Accès Fébrile concomitant chez un autre membre de la famille Accès Fébrile concomitant chez un autre membre de la famille\n",
            "recGaRQGjV5qN3QBN 30579682 Accident Accident\n",
            "rec3MxDq67MC982ng 6f214e4c Accident cérébral Accident cérébral\n",
            "recq40lKLdtEgzhfZ b67d8739 Accouchement Accouchement\n",
            "recgMbta0W6x4PIW3 d1746bc6 Accoucher Accoucher\n",
            "recfY4uKkgK8Jp8GO 8b195cf4 Allergie Allergie\n",
            "recHNzXfvWWm0Lwp8 316fa7ab Allergie à un médicament Allergie à un médicament\n",
            "recSKSrXVLhDfMq6w f754eebf Allergie alimentaire Allergie alimentaire\n",
            "rectthHdPchXi1zr9 7256c169 Allergie médicamenteuse Allergie médicamenteuse\n",
            "rec1qTnfWxjhx6SBl f49563a9 AME - Aide médicale d'État AME - Aide médicale d'État\n",
            "recJHmmi4Eap6lUsn 24dc8f29 Analgésique Analgésique\n",
            "recSXVCkxV5y7xyAk 1178fb77 Analyse des Urines Analyse des Urines\n",
            "rec5OjJ2URpHc5AOQ a2668f5a Anesthésie Anesthésie\n",
            "rec5OjJ2URpHc5AOQ a2668f5a Anesthésie Anesthésie\n",
            "recxR1UvVUAqBrcuV ef2f771b Anesthésie générale Anesthésie générale\n",
            "recuZu8y0UhawNIFA 6fa427fc Angine Angine\n",
            "reccvrUrXdeQgVAnC 4acd12be Antécédents Antécédents\n",
            "recWQTiR1ZNBgxThh 5076e0e9 Anti-inflammatoire Anti-inflammatoire\n",
            "recv7fCu6h8WVNOlm 89fe9a09 Antibiotique(s) Antibiotique(s)\n",
            "recIfDajNy0SUWfkl f40f8236 Antipyrétique Antipyrétique\n",
            "recncRZTM7NhuIkvq 8e7e564d Appareil Digestif Appareil Digestif\n",
            "recm1Mms1AVPNPMjT dd4e9883 Assurance Assurance\n",
            "rec4rzSmXDmbegjRA d78d30c7 Asymptomatique Asymptomatique\n",
            "recDMWpb873aFzo7i e29221f0 Avec qui habitez-vous ? Avec qui habitez-vous ?\n",
            "recO1c5QUD9Mr8blB 6e46b0ba Avez-vous d’autres symptômes ? Avez-vous d’autres symptômes ?\n",
            "recsRiPxYQHWzQ55y 35132c90 Avez-vous de la Fièvre ? Avez-vous de la Fièvre ?\n",
            "rec0i3YlYiaLpHr9O 68aabcda Avez-vous de la Sueur ? Avez-vous de la Sueur ?\n",
            "reckZlBAzDSte2Aql afb5219d Avez-vous déjà été transfusé(e) ? Avez-vous déjà été transfusé(e) ?\n",
            "recWSHfnGI5V5BAxh 2f9ddd11 Avez-vous déjà été vacciné(e) ? Avez-vous déjà été vacciné(e) ?\n",
            "reczaubMtqEVNLdn3 e391fbcf Avez-vous déjà subi une Opération ? Avez-vous déjà subi une Opération ?\n",
            "recTd4qEGIoJ2GtvV fff52418 Avez-vous des Allergies aux médicaments ? Avez-vous des Allergies aux médicaments ?\n",
            "recMenxhf0pi6hyRb d77889d8 Avez-vous des antécédents dans la famille ? Avez-vous des antécédents dans la famille ?\n",
            "recorWlTsUMCkvTlW fce72096 Avez-vous des Enfants ? Avez-vous des Enfants ?\n",
            "recHwCLN3oKDxvBO7 6830489f Avez-vous des Questions ? Avez-vous des Questions ?\n",
            "recnqdrKG0fTXth8f a5fdabd4 Avez-vous été hospitalisé (e) ? Avez-vous été hospitalisé (e) ?\n",
            "recfya5EBlE53pecz 1163ecaf Avez-vous été scolarisé ? Jusqu’à quelle classe ? Avez-vous été scolarisé ? Jusqu’à quelle classe ?\n",
            "recEqQcPORgGjbiiM 62526ae3 Avez-vous eu une Maladie de longue durée ? Avez-vous eu une Maladie de longue durée ?\n",
            "rec96fyF25JOuvNMn 0195ba89 Avez-vous les résultats de vos derniers Examens? Avez-vous les résultats de vos derniers Examens?\n",
            "rectE6tcLxgg43tQx 5baecf7f Avez-vous Mal : avoir Mal : avoir ~ autre part ? Avez-vous Mal : avoir ~ autre part ?\n",
            "recyhlDdiBICVS3zs a1e4979b Avez-vous pris (mesuré) votre température ? Avez-vous pris (mesuré) votre température ?\n",
            "recp6DF7UZBWzL6WL 0a144161 Avez-vous pris récemment des Antibiotique ? Avez-vous pris récemment des Antibiotique ?\n",
            "recFvHgHMCEWl1ww3 1a584701 Avez-vous subi une intervention chirurgicale ? Avez-vous subi une intervention chirurgicale ?\n",
            "reczt49HMvmfL1CcQ 5d77a8f3 Avez-vous suivi le(s) Rappel(s) ? Avez-vous suivi le(s) Rappel(s) ?\n",
            "recgUwqqnX1VEbujA e6cd4779 Avez-vous travaillé dans votre Pays d’origine ? Avez-vous travaillé dans votre Pays d’origine ?\n",
            "recHa6vBfrt2SCncX 79abc795 Avez-vous une Assurance maladie ? Avez-vous une ~ ?\n",
            "recHa6vBfrt2SCncX 79abc795 Avez-vous une Assurance maladie ? Avez-vous une Assurance maladie ?\n",
            "recH6QtX7WlTgjg3Y ff2163a3 Avez-vous visité/ vécu d’autres pays avant d’arriver en France ? Avez-vous visité/ vécu d’autres pays avant d’arriver en France ?\n",
            "recxjdDjxyJQEKKw1 f6e3da7d BCG - Vaccin bilié de Calmette et Guérin BCG - Vaccin bilié de Calmette et Guérin\n",
            "reci6VyC2ZsFxAqkH 97f4f591 Bécégite Bécégite\n",
            "recuc3XZ2MU3QieIu c2046078 Bénéficiez-vous d'une Prise en charge ? Bénéficiez-vous d'une Prise en charge ?\n",
            "recWPWmMWRf6RUb4e f3bff76c Bonjour Bonjour\n",
            "recY3xPGlPI4PuVjE 03bb6e86 Bonjour, comment vous appelez-vous ? Bonjour, comment vous appelez-vous ?\n",
            "recLS3ucazSxlugty ecdb6078 Boule Boule\n",
            "recweKCFtoV8t1h3E a871b4d0 Bouton(s) Bouton(s)\n",
            "rec33YHbQfJVyNqZB 41f0f9bf Bras Bras\n",
            "recJLsJ4fZmUVkxSn 41767191 Bronchite Bronchite\n",
            "recKNZHSERJIHq7gJ 8df5cc0f Broncholite Broncholite\n",
            "reciexfGbNKvXzQg8 955f030c Buvez-vous de l’Alcool? Buvez-vous de l’~?\n",
            "reciexfGbNKvXzQg8 955f030c Buvez-vous de l’Alcool? Buvez-vous de l’Alcool?\n",
            "recasp0L5Hzj0hqJ4 726bcc08 Calendrier Vaccinal Calendrier Vaccinal\n",
            "rec0x30FW5SK42hVn 9d48f38f Carte de Mutuelle Carte de Mutuelle\n",
            "recQG0rkp4nYHBM1P f4ff7a80 Cas contact Cas contact\n",
            "recrUOGliEdyqHHpG 429b7d1b Céphalées Céphalées\n",
            "recTRPthyL0Jb6BIP 1f8deaf0 Chronique Chronique\n",
            "recx89EKiWZycgNRi 3ec31ffc Coma Coma\n",
            "reckVDvXdTYPKD7It 2a6d47ed Combien Combien\n",
            "recUptL0HKc8LbMq6 45677870 Combien d'enfants y a-t-il dans la famille ? Combien d'enfants y a-t-il dans la famille ?\n",
            "recvgAAg6FULoSDf4 31df8ba7 Combien d’enfants avez-vous ? Combien d’enfants avez-vous ?\n",
            "recrzVdP1YaTSiP1D 6ae8e7c8 Combien de cigarettes par jour ? Combien de cigarettes par jour ?\n",
            "recBFECmM6W6uT4pq 1e509e71 Combien de fois ? Combien de fois ?\n",
            "recvc4zXDj4KVaMy5 5f31d863 Combien de fois venez-vous en Dialyse par semaine ? Combien de fois venez-vous en Dialyse par semaine ?\n",
            "recKfv5oLCjbzNxkh a8726ab3 Comment vous vous sentez après le traitement ? Comment vous vous sentez après le traitement ?\n",
            "recKIcbUqLqqRhkHR c5658d3f Comorbidité Comorbidité\n",
            "rec5a0Zw9DfAZrTKy e7308eea Connaissez-vous la date de vos dernières règles ? Connaissez-vous la date de vos dernières règles ?\n",
            "recUQgTFsAB7q9zUh 8a7049e4 Connaissez-vous votre Sanguin ? Connaissez-vous votre Sanguin ?\n",
            "reczLmIAxdIY6txra 0873715c Consentement Consentement\n",
            "reciYnQDg3IyNM6Bd 0be3dc0f Consommez-vous des Drogue(s)s ? Lesquelles ? Consommez-vous des Drogue(s)s ? Lesquelles ?\n",
            "recIzsFGDBATWqGSL 41b26822 Constipation Constipation\n",
            "recblekxhO6TnP7YD ca2eb80a Consultation Consultation\n",
            "recxZL7CeXn0ujDVu 52a44cdf Contagieux Contagieux\n",
            "rec0Tj9uH4ikQ6NXK c13c353e Contraception Contraception\n",
            "receVpdZxqdgOiNUs 7801effa Contre-indication Contre-indication\n",
            "recitII8Eex21caEo d288f6d8 Contre-indication Contre-indication\n",
            "recp6RUMOUip1tQ8H 80f1228e Convulsions Convulsions\n",
            "recjgFeEyLgKec2B0 b6011758 Coqueluche Coqueluche\n",
            "recQ5XLSDQM8gTko4 d5ccd913 Coronavirus Coronavirus\n",
            "rec9eLsM5dY7zPh9w ef6df816 Cou Cou\n",
            "rec2TqQtDkrLmV0dU 57b95890 Courbatures Courbatures\n",
            "recJ1dG0y8bexPjwL 53e2cba6 COVID-19 COVID-19\n",
            "recufwtsQjKWwcAA4 36d5b0ee CSS (Complémentaire Santé Solidaire, ex-CMU) CSS (Complémentaire Santé Solidaire, ex-CMU)\n",
            "rec1r6TPv08tuzP9a c0f1c321 Cuisse Cuisse\n",
            "recVEoS8xyIVorPHj 925153c3 Cutané, -e Cutané, -e\n",
            "recJ31CEHNRSc4H6m 4e7742de D'autres membres de la famille sont-ils actuellement malade ? D'autres membres de la famille sont-ils actuellement malade ?\n",
            "recG6Td4yr6cOrYXL 80048907 Date du début de la Fièvre Date du début de la Fièvre\n",
            "recNgzmkC9N7KZbk3 192bc4c8 De quel Pays venez-vous ? De quel Pays venez-vous ?\n",
            "reck4xa2EueH29tQB ffa15a31 Dépistage Dépistage\n",
            "recKMLSpMAq2La7n8 fd49e619 Depuis quand vous êtes en France ? Depuis quand vous êtes en France ?\n",
            "recjnff8ErYaNuIOn 1fcd7dd3 Diabète Diabète\n",
            "recOOOMl7dAKxAXc8 b013a67a Dialyse Dialyse\n",
            "recWFVIYxzJDcfm3j 318c5da6 Diarrhée Diarrhée\n",
            "recAKWNSSkyBPxATz 58fd3f82 Digestif Digestif\n",
            "recnuKtw52HkXiH44 dd20571a Diphtérie Diphtérie\n",
            "recAhOXyqsGP9XkXT 45d86447 Dose Dose\n",
            "recjeciN5uZMOcTrq bce878b1 Douleur Douleur\n",
            "recqA6pu5kE0dc4JF 71863dcd Drogue(s) Drogue(s)\n",
            "recYlmPAFTQO54T1b 0394c416 Echographie Echographie\n",
            "recJwdjTLUl8DJKLJ d7887138 Ecoulement Ecoulement\n",
            "recJwdjTLUl8DJKLJ d7887138 Ecoulement Ecoulement\n",
            "rech8O9ldlPAYwbba ad151686 Effet secondaire Effet secondaire\n",
            "recxDjK38galjzneR 9962ea9b Enceinte Enceinte\n",
            "recPMhqLp2aHNfpxy e9c3c7a4 Endocrinologie Endocrinologie\n",
            "recFvGCVKgsq8V1BV 147fc804 Endoscopie Endoscopie\n",
            "rec3PiZZIDl1YEm5d cc8e2964 Enfant Enfant\n",
            "rec4Gv9i6YbUrrUdV 3070f898 Epaule Epaule\n",
            "rec3PiZZIDl1YEm5d cc8e2964 Est-ce que votre Enfant va à la crèche, à l'école ? Est-ce que votre Enfant va à la crèche, à l'école ?\n",
            "recPTdbb7mpDFDJXk d5d7362c Est-ce que vous fumez ? Est-ce que vous fumez ?\n",
            "rec1OIXMPblrKwEMH 9005c949 Est-ce que vous saignez beaucoup ? Est-ce que vous saignez beaucoup ?\n",
            "recWp0rajm2qKcJuF c5df267a Êtes vous vacciné (e) ? Êtes vous vacciné (e) ?\n",
            "recBY5NXGM8UtBcaX 7768882c Êtes-vous Enceinte ? Êtes-vous Enceinte ?\n",
            "recSHqQxKyTORgtB8 7c15835b Etes-vous Jeun : à Jeun : à ~ ? Etes-vous Jeun : à ~ ?\n",
            "rec94OqWmYEbHUYGF 52219524 Examen Examen\n",
            "rece4GG7gKFgrU7x9 7995d456 Examen clinique Examen clinique\n",
            "rec2BxPWaCAdsqH5q 51457d4d Examen de l'Enfant Examen de l'Enfant\n",
            "recUsrpE7sv8wXk3p b41b915d Examiner Examiner\n",
            "recVrCOQe46m6JIFu 26d88347 Expectoration Expectoration\n",
            "recMOfPH3yJs58Phk 38440825 Famille Famille\n",
            "recq9hJSYk8QvuX5n 1ffe71ca Fatigue Fatigue\n",
            "recyn0flhbdO7YCtf 3bef26be Fébrile Fébrile\n",
            "recT7Wml2fgUI3fNv ab887b0e Feuille de soins Feuille de soins\n",
            "rec8pS46MYGy4eNMk 1cb56777 Fibroscopie Fibroscopie\n",
            "recDNzt9YOceP1MSY 154a1583 Fibroscopie digestive Fibroscopie digestive\n",
            "recN8cQKAYrainO3w d07b3d97 Fièvre Fièvre\n",
            "recZ429oiOyFd4ZVM 6ba67b3d Foie : le Foie : le Foie : le ~ Foie : le Foie : le ~\n",
            "rec5vgXtxqZXD3YFG 122c2694 Fumer Fumer\n",
            "rec8zGrwwFqFQYxfz 4dfa24ff Gastrique Gastrique\n",
            "recrTB6edTW1mNgFb 1273c10e Greffe Greffe\n",
            "rectGxlTfUa4UDqjR aed7486a Grossesse Grossesse\n",
            "recAEDfA8DNrBsACl 6d8132e1 Groupe sanguin Groupe sanguin\n",
            "rec1a8Q3ksmNDLQhA 1eeaead7 Habiter Habiter\n",
            "rec7iasyG8Tsb2tQB dfec0ec5 Habitus (mode de vie) Habitus (mode de vie)\n",
            "recCqfUmcShLNLBmY 2a66f9f2 Hémophylle Hémophylle\n",
            "recQVlr22FpWGJdtW e20e9359 Hémophyllie Hémophyllie\n",
            "recsJTLYXoVtAATvh f8306329 Hépatite B, C. Hépatite B, C.\n",
            "recRIksgaijHYkgmf b452192e Hospitalisation Hospitalisation\n",
            "rechyGVx0Zk5FGFaB 56ed4273 Hospitalisé, -e Hospitalisé, -e\n",
            "recprwmhKx5OwbY5a a212180d Hypertension Hypertension\n",
            "recm0n2me4teLkYtv 8b0a1f6f Hypertension artérielle Hypertension artérielle\n",
            "rec4e8SETTIqUCi5a 0e64ab4e I.D.R. - Intradermoréaction à la tuberculine I.D.R. - Intradermoréaction à la tuberculine\n",
            "recC5pSMtY964Q3wz d65da17f Il faut respecter la Posologie Il faut respecter la Posologie\n",
            "recXqqJjdUBzHR0Hq b6b565a5 Immunité Immunité\n",
            "recZQH3Bhsr20Snlr ff80daa3 Immuno-dépression Immuno-dépression\n",
            "recfTWXzC2wy4LIR3 a13887d9 Infantile Infantile\n",
            "recTIXs79RhalwMmk e5a533a5 Infection Infection\n",
            "recCRnPHSXvqUvzd0 e2f7d23d Infection bactérienne Infection bactérienne\n",
            "rec39Pqgp08As90b7 cab7ecbf Infection des voies aériennes supérieures Infection des voies aériennes supérieures\n",
            "recTnxBDqaZEfexlp efdecd6a Infection virale Infection virale\n",
            "reczW3Dqq2zqz0lTk 5b7ec321 Infections sexuellement transmissibles Infections sexuellement transmissibles\n",
            "recQHXDNkf32Y5Rxn a10c8e6c Infirmière Infirmière\n",
            "rec2Dgv1ZrGSKPzqx b0da4b27 Injectable Injectable\n",
            "recL5VgTDsVjrR646 0203f041 Injection Injection\n",
            "reco8iFRctnJgMJCl 968aeb01 Intervention Intervention\n",
            "recufPyPxwDAuDtBs 65870bbf Intervention chirurgicale Intervention chirurgicale\n",
            "recptUmlgiKVpLE6Q 0e2434c9 Intra-musculaire Intra-musculaire\n",
            "recwN4ENXM2BmfjfO 8361e66a Intra-veineux Intra-veineux\n",
            "recKbPHqDTXNPwYK0 f397cda1 Jeun : à Jeun : à Jeun : à ~ Jeun : à Jeun : à ~\n",
            "recV7yGIwf1ueTAiJ 0bb1797c Kyste Kyste\n",
            "rectYcIX7cL9Ipnx6 576c4240 Kyste pulmonaire Kyste pulmonaire\n",
            "reczy0zNX0wHLe4jg 6fb4ba33 L'enfant a-t-il été vacciné ? Et quand ? (date) L'enfant a-t-il été vacciné ? Et quand ? (date)\n",
            "rec2ROlENye3lcPNj 4522ce15 L'enfant a-t-il eu un contact récent avec quelqu'un souffrant d'une maladie contagieuse ? L'enfant a-t-il eu un contact récent avec quelqu'un souffrant d'une maladie contagieuse ?\n",
            "recqlp4miT2AvvIBa 00e2a604 la France la France\n",
            "recVR7YOToG6ut71s 35094155 Laboratoire Laboratoire\n",
            "rec6GdsVH8an7cL4A b88887cd Le vaccin est Obligatoire Le vaccin est ~\n",
            "rec6UthVVmWzdekDd d2b30a2a Le Vaccin peut donner une boule Le Vaccin peut donner une boule\n",
            "rec01RgfrfJTlhavZ da5e21b8 Les résultats de votre prise de sang sont bons Les résultats de votre prise de sang sont bons\n",
            "reckNoiMPnVxZKFxh 982a2b1e Lunettes Lunettes\n",
            "rec0dX6nl4zhmPJMf 758c1d14 Mal : avoir Mal : avoir ~ de tête Mal : avoir ~ de tête\n",
            "recP3QoYuafKunmq4 b67b17b5 Mal (pl maux) : avoir Mal : avoir Mal : avoir ~ Mal (pl maux) : avoir Mal : avoir ~\n",
            "recYNt8UMLlOBFyn4 b78d16b0 Maladie Maladie\n",
            "rec3qNg19Ky7xPquj c6501ea6 Maladie Chronique Maladie Chronique\n",
            "recXSwi1aZnCHNOTB 645fb61d Maladie Infantile Maladie Infantile\n",
            "recVrTRR5HMfq3mcw e64b1756 Maladie infectieuse bénigne Maladie infectieuse bénigne\n",
            "recypLh6xiOYosjJI ebaf8e32 Médecin Médecin\n",
            "recSkV1XaNgOLav4x 3135926f Médecin spécialiste Médecin spécialiste\n",
            "recPchccj05SZLgIN 619b0404 Médecin traitant Médecin traitant\n",
            "recDuSWvKR6hzy6DJ 6bb7b802 Médecin traitant Médecin traitant\n",
            "recCDJ8mKX9kDFnOQ 76ae390d Médecine générale Médecine générale\n",
            "recCDJ8mKX9kDFnOQ 76ae390d Médecine générale Médecine générale\n",
            "recOivQOmeragygVr 80e0c323 Médicament(s) Médicament(s)\n",
            "rec0ERnGULuSB1zer f80074ba Méningite Méningite\n",
            "recdczDdVe8cljvoU 611f904d Montrer Montrer\n",
            "rec3KIsjsQ4hN4yj3 43cb1a8b Montrez la trace au niveau du Cou Montrez la trace au niveau du ~ \n",
            "rec3KIsjsQ4hN4yj3 43cb1a8b Montrez la trace au niveau du Cou Montrez la trace au niveau du Cou\n",
            "recPZg621RHiNd9Li 0a7566f3 MST - Maladies sexuellement transmissibles MST - Maladies sexuellement transmissibles\n",
            "recNuWByQy2nkrb2w 3a41a5a1 Mutuelle Mutuelle\n",
            "rechYK1fTy5EOlC90 3d5b89ca Myasthénie Myasthénie\n",
            "recfy5kp7pz7RkqKv 26a3963c Nausées Nausées\n",
            "recoVqs2Drj3FQ1M1 b210f482 Nez Nez\n",
            "recm4NqJ73m4S46AF a96f81d0 Nom Nom\n",
            "rec6GdsVH8an7cL4A b88887cd Obligatoire Obligatoire\n",
            "reczy8Os5Hc3qZ1yA 72f0e8db Œdème Œdème\n",
            "recKHjPQLExyfpkX6 febda1c2 Opération Opération\n",
            "recZbFl47F5c2GWey 66ef76c1 Ordonnance Ordonnance\n",
            "recIKFiQVAl9BTOLD 19d0c776 Oreille Oreille\n",
            "recMyIOGoTKuZ55Si 31c852f3 Oreillons Oreillons\n",
            "rec6c18JEIpmUk6B2 5eb33526 ORL - Oto-rhino-laryngologue ORL - Oto-rhino-laryngologue\n",
            "rectUirRU9JEUj2nh 3691346a Où avez-mal Mal : avoir Mal : avoir ~ ? Où avez-mal Mal : avoir ~ ?\n",
            "rec1a8Q3ksmNDLQhA 1eeaead7 Où habitez-vous ? Où habitez-vous ?\n",
            "rec1a8Q3ksmNDLQhA 1eeaead7 Où habitez-vous ? Où habitez-vous ?\n",
            "rec24ufHujFzxfFKB 0a2cb764 Où sont les Douleurs exactement ? Où sont les Douleurs exactement ?\n",
            "rec5Ul28KoSfuUmkY 24db0a7a Pansement Pansement\n",
            "recm87FoNkIm1rmAq a66a69fe Papillomavirus Papillomavirus\n",
            "recjuK6Zrmj2wwanK e3e12017 Paracétamol Paracétamol\n",
            "recl0Fa72CMligLWV 00c3a161 Patch Patch\n",
            "rec0xxfBegkFGLCK6 e2321b9a Patch anesthésiant Patch anesthésiant\n",
            "recyPrHNzVRNBFIhT a88835c3 Pays Pays\n",
            "rec73DX131IujXyUa 2ab0285c Perte de connaissance Perte de connaissance\n",
            "recSOFcUalfDuTyPm fb87d11d Pharmacie Pharmacie\n",
            "recMXeE7vlzLjCO9p 920fa199 Pilule Pilule\n",
            "recr1PYuRtDSmnBfI 3db807c4 Placébo Placébo\n",
            "rec1Kvkj7HDskaSSS d640c2ba Plaquettes Plaquettes\n",
            "recnFsFSoE1DCjYqt 6cbc3ff1 Poids Poids\n",
            "reclzQz6IK2HuAnPL 04c95b7f Poliomyélite Poliomyélite\n",
            "recslLnSoxVGe2P95 2260fb9c Posologie Posologie\n",
            "recgixQOqpKCYTy8o 1a7b8aa8 Possédez-vous un carnet de vaccination ? Possédez-vous un carnet de vaccination ?\n",
            "rec920R2aRYDNVBo5 ec049575 Poumons Poumons\n",
            "recZyAZ8VCoinU0M6 de77211f Pourquoi êtes-vous venu en Consultation ? Quel est le motif ? Pourquoi êtes-vous venu en Consultation ? Quel est le motif ?\n",
            "rectcLMR9VgJd6c8l dc67555a Prélèvement Prélèvement\n",
            "rech9QrfCWAhYQ00l 6209bcb2 Prélèvement de la cavité buccale Prélèvement de la cavité buccale\n",
            "recDIZedc9PyD4aY4 e294b45d Prélèvement nasal Prélèvement nasal\n",
            "recA87PtLJrLNxrWv df1e2c3a Prenez-vous régulièrement des Médicaments? Prenez-vous régulièrement des Médicaments?\n",
            "recmzYfmAH0guiq4I d2e57d50 Prenez-vous un traitement ? Prenez-vous un traitement ?\n",
            "recdXrJWl95exZ4ly 452b869d Prenez-vous un traitement tous les jours ? Prenez-vous un traitement tous les jours ?\n",
            "recxY8cLPegUjuokd a0d7c548 Prénom Prénom\n",
            "recyLK6c96lvD5XVf 523bb66a Prise de sang Prise de sang\n",
            "recJtuiry2rIAhpgG 6fd4e8e6 Prise de sang Prise de sang\n",
            "rec4hY3K0U5ZMM3wk b2aeddd6 Prise en charge Prise en charge\n",
            "recwcAYjVwU2aiPtk 5f7e92a9 Protection (contre la Maladie) Protection (contre la Maladie)\n",
            "recZyJxNpmnYnAiVv 9ff13716 Pulmonaire Pulmonaire\n",
            "rec5kLYjfTJ18Wi3n af9faaa5 Purulent Purulent\n",
            "rec6dJA0vlCaxz6hG 2669165a Quand avez-vous été vacciné(e) la dernière fois ? Quand avez-vous été vacciné(e) la dernière fois ?\n",
            "rec6sGT99fM0GTy7s 38ce069d Quand vous êtes arrivé (e) en France ? Quand vous êtes arrivé (e) en France ?\n",
            "recFclp4FIK5u5sa3 ba312208 Quel Age avez-vous ? Quel ~ avez-vous ?\n",
            "recFclp4FIK5u5sa3 ba312208 Quel âge avez-vous ? Quel âge avez-vous ?\n",
            "recnEzvTeb7iJiZYH 41572191 Quel est votre poids ? Quel est votre poids ?\n",
            "recbtXSHNYi9IneJz 7e8fdc9a Quelle est la date de dernière vaccination ? Quelle est la date de dernière vaccination ?\n",
            "recO7yXzZldozulEA a4665865 Quelle est la date de vos dernières règles ? Quelle est la date de vos dernières règles ?\n",
            "recYlZNYf0S4feeCO 13ea15a7 Quelle est votre Situation actuelle ? Quelle est votre Situation actuelle ?\n",
            "recNQqTXnpEEJAQm6 fdb2cba9 Quelle est votre taille ? Quelle est votre taille ?\n",
            "recMBWhd5XZjVScol 030c93f3 Question Question\n",
            "reclW70DA7mMxu1Kc 4e4bdbdc Radiographie Radiographie\n",
            "recketACNqerPY8jn a255b16c Rage Rage\n",
            "recU1b84srsOyeITX 692d4272 Rappel Rappel\n",
            "recWwLooI0k8rdhOK 877103a0 Réaction Cutané, -ee Réaction Cutané, -ee\n",
            "recQYdJyPDBl8DpKc 0783835b Réanimation Réanimation\n",
            "recMojqpZyJtgwMhJ eafb894d Reflux Reflux\n",
            "recCmLFLuFBgLXdbx 436f35d5 Reflux Gastrique Reflux Gastrique\n",
            "recj2Rxu1VxqrTFDS 21f60745 Règles Règles\n",
            "recgabaWMuwrpRtae 94ea068a Reins : les Reins : les Reins : les ~ Reins : les Reins : les ~\n",
            "rec0OPwADLpPtMXUB 547133bd Résistance aux Antibiotiques Résistance aux Antibiotiques\n",
            "recTaNoAHzuxJ4Iah 13e75305 Rhésus Rhésus\n",
            "recC7wHXZDJzfVtLm 19a0e5a4 ROR - Rougéole Oreillon Rubéole ROR - Rougéole Oreillon Rubéole\n",
            "rec4SrS69v2muoCP9 37b62b2e Rougeole Rougeole\n",
            "recx6LwzWZE40y69y c1cc5bb5 Rougeurs Rougeurs\n",
            "rectAJnQNg2aLO027 ae609512 Rubéole Rubéole\n",
            "recNbLCuWRpbU5qhV cfc72922 Saignement Saignement\n",
            "recNjHDKA3APnXxl1 e0574027 Saigner Saigner\n",
            "recmg32UxJl2OBr24 0e4332bf SAMU - Service d'Aide Médicale Urgente SAMU - Service d'Aide Médicale Urgente\n",
            "recEGsguyY5Ptqe8J 47575e69 Sang Sang\n",
            "recGFoUZnbJzdqVMo 982cf1c5 Sanguin Sanguin\n",
            "rec8jwWJywjofYsgv 63830c9d Scolarisation Scolarisation\n",
            "recdIiknAvWnAjqc5 d00c5a92 Scolarisé, -e Scolarisé, -e\n",
            "recwKil9Kv6VVsf9N 4587576b SIDA - Syndrome d'Immuno Déficience Acquise SIDA - Syndrome d'Immuno Déficience Acquise\n",
            "recanNRyTWVSZZRkc aa142f90 Situation Situation\n",
            "recB2FqrqBQ6DNbQI daa3bd35 Sommeil Sommeil\n",
            "recB2FqrqBQ6DNbQI daa3bd35 Sommeil Sommeil\n",
            "recHOZIG25qRQwpDJ b0b2ccb8 Stagiaire Stagiaire\n",
            "recOCbbeQ8X8bDSiw c7f2e65f Sueur Sueur\n",
            "recqALuuKO9rDgUK0 c65eb2d0 Symptôme, -s Symptôme, -s\n",
            "rec3VKE1HAWQvRKhu ec148066 Syphyllis Syphyllis\n",
            "recT1QRPnsqi9HFq5 f99bc0bc Système Digestif Système Digestif\n",
            "recPd4zs5SiIqkQXA a19da864 Taille Taille\n",
            "rec8d0Jcw9xJQxfMW e66fbd67 Température Température\n",
            "recb2ey26bgfHlvvm 18c2475b Température Température\n",
            "reciVRd1xcqcKLWaq fdcce570 Test Test\n",
            "recDMiC1V4uQQcwy5 20a76921 Test antigénique Test antigénique\n",
            "reczafbklKp5EGqlc ef08cf91 Test d'anticorps Test d'anticorps\n",
            "recdQ5soovw0Ta594 949d9853 Test de grossesse Test de grossesse\n",
            "recViNKDbJe7xbAZi b293c557 Test PCR (dans le nez) Test PCR (dans le nez)\n",
            "recF0NKmOocmOubzD 8a44a95b Tétanos Tétanos\n",
            "recsXpqDIeovkO86f 8888458c Thermomètre Thermomètre\n",
            "recG27uF7NQ1A8U2f 55143a41 Thyphoïde Thyphoïde\n",
            "recw0FmVCCJZaf3j5 d82de066 Thyroïde Thyroïde\n",
            "rec5wqYAEVz6LPva5 02fab53e Traitement Traitement\n",
            "recem00qPsV8AMonO 25cc2e0b Transfusé, -e Transfusé, -e\n",
            "recpLR3Y1Rr36hLBf cab7e32d Transfusion Transfusion\n",
            "rec0rFv6Yx68dRAYV 4cacd370 Transplantation Transplantation\n",
            "rec0rFv6Yx68dRAYV 4cacd370 Transplantation Transplantation\n",
            "reczD8eYPx6qdmdde 43d446db Travailler Travailler\n",
            "reciJrxA1awr05CTE 12806c07 Travaillez-vous ? Travaillez-vous ?\n",
            "recfy5HzSWxCEJzti c51af8d4 Troubles Troubles\n",
            "recIHDGxKDgX3odIK cebe716f Troubles digestifs Troubles digestifs\n",
            "recJgddXwpAQJ9l4A 7df34045 Troubles du sommeil Troubles du sommeil\n",
            "rec86ipQsfpiCWbqn 19233fde Tube Digestif Tube Digestif\n",
            "recxgt4nEbzF3nRbZ d6a8bc79 Tuberculose Tuberculose\n",
            "recVaXiLp9u2OzOOa 9b8a7483 Urgences Urgences\n",
            "recVaXiLp9u2OzOOa 9b8a7483 Urgences Urgences\n",
            "recFuDgRMm1oRU1RZ 1335a072 Urinaire Urinaire\n",
            "recdEQ25lx82ZOX7s 0e25b5fb Urine Urine\n",
            "recVvbKZ6aSxhMdvB 3a806956 Vaccin Vaccin\n",
            "recz2EvbIH34UFDTe 6c70b10f Vaccinal Vaccinal\n",
            "recHgt7SPuMQE2uyi 042f7049 Vaccination Vaccination\n",
            "recdVKLCyxlEykorQ 571d5aa0 Vacciné, -e Vacciné, -e\n",
            "reckI7q6YJYxvZH41 c265d45c Varicelle Varicelle\n",
            "recNzxoE95tWBurIf 54b97bb1 Variole Variole\n",
            "recApTiFILkIYKx0R c25d8c43 Venez, je vais vous Examiner Venez, je vais vous Examiner\n",
            "reclVBxW9wffvjW2J 6892e12c VIH VIH\n",
            "rec1bgGLdKt9IpERV 38a24ddb Visite Visite\n",
            "rec1bgGLdKt9IpERV 38a24ddb Visite Visite\n",
            "rec8703BkMAM5VwWc fee1214e Vitamines Vitamines\n",
            "recjO5zRzzpHcMYJu 39cba202 Vomissements Vomissements\n",
            "recIYnWxUUKU1n84G 80aac977 Vos vaccinations sont-elles à jour ? Vos vaccinations sont-elles à jour ?\n",
            "receaQEuvP4z54rkk 8e8c22aa Votre poids a-t-il augmenté ? Votre poids a-t-il augmenté ?\n",
            "recpJHzSrc1ertCTr 0e9f09c9 Votre poids a-t-il baissé ? Votre poids a-t-il baissé ?\n",
            "recuyWKo1a0ujlY7U d112f379 Votre poids est-il stable ? Votre poids est-il stable ?\n",
            "rec03VRCM8poABxQ4 2344ba84 Vous avez accouché par césarienne ou voie basse ? Vous avez accouché par césarienne ou voie basse ?\n",
            "rec1BLXwaQLrCTL1e 36e66161 Y a-t-il des cas contagieux à l'école ? Y a-t-il des cas contagieux à l'école ?\n",
            "recfFiXbbHDPC30H0 c32f5fd9 Y a-t-il des maladies Chroniques dans votre famille ? Y a-t-il des maladies Chroniques dans votre famille ?\n",
            "recia1L6nICYg6LJ8 d3dba8e4 Zona Zona\n"
          ]
        }
      ]
    },
    {
      "cell_type": "markdown",
      "source": [
        "### Vocabulaire avec groupement :\n",
        "\n",
        "\n",
        "1.   Index alpha\n",
        "2.   Mot clé\n",
        "3.   Ordre\n",
        "\n"
      ],
      "metadata": {
        "id": "cdPFqRRaPQgp"
      }
    },
    {
      "cell_type": "code",
      "source": [
        "vk_voc = airtable.get_all(view='Vocabulary', sort=['idx_cor','Maitre','Ordre'])\n",
        "df_voc = pd.DataFrame.from_records((r['fields'] for r in vk_voc))\n",
        "df_voc = df_voc[['idx_cor','Maitre','Ordre','Proposition','CATEGRAM','TYPE','Thématique']]"
      ],
      "metadata": {
        "id": "cHRm0SL0HVip"
      },
      "execution_count": null,
      "outputs": []
    },
    {
      "cell_type": "markdown",
      "source": [
        "### Traductions avec groupement :\n",
        "\n",
        "\n",
        "1.   Index alpha\n",
        "2.   Mot clé\n",
        "3.   Ordre"
      ],
      "metadata": {
        "id": "2wcUjGFBSkCa"
      }
    },
    {
      "cell_type": "code",
      "source": [
        "df_voc_trad = airtable.get_all(view='Traductions', sort=['idx_cor','Maitre','Ordre'])\n",
        "df_voc_trad = pd.DataFrame.from_records((r['fields'] for r in df_voc_trad))\n",
        "df_voc_trad = df_voc_trad[['idx_cor','Maitre','Ordre','Proposition','CATEGRAM','TYPE','Thématique',\n",
        "             'eng','ams','tur','rus','ukr','rou','hun','tig','alb','geo','arm',\n",
        "             'dar','pst','esp','pol']]"
      ],
      "metadata": {
        "id": "Bgg44ROuR4hL"
      },
      "execution_count": null,
      "outputs": []
    },
    {
      "cell_type": "code",
      "source": [
        "# Corpus_consolidation\n",
        "uri = \"https://docs.google.com/spreadsheets/d/1cSnSnnQunL-I7hpyYkIqbtuGr55unVJ3Qe8URSrjTr8/edit?usp=sharing\"\n",
        "\n",
        "wb = get_CCDB_wb(uri)\n",
        "db_cc = get_CCDB_data (wb, 0)\n",
        "\n",
        "nom_onglet = 'Lexique'\n",
        "# si l'onglet existe déjà\n",
        "try:\n",
        "  ws = wb.worksheet(nom_onglet)\n",
        "  wb.del_worksheet(ws)\n",
        "except:\n",
        "  print (\"Onglet inexistant !\")\n",
        "\n",
        "wb.add_worksheet(nom_onglet, 1, 1)\n",
        "export_sheet = wb.worksheet(nom_onglet)\n",
        "set_with_dataframe(export_sheet, df_voc_trad)"
      ],
      "metadata": {
        "colab": {
          "base_uri": "https://localhost:8080/"
        },
        "id": "WT5hbTFFSxNt",
        "outputId": "ed9bc995-068c-4756-bfe7-9017c5340e54"
      },
      "execution_count": null,
      "outputs": [
        {
          "output_type": "stream",
          "name": "stdout",
          "text": [
            "Onglet inexistant !\n"
          ]
        }
      ]
    },
    {
      "cell_type": "code",
      "source": [
        "grouped = df_voc.groupby(['idx_cor','Maitre'])\n",
        "'''\n",
        "for name, group in grouped:\n",
        "  print (name)\n",
        "  print (group[\"Proposition\"])\n",
        "'''"
      ],
      "metadata": {
        "colab": {
          "base_uri": "https://localhost:8080/",
          "height": 35
        },
        "id": "evgY7mxqP7WE",
        "outputId": "75660d4f-af74-4aa8-cd47-d511f4d308fa"
      },
      "execution_count": null,
      "outputs": [
        {
          "output_type": "execute_result",
          "data": {
            "text/plain": [
              "'\\nfor name, group in grouped:\\n  print (name)\\n  print (group[\"Proposition\"])\\n'"
            ],
            "application/vnd.google.colaboratory.intrinsic+json": {
              "type": "string"
            }
          },
          "metadata": {},
          "execution_count": 23
        }
      ]
    },
    {
      "cell_type": "markdown",
      "source": [
        "Recherche des UID manquants dans Airtable"
      ],
      "metadata": {
        "id": "U-7k2nzJUsid"
      }
    },
    {
      "cell_type": "code",
      "source": [
        "def airtable_get_missing_uids(df):\n",
        "  return df.loc[pd.isna(df[\"UID\"])]\n"
      ],
      "metadata": {
        "id": "Gtod6pghUwQi"
      },
      "execution_count": null,
      "outputs": []
    },
    {
      "cell_type": "markdown",
      "source": [
        "Recherche dans Airtable par Séquence"
      ],
      "metadata": {
        "id": "5SKRdfNJVJsK"
      }
    },
    {
      "cell_type": "code",
      "source": [
        "def airtable_get_records_by_sequence(df, sequence):\n",
        "  return df.loc[df[\"Séquence\"]==sequence]\n"
      ],
      "metadata": {
        "id": "vSn5dpoYVi4M"
      },
      "execution_count": null,
      "outputs": []
    },
    {
      "cell_type": "code",
      "source": [
        "#df_vkat.loc[df_vkat[\"Séquence\"]==\"1. Présentation + antécédents\"]"
      ],
      "metadata": {
        "id": "fcJHEddUWLWs"
      },
      "execution_count": null,
      "outputs": []
    },
    {
      "cell_type": "code",
      "source": [
        "airtable_get_missing_uids(df_vkat)"
      ],
      "metadata": {
        "id": "57wH5iFxREtI",
        "colab": {
          "base_uri": "https://localhost:8080/",
          "height": 468
        },
        "outputId": "f6fedb58-76d3-4a76-b039-3b113a31dc32"
      },
      "execution_count": null,
      "outputs": [
        {
          "output_type": "execute_result",
          "data": {
            "text/plain": [
              "                       Proposition  CATEGRAM           DEPENDANCE idx_cor         TYPE  UID VOCABULAIRE           Thématique  idx  Ordre  ... Updates Séquence MedGen Statut Fiche Phrase Assoc Définition Corpus copy DOMAINE Exp Assoc\n",
              "6                  ~ chirurgicale      [exp]  [reco8iFRctnJgMJCl]       I   expression  NaN         NaN        [Vaccination]    I      2  ...     NaN      NaN    NaN    NaN   NaN          NaN        NaN         NaN     NaN       NaN\n",
              "26                    Accouchement      [nm]                  NaN       A  vocabulaire  NaN         NaN  [Médecine générale]  NaN      1  ...     NaN      NaN    NaN    NaN   NaN          NaN        NaN         NaN     NaN       NaN\n",
              "27                       Accoucher      [vi]                  NaN       A  vocabulaire  NaN         NaN  [Médecine générale]  NaN      1  ...     NaN      NaN    NaN    NaN   NaN          NaN        NaN         NaN     NaN       NaN\n",
              "40                      Appareil ~     [exp]                  NaN       D   expression  NaN         NaN  [Médecine générale]  NaN      2  ...     NaN      NaN    NaN    NaN   NaN          NaN        NaN         NaN     NaN       NaN\n",
              "41                       Assurance      [nf]                  NaN       A  vocabulaire  NaN     Général  [Médecine générale]  NaN      1  ...     NaN      NaN    NaN    NaN   NaN          NaN        NaN         NaN     NaN       NaN\n",
              "..                             ...       ...                  ...     ...          ...  ...         ...                  ...  ...    ...  ...     ...      ...    ...    ...   ...          ...        ...         ...     ...       ...\n",
              "304                          Urine      [nf]                  NaN       U  vocabulaire  NaN         NaN                  NaN  NaN      1  ...     NaN      NaN    NaN    NaN   NaN          NaN        NaN         NaN     NaN       NaN\n",
              "306                       Vaccinal     [adj]                  NaN       V  vocabulaire  NaN         NaN                  NaN  NaN      1  ...     NaN      NaN    NaN    NaN   NaN          NaN        NaN         NaN     NaN       NaN\n",
              "308                    Vacciné, -e     [adj]                  NaN       V  vocabulaire  NaN         NaN                  NaN  NaN      1  ...     NaN      NaN    NaN    NaN   NaN          NaN        NaN         NaN     NaN       NaN\n",
              "317  Votre poids a-t-il augmenté ?  [phrase]  [recnFsFSoE1DCjYqt]       P       phrase  NaN         NaN  [Médecine générale]  NaN      3  ...     NaN      NaN    NaN    NaN   NaN          NaN        NaN         NaN     NaN       NaN\n",
              "319    Votre poids est-il stable ?  [phrase]  [recnFsFSoE1DCjYqt]       P       phrase  NaN         NaN  [Médecine générale]  NaN      3  ...     NaN      NaN    NaN    NaN   NaN          NaN        NaN         NaN     NaN       NaN\n",
              "\n",
              "[64 rows x 39 columns]"
            ],
            "text/html": [
              "\n",
              "  <div id=\"df-f55aeecb-91ff-4920-b2ea-8a4d69a74e8c\">\n",
              "    <div class=\"colab-df-container\">\n",
              "      <div>\n",
              "<style scoped>\n",
              "    .dataframe tbody tr th:only-of-type {\n",
              "        vertical-align: middle;\n",
              "    }\n",
              "\n",
              "    .dataframe tbody tr th {\n",
              "        vertical-align: top;\n",
              "    }\n",
              "\n",
              "    .dataframe thead th {\n",
              "        text-align: right;\n",
              "    }\n",
              "</style>\n",
              "<table border=\"1\" class=\"dataframe\">\n",
              "  <thead>\n",
              "    <tr style=\"text-align: right;\">\n",
              "      <th></th>\n",
              "      <th>Proposition</th>\n",
              "      <th>CATEGRAM</th>\n",
              "      <th>DEPENDANCE</th>\n",
              "      <th>idx_cor</th>\n",
              "      <th>TYPE</th>\n",
              "      <th>UID</th>\n",
              "      <th>VOCABULAIRE</th>\n",
              "      <th>Thématique</th>\n",
              "      <th>idx</th>\n",
              "      <th>Ordre</th>\n",
              "      <th>...</th>\n",
              "      <th>Updates</th>\n",
              "      <th>Séquence</th>\n",
              "      <th>MedGen</th>\n",
              "      <th>Statut</th>\n",
              "      <th>Fiche</th>\n",
              "      <th>Phrase Assoc</th>\n",
              "      <th>Définition</th>\n",
              "      <th>Corpus copy</th>\n",
              "      <th>DOMAINE</th>\n",
              "      <th>Exp Assoc</th>\n",
              "    </tr>\n",
              "  </thead>\n",
              "  <tbody>\n",
              "    <tr>\n",
              "      <th>6</th>\n",
              "      <td>~ chirurgicale</td>\n",
              "      <td>[exp]</td>\n",
              "      <td>[reco8iFRctnJgMJCl]</td>\n",
              "      <td>I</td>\n",
              "      <td>expression</td>\n",
              "      <td>NaN</td>\n",
              "      <td>NaN</td>\n",
              "      <td>[Vaccination]</td>\n",
              "      <td>I</td>\n",
              "      <td>2</td>\n",
              "      <td>...</td>\n",
              "      <td>NaN</td>\n",
              "      <td>NaN</td>\n",
              "      <td>NaN</td>\n",
              "      <td>NaN</td>\n",
              "      <td>NaN</td>\n",
              "      <td>NaN</td>\n",
              "      <td>NaN</td>\n",
              "      <td>NaN</td>\n",
              "      <td>NaN</td>\n",
              "      <td>NaN</td>\n",
              "    </tr>\n",
              "    <tr>\n",
              "      <th>26</th>\n",
              "      <td>Accouchement</td>\n",
              "      <td>[nm]</td>\n",
              "      <td>NaN</td>\n",
              "      <td>A</td>\n",
              "      <td>vocabulaire</td>\n",
              "      <td>NaN</td>\n",
              "      <td>NaN</td>\n",
              "      <td>[Médecine générale]</td>\n",
              "      <td>NaN</td>\n",
              "      <td>1</td>\n",
              "      <td>...</td>\n",
              "      <td>NaN</td>\n",
              "      <td>NaN</td>\n",
              "      <td>NaN</td>\n",
              "      <td>NaN</td>\n",
              "      <td>NaN</td>\n",
              "      <td>NaN</td>\n",
              "      <td>NaN</td>\n",
              "      <td>NaN</td>\n",
              "      <td>NaN</td>\n",
              "      <td>NaN</td>\n",
              "    </tr>\n",
              "    <tr>\n",
              "      <th>27</th>\n",
              "      <td>Accoucher</td>\n",
              "      <td>[vi]</td>\n",
              "      <td>NaN</td>\n",
              "      <td>A</td>\n",
              "      <td>vocabulaire</td>\n",
              "      <td>NaN</td>\n",
              "      <td>NaN</td>\n",
              "      <td>[Médecine générale]</td>\n",
              "      <td>NaN</td>\n",
              "      <td>1</td>\n",
              "      <td>...</td>\n",
              "      <td>NaN</td>\n",
              "      <td>NaN</td>\n",
              "      <td>NaN</td>\n",
              "      <td>NaN</td>\n",
              "      <td>NaN</td>\n",
              "      <td>NaN</td>\n",
              "      <td>NaN</td>\n",
              "      <td>NaN</td>\n",
              "      <td>NaN</td>\n",
              "      <td>NaN</td>\n",
              "    </tr>\n",
              "    <tr>\n",
              "      <th>40</th>\n",
              "      <td>Appareil ~</td>\n",
              "      <td>[exp]</td>\n",
              "      <td>NaN</td>\n",
              "      <td>D</td>\n",
              "      <td>expression</td>\n",
              "      <td>NaN</td>\n",
              "      <td>NaN</td>\n",
              "      <td>[Médecine générale]</td>\n",
              "      <td>NaN</td>\n",
              "      <td>2</td>\n",
              "      <td>...</td>\n",
              "      <td>NaN</td>\n",
              "      <td>NaN</td>\n",
              "      <td>NaN</td>\n",
              "      <td>NaN</td>\n",
              "      <td>NaN</td>\n",
              "      <td>NaN</td>\n",
              "      <td>NaN</td>\n",
              "      <td>NaN</td>\n",
              "      <td>NaN</td>\n",
              "      <td>NaN</td>\n",
              "    </tr>\n",
              "    <tr>\n",
              "      <th>41</th>\n",
              "      <td>Assurance</td>\n",
              "      <td>[nf]</td>\n",
              "      <td>NaN</td>\n",
              "      <td>A</td>\n",
              "      <td>vocabulaire</td>\n",
              "      <td>NaN</td>\n",
              "      <td>Général</td>\n",
              "      <td>[Médecine générale]</td>\n",
              "      <td>NaN</td>\n",
              "      <td>1</td>\n",
              "      <td>...</td>\n",
              "      <td>NaN</td>\n",
              "      <td>NaN</td>\n",
              "      <td>NaN</td>\n",
              "      <td>NaN</td>\n",
              "      <td>NaN</td>\n",
              "      <td>NaN</td>\n",
              "      <td>NaN</td>\n",
              "      <td>NaN</td>\n",
              "      <td>NaN</td>\n",
              "      <td>NaN</td>\n",
              "    </tr>\n",
              "    <tr>\n",
              "      <th>...</th>\n",
              "      <td>...</td>\n",
              "      <td>...</td>\n",
              "      <td>...</td>\n",
              "      <td>...</td>\n",
              "      <td>...</td>\n",
              "      <td>...</td>\n",
              "      <td>...</td>\n",
              "      <td>...</td>\n",
              "      <td>...</td>\n",
              "      <td>...</td>\n",
              "      <td>...</td>\n",
              "      <td>...</td>\n",
              "      <td>...</td>\n",
              "      <td>...</td>\n",
              "      <td>...</td>\n",
              "      <td>...</td>\n",
              "      <td>...</td>\n",
              "      <td>...</td>\n",
              "      <td>...</td>\n",
              "      <td>...</td>\n",
              "      <td>...</td>\n",
              "    </tr>\n",
              "    <tr>\n",
              "      <th>304</th>\n",
              "      <td>Urine</td>\n",
              "      <td>[nf]</td>\n",
              "      <td>NaN</td>\n",
              "      <td>U</td>\n",
              "      <td>vocabulaire</td>\n",
              "      <td>NaN</td>\n",
              "      <td>NaN</td>\n",
              "      <td>NaN</td>\n",
              "      <td>NaN</td>\n",
              "      <td>1</td>\n",
              "      <td>...</td>\n",
              "      <td>NaN</td>\n",
              "      <td>NaN</td>\n",
              "      <td>NaN</td>\n",
              "      <td>NaN</td>\n",
              "      <td>NaN</td>\n",
              "      <td>NaN</td>\n",
              "      <td>NaN</td>\n",
              "      <td>NaN</td>\n",
              "      <td>NaN</td>\n",
              "      <td>NaN</td>\n",
              "    </tr>\n",
              "    <tr>\n",
              "      <th>306</th>\n",
              "      <td>Vaccinal</td>\n",
              "      <td>[adj]</td>\n",
              "      <td>NaN</td>\n",
              "      <td>V</td>\n",
              "      <td>vocabulaire</td>\n",
              "      <td>NaN</td>\n",
              "      <td>NaN</td>\n",
              "      <td>NaN</td>\n",
              "      <td>NaN</td>\n",
              "      <td>1</td>\n",
              "      <td>...</td>\n",
              "      <td>NaN</td>\n",
              "      <td>NaN</td>\n",
              "      <td>NaN</td>\n",
              "      <td>NaN</td>\n",
              "      <td>NaN</td>\n",
              "      <td>NaN</td>\n",
              "      <td>NaN</td>\n",
              "      <td>NaN</td>\n",
              "      <td>NaN</td>\n",
              "      <td>NaN</td>\n",
              "    </tr>\n",
              "    <tr>\n",
              "      <th>308</th>\n",
              "      <td>Vacciné, -e</td>\n",
              "      <td>[adj]</td>\n",
              "      <td>NaN</td>\n",
              "      <td>V</td>\n",
              "      <td>vocabulaire</td>\n",
              "      <td>NaN</td>\n",
              "      <td>NaN</td>\n",
              "      <td>NaN</td>\n",
              "      <td>NaN</td>\n",
              "      <td>1</td>\n",
              "      <td>...</td>\n",
              "      <td>NaN</td>\n",
              "      <td>NaN</td>\n",
              "      <td>NaN</td>\n",
              "      <td>NaN</td>\n",
              "      <td>NaN</td>\n",
              "      <td>NaN</td>\n",
              "      <td>NaN</td>\n",
              "      <td>NaN</td>\n",
              "      <td>NaN</td>\n",
              "      <td>NaN</td>\n",
              "    </tr>\n",
              "    <tr>\n",
              "      <th>317</th>\n",
              "      <td>Votre poids a-t-il augmenté ?</td>\n",
              "      <td>[phrase]</td>\n",
              "      <td>[recnFsFSoE1DCjYqt]</td>\n",
              "      <td>P</td>\n",
              "      <td>phrase</td>\n",
              "      <td>NaN</td>\n",
              "      <td>NaN</td>\n",
              "      <td>[Médecine générale]</td>\n",
              "      <td>NaN</td>\n",
              "      <td>3</td>\n",
              "      <td>...</td>\n",
              "      <td>NaN</td>\n",
              "      <td>NaN</td>\n",
              "      <td>NaN</td>\n",
              "      <td>NaN</td>\n",
              "      <td>NaN</td>\n",
              "      <td>NaN</td>\n",
              "      <td>NaN</td>\n",
              "      <td>NaN</td>\n",
              "      <td>NaN</td>\n",
              "      <td>NaN</td>\n",
              "    </tr>\n",
              "    <tr>\n",
              "      <th>319</th>\n",
              "      <td>Votre poids est-il stable ?</td>\n",
              "      <td>[phrase]</td>\n",
              "      <td>[recnFsFSoE1DCjYqt]</td>\n",
              "      <td>P</td>\n",
              "      <td>phrase</td>\n",
              "      <td>NaN</td>\n",
              "      <td>NaN</td>\n",
              "      <td>[Médecine générale]</td>\n",
              "      <td>NaN</td>\n",
              "      <td>3</td>\n",
              "      <td>...</td>\n",
              "      <td>NaN</td>\n",
              "      <td>NaN</td>\n",
              "      <td>NaN</td>\n",
              "      <td>NaN</td>\n",
              "      <td>NaN</td>\n",
              "      <td>NaN</td>\n",
              "      <td>NaN</td>\n",
              "      <td>NaN</td>\n",
              "      <td>NaN</td>\n",
              "      <td>NaN</td>\n",
              "    </tr>\n",
              "  </tbody>\n",
              "</table>\n",
              "<p>64 rows × 39 columns</p>\n",
              "</div>\n",
              "      <button class=\"colab-df-convert\" onclick=\"convertToInteractive('df-f55aeecb-91ff-4920-b2ea-8a4d69a74e8c')\"\n",
              "              title=\"Convert this dataframe to an interactive table.\"\n",
              "              style=\"display:none;\">\n",
              "        \n",
              "  <svg xmlns=\"http://www.w3.org/2000/svg\" height=\"24px\"viewBox=\"0 0 24 24\"\n",
              "       width=\"24px\">\n",
              "    <path d=\"M0 0h24v24H0V0z\" fill=\"none\"/>\n",
              "    <path d=\"M18.56 5.44l.94 2.06.94-2.06 2.06-.94-2.06-.94-.94-2.06-.94 2.06-2.06.94zm-11 1L8.5 8.5l.94-2.06 2.06-.94-2.06-.94L8.5 2.5l-.94 2.06-2.06.94zm10 10l.94 2.06.94-2.06 2.06-.94-2.06-.94-.94-2.06-.94 2.06-2.06.94z\"/><path d=\"M17.41 7.96l-1.37-1.37c-.4-.4-.92-.59-1.43-.59-.52 0-1.04.2-1.43.59L10.3 9.45l-7.72 7.72c-.78.78-.78 2.05 0 2.83L4 21.41c.39.39.9.59 1.41.59.51 0 1.02-.2 1.41-.59l7.78-7.78 2.81-2.81c.8-.78.8-2.07 0-2.86zM5.41 20L4 18.59l7.72-7.72 1.47 1.35L5.41 20z\"/>\n",
              "  </svg>\n",
              "      </button>\n",
              "      \n",
              "  <style>\n",
              "    .colab-df-container {\n",
              "      display:flex;\n",
              "      flex-wrap:wrap;\n",
              "      gap: 12px;\n",
              "    }\n",
              "\n",
              "    .colab-df-convert {\n",
              "      background-color: #E8F0FE;\n",
              "      border: none;\n",
              "      border-radius: 50%;\n",
              "      cursor: pointer;\n",
              "      display: none;\n",
              "      fill: #1967D2;\n",
              "      height: 32px;\n",
              "      padding: 0 0 0 0;\n",
              "      width: 32px;\n",
              "    }\n",
              "\n",
              "    .colab-df-convert:hover {\n",
              "      background-color: #E2EBFA;\n",
              "      box-shadow: 0px 1px 2px rgba(60, 64, 67, 0.3), 0px 1px 3px 1px rgba(60, 64, 67, 0.15);\n",
              "      fill: #174EA6;\n",
              "    }\n",
              "\n",
              "    [theme=dark] .colab-df-convert {\n",
              "      background-color: #3B4455;\n",
              "      fill: #D2E3FC;\n",
              "    }\n",
              "\n",
              "    [theme=dark] .colab-df-convert:hover {\n",
              "      background-color: #434B5C;\n",
              "      box-shadow: 0px 1px 3px 1px rgba(0, 0, 0, 0.15);\n",
              "      filter: drop-shadow(0px 1px 2px rgba(0, 0, 0, 0.3));\n",
              "      fill: #FFFFFF;\n",
              "    }\n",
              "  </style>\n",
              "\n",
              "      <script>\n",
              "        const buttonEl =\n",
              "          document.querySelector('#df-f55aeecb-91ff-4920-b2ea-8a4d69a74e8c button.colab-df-convert');\n",
              "        buttonEl.style.display =\n",
              "          google.colab.kernel.accessAllowed ? 'block' : 'none';\n",
              "\n",
              "        async function convertToInteractive(key) {\n",
              "          const element = document.querySelector('#df-f55aeecb-91ff-4920-b2ea-8a4d69a74e8c');\n",
              "          const dataTable =\n",
              "            await google.colab.kernel.invokeFunction('convertToInteractive',\n",
              "                                                     [key], {});\n",
              "          if (!dataTable) return;\n",
              "\n",
              "          const docLinkHtml = 'Like what you see? Visit the ' +\n",
              "            '<a target=\"_blank\" href=https://colab.research.google.com/notebooks/data_table.ipynb>data table notebook</a>'\n",
              "            + ' to learn more about interactive tables.';\n",
              "          element.innerHTML = '';\n",
              "          dataTable['output_type'] = 'display_data';\n",
              "          await google.colab.output.renderOutput(dataTable, element);\n",
              "          const docLink = document.createElement('div');\n",
              "          docLink.innerHTML = docLinkHtml;\n",
              "          element.appendChild(docLink);\n",
              "        }\n",
              "      </script>\n",
              "    </div>\n",
              "  </div>\n",
              "  "
            ]
          },
          "metadata": {},
          "execution_count": 21
        }
      ]
    },
    {
      "cell_type": "markdown",
      "source": [
        "Rceherche des termes présents dans Central, présents dans AIRTBL mais sans UID"
      ],
      "metadata": {
        "id": "fXlfUrfdYIbI"
      }
    },
    {
      "cell_type": "code",
      "source": [
        "vk_at_trad = airtable.get_all(view='Traductions',sort='Proposition')\n",
        "df_vk_at_trad = pd.DataFrame.from_records((r['fields'] for r in vk_at_trad))\n",
        "df_vk_at_trad = df_vk_at_trad[[\"Proposition\",\"idx_cor\",\"UID\"]]\n",
        "df_vk_at_trad_notna = df_vk_at_trad.loc[pd.notna(df_vk_at_trad[\"UID\"])]\n",
        "df_vk_at_trad_na = df_vk_at_trad.loc[pd.isna(df_vk_at_trad[\"UID\"])]"
      ],
      "metadata": {
        "id": "K3gKCepieMIQ"
      },
      "execution_count": null,
      "outputs": []
    },
    {
      "cell_type": "markdown",
      "source": [
        "### merge côté AT : avec les UID présents "
      ],
      "metadata": {
        "id": "INb1Du8CtbBR"
      }
    },
    {
      "cell_type": "code",
      "source": [
        "df_merged = pd.merge(df_cc_global, df_vk_at_trad_notna, how=\"right\", left_on='uid', right_on='UID')"
      ],
      "metadata": {
        "id": "WmQoZ0pvgZtQ"
      },
      "execution_count": null,
      "outputs": []
    },
    {
      "cell_type": "markdown",
      "source": [
        "## On complète avec les traductions"
      ],
      "metadata": {
        "id": "ldztSIEztkja"
      }
    },
    {
      "cell_type": "code",
      "source": [
        "for index, row in df_merged.iterrows():\n",
        "  if row[\"uid\"] is not None:\n",
        "    record = airtable.match('UID', row[\"uid\"])\n",
        "    aDict = {}\n",
        "    for i in vk_languages:\n",
        "      key = i[\"trigramme\"]\n",
        "      aDict[key] = row[key]\n",
        "      #print (record['id'] +\" \" + row[\"eng\"])\n",
        "    airtable.update(record['id'], aDict)\n"
      ],
      "metadata": {
        "id": "--ive2GSiBtb"
      },
      "execution_count": null,
      "outputs": []
    },
    {
      "cell_type": "markdown",
      "source": [
        "## On complète avec les UID manquants"
      ],
      "metadata": {
        "id": "TDC5UPAZtj7e"
      }
    },
    {
      "cell_type": "code",
      "source": [
        "df_vk_at_trad_na"
      ],
      "metadata": {
        "id": "AcFNN2eIuIog"
      },
      "execution_count": null,
      "outputs": []
    },
    {
      "cell_type": "code",
      "source": [
        "df_merged = pd.merge(df_cc_global, df_vk_at_trad_na, how=\"right\", left_on='expression', right_on='Proposition')"
      ],
      "metadata": {
        "id": "8t7rvIBUtvJu"
      },
      "execution_count": null,
      "outputs": []
    },
    {
      "cell_type": "code",
      "source": [
        "df_merged = df_merged.loc[pd.notna(df_merged[\"uid\"])]"
      ],
      "metadata": {
        "id": "6ahCm4WCufpQ"
      },
      "execution_count": null,
      "outputs": []
    },
    {
      "cell_type": "code",
      "source": [
        "for index, row in df_merged.iterrows():\n",
        "  if row[\"uid\"] is not None:\n",
        "    record = airtable.match('Proposition', row[\"expression\"])\n",
        "    aDict = {}\n",
        "    key = \"UID\"\n",
        "    aDict[key] = row[\"uid\"]\n",
        "    for i in vk_languages:\n",
        "      key = i[\"trigramme\"]\n",
        "      aDict[key] = row[key]\n",
        "      #print (record['id'] +\" \" + row[\"eng\"])\n",
        "    airtable.update(record['id'], aDict)"
      ],
      "metadata": {
        "id": "cOtC1mTRvf4b"
      },
      "execution_count": null,
      "outputs": []
    },
    {
      "cell_type": "markdown",
      "source": [
        "## On vide toute la base AT dans Central Consolidation"
      ],
      "metadata": {
        "id": "DS-bEnO8wWdd"
      }
    },
    {
      "cell_type": "code",
      "source": [
        "vk_at = airtable.get_all(view='Admin',sort='Proposition')\n",
        "df_vkat = pd.DataFrame.from_records((r['fields'] for r in vk_at))"
      ],
      "metadata": {
        "id": "E0Ohsqdnyic-"
      },
      "execution_count": null,
      "outputs": []
    },
    {
      "cell_type": "code",
      "source": [
        "# Corpus_consolidation\n",
        "uri = \"https://docs.google.com/spreadsheets/d/1cSnSnnQunL-I7hpyYkIqbtuGr55unVJ3Qe8URSrjTr8/edit?usp=sharing\"\n",
        "\n",
        "wb = get_CCDB_wb(uri)\n",
        "db_cc = get_CCDB_data (wb, 0)\n",
        "\n",
        "nom_onglet = 'Termes'\n",
        "# si l'onglet existe déjà\n",
        "try:\n",
        "  ws = wb.worksheet(nom_onglet)\n",
        "  wb.del_worksheet(ws)\n",
        "except:\n",
        "  print (\"Onglet inexistant !\")\n",
        "\n",
        "wb.add_worksheet(nom_onglet, 1, 1)\n",
        "export_sheet = wb.worksheet(nom_onglet)\n",
        "set_with_dataframe(export_sheet, df_vkat)\n",
        "\n"
      ],
      "metadata": {
        "id": "jwPPFWmSxrsj"
      },
      "execution_count": null,
      "outputs": []
    },
    {
      "cell_type": "markdown",
      "source": [
        "END"
      ],
      "metadata": {
        "id": "GrpHI9nesnIY"
      }
    },
    {
      "cell_type": "code",
      "source": [
        "record = airtable.match('UID', '30579682')\n",
        "fields = {'eng': 'Accident'}\n",
        "airtable.update(record['id'], fields)"
      ],
      "metadata": {
        "colab": {
          "base_uri": "https://localhost:8080/"
        },
        "id": "i4bxE6U-dJLn",
        "outputId": "2d304bb3-bd16-4af0-e266-ea21e647b4bf"
      },
      "execution_count": null,
      "outputs": [
        {
          "output_type": "execute_result",
          "data": {
            "text/plain": [
              "{'createdTime': '2021-12-10T08:47:48.000Z',\n",
              " 'fields': {'CATEGRAM': ['nm'],\n",
              "  'Name ID': 'recGaRQGjV5qN3QBN',\n",
              "  'Proposition': 'Accident',\n",
              "  'TYPE': 'vocabulaire',\n",
              "  'Thématique': 'Vaccination',\n",
              "  'UID': '30579682',\n",
              "  'VOCABULAIRE': 'Général',\n",
              "  'eng': 'Accident',\n",
              "  'idx': 'A',\n",
              "  'idx_cor': 'A'},\n",
              " 'id': 'recGaRQGjV5qN3QBN'}"
            ]
          },
          "metadata": {},
          "execution_count": 39
        }
      ]
    },
    {
      "cell_type": "code",
      "source": [
        "record"
      ],
      "metadata": {
        "colab": {
          "base_uri": "https://localhost:8080/"
        },
        "id": "FVhleF-qdP8m",
        "outputId": "6842713c-df5e-40c3-d9ac-94d4b4bb4b4c"
      },
      "execution_count": null,
      "outputs": [
        {
          "output_type": "execute_result",
          "data": {
            "text/plain": [
              "{'createdTime': '2021-12-10T08:47:48.000Z',\n",
              " 'fields': {'CATEGRAM': ['nm'],\n",
              "  'Name ID': 'recGaRQGjV5qN3QBN',\n",
              "  'Proposition': 'Accident',\n",
              "  'TYPE': 'vocabulaire',\n",
              "  'Thématique': 'Vaccination',\n",
              "  'UID': '30579682',\n",
              "  'VOCABULAIRE': 'Général',\n",
              "  'idx': 'A',\n",
              "  'idx_cor': 'A'},\n",
              " 'id': 'recGaRQGjV5qN3QBN'}"
            ]
          },
          "metadata": {},
          "execution_count": 33
        }
      ]
    },
    {
      "cell_type": "code",
      "metadata": {
        "id": "9yIqVmuF5sLc"
      },
      "source": [
        "def airtable_table_get(uri, params, headers):\n",
        "  airtable_records = []\n",
        "  run = True\n",
        "  while run is True:\n",
        "    response = requests.get(uri, params=params, headers=headers)\n",
        "    airtable_response = response.json()\n",
        "    airtable_records += (airtable_response['records'])\n",
        "    if 'offset' in airtable_response:\n",
        "      run = True\n",
        "      params = (('offset', airtable_response['offset']),)\n",
        "    else:\n",
        "      run = False\n",
        "  return airtable_records"
      ],
      "execution_count": null,
      "outputs": []
    },
    {
      "cell_type": "markdown",
      "metadata": {
        "id": "Td15VBcoLa2f"
      },
      "source": [
        "# Table Corpus"
      ]
    },
    {
      "cell_type": "code",
      "metadata": {
        "id": "7Vt-ZR-AJlzP"
      },
      "source": [
        "\n",
        "url = \"https://api.airtable.com/v0/\" + base_id + \"/\" + table_name\n"
      ],
      "execution_count": null,
      "outputs": []
    },
    {
      "cell_type": "markdown",
      "metadata": {
        "id": "ViCvTpxuBHoz"
      },
      "source": [
        "### On lit tous les enregistrements, puis on met dans un dataframe"
      ]
    },
    {
      "cell_type": "code",
      "metadata": {
        "id": "l8xZ5LY6MLFl"
      },
      "source": [
        "airtable_records = airtable_table_get(url, params, headers)\n",
        "\n",
        "airtable_rows = [] \n",
        "airtable_index = []\n",
        "for record in airtable_records:\n",
        "  airtable_rows.append(record['fields'])\n",
        "  airtable_index.append(record['id'])\n",
        "df = pd.DataFrame(airtable_rows, index=airtable_index)\n",
        "df = df [['Proposition','UID', 'Name ID', 'DEPENDANCE', 'idx', 'idx_cor','Statut','Thématique']]\n",
        "df.sort_values(by=['Proposition'], ascending=True, inplace=True)"
      ],
      "execution_count": null,
      "outputs": []
    },
    {
      "cell_type": "code",
      "source": [
        "df.head(10)"
      ],
      "metadata": {
        "colab": {
          "base_uri": "https://localhost:8080/",
          "height": 363
        },
        "id": "6mXBIWjy1qNA",
        "outputId": "157f2898-0e0d-48e6-ec4a-7aa85789b3c5"
      },
      "execution_count": null,
      "outputs": [
        {
          "output_type": "execute_result",
          "data": {
            "text/html": [
              "\n",
              "  <div id=\"df-22447ca0-0f23-457d-8f2b-09b219e4cba2\">\n",
              "    <div class=\"colab-df-container\">\n",
              "      <div>\n",
              "<style scoped>\n",
              "    .dataframe tbody tr th:only-of-type {\n",
              "        vertical-align: middle;\n",
              "    }\n",
              "\n",
              "    .dataframe tbody tr th {\n",
              "        vertical-align: top;\n",
              "    }\n",
              "\n",
              "    .dataframe thead th {\n",
              "        text-align: right;\n",
              "    }\n",
              "</style>\n",
              "<table border=\"1\" class=\"dataframe\">\n",
              "  <thead>\n",
              "    <tr style=\"text-align: right;\">\n",
              "      <th></th>\n",
              "      <th>Proposition</th>\n",
              "      <th>UID</th>\n",
              "      <th>Name ID</th>\n",
              "      <th>DEPENDANCE</th>\n",
              "      <th>idx</th>\n",
              "      <th>idx_cor</th>\n",
              "      <th>Statut</th>\n",
              "      <th>Thématique</th>\n",
              "    </tr>\n",
              "  </thead>\n",
              "  <tbody>\n",
              "    <tr>\n",
              "      <th>recKbPHqDTXNPwYK0</th>\n",
              "      <td>A jeun</td>\n",
              "      <td>f397cda1</td>\n",
              "      <td>recKbPHqDTXNPwYK0</td>\n",
              "      <td>NaN</td>\n",
              "      <td>J</td>\n",
              "      <td>J</td>\n",
              "      <td>NaN</td>\n",
              "      <td>Vaccination</td>\n",
              "    </tr>\n",
              "    <tr>\n",
              "      <th>rec1qTnfWxjhx6SBl</th>\n",
              "      <td>AME - Aide médicale d'État</td>\n",
              "      <td>f49563a9</td>\n",
              "      <td>rec1qTnfWxjhx6SBl</td>\n",
              "      <td>NaN</td>\n",
              "      <td>A</td>\n",
              "      <td>A</td>\n",
              "      <td>NaN</td>\n",
              "      <td>Vaccination</td>\n",
              "    </tr>\n",
              "    <tr>\n",
              "      <th>rec0HgtD22F7TWM3W</th>\n",
              "      <td>Abcès</td>\n",
              "      <td>6e65dde7</td>\n",
              "      <td>rec0HgtD22F7TWM3W</td>\n",
              "      <td>NaN</td>\n",
              "      <td>A</td>\n",
              "      <td>A</td>\n",
              "      <td>NaN</td>\n",
              "      <td>Médecine générale</td>\n",
              "    </tr>\n",
              "    <tr>\n",
              "      <th>recGaRQGjV5qN3QBN</th>\n",
              "      <td>Accident</td>\n",
              "      <td>30579682</td>\n",
              "      <td>recGaRQGjV5qN3QBN</td>\n",
              "      <td>NaN</td>\n",
              "      <td>A</td>\n",
              "      <td>A</td>\n",
              "      <td>NaN</td>\n",
              "      <td>Vaccination</td>\n",
              "    </tr>\n",
              "    <tr>\n",
              "      <th>rec3MxDq67MC982ng</th>\n",
              "      <td>Accident cérébral</td>\n",
              "      <td>6f214e4c</td>\n",
              "      <td>rec3MxDq67MC982ng</td>\n",
              "      <td>[recGaRQGjV5qN3QBN]</td>\n",
              "      <td>A</td>\n",
              "      <td>A</td>\n",
              "      <td>NaN</td>\n",
              "      <td>Vaccination</td>\n",
              "    </tr>\n",
              "    <tr>\n",
              "      <th>reciexfGbNKvXzQg8</th>\n",
              "      <td>Alcool</td>\n",
              "      <td>NaN</td>\n",
              "      <td>reciexfGbNKvXzQg8</td>\n",
              "      <td>NaN</td>\n",
              "      <td>A</td>\n",
              "      <td>A</td>\n",
              "      <td>NaN</td>\n",
              "      <td>Médecine générale</td>\n",
              "    </tr>\n",
              "    <tr>\n",
              "      <th>recfY4uKkgK8Jp8GO</th>\n",
              "      <td>Allergie</td>\n",
              "      <td>8b195cf4</td>\n",
              "      <td>recfY4uKkgK8Jp8GO</td>\n",
              "      <td>NaN</td>\n",
              "      <td>A</td>\n",
              "      <td>A</td>\n",
              "      <td>NaN</td>\n",
              "      <td>Vaccination</td>\n",
              "    </tr>\n",
              "    <tr>\n",
              "      <th>recSKSrXVLhDfMq6w</th>\n",
              "      <td>Allergie alimentaire</td>\n",
              "      <td>f754eebf</td>\n",
              "      <td>recSKSrXVLhDfMq6w</td>\n",
              "      <td>[recfY4uKkgK8Jp8GO]</td>\n",
              "      <td>A</td>\n",
              "      <td>A</td>\n",
              "      <td>NaN</td>\n",
              "      <td>Vaccination</td>\n",
              "    </tr>\n",
              "    <tr>\n",
              "      <th>rectthHdPchXi1zr9</th>\n",
              "      <td>Allergie médicamenteuse</td>\n",
              "      <td>7256c169</td>\n",
              "      <td>rectthHdPchXi1zr9</td>\n",
              "      <td>[recfY4uKkgK8Jp8GO, recOivQOmeragygVr]</td>\n",
              "      <td>A</td>\n",
              "      <td>A</td>\n",
              "      <td>NaN</td>\n",
              "      <td>Vaccination</td>\n",
              "    </tr>\n",
              "    <tr>\n",
              "      <th>recHNzXfvWWm0Lwp8</th>\n",
              "      <td>Allergie à un médicament</td>\n",
              "      <td>316fa7ab</td>\n",
              "      <td>recHNzXfvWWm0Lwp8</td>\n",
              "      <td>[recfY4uKkgK8Jp8GO, recOivQOmeragygVr]</td>\n",
              "      <td>A</td>\n",
              "      <td>A</td>\n",
              "      <td>NaN</td>\n",
              "      <td>Vaccination</td>\n",
              "    </tr>\n",
              "  </tbody>\n",
              "</table>\n",
              "</div>\n",
              "      <button class=\"colab-df-convert\" onclick=\"convertToInteractive('df-22447ca0-0f23-457d-8f2b-09b219e4cba2')\"\n",
              "              title=\"Convert this dataframe to an interactive table.\"\n",
              "              style=\"display:none;\">\n",
              "        \n",
              "  <svg xmlns=\"http://www.w3.org/2000/svg\" height=\"24px\"viewBox=\"0 0 24 24\"\n",
              "       width=\"24px\">\n",
              "    <path d=\"M0 0h24v24H0V0z\" fill=\"none\"/>\n",
              "    <path d=\"M18.56 5.44l.94 2.06.94-2.06 2.06-.94-2.06-.94-.94-2.06-.94 2.06-2.06.94zm-11 1L8.5 8.5l.94-2.06 2.06-.94-2.06-.94L8.5 2.5l-.94 2.06-2.06.94zm10 10l.94 2.06.94-2.06 2.06-.94-2.06-.94-.94-2.06-.94 2.06-2.06.94z\"/><path d=\"M17.41 7.96l-1.37-1.37c-.4-.4-.92-.59-1.43-.59-.52 0-1.04.2-1.43.59L10.3 9.45l-7.72 7.72c-.78.78-.78 2.05 0 2.83L4 21.41c.39.39.9.59 1.41.59.51 0 1.02-.2 1.41-.59l7.78-7.78 2.81-2.81c.8-.78.8-2.07 0-2.86zM5.41 20L4 18.59l7.72-7.72 1.47 1.35L5.41 20z\"/>\n",
              "  </svg>\n",
              "      </button>\n",
              "      \n",
              "  <style>\n",
              "    .colab-df-container {\n",
              "      display:flex;\n",
              "      flex-wrap:wrap;\n",
              "      gap: 12px;\n",
              "    }\n",
              "\n",
              "    .colab-df-convert {\n",
              "      background-color: #E8F0FE;\n",
              "      border: none;\n",
              "      border-radius: 50%;\n",
              "      cursor: pointer;\n",
              "      display: none;\n",
              "      fill: #1967D2;\n",
              "      height: 32px;\n",
              "      padding: 0 0 0 0;\n",
              "      width: 32px;\n",
              "    }\n",
              "\n",
              "    .colab-df-convert:hover {\n",
              "      background-color: #E2EBFA;\n",
              "      box-shadow: 0px 1px 2px rgba(60, 64, 67, 0.3), 0px 1px 3px 1px rgba(60, 64, 67, 0.15);\n",
              "      fill: #174EA6;\n",
              "    }\n",
              "\n",
              "    [theme=dark] .colab-df-convert {\n",
              "      background-color: #3B4455;\n",
              "      fill: #D2E3FC;\n",
              "    }\n",
              "\n",
              "    [theme=dark] .colab-df-convert:hover {\n",
              "      background-color: #434B5C;\n",
              "      box-shadow: 0px 1px 3px 1px rgba(0, 0, 0, 0.15);\n",
              "      filter: drop-shadow(0px 1px 2px rgba(0, 0, 0, 0.3));\n",
              "      fill: #FFFFFF;\n",
              "    }\n",
              "  </style>\n",
              "\n",
              "      <script>\n",
              "        const buttonEl =\n",
              "          document.querySelector('#df-22447ca0-0f23-457d-8f2b-09b219e4cba2 button.colab-df-convert');\n",
              "        buttonEl.style.display =\n",
              "          google.colab.kernel.accessAllowed ? 'block' : 'none';\n",
              "\n",
              "        async function convertToInteractive(key) {\n",
              "          const element = document.querySelector('#df-22447ca0-0f23-457d-8f2b-09b219e4cba2');\n",
              "          const dataTable =\n",
              "            await google.colab.kernel.invokeFunction('convertToInteractive',\n",
              "                                                     [key], {});\n",
              "          if (!dataTable) return;\n",
              "\n",
              "          const docLinkHtml = 'Like what you see? Visit the ' +\n",
              "            '<a target=\"_blank\" href=https://colab.research.google.com/notebooks/data_table.ipynb>data table notebook</a>'\n",
              "            + ' to learn more about interactive tables.';\n",
              "          element.innerHTML = '';\n",
              "          dataTable['output_type'] = 'display_data';\n",
              "          await google.colab.output.renderOutput(dataTable, element);\n",
              "          const docLink = document.createElement('div');\n",
              "          docLink.innerHTML = docLinkHtml;\n",
              "          element.appendChild(docLink);\n",
              "        }\n",
              "      </script>\n",
              "    </div>\n",
              "  </div>\n",
              "  "
            ],
            "text/plain": [
              "                                  Proposition  ...         Thématique\n",
              "recKbPHqDTXNPwYK0                      A jeun  ...        Vaccination\n",
              "rec1qTnfWxjhx6SBl  AME - Aide médicale d'État  ...        Vaccination\n",
              "rec0HgtD22F7TWM3W                       Abcès  ...  Médecine générale\n",
              "recGaRQGjV5qN3QBN                    Accident  ...        Vaccination\n",
              "rec3MxDq67MC982ng           Accident cérébral  ...        Vaccination\n",
              "reciexfGbNKvXzQg8                      Alcool  ...  Médecine générale\n",
              "recfY4uKkgK8Jp8GO                    Allergie  ...        Vaccination\n",
              "recSKSrXVLhDfMq6w        Allergie alimentaire  ...        Vaccination\n",
              "rectthHdPchXi1zr9     Allergie médicamenteuse  ...        Vaccination\n",
              "recHNzXfvWWm0Lwp8    Allergie à un médicament  ...        Vaccination\n",
              "\n",
              "[10 rows x 8 columns]"
            ]
          },
          "metadata": {},
          "execution_count": 53
        }
      ]
    },
    {
      "cell_type": "code",
      "source": [
        "def lookup_uid (uid):\n",
        "  try:\n",
        "    record = df_cc_fr.loc[df_cc_fr[\"uid\"]==uid][\"index\"].item()\n",
        "  except Exception as e:\n",
        "    list_no_uid.append(uid)\n",
        "    return uid\n",
        "  if record is not None:\n",
        "    return record"
      ],
      "metadata": {
        "id": "BxowEm56s5S7"
      },
      "execution_count": null,
      "outputs": []
    },
    {
      "cell_type": "code",
      "source": [
        "x = df_cc_fr.loc[df_cc_fr[\"uid\"]==\"72f0e8db\"][\"index\"].item()"
      ],
      "metadata": {
        "id": "Up-l6grOtVx0"
      },
      "execution_count": null,
      "outputs": []
    },
    {
      "cell_type": "code",
      "source": [
        "list_no_uid = [] # uid non présents côté central = mots à créer\n",
        "df['UID'] = df['UID'].apply(lambda x: make_unique_id() if pd.isna(x) else x)\n",
        "df.idx_cor = df['UID'].apply(lambda x: lookup_uid(x))"
      ],
      "metadata": {
        "id": "ezaiOPYlx9Mg"
      },
      "execution_count": null,
      "outputs": []
    },
    {
      "cell_type": "markdown",
      "source": [
        "convert the dataframe to a dictionary of dictionaries."
      ],
      "metadata": {
        "id": "ki6AHtiKT7L6"
      }
    },
    {
      "cell_type": "code",
      "source": [
        "df.tail()"
      ],
      "metadata": {
        "colab": {
          "base_uri": "https://localhost:8080/",
          "height": 206
        },
        "id": "Np075CkxXZNq",
        "outputId": "74f61a36-bead-4913-e5d2-1fd294c90fe7"
      },
      "execution_count": null,
      "outputs": [
        {
          "output_type": "execute_result",
          "data": {
            "text/html": [
              "\n",
              "  <div id=\"df-c6325ba4-794c-4b44-8943-a1e2fcc92c87\">\n",
              "    <div class=\"colab-df-container\">\n",
              "      <div>\n",
              "<style scoped>\n",
              "    .dataframe tbody tr th:only-of-type {\n",
              "        vertical-align: middle;\n",
              "    }\n",
              "\n",
              "    .dataframe tbody tr th {\n",
              "        vertical-align: top;\n",
              "    }\n",
              "\n",
              "    .dataframe thead th {\n",
              "        text-align: right;\n",
              "    }\n",
              "</style>\n",
              "<table border=\"1\" class=\"dataframe\">\n",
              "  <thead>\n",
              "    <tr style=\"text-align: right;\">\n",
              "      <th></th>\n",
              "      <th>Proposition</th>\n",
              "      <th>UID</th>\n",
              "      <th>Name ID</th>\n",
              "      <th>DEPENDANCE</th>\n",
              "      <th>idx</th>\n",
              "      <th>idx_cor</th>\n",
              "      <th>Statut</th>\n",
              "      <th>Thématique</th>\n",
              "    </tr>\n",
              "  </thead>\n",
              "  <tbody>\n",
              "    <tr>\n",
              "      <th>recia1L6nICYg6LJ8</th>\n",
              "      <td>Zona</td>\n",
              "      <td>d3dba8e4</td>\n",
              "      <td>recia1L6nICYg6LJ8</td>\n",
              "      <td>NaN</td>\n",
              "      <td>NaN</td>\n",
              "      <td>Z</td>\n",
              "      <td>NaN</td>\n",
              "      <td>Vaccination</td>\n",
              "    </tr>\n",
              "    <tr>\n",
              "      <th>recVvIHdNWf80zvsG</th>\n",
              "      <td>À quelle moment de la journée vous prenez le m...</td>\n",
              "      <td>0f86d1ef</td>\n",
              "      <td>recVvIHdNWf80zvsG</td>\n",
              "      <td>[recOivQOmeragygVr]</td>\n",
              "      <td>M</td>\n",
              "      <td>0f86d1ef</td>\n",
              "      <td>Ramona</td>\n",
              "      <td>Médecine générale</td>\n",
              "    </tr>\n",
              "    <tr>\n",
              "      <th>recWp0rajm2qKcJuF</th>\n",
              "      <td>Êtes vous vacciné (e) ?</td>\n",
              "      <td>c5df267a</td>\n",
              "      <td>recWp0rajm2qKcJuF</td>\n",
              "      <td>NaN</td>\n",
              "      <td>NaN</td>\n",
              "      <td>Ê</td>\n",
              "      <td>NaN</td>\n",
              "      <td>Médecine générale</td>\n",
              "    </tr>\n",
              "    <tr>\n",
              "      <th>recBY5NXGM8UtBcaX</th>\n",
              "      <td>Êtes-vous enceinte ?</td>\n",
              "      <td>7768882c</td>\n",
              "      <td>recBY5NXGM8UtBcaX</td>\n",
              "      <td>NaN</td>\n",
              "      <td>NaN</td>\n",
              "      <td>Ê</td>\n",
              "      <td>NaN</td>\n",
              "      <td>Médecine générale</td>\n",
              "    </tr>\n",
              "    <tr>\n",
              "      <th>reczy8Os5Hc3qZ1yA</th>\n",
              "      <td>Œdème</td>\n",
              "      <td>72f0e8db</td>\n",
              "      <td>reczy8Os5Hc3qZ1yA</td>\n",
              "      <td>NaN</td>\n",
              "      <td>NaN</td>\n",
              "      <td>Œ</td>\n",
              "      <td>NaN</td>\n",
              "      <td>Médecine générale</td>\n",
              "    </tr>\n",
              "  </tbody>\n",
              "</table>\n",
              "</div>\n",
              "      <button class=\"colab-df-convert\" onclick=\"convertToInteractive('df-c6325ba4-794c-4b44-8943-a1e2fcc92c87')\"\n",
              "              title=\"Convert this dataframe to an interactive table.\"\n",
              "              style=\"display:none;\">\n",
              "        \n",
              "  <svg xmlns=\"http://www.w3.org/2000/svg\" height=\"24px\"viewBox=\"0 0 24 24\"\n",
              "       width=\"24px\">\n",
              "    <path d=\"M0 0h24v24H0V0z\" fill=\"none\"/>\n",
              "    <path d=\"M18.56 5.44l.94 2.06.94-2.06 2.06-.94-2.06-.94-.94-2.06-.94 2.06-2.06.94zm-11 1L8.5 8.5l.94-2.06 2.06-.94-2.06-.94L8.5 2.5l-.94 2.06-2.06.94zm10 10l.94 2.06.94-2.06 2.06-.94-2.06-.94-.94-2.06-.94 2.06-2.06.94z\"/><path d=\"M17.41 7.96l-1.37-1.37c-.4-.4-.92-.59-1.43-.59-.52 0-1.04.2-1.43.59L10.3 9.45l-7.72 7.72c-.78.78-.78 2.05 0 2.83L4 21.41c.39.39.9.59 1.41.59.51 0 1.02-.2 1.41-.59l7.78-7.78 2.81-2.81c.8-.78.8-2.07 0-2.86zM5.41 20L4 18.59l7.72-7.72 1.47 1.35L5.41 20z\"/>\n",
              "  </svg>\n",
              "      </button>\n",
              "      \n",
              "  <style>\n",
              "    .colab-df-container {\n",
              "      display:flex;\n",
              "      flex-wrap:wrap;\n",
              "      gap: 12px;\n",
              "    }\n",
              "\n",
              "    .colab-df-convert {\n",
              "      background-color: #E8F0FE;\n",
              "      border: none;\n",
              "      border-radius: 50%;\n",
              "      cursor: pointer;\n",
              "      display: none;\n",
              "      fill: #1967D2;\n",
              "      height: 32px;\n",
              "      padding: 0 0 0 0;\n",
              "      width: 32px;\n",
              "    }\n",
              "\n",
              "    .colab-df-convert:hover {\n",
              "      background-color: #E2EBFA;\n",
              "      box-shadow: 0px 1px 2px rgba(60, 64, 67, 0.3), 0px 1px 3px 1px rgba(60, 64, 67, 0.15);\n",
              "      fill: #174EA6;\n",
              "    }\n",
              "\n",
              "    [theme=dark] .colab-df-convert {\n",
              "      background-color: #3B4455;\n",
              "      fill: #D2E3FC;\n",
              "    }\n",
              "\n",
              "    [theme=dark] .colab-df-convert:hover {\n",
              "      background-color: #434B5C;\n",
              "      box-shadow: 0px 1px 3px 1px rgba(0, 0, 0, 0.15);\n",
              "      filter: drop-shadow(0px 1px 2px rgba(0, 0, 0, 0.3));\n",
              "      fill: #FFFFFF;\n",
              "    }\n",
              "  </style>\n",
              "\n",
              "      <script>\n",
              "        const buttonEl =\n",
              "          document.querySelector('#df-c6325ba4-794c-4b44-8943-a1e2fcc92c87 button.colab-df-convert');\n",
              "        buttonEl.style.display =\n",
              "          google.colab.kernel.accessAllowed ? 'block' : 'none';\n",
              "\n",
              "        async function convertToInteractive(key) {\n",
              "          const element = document.querySelector('#df-c6325ba4-794c-4b44-8943-a1e2fcc92c87');\n",
              "          const dataTable =\n",
              "            await google.colab.kernel.invokeFunction('convertToInteractive',\n",
              "                                                     [key], {});\n",
              "          if (!dataTable) return;\n",
              "\n",
              "          const docLinkHtml = 'Like what you see? Visit the ' +\n",
              "            '<a target=\"_blank\" href=https://colab.research.google.com/notebooks/data_table.ipynb>data table notebook</a>'\n",
              "            + ' to learn more about interactive tables.';\n",
              "          element.innerHTML = '';\n",
              "          dataTable['output_type'] = 'display_data';\n",
              "          await google.colab.output.renderOutput(dataTable, element);\n",
              "          const docLink = document.createElement('div');\n",
              "          docLink.innerHTML = docLinkHtml;\n",
              "          element.appendChild(docLink);\n",
              "        }\n",
              "      </script>\n",
              "    </div>\n",
              "  </div>\n",
              "  "
            ],
            "text/plain": [
              "                                                         Proposition  ...         Thématique\n",
              "recia1L6nICYg6LJ8                                               Zona  ...        Vaccination\n",
              "recVvIHdNWf80zvsG  À quelle moment de la journée vous prenez le m...  ...  Médecine générale\n",
              "recWp0rajm2qKcJuF                            Êtes vous vacciné (e) ?  ...  Médecine générale\n",
              "recBY5NXGM8UtBcaX                               Êtes-vous enceinte ?  ...  Médecine générale\n",
              "reczy8Os5Hc3qZ1yA                                              Œdème  ...  Médecine générale\n",
              "\n",
              "[5 rows x 8 columns]"
            ]
          },
          "metadata": {},
          "execution_count": 29
        }
      ]
    },
    {
      "cell_type": "code",
      "source": [
        "dict_records = df.tail().to_dict(orient=\"index\")"
      ],
      "metadata": {
        "id": "oyRHDXzvTHjA"
      },
      "execution_count": null,
      "outputs": []
    },
    {
      "cell_type": "code",
      "source": [
        "for record_id, upload_data in dict_records.items():\n",
        "  record_url = url + \"/\" + record_id\n",
        "  upload_dict = {\"records\" : [{\"fields\" : upload_data}]}\n",
        "  upload_json = json.dumps(upload_dict)\n",
        "  requests.post(url, data=upload_json, headers=headers)"
      ],
      "metadata": {
        "id": "5XBfgW3PUrdN"
      },
      "execution_count": null,
      "outputs": []
    },
    {
      "cell_type": "code",
      "source": [
        "headers"
      ],
      "metadata": {
        "colab": {
          "base_uri": "https://localhost:8080/"
        },
        "id": "mbWEXLZUcxSM",
        "outputId": "326a70ec-87e8-456c-c5ff-50757bd4f8cd"
      },
      "execution_count": null,
      "outputs": [
        {
          "output_type": "execute_result",
          "data": {
            "text/plain": [
              "{'Authorization': 'Bearer keyrI98TIqu6mbFcf',\n",
              " 'Content-Type': 'application/json'}"
            ]
          },
          "metadata": {},
          "execution_count": 55
        }
      ]
    },
    {
      "cell_type": "code",
      "source": [
        "requests.patch(url, data=upload_json, headers=headers)"
      ],
      "metadata": {
        "colab": {
          "base_uri": "https://localhost:8080/"
        },
        "id": "o8n3oC8sXz_q",
        "outputId": "59ca8181-c67e-413c-9303-4a95a1bb0cb3"
      },
      "execution_count": null,
      "outputs": [
        {
          "output_type": "execute_result",
          "data": {
            "text/plain": [
              "<Response [422]>"
            ]
          },
          "metadata": {},
          "execution_count": 67
        }
      ]
    },
    {
      "cell_type": "code",
      "source": [
        "upload_json='{\"records\": [{\"fields\": {\"Proposition\": \"OEDEME\", \"id\": \"reczy8Os5Hc3qZ1yA\"}}]}'"
      ],
      "metadata": {
        "id": "4z1Tka3Het97"
      },
      "execution_count": null,
      "outputs": []
    },
    {
      "cell_type": "code",
      "source": [
        "requests.post(record_url, data=upload_json, headers=headers)"
      ],
      "metadata": {
        "colab": {
          "base_uri": "https://localhost:8080/"
        },
        "id": "kz8cAEx3WRM6",
        "outputId": "d7947213-1e29-4af2-ed81-713ad4be7262"
      },
      "execution_count": null,
      "outputs": [
        {
          "output_type": "execute_result",
          "data": {
            "text/plain": [
              "<Response [404]>"
            ]
          },
          "metadata": {},
          "execution_count": 69
        }
      ]
    },
    {
      "cell_type": "code",
      "metadata": {
        "id": "ZDtjJZDO-REI"
      },
      "source": [
        "def fmt_table(wb, nom_onglet):\n",
        "  # onglet\n",
        "  ws = wb.worksheet(nom_onglet)\n",
        "\n",
        "  # Format de la partie gauche\n",
        "  fmt = cellFormat(\n",
        "      backgroundColor=color(0.91, 0.96, 0.93),\n",
        "      textFormat=textFormat(bold=False, foregroundColor=color(0,0,0), fontSize='10'),\n",
        "      horizontalAlignment='LEFT'\n",
        "      )\n",
        "  format_cell_range(ws, 'A:', fmt)\n",
        "\n",
        "  # format de l'entete\n",
        "  fmt = cellFormat(\n",
        "      backgroundColor=color(0.7725,0.8431,0.7922),\n",
        "      textFormat=textFormat(bold=True, foregroundColor=color(0,0,0), fontSize='10'),\n",
        "      horizontalAlignment='LEFT'\n",
        "      )\n",
        "  format_cell_range(ws, '1', fmt)\n",
        "  \n",
        "  # format de l'auto wrap\n",
        "  fmt = cellFormat(\n",
        "      wrapStrategy='WRAP'\n",
        "      )\n",
        "  format_cell_range(ws, 'B:C', fmt)\n",
        "\n",
        "  # on gèle l'entete et les colonnes de gauche\n",
        "  set_frozen(ws, rows=1, cols=1)\n",
        "  set_column_width(ws, 'A:C', 500)\n"
      ],
      "execution_count": null,
      "outputs": []
    },
    {
      "cell_type": "code",
      "metadata": {
        "id": "CsC901Jt9y3L"
      },
      "source": [
        "nom_onglet = 'Liste'\n",
        "# si l'onglet existe déjà\n",
        "try:\n",
        "  ws = wb.worksheet(nom_onglet)\n",
        "  wb.del_worksheet(ws)\n",
        "except:\n",
        "  print (\"Onglet inexistant !\")\n",
        "\n",
        "wb.add_worksheet(nom_onglet, 1, 1)\n",
        "export_sheet = wb.worksheet(nom_onglet)\n",
        "set_with_dataframe(export_sheet, df)\n",
        "fmt_table(wb,nom_onglet)\n"
      ],
      "execution_count": null,
      "outputs": []
    },
    {
      "cell_type": "code",
      "metadata": {
        "id": "UKh-k1rvN46E"
      },
      "source": [
        "table_name = 'Structure'\n",
        "url = \"https://api.airtable.com/v0/\" + base_id + \"/\" + table_name"
      ],
      "execution_count": null,
      "outputs": []
    },
    {
      "cell_type": "code",
      "metadata": {
        "id": "TEUOFK-KVDV5",
        "colab": {
          "base_uri": "https://localhost:8080/",
          "height": 297
        },
        "outputId": "78664522-8f30-4092-f0c9-622ba77be86c"
      },
      "source": [
        "df"
      ],
      "execution_count": null,
      "outputs": [
        {
          "output_type": "execute_result",
          "data": {
            "text/html": [
              "<div>\n",
              "<style scoped>\n",
              "    .dataframe tbody tr th:only-of-type {\n",
              "        vertical-align: middle;\n",
              "    }\n",
              "\n",
              "    .dataframe tbody tr th {\n",
              "        vertical-align: top;\n",
              "    }\n",
              "\n",
              "    .dataframe thead th {\n",
              "        text-align: right;\n",
              "    }\n",
              "</style>\n",
              "<table border=\"1\" class=\"dataframe\">\n",
              "  <thead>\n",
              "    <tr style=\"text-align: right;\">\n",
              "      <th></th>\n",
              "      <th>Name</th>\n",
              "      <th>Situation de départ</th>\n",
              "      <th>Notes</th>\n",
              "    </tr>\n",
              "  </thead>\n",
              "  <tbody>\n",
              "    <tr>\n",
              "      <th>recnI80hvydv71fs4</th>\n",
              "      <td>0.Conception</td>\n",
              "      <td>Plus on possède, plus on est soi-même possédé....</td>\n",
              "      <td>Trouver le plaisir d’écrire. Partir d’idées, d...</td>\n",
              "    </tr>\n",
              "    <tr>\n",
              "      <th>recI2pgkNq2iP52rm</th>\n",
              "      <td>1.Situation initiale</td>\n",
              "      <td>Un jour d'été où il pleut et fait un temps abo...</td>\n",
              "      <td>Une vengeance d'une femme éconduite lors d'un ...</td>\n",
              "    </tr>\n",
              "    <tr>\n",
              "      <th>recb2DqhB9GvfI12n</th>\n",
              "      <td>2.Personnage</td>\n",
              "      <td>Un homme (marié ?) qui a donné rendez-vous à u...</td>\n",
              "      <td>Un Dom Juan sûr de son charme et imbu de sa pe...</td>\n",
              "    </tr>\n",
              "    <tr>\n",
              "      <th>recNLdU01JpCnvknJ</th>\n",
              "      <td>3.Acte déclencheur</td>\n",
              "      <td>La femme lui propose un jeu. Elle est dans le ...</td>\n",
              "      <td>NaN</td>\n",
              "    </tr>\n",
              "    <tr>\n",
              "      <th>recRxZVhpSPD6oQXx</th>\n",
              "      <td>4.Réaction</td>\n",
              "      <td>L'homme est d'abord tenté de partir car il est...</td>\n",
              "      <td>NaN</td>\n",
              "    </tr>\n",
              "    <tr>\n",
              "      <th>recRr06fOM4hGGaLY</th>\n",
              "      <td>5.Péripéties</td>\n",
              "      <td>Pendant la visite (ennuyeuse), l'homme tente d...</td>\n",
              "      <td>NaN</td>\n",
              "    </tr>\n",
              "    <tr>\n",
              "      <th>recvWnAYn9VNySVlB</th>\n",
              "      <td>6.Chute</td>\n",
              "      <td>Un spectacle où une partie du public est appel...</td>\n",
              "      <td>NaN</td>\n",
              "    </tr>\n",
              "    <tr>\n",
              "      <th>recDmZtMMNmiy7R0M</th>\n",
              "      <td>Récit</td>\n",
              "      <td>NaN</td>\n",
              "      <td>NaN</td>\n",
              "    </tr>\n",
              "  </tbody>\n",
              "</table>\n",
              "</div>"
            ],
            "text/plain": [
              "                                   Name  ...                                              Notes\n",
              "recnI80hvydv71fs4          0.Conception  ...  Trouver le plaisir d’écrire. Partir d’idées, d...\n",
              "recI2pgkNq2iP52rm  1.Situation initiale  ...  Une vengeance d'une femme éconduite lors d'un ...\n",
              "recb2DqhB9GvfI12n          2.Personnage  ...  Un Dom Juan sûr de son charme et imbu de sa pe...\n",
              "recNLdU01JpCnvknJ    3.Acte déclencheur  ...                                                NaN\n",
              "recRxZVhpSPD6oQXx            4.Réaction  ...                                                NaN\n",
              "recRr06fOM4hGGaLY          5.Péripéties  ...                                                NaN\n",
              "recvWnAYn9VNySVlB               6.Chute  ...                                                NaN\n",
              "recDmZtMMNmiy7R0M                 Récit  ...                                                NaN\n",
              "\n",
              "[8 rows x 3 columns]"
            ]
          },
          "metadata": {},
          "execution_count": 11
        }
      ]
    },
    {
      "cell_type": "code",
      "metadata": {
        "id": "TISNw9MItvH6"
      },
      "source": [
        ""
      ],
      "execution_count": null,
      "outputs": []
    }
  ]
}