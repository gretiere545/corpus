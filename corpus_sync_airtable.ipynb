{
  "nbformat": 4,
  "nbformat_minor": 0,
  "metadata": {
    "colab": {
      "name": "corpus_sync_airtable.ipynb",
      "provenance": [],
      "collapsed_sections": [],
      "authorship_tag": "ABX9TyN4rimnK+zau/vAukGLDIX+",
      "include_colab_link": true
    },
    "kernelspec": {
      "name": "python3",
      "display_name": "Python 3"
    },
    "language_info": {
      "name": "python"
    }
  },
  "cells": [
    {
      "cell_type": "markdown",
      "metadata": {
        "id": "view-in-github",
        "colab_type": "text"
      },
      "source": [
        "<a href=\"https://colab.research.google.com/github/gretiere545/corpus/blob/main/corpus_sync_airtable.ipynb\" target=\"_parent\"><img src=\"https://colab.research.google.com/assets/colab-badge.svg\" alt=\"Open In Colab\"/></a>"
      ]
    },
    {
      "cell_type": "markdown",
      "metadata": {
        "id": "FB29HktrvvBJ"
      },
      "source": [
        "# Corpus Airtable API"
      ]
    },
    {
      "cell_type": "code",
      "metadata": {
        "colab": {
          "base_uri": "https://localhost:8080/"
        },
        "id": "_5CoZ3ORv3Bh",
        "outputId": "62f4a067-be33-473c-96b9-5ab634e3dcb0"
      },
      "source": [
        "#!/usr/bin/env python\n",
        "# -*- coding: utf8 -*-\n",
        "!pip install gspread --upgrade\n",
        "# fix here => https://stackoverflow.com/questions/71347973/modulenotfounderror-no-module-named-gspread-models\n",
        "!pip uninstall gspread-dataframe\n",
        "!pip install gspread-dataframe\n",
        "!pip install gspread-formatting\n",
        "!pip install airtable-python-wrapper\n",
        "import pandas as pd\n",
        "import numpy as np\n",
        "import requests\n",
        "import json\n",
        "import uuid\n",
        "from datetime import datetime\n",
        "import datetime\n",
        "pd.set_option(\"display.width\",1000)\n",
        "# Ce bout de code pour pouvoir downloader des fichiers sur le drive\n",
        "from google.colab import drive\n",
        "drive.mount('/content/drive')\n",
        "%cd /content/drive/MyDrive/Trad-Union/Corpus/ASAMLA\n",
        "from google.colab import files\n",
        "\n",
        "# Ce bout de code pour pouvoir downloader des google sheets dans des dataframes\n",
        "from google.colab import auth\n",
        "auth.authenticate_user()\n",
        "import gspread\n",
        "from gspread_dataframe import get_as_dataframe, set_with_dataframe\n",
        "from gspread_formatting import *\n",
        "from oauth2client.client import GoogleCredentials\n",
        "# fix here => https://github.com/burnash/gspread/issues/1014\n",
        "from google.auth import default\n",
        "creds, _ = default()\n",
        "gc = gspread.authorize(creds)\n",
        "#gc = gspread.authorize(GoogleCredentials.get_application_default())\n",
        "from airtable import Airtable\n",
        "\n",
        "!pip install txtai[pipeline]\n",
        "!pip install sacremoses\n",
        "from txtai.pipeline import Translation\n",
        "translate = Translation()\n",
        "\n",
        "!export PYTHONIOENCODING=utf8\n"
      ],
      "execution_count": 1,
      "outputs": [
        {
          "output_type": "stream",
          "name": "stdout",
          "text": [
            "Requirement already satisfied: gspread in /usr/local/lib/python3.7/dist-packages (5.3.2)\n",
            "Requirement already satisfied: google-auth>=1.12.0 in /usr/local/lib/python3.7/dist-packages (from gspread) (1.35.0)\n",
            "Requirement already satisfied: google-auth-oauthlib>=0.4.1 in /usr/local/lib/python3.7/dist-packages (from gspread) (0.4.6)\n",
            "Requirement already satisfied: setuptools>=40.3.0 in /usr/local/lib/python3.7/dist-packages (from google-auth>=1.12.0->gspread) (57.4.0)\n",
            "Requirement already satisfied: cachetools<5.0,>=2.0.0 in /usr/local/lib/python3.7/dist-packages (from google-auth>=1.12.0->gspread) (4.2.4)\n",
            "Requirement already satisfied: pyasn1-modules>=0.2.1 in /usr/local/lib/python3.7/dist-packages (from google-auth>=1.12.0->gspread) (0.2.8)\n",
            "Requirement already satisfied: rsa<5,>=3.1.4 in /usr/local/lib/python3.7/dist-packages (from google-auth>=1.12.0->gspread) (4.8)\n",
            "Requirement already satisfied: six>=1.9.0 in /usr/local/lib/python3.7/dist-packages (from google-auth>=1.12.0->gspread) (1.15.0)\n",
            "Requirement already satisfied: requests-oauthlib>=0.7.0 in /usr/local/lib/python3.7/dist-packages (from google-auth-oauthlib>=0.4.1->gspread) (1.3.1)\n",
            "Requirement already satisfied: pyasn1<0.5.0,>=0.4.6 in /usr/local/lib/python3.7/dist-packages (from pyasn1-modules>=0.2.1->google-auth>=1.12.0->gspread) (0.4.8)\n",
            "Requirement already satisfied: oauthlib>=3.0.0 in /usr/local/lib/python3.7/dist-packages (from requests-oauthlib>=0.7.0->google-auth-oauthlib>=0.4.1->gspread) (3.2.0)\n",
            "Requirement already satisfied: requests>=2.0.0 in /usr/local/lib/python3.7/dist-packages (from requests-oauthlib>=0.7.0->google-auth-oauthlib>=0.4.1->gspread) (2.23.0)\n",
            "Requirement already satisfied: certifi>=2017.4.17 in /usr/local/lib/python3.7/dist-packages (from requests>=2.0.0->requests-oauthlib>=0.7.0->google-auth-oauthlib>=0.4.1->gspread) (2021.10.8)\n",
            "Requirement already satisfied: chardet<4,>=3.0.2 in /usr/local/lib/python3.7/dist-packages (from requests>=2.0.0->requests-oauthlib>=0.7.0->google-auth-oauthlib>=0.4.1->gspread) (3.0.4)\n",
            "Requirement already satisfied: idna<3,>=2.5 in /usr/local/lib/python3.7/dist-packages (from requests>=2.0.0->requests-oauthlib>=0.7.0->google-auth-oauthlib>=0.4.1->gspread) (2.10)\n",
            "Requirement already satisfied: urllib3!=1.25.0,!=1.25.1,<1.26,>=1.21.1 in /usr/local/lib/python3.7/dist-packages (from requests>=2.0.0->requests-oauthlib>=0.7.0->google-auth-oauthlib>=0.4.1->gspread) (1.24.3)\n",
            "Found existing installation: gspread-dataframe 3.3.0\n",
            "Uninstalling gspread-dataframe-3.3.0:\n",
            "  Would remove:\n",
            "    /usr/local/lib/python3.7/dist-packages/gspread_dataframe-3.3.0.dist-info/*\n",
            "    /usr/local/lib/python3.7/dist-packages/gspread_dataframe.py\n",
            "Proceed (y/n)? y\n",
            "  Successfully uninstalled gspread-dataframe-3.3.0\n",
            "Collecting gspread-dataframe\n",
            "  Using cached gspread_dataframe-3.3.0-py2.py3-none-any.whl (7.9 kB)\n",
            "Requirement already satisfied: six>=1.12.0 in /usr/local/lib/python3.7/dist-packages (from gspread-dataframe) (1.15.0)\n",
            "Requirement already satisfied: pandas>=0.24.0 in /usr/local/lib/python3.7/dist-packages (from gspread-dataframe) (1.3.5)\n",
            "Requirement already satisfied: gspread>=3.0.0 in /usr/local/lib/python3.7/dist-packages (from gspread-dataframe) (5.3.2)\n",
            "Requirement already satisfied: google-auth-oauthlib>=0.4.1 in /usr/local/lib/python3.7/dist-packages (from gspread>=3.0.0->gspread-dataframe) (0.4.6)\n",
            "Requirement already satisfied: google-auth>=1.12.0 in /usr/local/lib/python3.7/dist-packages (from gspread>=3.0.0->gspread-dataframe) (1.35.0)\n",
            "Requirement already satisfied: cachetools<5.0,>=2.0.0 in /usr/local/lib/python3.7/dist-packages (from google-auth>=1.12.0->gspread>=3.0.0->gspread-dataframe) (4.2.4)\n",
            "Requirement already satisfied: setuptools>=40.3.0 in /usr/local/lib/python3.7/dist-packages (from google-auth>=1.12.0->gspread>=3.0.0->gspread-dataframe) (57.4.0)\n",
            "Requirement already satisfied: pyasn1-modules>=0.2.1 in /usr/local/lib/python3.7/dist-packages (from google-auth>=1.12.0->gspread>=3.0.0->gspread-dataframe) (0.2.8)\n",
            "Requirement already satisfied: rsa<5,>=3.1.4 in /usr/local/lib/python3.7/dist-packages (from google-auth>=1.12.0->gspread>=3.0.0->gspread-dataframe) (4.8)\n",
            "Requirement already satisfied: requests-oauthlib>=0.7.0 in /usr/local/lib/python3.7/dist-packages (from google-auth-oauthlib>=0.4.1->gspread>=3.0.0->gspread-dataframe) (1.3.1)\n",
            "Requirement already satisfied: python-dateutil>=2.7.3 in /usr/local/lib/python3.7/dist-packages (from pandas>=0.24.0->gspread-dataframe) (2.8.2)\n",
            "Requirement already satisfied: numpy>=1.17.3 in /usr/local/lib/python3.7/dist-packages (from pandas>=0.24.0->gspread-dataframe) (1.21.6)\n",
            "Requirement already satisfied: pytz>=2017.3 in /usr/local/lib/python3.7/dist-packages (from pandas>=0.24.0->gspread-dataframe) (2022.1)\n",
            "Requirement already satisfied: pyasn1<0.5.0,>=0.4.6 in /usr/local/lib/python3.7/dist-packages (from pyasn1-modules>=0.2.1->google-auth>=1.12.0->gspread>=3.0.0->gspread-dataframe) (0.4.8)\n",
            "Requirement already satisfied: oauthlib>=3.0.0 in /usr/local/lib/python3.7/dist-packages (from requests-oauthlib>=0.7.0->google-auth-oauthlib>=0.4.1->gspread>=3.0.0->gspread-dataframe) (3.2.0)\n",
            "Requirement already satisfied: requests>=2.0.0 in /usr/local/lib/python3.7/dist-packages (from requests-oauthlib>=0.7.0->google-auth-oauthlib>=0.4.1->gspread>=3.0.0->gspread-dataframe) (2.23.0)\n",
            "Requirement already satisfied: urllib3!=1.25.0,!=1.25.1,<1.26,>=1.21.1 in /usr/local/lib/python3.7/dist-packages (from requests>=2.0.0->requests-oauthlib>=0.7.0->google-auth-oauthlib>=0.4.1->gspread>=3.0.0->gspread-dataframe) (1.24.3)\n",
            "Requirement already satisfied: chardet<4,>=3.0.2 in /usr/local/lib/python3.7/dist-packages (from requests>=2.0.0->requests-oauthlib>=0.7.0->google-auth-oauthlib>=0.4.1->gspread>=3.0.0->gspread-dataframe) (3.0.4)\n",
            "Requirement already satisfied: certifi>=2017.4.17 in /usr/local/lib/python3.7/dist-packages (from requests>=2.0.0->requests-oauthlib>=0.7.0->google-auth-oauthlib>=0.4.1->gspread>=3.0.0->gspread-dataframe) (2021.10.8)\n",
            "Requirement already satisfied: idna<3,>=2.5 in /usr/local/lib/python3.7/dist-packages (from requests>=2.0.0->requests-oauthlib>=0.7.0->google-auth-oauthlib>=0.4.1->gspread>=3.0.0->gspread-dataframe) (2.10)\n",
            "Installing collected packages: gspread-dataframe\n",
            "Successfully installed gspread-dataframe-3.3.0\n",
            "Requirement already satisfied: gspread-formatting in /usr/local/lib/python3.7/dist-packages (1.0.6)\n",
            "Requirement already satisfied: gspread>=3.0.0 in /usr/local/lib/python3.7/dist-packages (from gspread-formatting) (5.3.2)\n",
            "Requirement already satisfied: google-auth-oauthlib>=0.4.1 in /usr/local/lib/python3.7/dist-packages (from gspread>=3.0.0->gspread-formatting) (0.4.6)\n",
            "Requirement already satisfied: google-auth>=1.12.0 in /usr/local/lib/python3.7/dist-packages (from gspread>=3.0.0->gspread-formatting) (1.35.0)\n",
            "Requirement already satisfied: setuptools>=40.3.0 in /usr/local/lib/python3.7/dist-packages (from google-auth>=1.12.0->gspread>=3.0.0->gspread-formatting) (57.4.0)\n",
            "Requirement already satisfied: pyasn1-modules>=0.2.1 in /usr/local/lib/python3.7/dist-packages (from google-auth>=1.12.0->gspread>=3.0.0->gspread-formatting) (0.2.8)\n",
            "Requirement already satisfied: six>=1.9.0 in /usr/local/lib/python3.7/dist-packages (from google-auth>=1.12.0->gspread>=3.0.0->gspread-formatting) (1.15.0)\n",
            "Requirement already satisfied: rsa<5,>=3.1.4 in /usr/local/lib/python3.7/dist-packages (from google-auth>=1.12.0->gspread>=3.0.0->gspread-formatting) (4.8)\n",
            "Requirement already satisfied: cachetools<5.0,>=2.0.0 in /usr/local/lib/python3.7/dist-packages (from google-auth>=1.12.0->gspread>=3.0.0->gspread-formatting) (4.2.4)\n",
            "Requirement already satisfied: requests-oauthlib>=0.7.0 in /usr/local/lib/python3.7/dist-packages (from google-auth-oauthlib>=0.4.1->gspread>=3.0.0->gspread-formatting) (1.3.1)\n",
            "Requirement already satisfied: pyasn1<0.5.0,>=0.4.6 in /usr/local/lib/python3.7/dist-packages (from pyasn1-modules>=0.2.1->google-auth>=1.12.0->gspread>=3.0.0->gspread-formatting) (0.4.8)\n",
            "Requirement already satisfied: requests>=2.0.0 in /usr/local/lib/python3.7/dist-packages (from requests-oauthlib>=0.7.0->google-auth-oauthlib>=0.4.1->gspread>=3.0.0->gspread-formatting) (2.23.0)\n",
            "Requirement already satisfied: oauthlib>=3.0.0 in /usr/local/lib/python3.7/dist-packages (from requests-oauthlib>=0.7.0->google-auth-oauthlib>=0.4.1->gspread>=3.0.0->gspread-formatting) (3.2.0)\n",
            "Requirement already satisfied: certifi>=2017.4.17 in /usr/local/lib/python3.7/dist-packages (from requests>=2.0.0->requests-oauthlib>=0.7.0->google-auth-oauthlib>=0.4.1->gspread>=3.0.0->gspread-formatting) (2021.10.8)\n",
            "Requirement already satisfied: chardet<4,>=3.0.2 in /usr/local/lib/python3.7/dist-packages (from requests>=2.0.0->requests-oauthlib>=0.7.0->google-auth-oauthlib>=0.4.1->gspread>=3.0.0->gspread-formatting) (3.0.4)\n",
            "Requirement already satisfied: idna<3,>=2.5 in /usr/local/lib/python3.7/dist-packages (from requests>=2.0.0->requests-oauthlib>=0.7.0->google-auth-oauthlib>=0.4.1->gspread>=3.0.0->gspread-formatting) (2.10)\n",
            "Requirement already satisfied: urllib3!=1.25.0,!=1.25.1,<1.26,>=1.21.1 in /usr/local/lib/python3.7/dist-packages (from requests>=2.0.0->requests-oauthlib>=0.7.0->google-auth-oauthlib>=0.4.1->gspread>=3.0.0->gspread-formatting) (1.24.3)\n",
            "Requirement already satisfied: airtable-python-wrapper in /usr/local/lib/python3.7/dist-packages (0.15.3)\n",
            "Requirement already satisfied: requests>=2 in /usr/local/lib/python3.7/dist-packages (from airtable-python-wrapper) (2.23.0)\n",
            "Requirement already satisfied: idna<3,>=2.5 in /usr/local/lib/python3.7/dist-packages (from requests>=2->airtable-python-wrapper) (2.10)\n",
            "Requirement already satisfied: certifi>=2017.4.17 in /usr/local/lib/python3.7/dist-packages (from requests>=2->airtable-python-wrapper) (2021.10.8)\n",
            "Requirement already satisfied: urllib3!=1.25.0,!=1.25.1,<1.26,>=1.21.1 in /usr/local/lib/python3.7/dist-packages (from requests>=2->airtable-python-wrapper) (1.24.3)\n",
            "Requirement already satisfied: chardet<4,>=3.0.2 in /usr/local/lib/python3.7/dist-packages (from requests>=2->airtable-python-wrapper) (3.0.4)\n",
            "Drive already mounted at /content/drive; to attempt to forcibly remount, call drive.mount(\"/content/drive\", force_remount=True).\n",
            "/content/drive/MyDrive/Trad-Union/Corpus/ASAMLA\n",
            "Requirement already satisfied: txtai[pipeline] in /usr/local/lib/python3.7/dist-packages (4.4.0)\n",
            "Requirement already satisfied: torch>=1.6.0 in /usr/local/lib/python3.7/dist-packages (from txtai[pipeline]) (1.11.0+cu113)\n",
            "Requirement already satisfied: faiss-cpu>=1.7.1.post2 in /usr/local/lib/python3.7/dist-packages (from txtai[pipeline]) (1.7.2)\n",
            "Requirement already satisfied: numpy>=1.18.4 in /usr/local/lib/python3.7/dist-packages (from txtai[pipeline]) (1.21.6)\n",
            "Requirement already satisfied: transformers>=4.12.3 in /usr/local/lib/python3.7/dist-packages (from txtai[pipeline]) (4.19.1)\n",
            "Requirement already satisfied: tokenizers>=0.10.3 in /usr/local/lib/python3.7/dist-packages (from txtai[pipeline]) (0.12.1)\n",
            "Requirement already satisfied: pyyaml>=5.3 in /usr/local/lib/python3.7/dist-packages (from txtai[pipeline]) (6.0)\n",
            "Requirement already satisfied: onnxmltools>=1.9.1 in /usr/local/lib/python3.7/dist-packages (from txtai[pipeline]) (1.11.0)\n",
            "Requirement already satisfied: nltk>=3.5 in /usr/local/lib/python3.7/dist-packages (from txtai[pipeline]) (3.7)\n",
            "Requirement already satisfied: pillow>=9.0.1 in /usr/local/lib/python3.7/dist-packages (from txtai[pipeline]) (9.1.0)\n",
            "Requirement already satisfied: fasttext>=0.9.2 in /usr/local/lib/python3.7/dist-packages (from txtai[pipeline]) (0.9.2)\n",
            "Requirement already satisfied: pandas>=1.1.0 in /usr/local/lib/python3.7/dist-packages (from txtai[pipeline]) (1.3.5)\n",
            "Requirement already satisfied: imagehash>=4.2.1 in /usr/local/lib/python3.7/dist-packages (from txtai[pipeline]) (4.2.1)\n",
            "Requirement already satisfied: onnxruntime>=1.8.1 in /usr/local/lib/python3.7/dist-packages (from txtai[pipeline]) (1.11.1)\n",
            "Requirement already satisfied: tika>=1.24 in /usr/local/lib/python3.7/dist-packages (from txtai[pipeline]) (1.24)\n",
            "Requirement already satisfied: onnx>=1.10.1 in /usr/local/lib/python3.7/dist-packages (from txtai[pipeline]) (1.11.0)\n",
            "Requirement already satisfied: sentencepiece>=0.1.91 in /usr/local/lib/python3.7/dist-packages (from txtai[pipeline]) (0.1.96)\n",
            "Requirement already satisfied: soundfile>=0.10.3.post1 in /usr/local/lib/python3.7/dist-packages (from txtai[pipeline]) (0.10.3.post1)\n",
            "Requirement already satisfied: timm>=0.4.12 in /usr/local/lib/python3.7/dist-packages (from txtai[pipeline]) (0.5.4)\n",
            "Requirement already satisfied: beautifulsoup4>=4.9.3 in /usr/local/lib/python3.7/dist-packages (from txtai[pipeline]) (4.11.1)\n",
            "Requirement already satisfied: soupsieve>1.2 in /usr/local/lib/python3.7/dist-packages (from beautifulsoup4>=4.9.3->txtai[pipeline]) (2.3.2.post1)\n",
            "Requirement already satisfied: pybind11>=2.2 in /usr/local/lib/python3.7/dist-packages (from fasttext>=0.9.2->txtai[pipeline]) (2.9.2)\n",
            "Requirement already satisfied: setuptools>=0.7.0 in /usr/local/lib/python3.7/dist-packages (from fasttext>=0.9.2->txtai[pipeline]) (57.4.0)\n",
            "Requirement already satisfied: PyWavelets in /usr/local/lib/python3.7/dist-packages (from imagehash>=4.2.1->txtai[pipeline]) (1.3.0)\n",
            "Requirement already satisfied: scipy in /usr/local/lib/python3.7/dist-packages (from imagehash>=4.2.1->txtai[pipeline]) (1.4.1)\n",
            "Requirement already satisfied: six in /usr/local/lib/python3.7/dist-packages (from imagehash>=4.2.1->txtai[pipeline]) (1.15.0)\n",
            "Requirement already satisfied: tqdm in /usr/local/lib/python3.7/dist-packages (from nltk>=3.5->txtai[pipeline]) (4.64.0)\n",
            "Requirement already satisfied: joblib in /usr/local/lib/python3.7/dist-packages (from nltk>=3.5->txtai[pipeline]) (1.1.0)\n",
            "Requirement already satisfied: click in /usr/local/lib/python3.7/dist-packages (from nltk>=3.5->txtai[pipeline]) (7.1.2)\n",
            "Requirement already satisfied: regex>=2021.8.3 in /usr/local/lib/python3.7/dist-packages (from nltk>=3.5->txtai[pipeline]) (2022.4.24)\n",
            "Requirement already satisfied: protobuf>=3.12.2 in /usr/local/lib/python3.7/dist-packages (from onnx>=1.10.1->txtai[pipeline]) (3.17.3)\n",
            "Requirement already satisfied: typing-extensions>=3.6.2.1 in /usr/local/lib/python3.7/dist-packages (from onnx>=1.10.1->txtai[pipeline]) (4.2.0)\n",
            "Requirement already satisfied: skl2onnx in /usr/local/lib/python3.7/dist-packages (from onnxmltools>=1.9.1->txtai[pipeline]) (1.11.1)\n",
            "Requirement already satisfied: flatbuffers in /usr/local/lib/python3.7/dist-packages (from onnxruntime>=1.8.1->txtai[pipeline]) (2.0)\n",
            "Requirement already satisfied: pytz>=2017.3 in /usr/local/lib/python3.7/dist-packages (from pandas>=1.1.0->txtai[pipeline]) (2022.1)\n",
            "Requirement already satisfied: python-dateutil>=2.7.3 in /usr/local/lib/python3.7/dist-packages (from pandas>=1.1.0->txtai[pipeline]) (2.8.2)\n",
            "Requirement already satisfied: cffi>=1.0 in /usr/local/lib/python3.7/dist-packages (from soundfile>=0.10.3.post1->txtai[pipeline]) (1.15.0)\n",
            "Requirement already satisfied: pycparser in /usr/local/lib/python3.7/dist-packages (from cffi>=1.0->soundfile>=0.10.3.post1->txtai[pipeline]) (2.21)\n",
            "Requirement already satisfied: requests in /usr/local/lib/python3.7/dist-packages (from tika>=1.24->txtai[pipeline]) (2.23.0)\n",
            "Requirement already satisfied: torchvision in /usr/local/lib/python3.7/dist-packages (from timm>=0.4.12->txtai[pipeline]) (0.12.0+cu113)\n",
            "Requirement already satisfied: huggingface-hub<1.0,>=0.1.0 in /usr/local/lib/python3.7/dist-packages (from transformers>=4.12.3->txtai[pipeline]) (0.6.0)\n",
            "Requirement already satisfied: packaging>=20.0 in /usr/local/lib/python3.7/dist-packages (from transformers>=4.12.3->txtai[pipeline]) (21.3)\n",
            "Requirement already satisfied: importlib-metadata in /usr/local/lib/python3.7/dist-packages (from transformers>=4.12.3->txtai[pipeline]) (4.11.3)\n",
            "Requirement already satisfied: filelock in /usr/local/lib/python3.7/dist-packages (from transformers>=4.12.3->txtai[pipeline]) (3.6.0)\n",
            "Requirement already satisfied: pyparsing!=3.0.5,>=2.0.2 in /usr/local/lib/python3.7/dist-packages (from packaging>=20.0->transformers>=4.12.3->txtai[pipeline]) (3.0.8)\n",
            "Requirement already satisfied: zipp>=0.5 in /usr/local/lib/python3.7/dist-packages (from importlib-metadata->transformers>=4.12.3->txtai[pipeline]) (3.8.0)\n",
            "Requirement already satisfied: urllib3!=1.25.0,!=1.25.1,<1.26,>=1.21.1 in /usr/local/lib/python3.7/dist-packages (from requests->tika>=1.24->txtai[pipeline]) (1.24.3)\n",
            "Requirement already satisfied: chardet<4,>=3.0.2 in /usr/local/lib/python3.7/dist-packages (from requests->tika>=1.24->txtai[pipeline]) (3.0.4)\n",
            "Requirement already satisfied: certifi>=2017.4.17 in /usr/local/lib/python3.7/dist-packages (from requests->tika>=1.24->txtai[pipeline]) (2021.10.8)\n",
            "Requirement already satisfied: idna<3,>=2.5 in /usr/local/lib/python3.7/dist-packages (from requests->tika>=1.24->txtai[pipeline]) (2.10)\n",
            "Requirement already satisfied: scikit-learn>=0.19 in /usr/local/lib/python3.7/dist-packages (from skl2onnx->onnxmltools>=1.9.1->txtai[pipeline]) (1.0.2)\n",
            "Requirement already satisfied: onnxconverter-common>=1.7.0 in /usr/local/lib/python3.7/dist-packages (from skl2onnx->onnxmltools>=1.9.1->txtai[pipeline]) (1.9.0)\n",
            "Requirement already satisfied: threadpoolctl>=2.0.0 in /usr/local/lib/python3.7/dist-packages (from scikit-learn>=0.19->skl2onnx->onnxmltools>=1.9.1->txtai[pipeline]) (3.1.0)\n",
            "Requirement already satisfied: sacremoses in /usr/local/lib/python3.7/dist-packages (0.0.53)\n",
            "Requirement already satisfied: regex in /usr/local/lib/python3.7/dist-packages (from sacremoses) (2022.4.24)\n",
            "Requirement already satisfied: six in /usr/local/lib/python3.7/dist-packages (from sacremoses) (1.15.0)\n",
            "Requirement already satisfied: tqdm in /usr/local/lib/python3.7/dist-packages (from sacremoses) (4.64.0)\n",
            "Requirement already satisfied: joblib in /usr/local/lib/python3.7/dist-packages (from sacremoses) (1.1.0)\n",
            "Requirement already satisfied: click in /usr/local/lib/python3.7/dist-packages (from sacremoses) (7.1.2)\n"
          ]
        }
      ]
    },
    {
      "cell_type": "markdown",
      "metadata": {
        "id": "OoQvIFW_zGec"
      },
      "source": [
        ""
      ]
    },
    {
      "cell_type": "code",
      "source": [
        "def get_cc_config(f):\n",
        "  vk = []\n",
        "  try:\n",
        "    with open(f) as vk_f:\n",
        "        vk = json.load(vk_f)\n",
        "  except BaseException as e:\n",
        "    print(e)\n",
        "  return vk\n",
        "\n",
        "def set_cc_config (vk, f):\n",
        "  # sauvegarde du fichier de paramétrage\n",
        "  with open(f, 'w') as fp:\n",
        "      json.dump(vk, fp)  "
      ],
      "metadata": {
        "id": "HkCiMByNk1Me"
      },
      "execution_count": 2,
      "outputs": []
    },
    {
      "cell_type": "code",
      "source": [
        "#\n",
        "# Ouverture de la Sheet Centrale (corpus_central_base)\n",
        "#\n",
        "def get_CCDB_wb(uri):\n",
        "  sheet_central = uri\n",
        "  wb_central = gc.open_by_url(sheet_central)\n",
        "  return wb_central\n",
        "\n",
        "def get_CCDB_data(wb, idx):\n",
        "  t_corpus = wb.get_worksheet(idx)\n",
        "  data_t_corpus = t_corpus.get_all_values()\n",
        "  return data_t_corpus\n",
        "\n",
        "#\n",
        "# DataFrame CC global (toutes les langues)\n",
        "#\n",
        "def get_ccdf_global(CCDB):\n",
        "  return pd.DataFrame(CCDB[1:], columns=CCDB[0])\n",
        "\n",
        "#\n",
        "# DataFrame CC Français (invariable)\n",
        "#\n",
        "def get_ccdf_fr(df_cc):\n",
        "  # on supprime les doublons\n",
        "  return df_cc[['uid','expression','theme','état','date','commentaires','index']]"
      ],
      "metadata": {
        "id": "QYUSE6Dek8OA"
      },
      "execution_count": 3,
      "outputs": []
    },
    {
      "cell_type": "code",
      "source": [
        "# Config Langues\n",
        "config_languages = 'med_vac_synthese.json'\n",
        "vk_languages = get_cc_config(config_languages)"
      ],
      "metadata": {
        "id": "4fUMcMSwlDPi"
      },
      "execution_count": 4,
      "outputs": []
    },
    {
      "cell_type": "code",
      "metadata": {
        "id": "ey1jQEaS54Qz"
      },
      "source": [
        "# Ouverture de la Sheet Centrale\n",
        "sheet = 'https://docs.google.com/spreadsheets/d/1j9mtvKJn0Ad3FqxoJXMSKLJOfYTDOhtw3wxXZ4sQAIc'\n",
        "wb  = gc.open_by_url(sheet)"
      ],
      "execution_count": 5,
      "outputs": []
    },
    {
      "cell_type": "code",
      "source": [
        "# Config Corpus (de consolidation)\n",
        "config_corpus_central = \"corpus_central_config.json\"\n",
        "vk_corpus_central = get_cc_config(config_corpus_central)"
      ],
      "metadata": {
        "id": "YJFHaa9clah-"
      },
      "execution_count": 6,
      "outputs": []
    },
    {
      "cell_type": "code",
      "source": [
        "# Base Centrale\n",
        "# on charge l'onglet 1 (français)\n",
        "db_cc_wb = get_CCDB_wb(vk_corpus_central[0][\"uri\"])\n",
        "db_cc = get_CCDB_data (db_cc_wb, 1)\n",
        "df_cc_global = get_ccdf_global(db_cc)\n",
        "df_cc_fr = get_ccdf_fr(df_cc_global).drop_duplicates()"
      ],
      "metadata": {
        "id": "8LBOpjVJleFb"
      },
      "execution_count": 7,
      "outputs": []
    },
    {
      "cell_type": "markdown",
      "source": [
        "# Comparaison des versions de référentiels"
      ],
      "metadata": {
        "id": "vJskeRVlRVJ_"
      }
    },
    {
      "cell_type": "code",
      "source": [
        "def getLastModifiedTime (wb):\n",
        "  # https://stackoverflow.com/questions/64254039/python-how-to-check-if-a-google-spreadsheets-was-updated\n",
        "  # https://stackoverflow.com/questions/52260789/update-googlesheet-cell-with-timestamp-from-python\n",
        "  revisions_uri = f'https://www.googleapis.com/drive/v3/files/{wb.id}/revisions'\n",
        "  headers = {'Authorization': f'Bearer {GoogleCredentials.get_application_default().get_access_token().access_token}'}\n",
        "  response = requests.get(revisions_uri, headers=headers).json()\n",
        "  return response['revisions'][-1]['modifiedTime']"
      ],
      "metadata": {
        "id": "1BCh19bDQ8Et"
      },
      "execution_count": 8,
      "outputs": []
    },
    {
      "cell_type": "code",
      "source": [
        "print (getLastModifiedTime(db_cc_wb))"
      ],
      "metadata": {
        "colab": {
          "base_uri": "https://localhost:8080/"
        },
        "id": "KsxWPCyBRaNM",
        "outputId": "ee39ab37-3eea-4d02-d032-7c9e806a6985"
      },
      "execution_count": 9,
      "outputs": [
        {
          "output_type": "stream",
          "name": "stdout",
          "text": [
            "2022-04-01T12:52:39.368Z\n"
          ]
        }
      ]
    },
    {
      "cell_type": "code",
      "source": [
        "df_cc_global.loc[df_cc_global[\"expression\"]==\"Anesthésie générale\"]"
      ],
      "metadata": {
        "id": "jBEU07HyTQnI",
        "colab": {
          "base_uri": "https://localhost:8080/",
          "height": 110
        },
        "outputId": "4f959219-1d50-4a60-814d-0fa90634d202"
      },
      "execution_count": 10,
      "outputs": [
        {
          "output_type": "execute_result",
          "data": {
            "text/plain": [
              "          uid           expression date              theme état commentaires index        ams eng             tur  ... arm dar pst prs aze esp amh all                  pol som\n",
              "174  ef2f771b  Anesthésie générale       Médecine générale                       A  تخدير عام      Genel anestezi  ...                                  Znieczulenie ogólne    \n",
              "\n",
              "[1 rows x 27 columns]"
            ],
            "text/html": [
              "\n",
              "  <div id=\"df-809c8552-3b93-4c18-a3f5-edc599ecd17c\">\n",
              "    <div class=\"colab-df-container\">\n",
              "      <div>\n",
              "<style scoped>\n",
              "    .dataframe tbody tr th:only-of-type {\n",
              "        vertical-align: middle;\n",
              "    }\n",
              "\n",
              "    .dataframe tbody tr th {\n",
              "        vertical-align: top;\n",
              "    }\n",
              "\n",
              "    .dataframe thead th {\n",
              "        text-align: right;\n",
              "    }\n",
              "</style>\n",
              "<table border=\"1\" class=\"dataframe\">\n",
              "  <thead>\n",
              "    <tr style=\"text-align: right;\">\n",
              "      <th></th>\n",
              "      <th>uid</th>\n",
              "      <th>expression</th>\n",
              "      <th>date</th>\n",
              "      <th>theme</th>\n",
              "      <th>état</th>\n",
              "      <th>commentaires</th>\n",
              "      <th>index</th>\n",
              "      <th>ams</th>\n",
              "      <th>eng</th>\n",
              "      <th>tur</th>\n",
              "      <th>...</th>\n",
              "      <th>arm</th>\n",
              "      <th>dar</th>\n",
              "      <th>pst</th>\n",
              "      <th>prs</th>\n",
              "      <th>aze</th>\n",
              "      <th>esp</th>\n",
              "      <th>amh</th>\n",
              "      <th>all</th>\n",
              "      <th>pol</th>\n",
              "      <th>som</th>\n",
              "    </tr>\n",
              "  </thead>\n",
              "  <tbody>\n",
              "    <tr>\n",
              "      <th>174</th>\n",
              "      <td>ef2f771b</td>\n",
              "      <td>Anesthésie générale</td>\n",
              "      <td></td>\n",
              "      <td>Médecine générale</td>\n",
              "      <td></td>\n",
              "      <td></td>\n",
              "      <td>A</td>\n",
              "      <td>تخدير عام</td>\n",
              "      <td></td>\n",
              "      <td>Genel anestezi</td>\n",
              "      <td>...</td>\n",
              "      <td></td>\n",
              "      <td></td>\n",
              "      <td></td>\n",
              "      <td></td>\n",
              "      <td></td>\n",
              "      <td></td>\n",
              "      <td></td>\n",
              "      <td></td>\n",
              "      <td>Znieczulenie ogólne</td>\n",
              "      <td></td>\n",
              "    </tr>\n",
              "  </tbody>\n",
              "</table>\n",
              "<p>1 rows × 27 columns</p>\n",
              "</div>\n",
              "      <button class=\"colab-df-convert\" onclick=\"convertToInteractive('df-809c8552-3b93-4c18-a3f5-edc599ecd17c')\"\n",
              "              title=\"Convert this dataframe to an interactive table.\"\n",
              "              style=\"display:none;\">\n",
              "        \n",
              "  <svg xmlns=\"http://www.w3.org/2000/svg\" height=\"24px\"viewBox=\"0 0 24 24\"\n",
              "       width=\"24px\">\n",
              "    <path d=\"M0 0h24v24H0V0z\" fill=\"none\"/>\n",
              "    <path d=\"M18.56 5.44l.94 2.06.94-2.06 2.06-.94-2.06-.94-.94-2.06-.94 2.06-2.06.94zm-11 1L8.5 8.5l.94-2.06 2.06-.94-2.06-.94L8.5 2.5l-.94 2.06-2.06.94zm10 10l.94 2.06.94-2.06 2.06-.94-2.06-.94-.94-2.06-.94 2.06-2.06.94z\"/><path d=\"M17.41 7.96l-1.37-1.37c-.4-.4-.92-.59-1.43-.59-.52 0-1.04.2-1.43.59L10.3 9.45l-7.72 7.72c-.78.78-.78 2.05 0 2.83L4 21.41c.39.39.9.59 1.41.59.51 0 1.02-.2 1.41-.59l7.78-7.78 2.81-2.81c.8-.78.8-2.07 0-2.86zM5.41 20L4 18.59l7.72-7.72 1.47 1.35L5.41 20z\"/>\n",
              "  </svg>\n",
              "      </button>\n",
              "      \n",
              "  <style>\n",
              "    .colab-df-container {\n",
              "      display:flex;\n",
              "      flex-wrap:wrap;\n",
              "      gap: 12px;\n",
              "    }\n",
              "\n",
              "    .colab-df-convert {\n",
              "      background-color: #E8F0FE;\n",
              "      border: none;\n",
              "      border-radius: 50%;\n",
              "      cursor: pointer;\n",
              "      display: none;\n",
              "      fill: #1967D2;\n",
              "      height: 32px;\n",
              "      padding: 0 0 0 0;\n",
              "      width: 32px;\n",
              "    }\n",
              "\n",
              "    .colab-df-convert:hover {\n",
              "      background-color: #E2EBFA;\n",
              "      box-shadow: 0px 1px 2px rgba(60, 64, 67, 0.3), 0px 1px 3px 1px rgba(60, 64, 67, 0.15);\n",
              "      fill: #174EA6;\n",
              "    }\n",
              "\n",
              "    [theme=dark] .colab-df-convert {\n",
              "      background-color: #3B4455;\n",
              "      fill: #D2E3FC;\n",
              "    }\n",
              "\n",
              "    [theme=dark] .colab-df-convert:hover {\n",
              "      background-color: #434B5C;\n",
              "      box-shadow: 0px 1px 3px 1px rgba(0, 0, 0, 0.15);\n",
              "      filter: drop-shadow(0px 1px 2px rgba(0, 0, 0, 0.3));\n",
              "      fill: #FFFFFF;\n",
              "    }\n",
              "  </style>\n",
              "\n",
              "      <script>\n",
              "        const buttonEl =\n",
              "          document.querySelector('#df-809c8552-3b93-4c18-a3f5-edc599ecd17c button.colab-df-convert');\n",
              "        buttonEl.style.display =\n",
              "          google.colab.kernel.accessAllowed ? 'block' : 'none';\n",
              "\n",
              "        async function convertToInteractive(key) {\n",
              "          const element = document.querySelector('#df-809c8552-3b93-4c18-a3f5-edc599ecd17c');\n",
              "          const dataTable =\n",
              "            await google.colab.kernel.invokeFunction('convertToInteractive',\n",
              "                                                     [key], {});\n",
              "          if (!dataTable) return;\n",
              "\n",
              "          const docLinkHtml = 'Like what you see? Visit the ' +\n",
              "            '<a target=\"_blank\" href=https://colab.research.google.com/notebooks/data_table.ipynb>data table notebook</a>'\n",
              "            + ' to learn more about interactive tables.';\n",
              "          element.innerHTML = '';\n",
              "          dataTable['output_type'] = 'display_data';\n",
              "          await google.colab.output.renderOutput(dataTable, element);\n",
              "          const docLink = document.createElement('div');\n",
              "          docLink.innerHTML = docLinkHtml;\n",
              "          element.appendChild(docLink);\n",
              "        }\n",
              "      </script>\n",
              "    </div>\n",
              "  </div>\n",
              "  "
            ]
          },
          "metadata": {},
          "execution_count": 10
        }
      ]
    },
    {
      "cell_type": "markdown",
      "metadata": {
        "id": "ZbXgJiWKBEwY"
      },
      "source": [
        "### Appel de l'API\n",
        "https://towardsdatascience.com/downloading-airtable-data-into-python-89e5c7107a24"
      ]
    },
    {
      "cell_type": "code",
      "metadata": {
        "id": "Mi4zCrC54xR-"
      },
      "source": [
        "params = ()\n",
        "api_key = \"keyrI98TIqu6mbFcf\" \n",
        "api_key_gmail = \"keysgpJWq3aWwqSZe\"\n",
        "headers = {\"Authorization\": \"Bearer \" + api_key,\"Content-Type\" : \"application/json\"}\n",
        "base_id = \"appawT3gg7cJhPYv0\" # Base Nouvelle HV\n",
        "table_name = 'Corpus'"
      ],
      "execution_count": 11,
      "outputs": []
    },
    {
      "cell_type": "code",
      "source": [
        "airtable = Airtable(base_id, table_name, api_key)"
      ],
      "metadata": {
        "id": "LAIlBGJtPK2H"
      },
      "execution_count": 12,
      "outputs": []
    },
    {
      "cell_type": "markdown",
      "source": [
        "```\n",
        "for page in airtable.get_iter(view='Grid view',sort='Proposition'):\n",
        "  for record in page:\n",
        "    value = record['fields']['Proposition']\n",
        "```\n",
        "\n"
      ],
      "metadata": {
        "id": "BRVoSlYoTdax"
      }
    },
    {
      "cell_type": "code",
      "source": [
        "def airtable_fetch_all_records():\n",
        "  vk_at = airtable.get_all(view='Admin',sort='Proposition')\n",
        "  df_vkat = pd.DataFrame.from_records((r['fields'] for r in vk_at))\n",
        "  return df_vkat"
      ],
      "metadata": {
        "id": "hcErKj3pQ2TE"
      },
      "execution_count": 13,
      "outputs": []
    },
    {
      "cell_type": "code",
      "source": [
        "def getNotInGSheet(df_cc_global, df_vkat):\n",
        "  df_not_in_gsheet = df_vkat[~df_vkat[\"UID\"].isin(df_cc_global[\"uid\"])]\n",
        "  return df_not_in_gsheet"
      ],
      "metadata": {
        "id": "zXKLHbsPI4Ju"
      },
      "execution_count": 14,
      "outputs": []
    },
    {
      "cell_type": "code",
      "source": [
        "df_vkat = airtable_fetch_all_records()"
      ],
      "metadata": {
        "id": "TgygNth1fjVP"
      },
      "execution_count": 15,
      "outputs": []
    },
    {
      "cell_type": "code",
      "source": [
        "master=\"langdeck\""
      ],
      "metadata": {
        "id": "gLg_lUN10xnZ"
      },
      "execution_count": 16,
      "outputs": []
    },
    {
      "cell_type": "code",
      "source": [
        "def txtai_alpha (input, iso_code):\n",
        "  try:\n",
        "    translation = translate(input, iso_code)\n",
        "  except Exception as e:\n",
        "    translation = \"\"\n",
        "    pass\n",
        "  return translation, 2"
      ],
      "metadata": {
        "id": "vnsqiihvkQOf"
      },
      "execution_count": 17,
      "outputs": []
    },
    {
      "cell_type": "code",
      "source": [
        "def fetch_pivot_en (txt_fr):\n",
        "  try:\n",
        "    translation = translate(txt_fr, \"en\")\n",
        "    print (translation)\n",
        "  except Exception as e:\n",
        "    translation = \"\"\n",
        "    pass  \n",
        "  return translation"
      ],
      "metadata": {
        "id": "8hChZ0J1jWly"
      },
      "execution_count": 18,
      "outputs": []
    },
    {
      "cell_type": "markdown",
      "source": [
        "## on met à jour dans Airtable"
      ],
      "metadata": {
        "id": "NG5wuIasm_ph"
      }
    },
    {
      "cell_type": "code",
      "source": [
        "'''\n",
        "df_vkat_pivot = df_vkat.copy()\n",
        "df_vkat[\"pivot_en\"] = df_vkat[[\"Pivot\",\"eng\"]].apply(lambda x:x[1] if not pd.isna(x[1]) else fetch_pivot_en(x[0]), axis=1)\n",
        "if master == \"langdeck\":\n",
        "  for index, row in df_vkat_pivot.iterrows():\n",
        "    if row[\"UID\"] is not None:\n",
        "      record = airtable.match('UID', row[\"UID\"])\n",
        "      if bool(record):\n",
        "        aDict = {}\n",
        "        key = \"UID\"\n",
        "        aDict[key] = row[\"UID\"]\n",
        "        aDict[\"pivot_en\"] = row[\"pivot_en\"]\n",
        "        airtable.update(record['id'], aDict)\n",
        "'''"
      ],
      "metadata": {
        "colab": {
          "base_uri": "https://localhost:8080/",
          "height": 72
        },
        "id": "zClrQAZ-m_Ka",
        "outputId": "1a1ed48a-8cc7-4fe3-eb3d-bb107b98c1a4"
      },
      "execution_count": 19,
      "outputs": [
        {
          "output_type": "execute_result",
          "data": {
            "text/plain": [
              "'\\ndf_vkat_pivot = df_vkat.copy()\\ndf_vkat[\"pivot_en\"] = df_vkat[[\"Pivot\",\"eng\"]].apply(lambda x:x[1] if not pd.isna(x[1]) else fetch_pivot_en(x[0]), axis=1)\\nif master == \"langdeck\":\\n  for index, row in df_vkat_pivot.iterrows():\\n    if row[\"UID\"] is not None:\\n      record = airtable.match(\\'UID\\', row[\"UID\"])\\n      if bool(record):\\n        aDict = {}\\n        key = \"UID\"\\n        aDict[key] = row[\"UID\"]\\n        aDict[\"pivot_en\"] = row[\"pivot_en\"]\\n        airtable.update(record[\\'id\\'], aDict)\\n'"
            ],
            "application/vnd.google.colaboratory.intrinsic+json": {
              "type": "string"
            }
          },
          "metadata": {},
          "execution_count": 19
        }
      ]
    },
    {
      "cell_type": "markdown",
      "source": [
        "## Synchronisation du serveur vers airtable"
      ],
      "metadata": {
        "id": "JuonwX1-7290"
      }
    },
    {
      "cell_type": "markdown",
      "source": [
        "### 1. Différence entre A et B (sur UID)"
      ],
      "metadata": {
        "id": "FtKv8Z8yDdNx"
      }
    },
    {
      "cell_type": "code",
      "source": [
        "df_not_in_airtable = df_cc_global[~df_cc_global[\"uid\"].isin(df_vkat[\"UID\"])].dropna()\n",
        "df_not_in_airtable"
      ],
      "metadata": {
        "colab": {
          "base_uri": "https://localhost:8080/",
          "height": 79
        },
        "id": "hLZ3yTp9GbRE",
        "outputId": "abdbd9b2-4b96-4306-d5d8-88444e92ddc7"
      },
      "execution_count": 20,
      "outputs": [
        {
          "output_type": "execute_result",
          "data": {
            "text/plain": [
              "Empty DataFrame\n",
              "Columns: [uid, expression, date, theme, état, commentaires, index, ams, eng, tur, rus, ukr, rou, hun, tig, alb, geo, arm, dar, pst, prs, aze, esp, amh, all, pol, som]\n",
              "Index: []\n",
              "\n",
              "[0 rows x 27 columns]"
            ],
            "text/html": [
              "\n",
              "  <div id=\"df-4ebef0e4-098c-4a74-a331-cda6ca25e450\">\n",
              "    <div class=\"colab-df-container\">\n",
              "      <div>\n",
              "<style scoped>\n",
              "    .dataframe tbody tr th:only-of-type {\n",
              "        vertical-align: middle;\n",
              "    }\n",
              "\n",
              "    .dataframe tbody tr th {\n",
              "        vertical-align: top;\n",
              "    }\n",
              "\n",
              "    .dataframe thead th {\n",
              "        text-align: right;\n",
              "    }\n",
              "</style>\n",
              "<table border=\"1\" class=\"dataframe\">\n",
              "  <thead>\n",
              "    <tr style=\"text-align: right;\">\n",
              "      <th></th>\n",
              "      <th>uid</th>\n",
              "      <th>expression</th>\n",
              "      <th>date</th>\n",
              "      <th>theme</th>\n",
              "      <th>état</th>\n",
              "      <th>commentaires</th>\n",
              "      <th>index</th>\n",
              "      <th>ams</th>\n",
              "      <th>eng</th>\n",
              "      <th>tur</th>\n",
              "      <th>...</th>\n",
              "      <th>arm</th>\n",
              "      <th>dar</th>\n",
              "      <th>pst</th>\n",
              "      <th>prs</th>\n",
              "      <th>aze</th>\n",
              "      <th>esp</th>\n",
              "      <th>amh</th>\n",
              "      <th>all</th>\n",
              "      <th>pol</th>\n",
              "      <th>som</th>\n",
              "    </tr>\n",
              "  </thead>\n",
              "  <tbody>\n",
              "  </tbody>\n",
              "</table>\n",
              "<p>0 rows × 27 columns</p>\n",
              "</div>\n",
              "      <button class=\"colab-df-convert\" onclick=\"convertToInteractive('df-4ebef0e4-098c-4a74-a331-cda6ca25e450')\"\n",
              "              title=\"Convert this dataframe to an interactive table.\"\n",
              "              style=\"display:none;\">\n",
              "        \n",
              "  <svg xmlns=\"http://www.w3.org/2000/svg\" height=\"24px\"viewBox=\"0 0 24 24\"\n",
              "       width=\"24px\">\n",
              "    <path d=\"M0 0h24v24H0V0z\" fill=\"none\"/>\n",
              "    <path d=\"M18.56 5.44l.94 2.06.94-2.06 2.06-.94-2.06-.94-.94-2.06-.94 2.06-2.06.94zm-11 1L8.5 8.5l.94-2.06 2.06-.94-2.06-.94L8.5 2.5l-.94 2.06-2.06.94zm10 10l.94 2.06.94-2.06 2.06-.94-2.06-.94-.94-2.06-.94 2.06-2.06.94z\"/><path d=\"M17.41 7.96l-1.37-1.37c-.4-.4-.92-.59-1.43-.59-.52 0-1.04.2-1.43.59L10.3 9.45l-7.72 7.72c-.78.78-.78 2.05 0 2.83L4 21.41c.39.39.9.59 1.41.59.51 0 1.02-.2 1.41-.59l7.78-7.78 2.81-2.81c.8-.78.8-2.07 0-2.86zM5.41 20L4 18.59l7.72-7.72 1.47 1.35L5.41 20z\"/>\n",
              "  </svg>\n",
              "      </button>\n",
              "      \n",
              "  <style>\n",
              "    .colab-df-container {\n",
              "      display:flex;\n",
              "      flex-wrap:wrap;\n",
              "      gap: 12px;\n",
              "    }\n",
              "\n",
              "    .colab-df-convert {\n",
              "      background-color: #E8F0FE;\n",
              "      border: none;\n",
              "      border-radius: 50%;\n",
              "      cursor: pointer;\n",
              "      display: none;\n",
              "      fill: #1967D2;\n",
              "      height: 32px;\n",
              "      padding: 0 0 0 0;\n",
              "      width: 32px;\n",
              "    }\n",
              "\n",
              "    .colab-df-convert:hover {\n",
              "      background-color: #E2EBFA;\n",
              "      box-shadow: 0px 1px 2px rgba(60, 64, 67, 0.3), 0px 1px 3px 1px rgba(60, 64, 67, 0.15);\n",
              "      fill: #174EA6;\n",
              "    }\n",
              "\n",
              "    [theme=dark] .colab-df-convert {\n",
              "      background-color: #3B4455;\n",
              "      fill: #D2E3FC;\n",
              "    }\n",
              "\n",
              "    [theme=dark] .colab-df-convert:hover {\n",
              "      background-color: #434B5C;\n",
              "      box-shadow: 0px 1px 3px 1px rgba(0, 0, 0, 0.15);\n",
              "      filter: drop-shadow(0px 1px 2px rgba(0, 0, 0, 0.3));\n",
              "      fill: #FFFFFF;\n",
              "    }\n",
              "  </style>\n",
              "\n",
              "      <script>\n",
              "        const buttonEl =\n",
              "          document.querySelector('#df-4ebef0e4-098c-4a74-a331-cda6ca25e450 button.colab-df-convert');\n",
              "        buttonEl.style.display =\n",
              "          google.colab.kernel.accessAllowed ? 'block' : 'none';\n",
              "\n",
              "        async function convertToInteractive(key) {\n",
              "          const element = document.querySelector('#df-4ebef0e4-098c-4a74-a331-cda6ca25e450');\n",
              "          const dataTable =\n",
              "            await google.colab.kernel.invokeFunction('convertToInteractive',\n",
              "                                                     [key], {});\n",
              "          if (!dataTable) return;\n",
              "\n",
              "          const docLinkHtml = 'Like what you see? Visit the ' +\n",
              "            '<a target=\"_blank\" href=https://colab.research.google.com/notebooks/data_table.ipynb>data table notebook</a>'\n",
              "            + ' to learn more about interactive tables.';\n",
              "          element.innerHTML = '';\n",
              "          dataTable['output_type'] = 'display_data';\n",
              "          await google.colab.output.renderOutput(dataTable, element);\n",
              "          const docLink = document.createElement('div');\n",
              "          docLink.innerHTML = docLinkHtml;\n",
              "          element.appendChild(docLink);\n",
              "        }\n",
              "      </script>\n",
              "    </div>\n",
              "  </div>\n",
              "  "
            ]
          },
          "metadata": {},
          "execution_count": 20
        }
      ]
    },
    {
      "cell_type": "markdown",
      "source": [
        "### On ajoute les éléments de A absents dans B"
      ],
      "metadata": {
        "id": "_CMTnwYKjntP"
      }
    },
    {
      "cell_type": "code",
      "source": [
        "if master != \"langdeck\":\n",
        "  for index, row in df_not_in_airtable.iterrows():\n",
        "    if row[\"uid\"] is not None:\n",
        "      record = airtable.match('UID', row[\"uid\"])\n",
        "      if bool(record) is False:\n",
        "        aDict = {}\n",
        "        key = \"UID\"\n",
        "        aDict[key] = row[\"uid\"]\n",
        "        aDict[\"Proposition\"] = row[\"expression\"]\n",
        "        aDict[\"idx\"] = row[\"index\"]\n",
        "        for i in vk_languages:\n",
        "          key = i[\"trigramme\"]\n",
        "          aDict[key] = row[key]\n",
        "        airtable.insert(aDict)"
      ],
      "metadata": {
        "id": "YUceP1Kahxy-"
      },
      "execution_count": 21,
      "outputs": []
    },
    {
      "cell_type": "markdown",
      "source": [
        "### On met à jour les traductions de A présents dans B\n",
        "\n",
        "> Bloc en retrait\n",
        "\n"
      ],
      "metadata": {
        "id": "doXm-89FZ-TF"
      }
    },
    {
      "cell_type": "code",
      "source": [
        "if master != \"langdeck\":\n",
        "  cpt = 0\n",
        "  max = len(df_cc_global) \n",
        "  for index, row in df_cc_global.iterrows():\n",
        "    if row[\"uid\"] is not None:\n",
        "      record = airtable.match('UID', row[\"uid\"])\n",
        "      if bool(record):\n",
        "        aDict = {}\n",
        "        key = \"UID\"\n",
        "        aDict[key] = row[\"uid\"]\n",
        "        for i in vk_languages:\n",
        "          key = i[\"trigramme\"]\n",
        "          aDict[key] = row[key]\n",
        "        airtable.update(record['id'], aDict)\n",
        "        cpt+=1\n",
        "        print(str(cpt/max) + \" %\", end=\"\\r\", flush=True)      \n",
        "        #print (record['id'] +\" \" + row[\"uid\"] +\" \" + row[\"tur\"])"
      ],
      "metadata": {
        "id": "aDXoT-QGaV6I"
      },
      "execution_count": 22,
      "outputs": []
    },
    {
      "cell_type": "markdown",
      "source": [
        "### On récupère les éléments de B absents de A"
      ],
      "metadata": {
        "id": "ppdsQTTXjuBF"
      }
    },
    {
      "cell_type": "code",
      "source": [
        "df_not_in_gsheet = getNotInGSheet(df_cc_global, df_vkat)\n",
        "#df_not_in_gsheet[[\"Proposition\",\"idx_cor\",\"UID\"]]"
      ],
      "metadata": {
        "id": "H79urZPdbHEt"
      },
      "execution_count": 23,
      "outputs": []
    },
    {
      "cell_type": "markdown",
      "source": [
        "## Mise en forme et ajustements dans Airtable"
      ],
      "metadata": {
        "id": "DSZzmwN_wRrM"
      }
    },
    {
      "cell_type": "code",
      "source": [
        "def make_unique_id():\n",
        "  return str(uuid.uuid4())[:8]"
      ],
      "metadata": {
        "id": "sfN2zOKd0DPr"
      },
      "execution_count": 24,
      "outputs": []
    },
    {
      "cell_type": "code",
      "source": [
        "df_vkat = airtable_fetch_all_records()"
      ],
      "metadata": {
        "id": "iGm1ZZVEJI5q"
      },
      "execution_count": 25,
      "outputs": []
    },
    {
      "cell_type": "markdown",
      "source": [
        "### Update des UIDS et des HASH manquants"
      ],
      "metadata": {
        "id": "4Yfjzn3NR4cb"
      }
    },
    {
      "cell_type": "code",
      "source": [
        "def chk_uid (vk_uid, record):\n",
        "  try:\n",
        "    value = record['fields']['UID']\n",
        "  except KeyError:\n",
        "    # uid manquant\n",
        "    print (\"mssing uid\")\n",
        "    while True:\n",
        "      auid = make_unique_id()\n",
        "      if auid not in vk_uid:\n",
        "        aDict = {}\n",
        "        aDict[\"UID\"] = auid\n",
        "        print (record['id'] + \" \" + aDict[\"UID\"])\n",
        "        airtable.update(record['id'], aDict)\n",
        "        vk_uid.append(auid) \n",
        "        break \n",
        "  finally:\n",
        "    return"
      ],
      "metadata": {
        "id": "rS6Bn9l8lh4Y"
      },
      "execution_count": 26,
      "outputs": []
    },
    {
      "cell_type": "code",
      "source": [
        "def airtable_check_missing_uids():\n",
        "  vk_uid = df_vkat['UID'].tolist()\n",
        "  for page in airtable.get_iter(view='Admin',sort='Proposition'):\n",
        "    for record in page:\n",
        "      chk_uid (vk_uid, record)\n"
      ],
      "metadata": {
        "id": "H6cZU6MWV_jB"
      },
      "execution_count": 27,
      "outputs": []
    },
    {
      "cell_type": "code",
      "source": [
        "airtable_check_missing_uids()"
      ],
      "metadata": {
        "id": "z7W08BitQKV4"
      },
      "execution_count": 28,
      "outputs": []
    },
    {
      "cell_type": "markdown",
      "source": [
        "## Toggle des enregistrements de AT à ajouter dans la sheet locale"
      ],
      "metadata": {
        "id": "4qvT9GyIm2cK"
      }
    },
    {
      "cell_type": "code",
      "source": [
        "if master != \"langdeck\":\n",
        "  df_vkat = airtable_fetch_all_records()\n",
        "  df_not_in_gsheet = getNotInGSheet(df_cc_global, df_vkat)\n",
        "  # on met à jour le status dans Airtable\n",
        "  for index, row in df_not_in_gsheet.iterrows():\n",
        "    if row[\"UID\"] is not None:\n",
        "      record = airtable.match('UID', row[\"UID\"])\n",
        "      if bool(record) is True:\n",
        "        aDict = {}\n",
        "        aDict[\"AppendToCorpus\"] = True\n",
        "        airtable.update(record['id'], aDict)\n",
        "        print (\"Updating status for \" + row[\"UID\"])"
      ],
      "metadata": {
        "id": "VROfZS0uXfr7"
      },
      "execution_count": 29,
      "outputs": []
    },
    {
      "cell_type": "markdown",
      "source": [
        "# Report dans la sheet locale"
      ],
      "metadata": {
        "id": "rrBpuRCjYY4W"
      }
    },
    {
      "cell_type": "code",
      "source": [
        "if master != \"langdeck\":\n",
        "  # Ouverture de la Sheet Locale (mots à traduire)\n",
        "  sheet = 'https://docs.google.com/spreadsheets/d/1M3CFSpAGII25qCl0apYrRPX-DmpdxDFLLB_Ob-MX8DQ/'\n",
        "  wb  = gc.open_by_url(sheet)\n",
        "  t_corpus = wb.worksheet(\"fra_med_gen\")\n",
        "  data_t_corpus = t_corpus.get_all_values()\n",
        "  df_langdeck = pd.DataFrame(data_t_corpus[1:], columns=data_t_corpus[0]).drop_duplicates()  \n",
        "  df_not_in_gsheet.rename(columns={'UID': 'uid', 'Proposition': 'français'}, inplace=True)\n",
        "  df_not_in_gsheet = df_not_in_gsheet[[\"uid\",\"français\"]]\n",
        "  frames = [df_langdeck, df_not_in_gsheet]\n",
        "  result = pd.concat(frames)\n",
        "  result.drop_duplicates(subset=['uid'], inplace=True, keep='last')\n",
        "  set_with_dataframe(t_corpus, result)"
      ],
      "metadata": {
        "id": "N7UfFo9Qn0g2"
      },
      "execution_count": 30,
      "outputs": []
    },
    {
      "cell_type": "markdown",
      "source": [
        "# Regroupement pour Langdeck"
      ],
      "metadata": {
        "id": "GIBnt7xnYpux"
      }
    },
    {
      "cell_type": "code",
      "source": [
        "def compare_langdeck_time(hash, time):\n",
        "  ts1 = time\n",
        "  ts2 = df_langdeck.loc[df_langdeck[\"hash\"]==hash][\"unixtime\"].values[0]\n",
        "  return ts1 > ts2\n"
      ],
      "metadata": {
        "id": "WvmxO4wsrW6-"
      },
      "execution_count": 31,
      "outputs": []
    },
    {
      "cell_type": "code",
      "source": [
        "def compare_airtable_time(hash, time):\n",
        "  ts1 = time\n",
        "  ts2 = df_airtable_for_langdeck.loc[df_airtable_for_langdeck[\"hash\"]==hash][\"unixtime\"].values[0]\n",
        "  return ts1 > ts2"
      ],
      "metadata": {
        "id": "jvvm26KdyRA8"
      },
      "execution_count": 32,
      "outputs": []
    },
    {
      "cell_type": "code",
      "source": [
        "def get_df_airtable_for_langdeck():\n",
        "  df_vkat = airtable_fetch_all_records()\n",
        "  df_temp = df_vkat.copy()\n",
        "  df_temp = df_temp[[\"UID\",\"Maitre\",\"Ordre\",\"Proposition\",\"pivot_en\",\"idx_cor\",\"Thématique\",\"lastModified\",\"ams\",\"eng\",\"tur\",\"rus\",\"ukr\",\"rou\",\"hun\",\"alb\",\"geo\",\"arm\",\"dar\",\"pst\",\"prs\",\"esp\",\"pol\",\"tig\"]]\n",
        "  df_temp.rename(columns={\"UID\":\"uid\",\"Proposition\":\"expression\",\"pivot_en\":\"pivot\",\"idx_cor\":\"idx\", \"Maitre\":\"maitre\",\"Ordre\":\"ordre\",\"Thématique\":\"themes\",\"lastModified\":\"timestamp\"}, inplace=True)\n",
        "  # https://stackoverflow.com/questions/28654047/convert-columns-into-rows-with-pandas\n",
        "  df_airtable_for_langdeck = pd.melt(df_temp, id_vars=[\"uid\", \"maitre\",\"ordre\",\"expression\",\"pivot\",\"idx\",\"timestamp\",\"themes\"], \n",
        "                    var_name=\"language\", value_name=\"translation\")\n",
        "  #https://stackoverflow.com/questions/60393668/pandas-generate-unique-id-based-on-row-values\n",
        "  #https://stackoverflow.com/questions/64604408/transform-dataframe-column-with-a-hash-value\n",
        "  df_airtable_for_langdeck['hash'] = df_airtable_for_langdeck[['uid', 'language']].sum(axis=1).astype(str)\n",
        "  #Fonction lambda pour récupérer le nom long de la langue (https://stackoverflow.com/questions/2191699/find-an-element-in-a-list-of-tuples)\n",
        "  df_airtable_for_langdeck[\"language_fulltext\"] = df_airtable_for_langdeck[\"language\"].apply(lambda x:[item for item in [(a_dict[\"trigramme\"],a_dict[\"language\"]) for a_dict in vk_languages] if item[0] == x][0][1])  \n",
        "  df_airtable_for_langdeck['timestamp'] = df_airtable_for_langdeck['timestamp'].astype('datetime64[s]')\n",
        "  df_airtable_for_langdeck['unixtime'] = df_airtable_for_langdeck['timestamp'].astype('datetime64[s]').astype('int')\n",
        "  # ajout des thématiques  \n",
        "  # on éclate la liste des thèmes en 3 colonnes\n",
        "  df_airtable_for_langdeck[[\"theme_1\",\"theme_2\",\"theme_3\"]] = pd.DataFrame([pd.Series(x) for x in df_airtable_for_langdeck.themes])\n",
        "  return df_airtable_for_langdeck"
      ],
      "metadata": {
        "id": "UtmSi8oBTgb6"
      },
      "execution_count": 33,
      "outputs": []
    },
    {
      "cell_type": "markdown",
      "source": [
        "### Vérification qu'il n'existe pas des doublons (hash)"
      ],
      "metadata": {
        "id": "5Pe8F6nDlkar"
      }
    },
    {
      "cell_type": "code",
      "source": [
        "df_airtable_for_langdeck = get_df_airtable_for_langdeck()\n",
        "df_airtable_for_langdeck[df_airtable_for_langdeck['hash'].duplicated()].sort_values(\"hash\")"
      ],
      "metadata": {
        "colab": {
          "base_uri": "https://localhost:8080/",
          "height": 86
        },
        "id": "M22Emwy2h5T1",
        "outputId": "7c291655-fb57-49fc-b803-899754ac9de8"
      },
      "execution_count": 34,
      "outputs": [
        {
          "output_type": "stream",
          "name": "stderr",
          "text": [
            "/usr/local/lib/python3.7/dist-packages/ipykernel_launcher.py:15: FutureWarning: casting datetime64[ns] values to int64 with .astype(...) is deprecated and will raise in a future version. Use .view(...) instead.\n",
            "  from ipykernel import kernelapp as app\n"
          ]
        },
        {
          "output_type": "execute_result",
          "data": {
            "text/plain": [
              "Empty DataFrame\n",
              "Columns: [uid, maitre, ordre, expression, pivot, idx, timestamp, themes, language, translation, hash, language_fulltext, unixtime, theme_1, theme_2, theme_3]\n",
              "Index: []"
            ],
            "text/html": [
              "\n",
              "  <div id=\"df-ddf2e8da-d802-412b-a99e-42028d537a1b\">\n",
              "    <div class=\"colab-df-container\">\n",
              "      <div>\n",
              "<style scoped>\n",
              "    .dataframe tbody tr th:only-of-type {\n",
              "        vertical-align: middle;\n",
              "    }\n",
              "\n",
              "    .dataframe tbody tr th {\n",
              "        vertical-align: top;\n",
              "    }\n",
              "\n",
              "    .dataframe thead th {\n",
              "        text-align: right;\n",
              "    }\n",
              "</style>\n",
              "<table border=\"1\" class=\"dataframe\">\n",
              "  <thead>\n",
              "    <tr style=\"text-align: right;\">\n",
              "      <th></th>\n",
              "      <th>uid</th>\n",
              "      <th>maitre</th>\n",
              "      <th>ordre</th>\n",
              "      <th>expression</th>\n",
              "      <th>pivot</th>\n",
              "      <th>idx</th>\n",
              "      <th>timestamp</th>\n",
              "      <th>themes</th>\n",
              "      <th>language</th>\n",
              "      <th>translation</th>\n",
              "      <th>hash</th>\n",
              "      <th>language_fulltext</th>\n",
              "      <th>unixtime</th>\n",
              "      <th>theme_1</th>\n",
              "      <th>theme_2</th>\n",
              "      <th>theme_3</th>\n",
              "    </tr>\n",
              "  </thead>\n",
              "  <tbody>\n",
              "  </tbody>\n",
              "</table>\n",
              "</div>\n",
              "      <button class=\"colab-df-convert\" onclick=\"convertToInteractive('df-ddf2e8da-d802-412b-a99e-42028d537a1b')\"\n",
              "              title=\"Convert this dataframe to an interactive table.\"\n",
              "              style=\"display:none;\">\n",
              "        \n",
              "  <svg xmlns=\"http://www.w3.org/2000/svg\" height=\"24px\"viewBox=\"0 0 24 24\"\n",
              "       width=\"24px\">\n",
              "    <path d=\"M0 0h24v24H0V0z\" fill=\"none\"/>\n",
              "    <path d=\"M18.56 5.44l.94 2.06.94-2.06 2.06-.94-2.06-.94-.94-2.06-.94 2.06-2.06.94zm-11 1L8.5 8.5l.94-2.06 2.06-.94-2.06-.94L8.5 2.5l-.94 2.06-2.06.94zm10 10l.94 2.06.94-2.06 2.06-.94-2.06-.94-.94-2.06-.94 2.06-2.06.94z\"/><path d=\"M17.41 7.96l-1.37-1.37c-.4-.4-.92-.59-1.43-.59-.52 0-1.04.2-1.43.59L10.3 9.45l-7.72 7.72c-.78.78-.78 2.05 0 2.83L4 21.41c.39.39.9.59 1.41.59.51 0 1.02-.2 1.41-.59l7.78-7.78 2.81-2.81c.8-.78.8-2.07 0-2.86zM5.41 20L4 18.59l7.72-7.72 1.47 1.35L5.41 20z\"/>\n",
              "  </svg>\n",
              "      </button>\n",
              "      \n",
              "  <style>\n",
              "    .colab-df-container {\n",
              "      display:flex;\n",
              "      flex-wrap:wrap;\n",
              "      gap: 12px;\n",
              "    }\n",
              "\n",
              "    .colab-df-convert {\n",
              "      background-color: #E8F0FE;\n",
              "      border: none;\n",
              "      border-radius: 50%;\n",
              "      cursor: pointer;\n",
              "      display: none;\n",
              "      fill: #1967D2;\n",
              "      height: 32px;\n",
              "      padding: 0 0 0 0;\n",
              "      width: 32px;\n",
              "    }\n",
              "\n",
              "    .colab-df-convert:hover {\n",
              "      background-color: #E2EBFA;\n",
              "      box-shadow: 0px 1px 2px rgba(60, 64, 67, 0.3), 0px 1px 3px 1px rgba(60, 64, 67, 0.15);\n",
              "      fill: #174EA6;\n",
              "    }\n",
              "\n",
              "    [theme=dark] .colab-df-convert {\n",
              "      background-color: #3B4455;\n",
              "      fill: #D2E3FC;\n",
              "    }\n",
              "\n",
              "    [theme=dark] .colab-df-convert:hover {\n",
              "      background-color: #434B5C;\n",
              "      box-shadow: 0px 1px 3px 1px rgba(0, 0, 0, 0.15);\n",
              "      filter: drop-shadow(0px 1px 2px rgba(0, 0, 0, 0.3));\n",
              "      fill: #FFFFFF;\n",
              "    }\n",
              "  </style>\n",
              "\n",
              "      <script>\n",
              "        const buttonEl =\n",
              "          document.querySelector('#df-ddf2e8da-d802-412b-a99e-42028d537a1b button.colab-df-convert');\n",
              "        buttonEl.style.display =\n",
              "          google.colab.kernel.accessAllowed ? 'block' : 'none';\n",
              "\n",
              "        async function convertToInteractive(key) {\n",
              "          const element = document.querySelector('#df-ddf2e8da-d802-412b-a99e-42028d537a1b');\n",
              "          const dataTable =\n",
              "            await google.colab.kernel.invokeFunction('convertToInteractive',\n",
              "                                                     [key], {});\n",
              "          if (!dataTable) return;\n",
              "\n",
              "          const docLinkHtml = 'Like what you see? Visit the ' +\n",
              "            '<a target=\"_blank\" href=https://colab.research.google.com/notebooks/data_table.ipynb>data table notebook</a>'\n",
              "            + ' to learn more about interactive tables.';\n",
              "          element.innerHTML = '';\n",
              "          dataTable['output_type'] = 'display_data';\n",
              "          await google.colab.output.renderOutput(dataTable, element);\n",
              "          const docLink = document.createElement('div');\n",
              "          docLink.innerHTML = docLinkHtml;\n",
              "          element.appendChild(docLink);\n",
              "        }\n",
              "      </script>\n",
              "    </div>\n",
              "  </div>\n",
              "  "
            ]
          },
          "metadata": {},
          "execution_count": 34
        }
      ]
    },
    {
      "cell_type": "code",
      "source": [
        "# on éclate la liste des thèmes en 3 colonnes\n",
        "df_airtable_for_langdeck[[\"theme_1\",\"theme_2\",\"theme_3\"]] = pd.DataFrame([pd.Series(x) for x in df_airtable_for_langdeck.themes])\n"
      ],
      "metadata": {
        "id": "RAs40UyjYTTD"
      },
      "execution_count": 35,
      "outputs": []
    },
    {
      "cell_type": "code",
      "source": [
        "# on ajoute une colonne de translation state (0=VOID; 1=PENDING; 2=OK; 3=KO)\n",
        "df_airtable_for_langdeck[\"translation_state\"] = df_airtable_for_langdeck[\"translation\"].apply(lambda x:0 if pd.isna(x) else 1)"
      ],
      "metadata": {
        "id": "2D7MsWudWeEE"
      },
      "execution_count": 36,
      "outputs": []
    },
    {
      "cell_type": "markdown",
      "source": [
        "## Base Langdeck"
      ],
      "metadata": {
        "id": "VCFyNWs_6us5"
      }
    },
    {
      "cell_type": "code",
      "source": [
        "db_langdeck_url = \"https://docs.google.com/spreadsheets/d/1bkL0bK2yh6Ea_BQaFIJ_yAvbTXw8NOFtlTZJSZK_5FY/\" #polyglot-central\n",
        "db_langdeck_url = \"https://docs.google.com/spreadsheets/d/1iJLt3qAKq576eNirMwcsdRltg7nerwa9N70dA0vraa8/\" #db-langdeck"
      ],
      "metadata": {
        "id": "Gd-KJ-hvYufg"
      },
      "execution_count": 37,
      "outputs": []
    },
    {
      "cell_type": "code",
      "source": [
        "def get_df_langdeck(url):\n",
        "  # Ouverture de la Sheet Langdeck (mots à traduire)\n",
        "\n",
        "  #sheet = 'https://docs.google.com/spreadsheets/d/1cSnSnnQunL-I7hpyYkIqbtuGr55unVJ3Qe8URSrjTr8/'\n",
        "  #t_corpus = wb.worksheet(\"Langdeck\")\n",
        "  sheet = url\n",
        "  # 'https://docs.google.com/spreadsheets/d/1bkL0bK2yh6Ea_BQaFIJ_yAvbTXw8NOFtlTZJSZK_5FY/'\n",
        "  # sheet = 'https://docs.google.com/spreadsheets/d/1iJLt3qAKq576eNirMwcsdRltg7nerwa9N70dA0vraa8/'\n",
        "  wb  = gc.open_by_url(sheet)\n",
        "  t_corpus = wb.worksheet(\"t_sync_voc\")\n",
        "  data_t_corpus = t_corpus.get_all_values()\n",
        "  df_langdeck = pd.DataFrame(data_t_corpus[1:], columns=data_t_corpus[0]).drop_duplicates()  \n",
        "  df_langdeck['ordre'] = pd.to_numeric(df_langdeck['ordre'])\n",
        "  df_langdeck['timestamp'] = df_langdeck['timestamp'].astype('datetime64[s]')\n",
        "  df_langdeck['unixtime'] = df_langdeck['timestamp'].astype('datetime64[s]').astype('int')\n",
        " \n",
        "  return df_langdeck"
      ],
      "metadata": {
        "id": "lAbymXs2awME"
      },
      "execution_count": 38,
      "outputs": []
    },
    {
      "cell_type": "code",
      "source": [
        "def is_audio(f):\n",
        "  path = \"/content/drive/My Drive/appsheet/data/langdeck-1629444/\"\n",
        "  f = path + f\n",
        "  result = True\n",
        "  try:\n",
        "    file = open(f, \"r\")\n",
        "  except FileNotFoundError as e:\n",
        "    # do nothing\n",
        "    result = False\n",
        "\n",
        "  return result"
      ],
      "metadata": {
        "id": "U4i-ZGqo3L8s"
      },
      "execution_count": 39,
      "outputs": []
    },
    {
      "cell_type": "code",
      "source": [
        " df_langdeck = get_df_langdeck(db_langdeck_url)\n",
        " df_langdeck['is_audio'] = df_langdeck['audio'].apply(lambda x:is_audio(x))\n",
        " # df_langdeck.loc[df_langdeck['is_audio']==True]"
      ],
      "metadata": {
        "id": "kIuQIC4R2_IG",
        "colab": {
          "base_uri": "https://localhost:8080/"
        },
        "outputId": "decb0ae6-aa24-4bd6-ef76-f1c5c5c541f7"
      },
      "execution_count": 40,
      "outputs": [
        {
          "output_type": "stream",
          "name": "stderr",
          "text": [
            "/usr/local/lib/python3.7/dist-packages/ipykernel_launcher.py:15: FutureWarning: casting datetime64[ns] values to int64 with .astype(...) is deprecated and will raise in a future version. Use .view(...) instead.\n",
            "  from ipykernel import kernelapp as app\n"
          ]
        }
      ]
    },
    {
      "cell_type": "markdown",
      "source": [
        "## MAJ du status isAudio"
      ],
      "metadata": {
        "id": "3Jyc5-y5hFEN"
      }
    },
    {
      "cell_type": "code",
      "source": [
        "# NE PAS UTILISER\n",
        "'''\n",
        "df_isaudio = df_langdeck.loc[df_langdeck['is_audio']==True]\n",
        "sheet = db_langdeck_url\n",
        "wb  = gc.open_by_url(sheet)\n",
        "t_corpus = wb.worksheet(\"t_sync_voc\")\n",
        "for index, row in df_isaudio.iterrows():\n",
        "  cell = t_corpus.find(row['hash'])\n",
        "  t_corpus.update_cell(cell.row, 12, row['is_audio'])\n",
        "  print(index)\n",
        "'''"
      ],
      "metadata": {
        "id": "o14Ak_9ThEAJ",
        "colab": {
          "base_uri": "https://localhost:8080/",
          "height": 54
        },
        "outputId": "0e2d1ff3-4bd3-4428-9927-c34094b08a7f"
      },
      "execution_count": 41,
      "outputs": [
        {
          "output_type": "execute_result",
          "data": {
            "text/plain": [
              "'\\ndf_isaudio = df_langdeck.loc[df_langdeck[\\'is_audio\\']==True]\\nsheet = db_langdeck_url\\nwb  = gc.open_by_url(sheet)\\nt_corpus = wb.worksheet(\"t_sync_voc\")\\nfor index, row in df_isaudio.iterrows():\\n  cell = t_corpus.find(row[\\'hash\\'])\\n  t_corpus.update_cell(cell.row, 12, row[\\'is_audio\\'])\\n  print(index)\\n'"
            ],
            "application/vnd.google.colaboratory.intrinsic+json": {
              "type": "string"
            }
          },
          "metadata": {},
          "execution_count": 41
        }
      ]
    },
    {
      "cell_type": "markdown",
      "source": [
        "## Comparaison 1 : new records dans Airtable à ajouter dans Langdeck"
      ],
      "metadata": {
        "id": "dSbpL-Tf60jE"
      }
    },
    {
      "cell_type": "code",
      "source": [
        "sheet = db_langdeck_url\n",
        "wb  = gc.open_by_url(sheet)\n",
        "t_corpus = wb.worksheet(\"t_sync_voc\")"
      ],
      "metadata": {
        "id": "Jos5wnIZQ5xx"
      },
      "execution_count": 42,
      "outputs": []
    },
    {
      "cell_type": "code",
      "source": [
        "# la différence se fait sur le hash et non l'uid\n",
        "df_new_in_airtable = df_airtable_for_langdeck[~df_airtable_for_langdeck[\"hash\"].isin(df_langdeck[\"hash\"])]\n",
        "print (str(len(df_new_in_airtable)) + \" new airtable rows detected.\")\n",
        "for index, row in df_new_in_airtable.iterrows():\n",
        "\n",
        "  if pd.isna(row['theme_1']):\n",
        "    row['theme_1'] = \"\"\n",
        "  if pd.isna(row['theme_2']):\n",
        "    row['theme_2'] = \"\"\n",
        "  if pd.isna(row['theme_3']):\n",
        "    row['theme_3'] = \"\"        \n",
        "  print (row['hash'])    \n",
        "  t_corpus.append_row([row['hash'],\n",
        "                       row['uid'], \n",
        "                       row['maitre'], \n",
        "                       row['ordre'],\n",
        "                       row['expression'], \n",
        "                       row['idx'], \n",
        "                       str(pd.to_datetime(row['timestamp'])), \n",
        "                       row['language'],                     \n",
        "                       \"\", \n",
        "                       row['language_fulltext'],\n",
        "                       \"Files_Files_/Corpus/t_expo_audio/\" + row['uid'] + \"-\" + row['language'] + \".mp3\",\n",
        "                       False,\n",
        "                       \"\",\n",
        "                       row['theme_1'],\n",
        "                       row['theme_2'],\n",
        "                       row['theme_3']                     \n",
        "                       ])\n",
        "\n",
        "# on recharge avec les nouvelles données\n",
        "df_langdeck = get_df_langdeck(db_langdeck_url)"
      ],
      "metadata": {
        "id": "dzYwBpOK91PV",
        "colab": {
          "base_uri": "https://localhost:8080/"
        },
        "outputId": "18889934-5909-4d17-ecc5-392169bf3ee3"
      },
      "execution_count": 43,
      "outputs": [
        {
          "output_type": "stream",
          "name": "stdout",
          "text": [
            "0 new airtable rows detected.\n"
          ]
        },
        {
          "output_type": "stream",
          "name": "stderr",
          "text": [
            "/usr/local/lib/python3.7/dist-packages/ipykernel_launcher.py:15: FutureWarning: casting datetime64[ns] values to int64 with .astype(...) is deprecated and will raise in a future version. Use .view(...) instead.\n",
            "  from ipykernel import kernelapp as app\n"
          ]
        }
      ]
    },
    {
      "cell_type": "code",
      "source": [
        "len(df_langdeck)"
      ],
      "metadata": {
        "colab": {
          "base_uri": "https://localhost:8080/"
        },
        "id": "5jHqoyx-8ohZ",
        "outputId": "f9d2293f-7a1a-4379-fe44-3c2277516493"
      },
      "execution_count": 44,
      "outputs": [
        {
          "output_type": "execute_result",
          "data": {
            "text/plain": [
              "5984"
            ]
          },
          "metadata": {},
          "execution_count": 44
        }
      ]
    },
    {
      "cell_type": "markdown",
      "source": [
        "## Comparaison 2 : updated records from Airtable to Langdeck\n",
        "On met à jour les méta mais pas les traductions (traduction dans langdeck uniq.)"
      ],
      "metadata": {
        "id": "UVhcCrwy95Sj"
      }
    },
    {
      "cell_type": "code",
      "source": [
        "df_airtable_for_langdeck = get_df_airtable_for_langdeck()\n",
        "df_airtable_for_langdeck[df_airtable_for_langdeck['hash'].duplicated()].sort_values(\"hash\")\n",
        "# df_airtable_for_langdeck"
      ],
      "metadata": {
        "id": "k9Z9asUQ5mwn",
        "colab": {
          "base_uri": "https://localhost:8080/",
          "height": 86
        },
        "outputId": "54899f7f-dbe7-4f38-a3ca-abc5b17e42e0"
      },
      "execution_count": 45,
      "outputs": [
        {
          "output_type": "stream",
          "name": "stderr",
          "text": [
            "/usr/local/lib/python3.7/dist-packages/ipykernel_launcher.py:15: FutureWarning: casting datetime64[ns] values to int64 with .astype(...) is deprecated and will raise in a future version. Use .view(...) instead.\n",
            "  from ipykernel import kernelapp as app\n"
          ]
        },
        {
          "output_type": "execute_result",
          "data": {
            "text/plain": [
              "Empty DataFrame\n",
              "Columns: [uid, maitre, ordre, expression, pivot, idx, timestamp, themes, language, translation, hash, language_fulltext, unixtime, theme_1, theme_2, theme_3]\n",
              "Index: []"
            ],
            "text/html": [
              "\n",
              "  <div id=\"df-05383360-f180-4436-a871-a5dcf3163e6d\">\n",
              "    <div class=\"colab-df-container\">\n",
              "      <div>\n",
              "<style scoped>\n",
              "    .dataframe tbody tr th:only-of-type {\n",
              "        vertical-align: middle;\n",
              "    }\n",
              "\n",
              "    .dataframe tbody tr th {\n",
              "        vertical-align: top;\n",
              "    }\n",
              "\n",
              "    .dataframe thead th {\n",
              "        text-align: right;\n",
              "    }\n",
              "</style>\n",
              "<table border=\"1\" class=\"dataframe\">\n",
              "  <thead>\n",
              "    <tr style=\"text-align: right;\">\n",
              "      <th></th>\n",
              "      <th>uid</th>\n",
              "      <th>maitre</th>\n",
              "      <th>ordre</th>\n",
              "      <th>expression</th>\n",
              "      <th>pivot</th>\n",
              "      <th>idx</th>\n",
              "      <th>timestamp</th>\n",
              "      <th>themes</th>\n",
              "      <th>language</th>\n",
              "      <th>translation</th>\n",
              "      <th>hash</th>\n",
              "      <th>language_fulltext</th>\n",
              "      <th>unixtime</th>\n",
              "      <th>theme_1</th>\n",
              "      <th>theme_2</th>\n",
              "      <th>theme_3</th>\n",
              "    </tr>\n",
              "  </thead>\n",
              "  <tbody>\n",
              "  </tbody>\n",
              "</table>\n",
              "</div>\n",
              "      <button class=\"colab-df-convert\" onclick=\"convertToInteractive('df-05383360-f180-4436-a871-a5dcf3163e6d')\"\n",
              "              title=\"Convert this dataframe to an interactive table.\"\n",
              "              style=\"display:none;\">\n",
              "        \n",
              "  <svg xmlns=\"http://www.w3.org/2000/svg\" height=\"24px\"viewBox=\"0 0 24 24\"\n",
              "       width=\"24px\">\n",
              "    <path d=\"M0 0h24v24H0V0z\" fill=\"none\"/>\n",
              "    <path d=\"M18.56 5.44l.94 2.06.94-2.06 2.06-.94-2.06-.94-.94-2.06-.94 2.06-2.06.94zm-11 1L8.5 8.5l.94-2.06 2.06-.94-2.06-.94L8.5 2.5l-.94 2.06-2.06.94zm10 10l.94 2.06.94-2.06 2.06-.94-2.06-.94-.94-2.06-.94 2.06-2.06.94z\"/><path d=\"M17.41 7.96l-1.37-1.37c-.4-.4-.92-.59-1.43-.59-.52 0-1.04.2-1.43.59L10.3 9.45l-7.72 7.72c-.78.78-.78 2.05 0 2.83L4 21.41c.39.39.9.59 1.41.59.51 0 1.02-.2 1.41-.59l7.78-7.78 2.81-2.81c.8-.78.8-2.07 0-2.86zM5.41 20L4 18.59l7.72-7.72 1.47 1.35L5.41 20z\"/>\n",
              "  </svg>\n",
              "      </button>\n",
              "      \n",
              "  <style>\n",
              "    .colab-df-container {\n",
              "      display:flex;\n",
              "      flex-wrap:wrap;\n",
              "      gap: 12px;\n",
              "    }\n",
              "\n",
              "    .colab-df-convert {\n",
              "      background-color: #E8F0FE;\n",
              "      border: none;\n",
              "      border-radius: 50%;\n",
              "      cursor: pointer;\n",
              "      display: none;\n",
              "      fill: #1967D2;\n",
              "      height: 32px;\n",
              "      padding: 0 0 0 0;\n",
              "      width: 32px;\n",
              "    }\n",
              "\n",
              "    .colab-df-convert:hover {\n",
              "      background-color: #E2EBFA;\n",
              "      box-shadow: 0px 1px 2px rgba(60, 64, 67, 0.3), 0px 1px 3px 1px rgba(60, 64, 67, 0.15);\n",
              "      fill: #174EA6;\n",
              "    }\n",
              "\n",
              "    [theme=dark] .colab-df-convert {\n",
              "      background-color: #3B4455;\n",
              "      fill: #D2E3FC;\n",
              "    }\n",
              "\n",
              "    [theme=dark] .colab-df-convert:hover {\n",
              "      background-color: #434B5C;\n",
              "      box-shadow: 0px 1px 3px 1px rgba(0, 0, 0, 0.15);\n",
              "      filter: drop-shadow(0px 1px 2px rgba(0, 0, 0, 0.3));\n",
              "      fill: #FFFFFF;\n",
              "    }\n",
              "  </style>\n",
              "\n",
              "      <script>\n",
              "        const buttonEl =\n",
              "          document.querySelector('#df-05383360-f180-4436-a871-a5dcf3163e6d button.colab-df-convert');\n",
              "        buttonEl.style.display =\n",
              "          google.colab.kernel.accessAllowed ? 'block' : 'none';\n",
              "\n",
              "        async function convertToInteractive(key) {\n",
              "          const element = document.querySelector('#df-05383360-f180-4436-a871-a5dcf3163e6d');\n",
              "          const dataTable =\n",
              "            await google.colab.kernel.invokeFunction('convertToInteractive',\n",
              "                                                     [key], {});\n",
              "          if (!dataTable) return;\n",
              "\n",
              "          const docLinkHtml = 'Like what you see? Visit the ' +\n",
              "            '<a target=\"_blank\" href=https://colab.research.google.com/notebooks/data_table.ipynb>data table notebook</a>'\n",
              "            + ' to learn more about interactive tables.';\n",
              "          element.innerHTML = '';\n",
              "          dataTable['output_type'] = 'display_data';\n",
              "          await google.colab.output.renderOutput(dataTable, element);\n",
              "          const docLink = document.createElement('div');\n",
              "          docLink.innerHTML = docLinkHtml;\n",
              "          element.appendChild(docLink);\n",
              "        }\n",
              "      </script>\n",
              "    </div>\n",
              "  </div>\n",
              "  "
            ]
          },
          "metadata": {},
          "execution_count": 45
        }
      ]
    },
    {
      "cell_type": "markdown",
      "source": [
        "Mise à jour (INIT) des thématiques"
      ],
      "metadata": {
        "id": "jjRqVTgTb1IA"
      }
    },
    {
      "cell_type": "code",
      "source": [
        "for index, row in df_airtable_for_langdeck.iterrows():\n",
        "  # clé A et B : concat des clés primaires\n",
        "  t = df_langdeck.loc[df_langdeck[\"hash\"]==row['hash']].applymap(str)\n",
        "  # key_b = langdeck (sheet)\n",
        "  try:\n",
        "    key_b = t[\"theme_1\"].item() + t[\"theme_2\"].item() + t[\"theme_3\"].item()\n",
        "  except Exception as e:\n",
        "    print (row['hash'] + str(e))\n",
        "    pass\n",
        "\n",
        "  if not pd.isna(row['theme_1']):\n",
        "    key_a = row['theme_1']\n",
        "  else:\n",
        "    row['theme_1'] = \"\"\n",
        "    key_a = row['theme_1']\n",
        "\n",
        "  if not pd.isna(row['theme_2']): \n",
        "    key_a = key_a + row['theme_2']  \n",
        "  else:\n",
        "    row['theme_2'] = \"\"\n",
        "    key_a = key_a + row['theme_2']        \n",
        "      \n",
        "  if not pd.isna(row['theme_3']):\n",
        "    key_a = key_a + row['theme_3']  \n",
        "  else:\n",
        "    row['theme_3'] = \"\"    \n",
        "    key_a = key_a + row['theme_3'] \n",
        "\n",
        "  # si lex clés diffenet\n",
        "  \n",
        "  if key_a != key_b:  \n",
        "    cell = t_corpus.find(row['hash'])\n",
        "    print (\"Updating cell \" + str(cell.row))\n",
        "    t_corpus.update_cell(cell.row, 14, row['theme_1'])\n",
        "    t_corpus.update_cell(cell.row, 15, row['theme_2'])\n",
        "    t_corpus.update_cell(cell.row, 16, row['theme_3'])"
      ],
      "metadata": {
        "id": "UMwnwBkab63K"
      },
      "execution_count": 46,
      "outputs": []
    },
    {
      "cell_type": "code",
      "source": [
        "df_langdeck = get_df_langdeck(db_langdeck_url)\n",
        "df_airtable_for_langdeck[\"last_updated\"] = df_airtable_for_langdeck[[\"hash\",\"unixtime\"]].apply(lambda x:compare_langdeck_time(x[0],x[1]), axis=1) \n",
        "df_newly_updated_in_airtable = df_airtable_for_langdeck.loc[df_airtable_for_langdeck[\"last_updated\"]]"
      ],
      "metadata": {
        "id": "69gMTcukpJoK",
        "colab": {
          "base_uri": "https://localhost:8080/"
        },
        "outputId": "8b3a1c52-7d81-4ac3-89ce-3593a2fabb87"
      },
      "execution_count": 47,
      "outputs": [
        {
          "output_type": "stream",
          "name": "stderr",
          "text": [
            "/usr/local/lib/python3.7/dist-packages/ipykernel_launcher.py:15: FutureWarning: casting datetime64[ns] values to int64 with .astype(...) is deprecated and will raise in a future version. Use .view(...) instead.\n",
            "  from ipykernel import kernelapp as app\n"
          ]
        }
      ]
    },
    {
      "cell_type": "code",
      "source": [
        "sheet = db_langdeck_url\n",
        "wb  = gc.open_by_url(sheet)\n",
        "t_corpus = wb.worksheet(\"t_sync_voc\")\n",
        "# on recharge avec les nouvelles données\n",
        "df_langdeck = get_df_langdeck(db_langdeck_url)"
      ],
      "metadata": {
        "id": "6VLxsM2X_AfR",
        "colab": {
          "base_uri": "https://localhost:8080/"
        },
        "outputId": "c211ba70-cdb1-42ce-ffaf-f107e9425a56"
      },
      "execution_count": 48,
      "outputs": [
        {
          "output_type": "stream",
          "name": "stderr",
          "text": [
            "/usr/local/lib/python3.7/dist-packages/ipykernel_launcher.py:15: FutureWarning: casting datetime64[ns] values to int64 with .astype(...) is deprecated and will raise in a future version. Use .view(...) instead.\n",
            "  from ipykernel import kernelapp as app\n"
          ]
        }
      ]
    },
    {
      "cell_type": "code",
      "source": [
        "for index, row in df_newly_updated_in_airtable.iterrows():\n",
        "  # clé A et B : concat des clés primaires\n",
        "  key_a = row['maitre']+str(row[\"ordre\"])+row[\"expression\"]+row[\"idx\"]\n",
        "  t = df_langdeck.loc[df_langdeck[\"hash\"]==row['hash']].applymap(str)\n",
        "  key_b = t[\"maitre\"].item() + t[\"ordre\"].item() + t[\"expression\"].item() + t[\"idx\"].item()\n",
        "  # si lex clés diffenet\n",
        "  if key_a != key_b:\n",
        "    cell = t_corpus.find(row['hash'])\n",
        "    t_corpus.update_cell(cell.row, 3, row['maitre'])\n",
        "    t_corpus.update_cell(cell.row, 4, row['ordre'])  \n",
        "    t_corpus.update_cell(cell.row, 5, row['expression'])  \n",
        "    t_corpus.update_cell(cell.row, 6, row['idx'])\n",
        "    t_corpus.update_cell(cell.row, 7, str(pd.to_datetime(row['timestamp'])))    \n",
        "    print (\"Update from Airtable Meta \" + key_a)\n",
        "# on recharge avec les nouvelles données\n",
        "df_langdeck = get_df_langdeck(db_langdeck_url)"
      ],
      "metadata": {
        "colab": {
          "base_uri": "https://localhost:8080/"
        },
        "id": "yMmDPwYm-N5Q",
        "outputId": "752601bd-b92b-45be-d283-cc99e7454629"
      },
      "execution_count": 49,
      "outputs": [
        {
          "output_type": "stream",
          "name": "stderr",
          "text": [
            "/usr/local/lib/python3.7/dist-packages/ipykernel_launcher.py:15: FutureWarning: casting datetime64[ns] values to int64 with .astype(...) is deprecated and will raise in a future version. Use .view(...) instead.\n",
            "  from ipykernel import kernelapp as app\n"
          ]
        }
      ]
    },
    {
      "cell_type": "markdown",
      "source": [
        "## Comparaison 3 : updated records from Langdeck to Airtable"
      ],
      "metadata": {
        "id": "C0B5tQI7x2tA"
      }
    },
    {
      "cell_type": "code",
      "source": [
        "df_langdeck[\"last_updated\"] = df_langdeck[[\"hash\",\"unixtime\"]].apply(lambda x:compare_airtable_time(x[0],x[1]), axis=1) \n",
        "df_newly_updated_in_langdeck = df_langdeck.loc[df_langdeck[\"last_updated\"]]"
      ],
      "metadata": {
        "id": "-CoDE_GQx2Sy"
      },
      "execution_count": 50,
      "outputs": []
    },
    {
      "cell_type": "code",
      "source": [
        "df_airtable_for_langdeck.dtypes"
      ],
      "metadata": {
        "colab": {
          "base_uri": "https://localhost:8080/"
        },
        "id": "nBFhDEC1fPi5",
        "outputId": "26521254-fc43-4d06-ea99-3169d92c5d22"
      },
      "execution_count": 51,
      "outputs": [
        {
          "output_type": "execute_result",
          "data": {
            "text/plain": [
              "uid                          object\n",
              "maitre                       object\n",
              "ordre                         int64\n",
              "expression                   object\n",
              "pivot                        object\n",
              "idx                          object\n",
              "timestamp            datetime64[ns]\n",
              "themes                       object\n",
              "language                     object\n",
              "translation                  object\n",
              "hash                         object\n",
              "language_fulltext            object\n",
              "unixtime                      int64\n",
              "theme_1                      object\n",
              "theme_2                      object\n",
              "theme_3                      object\n",
              "last_updated                   bool\n",
              "dtype: object"
            ]
          },
          "metadata": {},
          "execution_count": 51
        }
      ]
    },
    {
      "cell_type": "code",
      "source": [
        "df_newly_updated_in_langdeck"
      ],
      "metadata": {
        "colab": {
          "base_uri": "https://localhost:8080/",
          "height": 143
        },
        "id": "S2MQkYlYzyJV",
        "outputId": "21d3f23f-59cf-47fb-c83e-384d91162a3d"
      },
      "execution_count": 52,
      "outputs": [
        {
          "output_type": "execute_result",
          "data": {
            "text/plain": [
              "Empty DataFrame\n",
              "Columns: [hash, uid, maitre, ordre, expression, idx, timestamp, language, translation, language_fulltext, audio, is_audio, uploaded_file, theme_1, theme_2, theme_3, theme_1_svg, theme_2_svg, theme_3_svg, unixtime, translation_state, translation_pivot, last_updated]\n",
              "Index: []\n",
              "\n",
              "[0 rows x 23 columns]"
            ],
            "text/html": [
              "\n",
              "  <div id=\"df-07eea653-81be-4830-b26c-f4c67bc9f950\">\n",
              "    <div class=\"colab-df-container\">\n",
              "      <div>\n",
              "<style scoped>\n",
              "    .dataframe tbody tr th:only-of-type {\n",
              "        vertical-align: middle;\n",
              "    }\n",
              "\n",
              "    .dataframe tbody tr th {\n",
              "        vertical-align: top;\n",
              "    }\n",
              "\n",
              "    .dataframe thead th {\n",
              "        text-align: right;\n",
              "    }\n",
              "</style>\n",
              "<table border=\"1\" class=\"dataframe\">\n",
              "  <thead>\n",
              "    <tr style=\"text-align: right;\">\n",
              "      <th></th>\n",
              "      <th>hash</th>\n",
              "      <th>uid</th>\n",
              "      <th>maitre</th>\n",
              "      <th>ordre</th>\n",
              "      <th>expression</th>\n",
              "      <th>idx</th>\n",
              "      <th>timestamp</th>\n",
              "      <th>language</th>\n",
              "      <th>translation</th>\n",
              "      <th>language_fulltext</th>\n",
              "      <th>...</th>\n",
              "      <th>theme_1</th>\n",
              "      <th>theme_2</th>\n",
              "      <th>theme_3</th>\n",
              "      <th>theme_1_svg</th>\n",
              "      <th>theme_2_svg</th>\n",
              "      <th>theme_3_svg</th>\n",
              "      <th>unixtime</th>\n",
              "      <th>translation_state</th>\n",
              "      <th>translation_pivot</th>\n",
              "      <th>last_updated</th>\n",
              "    </tr>\n",
              "  </thead>\n",
              "  <tbody>\n",
              "  </tbody>\n",
              "</table>\n",
              "<p>0 rows × 23 columns</p>\n",
              "</div>\n",
              "      <button class=\"colab-df-convert\" onclick=\"convertToInteractive('df-07eea653-81be-4830-b26c-f4c67bc9f950')\"\n",
              "              title=\"Convert this dataframe to an interactive table.\"\n",
              "              style=\"display:none;\">\n",
              "        \n",
              "  <svg xmlns=\"http://www.w3.org/2000/svg\" height=\"24px\"viewBox=\"0 0 24 24\"\n",
              "       width=\"24px\">\n",
              "    <path d=\"M0 0h24v24H0V0z\" fill=\"none\"/>\n",
              "    <path d=\"M18.56 5.44l.94 2.06.94-2.06 2.06-.94-2.06-.94-.94-2.06-.94 2.06-2.06.94zm-11 1L8.5 8.5l.94-2.06 2.06-.94-2.06-.94L8.5 2.5l-.94 2.06-2.06.94zm10 10l.94 2.06.94-2.06 2.06-.94-2.06-.94-.94-2.06-.94 2.06-2.06.94z\"/><path d=\"M17.41 7.96l-1.37-1.37c-.4-.4-.92-.59-1.43-.59-.52 0-1.04.2-1.43.59L10.3 9.45l-7.72 7.72c-.78.78-.78 2.05 0 2.83L4 21.41c.39.39.9.59 1.41.59.51 0 1.02-.2 1.41-.59l7.78-7.78 2.81-2.81c.8-.78.8-2.07 0-2.86zM5.41 20L4 18.59l7.72-7.72 1.47 1.35L5.41 20z\"/>\n",
              "  </svg>\n",
              "      </button>\n",
              "      \n",
              "  <style>\n",
              "    .colab-df-container {\n",
              "      display:flex;\n",
              "      flex-wrap:wrap;\n",
              "      gap: 12px;\n",
              "    }\n",
              "\n",
              "    .colab-df-convert {\n",
              "      background-color: #E8F0FE;\n",
              "      border: none;\n",
              "      border-radius: 50%;\n",
              "      cursor: pointer;\n",
              "      display: none;\n",
              "      fill: #1967D2;\n",
              "      height: 32px;\n",
              "      padding: 0 0 0 0;\n",
              "      width: 32px;\n",
              "    }\n",
              "\n",
              "    .colab-df-convert:hover {\n",
              "      background-color: #E2EBFA;\n",
              "      box-shadow: 0px 1px 2px rgba(60, 64, 67, 0.3), 0px 1px 3px 1px rgba(60, 64, 67, 0.15);\n",
              "      fill: #174EA6;\n",
              "    }\n",
              "\n",
              "    [theme=dark] .colab-df-convert {\n",
              "      background-color: #3B4455;\n",
              "      fill: #D2E3FC;\n",
              "    }\n",
              "\n",
              "    [theme=dark] .colab-df-convert:hover {\n",
              "      background-color: #434B5C;\n",
              "      box-shadow: 0px 1px 3px 1px rgba(0, 0, 0, 0.15);\n",
              "      filter: drop-shadow(0px 1px 2px rgba(0, 0, 0, 0.3));\n",
              "      fill: #FFFFFF;\n",
              "    }\n",
              "  </style>\n",
              "\n",
              "      <script>\n",
              "        const buttonEl =\n",
              "          document.querySelector('#df-07eea653-81be-4830-b26c-f4c67bc9f950 button.colab-df-convert');\n",
              "        buttonEl.style.display =\n",
              "          google.colab.kernel.accessAllowed ? 'block' : 'none';\n",
              "\n",
              "        async function convertToInteractive(key) {\n",
              "          const element = document.querySelector('#df-07eea653-81be-4830-b26c-f4c67bc9f950');\n",
              "          const dataTable =\n",
              "            await google.colab.kernel.invokeFunction('convertToInteractive',\n",
              "                                                     [key], {});\n",
              "          if (!dataTable) return;\n",
              "\n",
              "          const docLinkHtml = 'Like what you see? Visit the ' +\n",
              "            '<a target=\"_blank\" href=https://colab.research.google.com/notebooks/data_table.ipynb>data table notebook</a>'\n",
              "            + ' to learn more about interactive tables.';\n",
              "          element.innerHTML = '';\n",
              "          dataTable['output_type'] = 'display_data';\n",
              "          await google.colab.output.renderOutput(dataTable, element);\n",
              "          const docLink = document.createElement('div');\n",
              "          docLink.innerHTML = docLinkHtml;\n",
              "          element.appendChild(docLink);\n",
              "        }\n",
              "      </script>\n",
              "    </div>\n",
              "  </div>\n",
              "  "
            ]
          },
          "metadata": {},
          "execution_count": 52
        }
      ]
    },
    {
      "cell_type": "markdown",
      "source": [
        "## Mise à jour dans Airtable + maj symétrique du timestamp dans Langdeck"
      ],
      "metadata": {
        "id": "141aDNSL0ezB"
      }
    },
    {
      "cell_type": "code",
      "source": [
        "for index, row in df_newly_updated_in_langdeck.iterrows():\n",
        "  if row[\"uid\"] is not None:\n",
        "    record = airtable.match('UID', row[\"uid\"])\n",
        "    if bool(record) is True:\n",
        "      aDict = {}\n",
        "      aDict[row[\"language\"]] = row[\"translation\"]\n",
        "      airtable.update(record['id'], aDict)\n",
        "      print (\"Updating status for \" + row[\"uid\"])\n"
      ],
      "metadata": {
        "id": "HrVniAvh0hmP"
      },
      "execution_count": 53,
      "outputs": []
    },
    {
      "cell_type": "code",
      "source": [
        "for index, row in df_newly_updated_in_langdeck.iterrows():\n",
        "  if row[\"uid\"] is not None:\n",
        "    record = airtable.match('UID', row[\"uid\"])\n",
        "    if bool(record) is True:\n",
        "      # mise à jour symétrique pour garantir le même timestamp\n",
        "      cell = t_corpus.find(row['hash'])\n",
        "      t_corpus.update_cell(cell.row, 6, row[\"idx\"])\n",
        "      t_corpus.update_cell(cell.row, 7, str(pd.to_datetime(row['timestamp'])))\n",
        "# on recharge avec les nouvelles données\n",
        "df_langdeck = get_df_langdeck(db_langdeck_url)"
      ],
      "metadata": {
        "id": "dnJGy5OPev4e",
        "colab": {
          "base_uri": "https://localhost:8080/"
        },
        "outputId": "8604eb88-b72a-43ef-aef9-a07c614b0a4a"
      },
      "execution_count": 54,
      "outputs": [
        {
          "output_type": "stream",
          "name": "stderr",
          "text": [
            "/usr/local/lib/python3.7/dist-packages/ipykernel_launcher.py:15: FutureWarning: casting datetime64[ns] values to int64 with .astype(...) is deprecated and will raise in a future version. Use .view(...) instead.\n",
            "  from ipykernel import kernelapp as app\n"
          ]
        }
      ]
    },
    {
      "cell_type": "code",
      "source": [
        "# on ajoute une colonne de translation state (0=VOID; 1=PENDING; 2=OK; 3=KO)\n",
        "#df_langdeck[\"translation_state\"] = df_langdeck[\"translation\"].apply(lambda x:0 if x==\"\" else 1)"
      ],
      "metadata": {
        "id": "73Y_4g3dYqPC"
      },
      "execution_count": 55,
      "outputs": []
    },
    {
      "cell_type": "code",
      "source": [
        "def get_translation_pivot (hash):\n",
        "  r = df_airtable_for_langdeck.loc[df_airtable_for_langdeck[\"hash\"]==hash][\"pivot\"].values.item()\n",
        "  return r"
      ],
      "metadata": {
        "id": "Wk3CAfgZgcg_"
      },
      "execution_count": 56,
      "outputs": []
    },
    {
      "cell_type": "code",
      "source": [
        "# on ajoute une colonne pour la translation pivot (en)\n",
        "df_langdeck[\"translation_pivot\"] = df_langdeck[\"hash\"].apply(lambda x:get_translation_pivot(x))"
      ],
      "metadata": {
        "id": "tOyE2X1Pgl2I"
      },
      "execution_count": 57,
      "outputs": []
    },
    {
      "cell_type": "code",
      "source": [
        "df_langdeck.iloc[0]"
      ],
      "metadata": {
        "colab": {
          "base_uri": "https://localhost:8080/"
        },
        "id": "YIhovA8r_PdB",
        "outputId": "9996a60c-eb55-4de8-fc81-213bd566d238"
      },
      "execution_count": 58,
      "outputs": [
        {
          "output_type": "execute_result",
          "data": {
            "text/plain": [
              "hash                                                       f9bc13efams\n",
              "uid                                                           f9bc13ef\n",
              "maitre                                                      Médicament\n",
              "ordre                                                                3\n",
              "expression           À quel moment de la journée vous prenez le méd...\n",
              "idx                                                                  M\n",
              "timestamp                                          2022-04-01 08:15:21\n",
              "language                                                           ams\n",
              "translation                          في أي وقت من اليوم تتناول الدواء؟\n",
              "language_fulltext                                                Arabe\n",
              "audio                Files_Files_/Corpus/t_expo_audio/f9bc13ef-ams.mp3\n",
              "is_audio                                                         FALSE\n",
              "uploaded_file                                                         \n",
              "theme_1                                              Médecine générale\n",
              "theme_2                                                               \n",
              "theme_3                                                               \n",
              "theme_1_svg                              Files_Files_/misc/Médical.png\n",
              "theme_2_svg                                                           \n",
              "theme_3_svg                                                           \n",
              "unixtime                                           1648800921000000000\n",
              "translation_state                                                    2\n",
              "translation_pivot        At what time of day do you take the medicine?\n",
              "Name: 0, dtype: object"
            ]
          },
          "metadata": {},
          "execution_count": 58
        }
      ]
    },
    {
      "cell_type": "markdown",
      "source": [
        "# On cherche une traduction avec l'IA si manquante"
      ],
      "metadata": {
        "id": "seTQr_K4sOM-"
      }
    },
    {
      "cell_type": "code",
      "source": [
        "def fetch_translation_ia (input, language, filter):\n",
        "\n",
        "  iso_codes = {\"ams\": \"ar\",\n",
        "              \"rus\": \"ru\",\n",
        "              \"ukr\": \"uk\",\n",
        "              \"rou\": \"ro\",\n",
        "              \"alb\": \"sq\",\n",
        "              \"eng\": \"en\",\n",
        "              \"tur\": \"tr\",\n",
        "              \"tig\": \"ti\",\n",
        "              \"geo\": \"ka\",\n",
        "              \"arm\": \"hy\",\n",
        "              \"dar\": \"fa\",\n",
        "              \"prs\": \"fa\",\n",
        "              \"pst\": \"ps\",\n",
        "              \"esp\": \"es\",\n",
        "              \"pol\": \"pl\",\n",
        "              \"som\": \"so\",\n",
        "              \"amh\": \"am\",\n",
        "              \"all\": \"de\",\n",
        "              \"hun\": \"hu\" }  \n",
        "\n",
        "  iso_code = iso_codes[language]\n",
        "  translation = \"\"\n",
        "  state = 0\n",
        "  if language == filter:\n",
        "    try:\n",
        "      # print (input + \" : \" + language)\n",
        "      translation = translate(input, iso_code)\n",
        "      if translation != \"\":\n",
        "        print (input + \" : \" + translation)\n",
        "        state = 2\n",
        "    except Exception as e:\n",
        "      translation = \"\"\n",
        "      state = 0\n",
        "      pass\n",
        "\n",
        "  return translation, state"
      ],
      "metadata": {
        "id": "5yBa0wYetY_-"
      },
      "execution_count": 59,
      "outputs": []
    },
    {
      "cell_type": "code",
      "source": [
        "len(df_langdeck)"
      ],
      "metadata": {
        "colab": {
          "base_uri": "https://localhost:8080/"
        },
        "id": "elax1JFNU7yd",
        "outputId": "9d7f9492-18c0-42a7-e34c-02d4429bcd22"
      },
      "execution_count": 60,
      "outputs": [
        {
          "output_type": "execute_result",
          "data": {
            "text/plain": [
              "5984"
            ]
          },
          "metadata": {},
          "execution_count": 60
        }
      ]
    },
    {
      "cell_type": "code",
      "source": [
        "df_langdeck = get_df_langdeck(db_langdeck_url)"
      ],
      "metadata": {
        "colab": {
          "base_uri": "https://localhost:8080/"
        },
        "id": "DLrEvgkxvKtI",
        "outputId": "fe7ad899-4ce0-4e19-e40b-cedecf892d47"
      },
      "execution_count": 63,
      "outputs": [
        {
          "output_type": "stream",
          "name": "stderr",
          "text": [
            "/usr/local/lib/python3.7/dist-packages/ipykernel_launcher.py:15: FutureWarning: casting datetime64[ns] values to int64 with .astype(...) is deprecated and will raise in a future version. Use .view(...) instead.\n",
            "  from ipykernel import kernelapp as app\n"
          ]
        }
      ]
    },
    {
      "cell_type": "code",
      "source": [
        "df_langdeck.iloc[1367]"
      ],
      "metadata": {
        "colab": {
          "base_uri": "https://localhost:8080/"
        },
        "id": "G2hE36u7Yvu6",
        "outputId": "9bb89f5b-20aa-48cd-9616-1441790abd5f"
      },
      "execution_count": 61,
      "outputs": [
        {
          "output_type": "execute_result",
          "data": {
            "text/plain": [
              "hash                                                       95c4a863ukr\n",
              "uid                                                           95c4a863\n",
              "maitre                                                         Fébrile\n",
              "ordre                                                                3\n",
              "expression           Accès fébrile concomitant chez un autre membre...\n",
              "idx                                                                  F\n",
              "timestamp                                          2022-04-01 08:27:19\n",
              "language                                                           ukr\n",
              "translation                  Супроводжуючий жар у іншого члена сім'ї ?\n",
              "language_fulltext                                            Ukrainien\n",
              "audio                Files_Files_/Corpus/t_expo_audio/95c4a863-ukr.mp3\n",
              "is_audio                                                         FALSE\n",
              "uploaded_file                                                         \n",
              "theme_1                                                    Vaccination\n",
              "theme_2                                                               \n",
              "theme_3                                                               \n",
              "theme_1_svg                                                           \n",
              "theme_2_svg                                                           \n",
              "theme_3_svg                                                           \n",
              "unixtime                                           1648801639000000000\n",
              "translation_state                                                    1\n",
              "translation_pivot    Concomitant febrile attack in an other family ...\n",
              "Name: 1367, dtype: object"
            ]
          },
          "metadata": {},
          "execution_count": 61
        }
      ]
    },
    {
      "cell_type": "code",
      "source": [
        "df_langdeck.loc[df_langdeck[\"translation_state\"]==2]"
      ],
      "metadata": {
        "colab": {
          "base_uri": "https://localhost:8080/",
          "height": 887
        },
        "id": "Q6nyxI-yWbCk",
        "outputId": "72022692-1949-42b9-ea98-91ca6a5213ff"
      },
      "execution_count": 68,
      "outputs": [
        {
          "output_type": "execute_result",
          "data": {
            "text/plain": [
              "             hash       uid        maitre  ordre                                         expression idx           timestamp language                                        translation language_fulltext  ... uploaded_file            theme_1             theme_2 theme_3 theme_1_svg theme_2_svg theme_3_svg             unixtime translation_state                                  translation_pivot\n",
              "2390  95c4a863alb  95c4a863       Fébrile      3  Accès fébrile concomitant chez un autre membre...   F 2022-04-01 08:27:19      alb  Njëkohësisht febrile attack në një tjetër anët...          Albanais  ...                      Vaccination                                                                  1648801639000000000                 2  Concomitant febrile attack in an other family ...\n",
              "2391  30579682alb  30579682      Accident      1                                           Accident   A 2022-03-29 15:58:05      alb                                           Aksident          Albanais  ...                      Vaccination                                                                  1648569485000000000                 2                                           Accident\n",
              "2392  6f214e4calb  6f214e4c      Accident      2                                  Accident cérébral   A 2022-03-29 16:10:09      alb                                    Aksident në tru          Albanais  ...                      Vaccination                                                                  1648570209000000000                 2                                     Brain accident\n",
              "2395  f54f56c9alb  f54f56c9           Âge      1                                                Âge   A 2022-03-31 14:33:23      alb                                              Mosha          Albanais  ...                       Etat civil                                                                  1648737203000000000                 2                                                Age\n",
              "2397  8b195cf4alb  8b195cf4      Allergie      1                                           Allergie   A 2022-03-29 15:58:09      alb                                             Alergy          Albanais  ...                      Vaccination                                                                  1648569489000000000                 2                                            Allergy\n",
              "...           ...       ...           ...    ...                                                ...  ..                 ...      ...                                                ...               ...  ...           ...                ...                 ...     ...         ...         ...         ...                  ...               ...                                                ...\n",
              "2719  39cba202alb  39cba202  Vomissements      1                                       Vomissements   V 2022-03-29 16:00:30      alb                                             Votimi          Albanais  ...                      Vaccination             Maladie                                              1648569630000000000                 2                                           Vomiting\n",
              "2720  80aac977alb  80aac977   Vaccination      3               Vos vaccinations sont-elles à jour ?   V 2022-03-29 16:00:31      alb              A janë vaksinimet tuaja deri në datë?          Albanais  ...                      Vaccination                                                                  1648569631000000000                 2                 Are your vaccinations up to date ?\n",
              "2725  36e66161alb  36e66161    Contagieux      3            Y a-t-il des cas contagieux à l'école ?   C 2022-03-29 16:00:33      alb                    A ka raste ngjitëse në shkollë?          Albanais  ...                      Vaccination                                                                  1648569633000000000                 2             Are there contagious cases at school ?\n",
              "2727  d3dba8e4alb  d3dba8e4          Zona      1                                               Zona   Z 2022-03-29 16:00:34      alb                                           Shingles          Albanais  ...                      Vaccination             Maladie                                              1648569634000000000                 2                                           Shingles\n",
              "5463  8745562balb  8745562b       Comment      3                               Comment allez-vous ?   C 2022-04-11 13:41:03      alb                                           Si jeni?          Albanais  ...                Médecine générale  Dossier du patient                                              1649684463000000000                 2                                    How do you do ?\n",
              "\n",
              "[198 rows x 22 columns]"
            ],
            "text/html": [
              "\n",
              "  <div id=\"df-75383008-3fc6-45b2-90f8-c76ab9c740cd\">\n",
              "    <div class=\"colab-df-container\">\n",
              "      <div>\n",
              "<style scoped>\n",
              "    .dataframe tbody tr th:only-of-type {\n",
              "        vertical-align: middle;\n",
              "    }\n",
              "\n",
              "    .dataframe tbody tr th {\n",
              "        vertical-align: top;\n",
              "    }\n",
              "\n",
              "    .dataframe thead th {\n",
              "        text-align: right;\n",
              "    }\n",
              "</style>\n",
              "<table border=\"1\" class=\"dataframe\">\n",
              "  <thead>\n",
              "    <tr style=\"text-align: right;\">\n",
              "      <th></th>\n",
              "      <th>hash</th>\n",
              "      <th>uid</th>\n",
              "      <th>maitre</th>\n",
              "      <th>ordre</th>\n",
              "      <th>expression</th>\n",
              "      <th>idx</th>\n",
              "      <th>timestamp</th>\n",
              "      <th>language</th>\n",
              "      <th>translation</th>\n",
              "      <th>language_fulltext</th>\n",
              "      <th>...</th>\n",
              "      <th>uploaded_file</th>\n",
              "      <th>theme_1</th>\n",
              "      <th>theme_2</th>\n",
              "      <th>theme_3</th>\n",
              "      <th>theme_1_svg</th>\n",
              "      <th>theme_2_svg</th>\n",
              "      <th>theme_3_svg</th>\n",
              "      <th>unixtime</th>\n",
              "      <th>translation_state</th>\n",
              "      <th>translation_pivot</th>\n",
              "    </tr>\n",
              "  </thead>\n",
              "  <tbody>\n",
              "    <tr>\n",
              "      <th>2390</th>\n",
              "      <td>95c4a863alb</td>\n",
              "      <td>95c4a863</td>\n",
              "      <td>Fébrile</td>\n",
              "      <td>3</td>\n",
              "      <td>Accès fébrile concomitant chez un autre membre...</td>\n",
              "      <td>F</td>\n",
              "      <td>2022-04-01 08:27:19</td>\n",
              "      <td>alb</td>\n",
              "      <td>Njëkohësisht febrile attack në një tjetër anët...</td>\n",
              "      <td>Albanais</td>\n",
              "      <td>...</td>\n",
              "      <td></td>\n",
              "      <td>Vaccination</td>\n",
              "      <td></td>\n",
              "      <td></td>\n",
              "      <td></td>\n",
              "      <td></td>\n",
              "      <td></td>\n",
              "      <td>1648801639000000000</td>\n",
              "      <td>2</td>\n",
              "      <td>Concomitant febrile attack in an other family ...</td>\n",
              "    </tr>\n",
              "    <tr>\n",
              "      <th>2391</th>\n",
              "      <td>30579682alb</td>\n",
              "      <td>30579682</td>\n",
              "      <td>Accident</td>\n",
              "      <td>1</td>\n",
              "      <td>Accident</td>\n",
              "      <td>A</td>\n",
              "      <td>2022-03-29 15:58:05</td>\n",
              "      <td>alb</td>\n",
              "      <td>Aksident</td>\n",
              "      <td>Albanais</td>\n",
              "      <td>...</td>\n",
              "      <td></td>\n",
              "      <td>Vaccination</td>\n",
              "      <td></td>\n",
              "      <td></td>\n",
              "      <td></td>\n",
              "      <td></td>\n",
              "      <td></td>\n",
              "      <td>1648569485000000000</td>\n",
              "      <td>2</td>\n",
              "      <td>Accident</td>\n",
              "    </tr>\n",
              "    <tr>\n",
              "      <th>2392</th>\n",
              "      <td>6f214e4calb</td>\n",
              "      <td>6f214e4c</td>\n",
              "      <td>Accident</td>\n",
              "      <td>2</td>\n",
              "      <td>Accident cérébral</td>\n",
              "      <td>A</td>\n",
              "      <td>2022-03-29 16:10:09</td>\n",
              "      <td>alb</td>\n",
              "      <td>Aksident në tru</td>\n",
              "      <td>Albanais</td>\n",
              "      <td>...</td>\n",
              "      <td></td>\n",
              "      <td>Vaccination</td>\n",
              "      <td></td>\n",
              "      <td></td>\n",
              "      <td></td>\n",
              "      <td></td>\n",
              "      <td></td>\n",
              "      <td>1648570209000000000</td>\n",
              "      <td>2</td>\n",
              "      <td>Brain accident</td>\n",
              "    </tr>\n",
              "    <tr>\n",
              "      <th>2395</th>\n",
              "      <td>f54f56c9alb</td>\n",
              "      <td>f54f56c9</td>\n",
              "      <td>Âge</td>\n",
              "      <td>1</td>\n",
              "      <td>Âge</td>\n",
              "      <td>A</td>\n",
              "      <td>2022-03-31 14:33:23</td>\n",
              "      <td>alb</td>\n",
              "      <td>Mosha</td>\n",
              "      <td>Albanais</td>\n",
              "      <td>...</td>\n",
              "      <td></td>\n",
              "      <td>Etat civil</td>\n",
              "      <td></td>\n",
              "      <td></td>\n",
              "      <td></td>\n",
              "      <td></td>\n",
              "      <td></td>\n",
              "      <td>1648737203000000000</td>\n",
              "      <td>2</td>\n",
              "      <td>Age</td>\n",
              "    </tr>\n",
              "    <tr>\n",
              "      <th>2397</th>\n",
              "      <td>8b195cf4alb</td>\n",
              "      <td>8b195cf4</td>\n",
              "      <td>Allergie</td>\n",
              "      <td>1</td>\n",
              "      <td>Allergie</td>\n",
              "      <td>A</td>\n",
              "      <td>2022-03-29 15:58:09</td>\n",
              "      <td>alb</td>\n",
              "      <td>Alergy</td>\n",
              "      <td>Albanais</td>\n",
              "      <td>...</td>\n",
              "      <td></td>\n",
              "      <td>Vaccination</td>\n",
              "      <td></td>\n",
              "      <td></td>\n",
              "      <td></td>\n",
              "      <td></td>\n",
              "      <td></td>\n",
              "      <td>1648569489000000000</td>\n",
              "      <td>2</td>\n",
              "      <td>Allergy</td>\n",
              "    </tr>\n",
              "    <tr>\n",
              "      <th>...</th>\n",
              "      <td>...</td>\n",
              "      <td>...</td>\n",
              "      <td>...</td>\n",
              "      <td>...</td>\n",
              "      <td>...</td>\n",
              "      <td>...</td>\n",
              "      <td>...</td>\n",
              "      <td>...</td>\n",
              "      <td>...</td>\n",
              "      <td>...</td>\n",
              "      <td>...</td>\n",
              "      <td>...</td>\n",
              "      <td>...</td>\n",
              "      <td>...</td>\n",
              "      <td>...</td>\n",
              "      <td>...</td>\n",
              "      <td>...</td>\n",
              "      <td>...</td>\n",
              "      <td>...</td>\n",
              "      <td>...</td>\n",
              "      <td>...</td>\n",
              "    </tr>\n",
              "    <tr>\n",
              "      <th>2719</th>\n",
              "      <td>39cba202alb</td>\n",
              "      <td>39cba202</td>\n",
              "      <td>Vomissements</td>\n",
              "      <td>1</td>\n",
              "      <td>Vomissements</td>\n",
              "      <td>V</td>\n",
              "      <td>2022-03-29 16:00:30</td>\n",
              "      <td>alb</td>\n",
              "      <td>Votimi</td>\n",
              "      <td>Albanais</td>\n",
              "      <td>...</td>\n",
              "      <td></td>\n",
              "      <td>Vaccination</td>\n",
              "      <td>Maladie</td>\n",
              "      <td></td>\n",
              "      <td></td>\n",
              "      <td></td>\n",
              "      <td></td>\n",
              "      <td>1648569630000000000</td>\n",
              "      <td>2</td>\n",
              "      <td>Vomiting</td>\n",
              "    </tr>\n",
              "    <tr>\n",
              "      <th>2720</th>\n",
              "      <td>80aac977alb</td>\n",
              "      <td>80aac977</td>\n",
              "      <td>Vaccination</td>\n",
              "      <td>3</td>\n",
              "      <td>Vos vaccinations sont-elles à jour ?</td>\n",
              "      <td>V</td>\n",
              "      <td>2022-03-29 16:00:31</td>\n",
              "      <td>alb</td>\n",
              "      <td>A janë vaksinimet tuaja deri në datë?</td>\n",
              "      <td>Albanais</td>\n",
              "      <td>...</td>\n",
              "      <td></td>\n",
              "      <td>Vaccination</td>\n",
              "      <td></td>\n",
              "      <td></td>\n",
              "      <td></td>\n",
              "      <td></td>\n",
              "      <td></td>\n",
              "      <td>1648569631000000000</td>\n",
              "      <td>2</td>\n",
              "      <td>Are your vaccinations up to date ?</td>\n",
              "    </tr>\n",
              "    <tr>\n",
              "      <th>2725</th>\n",
              "      <td>36e66161alb</td>\n",
              "      <td>36e66161</td>\n",
              "      <td>Contagieux</td>\n",
              "      <td>3</td>\n",
              "      <td>Y a-t-il des cas contagieux à l'école ?</td>\n",
              "      <td>C</td>\n",
              "      <td>2022-03-29 16:00:33</td>\n",
              "      <td>alb</td>\n",
              "      <td>A ka raste ngjitëse në shkollë?</td>\n",
              "      <td>Albanais</td>\n",
              "      <td>...</td>\n",
              "      <td></td>\n",
              "      <td>Vaccination</td>\n",
              "      <td></td>\n",
              "      <td></td>\n",
              "      <td></td>\n",
              "      <td></td>\n",
              "      <td></td>\n",
              "      <td>1648569633000000000</td>\n",
              "      <td>2</td>\n",
              "      <td>Are there contagious cases at school ?</td>\n",
              "    </tr>\n",
              "    <tr>\n",
              "      <th>2727</th>\n",
              "      <td>d3dba8e4alb</td>\n",
              "      <td>d3dba8e4</td>\n",
              "      <td>Zona</td>\n",
              "      <td>1</td>\n",
              "      <td>Zona</td>\n",
              "      <td>Z</td>\n",
              "      <td>2022-03-29 16:00:34</td>\n",
              "      <td>alb</td>\n",
              "      <td>Shingles</td>\n",
              "      <td>Albanais</td>\n",
              "      <td>...</td>\n",
              "      <td></td>\n",
              "      <td>Vaccination</td>\n",
              "      <td>Maladie</td>\n",
              "      <td></td>\n",
              "      <td></td>\n",
              "      <td></td>\n",
              "      <td></td>\n",
              "      <td>1648569634000000000</td>\n",
              "      <td>2</td>\n",
              "      <td>Shingles</td>\n",
              "    </tr>\n",
              "    <tr>\n",
              "      <th>5463</th>\n",
              "      <td>8745562balb</td>\n",
              "      <td>8745562b</td>\n",
              "      <td>Comment</td>\n",
              "      <td>3</td>\n",
              "      <td>Comment allez-vous ?</td>\n",
              "      <td>C</td>\n",
              "      <td>2022-04-11 13:41:03</td>\n",
              "      <td>alb</td>\n",
              "      <td>Si jeni?</td>\n",
              "      <td>Albanais</td>\n",
              "      <td>...</td>\n",
              "      <td></td>\n",
              "      <td>Médecine générale</td>\n",
              "      <td>Dossier du patient</td>\n",
              "      <td></td>\n",
              "      <td></td>\n",
              "      <td></td>\n",
              "      <td></td>\n",
              "      <td>1649684463000000000</td>\n",
              "      <td>2</td>\n",
              "      <td>How do you do ?</td>\n",
              "    </tr>\n",
              "  </tbody>\n",
              "</table>\n",
              "<p>198 rows × 22 columns</p>\n",
              "</div>\n",
              "      <button class=\"colab-df-convert\" onclick=\"convertToInteractive('df-75383008-3fc6-45b2-90f8-c76ab9c740cd')\"\n",
              "              title=\"Convert this dataframe to an interactive table.\"\n",
              "              style=\"display:none;\">\n",
              "        \n",
              "  <svg xmlns=\"http://www.w3.org/2000/svg\" height=\"24px\"viewBox=\"0 0 24 24\"\n",
              "       width=\"24px\">\n",
              "    <path d=\"M0 0h24v24H0V0z\" fill=\"none\"/>\n",
              "    <path d=\"M18.56 5.44l.94 2.06.94-2.06 2.06-.94-2.06-.94-.94-2.06-.94 2.06-2.06.94zm-11 1L8.5 8.5l.94-2.06 2.06-.94-2.06-.94L8.5 2.5l-.94 2.06-2.06.94zm10 10l.94 2.06.94-2.06 2.06-.94-2.06-.94-.94-2.06-.94 2.06-2.06.94z\"/><path d=\"M17.41 7.96l-1.37-1.37c-.4-.4-.92-.59-1.43-.59-.52 0-1.04.2-1.43.59L10.3 9.45l-7.72 7.72c-.78.78-.78 2.05 0 2.83L4 21.41c.39.39.9.59 1.41.59.51 0 1.02-.2 1.41-.59l7.78-7.78 2.81-2.81c.8-.78.8-2.07 0-2.86zM5.41 20L4 18.59l7.72-7.72 1.47 1.35L5.41 20z\"/>\n",
              "  </svg>\n",
              "      </button>\n",
              "      \n",
              "  <style>\n",
              "    .colab-df-container {\n",
              "      display:flex;\n",
              "      flex-wrap:wrap;\n",
              "      gap: 12px;\n",
              "    }\n",
              "\n",
              "    .colab-df-convert {\n",
              "      background-color: #E8F0FE;\n",
              "      border: none;\n",
              "      border-radius: 50%;\n",
              "      cursor: pointer;\n",
              "      display: none;\n",
              "      fill: #1967D2;\n",
              "      height: 32px;\n",
              "      padding: 0 0 0 0;\n",
              "      width: 32px;\n",
              "    }\n",
              "\n",
              "    .colab-df-convert:hover {\n",
              "      background-color: #E2EBFA;\n",
              "      box-shadow: 0px 1px 2px rgba(60, 64, 67, 0.3), 0px 1px 3px 1px rgba(60, 64, 67, 0.15);\n",
              "      fill: #174EA6;\n",
              "    }\n",
              "\n",
              "    [theme=dark] .colab-df-convert {\n",
              "      background-color: #3B4455;\n",
              "      fill: #D2E3FC;\n",
              "    }\n",
              "\n",
              "    [theme=dark] .colab-df-convert:hover {\n",
              "      background-color: #434B5C;\n",
              "      box-shadow: 0px 1px 3px 1px rgba(0, 0, 0, 0.15);\n",
              "      filter: drop-shadow(0px 1px 2px rgba(0, 0, 0, 0.3));\n",
              "      fill: #FFFFFF;\n",
              "    }\n",
              "  </style>\n",
              "\n",
              "      <script>\n",
              "        const buttonEl =\n",
              "          document.querySelector('#df-75383008-3fc6-45b2-90f8-c76ab9c740cd button.colab-df-convert');\n",
              "        buttonEl.style.display =\n",
              "          google.colab.kernel.accessAllowed ? 'block' : 'none';\n",
              "\n",
              "        async function convertToInteractive(key) {\n",
              "          const element = document.querySelector('#df-75383008-3fc6-45b2-90f8-c76ab9c740cd');\n",
              "          const dataTable =\n",
              "            await google.colab.kernel.invokeFunction('convertToInteractive',\n",
              "                                                     [key], {});\n",
              "          if (!dataTable) return;\n",
              "\n",
              "          const docLinkHtml = 'Like what you see? Visit the ' +\n",
              "            '<a target=\"_blank\" href=https://colab.research.google.com/notebooks/data_table.ipynb>data table notebook</a>'\n",
              "            + ' to learn more about interactive tables.';\n",
              "          element.innerHTML = '';\n",
              "          dataTable['output_type'] = 'display_data';\n",
              "          await google.colab.output.renderOutput(dataTable, element);\n",
              "          const docLink = document.createElement('div');\n",
              "          docLink.innerHTML = docLinkHtml;\n",
              "          element.appendChild(docLink);\n",
              "        }\n",
              "      </script>\n",
              "    </div>\n",
              "  </div>\n",
              "  "
            ]
          },
          "metadata": {},
          "execution_count": 68
        }
      ]
    },
    {
      "cell_type": "code",
      "source": [
        "filter = \"alb\"\n",
        "df_langdeck[[\"translation\",\"translation_state\"]] = df_langdeck[[\"translation\",\"translation_pivot\",\"language\",\"translation_state\"]].apply(\n",
        "    lambda x:(x[0],x[3]) \n",
        "    if x[1]==0 \n",
        "    else fetch_translation_ia(x[1],x[2], filter), \n",
        "    axis=1, \n",
        "    result_type=\"expand\")"
      ],
      "metadata": {
        "id": "tKWh8cWfv4bK"
      },
      "execution_count": null,
      "outputs": []
    },
    {
      "cell_type": "code",
      "source": [
        "try:\n",
        "  t_sync_voc = wb.worksheet(\"t_sync_voc\")\n",
        "  wb.del_worksheet(t_sync_voc)\n",
        "except:\n",
        "  print (\"Onglet inexistant !\")\n",
        "\n",
        "wb.add_worksheet(\"t_sync_voc\", 1, 1)\n",
        "export_sheet = wb.worksheet(\"t_sync_voc\")\n",
        "set_with_dataframe(export_sheet, df_langdeck)"
      ],
      "metadata": {
        "id": "jovn4_URZlYF"
      },
      "execution_count": 69,
      "outputs": []
    },
    {
      "cell_type": "markdown",
      "source": [
        "# Vue Lexique"
      ],
      "metadata": {
        "id": "Ir-IVRoHBzNM"
      }
    },
    {
      "cell_type": "code",
      "source": [
        "t_lexique = wb.worksheet(\"t_lex_theme\")\n",
        "# on recharge avec les nouvelles données"
      ],
      "metadata": {
        "id": "5NQSoutoCfO_"
      },
      "execution_count": 70,
      "outputs": []
    },
    {
      "cell_type": "markdown",
      "source": [
        "### nouvelles colonnes Thèmes"
      ],
      "metadata": {
        "id": "Sd5ifS4CHtYv"
      }
    },
    {
      "cell_type": "code",
      "source": [
        "# on crée une liste des valeurs uniques des 3 colonnes de thèmes\n",
        "frames = [df_langdeck[\"theme_1\"],df_langdeck[\"theme_2\"],df_langdeck[\"theme_3\"]]\n",
        "vk_theme = list(set(pd.concat(frames).to_list()))\n",
        "vk_theme.remove('')"
      ],
      "metadata": {
        "id": "mgpUaOFoHBC_"
      },
      "execution_count": 71,
      "outputs": []
    },
    {
      "cell_type": "code",
      "source": [
        "# on ajoute les colonnes à partir de la liste et on valorise T/F\n",
        "df_langdeck = pd.concat([df_langdeck, pd.DataFrame(columns = vk_theme)])\n",
        "for item in vk_theme:\n",
        "  print (item)\n",
        "  df_langdeck[item] = df_langdeck[[\"theme_1\",\"theme_2\",\"theme_3\"]].apply(lambda x:True if (x[0]==item or x[1]==item or x[2]==item) else False, axis=1)"
      ],
      "metadata": {
        "colab": {
          "base_uri": "https://localhost:8080/"
        },
        "id": "3TBJdhyPPGnd",
        "outputId": "5aa519c6-08d7-4528-df62-d34c94a5df18"
      },
      "execution_count": 72,
      "outputs": [
        {
          "output_type": "stream",
          "name": "stdout",
          "text": [
            "Dossier du patient\n",
            "Douleur\n",
            "Médecine générale\n",
            "Corps humain\n",
            "Examen du patient\n",
            "Etat civil\n",
            "Vaccination\n",
            "Hépato-Gastroentérologie\n",
            "Maladie\n"
          ]
        }
      ]
    },
    {
      "cell_type": "code",
      "source": [
        "frames=[]\n",
        "df=pd.DataFrame()\n",
        "frames.append(df)\n",
        "# pour chaque thème on ajoute les expressions trouvées\n",
        "for item in vk_theme:\n",
        "  df_temp = df_langdeck.loc[df_langdeck[item] == True]\n",
        "  df_temp.insert(0,'theme', item)\n",
        "  df_temp.insert(0,'section', df_temp[\"ordre\"].apply(lambda x:(\"Vocabulaire\" if x==1 else \"Expression\" if x==2 else \"Phrase\" if x>=3 else \"NONE\")))\n",
        "  df_temp.insert(0,'theme_hash', df_temp[\"hash\"].apply(lambda x:\"\".join(item.split())+x))\n",
        "  frames.append(df_temp)\n",
        "  # on concatène le tout dans un new dataframe\n",
        "  df_langdeck_theme = pd.concat(frames)"
      ],
      "metadata": {
        "id": "Q0wzscMluZ1Y"
      },
      "execution_count": 73,
      "outputs": []
    },
    {
      "cell_type": "code",
      "source": [
        "df_langdeck_theme.iloc[0]"
      ],
      "metadata": {
        "colab": {
          "base_uri": "https://localhost:8080/"
        },
        "id": "WX3YYEdGvAeb",
        "outputId": "db01ad14-20da-461d-f628-1ed7a33cc4d1"
      },
      "execution_count": 74,
      "outputs": [
        {
          "output_type": "execute_result",
          "data": {
            "text/plain": [
              "theme_hash                                        Dossierdupatientf49563a9ams\n",
              "section                                                           Vocabulaire\n",
              "theme                                                      Dossier du patient\n",
              "hash                                                              f49563a9ams\n",
              "uid                                                                  f49563a9\n",
              "maitre                                                                    AME\n",
              "ordre                                                                     1.0\n",
              "expression                                         AME - Aide médicale d'État\n",
              "idx                                                                         A\n",
              "timestamp                                                 2022-03-29 15:58:10\n",
              "language                                                                  ams\n",
              "translation                                                                  \n",
              "language_fulltext                                                       Arabe\n",
              "audio                       Files_Files_/Corpus/t_expo_audio/f49563a9-ams.mp3\n",
              "is_audio                                                                FALSE\n",
              "uploaded_file                                                                \n",
              "theme_1                                                           Vaccination\n",
              "theme_2                                                    Dossier du patient\n",
              "theme_3                                                                      \n",
              "theme_1_svg                                     Files_Files_/misc/Médical.png\n",
              "theme_2_svg                    Files_Files_/misc/Dossier du patient-small.png\n",
              "theme_3_svg                                                                  \n",
              "unixtime                                                1648569490000000000.0\n",
              "translation_state                                                         0.0\n",
              "translation_pivot                                      AME- State Medical Aid\n",
              "Dossier du patient                                                       True\n",
              "Douleur                                                                 False\n",
              "Médecine générale                                                       False\n",
              "Corps humain                                                            False\n",
              "Examen du patient                                                       False\n",
              "Etat civil                                                              False\n",
              "Vaccination                                                              True\n",
              "Hépato-Gastroentérologie                                                False\n",
              "Maladie                                                                 False\n",
              "Name: 14, dtype: object"
            ]
          },
          "metadata": {},
          "execution_count": 74
        }
      ]
    },
    {
      "cell_type": "code",
      "source": [
        "try:\n",
        "  t_lexique = wb.worksheet(\"t_lex_theme\")\n",
        "  wb.del_worksheet(t_lexique)\n",
        "except:\n",
        "  print (\"Onglet inexistant !\")\n",
        "\n",
        "wb.add_worksheet(\"t_lex_theme\", 1, 1)\n",
        "export_sheet = wb.worksheet(\"t_lex_theme\")\n",
        "set_with_dataframe(export_sheet, df_langdeck_theme)"
      ],
      "metadata": {
        "id": "bkhhHzyUR7kC"
      },
      "execution_count": 75,
      "outputs": []
    },
    {
      "cell_type": "markdown",
      "source": [
        "# FIN pour l'instant"
      ],
      "metadata": {
        "id": "QPYy0V1g8Fq8"
      }
    },
    {
      "cell_type": "markdown",
      "source": [
        "# Appel IA Google Translate"
      ],
      "metadata": {
        "id": "mAMwNbxDr4LA"
      }
    },
    {
      "cell_type": "code",
      "source": [
        ""
      ],
      "metadata": {
        "id": "WA76ThQgsMFQ"
      },
      "execution_count": null,
      "outputs": []
    },
    {
      "cell_type": "code",
      "source": [
        "translation = translate(\"Forearm\", \"ar\")\n",
        "translation"
      ],
      "metadata": {
        "colab": {
          "base_uri": "https://localhost:8080/",
          "height": 36
        },
        "id": "zBg0AoDKwI_V",
        "outputId": "c53a14b5-ce15-4cc9-8858-d0b714b324ed"
      },
      "execution_count": null,
      "outputs": [
        {
          "output_type": "execute_result",
          "data": {
            "text/plain": [
              "'الكتاب'"
            ],
            "application/vnd.google.colaboratory.intrinsic+json": {
              "type": "string"
            }
          },
          "metadata": {},
          "execution_count": 115
        }
      ]
    },
    {
      "cell_type": "code",
      "source": [
        "def txtai_alpha (input, iso_code):\n",
        "  try:\n",
        "    translation = translate(input, \"ar\")\n",
        "  except Exception as e:\n",
        "    translation = \"\"\n",
        "    pass\n",
        "  return translation, 2\n"
      ],
      "metadata": {
        "id": "2O-27iacec86"
      },
      "execution_count": null,
      "outputs": []
    },
    {
      "cell_type": "code",
      "source": [
        "df_txtai = df_langdeck.loc[(df_langdeck[\"language\"]==\"ams\") & (df_langdeck[\"translation_state\"]==0) & (df_langdeck[\"idx\"]==\"B\")]"
      ],
      "metadata": {
        "id": "Rb8_7yp4dY1b"
      },
      "execution_count": null,
      "outputs": []
    },
    {
      "cell_type": "code",
      "source": [
        "df_txtai"
      ],
      "metadata": {
        "colab": {
          "base_uri": "https://localhost:8080/",
          "height": 309
        },
        "id": "ZEApvzNzh8C5",
        "outputId": "72538fd2-cfb8-4a4c-f1c5-5cd19d902537"
      },
      "execution_count": null,
      "outputs": [
        {
          "output_type": "execute_result",
          "data": {
            "text/plain": [
              "           hash       uid   maitre  ordre expression idx           timestamp language translation language_fulltext  ... translation_state Corps humain Etat civil Hépato-Gastroentérologie Examen du patient Vaccination Maladie Dossier du patient Douleur  Médecine générale\n",
              "56  f3bff76cams  f3bff76c  Bonjour    1.0    Bonjour   B 2022-03-31 14:33:26      ams                         Arabe  ...               0.0        False      False                    False             False       False   False               True   False               True\n",
              "58  b80ffb21ams  b80ffb21   Bouche    1.0     Bouche   B 2022-03-31 15:25:18      ams                         Arabe  ...               0.0         True      False                    False             False       False   False              False   False              False\n",
              "\n",
              "[2 rows x 30 columns]"
            ],
            "text/html": [
              "\n",
              "  <div id=\"df-b80230e8-9af6-4292-9daa-915fb11cda71\">\n",
              "    <div class=\"colab-df-container\">\n",
              "      <div>\n",
              "<style scoped>\n",
              "    .dataframe tbody tr th:only-of-type {\n",
              "        vertical-align: middle;\n",
              "    }\n",
              "\n",
              "    .dataframe tbody tr th {\n",
              "        vertical-align: top;\n",
              "    }\n",
              "\n",
              "    .dataframe thead th {\n",
              "        text-align: right;\n",
              "    }\n",
              "</style>\n",
              "<table border=\"1\" class=\"dataframe\">\n",
              "  <thead>\n",
              "    <tr style=\"text-align: right;\">\n",
              "      <th></th>\n",
              "      <th>hash</th>\n",
              "      <th>uid</th>\n",
              "      <th>maitre</th>\n",
              "      <th>ordre</th>\n",
              "      <th>expression</th>\n",
              "      <th>idx</th>\n",
              "      <th>timestamp</th>\n",
              "      <th>language</th>\n",
              "      <th>translation</th>\n",
              "      <th>language_fulltext</th>\n",
              "      <th>...</th>\n",
              "      <th>translation_state</th>\n",
              "      <th>Corps humain</th>\n",
              "      <th>Etat civil</th>\n",
              "      <th>Hépato-Gastroentérologie</th>\n",
              "      <th>Examen du patient</th>\n",
              "      <th>Vaccination</th>\n",
              "      <th>Maladie</th>\n",
              "      <th>Dossier du patient</th>\n",
              "      <th>Douleur</th>\n",
              "      <th>Médecine générale</th>\n",
              "    </tr>\n",
              "  </thead>\n",
              "  <tbody>\n",
              "    <tr>\n",
              "      <th>56</th>\n",
              "      <td>f3bff76cams</td>\n",
              "      <td>f3bff76c</td>\n",
              "      <td>Bonjour</td>\n",
              "      <td>1.0</td>\n",
              "      <td>Bonjour</td>\n",
              "      <td>B</td>\n",
              "      <td>2022-03-31 14:33:26</td>\n",
              "      <td>ams</td>\n",
              "      <td></td>\n",
              "      <td>Arabe</td>\n",
              "      <td>...</td>\n",
              "      <td>0.0</td>\n",
              "      <td>False</td>\n",
              "      <td>False</td>\n",
              "      <td>False</td>\n",
              "      <td>False</td>\n",
              "      <td>False</td>\n",
              "      <td>False</td>\n",
              "      <td>True</td>\n",
              "      <td>False</td>\n",
              "      <td>True</td>\n",
              "    </tr>\n",
              "    <tr>\n",
              "      <th>58</th>\n",
              "      <td>b80ffb21ams</td>\n",
              "      <td>b80ffb21</td>\n",
              "      <td>Bouche</td>\n",
              "      <td>1.0</td>\n",
              "      <td>Bouche</td>\n",
              "      <td>B</td>\n",
              "      <td>2022-03-31 15:25:18</td>\n",
              "      <td>ams</td>\n",
              "      <td></td>\n",
              "      <td>Arabe</td>\n",
              "      <td>...</td>\n",
              "      <td>0.0</td>\n",
              "      <td>True</td>\n",
              "      <td>False</td>\n",
              "      <td>False</td>\n",
              "      <td>False</td>\n",
              "      <td>False</td>\n",
              "      <td>False</td>\n",
              "      <td>False</td>\n",
              "      <td>False</td>\n",
              "      <td>False</td>\n",
              "    </tr>\n",
              "  </tbody>\n",
              "</table>\n",
              "<p>2 rows × 30 columns</p>\n",
              "</div>\n",
              "      <button class=\"colab-df-convert\" onclick=\"convertToInteractive('df-b80230e8-9af6-4292-9daa-915fb11cda71')\"\n",
              "              title=\"Convert this dataframe to an interactive table.\"\n",
              "              style=\"display:none;\">\n",
              "        \n",
              "  <svg xmlns=\"http://www.w3.org/2000/svg\" height=\"24px\"viewBox=\"0 0 24 24\"\n",
              "       width=\"24px\">\n",
              "    <path d=\"M0 0h24v24H0V0z\" fill=\"none\"/>\n",
              "    <path d=\"M18.56 5.44l.94 2.06.94-2.06 2.06-.94-2.06-.94-.94-2.06-.94 2.06-2.06.94zm-11 1L8.5 8.5l.94-2.06 2.06-.94-2.06-.94L8.5 2.5l-.94 2.06-2.06.94zm10 10l.94 2.06.94-2.06 2.06-.94-2.06-.94-.94-2.06-.94 2.06-2.06.94z\"/><path d=\"M17.41 7.96l-1.37-1.37c-.4-.4-.92-.59-1.43-.59-.52 0-1.04.2-1.43.59L10.3 9.45l-7.72 7.72c-.78.78-.78 2.05 0 2.83L4 21.41c.39.39.9.59 1.41.59.51 0 1.02-.2 1.41-.59l7.78-7.78 2.81-2.81c.8-.78.8-2.07 0-2.86zM5.41 20L4 18.59l7.72-7.72 1.47 1.35L5.41 20z\"/>\n",
              "  </svg>\n",
              "      </button>\n",
              "      \n",
              "  <style>\n",
              "    .colab-df-container {\n",
              "      display:flex;\n",
              "      flex-wrap:wrap;\n",
              "      gap: 12px;\n",
              "    }\n",
              "\n",
              "    .colab-df-convert {\n",
              "      background-color: #E8F0FE;\n",
              "      border: none;\n",
              "      border-radius: 50%;\n",
              "      cursor: pointer;\n",
              "      display: none;\n",
              "      fill: #1967D2;\n",
              "      height: 32px;\n",
              "      padding: 0 0 0 0;\n",
              "      width: 32px;\n",
              "    }\n",
              "\n",
              "    .colab-df-convert:hover {\n",
              "      background-color: #E2EBFA;\n",
              "      box-shadow: 0px 1px 2px rgba(60, 64, 67, 0.3), 0px 1px 3px 1px rgba(60, 64, 67, 0.15);\n",
              "      fill: #174EA6;\n",
              "    }\n",
              "\n",
              "    [theme=dark] .colab-df-convert {\n",
              "      background-color: #3B4455;\n",
              "      fill: #D2E3FC;\n",
              "    }\n",
              "\n",
              "    [theme=dark] .colab-df-convert:hover {\n",
              "      background-color: #434B5C;\n",
              "      box-shadow: 0px 1px 3px 1px rgba(0, 0, 0, 0.15);\n",
              "      filter: drop-shadow(0px 1px 2px rgba(0, 0, 0, 0.3));\n",
              "      fill: #FFFFFF;\n",
              "    }\n",
              "  </style>\n",
              "\n",
              "      <script>\n",
              "        const buttonEl =\n",
              "          document.querySelector('#df-b80230e8-9af6-4292-9daa-915fb11cda71 button.colab-df-convert');\n",
              "        buttonEl.style.display =\n",
              "          google.colab.kernel.accessAllowed ? 'block' : 'none';\n",
              "\n",
              "        async function convertToInteractive(key) {\n",
              "          const element = document.querySelector('#df-b80230e8-9af6-4292-9daa-915fb11cda71');\n",
              "          const dataTable =\n",
              "            await google.colab.kernel.invokeFunction('convertToInteractive',\n",
              "                                                     [key], {});\n",
              "          if (!dataTable) return;\n",
              "\n",
              "          const docLinkHtml = 'Like what you see? Visit the ' +\n",
              "            '<a target=\"_blank\" href=https://colab.research.google.com/notebooks/data_table.ipynb>data table notebook</a>'\n",
              "            + ' to learn more about interactive tables.';\n",
              "          element.innerHTML = '';\n",
              "          dataTable['output_type'] = 'display_data';\n",
              "          await google.colab.output.renderOutput(dataTable, element);\n",
              "          const docLink = document.createElement('div');\n",
              "          docLink.innerHTML = docLinkHtml;\n",
              "          element.appendChild(docLink);\n",
              "        }\n",
              "      </script>\n",
              "    </div>\n",
              "  </div>\n",
              "  "
            ]
          },
          "metadata": {},
          "execution_count": 110
        }
      ]
    },
    {
      "cell_type": "code",
      "source": [
        "df_txtai[[\"translation\",\"translation_state\"]]=df_txtai[[\"expression\",\"translation_state\"]].apply(lambda x: txtai_alpha(x[0], \"ar\") if x[1]==0 else \"\", axis=1, result_type=\"expand\")"
      ],
      "metadata": {
        "colab": {
          "base_uri": "https://localhost:8080/"
        },
        "id": "SfW1iuNBfnYC",
        "outputId": "57a3a260-c65f-4f9b-a907-4e12385a3017"
      },
      "execution_count": null,
      "outputs": [
        {
          "output_type": "stream",
          "name": "stderr",
          "text": [
            "/usr/local/lib/python3.7/dist-packages/pandas/core/frame.py:3641: SettingWithCopyWarning: \n",
            "A value is trying to be set on a copy of a slice from a DataFrame.\n",
            "Try using .loc[row_indexer,col_indexer] = value instead\n",
            "\n",
            "See the caveats in the documentation: https://pandas.pydata.org/pandas-docs/stable/user_guide/indexing.html#returning-a-view-versus-a-copy\n",
            "  self[k1] = value[k2]\n"
          ]
        }
      ]
    },
    {
      "cell_type": "code",
      "source": [
        "df_txtai"
      ],
      "metadata": {
        "colab": {
          "base_uri": "https://localhost:8080/",
          "height": 309
        },
        "id": "M_d22c-AgudT",
        "outputId": "c12bef21-f7f8-4a8f-e1d2-a03377031678"
      },
      "execution_count": null,
      "outputs": [
        {
          "output_type": "execute_result",
          "data": {
            "text/plain": [
              "           hash       uid   maitre  ordre expression idx           timestamp language                                        translation language_fulltext  ... translation_state Corps humain Etat civil Hépato-Gastroentérologie Examen du patient Vaccination Maladie Dossier du patient Douleur  Médecine générale\n",
              "56  f3bff76cams  f3bff76c  Bonjour    1.0    Bonjour   B 2022-03-31 14:33:26      ams  مرحباً، مرحباً، مرحباً، مرحباً، مرحباً، مرحباً...             Arabe  ...                 2        False      False                    False             False       False   False               True   False               True\n",
              "58  b80ffb21ams  b80ffb21   Bouche    1.0     Bouche   B 2022-03-31 15:25:18      ams                                  لاشتششششششششششششش             Arabe  ...                 2         True      False                    False             False       False   False              False   False              False\n",
              "\n",
              "[2 rows x 30 columns]"
            ],
            "text/html": [
              "\n",
              "  <div id=\"df-012d4183-01fc-4919-8964-9671cfadb2ac\">\n",
              "    <div class=\"colab-df-container\">\n",
              "      <div>\n",
              "<style scoped>\n",
              "    .dataframe tbody tr th:only-of-type {\n",
              "        vertical-align: middle;\n",
              "    }\n",
              "\n",
              "    .dataframe tbody tr th {\n",
              "        vertical-align: top;\n",
              "    }\n",
              "\n",
              "    .dataframe thead th {\n",
              "        text-align: right;\n",
              "    }\n",
              "</style>\n",
              "<table border=\"1\" class=\"dataframe\">\n",
              "  <thead>\n",
              "    <tr style=\"text-align: right;\">\n",
              "      <th></th>\n",
              "      <th>hash</th>\n",
              "      <th>uid</th>\n",
              "      <th>maitre</th>\n",
              "      <th>ordre</th>\n",
              "      <th>expression</th>\n",
              "      <th>idx</th>\n",
              "      <th>timestamp</th>\n",
              "      <th>language</th>\n",
              "      <th>translation</th>\n",
              "      <th>language_fulltext</th>\n",
              "      <th>...</th>\n",
              "      <th>translation_state</th>\n",
              "      <th>Corps humain</th>\n",
              "      <th>Etat civil</th>\n",
              "      <th>Hépato-Gastroentérologie</th>\n",
              "      <th>Examen du patient</th>\n",
              "      <th>Vaccination</th>\n",
              "      <th>Maladie</th>\n",
              "      <th>Dossier du patient</th>\n",
              "      <th>Douleur</th>\n",
              "      <th>Médecine générale</th>\n",
              "    </tr>\n",
              "  </thead>\n",
              "  <tbody>\n",
              "    <tr>\n",
              "      <th>56</th>\n",
              "      <td>f3bff76cams</td>\n",
              "      <td>f3bff76c</td>\n",
              "      <td>Bonjour</td>\n",
              "      <td>1.0</td>\n",
              "      <td>Bonjour</td>\n",
              "      <td>B</td>\n",
              "      <td>2022-03-31 14:33:26</td>\n",
              "      <td>ams</td>\n",
              "      <td>مرحباً، مرحباً، مرحباً، مرحباً، مرحباً، مرحباً...</td>\n",
              "      <td>Arabe</td>\n",
              "      <td>...</td>\n",
              "      <td>2</td>\n",
              "      <td>False</td>\n",
              "      <td>False</td>\n",
              "      <td>False</td>\n",
              "      <td>False</td>\n",
              "      <td>False</td>\n",
              "      <td>False</td>\n",
              "      <td>True</td>\n",
              "      <td>False</td>\n",
              "      <td>True</td>\n",
              "    </tr>\n",
              "    <tr>\n",
              "      <th>58</th>\n",
              "      <td>b80ffb21ams</td>\n",
              "      <td>b80ffb21</td>\n",
              "      <td>Bouche</td>\n",
              "      <td>1.0</td>\n",
              "      <td>Bouche</td>\n",
              "      <td>B</td>\n",
              "      <td>2022-03-31 15:25:18</td>\n",
              "      <td>ams</td>\n",
              "      <td>لاشتششششششششششششش</td>\n",
              "      <td>Arabe</td>\n",
              "      <td>...</td>\n",
              "      <td>2</td>\n",
              "      <td>True</td>\n",
              "      <td>False</td>\n",
              "      <td>False</td>\n",
              "      <td>False</td>\n",
              "      <td>False</td>\n",
              "      <td>False</td>\n",
              "      <td>False</td>\n",
              "      <td>False</td>\n",
              "      <td>False</td>\n",
              "    </tr>\n",
              "  </tbody>\n",
              "</table>\n",
              "<p>2 rows × 30 columns</p>\n",
              "</div>\n",
              "      <button class=\"colab-df-convert\" onclick=\"convertToInteractive('df-012d4183-01fc-4919-8964-9671cfadb2ac')\"\n",
              "              title=\"Convert this dataframe to an interactive table.\"\n",
              "              style=\"display:none;\">\n",
              "        \n",
              "  <svg xmlns=\"http://www.w3.org/2000/svg\" height=\"24px\"viewBox=\"0 0 24 24\"\n",
              "       width=\"24px\">\n",
              "    <path d=\"M0 0h24v24H0V0z\" fill=\"none\"/>\n",
              "    <path d=\"M18.56 5.44l.94 2.06.94-2.06 2.06-.94-2.06-.94-.94-2.06-.94 2.06-2.06.94zm-11 1L8.5 8.5l.94-2.06 2.06-.94-2.06-.94L8.5 2.5l-.94 2.06-2.06.94zm10 10l.94 2.06.94-2.06 2.06-.94-2.06-.94-.94-2.06-.94 2.06-2.06.94z\"/><path d=\"M17.41 7.96l-1.37-1.37c-.4-.4-.92-.59-1.43-.59-.52 0-1.04.2-1.43.59L10.3 9.45l-7.72 7.72c-.78.78-.78 2.05 0 2.83L4 21.41c.39.39.9.59 1.41.59.51 0 1.02-.2 1.41-.59l7.78-7.78 2.81-2.81c.8-.78.8-2.07 0-2.86zM5.41 20L4 18.59l7.72-7.72 1.47 1.35L5.41 20z\"/>\n",
              "  </svg>\n",
              "      </button>\n",
              "      \n",
              "  <style>\n",
              "    .colab-df-container {\n",
              "      display:flex;\n",
              "      flex-wrap:wrap;\n",
              "      gap: 12px;\n",
              "    }\n",
              "\n",
              "    .colab-df-convert {\n",
              "      background-color: #E8F0FE;\n",
              "      border: none;\n",
              "      border-radius: 50%;\n",
              "      cursor: pointer;\n",
              "      display: none;\n",
              "      fill: #1967D2;\n",
              "      height: 32px;\n",
              "      padding: 0 0 0 0;\n",
              "      width: 32px;\n",
              "    }\n",
              "\n",
              "    .colab-df-convert:hover {\n",
              "      background-color: #E2EBFA;\n",
              "      box-shadow: 0px 1px 2px rgba(60, 64, 67, 0.3), 0px 1px 3px 1px rgba(60, 64, 67, 0.15);\n",
              "      fill: #174EA6;\n",
              "    }\n",
              "\n",
              "    [theme=dark] .colab-df-convert {\n",
              "      background-color: #3B4455;\n",
              "      fill: #D2E3FC;\n",
              "    }\n",
              "\n",
              "    [theme=dark] .colab-df-convert:hover {\n",
              "      background-color: #434B5C;\n",
              "      box-shadow: 0px 1px 3px 1px rgba(0, 0, 0, 0.15);\n",
              "      filter: drop-shadow(0px 1px 2px rgba(0, 0, 0, 0.3));\n",
              "      fill: #FFFFFF;\n",
              "    }\n",
              "  </style>\n",
              "\n",
              "      <script>\n",
              "        const buttonEl =\n",
              "          document.querySelector('#df-012d4183-01fc-4919-8964-9671cfadb2ac button.colab-df-convert');\n",
              "        buttonEl.style.display =\n",
              "          google.colab.kernel.accessAllowed ? 'block' : 'none';\n",
              "\n",
              "        async function convertToInteractive(key) {\n",
              "          const element = document.querySelector('#df-012d4183-01fc-4919-8964-9671cfadb2ac');\n",
              "          const dataTable =\n",
              "            await google.colab.kernel.invokeFunction('convertToInteractive',\n",
              "                                                     [key], {});\n",
              "          if (!dataTable) return;\n",
              "\n",
              "          const docLinkHtml = 'Like what you see? Visit the ' +\n",
              "            '<a target=\"_blank\" href=https://colab.research.google.com/notebooks/data_table.ipynb>data table notebook</a>'\n",
              "            + ' to learn more about interactive tables.';\n",
              "          element.innerHTML = '';\n",
              "          dataTable['output_type'] = 'display_data';\n",
              "          await google.colab.output.renderOutput(dataTable, element);\n",
              "          const docLink = document.createElement('div');\n",
              "          docLink.innerHTML = docLinkHtml;\n",
              "          element.appendChild(docLink);\n",
              "        }\n",
              "      </script>\n",
              "    </div>\n",
              "  </div>\n",
              "  "
            ]
          },
          "metadata": {},
          "execution_count": 112
        }
      ]
    },
    {
      "cell_type": "markdown",
      "source": [
        "## Mise à jour inutile dans Langdeck !!"
      ],
      "metadata": {
        "id": "RqdCS-uf8K04"
      }
    },
    {
      "cell_type": "code",
      "source": [
        "df_airtable_for_langdeck = get_df_airtable_for_langdeck()\n",
        "df_airtable_for_langdeck[\"last_updated\"] = df_airtable_for_langdeck[[\"hash\",\"unixtime\"]].apply(lambda x:compare_langdeck_time(x[0],x[1]), axis=1) \n",
        "df_newly_updated_in_airtable = df_airtable_for_langdeck.loc[df_airtable_for_langdeck[\"last_updated\"]]\n"
      ],
      "metadata": {
        "colab": {
          "base_uri": "https://localhost:8080/"
        },
        "id": "KQmaIp8Y1kDA",
        "outputId": "f25d7d6f-2811-43eb-c23a-ba9fbf2dbd0a"
      },
      "execution_count": null,
      "outputs": [
        {
          "output_type": "stream",
          "name": "stderr",
          "text": [
            "/usr/local/lib/python3.7/dist-packages/ipykernel_launcher.py:15: FutureWarning: casting datetime64[ns] values to int64 with .astype(...) is deprecated and will raise in a future version. Use .view(...) instead.\n",
            "  from ipykernel import kernelapp as app\n"
          ]
        }
      ]
    },
    {
      "cell_type": "markdown",
      "source": [
        "### Récupération des audios"
      ],
      "metadata": {
        "id": "FF4BrmOs8RvT"
      }
    },
    {
      "cell_type": "code",
      "source": [
        "df_newly_updated_in_airtable\n"
      ],
      "metadata": {
        "colab": {
          "base_uri": "https://localhost:8080/",
          "height": 424
        },
        "id": "OWxPy-9-4r3L",
        "outputId": "a6b0191f-6f96-423f-d7bd-e18d6c3084af"
      },
      "execution_count": null,
      "outputs": [
        {
          "output_type": "execute_result",
          "data": {
            "text/plain": [
              "           uid      maitre  ordre            expression idx           timestamp language     translation         hash language_fulltext             unixtime  last_updated\n",
              "78    8745562b     Comment      3  Comment allez-vous ?   C 2022-04-11 13:41:03      ams             NaN  8745562bams             Arabe  1649684463000000000          True\n",
              "187   2bd46073        Main      1                  Main   M 2022-04-11 13:41:01      ams             NaN  2bd46073ams             Arabe  1649684461000000000          True\n",
              "201   80e0c323  Médicament      1         Médicament(s)   M 2022-04-11 13:41:02      ams         تَورُّم  80e0c323ams             Arabe  1649684462000000000          True\n",
              "257   ba312208         Âge      3  Quel âge avez-vous ?   A 2022-04-11 13:41:02      ams  ما سبب زيارتك؟  ba312208ams             Arabe  1649684462000000000          True\n",
              "529   2bd46073        Main      1                  Main   M 2022-04-11 13:41:01      eng            Hand  2bd46073eng           Anglais  1649684461000000000          True\n",
              "...        ...         ...    ...                   ...  ..                 ...      ...             ...          ...               ...                  ...           ...\n",
              "5045  ba312208         Âge      3  Quel âge avez-vous ?   A 2022-04-11 13:41:02      pol  Ile masz lat ?  ba312208pol          Polonais  1649684462000000000          True\n",
              "5208  8745562b     Comment      3  Comment allez-vous ?   C 2022-04-11 13:41:03      tig             NaN  8745562btig          Tigrinya  1649684463000000000          True\n",
              "5317  2bd46073        Main      1                  Main   M 2022-04-11 13:41:01      tig             NaN  2bd46073tig          Tigrinya  1649684461000000000          True\n",
              "5331  80e0c323  Médicament      1         Médicament(s)   M 2022-04-11 13:41:02      tig             ከኒና  80e0c323tig          Tigrinya  1649684462000000000          True\n",
              "5387  ba312208         Âge      3  Quel âge avez-vous ?   A 2022-04-11 13:41:02      tig     ክንደይ ዕድሜኻ ?  ba312208tig          Tigrinya  1649684462000000000          True\n",
              "\n",
              "[63 rows x 12 columns]"
            ],
            "text/html": [
              "\n",
              "  <div id=\"df-0a400336-6d82-4fa3-aa8f-9bc7ac5b776a\">\n",
              "    <div class=\"colab-df-container\">\n",
              "      <div>\n",
              "<style scoped>\n",
              "    .dataframe tbody tr th:only-of-type {\n",
              "        vertical-align: middle;\n",
              "    }\n",
              "\n",
              "    .dataframe tbody tr th {\n",
              "        vertical-align: top;\n",
              "    }\n",
              "\n",
              "    .dataframe thead th {\n",
              "        text-align: right;\n",
              "    }\n",
              "</style>\n",
              "<table border=\"1\" class=\"dataframe\">\n",
              "  <thead>\n",
              "    <tr style=\"text-align: right;\">\n",
              "      <th></th>\n",
              "      <th>uid</th>\n",
              "      <th>maitre</th>\n",
              "      <th>ordre</th>\n",
              "      <th>expression</th>\n",
              "      <th>idx</th>\n",
              "      <th>timestamp</th>\n",
              "      <th>language</th>\n",
              "      <th>translation</th>\n",
              "      <th>hash</th>\n",
              "      <th>language_fulltext</th>\n",
              "      <th>unixtime</th>\n",
              "      <th>last_updated</th>\n",
              "    </tr>\n",
              "  </thead>\n",
              "  <tbody>\n",
              "    <tr>\n",
              "      <th>78</th>\n",
              "      <td>8745562b</td>\n",
              "      <td>Comment</td>\n",
              "      <td>3</td>\n",
              "      <td>Comment allez-vous ?</td>\n",
              "      <td>C</td>\n",
              "      <td>2022-04-11 13:41:03</td>\n",
              "      <td>ams</td>\n",
              "      <td>NaN</td>\n",
              "      <td>8745562bams</td>\n",
              "      <td>Arabe</td>\n",
              "      <td>1649684463000000000</td>\n",
              "      <td>True</td>\n",
              "    </tr>\n",
              "    <tr>\n",
              "      <th>187</th>\n",
              "      <td>2bd46073</td>\n",
              "      <td>Main</td>\n",
              "      <td>1</td>\n",
              "      <td>Main</td>\n",
              "      <td>M</td>\n",
              "      <td>2022-04-11 13:41:01</td>\n",
              "      <td>ams</td>\n",
              "      <td>NaN</td>\n",
              "      <td>2bd46073ams</td>\n",
              "      <td>Arabe</td>\n",
              "      <td>1649684461000000000</td>\n",
              "      <td>True</td>\n",
              "    </tr>\n",
              "    <tr>\n",
              "      <th>201</th>\n",
              "      <td>80e0c323</td>\n",
              "      <td>Médicament</td>\n",
              "      <td>1</td>\n",
              "      <td>Médicament(s)</td>\n",
              "      <td>M</td>\n",
              "      <td>2022-04-11 13:41:02</td>\n",
              "      <td>ams</td>\n",
              "      <td>تَورُّم</td>\n",
              "      <td>80e0c323ams</td>\n",
              "      <td>Arabe</td>\n",
              "      <td>1649684462000000000</td>\n",
              "      <td>True</td>\n",
              "    </tr>\n",
              "    <tr>\n",
              "      <th>257</th>\n",
              "      <td>ba312208</td>\n",
              "      <td>Âge</td>\n",
              "      <td>3</td>\n",
              "      <td>Quel âge avez-vous ?</td>\n",
              "      <td>A</td>\n",
              "      <td>2022-04-11 13:41:02</td>\n",
              "      <td>ams</td>\n",
              "      <td>ما سبب زيارتك؟</td>\n",
              "      <td>ba312208ams</td>\n",
              "      <td>Arabe</td>\n",
              "      <td>1649684462000000000</td>\n",
              "      <td>True</td>\n",
              "    </tr>\n",
              "    <tr>\n",
              "      <th>529</th>\n",
              "      <td>2bd46073</td>\n",
              "      <td>Main</td>\n",
              "      <td>1</td>\n",
              "      <td>Main</td>\n",
              "      <td>M</td>\n",
              "      <td>2022-04-11 13:41:01</td>\n",
              "      <td>eng</td>\n",
              "      <td>Hand</td>\n",
              "      <td>2bd46073eng</td>\n",
              "      <td>Anglais</td>\n",
              "      <td>1649684461000000000</td>\n",
              "      <td>True</td>\n",
              "    </tr>\n",
              "    <tr>\n",
              "      <th>...</th>\n",
              "      <td>...</td>\n",
              "      <td>...</td>\n",
              "      <td>...</td>\n",
              "      <td>...</td>\n",
              "      <td>...</td>\n",
              "      <td>...</td>\n",
              "      <td>...</td>\n",
              "      <td>...</td>\n",
              "      <td>...</td>\n",
              "      <td>...</td>\n",
              "      <td>...</td>\n",
              "      <td>...</td>\n",
              "    </tr>\n",
              "    <tr>\n",
              "      <th>5045</th>\n",
              "      <td>ba312208</td>\n",
              "      <td>Âge</td>\n",
              "      <td>3</td>\n",
              "      <td>Quel âge avez-vous ?</td>\n",
              "      <td>A</td>\n",
              "      <td>2022-04-11 13:41:02</td>\n",
              "      <td>pol</td>\n",
              "      <td>Ile masz lat ?</td>\n",
              "      <td>ba312208pol</td>\n",
              "      <td>Polonais</td>\n",
              "      <td>1649684462000000000</td>\n",
              "      <td>True</td>\n",
              "    </tr>\n",
              "    <tr>\n",
              "      <th>5208</th>\n",
              "      <td>8745562b</td>\n",
              "      <td>Comment</td>\n",
              "      <td>3</td>\n",
              "      <td>Comment allez-vous ?</td>\n",
              "      <td>C</td>\n",
              "      <td>2022-04-11 13:41:03</td>\n",
              "      <td>tig</td>\n",
              "      <td>NaN</td>\n",
              "      <td>8745562btig</td>\n",
              "      <td>Tigrinya</td>\n",
              "      <td>1649684463000000000</td>\n",
              "      <td>True</td>\n",
              "    </tr>\n",
              "    <tr>\n",
              "      <th>5317</th>\n",
              "      <td>2bd46073</td>\n",
              "      <td>Main</td>\n",
              "      <td>1</td>\n",
              "      <td>Main</td>\n",
              "      <td>M</td>\n",
              "      <td>2022-04-11 13:41:01</td>\n",
              "      <td>tig</td>\n",
              "      <td>NaN</td>\n",
              "      <td>2bd46073tig</td>\n",
              "      <td>Tigrinya</td>\n",
              "      <td>1649684461000000000</td>\n",
              "      <td>True</td>\n",
              "    </tr>\n",
              "    <tr>\n",
              "      <th>5331</th>\n",
              "      <td>80e0c323</td>\n",
              "      <td>Médicament</td>\n",
              "      <td>1</td>\n",
              "      <td>Médicament(s)</td>\n",
              "      <td>M</td>\n",
              "      <td>2022-04-11 13:41:02</td>\n",
              "      <td>tig</td>\n",
              "      <td>ከኒና</td>\n",
              "      <td>80e0c323tig</td>\n",
              "      <td>Tigrinya</td>\n",
              "      <td>1649684462000000000</td>\n",
              "      <td>True</td>\n",
              "    </tr>\n",
              "    <tr>\n",
              "      <th>5387</th>\n",
              "      <td>ba312208</td>\n",
              "      <td>Âge</td>\n",
              "      <td>3</td>\n",
              "      <td>Quel âge avez-vous ?</td>\n",
              "      <td>A</td>\n",
              "      <td>2022-04-11 13:41:02</td>\n",
              "      <td>tig</td>\n",
              "      <td>ክንደይ ዕድሜኻ ?</td>\n",
              "      <td>ba312208tig</td>\n",
              "      <td>Tigrinya</td>\n",
              "      <td>1649684462000000000</td>\n",
              "      <td>True</td>\n",
              "    </tr>\n",
              "  </tbody>\n",
              "</table>\n",
              "<p>63 rows × 12 columns</p>\n",
              "</div>\n",
              "      <button class=\"colab-df-convert\" onclick=\"convertToInteractive('df-0a400336-6d82-4fa3-aa8f-9bc7ac5b776a')\"\n",
              "              title=\"Convert this dataframe to an interactive table.\"\n",
              "              style=\"display:none;\">\n",
              "        \n",
              "  <svg xmlns=\"http://www.w3.org/2000/svg\" height=\"24px\"viewBox=\"0 0 24 24\"\n",
              "       width=\"24px\">\n",
              "    <path d=\"M0 0h24v24H0V0z\" fill=\"none\"/>\n",
              "    <path d=\"M18.56 5.44l.94 2.06.94-2.06 2.06-.94-2.06-.94-.94-2.06-.94 2.06-2.06.94zm-11 1L8.5 8.5l.94-2.06 2.06-.94-2.06-.94L8.5 2.5l-.94 2.06-2.06.94zm10 10l.94 2.06.94-2.06 2.06-.94-2.06-.94-.94-2.06-.94 2.06-2.06.94z\"/><path d=\"M17.41 7.96l-1.37-1.37c-.4-.4-.92-.59-1.43-.59-.52 0-1.04.2-1.43.59L10.3 9.45l-7.72 7.72c-.78.78-.78 2.05 0 2.83L4 21.41c.39.39.9.59 1.41.59.51 0 1.02-.2 1.41-.59l7.78-7.78 2.81-2.81c.8-.78.8-2.07 0-2.86zM5.41 20L4 18.59l7.72-7.72 1.47 1.35L5.41 20z\"/>\n",
              "  </svg>\n",
              "      </button>\n",
              "      \n",
              "  <style>\n",
              "    .colab-df-container {\n",
              "      display:flex;\n",
              "      flex-wrap:wrap;\n",
              "      gap: 12px;\n",
              "    }\n",
              "\n",
              "    .colab-df-convert {\n",
              "      background-color: #E8F0FE;\n",
              "      border: none;\n",
              "      border-radius: 50%;\n",
              "      cursor: pointer;\n",
              "      display: none;\n",
              "      fill: #1967D2;\n",
              "      height: 32px;\n",
              "      padding: 0 0 0 0;\n",
              "      width: 32px;\n",
              "    }\n",
              "\n",
              "    .colab-df-convert:hover {\n",
              "      background-color: #E2EBFA;\n",
              "      box-shadow: 0px 1px 2px rgba(60, 64, 67, 0.3), 0px 1px 3px 1px rgba(60, 64, 67, 0.15);\n",
              "      fill: #174EA6;\n",
              "    }\n",
              "\n",
              "    [theme=dark] .colab-df-convert {\n",
              "      background-color: #3B4455;\n",
              "      fill: #D2E3FC;\n",
              "    }\n",
              "\n",
              "    [theme=dark] .colab-df-convert:hover {\n",
              "      background-color: #434B5C;\n",
              "      box-shadow: 0px 1px 3px 1px rgba(0, 0, 0, 0.15);\n",
              "      filter: drop-shadow(0px 1px 2px rgba(0, 0, 0, 0.3));\n",
              "      fill: #FFFFFF;\n",
              "    }\n",
              "  </style>\n",
              "\n",
              "      <script>\n",
              "        const buttonEl =\n",
              "          document.querySelector('#df-0a400336-6d82-4fa3-aa8f-9bc7ac5b776a button.colab-df-convert');\n",
              "        buttonEl.style.display =\n",
              "          google.colab.kernel.accessAllowed ? 'block' : 'none';\n",
              "\n",
              "        async function convertToInteractive(key) {\n",
              "          const element = document.querySelector('#df-0a400336-6d82-4fa3-aa8f-9bc7ac5b776a');\n",
              "          const dataTable =\n",
              "            await google.colab.kernel.invokeFunction('convertToInteractive',\n",
              "                                                     [key], {});\n",
              "          if (!dataTable) return;\n",
              "\n",
              "          const docLinkHtml = 'Like what you see? Visit the ' +\n",
              "            '<a target=\"_blank\" href=https://colab.research.google.com/notebooks/data_table.ipynb>data table notebook</a>'\n",
              "            + ' to learn more about interactive tables.';\n",
              "          element.innerHTML = '';\n",
              "          dataTable['output_type'] = 'display_data';\n",
              "          await google.colab.output.renderOutput(dataTable, element);\n",
              "          const docLink = document.createElement('div');\n",
              "          docLink.innerHTML = docLinkHtml;\n",
              "          element.appendChild(docLink);\n",
              "        }\n",
              "      </script>\n",
              "    </div>\n",
              "  </div>\n",
              "  "
            ]
          },
          "metadata": {},
          "execution_count": 78
        }
      ]
    },
    {
      "cell_type": "markdown",
      "source": [
        "## Mise à jour dans Langdeck"
      ],
      "metadata": {
        "id": "pMLrUAzMA4Uj"
      }
    },
    {
      "cell_type": "code",
      "source": [
        "l = len(df_newly_updated_in_airtable)\n",
        "# on parcoure la table cible\n",
        "for i in range (2, l):\n",
        "  # un enregistrement\n",
        "  tuple_list = t_corpus.row_values(i)\n",
        "  # on recherche la clé dans le dataframe source\n",
        "  t_ = df_airtable_for_langdeck.loc[(df_airtable_for_langdeck['uid']==tuple_list[0]) & (df_airtable_for_langdeck['language']==tuple_list[6])]\n",
        "  # verification du hash\n",
        "  if len(t_)==1:\n",
        "    t_corpus.update_cell(i, 9, t_[\"hash\"].values[0])\n",
        "  # comparaison des ts (A=AT;B=GG)\n",
        "  ts_a = pd.to_datetime(t_[\"timestamp\"].values[0], \"%Y-%m-%d %H:%M:%S\")\n",
        "  ts_b = datetime.datetime.strptime(tuple_list[5], \"%Y-%m-%d %H:%M:%S\")\n",
        "  # print (t_[\"hash\"].values[0] + \": Airtable ts \" + str(ts_a) + \" GG ts \" + str(ts_b))\n",
        "  if ts_a > ts_b:\n",
        "    # cas Airtable + récent => update dans Langdeck\n",
        "    t_corpus.update_cell(i, 2, t_[\"maitre\"].values[0])\n",
        "    t_corpus.update_cell(i, 3, int(t_[\"ordre\"].values[0]))\n",
        "    t_corpus.update_cell(i, 4, t_[\"expression\"].values[0])\n",
        "    t_corpus.update_cell(i, 5, t_[\"idx\"].values[0])\n",
        "    if not pd.isnull(t_[\"translation\"].values[0]):\n",
        "      t_corpus.update_cell(i, 8, t_[\"translation\"].values[0])    \n",
        "  elif ts_b > ts_a:\n",
        "    # cas Langdeck + récent => update translation dans AT uniqumeent !\n",
        "    record = airtable.match('UID', tuple_list[0])\n",
        "    if bool(record) is True:\n",
        "      if not pd.isnull(tuple_list[7]):\n",
        "        aDict = {}\n",
        "        aDict[tuple_list[6]] = tuple_list[7]\n",
        "        airtable.update(record['id'], aDict)\n",
        "        print (record['id'])\n",
        "\n",
        "\n",
        "    \n"
      ],
      "metadata": {
        "id": "xn9fdIUFAcjP"
      },
      "execution_count": null,
      "outputs": []
    },
    {
      "cell_type": "code",
      "source": [
        "frames = [df_airtable_for_langdeck, df_langdeck]\n",
        "result = pd.concat(frames, keys=[\"hash\"])\n",
        "result.drop_duplicates(subset=['hash'], inplace=True, keep='last')"
      ],
      "metadata": {
        "id": "vb9vcmtSlVFi"
      },
      "execution_count": null,
      "outputs": []
    },
    {
      "cell_type": "code",
      "source": [
        "result"
      ],
      "metadata": {
        "colab": {
          "base_uri": "https://localhost:8080/",
          "height": 424
        },
        "id": "cz2-ChfMxnyu",
        "outputId": "b4967cd3-36fa-4b64-f15a-2bcfbebfbd97"
      },
      "execution_count": null,
      "outputs": [
        {
          "output_type": "execute_result",
          "data": {
            "text/plain": [
              "                uid      maitre  ordre                                         expression idx           timestamp language                                        translation         hash language_fulltext\n",
              "hash 0     f9bc13ef  Médicament      3  À quel moment de la journée vous prenez le méd...   M 2022-04-01 08:15:21      ams                  في أي وقت من اليوم تتناول الدواء؟  f9bc13efams             Arabe\n",
              "     1     6e65dde7       Abcès      1                                              Abcès   A 2022-03-29 15:58:04      ams                                             خُرّاج  6e65dde7ams             Arabe\n",
              "     2     80cbacea     Abdomen      1                                            Abdomen   A 2022-04-07 08:42:16      ams                                              البطن  80cbaceaams             Arabe\n",
              "     3     95c4a863     Fébrile      3  Accès fébrile concomitant chez un autre membre...   F 2022-04-01 08:27:19      ams              نوبة حمى مزامنة عند فرد اخر من الأسرة  95c4a863ams             Arabe\n",
              "     4     30579682    Accident      1                                           Accident   A 2022-03-29 15:58:05      ams                                               حادث  30579682ams             Arabe\n",
              "...             ...         ...    ...                                                ...  ..                 ...      ...                                                ...          ...               ...\n",
              "     5451  d112f379       Poids      3                        Votre poids est-il stable ?   P 2022-03-31 14:33:52      tig                                                NaN  d112f379tig          Tigrinya\n",
              "     5452  2344ba84   Accoucher      3  Vous avez accouché par césarienne ou voie basse ?   A 2022-03-29 16:00:33      tig                             ብኦፕረሽን ወይ ብኖርማር ወሊድኪ ?  2344ba84tig          Tigrinya\n",
              "     5453  36e66161  Contagieux      3            Y a-t-il des cas contagieux à l'école ?   C 2022-03-29 16:00:33      tig                                 አብ ትምህርቲ ዲዩ ለጊብካ ?  36e66161tig          Tigrinya\n",
              "     5454  c32f5fd9   Chronique      3  Y a-t-il des maladies chroniques dans votre fa...   C 2022-04-01 08:23:46      tig                      ካብ በተሰብካ ሕዱር ሕማሕ ዘለዎ አለካ ዲዩ ?  c32f5fd9tig          Tigrinya\n",
              "     5455  d3dba8e4        Zona      1                                               Zona   Z 2022-03-29 16:00:34      tig  ዞና ዝብሃል ሕማም ኣብ ቖርበት ማለት ብደገ ዝቖስል ብርቱዕ ቓንዛ ዘለዎ ...  d3dba8e4tig          Tigrinya\n",
              "\n",
              "[5456 rows x 10 columns]"
            ],
            "text/html": [
              "\n",
              "  <div id=\"df-5da7e4fd-5e50-4328-9ca7-5a5fb1f63014\">\n",
              "    <div class=\"colab-df-container\">\n",
              "      <div>\n",
              "<style scoped>\n",
              "    .dataframe tbody tr th:only-of-type {\n",
              "        vertical-align: middle;\n",
              "    }\n",
              "\n",
              "    .dataframe tbody tr th {\n",
              "        vertical-align: top;\n",
              "    }\n",
              "\n",
              "    .dataframe thead th {\n",
              "        text-align: right;\n",
              "    }\n",
              "</style>\n",
              "<table border=\"1\" class=\"dataframe\">\n",
              "  <thead>\n",
              "    <tr style=\"text-align: right;\">\n",
              "      <th></th>\n",
              "      <th></th>\n",
              "      <th>uid</th>\n",
              "      <th>maitre</th>\n",
              "      <th>ordre</th>\n",
              "      <th>expression</th>\n",
              "      <th>idx</th>\n",
              "      <th>timestamp</th>\n",
              "      <th>language</th>\n",
              "      <th>translation</th>\n",
              "      <th>hash</th>\n",
              "      <th>language_fulltext</th>\n",
              "    </tr>\n",
              "  </thead>\n",
              "  <tbody>\n",
              "    <tr>\n",
              "      <th rowspan=\"11\" valign=\"top\">hash</th>\n",
              "      <th>0</th>\n",
              "      <td>f9bc13ef</td>\n",
              "      <td>Médicament</td>\n",
              "      <td>3</td>\n",
              "      <td>À quel moment de la journée vous prenez le méd...</td>\n",
              "      <td>M</td>\n",
              "      <td>2022-04-01 08:15:21</td>\n",
              "      <td>ams</td>\n",
              "      <td>في أي وقت من اليوم تتناول الدواء؟</td>\n",
              "      <td>f9bc13efams</td>\n",
              "      <td>Arabe</td>\n",
              "    </tr>\n",
              "    <tr>\n",
              "      <th>1</th>\n",
              "      <td>6e65dde7</td>\n",
              "      <td>Abcès</td>\n",
              "      <td>1</td>\n",
              "      <td>Abcès</td>\n",
              "      <td>A</td>\n",
              "      <td>2022-03-29 15:58:04</td>\n",
              "      <td>ams</td>\n",
              "      <td>خُرّاج</td>\n",
              "      <td>6e65dde7ams</td>\n",
              "      <td>Arabe</td>\n",
              "    </tr>\n",
              "    <tr>\n",
              "      <th>2</th>\n",
              "      <td>80cbacea</td>\n",
              "      <td>Abdomen</td>\n",
              "      <td>1</td>\n",
              "      <td>Abdomen</td>\n",
              "      <td>A</td>\n",
              "      <td>2022-04-07 08:42:16</td>\n",
              "      <td>ams</td>\n",
              "      <td>البطن</td>\n",
              "      <td>80cbaceaams</td>\n",
              "      <td>Arabe</td>\n",
              "    </tr>\n",
              "    <tr>\n",
              "      <th>3</th>\n",
              "      <td>95c4a863</td>\n",
              "      <td>Fébrile</td>\n",
              "      <td>3</td>\n",
              "      <td>Accès fébrile concomitant chez un autre membre...</td>\n",
              "      <td>F</td>\n",
              "      <td>2022-04-01 08:27:19</td>\n",
              "      <td>ams</td>\n",
              "      <td>نوبة حمى مزامنة عند فرد اخر من الأسرة</td>\n",
              "      <td>95c4a863ams</td>\n",
              "      <td>Arabe</td>\n",
              "    </tr>\n",
              "    <tr>\n",
              "      <th>4</th>\n",
              "      <td>30579682</td>\n",
              "      <td>Accident</td>\n",
              "      <td>1</td>\n",
              "      <td>Accident</td>\n",
              "      <td>A</td>\n",
              "      <td>2022-03-29 15:58:05</td>\n",
              "      <td>ams</td>\n",
              "      <td>حادث</td>\n",
              "      <td>30579682ams</td>\n",
              "      <td>Arabe</td>\n",
              "    </tr>\n",
              "    <tr>\n",
              "      <th>...</th>\n",
              "      <td>...</td>\n",
              "      <td>...</td>\n",
              "      <td>...</td>\n",
              "      <td>...</td>\n",
              "      <td>...</td>\n",
              "      <td>...</td>\n",
              "      <td>...</td>\n",
              "      <td>...</td>\n",
              "      <td>...</td>\n",
              "      <td>...</td>\n",
              "    </tr>\n",
              "    <tr>\n",
              "      <th>5451</th>\n",
              "      <td>d112f379</td>\n",
              "      <td>Poids</td>\n",
              "      <td>3</td>\n",
              "      <td>Votre poids est-il stable ?</td>\n",
              "      <td>P</td>\n",
              "      <td>2022-03-31 14:33:52</td>\n",
              "      <td>tig</td>\n",
              "      <td>NaN</td>\n",
              "      <td>d112f379tig</td>\n",
              "      <td>Tigrinya</td>\n",
              "    </tr>\n",
              "    <tr>\n",
              "      <th>5452</th>\n",
              "      <td>2344ba84</td>\n",
              "      <td>Accoucher</td>\n",
              "      <td>3</td>\n",
              "      <td>Vous avez accouché par césarienne ou voie basse ?</td>\n",
              "      <td>A</td>\n",
              "      <td>2022-03-29 16:00:33</td>\n",
              "      <td>tig</td>\n",
              "      <td>ብኦፕረሽን ወይ ብኖርማር ወሊድኪ ?</td>\n",
              "      <td>2344ba84tig</td>\n",
              "      <td>Tigrinya</td>\n",
              "    </tr>\n",
              "    <tr>\n",
              "      <th>5453</th>\n",
              "      <td>36e66161</td>\n",
              "      <td>Contagieux</td>\n",
              "      <td>3</td>\n",
              "      <td>Y a-t-il des cas contagieux à l'école ?</td>\n",
              "      <td>C</td>\n",
              "      <td>2022-03-29 16:00:33</td>\n",
              "      <td>tig</td>\n",
              "      <td>አብ ትምህርቲ ዲዩ ለጊብካ ?</td>\n",
              "      <td>36e66161tig</td>\n",
              "      <td>Tigrinya</td>\n",
              "    </tr>\n",
              "    <tr>\n",
              "      <th>5454</th>\n",
              "      <td>c32f5fd9</td>\n",
              "      <td>Chronique</td>\n",
              "      <td>3</td>\n",
              "      <td>Y a-t-il des maladies chroniques dans votre fa...</td>\n",
              "      <td>C</td>\n",
              "      <td>2022-04-01 08:23:46</td>\n",
              "      <td>tig</td>\n",
              "      <td>ካብ በተሰብካ ሕዱር ሕማሕ ዘለዎ አለካ ዲዩ ?</td>\n",
              "      <td>c32f5fd9tig</td>\n",
              "      <td>Tigrinya</td>\n",
              "    </tr>\n",
              "    <tr>\n",
              "      <th>5455</th>\n",
              "      <td>d3dba8e4</td>\n",
              "      <td>Zona</td>\n",
              "      <td>1</td>\n",
              "      <td>Zona</td>\n",
              "      <td>Z</td>\n",
              "      <td>2022-03-29 16:00:34</td>\n",
              "      <td>tig</td>\n",
              "      <td>ዞና ዝብሃል ሕማም ኣብ ቖርበት ማለት ብደገ ዝቖስል ብርቱዕ ቓንዛ ዘለዎ ...</td>\n",
              "      <td>d3dba8e4tig</td>\n",
              "      <td>Tigrinya</td>\n",
              "    </tr>\n",
              "  </tbody>\n",
              "</table>\n",
              "<p>5456 rows × 10 columns</p>\n",
              "</div>\n",
              "      <button class=\"colab-df-convert\" onclick=\"convertToInteractive('df-5da7e4fd-5e50-4328-9ca7-5a5fb1f63014')\"\n",
              "              title=\"Convert this dataframe to an interactive table.\"\n",
              "              style=\"display:none;\">\n",
              "        \n",
              "  <svg xmlns=\"http://www.w3.org/2000/svg\" height=\"24px\"viewBox=\"0 0 24 24\"\n",
              "       width=\"24px\">\n",
              "    <path d=\"M0 0h24v24H0V0z\" fill=\"none\"/>\n",
              "    <path d=\"M18.56 5.44l.94 2.06.94-2.06 2.06-.94-2.06-.94-.94-2.06-.94 2.06-2.06.94zm-11 1L8.5 8.5l.94-2.06 2.06-.94-2.06-.94L8.5 2.5l-.94 2.06-2.06.94zm10 10l.94 2.06.94-2.06 2.06-.94-2.06-.94-.94-2.06-.94 2.06-2.06.94z\"/><path d=\"M17.41 7.96l-1.37-1.37c-.4-.4-.92-.59-1.43-.59-.52 0-1.04.2-1.43.59L10.3 9.45l-7.72 7.72c-.78.78-.78 2.05 0 2.83L4 21.41c.39.39.9.59 1.41.59.51 0 1.02-.2 1.41-.59l7.78-7.78 2.81-2.81c.8-.78.8-2.07 0-2.86zM5.41 20L4 18.59l7.72-7.72 1.47 1.35L5.41 20z\"/>\n",
              "  </svg>\n",
              "      </button>\n",
              "      \n",
              "  <style>\n",
              "    .colab-df-container {\n",
              "      display:flex;\n",
              "      flex-wrap:wrap;\n",
              "      gap: 12px;\n",
              "    }\n",
              "\n",
              "    .colab-df-convert {\n",
              "      background-color: #E8F0FE;\n",
              "      border: none;\n",
              "      border-radius: 50%;\n",
              "      cursor: pointer;\n",
              "      display: none;\n",
              "      fill: #1967D2;\n",
              "      height: 32px;\n",
              "      padding: 0 0 0 0;\n",
              "      width: 32px;\n",
              "    }\n",
              "\n",
              "    .colab-df-convert:hover {\n",
              "      background-color: #E2EBFA;\n",
              "      box-shadow: 0px 1px 2px rgba(60, 64, 67, 0.3), 0px 1px 3px 1px rgba(60, 64, 67, 0.15);\n",
              "      fill: #174EA6;\n",
              "    }\n",
              "\n",
              "    [theme=dark] .colab-df-convert {\n",
              "      background-color: #3B4455;\n",
              "      fill: #D2E3FC;\n",
              "    }\n",
              "\n",
              "    [theme=dark] .colab-df-convert:hover {\n",
              "      background-color: #434B5C;\n",
              "      box-shadow: 0px 1px 3px 1px rgba(0, 0, 0, 0.15);\n",
              "      filter: drop-shadow(0px 1px 2px rgba(0, 0, 0, 0.3));\n",
              "      fill: #FFFFFF;\n",
              "    }\n",
              "  </style>\n",
              "\n",
              "      <script>\n",
              "        const buttonEl =\n",
              "          document.querySelector('#df-5da7e4fd-5e50-4328-9ca7-5a5fb1f63014 button.colab-df-convert');\n",
              "        buttonEl.style.display =\n",
              "          google.colab.kernel.accessAllowed ? 'block' : 'none';\n",
              "\n",
              "        async function convertToInteractive(key) {\n",
              "          const element = document.querySelector('#df-5da7e4fd-5e50-4328-9ca7-5a5fb1f63014');\n",
              "          const dataTable =\n",
              "            await google.colab.kernel.invokeFunction('convertToInteractive',\n",
              "                                                     [key], {});\n",
              "          if (!dataTable) return;\n",
              "\n",
              "          const docLinkHtml = 'Like what you see? Visit the ' +\n",
              "            '<a target=\"_blank\" href=https://colab.research.google.com/notebooks/data_table.ipynb>data table notebook</a>'\n",
              "            + ' to learn more about interactive tables.';\n",
              "          element.innerHTML = '';\n",
              "          dataTable['output_type'] = 'display_data';\n",
              "          await google.colab.output.renderOutput(dataTable, element);\n",
              "          const docLink = document.createElement('div');\n",
              "          docLink.innerHTML = docLinkHtml;\n",
              "          element.appendChild(docLink);\n",
              "        }\n",
              "      </script>\n",
              "    </div>\n",
              "  </div>\n",
              "  "
            ]
          },
          "metadata": {},
          "execution_count": 103
        }
      ]
    },
    {
      "cell_type": "code",
      "source": [
        "df_airtable_for_langdeck[(df_airtable_for_langdeck['hash'].isin(df_langdeck['hash']) & ~df_airtable_for_langdeck['timestamp'].isin(df_langdeck['timestamp']) )]"
      ],
      "metadata": {
        "colab": {
          "base_uri": "https://localhost:8080/",
          "height": 81
        },
        "id": "DkOO4NF0ZwY6",
        "outputId": "0eba439b-7e3c-49eb-c236-3f3556968c94"
      },
      "execution_count": null,
      "outputs": [
        {
          "output_type": "execute_result",
          "data": {
            "text/plain": [
              "        uid   maitre  ordre expression idx           timestamp language translation         hash language_fulltext\n",
              "2  80cbacea  Abdomen      1    Abdomen   A 2022-04-07 08:42:16      ams       البطن  80cbaceaams             Arabe"
            ],
            "text/html": [
              "\n",
              "  <div id=\"df-23f0fca1-481b-4a31-8380-1271bdd44c0a\">\n",
              "    <div class=\"colab-df-container\">\n",
              "      <div>\n",
              "<style scoped>\n",
              "    .dataframe tbody tr th:only-of-type {\n",
              "        vertical-align: middle;\n",
              "    }\n",
              "\n",
              "    .dataframe tbody tr th {\n",
              "        vertical-align: top;\n",
              "    }\n",
              "\n",
              "    .dataframe thead th {\n",
              "        text-align: right;\n",
              "    }\n",
              "</style>\n",
              "<table border=\"1\" class=\"dataframe\">\n",
              "  <thead>\n",
              "    <tr style=\"text-align: right;\">\n",
              "      <th></th>\n",
              "      <th>uid</th>\n",
              "      <th>maitre</th>\n",
              "      <th>ordre</th>\n",
              "      <th>expression</th>\n",
              "      <th>idx</th>\n",
              "      <th>timestamp</th>\n",
              "      <th>language</th>\n",
              "      <th>translation</th>\n",
              "      <th>hash</th>\n",
              "      <th>language_fulltext</th>\n",
              "    </tr>\n",
              "  </thead>\n",
              "  <tbody>\n",
              "    <tr>\n",
              "      <th>2</th>\n",
              "      <td>80cbacea</td>\n",
              "      <td>Abdomen</td>\n",
              "      <td>1</td>\n",
              "      <td>Abdomen</td>\n",
              "      <td>A</td>\n",
              "      <td>2022-04-07 08:42:16</td>\n",
              "      <td>ams</td>\n",
              "      <td>البطن</td>\n",
              "      <td>80cbaceaams</td>\n",
              "      <td>Arabe</td>\n",
              "    </tr>\n",
              "  </tbody>\n",
              "</table>\n",
              "</div>\n",
              "      <button class=\"colab-df-convert\" onclick=\"convertToInteractive('df-23f0fca1-481b-4a31-8380-1271bdd44c0a')\"\n",
              "              title=\"Convert this dataframe to an interactive table.\"\n",
              "              style=\"display:none;\">\n",
              "        \n",
              "  <svg xmlns=\"http://www.w3.org/2000/svg\" height=\"24px\"viewBox=\"0 0 24 24\"\n",
              "       width=\"24px\">\n",
              "    <path d=\"M0 0h24v24H0V0z\" fill=\"none\"/>\n",
              "    <path d=\"M18.56 5.44l.94 2.06.94-2.06 2.06-.94-2.06-.94-.94-2.06-.94 2.06-2.06.94zm-11 1L8.5 8.5l.94-2.06 2.06-.94-2.06-.94L8.5 2.5l-.94 2.06-2.06.94zm10 10l.94 2.06.94-2.06 2.06-.94-2.06-.94-.94-2.06-.94 2.06-2.06.94z\"/><path d=\"M17.41 7.96l-1.37-1.37c-.4-.4-.92-.59-1.43-.59-.52 0-1.04.2-1.43.59L10.3 9.45l-7.72 7.72c-.78.78-.78 2.05 0 2.83L4 21.41c.39.39.9.59 1.41.59.51 0 1.02-.2 1.41-.59l7.78-7.78 2.81-2.81c.8-.78.8-2.07 0-2.86zM5.41 20L4 18.59l7.72-7.72 1.47 1.35L5.41 20z\"/>\n",
              "  </svg>\n",
              "      </button>\n",
              "      \n",
              "  <style>\n",
              "    .colab-df-container {\n",
              "      display:flex;\n",
              "      flex-wrap:wrap;\n",
              "      gap: 12px;\n",
              "    }\n",
              "\n",
              "    .colab-df-convert {\n",
              "      background-color: #E8F0FE;\n",
              "      border: none;\n",
              "      border-radius: 50%;\n",
              "      cursor: pointer;\n",
              "      display: none;\n",
              "      fill: #1967D2;\n",
              "      height: 32px;\n",
              "      padding: 0 0 0 0;\n",
              "      width: 32px;\n",
              "    }\n",
              "\n",
              "    .colab-df-convert:hover {\n",
              "      background-color: #E2EBFA;\n",
              "      box-shadow: 0px 1px 2px rgba(60, 64, 67, 0.3), 0px 1px 3px 1px rgba(60, 64, 67, 0.15);\n",
              "      fill: #174EA6;\n",
              "    }\n",
              "\n",
              "    [theme=dark] .colab-df-convert {\n",
              "      background-color: #3B4455;\n",
              "      fill: #D2E3FC;\n",
              "    }\n",
              "\n",
              "    [theme=dark] .colab-df-convert:hover {\n",
              "      background-color: #434B5C;\n",
              "      box-shadow: 0px 1px 3px 1px rgba(0, 0, 0, 0.15);\n",
              "      filter: drop-shadow(0px 1px 2px rgba(0, 0, 0, 0.3));\n",
              "      fill: #FFFFFF;\n",
              "    }\n",
              "  </style>\n",
              "\n",
              "      <script>\n",
              "        const buttonEl =\n",
              "          document.querySelector('#df-23f0fca1-481b-4a31-8380-1271bdd44c0a button.colab-df-convert');\n",
              "        buttonEl.style.display =\n",
              "          google.colab.kernel.accessAllowed ? 'block' : 'none';\n",
              "\n",
              "        async function convertToInteractive(key) {\n",
              "          const element = document.querySelector('#df-23f0fca1-481b-4a31-8380-1271bdd44c0a');\n",
              "          const dataTable =\n",
              "            await google.colab.kernel.invokeFunction('convertToInteractive',\n",
              "                                                     [key], {});\n",
              "          if (!dataTable) return;\n",
              "\n",
              "          const docLinkHtml = 'Like what you see? Visit the ' +\n",
              "            '<a target=\"_blank\" href=https://colab.research.google.com/notebooks/data_table.ipynb>data table notebook</a>'\n",
              "            + ' to learn more about interactive tables.';\n",
              "          element.innerHTML = '';\n",
              "          dataTable['output_type'] = 'display_data';\n",
              "          await google.colab.output.renderOutput(dataTable, element);\n",
              "          const docLink = document.createElement('div');\n",
              "          docLink.innerHTML = docLinkHtml;\n",
              "          element.appendChild(docLink);\n",
              "        }\n",
              "      </script>\n",
              "    </div>\n",
              "  </div>\n",
              "  "
            ]
          },
          "metadata": {},
          "execution_count": 104
        }
      ]
    },
    {
      "cell_type": "code",
      "source": [
        "set_with_dataframe(t_corpus, result)"
      ],
      "metadata": {
        "id": "zfEj1MtIa-4F"
      },
      "execution_count": null,
      "outputs": []
    },
    {
      "cell_type": "code",
      "source": [
        ""
      ],
      "metadata": {
        "id": "BNF489BlYtIv"
      },
      "execution_count": null,
      "outputs": []
    },
    {
      "cell_type": "markdown",
      "source": [
        "END"
      ],
      "metadata": {
        "id": "NK0L2hYqdsjX"
      }
    },
    {
      "cell_type": "markdown",
      "source": [
        "### Vocabulaire avec groupement :\n",
        "\n",
        "\n",
        "1.   Index alpha\n",
        "2.   Mot clé\n",
        "3.   Ordre\n",
        "\n"
      ],
      "metadata": {
        "id": "cdPFqRRaPQgp"
      }
    },
    {
      "cell_type": "code",
      "source": [
        "vk_voc = airtable.get_all(view='Vocabulary', sort=['idx_cor','Maitre','Ordre'])\n",
        "df_voc = pd.DataFrame.from_records((r['fields'] for r in vk_voc))\n",
        "df_voc = df_voc[['idx_cor','Maitre','Ordre','Proposition','CATEGRAM','TYPE','Thématique']]"
      ],
      "metadata": {
        "id": "cHRm0SL0HVip"
      },
      "execution_count": null,
      "outputs": []
    },
    {
      "cell_type": "markdown",
      "source": [
        "### Traductions avec groupement :\n",
        "\n",
        "\n",
        "1.   Index alpha\n",
        "2.   Mot clé\n",
        "3.   Ordre"
      ],
      "metadata": {
        "id": "2wcUjGFBSkCa"
      }
    },
    {
      "cell_type": "code",
      "source": [
        "df_voc_trad = airtable.get_all(view='Traductions', sort=['idx_cor','Maitre','Ordre'])\n",
        "df_voc_trad = pd.DataFrame.from_records((r['fields'] for r in df_voc_trad))\n",
        "df_voc_trad = df_voc_trad[['idx_cor','Maitre','Ordre','Proposition','CATEGRAM','TYPE','Thématique',\n",
        "             'eng','ams','tur','rus','ukr','rou','hun','tig','alb','geo','arm',\n",
        "             'dar','pst','esp','pol']]"
      ],
      "metadata": {
        "id": "Bgg44ROuR4hL"
      },
      "execution_count": null,
      "outputs": []
    },
    {
      "cell_type": "code",
      "source": [
        "# Corpus_consolidation\n",
        "uri = \"https://docs.google.com/spreadsheets/d/1cSnSnnQunL-I7hpyYkIqbtuGr55unVJ3Qe8URSrjTr8/edit?usp=sharing\"\n",
        "\n",
        "wb = get_CCDB_wb(uri)\n",
        "db_cc = get_CCDB_data (wb, 0)\n",
        "\n",
        "nom_onglet = 'Lexique'\n",
        "# si l'onglet existe déjà\n",
        "try:\n",
        "  ws = wb.worksheet(nom_onglet)\n",
        "  wb.del_worksheet(ws)\n",
        "except:\n",
        "  print (\"Onglet inexistant !\")\n",
        "\n",
        "wb.add_worksheet(nom_onglet, 1, 1)\n",
        "export_sheet = wb.worksheet(nom_onglet)\n",
        "set_with_dataframe(export_sheet, df_voc_trad)"
      ],
      "metadata": {
        "colab": {
          "base_uri": "https://localhost:8080/"
        },
        "id": "WT5hbTFFSxNt",
        "outputId": "ed9bc995-068c-4756-bfe7-9017c5340e54"
      },
      "execution_count": null,
      "outputs": [
        {
          "output_type": "stream",
          "name": "stdout",
          "text": [
            "Onglet inexistant !\n"
          ]
        }
      ]
    },
    {
      "cell_type": "code",
      "source": [
        "grouped = df_voc.groupby(['idx_cor','Maitre'])\n",
        "'''\n",
        "for name, group in grouped:\n",
        "  print (name)\n",
        "  print (group[\"Proposition\"])\n",
        "'''"
      ],
      "metadata": {
        "colab": {
          "base_uri": "https://localhost:8080/",
          "height": 35
        },
        "id": "evgY7mxqP7WE",
        "outputId": "75660d4f-af74-4aa8-cd47-d511f4d308fa"
      },
      "execution_count": null,
      "outputs": [
        {
          "output_type": "execute_result",
          "data": {
            "text/plain": [
              "'\\nfor name, group in grouped:\\n  print (name)\\n  print (group[\"Proposition\"])\\n'"
            ],
            "application/vnd.google.colaboratory.intrinsic+json": {
              "type": "string"
            }
          },
          "metadata": {},
          "execution_count": 23
        }
      ]
    },
    {
      "cell_type": "markdown",
      "source": [
        "Recherche des UID manquants dans Airtable"
      ],
      "metadata": {
        "id": "U-7k2nzJUsid"
      }
    },
    {
      "cell_type": "code",
      "source": [
        "def airtable_get_missing_uids(df):\n",
        "  return df.loc[pd.isna(df[\"UID\"])]\n"
      ],
      "metadata": {
        "id": "Gtod6pghUwQi"
      },
      "execution_count": null,
      "outputs": []
    },
    {
      "cell_type": "markdown",
      "source": [
        "Recherche dans Airtable par Séquence"
      ],
      "metadata": {
        "id": "5SKRdfNJVJsK"
      }
    },
    {
      "cell_type": "code",
      "source": [
        "def airtable_get_records_by_sequence(df, sequence):\n",
        "  return df.loc[df[\"Séquence\"]==sequence]\n"
      ],
      "metadata": {
        "id": "vSn5dpoYVi4M"
      },
      "execution_count": null,
      "outputs": []
    },
    {
      "cell_type": "code",
      "source": [
        "#df_vkat.loc[df_vkat[\"Séquence\"]==\"1. Présentation + antécédents\"]"
      ],
      "metadata": {
        "id": "fcJHEddUWLWs"
      },
      "execution_count": null,
      "outputs": []
    },
    {
      "cell_type": "code",
      "source": [
        "airtable_get_missing_uids(df_vkat)"
      ],
      "metadata": {
        "id": "57wH5iFxREtI",
        "colab": {
          "base_uri": "https://localhost:8080/",
          "height": 468
        },
        "outputId": "f6fedb58-76d3-4a76-b039-3b113a31dc32"
      },
      "execution_count": null,
      "outputs": [
        {
          "output_type": "execute_result",
          "data": {
            "text/plain": [
              "                       Proposition  CATEGRAM           DEPENDANCE idx_cor         TYPE  UID VOCABULAIRE           Thématique  idx  Ordre  ... Updates Séquence MedGen Statut Fiche Phrase Assoc Définition Corpus copy DOMAINE Exp Assoc\n",
              "6                  ~ chirurgicale      [exp]  [reco8iFRctnJgMJCl]       I   expression  NaN         NaN        [Vaccination]    I      2  ...     NaN      NaN    NaN    NaN   NaN          NaN        NaN         NaN     NaN       NaN\n",
              "26                    Accouchement      [nm]                  NaN       A  vocabulaire  NaN         NaN  [Médecine générale]  NaN      1  ...     NaN      NaN    NaN    NaN   NaN          NaN        NaN         NaN     NaN       NaN\n",
              "27                       Accoucher      [vi]                  NaN       A  vocabulaire  NaN         NaN  [Médecine générale]  NaN      1  ...     NaN      NaN    NaN    NaN   NaN          NaN        NaN         NaN     NaN       NaN\n",
              "40                      Appareil ~     [exp]                  NaN       D   expression  NaN         NaN  [Médecine générale]  NaN      2  ...     NaN      NaN    NaN    NaN   NaN          NaN        NaN         NaN     NaN       NaN\n",
              "41                       Assurance      [nf]                  NaN       A  vocabulaire  NaN     Général  [Médecine générale]  NaN      1  ...     NaN      NaN    NaN    NaN   NaN          NaN        NaN         NaN     NaN       NaN\n",
              "..                             ...       ...                  ...     ...          ...  ...         ...                  ...  ...    ...  ...     ...      ...    ...    ...   ...          ...        ...         ...     ...       ...\n",
              "304                          Urine      [nf]                  NaN       U  vocabulaire  NaN         NaN                  NaN  NaN      1  ...     NaN      NaN    NaN    NaN   NaN          NaN        NaN         NaN     NaN       NaN\n",
              "306                       Vaccinal     [adj]                  NaN       V  vocabulaire  NaN         NaN                  NaN  NaN      1  ...     NaN      NaN    NaN    NaN   NaN          NaN        NaN         NaN     NaN       NaN\n",
              "308                    Vacciné, -e     [adj]                  NaN       V  vocabulaire  NaN         NaN                  NaN  NaN      1  ...     NaN      NaN    NaN    NaN   NaN          NaN        NaN         NaN     NaN       NaN\n",
              "317  Votre poids a-t-il augmenté ?  [phrase]  [recnFsFSoE1DCjYqt]       P       phrase  NaN         NaN  [Médecine générale]  NaN      3  ...     NaN      NaN    NaN    NaN   NaN          NaN        NaN         NaN     NaN       NaN\n",
              "319    Votre poids est-il stable ?  [phrase]  [recnFsFSoE1DCjYqt]       P       phrase  NaN         NaN  [Médecine générale]  NaN      3  ...     NaN      NaN    NaN    NaN   NaN          NaN        NaN         NaN     NaN       NaN\n",
              "\n",
              "[64 rows x 39 columns]"
            ],
            "text/html": [
              "\n",
              "  <div id=\"df-f55aeecb-91ff-4920-b2ea-8a4d69a74e8c\">\n",
              "    <div class=\"colab-df-container\">\n",
              "      <div>\n",
              "<style scoped>\n",
              "    .dataframe tbody tr th:only-of-type {\n",
              "        vertical-align: middle;\n",
              "    }\n",
              "\n",
              "    .dataframe tbody tr th {\n",
              "        vertical-align: top;\n",
              "    }\n",
              "\n",
              "    .dataframe thead th {\n",
              "        text-align: right;\n",
              "    }\n",
              "</style>\n",
              "<table border=\"1\" class=\"dataframe\">\n",
              "  <thead>\n",
              "    <tr style=\"text-align: right;\">\n",
              "      <th></th>\n",
              "      <th>Proposition</th>\n",
              "      <th>CATEGRAM</th>\n",
              "      <th>DEPENDANCE</th>\n",
              "      <th>idx_cor</th>\n",
              "      <th>TYPE</th>\n",
              "      <th>UID</th>\n",
              "      <th>VOCABULAIRE</th>\n",
              "      <th>Thématique</th>\n",
              "      <th>idx</th>\n",
              "      <th>Ordre</th>\n",
              "      <th>...</th>\n",
              "      <th>Updates</th>\n",
              "      <th>Séquence</th>\n",
              "      <th>MedGen</th>\n",
              "      <th>Statut</th>\n",
              "      <th>Fiche</th>\n",
              "      <th>Phrase Assoc</th>\n",
              "      <th>Définition</th>\n",
              "      <th>Corpus copy</th>\n",
              "      <th>DOMAINE</th>\n",
              "      <th>Exp Assoc</th>\n",
              "    </tr>\n",
              "  </thead>\n",
              "  <tbody>\n",
              "    <tr>\n",
              "      <th>6</th>\n",
              "      <td>~ chirurgicale</td>\n",
              "      <td>[exp]</td>\n",
              "      <td>[reco8iFRctnJgMJCl]</td>\n",
              "      <td>I</td>\n",
              "      <td>expression</td>\n",
              "      <td>NaN</td>\n",
              "      <td>NaN</td>\n",
              "      <td>[Vaccination]</td>\n",
              "      <td>I</td>\n",
              "      <td>2</td>\n",
              "      <td>...</td>\n",
              "      <td>NaN</td>\n",
              "      <td>NaN</td>\n",
              "      <td>NaN</td>\n",
              "      <td>NaN</td>\n",
              "      <td>NaN</td>\n",
              "      <td>NaN</td>\n",
              "      <td>NaN</td>\n",
              "      <td>NaN</td>\n",
              "      <td>NaN</td>\n",
              "      <td>NaN</td>\n",
              "    </tr>\n",
              "    <tr>\n",
              "      <th>26</th>\n",
              "      <td>Accouchement</td>\n",
              "      <td>[nm]</td>\n",
              "      <td>NaN</td>\n",
              "      <td>A</td>\n",
              "      <td>vocabulaire</td>\n",
              "      <td>NaN</td>\n",
              "      <td>NaN</td>\n",
              "      <td>[Médecine générale]</td>\n",
              "      <td>NaN</td>\n",
              "      <td>1</td>\n",
              "      <td>...</td>\n",
              "      <td>NaN</td>\n",
              "      <td>NaN</td>\n",
              "      <td>NaN</td>\n",
              "      <td>NaN</td>\n",
              "      <td>NaN</td>\n",
              "      <td>NaN</td>\n",
              "      <td>NaN</td>\n",
              "      <td>NaN</td>\n",
              "      <td>NaN</td>\n",
              "      <td>NaN</td>\n",
              "    </tr>\n",
              "    <tr>\n",
              "      <th>27</th>\n",
              "      <td>Accoucher</td>\n",
              "      <td>[vi]</td>\n",
              "      <td>NaN</td>\n",
              "      <td>A</td>\n",
              "      <td>vocabulaire</td>\n",
              "      <td>NaN</td>\n",
              "      <td>NaN</td>\n",
              "      <td>[Médecine générale]</td>\n",
              "      <td>NaN</td>\n",
              "      <td>1</td>\n",
              "      <td>...</td>\n",
              "      <td>NaN</td>\n",
              "      <td>NaN</td>\n",
              "      <td>NaN</td>\n",
              "      <td>NaN</td>\n",
              "      <td>NaN</td>\n",
              "      <td>NaN</td>\n",
              "      <td>NaN</td>\n",
              "      <td>NaN</td>\n",
              "      <td>NaN</td>\n",
              "      <td>NaN</td>\n",
              "    </tr>\n",
              "    <tr>\n",
              "      <th>40</th>\n",
              "      <td>Appareil ~</td>\n",
              "      <td>[exp]</td>\n",
              "      <td>NaN</td>\n",
              "      <td>D</td>\n",
              "      <td>expression</td>\n",
              "      <td>NaN</td>\n",
              "      <td>NaN</td>\n",
              "      <td>[Médecine générale]</td>\n",
              "      <td>NaN</td>\n",
              "      <td>2</td>\n",
              "      <td>...</td>\n",
              "      <td>NaN</td>\n",
              "      <td>NaN</td>\n",
              "      <td>NaN</td>\n",
              "      <td>NaN</td>\n",
              "      <td>NaN</td>\n",
              "      <td>NaN</td>\n",
              "      <td>NaN</td>\n",
              "      <td>NaN</td>\n",
              "      <td>NaN</td>\n",
              "      <td>NaN</td>\n",
              "    </tr>\n",
              "    <tr>\n",
              "      <th>41</th>\n",
              "      <td>Assurance</td>\n",
              "      <td>[nf]</td>\n",
              "      <td>NaN</td>\n",
              "      <td>A</td>\n",
              "      <td>vocabulaire</td>\n",
              "      <td>NaN</td>\n",
              "      <td>Général</td>\n",
              "      <td>[Médecine générale]</td>\n",
              "      <td>NaN</td>\n",
              "      <td>1</td>\n",
              "      <td>...</td>\n",
              "      <td>NaN</td>\n",
              "      <td>NaN</td>\n",
              "      <td>NaN</td>\n",
              "      <td>NaN</td>\n",
              "      <td>NaN</td>\n",
              "      <td>NaN</td>\n",
              "      <td>NaN</td>\n",
              "      <td>NaN</td>\n",
              "      <td>NaN</td>\n",
              "      <td>NaN</td>\n",
              "    </tr>\n",
              "    <tr>\n",
              "      <th>...</th>\n",
              "      <td>...</td>\n",
              "      <td>...</td>\n",
              "      <td>...</td>\n",
              "      <td>...</td>\n",
              "      <td>...</td>\n",
              "      <td>...</td>\n",
              "      <td>...</td>\n",
              "      <td>...</td>\n",
              "      <td>...</td>\n",
              "      <td>...</td>\n",
              "      <td>...</td>\n",
              "      <td>...</td>\n",
              "      <td>...</td>\n",
              "      <td>...</td>\n",
              "      <td>...</td>\n",
              "      <td>...</td>\n",
              "      <td>...</td>\n",
              "      <td>...</td>\n",
              "      <td>...</td>\n",
              "      <td>...</td>\n",
              "      <td>...</td>\n",
              "    </tr>\n",
              "    <tr>\n",
              "      <th>304</th>\n",
              "      <td>Urine</td>\n",
              "      <td>[nf]</td>\n",
              "      <td>NaN</td>\n",
              "      <td>U</td>\n",
              "      <td>vocabulaire</td>\n",
              "      <td>NaN</td>\n",
              "      <td>NaN</td>\n",
              "      <td>NaN</td>\n",
              "      <td>NaN</td>\n",
              "      <td>1</td>\n",
              "      <td>...</td>\n",
              "      <td>NaN</td>\n",
              "      <td>NaN</td>\n",
              "      <td>NaN</td>\n",
              "      <td>NaN</td>\n",
              "      <td>NaN</td>\n",
              "      <td>NaN</td>\n",
              "      <td>NaN</td>\n",
              "      <td>NaN</td>\n",
              "      <td>NaN</td>\n",
              "      <td>NaN</td>\n",
              "    </tr>\n",
              "    <tr>\n",
              "      <th>306</th>\n",
              "      <td>Vaccinal</td>\n",
              "      <td>[adj]</td>\n",
              "      <td>NaN</td>\n",
              "      <td>V</td>\n",
              "      <td>vocabulaire</td>\n",
              "      <td>NaN</td>\n",
              "      <td>NaN</td>\n",
              "      <td>NaN</td>\n",
              "      <td>NaN</td>\n",
              "      <td>1</td>\n",
              "      <td>...</td>\n",
              "      <td>NaN</td>\n",
              "      <td>NaN</td>\n",
              "      <td>NaN</td>\n",
              "      <td>NaN</td>\n",
              "      <td>NaN</td>\n",
              "      <td>NaN</td>\n",
              "      <td>NaN</td>\n",
              "      <td>NaN</td>\n",
              "      <td>NaN</td>\n",
              "      <td>NaN</td>\n",
              "    </tr>\n",
              "    <tr>\n",
              "      <th>308</th>\n",
              "      <td>Vacciné, -e</td>\n",
              "      <td>[adj]</td>\n",
              "      <td>NaN</td>\n",
              "      <td>V</td>\n",
              "      <td>vocabulaire</td>\n",
              "      <td>NaN</td>\n",
              "      <td>NaN</td>\n",
              "      <td>NaN</td>\n",
              "      <td>NaN</td>\n",
              "      <td>1</td>\n",
              "      <td>...</td>\n",
              "      <td>NaN</td>\n",
              "      <td>NaN</td>\n",
              "      <td>NaN</td>\n",
              "      <td>NaN</td>\n",
              "      <td>NaN</td>\n",
              "      <td>NaN</td>\n",
              "      <td>NaN</td>\n",
              "      <td>NaN</td>\n",
              "      <td>NaN</td>\n",
              "      <td>NaN</td>\n",
              "    </tr>\n",
              "    <tr>\n",
              "      <th>317</th>\n",
              "      <td>Votre poids a-t-il augmenté ?</td>\n",
              "      <td>[phrase]</td>\n",
              "      <td>[recnFsFSoE1DCjYqt]</td>\n",
              "      <td>P</td>\n",
              "      <td>phrase</td>\n",
              "      <td>NaN</td>\n",
              "      <td>NaN</td>\n",
              "      <td>[Médecine générale]</td>\n",
              "      <td>NaN</td>\n",
              "      <td>3</td>\n",
              "      <td>...</td>\n",
              "      <td>NaN</td>\n",
              "      <td>NaN</td>\n",
              "      <td>NaN</td>\n",
              "      <td>NaN</td>\n",
              "      <td>NaN</td>\n",
              "      <td>NaN</td>\n",
              "      <td>NaN</td>\n",
              "      <td>NaN</td>\n",
              "      <td>NaN</td>\n",
              "      <td>NaN</td>\n",
              "    </tr>\n",
              "    <tr>\n",
              "      <th>319</th>\n",
              "      <td>Votre poids est-il stable ?</td>\n",
              "      <td>[phrase]</td>\n",
              "      <td>[recnFsFSoE1DCjYqt]</td>\n",
              "      <td>P</td>\n",
              "      <td>phrase</td>\n",
              "      <td>NaN</td>\n",
              "      <td>NaN</td>\n",
              "      <td>[Médecine générale]</td>\n",
              "      <td>NaN</td>\n",
              "      <td>3</td>\n",
              "      <td>...</td>\n",
              "      <td>NaN</td>\n",
              "      <td>NaN</td>\n",
              "      <td>NaN</td>\n",
              "      <td>NaN</td>\n",
              "      <td>NaN</td>\n",
              "      <td>NaN</td>\n",
              "      <td>NaN</td>\n",
              "      <td>NaN</td>\n",
              "      <td>NaN</td>\n",
              "      <td>NaN</td>\n",
              "    </tr>\n",
              "  </tbody>\n",
              "</table>\n",
              "<p>64 rows × 39 columns</p>\n",
              "</div>\n",
              "      <button class=\"colab-df-convert\" onclick=\"convertToInteractive('df-f55aeecb-91ff-4920-b2ea-8a4d69a74e8c')\"\n",
              "              title=\"Convert this dataframe to an interactive table.\"\n",
              "              style=\"display:none;\">\n",
              "        \n",
              "  <svg xmlns=\"http://www.w3.org/2000/svg\" height=\"24px\"viewBox=\"0 0 24 24\"\n",
              "       width=\"24px\">\n",
              "    <path d=\"M0 0h24v24H0V0z\" fill=\"none\"/>\n",
              "    <path d=\"M18.56 5.44l.94 2.06.94-2.06 2.06-.94-2.06-.94-.94-2.06-.94 2.06-2.06.94zm-11 1L8.5 8.5l.94-2.06 2.06-.94-2.06-.94L8.5 2.5l-.94 2.06-2.06.94zm10 10l.94 2.06.94-2.06 2.06-.94-2.06-.94-.94-2.06-.94 2.06-2.06.94z\"/><path d=\"M17.41 7.96l-1.37-1.37c-.4-.4-.92-.59-1.43-.59-.52 0-1.04.2-1.43.59L10.3 9.45l-7.72 7.72c-.78.78-.78 2.05 0 2.83L4 21.41c.39.39.9.59 1.41.59.51 0 1.02-.2 1.41-.59l7.78-7.78 2.81-2.81c.8-.78.8-2.07 0-2.86zM5.41 20L4 18.59l7.72-7.72 1.47 1.35L5.41 20z\"/>\n",
              "  </svg>\n",
              "      </button>\n",
              "      \n",
              "  <style>\n",
              "    .colab-df-container {\n",
              "      display:flex;\n",
              "      flex-wrap:wrap;\n",
              "      gap: 12px;\n",
              "    }\n",
              "\n",
              "    .colab-df-convert {\n",
              "      background-color: #E8F0FE;\n",
              "      border: none;\n",
              "      border-radius: 50%;\n",
              "      cursor: pointer;\n",
              "      display: none;\n",
              "      fill: #1967D2;\n",
              "      height: 32px;\n",
              "      padding: 0 0 0 0;\n",
              "      width: 32px;\n",
              "    }\n",
              "\n",
              "    .colab-df-convert:hover {\n",
              "      background-color: #E2EBFA;\n",
              "      box-shadow: 0px 1px 2px rgba(60, 64, 67, 0.3), 0px 1px 3px 1px rgba(60, 64, 67, 0.15);\n",
              "      fill: #174EA6;\n",
              "    }\n",
              "\n",
              "    [theme=dark] .colab-df-convert {\n",
              "      background-color: #3B4455;\n",
              "      fill: #D2E3FC;\n",
              "    }\n",
              "\n",
              "    [theme=dark] .colab-df-convert:hover {\n",
              "      background-color: #434B5C;\n",
              "      box-shadow: 0px 1px 3px 1px rgba(0, 0, 0, 0.15);\n",
              "      filter: drop-shadow(0px 1px 2px rgba(0, 0, 0, 0.3));\n",
              "      fill: #FFFFFF;\n",
              "    }\n",
              "  </style>\n",
              "\n",
              "      <script>\n",
              "        const buttonEl =\n",
              "          document.querySelector('#df-f55aeecb-91ff-4920-b2ea-8a4d69a74e8c button.colab-df-convert');\n",
              "        buttonEl.style.display =\n",
              "          google.colab.kernel.accessAllowed ? 'block' : 'none';\n",
              "\n",
              "        async function convertToInteractive(key) {\n",
              "          const element = document.querySelector('#df-f55aeecb-91ff-4920-b2ea-8a4d69a74e8c');\n",
              "          const dataTable =\n",
              "            await google.colab.kernel.invokeFunction('convertToInteractive',\n",
              "                                                     [key], {});\n",
              "          if (!dataTable) return;\n",
              "\n",
              "          const docLinkHtml = 'Like what you see? Visit the ' +\n",
              "            '<a target=\"_blank\" href=https://colab.research.google.com/notebooks/data_table.ipynb>data table notebook</a>'\n",
              "            + ' to learn more about interactive tables.';\n",
              "          element.innerHTML = '';\n",
              "          dataTable['output_type'] = 'display_data';\n",
              "          await google.colab.output.renderOutput(dataTable, element);\n",
              "          const docLink = document.createElement('div');\n",
              "          docLink.innerHTML = docLinkHtml;\n",
              "          element.appendChild(docLink);\n",
              "        }\n",
              "      </script>\n",
              "    </div>\n",
              "  </div>\n",
              "  "
            ]
          },
          "metadata": {},
          "execution_count": 21
        }
      ]
    },
    {
      "cell_type": "markdown",
      "source": [
        "Rceherche des termes présents dans Central, présents dans AIRTBL mais sans UID"
      ],
      "metadata": {
        "id": "fXlfUrfdYIbI"
      }
    },
    {
      "cell_type": "code",
      "source": [
        "vk_at_trad = airtable.get_all(view='Traductions',sort='Proposition')\n",
        "df_vk_at_trad = pd.DataFrame.from_records((r['fields'] for r in vk_at_trad))\n",
        "df_vk_at_trad = df_vk_at_trad[[\"Proposition\",\"idx_cor\",\"UID\"]]\n",
        "df_vk_at_trad_notna = df_vk_at_trad.loc[pd.notna(df_vk_at_trad[\"UID\"])]\n",
        "df_vk_at_trad_na = df_vk_at_trad.loc[pd.isna(df_vk_at_trad[\"UID\"])]"
      ],
      "metadata": {
        "id": "K3gKCepieMIQ"
      },
      "execution_count": null,
      "outputs": []
    },
    {
      "cell_type": "markdown",
      "source": [
        "### merge côté AT : avec les UID présents "
      ],
      "metadata": {
        "id": "INb1Du8CtbBR"
      }
    },
    {
      "cell_type": "code",
      "source": [
        "df_merged = pd.merge(df_cc_global, df_vk_at_trad_notna, how=\"right\", left_on='uid', right_on='UID')"
      ],
      "metadata": {
        "id": "WmQoZ0pvgZtQ"
      },
      "execution_count": null,
      "outputs": []
    },
    {
      "cell_type": "markdown",
      "source": [
        "## On complète avec les traductions"
      ],
      "metadata": {
        "id": "ldztSIEztkja"
      }
    },
    {
      "cell_type": "code",
      "source": [
        "for index, row in df_merged.iterrows():\n",
        "  if row[\"uid\"] is not None:\n",
        "    record = airtable.match('UID', row[\"uid\"])\n",
        "    aDict = {}\n",
        "    for i in vk_languages:\n",
        "      key = i[\"trigramme\"]\n",
        "      aDict[key] = row[key]\n",
        "      #print (record['id'] +\" \" + row[\"eng\"])\n",
        "    airtable.update(record['id'], aDict)\n"
      ],
      "metadata": {
        "id": "--ive2GSiBtb"
      },
      "execution_count": null,
      "outputs": []
    },
    {
      "cell_type": "markdown",
      "source": [
        "## On complète avec les UID manquants"
      ],
      "metadata": {
        "id": "TDC5UPAZtj7e"
      }
    },
    {
      "cell_type": "code",
      "source": [
        "df_vk_at_trad_na"
      ],
      "metadata": {
        "id": "AcFNN2eIuIog"
      },
      "execution_count": null,
      "outputs": []
    },
    {
      "cell_type": "code",
      "source": [
        "df_merged = pd.merge(df_cc_global, df_vk_at_trad_na, how=\"right\", left_on='expression', right_on='Proposition')"
      ],
      "metadata": {
        "id": "8t7rvIBUtvJu"
      },
      "execution_count": null,
      "outputs": []
    },
    {
      "cell_type": "code",
      "source": [
        "df_merged = df_merged.loc[pd.notna(df_merged[\"uid\"])]"
      ],
      "metadata": {
        "id": "6ahCm4WCufpQ"
      },
      "execution_count": null,
      "outputs": []
    },
    {
      "cell_type": "code",
      "source": [
        "for index, row in df_merged.iterrows():\n",
        "  if row[\"uid\"] is not None:\n",
        "    record = airtable.match('Proposition', row[\"expression\"])\n",
        "    aDict = {}\n",
        "    key = \"UID\"\n",
        "    aDict[key] = row[\"uid\"]\n",
        "    for i in vk_languages:\n",
        "      key = i[\"trigramme\"]\n",
        "      aDict[key] = row[key]\n",
        "      #print (record['id'] +\" \" + row[\"eng\"])\n",
        "    airtable.update(record['id'], aDict)"
      ],
      "metadata": {
        "id": "cOtC1mTRvf4b"
      },
      "execution_count": null,
      "outputs": []
    },
    {
      "cell_type": "markdown",
      "source": [
        "## On vide toute la base AT dans Central Consolidation"
      ],
      "metadata": {
        "id": "DS-bEnO8wWdd"
      }
    },
    {
      "cell_type": "code",
      "source": [
        "vk_at = airtable.get_all(view='Admin',sort='Proposition')\n",
        "df_vkat = pd.DataFrame.from_records((r['fields'] for r in vk_at))"
      ],
      "metadata": {
        "id": "E0Ohsqdnyic-"
      },
      "execution_count": null,
      "outputs": []
    },
    {
      "cell_type": "code",
      "source": [
        "# Corpus_consolidation\n",
        "uri = \"https://docs.google.com/spreadsheets/d/1cSnSnnQunL-I7hpyYkIqbtuGr55unVJ3Qe8URSrjTr8/edit?usp=sharing\"\n",
        "\n",
        "wb = get_CCDB_wb(uri)\n",
        "db_cc = get_CCDB_data (wb, 0)\n",
        "\n",
        "nom_onglet = 'Termes'\n",
        "# si l'onglet existe déjà\n",
        "try:\n",
        "  ws = wb.worksheet(nom_onglet)\n",
        "  wb.del_worksheet(ws)\n",
        "except:\n",
        "  print (\"Onglet inexistant !\")\n",
        "\n",
        "wb.add_worksheet(nom_onglet, 1, 1)\n",
        "export_sheet = wb.worksheet(nom_onglet)\n",
        "set_with_dataframe(export_sheet, df_vkat)\n",
        "\n"
      ],
      "metadata": {
        "id": "jwPPFWmSxrsj"
      },
      "execution_count": null,
      "outputs": []
    },
    {
      "cell_type": "markdown",
      "source": [
        "END"
      ],
      "metadata": {
        "id": "GrpHI9nesnIY"
      }
    },
    {
      "cell_type": "code",
      "source": [
        "record = airtable.match('UID', '30579682')\n",
        "fields = {'eng': 'Accident'}\n",
        "airtable.update(record['id'], fields)"
      ],
      "metadata": {
        "colab": {
          "base_uri": "https://localhost:8080/"
        },
        "id": "i4bxE6U-dJLn",
        "outputId": "2d304bb3-bd16-4af0-e266-ea21e647b4bf"
      },
      "execution_count": null,
      "outputs": [
        {
          "output_type": "execute_result",
          "data": {
            "text/plain": [
              "{'createdTime': '2021-12-10T08:47:48.000Z',\n",
              " 'fields': {'CATEGRAM': ['nm'],\n",
              "  'Name ID': 'recGaRQGjV5qN3QBN',\n",
              "  'Proposition': 'Accident',\n",
              "  'TYPE': 'vocabulaire',\n",
              "  'Thématique': 'Vaccination',\n",
              "  'UID': '30579682',\n",
              "  'VOCABULAIRE': 'Général',\n",
              "  'eng': 'Accident',\n",
              "  'idx': 'A',\n",
              "  'idx_cor': 'A'},\n",
              " 'id': 'recGaRQGjV5qN3QBN'}"
            ]
          },
          "metadata": {},
          "execution_count": 39
        }
      ]
    },
    {
      "cell_type": "code",
      "source": [
        "record"
      ],
      "metadata": {
        "colab": {
          "base_uri": "https://localhost:8080/"
        },
        "id": "FVhleF-qdP8m",
        "outputId": "6842713c-df5e-40c3-d9ac-94d4b4bb4b4c"
      },
      "execution_count": null,
      "outputs": [
        {
          "output_type": "execute_result",
          "data": {
            "text/plain": [
              "{'createdTime': '2021-12-10T08:47:48.000Z',\n",
              " 'fields': {'CATEGRAM': ['nm'],\n",
              "  'Name ID': 'recGaRQGjV5qN3QBN',\n",
              "  'Proposition': 'Accident',\n",
              "  'TYPE': 'vocabulaire',\n",
              "  'Thématique': 'Vaccination',\n",
              "  'UID': '30579682',\n",
              "  'VOCABULAIRE': 'Général',\n",
              "  'idx': 'A',\n",
              "  'idx_cor': 'A'},\n",
              " 'id': 'recGaRQGjV5qN3QBN'}"
            ]
          },
          "metadata": {},
          "execution_count": 33
        }
      ]
    },
    {
      "cell_type": "code",
      "metadata": {
        "id": "9yIqVmuF5sLc"
      },
      "source": [
        "def airtable_table_get(uri, params, headers):\n",
        "  airtable_records = []\n",
        "  run = True\n",
        "  while run is True:\n",
        "    response = requests.get(uri, params=params, headers=headers)\n",
        "    airtable_response = response.json()\n",
        "    airtable_records += (airtable_response['records'])\n",
        "    if 'offset' in airtable_response:\n",
        "      run = True\n",
        "      params = (('offset', airtable_response['offset']),)\n",
        "    else:\n",
        "      run = False\n",
        "  return airtable_records"
      ],
      "execution_count": null,
      "outputs": []
    },
    {
      "cell_type": "markdown",
      "metadata": {
        "id": "Td15VBcoLa2f"
      },
      "source": [
        "# Table Corpus"
      ]
    },
    {
      "cell_type": "code",
      "metadata": {
        "id": "7Vt-ZR-AJlzP"
      },
      "source": [
        "\n",
        "url = \"https://api.airtable.com/v0/\" + base_id + \"/\" + table_name\n"
      ],
      "execution_count": null,
      "outputs": []
    },
    {
      "cell_type": "markdown",
      "metadata": {
        "id": "ViCvTpxuBHoz"
      },
      "source": [
        "### On lit tous les enregistrements, puis on met dans un dataframe"
      ]
    },
    {
      "cell_type": "code",
      "metadata": {
        "id": "l8xZ5LY6MLFl"
      },
      "source": [
        "airtable_records = airtable_table_get(url, params, headers)\n",
        "\n",
        "airtable_rows = [] \n",
        "airtable_index = []\n",
        "for record in airtable_records:\n",
        "  airtable_rows.append(record['fields'])\n",
        "  airtable_index.append(record['id'])\n",
        "df = pd.DataFrame(airtable_rows, index=airtable_index)\n",
        "df = df [['Proposition','UID', 'Name ID', 'DEPENDANCE', 'idx', 'idx_cor','Statut','Thématique']]\n",
        "df.sort_values(by=['Proposition'], ascending=True, inplace=True)"
      ],
      "execution_count": null,
      "outputs": []
    },
    {
      "cell_type": "code",
      "source": [
        "df.head(10)"
      ],
      "metadata": {
        "colab": {
          "base_uri": "https://localhost:8080/",
          "height": 363
        },
        "id": "6mXBIWjy1qNA",
        "outputId": "157f2898-0e0d-48e6-ec4a-7aa85789b3c5"
      },
      "execution_count": null,
      "outputs": [
        {
          "output_type": "execute_result",
          "data": {
            "text/html": [
              "\n",
              "  <div id=\"df-22447ca0-0f23-457d-8f2b-09b219e4cba2\">\n",
              "    <div class=\"colab-df-container\">\n",
              "      <div>\n",
              "<style scoped>\n",
              "    .dataframe tbody tr th:only-of-type {\n",
              "        vertical-align: middle;\n",
              "    }\n",
              "\n",
              "    .dataframe tbody tr th {\n",
              "        vertical-align: top;\n",
              "    }\n",
              "\n",
              "    .dataframe thead th {\n",
              "        text-align: right;\n",
              "    }\n",
              "</style>\n",
              "<table border=\"1\" class=\"dataframe\">\n",
              "  <thead>\n",
              "    <tr style=\"text-align: right;\">\n",
              "      <th></th>\n",
              "      <th>Proposition</th>\n",
              "      <th>UID</th>\n",
              "      <th>Name ID</th>\n",
              "      <th>DEPENDANCE</th>\n",
              "      <th>idx</th>\n",
              "      <th>idx_cor</th>\n",
              "      <th>Statut</th>\n",
              "      <th>Thématique</th>\n",
              "    </tr>\n",
              "  </thead>\n",
              "  <tbody>\n",
              "    <tr>\n",
              "      <th>recKbPHqDTXNPwYK0</th>\n",
              "      <td>A jeun</td>\n",
              "      <td>f397cda1</td>\n",
              "      <td>recKbPHqDTXNPwYK0</td>\n",
              "      <td>NaN</td>\n",
              "      <td>J</td>\n",
              "      <td>J</td>\n",
              "      <td>NaN</td>\n",
              "      <td>Vaccination</td>\n",
              "    </tr>\n",
              "    <tr>\n",
              "      <th>rec1qTnfWxjhx6SBl</th>\n",
              "      <td>AME - Aide médicale d'État</td>\n",
              "      <td>f49563a9</td>\n",
              "      <td>rec1qTnfWxjhx6SBl</td>\n",
              "      <td>NaN</td>\n",
              "      <td>A</td>\n",
              "      <td>A</td>\n",
              "      <td>NaN</td>\n",
              "      <td>Vaccination</td>\n",
              "    </tr>\n",
              "    <tr>\n",
              "      <th>rec0HgtD22F7TWM3W</th>\n",
              "      <td>Abcès</td>\n",
              "      <td>6e65dde7</td>\n",
              "      <td>rec0HgtD22F7TWM3W</td>\n",
              "      <td>NaN</td>\n",
              "      <td>A</td>\n",
              "      <td>A</td>\n",
              "      <td>NaN</td>\n",
              "      <td>Médecine générale</td>\n",
              "    </tr>\n",
              "    <tr>\n",
              "      <th>recGaRQGjV5qN3QBN</th>\n",
              "      <td>Accident</td>\n",
              "      <td>30579682</td>\n",
              "      <td>recGaRQGjV5qN3QBN</td>\n",
              "      <td>NaN</td>\n",
              "      <td>A</td>\n",
              "      <td>A</td>\n",
              "      <td>NaN</td>\n",
              "      <td>Vaccination</td>\n",
              "    </tr>\n",
              "    <tr>\n",
              "      <th>rec3MxDq67MC982ng</th>\n",
              "      <td>Accident cérébral</td>\n",
              "      <td>6f214e4c</td>\n",
              "      <td>rec3MxDq67MC982ng</td>\n",
              "      <td>[recGaRQGjV5qN3QBN]</td>\n",
              "      <td>A</td>\n",
              "      <td>A</td>\n",
              "      <td>NaN</td>\n",
              "      <td>Vaccination</td>\n",
              "    </tr>\n",
              "    <tr>\n",
              "      <th>reciexfGbNKvXzQg8</th>\n",
              "      <td>Alcool</td>\n",
              "      <td>NaN</td>\n",
              "      <td>reciexfGbNKvXzQg8</td>\n",
              "      <td>NaN</td>\n",
              "      <td>A</td>\n",
              "      <td>A</td>\n",
              "      <td>NaN</td>\n",
              "      <td>Médecine générale</td>\n",
              "    </tr>\n",
              "    <tr>\n",
              "      <th>recfY4uKkgK8Jp8GO</th>\n",
              "      <td>Allergie</td>\n",
              "      <td>8b195cf4</td>\n",
              "      <td>recfY4uKkgK8Jp8GO</td>\n",
              "      <td>NaN</td>\n",
              "      <td>A</td>\n",
              "      <td>A</td>\n",
              "      <td>NaN</td>\n",
              "      <td>Vaccination</td>\n",
              "    </tr>\n",
              "    <tr>\n",
              "      <th>recSKSrXVLhDfMq6w</th>\n",
              "      <td>Allergie alimentaire</td>\n",
              "      <td>f754eebf</td>\n",
              "      <td>recSKSrXVLhDfMq6w</td>\n",
              "      <td>[recfY4uKkgK8Jp8GO]</td>\n",
              "      <td>A</td>\n",
              "      <td>A</td>\n",
              "      <td>NaN</td>\n",
              "      <td>Vaccination</td>\n",
              "    </tr>\n",
              "    <tr>\n",
              "      <th>rectthHdPchXi1zr9</th>\n",
              "      <td>Allergie médicamenteuse</td>\n",
              "      <td>7256c169</td>\n",
              "      <td>rectthHdPchXi1zr9</td>\n",
              "      <td>[recfY4uKkgK8Jp8GO, recOivQOmeragygVr]</td>\n",
              "      <td>A</td>\n",
              "      <td>A</td>\n",
              "      <td>NaN</td>\n",
              "      <td>Vaccination</td>\n",
              "    </tr>\n",
              "    <tr>\n",
              "      <th>recHNzXfvWWm0Lwp8</th>\n",
              "      <td>Allergie à un médicament</td>\n",
              "      <td>316fa7ab</td>\n",
              "      <td>recHNzXfvWWm0Lwp8</td>\n",
              "      <td>[recfY4uKkgK8Jp8GO, recOivQOmeragygVr]</td>\n",
              "      <td>A</td>\n",
              "      <td>A</td>\n",
              "      <td>NaN</td>\n",
              "      <td>Vaccination</td>\n",
              "    </tr>\n",
              "  </tbody>\n",
              "</table>\n",
              "</div>\n",
              "      <button class=\"colab-df-convert\" onclick=\"convertToInteractive('df-22447ca0-0f23-457d-8f2b-09b219e4cba2')\"\n",
              "              title=\"Convert this dataframe to an interactive table.\"\n",
              "              style=\"display:none;\">\n",
              "        \n",
              "  <svg xmlns=\"http://www.w3.org/2000/svg\" height=\"24px\"viewBox=\"0 0 24 24\"\n",
              "       width=\"24px\">\n",
              "    <path d=\"M0 0h24v24H0V0z\" fill=\"none\"/>\n",
              "    <path d=\"M18.56 5.44l.94 2.06.94-2.06 2.06-.94-2.06-.94-.94-2.06-.94 2.06-2.06.94zm-11 1L8.5 8.5l.94-2.06 2.06-.94-2.06-.94L8.5 2.5l-.94 2.06-2.06.94zm10 10l.94 2.06.94-2.06 2.06-.94-2.06-.94-.94-2.06-.94 2.06-2.06.94z\"/><path d=\"M17.41 7.96l-1.37-1.37c-.4-.4-.92-.59-1.43-.59-.52 0-1.04.2-1.43.59L10.3 9.45l-7.72 7.72c-.78.78-.78 2.05 0 2.83L4 21.41c.39.39.9.59 1.41.59.51 0 1.02-.2 1.41-.59l7.78-7.78 2.81-2.81c.8-.78.8-2.07 0-2.86zM5.41 20L4 18.59l7.72-7.72 1.47 1.35L5.41 20z\"/>\n",
              "  </svg>\n",
              "      </button>\n",
              "      \n",
              "  <style>\n",
              "    .colab-df-container {\n",
              "      display:flex;\n",
              "      flex-wrap:wrap;\n",
              "      gap: 12px;\n",
              "    }\n",
              "\n",
              "    .colab-df-convert {\n",
              "      background-color: #E8F0FE;\n",
              "      border: none;\n",
              "      border-radius: 50%;\n",
              "      cursor: pointer;\n",
              "      display: none;\n",
              "      fill: #1967D2;\n",
              "      height: 32px;\n",
              "      padding: 0 0 0 0;\n",
              "      width: 32px;\n",
              "    }\n",
              "\n",
              "    .colab-df-convert:hover {\n",
              "      background-color: #E2EBFA;\n",
              "      box-shadow: 0px 1px 2px rgba(60, 64, 67, 0.3), 0px 1px 3px 1px rgba(60, 64, 67, 0.15);\n",
              "      fill: #174EA6;\n",
              "    }\n",
              "\n",
              "    [theme=dark] .colab-df-convert {\n",
              "      background-color: #3B4455;\n",
              "      fill: #D2E3FC;\n",
              "    }\n",
              "\n",
              "    [theme=dark] .colab-df-convert:hover {\n",
              "      background-color: #434B5C;\n",
              "      box-shadow: 0px 1px 3px 1px rgba(0, 0, 0, 0.15);\n",
              "      filter: drop-shadow(0px 1px 2px rgba(0, 0, 0, 0.3));\n",
              "      fill: #FFFFFF;\n",
              "    }\n",
              "  </style>\n",
              "\n",
              "      <script>\n",
              "        const buttonEl =\n",
              "          document.querySelector('#df-22447ca0-0f23-457d-8f2b-09b219e4cba2 button.colab-df-convert');\n",
              "        buttonEl.style.display =\n",
              "          google.colab.kernel.accessAllowed ? 'block' : 'none';\n",
              "\n",
              "        async function convertToInteractive(key) {\n",
              "          const element = document.querySelector('#df-22447ca0-0f23-457d-8f2b-09b219e4cba2');\n",
              "          const dataTable =\n",
              "            await google.colab.kernel.invokeFunction('convertToInteractive',\n",
              "                                                     [key], {});\n",
              "          if (!dataTable) return;\n",
              "\n",
              "          const docLinkHtml = 'Like what you see? Visit the ' +\n",
              "            '<a target=\"_blank\" href=https://colab.research.google.com/notebooks/data_table.ipynb>data table notebook</a>'\n",
              "            + ' to learn more about interactive tables.';\n",
              "          element.innerHTML = '';\n",
              "          dataTable['output_type'] = 'display_data';\n",
              "          await google.colab.output.renderOutput(dataTable, element);\n",
              "          const docLink = document.createElement('div');\n",
              "          docLink.innerHTML = docLinkHtml;\n",
              "          element.appendChild(docLink);\n",
              "        }\n",
              "      </script>\n",
              "    </div>\n",
              "  </div>\n",
              "  "
            ],
            "text/plain": [
              "                                  Proposition  ...         Thématique\n",
              "recKbPHqDTXNPwYK0                      A jeun  ...        Vaccination\n",
              "rec1qTnfWxjhx6SBl  AME - Aide médicale d'État  ...        Vaccination\n",
              "rec0HgtD22F7TWM3W                       Abcès  ...  Médecine générale\n",
              "recGaRQGjV5qN3QBN                    Accident  ...        Vaccination\n",
              "rec3MxDq67MC982ng           Accident cérébral  ...        Vaccination\n",
              "reciexfGbNKvXzQg8                      Alcool  ...  Médecine générale\n",
              "recfY4uKkgK8Jp8GO                    Allergie  ...        Vaccination\n",
              "recSKSrXVLhDfMq6w        Allergie alimentaire  ...        Vaccination\n",
              "rectthHdPchXi1zr9     Allergie médicamenteuse  ...        Vaccination\n",
              "recHNzXfvWWm0Lwp8    Allergie à un médicament  ...        Vaccination\n",
              "\n",
              "[10 rows x 8 columns]"
            ]
          },
          "metadata": {},
          "execution_count": 53
        }
      ]
    },
    {
      "cell_type": "code",
      "source": [
        "def lookup_uid (uid):\n",
        "  try:\n",
        "    record = df_cc_fr.loc[df_cc_fr[\"uid\"]==uid][\"index\"].item()\n",
        "  except Exception as e:\n",
        "    list_no_uid.append(uid)\n",
        "    return uid\n",
        "  if record is not None:\n",
        "    return record"
      ],
      "metadata": {
        "id": "BxowEm56s5S7"
      },
      "execution_count": null,
      "outputs": []
    },
    {
      "cell_type": "code",
      "source": [
        "x = df_cc_fr.loc[df_cc_fr[\"uid\"]==\"72f0e8db\"][\"index\"].item()"
      ],
      "metadata": {
        "id": "Up-l6grOtVx0"
      },
      "execution_count": null,
      "outputs": []
    },
    {
      "cell_type": "code",
      "source": [
        "list_no_uid = [] # uid non présents côté central = mots à créer\n",
        "df['UID'] = df['UID'].apply(lambda x: make_unique_id() if pd.isna(x) else x)\n",
        "df.idx_cor = df['UID'].apply(lambda x: lookup_uid(x))"
      ],
      "metadata": {
        "id": "ezaiOPYlx9Mg"
      },
      "execution_count": null,
      "outputs": []
    },
    {
      "cell_type": "markdown",
      "source": [
        "convert the dataframe to a dictionary of dictionaries."
      ],
      "metadata": {
        "id": "ki6AHtiKT7L6"
      }
    },
    {
      "cell_type": "code",
      "source": [
        "df.tail()"
      ],
      "metadata": {
        "colab": {
          "base_uri": "https://localhost:8080/",
          "height": 206
        },
        "id": "Np075CkxXZNq",
        "outputId": "74f61a36-bead-4913-e5d2-1fd294c90fe7"
      },
      "execution_count": null,
      "outputs": [
        {
          "output_type": "execute_result",
          "data": {
            "text/html": [
              "\n",
              "  <div id=\"df-c6325ba4-794c-4b44-8943-a1e2fcc92c87\">\n",
              "    <div class=\"colab-df-container\">\n",
              "      <div>\n",
              "<style scoped>\n",
              "    .dataframe tbody tr th:only-of-type {\n",
              "        vertical-align: middle;\n",
              "    }\n",
              "\n",
              "    .dataframe tbody tr th {\n",
              "        vertical-align: top;\n",
              "    }\n",
              "\n",
              "    .dataframe thead th {\n",
              "        text-align: right;\n",
              "    }\n",
              "</style>\n",
              "<table border=\"1\" class=\"dataframe\">\n",
              "  <thead>\n",
              "    <tr style=\"text-align: right;\">\n",
              "      <th></th>\n",
              "      <th>Proposition</th>\n",
              "      <th>UID</th>\n",
              "      <th>Name ID</th>\n",
              "      <th>DEPENDANCE</th>\n",
              "      <th>idx</th>\n",
              "      <th>idx_cor</th>\n",
              "      <th>Statut</th>\n",
              "      <th>Thématique</th>\n",
              "    </tr>\n",
              "  </thead>\n",
              "  <tbody>\n",
              "    <tr>\n",
              "      <th>recia1L6nICYg6LJ8</th>\n",
              "      <td>Zona</td>\n",
              "      <td>d3dba8e4</td>\n",
              "      <td>recia1L6nICYg6LJ8</td>\n",
              "      <td>NaN</td>\n",
              "      <td>NaN</td>\n",
              "      <td>Z</td>\n",
              "      <td>NaN</td>\n",
              "      <td>Vaccination</td>\n",
              "    </tr>\n",
              "    <tr>\n",
              "      <th>recVvIHdNWf80zvsG</th>\n",
              "      <td>À quelle moment de la journée vous prenez le m...</td>\n",
              "      <td>0f86d1ef</td>\n",
              "      <td>recVvIHdNWf80zvsG</td>\n",
              "      <td>[recOivQOmeragygVr]</td>\n",
              "      <td>M</td>\n",
              "      <td>0f86d1ef</td>\n",
              "      <td>Ramona</td>\n",
              "      <td>Médecine générale</td>\n",
              "    </tr>\n",
              "    <tr>\n",
              "      <th>recWp0rajm2qKcJuF</th>\n",
              "      <td>Êtes vous vacciné (e) ?</td>\n",
              "      <td>c5df267a</td>\n",
              "      <td>recWp0rajm2qKcJuF</td>\n",
              "      <td>NaN</td>\n",
              "      <td>NaN</td>\n",
              "      <td>Ê</td>\n",
              "      <td>NaN</td>\n",
              "      <td>Médecine générale</td>\n",
              "    </tr>\n",
              "    <tr>\n",
              "      <th>recBY5NXGM8UtBcaX</th>\n",
              "      <td>Êtes-vous enceinte ?</td>\n",
              "      <td>7768882c</td>\n",
              "      <td>recBY5NXGM8UtBcaX</td>\n",
              "      <td>NaN</td>\n",
              "      <td>NaN</td>\n",
              "      <td>Ê</td>\n",
              "      <td>NaN</td>\n",
              "      <td>Médecine générale</td>\n",
              "    </tr>\n",
              "    <tr>\n",
              "      <th>reczy8Os5Hc3qZ1yA</th>\n",
              "      <td>Œdème</td>\n",
              "      <td>72f0e8db</td>\n",
              "      <td>reczy8Os5Hc3qZ1yA</td>\n",
              "      <td>NaN</td>\n",
              "      <td>NaN</td>\n",
              "      <td>Œ</td>\n",
              "      <td>NaN</td>\n",
              "      <td>Médecine générale</td>\n",
              "    </tr>\n",
              "  </tbody>\n",
              "</table>\n",
              "</div>\n",
              "      <button class=\"colab-df-convert\" onclick=\"convertToInteractive('df-c6325ba4-794c-4b44-8943-a1e2fcc92c87')\"\n",
              "              title=\"Convert this dataframe to an interactive table.\"\n",
              "              style=\"display:none;\">\n",
              "        \n",
              "  <svg xmlns=\"http://www.w3.org/2000/svg\" height=\"24px\"viewBox=\"0 0 24 24\"\n",
              "       width=\"24px\">\n",
              "    <path d=\"M0 0h24v24H0V0z\" fill=\"none\"/>\n",
              "    <path d=\"M18.56 5.44l.94 2.06.94-2.06 2.06-.94-2.06-.94-.94-2.06-.94 2.06-2.06.94zm-11 1L8.5 8.5l.94-2.06 2.06-.94-2.06-.94L8.5 2.5l-.94 2.06-2.06.94zm10 10l.94 2.06.94-2.06 2.06-.94-2.06-.94-.94-2.06-.94 2.06-2.06.94z\"/><path d=\"M17.41 7.96l-1.37-1.37c-.4-.4-.92-.59-1.43-.59-.52 0-1.04.2-1.43.59L10.3 9.45l-7.72 7.72c-.78.78-.78 2.05 0 2.83L4 21.41c.39.39.9.59 1.41.59.51 0 1.02-.2 1.41-.59l7.78-7.78 2.81-2.81c.8-.78.8-2.07 0-2.86zM5.41 20L4 18.59l7.72-7.72 1.47 1.35L5.41 20z\"/>\n",
              "  </svg>\n",
              "      </button>\n",
              "      \n",
              "  <style>\n",
              "    .colab-df-container {\n",
              "      display:flex;\n",
              "      flex-wrap:wrap;\n",
              "      gap: 12px;\n",
              "    }\n",
              "\n",
              "    .colab-df-convert {\n",
              "      background-color: #E8F0FE;\n",
              "      border: none;\n",
              "      border-radius: 50%;\n",
              "      cursor: pointer;\n",
              "      display: none;\n",
              "      fill: #1967D2;\n",
              "      height: 32px;\n",
              "      padding: 0 0 0 0;\n",
              "      width: 32px;\n",
              "    }\n",
              "\n",
              "    .colab-df-convert:hover {\n",
              "      background-color: #E2EBFA;\n",
              "      box-shadow: 0px 1px 2px rgba(60, 64, 67, 0.3), 0px 1px 3px 1px rgba(60, 64, 67, 0.15);\n",
              "      fill: #174EA6;\n",
              "    }\n",
              "\n",
              "    [theme=dark] .colab-df-convert {\n",
              "      background-color: #3B4455;\n",
              "      fill: #D2E3FC;\n",
              "    }\n",
              "\n",
              "    [theme=dark] .colab-df-convert:hover {\n",
              "      background-color: #434B5C;\n",
              "      box-shadow: 0px 1px 3px 1px rgba(0, 0, 0, 0.15);\n",
              "      filter: drop-shadow(0px 1px 2px rgba(0, 0, 0, 0.3));\n",
              "      fill: #FFFFFF;\n",
              "    }\n",
              "  </style>\n",
              "\n",
              "      <script>\n",
              "        const buttonEl =\n",
              "          document.querySelector('#df-c6325ba4-794c-4b44-8943-a1e2fcc92c87 button.colab-df-convert');\n",
              "        buttonEl.style.display =\n",
              "          google.colab.kernel.accessAllowed ? 'block' : 'none';\n",
              "\n",
              "        async function convertToInteractive(key) {\n",
              "          const element = document.querySelector('#df-c6325ba4-794c-4b44-8943-a1e2fcc92c87');\n",
              "          const dataTable =\n",
              "            await google.colab.kernel.invokeFunction('convertToInteractive',\n",
              "                                                     [key], {});\n",
              "          if (!dataTable) return;\n",
              "\n",
              "          const docLinkHtml = 'Like what you see? Visit the ' +\n",
              "            '<a target=\"_blank\" href=https://colab.research.google.com/notebooks/data_table.ipynb>data table notebook</a>'\n",
              "            + ' to learn more about interactive tables.';\n",
              "          element.innerHTML = '';\n",
              "          dataTable['output_type'] = 'display_data';\n",
              "          await google.colab.output.renderOutput(dataTable, element);\n",
              "          const docLink = document.createElement('div');\n",
              "          docLink.innerHTML = docLinkHtml;\n",
              "          element.appendChild(docLink);\n",
              "        }\n",
              "      </script>\n",
              "    </div>\n",
              "  </div>\n",
              "  "
            ],
            "text/plain": [
              "                                                         Proposition  ...         Thématique\n",
              "recia1L6nICYg6LJ8                                               Zona  ...        Vaccination\n",
              "recVvIHdNWf80zvsG  À quelle moment de la journée vous prenez le m...  ...  Médecine générale\n",
              "recWp0rajm2qKcJuF                            Êtes vous vacciné (e) ?  ...  Médecine générale\n",
              "recBY5NXGM8UtBcaX                               Êtes-vous enceinte ?  ...  Médecine générale\n",
              "reczy8Os5Hc3qZ1yA                                              Œdème  ...  Médecine générale\n",
              "\n",
              "[5 rows x 8 columns]"
            ]
          },
          "metadata": {},
          "execution_count": 29
        }
      ]
    },
    {
      "cell_type": "code",
      "source": [
        "dict_records = df.tail().to_dict(orient=\"index\")"
      ],
      "metadata": {
        "id": "oyRHDXzvTHjA"
      },
      "execution_count": null,
      "outputs": []
    },
    {
      "cell_type": "code",
      "source": [
        "for record_id, upload_data in dict_records.items():\n",
        "  record_url = url + \"/\" + record_id\n",
        "  upload_dict = {\"records\" : [{\"fields\" : upload_data}]}\n",
        "  upload_json = json.dumps(upload_dict)\n",
        "  requests.post(url, data=upload_json, headers=headers)"
      ],
      "metadata": {
        "id": "5XBfgW3PUrdN"
      },
      "execution_count": null,
      "outputs": []
    },
    {
      "cell_type": "code",
      "source": [
        "headers"
      ],
      "metadata": {
        "colab": {
          "base_uri": "https://localhost:8080/"
        },
        "id": "mbWEXLZUcxSM",
        "outputId": "326a70ec-87e8-456c-c5ff-50757bd4f8cd"
      },
      "execution_count": null,
      "outputs": [
        {
          "output_type": "execute_result",
          "data": {
            "text/plain": [
              "{'Authorization': 'Bearer keyrI98TIqu6mbFcf',\n",
              " 'Content-Type': 'application/json'}"
            ]
          },
          "metadata": {},
          "execution_count": 55
        }
      ]
    },
    {
      "cell_type": "code",
      "source": [
        "requests.patch(url, data=upload_json, headers=headers)"
      ],
      "metadata": {
        "colab": {
          "base_uri": "https://localhost:8080/"
        },
        "id": "o8n3oC8sXz_q",
        "outputId": "59ca8181-c67e-413c-9303-4a95a1bb0cb3"
      },
      "execution_count": null,
      "outputs": [
        {
          "output_type": "execute_result",
          "data": {
            "text/plain": [
              "<Response [422]>"
            ]
          },
          "metadata": {},
          "execution_count": 67
        }
      ]
    },
    {
      "cell_type": "code",
      "source": [
        "upload_json='{\"records\": [{\"fields\": {\"Proposition\": \"OEDEME\", \"id\": \"reczy8Os5Hc3qZ1yA\"}}]}'"
      ],
      "metadata": {
        "id": "4z1Tka3Het97"
      },
      "execution_count": null,
      "outputs": []
    },
    {
      "cell_type": "code",
      "source": [
        "requests.post(record_url, data=upload_json, headers=headers)"
      ],
      "metadata": {
        "colab": {
          "base_uri": "https://localhost:8080/"
        },
        "id": "kz8cAEx3WRM6",
        "outputId": "d7947213-1e29-4af2-ed81-713ad4be7262"
      },
      "execution_count": null,
      "outputs": [
        {
          "output_type": "execute_result",
          "data": {
            "text/plain": [
              "<Response [404]>"
            ]
          },
          "metadata": {},
          "execution_count": 69
        }
      ]
    },
    {
      "cell_type": "code",
      "metadata": {
        "id": "ZDtjJZDO-REI"
      },
      "source": [
        "def fmt_table(wb, nom_onglet):\n",
        "  # onglet\n",
        "  ws = wb.worksheet(nom_onglet)\n",
        "\n",
        "  # Format de la partie gauche\n",
        "  fmt = cellFormat(\n",
        "      backgroundColor=color(0.91, 0.96, 0.93),\n",
        "      textFormat=textFormat(bold=False, foregroundColor=color(0,0,0), fontSize='10'),\n",
        "      horizontalAlignment='LEFT'\n",
        "      )\n",
        "  format_cell_range(ws, 'A:', fmt)\n",
        "\n",
        "  # format de l'entete\n",
        "  fmt = cellFormat(\n",
        "      backgroundColor=color(0.7725,0.8431,0.7922),\n",
        "      textFormat=textFormat(bold=True, foregroundColor=color(0,0,0), fontSize='10'),\n",
        "      horizontalAlignment='LEFT'\n",
        "      )\n",
        "  format_cell_range(ws, '1', fmt)\n",
        "  \n",
        "  # format de l'auto wrap\n",
        "  fmt = cellFormat(\n",
        "      wrapStrategy='WRAP'\n",
        "      )\n",
        "  format_cell_range(ws, 'B:C', fmt)\n",
        "\n",
        "  # on gèle l'entete et les colonnes de gauche\n",
        "  set_frozen(ws, rows=1, cols=1)\n",
        "  set_column_width(ws, 'A:C', 500)\n"
      ],
      "execution_count": null,
      "outputs": []
    },
    {
      "cell_type": "code",
      "metadata": {
        "id": "CsC901Jt9y3L"
      },
      "source": [
        "nom_onglet = 'Liste'\n",
        "# si l'onglet existe déjà\n",
        "try:\n",
        "  ws = wb.worksheet(nom_onglet)\n",
        "  wb.del_worksheet(ws)\n",
        "except:\n",
        "  print (\"Onglet inexistant !\")\n",
        "\n",
        "wb.add_worksheet(nom_onglet, 1, 1)\n",
        "export_sheet = wb.worksheet(nom_onglet)\n",
        "set_with_dataframe(export_sheet, df)\n",
        "fmt_table(wb,nom_onglet)\n"
      ],
      "execution_count": null,
      "outputs": []
    },
    {
      "cell_type": "code",
      "metadata": {
        "id": "UKh-k1rvN46E"
      },
      "source": [
        "table_name = 'Structure'\n",
        "url = \"https://api.airtable.com/v0/\" + base_id + \"/\" + table_name"
      ],
      "execution_count": null,
      "outputs": []
    },
    {
      "cell_type": "code",
      "metadata": {
        "id": "TEUOFK-KVDV5",
        "colab": {
          "base_uri": "https://localhost:8080/",
          "height": 297
        },
        "outputId": "78664522-8f30-4092-f0c9-622ba77be86c"
      },
      "source": [
        "df"
      ],
      "execution_count": null,
      "outputs": [
        {
          "output_type": "execute_result",
          "data": {
            "text/html": [
              "<div>\n",
              "<style scoped>\n",
              "    .dataframe tbody tr th:only-of-type {\n",
              "        vertical-align: middle;\n",
              "    }\n",
              "\n",
              "    .dataframe tbody tr th {\n",
              "        vertical-align: top;\n",
              "    }\n",
              "\n",
              "    .dataframe thead th {\n",
              "        text-align: right;\n",
              "    }\n",
              "</style>\n",
              "<table border=\"1\" class=\"dataframe\">\n",
              "  <thead>\n",
              "    <tr style=\"text-align: right;\">\n",
              "      <th></th>\n",
              "      <th>Name</th>\n",
              "      <th>Situation de départ</th>\n",
              "      <th>Notes</th>\n",
              "    </tr>\n",
              "  </thead>\n",
              "  <tbody>\n",
              "    <tr>\n",
              "      <th>recnI80hvydv71fs4</th>\n",
              "      <td>0.Conception</td>\n",
              "      <td>Plus on possède, plus on est soi-même possédé....</td>\n",
              "      <td>Trouver le plaisir d’écrire. Partir d’idées, d...</td>\n",
              "    </tr>\n",
              "    <tr>\n",
              "      <th>recI2pgkNq2iP52rm</th>\n",
              "      <td>1.Situation initiale</td>\n",
              "      <td>Un jour d'été où il pleut et fait un temps abo...</td>\n",
              "      <td>Une vengeance d'une femme éconduite lors d'un ...</td>\n",
              "    </tr>\n",
              "    <tr>\n",
              "      <th>recb2DqhB9GvfI12n</th>\n",
              "      <td>2.Personnage</td>\n",
              "      <td>Un homme (marié ?) qui a donné rendez-vous à u...</td>\n",
              "      <td>Un Dom Juan sûr de son charme et imbu de sa pe...</td>\n",
              "    </tr>\n",
              "    <tr>\n",
              "      <th>recNLdU01JpCnvknJ</th>\n",
              "      <td>3.Acte déclencheur</td>\n",
              "      <td>La femme lui propose un jeu. Elle est dans le ...</td>\n",
              "      <td>NaN</td>\n",
              "    </tr>\n",
              "    <tr>\n",
              "      <th>recRxZVhpSPD6oQXx</th>\n",
              "      <td>4.Réaction</td>\n",
              "      <td>L'homme est d'abord tenté de partir car il est...</td>\n",
              "      <td>NaN</td>\n",
              "    </tr>\n",
              "    <tr>\n",
              "      <th>recRr06fOM4hGGaLY</th>\n",
              "      <td>5.Péripéties</td>\n",
              "      <td>Pendant la visite (ennuyeuse), l'homme tente d...</td>\n",
              "      <td>NaN</td>\n",
              "    </tr>\n",
              "    <tr>\n",
              "      <th>recvWnAYn9VNySVlB</th>\n",
              "      <td>6.Chute</td>\n",
              "      <td>Un spectacle où une partie du public est appel...</td>\n",
              "      <td>NaN</td>\n",
              "    </tr>\n",
              "    <tr>\n",
              "      <th>recDmZtMMNmiy7R0M</th>\n",
              "      <td>Récit</td>\n",
              "      <td>NaN</td>\n",
              "      <td>NaN</td>\n",
              "    </tr>\n",
              "  </tbody>\n",
              "</table>\n",
              "</div>"
            ],
            "text/plain": [
              "                                   Name  ...                                              Notes\n",
              "recnI80hvydv71fs4          0.Conception  ...  Trouver le plaisir d’écrire. Partir d’idées, d...\n",
              "recI2pgkNq2iP52rm  1.Situation initiale  ...  Une vengeance d'une femme éconduite lors d'un ...\n",
              "recb2DqhB9GvfI12n          2.Personnage  ...  Un Dom Juan sûr de son charme et imbu de sa pe...\n",
              "recNLdU01JpCnvknJ    3.Acte déclencheur  ...                                                NaN\n",
              "recRxZVhpSPD6oQXx            4.Réaction  ...                                                NaN\n",
              "recRr06fOM4hGGaLY          5.Péripéties  ...                                                NaN\n",
              "recvWnAYn9VNySVlB               6.Chute  ...                                                NaN\n",
              "recDmZtMMNmiy7R0M                 Récit  ...                                                NaN\n",
              "\n",
              "[8 rows x 3 columns]"
            ]
          },
          "metadata": {},
          "execution_count": 11
        }
      ]
    },
    {
      "cell_type": "code",
      "metadata": {
        "id": "TISNw9MItvH6"
      },
      "source": [
        ""
      ],
      "execution_count": null,
      "outputs": []
    }
  ]
}