{
  "nbformat": 4,
  "nbformat_minor": 0,
  "metadata": {
    "colab": {
      "name": "corpus_sync_airtable.ipynb",
      "provenance": [],
      "collapsed_sections": [],
      "authorship_tag": "ABX9TyOg7PknbtwGmo6SxdIBrPmC",
      "include_colab_link": true
    },
    "kernelspec": {
      "name": "python3",
      "display_name": "Python 3"
    },
    "language_info": {
      "name": "python"
    }
  },
  "cells": [
    {
      "cell_type": "markdown",
      "metadata": {
        "id": "view-in-github",
        "colab_type": "text"
      },
      "source": [
        "<a href=\"https://colab.research.google.com/github/gretiere545/corpus/blob/main/corpus_sync_airtable.ipynb\" target=\"_parent\"><img src=\"https://colab.research.google.com/assets/colab-badge.svg\" alt=\"Open In Colab\"/></a>"
      ]
    },
    {
      "cell_type": "markdown",
      "metadata": {
        "id": "FB29HktrvvBJ"
      },
      "source": [
        "# Corpus Airtable API"
      ]
    },
    {
      "cell_type": "code",
      "metadata": {
        "colab": {
          "base_uri": "https://localhost:8080/"
        },
        "id": "_5CoZ3ORv3Bh",
        "outputId": "f1f12e63-eef3-4179-833e-a91f92e5ad71"
      },
      "source": [
        "#!/usr/bin/env python\n",
        "# -*- coding: utf8 -*-\n",
        "!pip install gspread --upgrade\n",
        "# fix here => https://stackoverflow.com/questions/71347973/modulenotfounderror-no-module-named-gspread-models\n",
        "!pip uninstall gspread-dataframe\n",
        "!pip install gspread-dataframe\n",
        "!pip install gspread-formatting\n",
        "!pip install airtable-python-wrapper\n",
        "import pandas as pd\n",
        "import numpy as np\n",
        "import requests\n",
        "import json\n",
        "import uuid\n",
        "import datetime\n",
        "pd.set_option(\"display.width\",1000)\n",
        "# Ce bout de code pour pouvoir downloader des fichiers sur le drive\n",
        "from google.colab import drive\n",
        "drive.mount('/content/drive')\n",
        "%cd /content/drive/MyDrive/Trad-Union/Corpus/ASAMLA\n",
        "from google.colab import files\n",
        "\n",
        "# Ce bout de code pour pouvoir downloader des google sheets dans des dataframes\n",
        "from google.colab import auth\n",
        "auth.authenticate_user()\n",
        "import gspread\n",
        "from gspread_dataframe import get_as_dataframe, set_with_dataframe\n",
        "from gspread_formatting import *\n",
        "from oauth2client.client import GoogleCredentials\n",
        "# fix here => https://github.com/burnash/gspread/issues/1014\n",
        "from google.auth import default\n",
        "creds, _ = default()\n",
        "gc = gspread.authorize(creds)\n",
        "#gc = gspread.authorize(GoogleCredentials.get_application_default())\n",
        "from airtable import Airtable\n",
        "!export PYTHONIOENCODING=utf8\n"
      ],
      "execution_count": 1,
      "outputs": [
        {
          "output_type": "stream",
          "name": "stdout",
          "text": [
            "Requirement already satisfied: gspread in /usr/local/lib/python3.7/dist-packages (3.4.2)\n",
            "Collecting gspread\n",
            "  Downloading gspread-5.3.0-py3-none-any.whl (34 kB)\n",
            "Requirement already satisfied: google-auth-oauthlib>=0.4.1 in /usr/local/lib/python3.7/dist-packages (from gspread) (0.4.6)\n",
            "Requirement already satisfied: google-auth>=1.12.0 in /usr/local/lib/python3.7/dist-packages (from gspread) (1.35.0)\n",
            "Requirement already satisfied: pyasn1-modules>=0.2.1 in /usr/local/lib/python3.7/dist-packages (from google-auth>=1.12.0->gspread) (0.2.8)\n",
            "Requirement already satisfied: setuptools>=40.3.0 in /usr/local/lib/python3.7/dist-packages (from google-auth>=1.12.0->gspread) (57.4.0)\n",
            "Requirement already satisfied: cachetools<5.0,>=2.0.0 in /usr/local/lib/python3.7/dist-packages (from google-auth>=1.12.0->gspread) (4.2.4)\n",
            "Requirement already satisfied: rsa<5,>=3.1.4 in /usr/local/lib/python3.7/dist-packages (from google-auth>=1.12.0->gspread) (4.8)\n",
            "Requirement already satisfied: six>=1.9.0 in /usr/local/lib/python3.7/dist-packages (from google-auth>=1.12.0->gspread) (1.15.0)\n",
            "Requirement already satisfied: requests-oauthlib>=0.7.0 in /usr/local/lib/python3.7/dist-packages (from google-auth-oauthlib>=0.4.1->gspread) (1.3.1)\n",
            "Requirement already satisfied: pyasn1<0.5.0,>=0.4.6 in /usr/local/lib/python3.7/dist-packages (from pyasn1-modules>=0.2.1->google-auth>=1.12.0->gspread) (0.4.8)\n",
            "Requirement already satisfied: requests>=2.0.0 in /usr/local/lib/python3.7/dist-packages (from requests-oauthlib>=0.7.0->google-auth-oauthlib>=0.4.1->gspread) (2.23.0)\n",
            "Requirement already satisfied: oauthlib>=3.0.0 in /usr/local/lib/python3.7/dist-packages (from requests-oauthlib>=0.7.0->google-auth-oauthlib>=0.4.1->gspread) (3.2.0)\n",
            "Requirement already satisfied: chardet<4,>=3.0.2 in /usr/local/lib/python3.7/dist-packages (from requests>=2.0.0->requests-oauthlib>=0.7.0->google-auth-oauthlib>=0.4.1->gspread) (3.0.4)\n",
            "Requirement already satisfied: urllib3!=1.25.0,!=1.25.1,<1.26,>=1.21.1 in /usr/local/lib/python3.7/dist-packages (from requests>=2.0.0->requests-oauthlib>=0.7.0->google-auth-oauthlib>=0.4.1->gspread) (1.24.3)\n",
            "Requirement already satisfied: certifi>=2017.4.17 in /usr/local/lib/python3.7/dist-packages (from requests>=2.0.0->requests-oauthlib>=0.7.0->google-auth-oauthlib>=0.4.1->gspread) (2021.10.8)\n",
            "Requirement already satisfied: idna<3,>=2.5 in /usr/local/lib/python3.7/dist-packages (from requests>=2.0.0->requests-oauthlib>=0.7.0->google-auth-oauthlib>=0.4.1->gspread) (2.10)\n",
            "Installing collected packages: gspread\n",
            "  Attempting uninstall: gspread\n",
            "    Found existing installation: gspread 3.4.2\n",
            "    Uninstalling gspread-3.4.2:\n",
            "      Successfully uninstalled gspread-3.4.2\n",
            "Successfully installed gspread-5.3.0\n",
            "Found existing installation: gspread-dataframe 3.0.8\n",
            "Uninstalling gspread-dataframe-3.0.8:\n",
            "  Would remove:\n",
            "    /usr/local/lib/python3.7/dist-packages/gspread_dataframe-3.0.8.dist-info/*\n",
            "    /usr/local/lib/python3.7/dist-packages/gspread_dataframe.py\n",
            "Proceed (y/n)? y\n",
            "  Successfully uninstalled gspread-dataframe-3.0.8\n",
            "Collecting gspread-dataframe\n",
            "  Downloading gspread_dataframe-3.2.2-py2.py3-none-any.whl (7.8 kB)\n",
            "Requirement already satisfied: six>=1.12.0 in /usr/local/lib/python3.7/dist-packages (from gspread-dataframe) (1.15.0)\n",
            "Requirement already satisfied: pandas>=0.24.0 in /usr/local/lib/python3.7/dist-packages (from gspread-dataframe) (1.3.5)\n",
            "Requirement already satisfied: gspread>=3.0.0 in /usr/local/lib/python3.7/dist-packages (from gspread-dataframe) (5.3.0)\n",
            "Requirement already satisfied: google-auth>=1.12.0 in /usr/local/lib/python3.7/dist-packages (from gspread>=3.0.0->gspread-dataframe) (1.35.0)\n",
            "Requirement already satisfied: google-auth-oauthlib>=0.4.1 in /usr/local/lib/python3.7/dist-packages (from gspread>=3.0.0->gspread-dataframe) (0.4.6)\n",
            "Requirement already satisfied: pyasn1-modules>=0.2.1 in /usr/local/lib/python3.7/dist-packages (from google-auth>=1.12.0->gspread>=3.0.0->gspread-dataframe) (0.2.8)\n",
            "Requirement already satisfied: setuptools>=40.3.0 in /usr/local/lib/python3.7/dist-packages (from google-auth>=1.12.0->gspread>=3.0.0->gspread-dataframe) (57.4.0)\n",
            "Requirement already satisfied: rsa<5,>=3.1.4 in /usr/local/lib/python3.7/dist-packages (from google-auth>=1.12.0->gspread>=3.0.0->gspread-dataframe) (4.8)\n",
            "Requirement already satisfied: cachetools<5.0,>=2.0.0 in /usr/local/lib/python3.7/dist-packages (from google-auth>=1.12.0->gspread>=3.0.0->gspread-dataframe) (4.2.4)\n",
            "Requirement already satisfied: requests-oauthlib>=0.7.0 in /usr/local/lib/python3.7/dist-packages (from google-auth-oauthlib>=0.4.1->gspread>=3.0.0->gspread-dataframe) (1.3.1)\n",
            "Requirement already satisfied: pytz>=2017.3 in /usr/local/lib/python3.7/dist-packages (from pandas>=0.24.0->gspread-dataframe) (2018.9)\n",
            "Requirement already satisfied: numpy>=1.17.3 in /usr/local/lib/python3.7/dist-packages (from pandas>=0.24.0->gspread-dataframe) (1.21.5)\n",
            "Requirement already satisfied: python-dateutil>=2.7.3 in /usr/local/lib/python3.7/dist-packages (from pandas>=0.24.0->gspread-dataframe) (2.8.2)\n",
            "Requirement already satisfied: pyasn1<0.5.0,>=0.4.6 in /usr/local/lib/python3.7/dist-packages (from pyasn1-modules>=0.2.1->google-auth>=1.12.0->gspread>=3.0.0->gspread-dataframe) (0.4.8)\n",
            "Requirement already satisfied: oauthlib>=3.0.0 in /usr/local/lib/python3.7/dist-packages (from requests-oauthlib>=0.7.0->google-auth-oauthlib>=0.4.1->gspread>=3.0.0->gspread-dataframe) (3.2.0)\n",
            "Requirement already satisfied: requests>=2.0.0 in /usr/local/lib/python3.7/dist-packages (from requests-oauthlib>=0.7.0->google-auth-oauthlib>=0.4.1->gspread>=3.0.0->gspread-dataframe) (2.23.0)\n",
            "Requirement already satisfied: urllib3!=1.25.0,!=1.25.1,<1.26,>=1.21.1 in /usr/local/lib/python3.7/dist-packages (from requests>=2.0.0->requests-oauthlib>=0.7.0->google-auth-oauthlib>=0.4.1->gspread>=3.0.0->gspread-dataframe) (1.24.3)\n",
            "Requirement already satisfied: certifi>=2017.4.17 in /usr/local/lib/python3.7/dist-packages (from requests>=2.0.0->requests-oauthlib>=0.7.0->google-auth-oauthlib>=0.4.1->gspread>=3.0.0->gspread-dataframe) (2021.10.8)\n",
            "Requirement already satisfied: idna<3,>=2.5 in /usr/local/lib/python3.7/dist-packages (from requests>=2.0.0->requests-oauthlib>=0.7.0->google-auth-oauthlib>=0.4.1->gspread>=3.0.0->gspread-dataframe) (2.10)\n",
            "Requirement already satisfied: chardet<4,>=3.0.2 in /usr/local/lib/python3.7/dist-packages (from requests>=2.0.0->requests-oauthlib>=0.7.0->google-auth-oauthlib>=0.4.1->gspread>=3.0.0->gspread-dataframe) (3.0.4)\n",
            "Installing collected packages: gspread-dataframe\n",
            "Successfully installed gspread-dataframe-3.2.2\n",
            "Collecting gspread-formatting\n",
            "  Downloading gspread_formatting-1.0.6-py2.py3-none-any.whl (21 kB)\n",
            "Requirement already satisfied: gspread>=3.0.0 in /usr/local/lib/python3.7/dist-packages (from gspread-formatting) (5.3.0)\n",
            "Requirement already satisfied: google-auth-oauthlib>=0.4.1 in /usr/local/lib/python3.7/dist-packages (from gspread>=3.0.0->gspread-formatting) (0.4.6)\n",
            "Requirement already satisfied: google-auth>=1.12.0 in /usr/local/lib/python3.7/dist-packages (from gspread>=3.0.0->gspread-formatting) (1.35.0)\n",
            "Requirement already satisfied: rsa<5,>=3.1.4 in /usr/local/lib/python3.7/dist-packages (from google-auth>=1.12.0->gspread>=3.0.0->gspread-formatting) (4.8)\n",
            "Requirement already satisfied: pyasn1-modules>=0.2.1 in /usr/local/lib/python3.7/dist-packages (from google-auth>=1.12.0->gspread>=3.0.0->gspread-formatting) (0.2.8)\n",
            "Requirement already satisfied: six>=1.9.0 in /usr/local/lib/python3.7/dist-packages (from google-auth>=1.12.0->gspread>=3.0.0->gspread-formatting) (1.15.0)\n",
            "Requirement already satisfied: cachetools<5.0,>=2.0.0 in /usr/local/lib/python3.7/dist-packages (from google-auth>=1.12.0->gspread>=3.0.0->gspread-formatting) (4.2.4)\n",
            "Requirement already satisfied: setuptools>=40.3.0 in /usr/local/lib/python3.7/dist-packages (from google-auth>=1.12.0->gspread>=3.0.0->gspread-formatting) (57.4.0)\n",
            "Requirement already satisfied: requests-oauthlib>=0.7.0 in /usr/local/lib/python3.7/dist-packages (from google-auth-oauthlib>=0.4.1->gspread>=3.0.0->gspread-formatting) (1.3.1)\n",
            "Requirement already satisfied: pyasn1<0.5.0,>=0.4.6 in /usr/local/lib/python3.7/dist-packages (from pyasn1-modules>=0.2.1->google-auth>=1.12.0->gspread>=3.0.0->gspread-formatting) (0.4.8)\n",
            "Requirement already satisfied: requests>=2.0.0 in /usr/local/lib/python3.7/dist-packages (from requests-oauthlib>=0.7.0->google-auth-oauthlib>=0.4.1->gspread>=3.0.0->gspread-formatting) (2.23.0)\n",
            "Requirement already satisfied: oauthlib>=3.0.0 in /usr/local/lib/python3.7/dist-packages (from requests-oauthlib>=0.7.0->google-auth-oauthlib>=0.4.1->gspread>=3.0.0->gspread-formatting) (3.2.0)\n",
            "Requirement already satisfied: certifi>=2017.4.17 in /usr/local/lib/python3.7/dist-packages (from requests>=2.0.0->requests-oauthlib>=0.7.0->google-auth-oauthlib>=0.4.1->gspread>=3.0.0->gspread-formatting) (2021.10.8)\n",
            "Requirement already satisfied: idna<3,>=2.5 in /usr/local/lib/python3.7/dist-packages (from requests>=2.0.0->requests-oauthlib>=0.7.0->google-auth-oauthlib>=0.4.1->gspread>=3.0.0->gspread-formatting) (2.10)\n",
            "Requirement already satisfied: urllib3!=1.25.0,!=1.25.1,<1.26,>=1.21.1 in /usr/local/lib/python3.7/dist-packages (from requests>=2.0.0->requests-oauthlib>=0.7.0->google-auth-oauthlib>=0.4.1->gspread>=3.0.0->gspread-formatting) (1.24.3)\n",
            "Requirement already satisfied: chardet<4,>=3.0.2 in /usr/local/lib/python3.7/dist-packages (from requests>=2.0.0->requests-oauthlib>=0.7.0->google-auth-oauthlib>=0.4.1->gspread>=3.0.0->gspread-formatting) (3.0.4)\n",
            "Installing collected packages: gspread-formatting\n",
            "Successfully installed gspread-formatting-1.0.6\n",
            "Collecting airtable-python-wrapper\n",
            "  Downloading airtable_python_wrapper-0.15.3-py2.py3-none-any.whl (12 kB)\n",
            "Requirement already satisfied: requests>=2 in /usr/local/lib/python3.7/dist-packages (from airtable-python-wrapper) (2.23.0)\n",
            "Requirement already satisfied: idna<3,>=2.5 in /usr/local/lib/python3.7/dist-packages (from requests>=2->airtable-python-wrapper) (2.10)\n",
            "Requirement already satisfied: urllib3!=1.25.0,!=1.25.1,<1.26,>=1.21.1 in /usr/local/lib/python3.7/dist-packages (from requests>=2->airtable-python-wrapper) (1.24.3)\n",
            "Requirement already satisfied: chardet<4,>=3.0.2 in /usr/local/lib/python3.7/dist-packages (from requests>=2->airtable-python-wrapper) (3.0.4)\n",
            "Requirement already satisfied: certifi>=2017.4.17 in /usr/local/lib/python3.7/dist-packages (from requests>=2->airtable-python-wrapper) (2021.10.8)\n",
            "Installing collected packages: airtable-python-wrapper\n",
            "Successfully installed airtable-python-wrapper-0.15.3\n",
            "Mounted at /content/drive\n",
            "/content/drive/MyDrive/Trad-Union/Corpus/ASAMLA\n"
          ]
        }
      ]
    },
    {
      "cell_type": "markdown",
      "metadata": {
        "id": "OoQvIFW_zGec"
      },
      "source": [
        ""
      ]
    },
    {
      "cell_type": "code",
      "source": [
        "def get_cc_config(f):\n",
        "  vk = []\n",
        "  try:\n",
        "    with open(f) as vk_f:\n",
        "        vk = json.load(vk_f)\n",
        "  except BaseException as e:\n",
        "    print(e)\n",
        "  return vk\n",
        "\n",
        "def set_cc_config (vk, f):\n",
        "  # sauvegarde du fichier de paramétrage\n",
        "  with open(f, 'w') as fp:\n",
        "      json.dump(vk, fp)  "
      ],
      "metadata": {
        "id": "HkCiMByNk1Me"
      },
      "execution_count": 2,
      "outputs": []
    },
    {
      "cell_type": "code",
      "source": [
        "#\n",
        "# Ouverture de la Sheet Centrale (corpus_central_base)\n",
        "#\n",
        "def get_CCDB_wb(uri):\n",
        "  sheet_central = uri\n",
        "  wb_central = gc.open_by_url(sheet_central)\n",
        "  return wb_central\n",
        "\n",
        "def get_CCDB_data(wb, idx):\n",
        "  t_corpus = wb.get_worksheet(idx)\n",
        "  data_t_corpus = t_corpus.get_all_values()\n",
        "  return data_t_corpus\n",
        "\n",
        "#\n",
        "# DataFrame CC global (toutes les langues)\n",
        "#\n",
        "def get_ccdf_global(CCDB):\n",
        "  return pd.DataFrame(CCDB[1:], columns=CCDB[0])\n",
        "\n",
        "#\n",
        "# DataFrame CC Français (invariable)\n",
        "#\n",
        "def get_ccdf_fr(df_cc):\n",
        "  # on supprime les doublons\n",
        "  return df_cc[['uid','expression','theme','état','date','commentaires','index']]"
      ],
      "metadata": {
        "id": "QYUSE6Dek8OA"
      },
      "execution_count": 3,
      "outputs": []
    },
    {
      "cell_type": "code",
      "source": [
        "# Config Langues\n",
        "config_languages = 'med_vac_synthese.json'\n",
        "vk_languages = get_cc_config(config_languages)"
      ],
      "metadata": {
        "id": "4fUMcMSwlDPi"
      },
      "execution_count": 4,
      "outputs": []
    },
    {
      "cell_type": "code",
      "metadata": {
        "id": "ey1jQEaS54Qz"
      },
      "source": [
        "# Ouverture de la Sheet Centrale\n",
        "sheet = 'https://docs.google.com/spreadsheets/d/1j9mtvKJn0Ad3FqxoJXMSKLJOfYTDOhtw3wxXZ4sQAIc'\n",
        "wb  = gc.open_by_url(sheet)"
      ],
      "execution_count": 5,
      "outputs": []
    },
    {
      "cell_type": "code",
      "source": [
        "# Config Corpus (de consolidation)\n",
        "config_corpus_central = \"corpus_central_config.json\"\n",
        "vk_corpus_central = get_cc_config(config_corpus_central)"
      ],
      "metadata": {
        "id": "YJFHaa9clah-"
      },
      "execution_count": 6,
      "outputs": []
    },
    {
      "cell_type": "code",
      "source": [
        "# Base Centrale\n",
        "# on charge l'onglet 1 (français)\n",
        "db_cc_wb = get_CCDB_wb(vk_corpus_central[0][\"uri\"])\n",
        "db_cc = get_CCDB_data (db_cc_wb, 1)\n",
        "df_cc_global = get_ccdf_global(db_cc)\n",
        "df_cc_fr = get_ccdf_fr(df_cc_global).drop_duplicates()"
      ],
      "metadata": {
        "id": "8LBOpjVJleFb"
      },
      "execution_count": 7,
      "outputs": []
    },
    {
      "cell_type": "markdown",
      "source": [
        "# Comparaison des versions de référentiels"
      ],
      "metadata": {
        "id": "vJskeRVlRVJ_"
      }
    },
    {
      "cell_type": "code",
      "source": [
        "def getLastModifiedTime (wb):\n",
        "  # https://stackoverflow.com/questions/64254039/python-how-to-check-if-a-google-spreadsheets-was-updated\n",
        "  # https://stackoverflow.com/questions/52260789/update-googlesheet-cell-with-timestamp-from-python\n",
        "  revisions_uri = f'https://www.googleapis.com/drive/v3/files/{wb.id}/revisions'\n",
        "  headers = {'Authorization': f'Bearer {GoogleCredentials.get_application_default().get_access_token().access_token}'}\n",
        "  response = requests.get(revisions_uri, headers=headers).json()\n",
        "  return response['revisions'][-1]['modifiedTime']"
      ],
      "metadata": {
        "id": "1BCh19bDQ8Et"
      },
      "execution_count": 8,
      "outputs": []
    },
    {
      "cell_type": "code",
      "source": [
        "print (getLastModifiedTime(db_cc_wb))"
      ],
      "metadata": {
        "colab": {
          "base_uri": "https://localhost:8080/"
        },
        "id": "KsxWPCyBRaNM",
        "outputId": "7dcd2f19-e4ea-4495-d181-e030994b675c"
      },
      "execution_count": 9,
      "outputs": [
        {
          "output_type": "stream",
          "name": "stdout",
          "text": [
            "2022-04-01T12:52:39.368Z\n"
          ]
        }
      ]
    },
    {
      "cell_type": "code",
      "source": [
        "df_cc_global.head(20)"
      ],
      "metadata": {
        "id": "CpPC6K6efMMp"
      },
      "execution_count": null,
      "outputs": []
    },
    {
      "cell_type": "code",
      "source": [
        "df_cc_global.loc[df_cc_global[\"expression\"]==\"Anesthésie générale\"]"
      ],
      "metadata": {
        "id": "jBEU07HyTQnI",
        "colab": {
          "base_uri": "https://localhost:8080/",
          "height": 110
        },
        "outputId": "13e343fd-ed69-4b62-eb27-8ef6652aab2f"
      },
      "execution_count": 15,
      "outputs": [
        {
          "output_type": "execute_result",
          "data": {
            "text/plain": [
              "          uid           expression date              theme état commentaires index        ams eng             tur  ... arm dar pst prs aze esp amh all                  pol som\n",
              "174  ef2f771b  Anesthésie générale       Médecine générale                       A  تخدير عام      Genel anestezi  ...                                  Znieczulenie ogólne    \n",
              "\n",
              "[1 rows x 27 columns]"
            ],
            "text/html": [
              "\n",
              "  <div id=\"df-2eb025ba-0acb-4620-9153-c3e2c1de79fe\">\n",
              "    <div class=\"colab-df-container\">\n",
              "      <div>\n",
              "<style scoped>\n",
              "    .dataframe tbody tr th:only-of-type {\n",
              "        vertical-align: middle;\n",
              "    }\n",
              "\n",
              "    .dataframe tbody tr th {\n",
              "        vertical-align: top;\n",
              "    }\n",
              "\n",
              "    .dataframe thead th {\n",
              "        text-align: right;\n",
              "    }\n",
              "</style>\n",
              "<table border=\"1\" class=\"dataframe\">\n",
              "  <thead>\n",
              "    <tr style=\"text-align: right;\">\n",
              "      <th></th>\n",
              "      <th>uid</th>\n",
              "      <th>expression</th>\n",
              "      <th>date</th>\n",
              "      <th>theme</th>\n",
              "      <th>état</th>\n",
              "      <th>commentaires</th>\n",
              "      <th>index</th>\n",
              "      <th>ams</th>\n",
              "      <th>eng</th>\n",
              "      <th>tur</th>\n",
              "      <th>...</th>\n",
              "      <th>arm</th>\n",
              "      <th>dar</th>\n",
              "      <th>pst</th>\n",
              "      <th>prs</th>\n",
              "      <th>aze</th>\n",
              "      <th>esp</th>\n",
              "      <th>amh</th>\n",
              "      <th>all</th>\n",
              "      <th>pol</th>\n",
              "      <th>som</th>\n",
              "    </tr>\n",
              "  </thead>\n",
              "  <tbody>\n",
              "    <tr>\n",
              "      <th>174</th>\n",
              "      <td>ef2f771b</td>\n",
              "      <td>Anesthésie générale</td>\n",
              "      <td></td>\n",
              "      <td>Médecine générale</td>\n",
              "      <td></td>\n",
              "      <td></td>\n",
              "      <td>A</td>\n",
              "      <td>تخدير عام</td>\n",
              "      <td></td>\n",
              "      <td>Genel anestezi</td>\n",
              "      <td>...</td>\n",
              "      <td></td>\n",
              "      <td></td>\n",
              "      <td></td>\n",
              "      <td></td>\n",
              "      <td></td>\n",
              "      <td></td>\n",
              "      <td></td>\n",
              "      <td></td>\n",
              "      <td>Znieczulenie ogólne</td>\n",
              "      <td></td>\n",
              "    </tr>\n",
              "  </tbody>\n",
              "</table>\n",
              "<p>1 rows × 27 columns</p>\n",
              "</div>\n",
              "      <button class=\"colab-df-convert\" onclick=\"convertToInteractive('df-2eb025ba-0acb-4620-9153-c3e2c1de79fe')\"\n",
              "              title=\"Convert this dataframe to an interactive table.\"\n",
              "              style=\"display:none;\">\n",
              "        \n",
              "  <svg xmlns=\"http://www.w3.org/2000/svg\" height=\"24px\"viewBox=\"0 0 24 24\"\n",
              "       width=\"24px\">\n",
              "    <path d=\"M0 0h24v24H0V0z\" fill=\"none\"/>\n",
              "    <path d=\"M18.56 5.44l.94 2.06.94-2.06 2.06-.94-2.06-.94-.94-2.06-.94 2.06-2.06.94zm-11 1L8.5 8.5l.94-2.06 2.06-.94-2.06-.94L8.5 2.5l-.94 2.06-2.06.94zm10 10l.94 2.06.94-2.06 2.06-.94-2.06-.94-.94-2.06-.94 2.06-2.06.94z\"/><path d=\"M17.41 7.96l-1.37-1.37c-.4-.4-.92-.59-1.43-.59-.52 0-1.04.2-1.43.59L10.3 9.45l-7.72 7.72c-.78.78-.78 2.05 0 2.83L4 21.41c.39.39.9.59 1.41.59.51 0 1.02-.2 1.41-.59l7.78-7.78 2.81-2.81c.8-.78.8-2.07 0-2.86zM5.41 20L4 18.59l7.72-7.72 1.47 1.35L5.41 20z\"/>\n",
              "  </svg>\n",
              "      </button>\n",
              "      \n",
              "  <style>\n",
              "    .colab-df-container {\n",
              "      display:flex;\n",
              "      flex-wrap:wrap;\n",
              "      gap: 12px;\n",
              "    }\n",
              "\n",
              "    .colab-df-convert {\n",
              "      background-color: #E8F0FE;\n",
              "      border: none;\n",
              "      border-radius: 50%;\n",
              "      cursor: pointer;\n",
              "      display: none;\n",
              "      fill: #1967D2;\n",
              "      height: 32px;\n",
              "      padding: 0 0 0 0;\n",
              "      width: 32px;\n",
              "    }\n",
              "\n",
              "    .colab-df-convert:hover {\n",
              "      background-color: #E2EBFA;\n",
              "      box-shadow: 0px 1px 2px rgba(60, 64, 67, 0.3), 0px 1px 3px 1px rgba(60, 64, 67, 0.15);\n",
              "      fill: #174EA6;\n",
              "    }\n",
              "\n",
              "    [theme=dark] .colab-df-convert {\n",
              "      background-color: #3B4455;\n",
              "      fill: #D2E3FC;\n",
              "    }\n",
              "\n",
              "    [theme=dark] .colab-df-convert:hover {\n",
              "      background-color: #434B5C;\n",
              "      box-shadow: 0px 1px 3px 1px rgba(0, 0, 0, 0.15);\n",
              "      filter: drop-shadow(0px 1px 2px rgba(0, 0, 0, 0.3));\n",
              "      fill: #FFFFFF;\n",
              "    }\n",
              "  </style>\n",
              "\n",
              "      <script>\n",
              "        const buttonEl =\n",
              "          document.querySelector('#df-2eb025ba-0acb-4620-9153-c3e2c1de79fe button.colab-df-convert');\n",
              "        buttonEl.style.display =\n",
              "          google.colab.kernel.accessAllowed ? 'block' : 'none';\n",
              "\n",
              "        async function convertToInteractive(key) {\n",
              "          const element = document.querySelector('#df-2eb025ba-0acb-4620-9153-c3e2c1de79fe');\n",
              "          const dataTable =\n",
              "            await google.colab.kernel.invokeFunction('convertToInteractive',\n",
              "                                                     [key], {});\n",
              "          if (!dataTable) return;\n",
              "\n",
              "          const docLinkHtml = 'Like what you see? Visit the ' +\n",
              "            '<a target=\"_blank\" href=https://colab.research.google.com/notebooks/data_table.ipynb>data table notebook</a>'\n",
              "            + ' to learn more about interactive tables.';\n",
              "          element.innerHTML = '';\n",
              "          dataTable['output_type'] = 'display_data';\n",
              "          await google.colab.output.renderOutput(dataTable, element);\n",
              "          const docLink = document.createElement('div');\n",
              "          docLink.innerHTML = docLinkHtml;\n",
              "          element.appendChild(docLink);\n",
              "        }\n",
              "      </script>\n",
              "    </div>\n",
              "  </div>\n",
              "  "
            ]
          },
          "metadata": {},
          "execution_count": 15
        }
      ]
    },
    {
      "cell_type": "markdown",
      "metadata": {
        "id": "ZbXgJiWKBEwY"
      },
      "source": [
        "### Appel de l'API\n",
        "https://towardsdatascience.com/downloading-airtable-data-into-python-89e5c7107a24"
      ]
    },
    {
      "cell_type": "code",
      "metadata": {
        "id": "Mi4zCrC54xR-"
      },
      "source": [
        "params = ()\n",
        "api_key = \"keyrI98TIqu6mbFcf\" \n",
        "api_key_gmail = \"keysgpJWq3aWwqSZe\"\n",
        "headers = {\"Authorization\": \"Bearer \" + api_key,\"Content-Type\" : \"application/json\"}\n",
        "base_id = \"appawT3gg7cJhPYv0\" # Base Nouvelle HV\n",
        "table_name = 'Corpus'"
      ],
      "execution_count": 10,
      "outputs": []
    },
    {
      "cell_type": "code",
      "source": [
        "airtable = Airtable(base_id, table_name, api_key)"
      ],
      "metadata": {
        "id": "LAIlBGJtPK2H"
      },
      "execution_count": 11,
      "outputs": []
    },
    {
      "cell_type": "markdown",
      "source": [
        "```\n",
        "for page in airtable.get_iter(view='Grid view',sort='Proposition'):\n",
        "  for record in page:\n",
        "    value = record['fields']['Proposition']\n",
        "```\n",
        "\n"
      ],
      "metadata": {
        "id": "BRVoSlYoTdax"
      }
    },
    {
      "cell_type": "code",
      "source": [
        "def getAllAirtableRecords():\n",
        "  vk_at = airtable.get_all(view='Admin',sort='Proposition')\n",
        "  df_vkat = pd.DataFrame.from_records((r['fields'] for r in vk_at))\n",
        "  return df_vkat"
      ],
      "metadata": {
        "id": "hcErKj3pQ2TE"
      },
      "execution_count": 12,
      "outputs": []
    },
    {
      "cell_type": "code",
      "source": [
        "df_vkat = getAllAirtableRecords()"
      ],
      "metadata": {
        "id": "TgygNth1fjVP"
      },
      "execution_count": 13,
      "outputs": []
    },
    {
      "cell_type": "markdown",
      "source": [
        "## Synchronisation du serveur vers airtable"
      ],
      "metadata": {
        "id": "JuonwX1-7290"
      }
    },
    {
      "cell_type": "markdown",
      "source": [
        "### 1. Différence entre A et B (sur UID)"
      ],
      "metadata": {
        "id": "FtKv8Z8yDdNx"
      }
    },
    {
      "cell_type": "code",
      "source": [
        "df_not_in_airtable = df_cc_global[~df_cc_global[\"uid\"].isin(df_vkat[\"UID\"])].dropna()\n",
        "df_not_in_airtable"
      ],
      "metadata": {
        "colab": {
          "base_uri": "https://localhost:8080/",
          "height": 79
        },
        "id": "hLZ3yTp9GbRE",
        "outputId": "cad79a02-dc57-42f2-e1b0-de80e345fc11"
      },
      "execution_count": 14,
      "outputs": [
        {
          "output_type": "execute_result",
          "data": {
            "text/plain": [
              "Empty DataFrame\n",
              "Columns: [uid, expression, date, theme, état, commentaires, index, ams, eng, tur, rus, ukr, rou, hun, tig, alb, geo, arm, dar, pst, prs, aze, esp, amh, all, pol, som]\n",
              "Index: []\n",
              "\n",
              "[0 rows x 27 columns]"
            ],
            "text/html": [
              "\n",
              "  <div id=\"df-f4bc65a3-5d52-4e29-9a2d-497a127e977f\">\n",
              "    <div class=\"colab-df-container\">\n",
              "      <div>\n",
              "<style scoped>\n",
              "    .dataframe tbody tr th:only-of-type {\n",
              "        vertical-align: middle;\n",
              "    }\n",
              "\n",
              "    .dataframe tbody tr th {\n",
              "        vertical-align: top;\n",
              "    }\n",
              "\n",
              "    .dataframe thead th {\n",
              "        text-align: right;\n",
              "    }\n",
              "</style>\n",
              "<table border=\"1\" class=\"dataframe\">\n",
              "  <thead>\n",
              "    <tr style=\"text-align: right;\">\n",
              "      <th></th>\n",
              "      <th>uid</th>\n",
              "      <th>expression</th>\n",
              "      <th>date</th>\n",
              "      <th>theme</th>\n",
              "      <th>état</th>\n",
              "      <th>commentaires</th>\n",
              "      <th>index</th>\n",
              "      <th>ams</th>\n",
              "      <th>eng</th>\n",
              "      <th>tur</th>\n",
              "      <th>...</th>\n",
              "      <th>arm</th>\n",
              "      <th>dar</th>\n",
              "      <th>pst</th>\n",
              "      <th>prs</th>\n",
              "      <th>aze</th>\n",
              "      <th>esp</th>\n",
              "      <th>amh</th>\n",
              "      <th>all</th>\n",
              "      <th>pol</th>\n",
              "      <th>som</th>\n",
              "    </tr>\n",
              "  </thead>\n",
              "  <tbody>\n",
              "  </tbody>\n",
              "</table>\n",
              "<p>0 rows × 27 columns</p>\n",
              "</div>\n",
              "      <button class=\"colab-df-convert\" onclick=\"convertToInteractive('df-f4bc65a3-5d52-4e29-9a2d-497a127e977f')\"\n",
              "              title=\"Convert this dataframe to an interactive table.\"\n",
              "              style=\"display:none;\">\n",
              "        \n",
              "  <svg xmlns=\"http://www.w3.org/2000/svg\" height=\"24px\"viewBox=\"0 0 24 24\"\n",
              "       width=\"24px\">\n",
              "    <path d=\"M0 0h24v24H0V0z\" fill=\"none\"/>\n",
              "    <path d=\"M18.56 5.44l.94 2.06.94-2.06 2.06-.94-2.06-.94-.94-2.06-.94 2.06-2.06.94zm-11 1L8.5 8.5l.94-2.06 2.06-.94-2.06-.94L8.5 2.5l-.94 2.06-2.06.94zm10 10l.94 2.06.94-2.06 2.06-.94-2.06-.94-.94-2.06-.94 2.06-2.06.94z\"/><path d=\"M17.41 7.96l-1.37-1.37c-.4-.4-.92-.59-1.43-.59-.52 0-1.04.2-1.43.59L10.3 9.45l-7.72 7.72c-.78.78-.78 2.05 0 2.83L4 21.41c.39.39.9.59 1.41.59.51 0 1.02-.2 1.41-.59l7.78-7.78 2.81-2.81c.8-.78.8-2.07 0-2.86zM5.41 20L4 18.59l7.72-7.72 1.47 1.35L5.41 20z\"/>\n",
              "  </svg>\n",
              "      </button>\n",
              "      \n",
              "  <style>\n",
              "    .colab-df-container {\n",
              "      display:flex;\n",
              "      flex-wrap:wrap;\n",
              "      gap: 12px;\n",
              "    }\n",
              "\n",
              "    .colab-df-convert {\n",
              "      background-color: #E8F0FE;\n",
              "      border: none;\n",
              "      border-radius: 50%;\n",
              "      cursor: pointer;\n",
              "      display: none;\n",
              "      fill: #1967D2;\n",
              "      height: 32px;\n",
              "      padding: 0 0 0 0;\n",
              "      width: 32px;\n",
              "    }\n",
              "\n",
              "    .colab-df-convert:hover {\n",
              "      background-color: #E2EBFA;\n",
              "      box-shadow: 0px 1px 2px rgba(60, 64, 67, 0.3), 0px 1px 3px 1px rgba(60, 64, 67, 0.15);\n",
              "      fill: #174EA6;\n",
              "    }\n",
              "\n",
              "    [theme=dark] .colab-df-convert {\n",
              "      background-color: #3B4455;\n",
              "      fill: #D2E3FC;\n",
              "    }\n",
              "\n",
              "    [theme=dark] .colab-df-convert:hover {\n",
              "      background-color: #434B5C;\n",
              "      box-shadow: 0px 1px 3px 1px rgba(0, 0, 0, 0.15);\n",
              "      filter: drop-shadow(0px 1px 2px rgba(0, 0, 0, 0.3));\n",
              "      fill: #FFFFFF;\n",
              "    }\n",
              "  </style>\n",
              "\n",
              "      <script>\n",
              "        const buttonEl =\n",
              "          document.querySelector('#df-f4bc65a3-5d52-4e29-9a2d-497a127e977f button.colab-df-convert');\n",
              "        buttonEl.style.display =\n",
              "          google.colab.kernel.accessAllowed ? 'block' : 'none';\n",
              "\n",
              "        async function convertToInteractive(key) {\n",
              "          const element = document.querySelector('#df-f4bc65a3-5d52-4e29-9a2d-497a127e977f');\n",
              "          const dataTable =\n",
              "            await google.colab.kernel.invokeFunction('convertToInteractive',\n",
              "                                                     [key], {});\n",
              "          if (!dataTable) return;\n",
              "\n",
              "          const docLinkHtml = 'Like what you see? Visit the ' +\n",
              "            '<a target=\"_blank\" href=https://colab.research.google.com/notebooks/data_table.ipynb>data table notebook</a>'\n",
              "            + ' to learn more about interactive tables.';\n",
              "          element.innerHTML = '';\n",
              "          dataTable['output_type'] = 'display_data';\n",
              "          await google.colab.output.renderOutput(dataTable, element);\n",
              "          const docLink = document.createElement('div');\n",
              "          docLink.innerHTML = docLinkHtml;\n",
              "          element.appendChild(docLink);\n",
              "        }\n",
              "      </script>\n",
              "    </div>\n",
              "  </div>\n",
              "  "
            ]
          },
          "metadata": {},
          "execution_count": 14
        }
      ]
    },
    {
      "cell_type": "markdown",
      "source": [
        "### On ajoute les éléments de A absents dans B"
      ],
      "metadata": {
        "id": "_CMTnwYKjntP"
      }
    },
    {
      "cell_type": "code",
      "source": [
        "len(df_not_in_airtable)"
      ],
      "metadata": {
        "colab": {
          "base_uri": "https://localhost:8080/"
        },
        "id": "GvfmxiodPa_j",
        "outputId": "3066c6b5-83d9-4d77-c7d2-72a229c25a47"
      },
      "execution_count": null,
      "outputs": [
        {
          "output_type": "execute_result",
          "data": {
            "text/plain": [
              "1"
            ]
          },
          "metadata": {},
          "execution_count": 17
        }
      ]
    },
    {
      "cell_type": "code",
      "source": [
        "for index, row in df_not_in_airtable.iterrows():\n",
        "  if row[\"uid\"] is not None:\n",
        "    record = airtable.match('UID', row[\"uid\"])\n",
        "    if bool(record) is False:\n",
        "      aDict = {}\n",
        "      key = \"UID\"\n",
        "      aDict[key] = row[\"uid\"]\n",
        "      aDict[\"Proposition\"] = row[\"expression\"]\n",
        "      aDict[\"idx\"] = row[\"index\"]\n",
        "      for i in vk_languages:\n",
        "        key = i[\"trigramme\"]\n",
        "        aDict[key] = row[key]\n",
        "      airtable.insert(aDict)"
      ],
      "metadata": {
        "id": "YUceP1Kahxy-"
      },
      "execution_count": null,
      "outputs": []
    },
    {
      "cell_type": "markdown",
      "source": [
        "### On met à jour les traductions de A présents dans B\n",
        "\n",
        "> Bloc en retrait\n",
        "\n"
      ],
      "metadata": {
        "id": "doXm-89FZ-TF"
      }
    },
    {
      "cell_type": "code",
      "source": [
        "cpt = 0\n",
        "max = len(df_cc_global) \n",
        "for index, row in df_cc_global.iterrows():\n",
        "   if row[\"uid\"] is not None:\n",
        "    record = airtable.match('UID', row[\"uid\"])\n",
        "    if bool(record):\n",
        "      aDict = {}\n",
        "      key = \"UID\"\n",
        "      aDict[key] = row[\"uid\"]\n",
        "      for i in vk_languages:\n",
        "        key = i[\"trigramme\"]\n",
        "        aDict[key] = row[key]\n",
        "      airtable.update(record['id'], aDict)\n",
        "      cpt+=1\n",
        "      print(str(cpt/max) + \" %\", end=\"\\r\", flush=True)      \n",
        "      #print (record['id'] +\" \" + row[\"uid\"] +\" \" + row[\"tur\"])"
      ],
      "metadata": {
        "id": "aDXoT-QGaV6I",
        "colab": {
          "base_uri": "https://localhost:8080/"
        },
        "outputId": "0f724836-ae03-4b97-b1da-44aa1c40da7c"
      },
      "execution_count": null,
      "outputs": [
        {
          "output_type": "stream",
          "name": "stdout",
          "text": [
            ""
          ]
        }
      ]
    },
    {
      "cell_type": "markdown",
      "source": [
        "### On récupère les éléments de B absents de A"
      ],
      "metadata": {
        "id": "ppdsQTTXjuBF"
      }
    },
    {
      "cell_type": "code",
      "source": [
        "def getNotInGSheet(df_cc_global, df_vkat):\n",
        "  df_not_in_gsheet = df_vkat[~df_vkat[\"UID\"].isin(df_cc_global[\"uid\"])]\n",
        "  return df_not_in_gsheet"
      ],
      "metadata": {
        "id": "zXKLHbsPI4Ju"
      },
      "execution_count": 15,
      "outputs": []
    },
    {
      "cell_type": "code",
      "source": [
        "df_not_in_gsheet = getNotInGSheet(df_cc_global, df_vkat)"
      ],
      "metadata": {
        "id": "H79urZPdbHEt"
      },
      "execution_count": 16,
      "outputs": []
    },
    {
      "cell_type": "code",
      "source": [
        "df_not_in_gsheet[[\"Proposition\",\"idx_cor\",\"UID\"]]"
      ],
      "metadata": {
        "id": "9PsvYi50jUXk",
        "colab": {
          "base_uri": "https://localhost:8080/",
          "height": 424
        },
        "outputId": "e5952531-5fa3-4605-9c0a-b156b3f98355"
      },
      "execution_count": 17,
      "outputs": [
        {
          "output_type": "execute_result",
          "data": {
            "text/plain": [
              "                       Proposition idx_cor       UID\n",
              "2                          Abdomen       A  80cbacea\n",
              "6                     Accouchement       A  b67d8739\n",
              "7                        Accoucher       A  d1746bc6\n",
              "8                              Âge       A  f54f56c9\n",
              "9                           Alcool       A  57f5b4fb\n",
              "..                             ...     ...       ...\n",
              "320                          Urine       U  0e25b5fb\n",
              "322                       Vaccinal       V  6c70b10f\n",
              "324                    Vacciné, -e       V  571d5aa0\n",
              "334  Votre poids a-t-il augmenté ?       P  8e8c22aa\n",
              "336    Votre poids est-il stable ?       P  d112f379\n",
              "\n",
              "[75 rows x 3 columns]"
            ],
            "text/html": [
              "\n",
              "  <div id=\"df-89ee45d4-f172-4130-b27b-738d6e60b3be\">\n",
              "    <div class=\"colab-df-container\">\n",
              "      <div>\n",
              "<style scoped>\n",
              "    .dataframe tbody tr th:only-of-type {\n",
              "        vertical-align: middle;\n",
              "    }\n",
              "\n",
              "    .dataframe tbody tr th {\n",
              "        vertical-align: top;\n",
              "    }\n",
              "\n",
              "    .dataframe thead th {\n",
              "        text-align: right;\n",
              "    }\n",
              "</style>\n",
              "<table border=\"1\" class=\"dataframe\">\n",
              "  <thead>\n",
              "    <tr style=\"text-align: right;\">\n",
              "      <th></th>\n",
              "      <th>Proposition</th>\n",
              "      <th>idx_cor</th>\n",
              "      <th>UID</th>\n",
              "    </tr>\n",
              "  </thead>\n",
              "  <tbody>\n",
              "    <tr>\n",
              "      <th>2</th>\n",
              "      <td>Abdomen</td>\n",
              "      <td>A</td>\n",
              "      <td>80cbacea</td>\n",
              "    </tr>\n",
              "    <tr>\n",
              "      <th>6</th>\n",
              "      <td>Accouchement</td>\n",
              "      <td>A</td>\n",
              "      <td>b67d8739</td>\n",
              "    </tr>\n",
              "    <tr>\n",
              "      <th>7</th>\n",
              "      <td>Accoucher</td>\n",
              "      <td>A</td>\n",
              "      <td>d1746bc6</td>\n",
              "    </tr>\n",
              "    <tr>\n",
              "      <th>8</th>\n",
              "      <td>Âge</td>\n",
              "      <td>A</td>\n",
              "      <td>f54f56c9</td>\n",
              "    </tr>\n",
              "    <tr>\n",
              "      <th>9</th>\n",
              "      <td>Alcool</td>\n",
              "      <td>A</td>\n",
              "      <td>57f5b4fb</td>\n",
              "    </tr>\n",
              "    <tr>\n",
              "      <th>...</th>\n",
              "      <td>...</td>\n",
              "      <td>...</td>\n",
              "      <td>...</td>\n",
              "    </tr>\n",
              "    <tr>\n",
              "      <th>320</th>\n",
              "      <td>Urine</td>\n",
              "      <td>U</td>\n",
              "      <td>0e25b5fb</td>\n",
              "    </tr>\n",
              "    <tr>\n",
              "      <th>322</th>\n",
              "      <td>Vaccinal</td>\n",
              "      <td>V</td>\n",
              "      <td>6c70b10f</td>\n",
              "    </tr>\n",
              "    <tr>\n",
              "      <th>324</th>\n",
              "      <td>Vacciné, -e</td>\n",
              "      <td>V</td>\n",
              "      <td>571d5aa0</td>\n",
              "    </tr>\n",
              "    <tr>\n",
              "      <th>334</th>\n",
              "      <td>Votre poids a-t-il augmenté ?</td>\n",
              "      <td>P</td>\n",
              "      <td>8e8c22aa</td>\n",
              "    </tr>\n",
              "    <tr>\n",
              "      <th>336</th>\n",
              "      <td>Votre poids est-il stable ?</td>\n",
              "      <td>P</td>\n",
              "      <td>d112f379</td>\n",
              "    </tr>\n",
              "  </tbody>\n",
              "</table>\n",
              "<p>75 rows × 3 columns</p>\n",
              "</div>\n",
              "      <button class=\"colab-df-convert\" onclick=\"convertToInteractive('df-89ee45d4-f172-4130-b27b-738d6e60b3be')\"\n",
              "              title=\"Convert this dataframe to an interactive table.\"\n",
              "              style=\"display:none;\">\n",
              "        \n",
              "  <svg xmlns=\"http://www.w3.org/2000/svg\" height=\"24px\"viewBox=\"0 0 24 24\"\n",
              "       width=\"24px\">\n",
              "    <path d=\"M0 0h24v24H0V0z\" fill=\"none\"/>\n",
              "    <path d=\"M18.56 5.44l.94 2.06.94-2.06 2.06-.94-2.06-.94-.94-2.06-.94 2.06-2.06.94zm-11 1L8.5 8.5l.94-2.06 2.06-.94-2.06-.94L8.5 2.5l-.94 2.06-2.06.94zm10 10l.94 2.06.94-2.06 2.06-.94-2.06-.94-.94-2.06-.94 2.06-2.06.94z\"/><path d=\"M17.41 7.96l-1.37-1.37c-.4-.4-.92-.59-1.43-.59-.52 0-1.04.2-1.43.59L10.3 9.45l-7.72 7.72c-.78.78-.78 2.05 0 2.83L4 21.41c.39.39.9.59 1.41.59.51 0 1.02-.2 1.41-.59l7.78-7.78 2.81-2.81c.8-.78.8-2.07 0-2.86zM5.41 20L4 18.59l7.72-7.72 1.47 1.35L5.41 20z\"/>\n",
              "  </svg>\n",
              "      </button>\n",
              "      \n",
              "  <style>\n",
              "    .colab-df-container {\n",
              "      display:flex;\n",
              "      flex-wrap:wrap;\n",
              "      gap: 12px;\n",
              "    }\n",
              "\n",
              "    .colab-df-convert {\n",
              "      background-color: #E8F0FE;\n",
              "      border: none;\n",
              "      border-radius: 50%;\n",
              "      cursor: pointer;\n",
              "      display: none;\n",
              "      fill: #1967D2;\n",
              "      height: 32px;\n",
              "      padding: 0 0 0 0;\n",
              "      width: 32px;\n",
              "    }\n",
              "\n",
              "    .colab-df-convert:hover {\n",
              "      background-color: #E2EBFA;\n",
              "      box-shadow: 0px 1px 2px rgba(60, 64, 67, 0.3), 0px 1px 3px 1px rgba(60, 64, 67, 0.15);\n",
              "      fill: #174EA6;\n",
              "    }\n",
              "\n",
              "    [theme=dark] .colab-df-convert {\n",
              "      background-color: #3B4455;\n",
              "      fill: #D2E3FC;\n",
              "    }\n",
              "\n",
              "    [theme=dark] .colab-df-convert:hover {\n",
              "      background-color: #434B5C;\n",
              "      box-shadow: 0px 1px 3px 1px rgba(0, 0, 0, 0.15);\n",
              "      filter: drop-shadow(0px 1px 2px rgba(0, 0, 0, 0.3));\n",
              "      fill: #FFFFFF;\n",
              "    }\n",
              "  </style>\n",
              "\n",
              "      <script>\n",
              "        const buttonEl =\n",
              "          document.querySelector('#df-89ee45d4-f172-4130-b27b-738d6e60b3be button.colab-df-convert');\n",
              "        buttonEl.style.display =\n",
              "          google.colab.kernel.accessAllowed ? 'block' : 'none';\n",
              "\n",
              "        async function convertToInteractive(key) {\n",
              "          const element = document.querySelector('#df-89ee45d4-f172-4130-b27b-738d6e60b3be');\n",
              "          const dataTable =\n",
              "            await google.colab.kernel.invokeFunction('convertToInteractive',\n",
              "                                                     [key], {});\n",
              "          if (!dataTable) return;\n",
              "\n",
              "          const docLinkHtml = 'Like what you see? Visit the ' +\n",
              "            '<a target=\"_blank\" href=https://colab.research.google.com/notebooks/data_table.ipynb>data table notebook</a>'\n",
              "            + ' to learn more about interactive tables.';\n",
              "          element.innerHTML = '';\n",
              "          dataTable['output_type'] = 'display_data';\n",
              "          await google.colab.output.renderOutput(dataTable, element);\n",
              "          const docLink = document.createElement('div');\n",
              "          docLink.innerHTML = docLinkHtml;\n",
              "          element.appendChild(docLink);\n",
              "        }\n",
              "      </script>\n",
              "    </div>\n",
              "  </div>\n",
              "  "
            ]
          },
          "metadata": {},
          "execution_count": 17
        }
      ]
    },
    {
      "cell_type": "markdown",
      "source": [
        "## Mise en forme et ajustements dans Airtable"
      ],
      "metadata": {
        "id": "DSZzmwN_wRrM"
      }
    },
    {
      "cell_type": "code",
      "source": [
        "def make_unique_id():\n",
        "  return str(uuid.uuid4())[:8]"
      ],
      "metadata": {
        "id": "sfN2zOKd0DPr"
      },
      "execution_count": 19,
      "outputs": []
    },
    {
      "cell_type": "code",
      "source": [
        "df_vkat = getAllAirtableRecords()\n",
        "df_not_in_gsheet = getNotInGSheet(df_cc_global, df_vkat)"
      ],
      "metadata": {
        "id": "peasr-wWw8cu"
      },
      "execution_count": 18,
      "outputs": []
    },
    {
      "cell_type": "markdown",
      "source": [
        "### Update des UIDS manquants"
      ],
      "metadata": {
        "id": "4Yfjzn3NR4cb"
      }
    },
    {
      "cell_type": "code",
      "source": [
        "vk_uid = df_vkat['UID'].tolist()\n",
        "for page in airtable.get_iter(view='Admin',sort='Proposition'):\n",
        "  for record in page:\n",
        "    try:\n",
        "      value = record['fields']['UID']\n",
        "    except KeyError:\n",
        "      print (\"mssing uid\")\n",
        "      while True:\n",
        "        auid = make_unique_id()\n",
        "        if auid not in vk_uid:\n",
        "          aDict = {}\n",
        "          aDict[\"UID\"] = auid\n",
        "          print (record['id'] + \" \" + aDict[\"UID\"])\n",
        "          airtable.update(record['id'], aDict)\n",
        "          vk_uid.append(auid) \n",
        "          break     \n"
      ],
      "metadata": {
        "id": "H6cZU6MWV_jB"
      },
      "execution_count": null,
      "outputs": []
    },
    {
      "cell_type": "code",
      "source": [
        "df_vkat = getAllAirtableRecords()\n",
        "df_not_in_gsheet = getNotInGSheet(df_cc_global, df_vkat)\n",
        "# on met à jour le status dans Airtable\n",
        "for index, row in df_not_in_gsheet.iterrows():\n",
        "  if row[\"UID\"] is not None:\n",
        "    record = airtable.match('UID', row[\"UID\"])\n",
        "    if bool(record) is True:\n",
        "      aDict = {}\n",
        "      aDict[\"AppendToCorpus\"] = True\n",
        "      airtable.update(record['id'], aDict)\n",
        "      print (\"Updating status for \" + row[\"UID\"])"
      ],
      "metadata": {
        "id": "VROfZS0uXfr7"
      },
      "execution_count": null,
      "outputs": []
    },
    {
      "cell_type": "markdown",
      "source": [
        "# Report dans la sheet locale"
      ],
      "metadata": {
        "id": "rrBpuRCjYY4W"
      }
    },
    {
      "cell_type": "code",
      "source": [
        "\n",
        "# Ouverture de la Sheet Locale (mots à traduire)\n",
        "sheet = 'https://docs.google.com/spreadsheets/d/1M3CFSpAGII25qCl0apYrRPX-DmpdxDFLLB_Ob-MX8DQ/'\n",
        "wb  = gc.open_by_url(sheet)"
      ],
      "metadata": {
        "id": "N7UfFo9Qn0g2"
      },
      "execution_count": null,
      "outputs": []
    },
    {
      "cell_type": "code",
      "source": [
        "t_corpus = wb.worksheet(\"fra_med_gen\")\n",
        "data_t_corpus = t_corpus.get_all_values()\n",
        "df_local = pd.DataFrame(data_t_corpus[1:], columns=data_t_corpus[0]).drop_duplicates()  \n",
        "df_not_in_gsheet.rename(columns={'UID': 'uid', 'Proposition': 'français'}, inplace=True)\n",
        "df_not_in_gsheet = df_not_in_gsheet[[\"uid\",\"français\"]]\n",
        "frames = [df_local, df_not_in_gsheet]\n",
        "result = pd.concat(frames)\n",
        "result.drop_duplicates(subset=['uid'], inplace=True, keep='last')\n",
        "set_with_dataframe(t_corpus, result)"
      ],
      "metadata": {
        "id": "MWQF9032pTfg"
      },
      "execution_count": null,
      "outputs": []
    },
    {
      "cell_type": "markdown",
      "source": [
        "# Regroupement pour Langdeck"
      ],
      "metadata": {
        "id": "GIBnt7xnYpux"
      }
    },
    {
      "cell_type": "code",
      "source": [
        "df_vkat = getAllAirtableRecords()\n",
        "df_langdeck = df_vkat.copy()\n",
        "df_langdeck = df_langdeck[[\"UID\",\"Maitre\",\"Ordre\",\"Proposition\",\"idx_cor\",\"ams\",\"eng\",\"tur\",\"rus\",\"ukr\",\"rou\",\"hun\",\"alb\",\"geo\",\"arm\",\"dar\",\"pst\",\"prs\",\"esp\",\"pol\",\"tig\"]]\n",
        "df_langdeck.rename(columns={\"UID\":\"uid\",\"Proposition\":\"expression\",\"idx_cor\":\"idx\"}, inplace=True)\n",
        "# https://stackoverflow.com/questions/28654047/convert-columns-into-rows-with-pandas\n",
        "df2 = pd.melt(df_langdeck, id_vars=[\"uid\", \"Maitre\",\"Ordre\",\"expression\",\"idx\"], \n",
        "                  var_name=\"language\", value_name=\"translation\")"
      ],
      "metadata": {
        "id": "UtmSi8oBTgb6"
      },
      "execution_count": 94,
      "outputs": []
    },
    {
      "cell_type": "code",
      "source": [
        "df2"
      ],
      "metadata": {
        "colab": {
          "base_uri": "https://localhost:8080/",
          "height": 424
        },
        "id": "amwT1jxwCbVB",
        "outputId": "9f6fe813-7a54-4d49-9393-26867286ba2b"
      },
      "execution_count": 95,
      "outputs": [
        {
          "output_type": "execute_result",
          "data": {
            "text/plain": [
              "           uid      Maitre  Ordre                                         expression idx language                                        translation\n",
              "0     f9bc13ef  Médicament      3  À quel moment de la journée vous prenez le méd...   M      ams                  في أي وقت من اليوم تتناول الدواء؟\n",
              "1     6e65dde7       Abcès      1                                              Abcès   A      ams                                             خُرّاج\n",
              "2     80cbacea     Abdomen      1                                            Abdomen   A      ams                                                NaN\n",
              "3     95c4a863     Fébrile      3  Accès fébrile concomitant chez un autre membre...   F      ams              نوبة حمى مزامنة عند فرد اخر من الأسرة\n",
              "4     30579682    Accident      1                                           Accident   A      ams                                               حادث\n",
              "...        ...         ...    ...                                                ...  ..      ...                                                ...\n",
              "5451  d112f379       Poids      3                        Votre poids est-il stable ?   P      tig                                                NaN\n",
              "5452  2344ba84   Accoucher      3  Vous avez accouché par césarienne ou voie basse ?   A      tig                             ብኦፕረሽን ወይ ብኖርማር ወሊድኪ ?\n",
              "5453  36e66161  Contagieux      3            Y a-t-il des cas contagieux à l'école ?   C      tig                                 አብ ትምህርቲ ዲዩ ለጊብካ ?\n",
              "5454  c32f5fd9   Chronique      3  Y a-t-il des maladies chroniques dans votre fa...   C      tig                      ካብ በተሰብካ ሕዱር ሕማሕ ዘለዎ አለካ ዲዩ ?\n",
              "5455  d3dba8e4        Zona      1                                               Zona   Z      tig  ዞና ዝብሃል ሕማም ኣብ ቖርበት ማለት ብደገ ዝቖስል ብርቱዕ ቓንዛ ዘለዎ ...\n",
              "\n",
              "[5456 rows x 7 columns]"
            ],
            "text/html": [
              "\n",
              "  <div id=\"df-c55b148c-3c39-45e1-ab7b-f389c9c7b815\">\n",
              "    <div class=\"colab-df-container\">\n",
              "      <div>\n",
              "<style scoped>\n",
              "    .dataframe tbody tr th:only-of-type {\n",
              "        vertical-align: middle;\n",
              "    }\n",
              "\n",
              "    .dataframe tbody tr th {\n",
              "        vertical-align: top;\n",
              "    }\n",
              "\n",
              "    .dataframe thead th {\n",
              "        text-align: right;\n",
              "    }\n",
              "</style>\n",
              "<table border=\"1\" class=\"dataframe\">\n",
              "  <thead>\n",
              "    <tr style=\"text-align: right;\">\n",
              "      <th></th>\n",
              "      <th>uid</th>\n",
              "      <th>Maitre</th>\n",
              "      <th>Ordre</th>\n",
              "      <th>expression</th>\n",
              "      <th>idx</th>\n",
              "      <th>language</th>\n",
              "      <th>translation</th>\n",
              "    </tr>\n",
              "  </thead>\n",
              "  <tbody>\n",
              "    <tr>\n",
              "      <th>0</th>\n",
              "      <td>f9bc13ef</td>\n",
              "      <td>Médicament</td>\n",
              "      <td>3</td>\n",
              "      <td>À quel moment de la journée vous prenez le méd...</td>\n",
              "      <td>M</td>\n",
              "      <td>ams</td>\n",
              "      <td>في أي وقت من اليوم تتناول الدواء؟</td>\n",
              "    </tr>\n",
              "    <tr>\n",
              "      <th>1</th>\n",
              "      <td>6e65dde7</td>\n",
              "      <td>Abcès</td>\n",
              "      <td>1</td>\n",
              "      <td>Abcès</td>\n",
              "      <td>A</td>\n",
              "      <td>ams</td>\n",
              "      <td>خُرّاج</td>\n",
              "    </tr>\n",
              "    <tr>\n",
              "      <th>2</th>\n",
              "      <td>80cbacea</td>\n",
              "      <td>Abdomen</td>\n",
              "      <td>1</td>\n",
              "      <td>Abdomen</td>\n",
              "      <td>A</td>\n",
              "      <td>ams</td>\n",
              "      <td>NaN</td>\n",
              "    </tr>\n",
              "    <tr>\n",
              "      <th>3</th>\n",
              "      <td>95c4a863</td>\n",
              "      <td>Fébrile</td>\n",
              "      <td>3</td>\n",
              "      <td>Accès fébrile concomitant chez un autre membre...</td>\n",
              "      <td>F</td>\n",
              "      <td>ams</td>\n",
              "      <td>نوبة حمى مزامنة عند فرد اخر من الأسرة</td>\n",
              "    </tr>\n",
              "    <tr>\n",
              "      <th>4</th>\n",
              "      <td>30579682</td>\n",
              "      <td>Accident</td>\n",
              "      <td>1</td>\n",
              "      <td>Accident</td>\n",
              "      <td>A</td>\n",
              "      <td>ams</td>\n",
              "      <td>حادث</td>\n",
              "    </tr>\n",
              "    <tr>\n",
              "      <th>...</th>\n",
              "      <td>...</td>\n",
              "      <td>...</td>\n",
              "      <td>...</td>\n",
              "      <td>...</td>\n",
              "      <td>...</td>\n",
              "      <td>...</td>\n",
              "      <td>...</td>\n",
              "    </tr>\n",
              "    <tr>\n",
              "      <th>5451</th>\n",
              "      <td>d112f379</td>\n",
              "      <td>Poids</td>\n",
              "      <td>3</td>\n",
              "      <td>Votre poids est-il stable ?</td>\n",
              "      <td>P</td>\n",
              "      <td>tig</td>\n",
              "      <td>NaN</td>\n",
              "    </tr>\n",
              "    <tr>\n",
              "      <th>5452</th>\n",
              "      <td>2344ba84</td>\n",
              "      <td>Accoucher</td>\n",
              "      <td>3</td>\n",
              "      <td>Vous avez accouché par césarienne ou voie basse ?</td>\n",
              "      <td>A</td>\n",
              "      <td>tig</td>\n",
              "      <td>ብኦፕረሽን ወይ ብኖርማር ወሊድኪ ?</td>\n",
              "    </tr>\n",
              "    <tr>\n",
              "      <th>5453</th>\n",
              "      <td>36e66161</td>\n",
              "      <td>Contagieux</td>\n",
              "      <td>3</td>\n",
              "      <td>Y a-t-il des cas contagieux à l'école ?</td>\n",
              "      <td>C</td>\n",
              "      <td>tig</td>\n",
              "      <td>አብ ትምህርቲ ዲዩ ለጊብካ ?</td>\n",
              "    </tr>\n",
              "    <tr>\n",
              "      <th>5454</th>\n",
              "      <td>c32f5fd9</td>\n",
              "      <td>Chronique</td>\n",
              "      <td>3</td>\n",
              "      <td>Y a-t-il des maladies chroniques dans votre fa...</td>\n",
              "      <td>C</td>\n",
              "      <td>tig</td>\n",
              "      <td>ካብ በተሰብካ ሕዱር ሕማሕ ዘለዎ አለካ ዲዩ ?</td>\n",
              "    </tr>\n",
              "    <tr>\n",
              "      <th>5455</th>\n",
              "      <td>d3dba8e4</td>\n",
              "      <td>Zona</td>\n",
              "      <td>1</td>\n",
              "      <td>Zona</td>\n",
              "      <td>Z</td>\n",
              "      <td>tig</td>\n",
              "      <td>ዞና ዝብሃል ሕማም ኣብ ቖርበት ማለት ብደገ ዝቖስል ብርቱዕ ቓንዛ ዘለዎ ...</td>\n",
              "    </tr>\n",
              "  </tbody>\n",
              "</table>\n",
              "<p>5456 rows × 7 columns</p>\n",
              "</div>\n",
              "      <button class=\"colab-df-convert\" onclick=\"convertToInteractive('df-c55b148c-3c39-45e1-ab7b-f389c9c7b815')\"\n",
              "              title=\"Convert this dataframe to an interactive table.\"\n",
              "              style=\"display:none;\">\n",
              "        \n",
              "  <svg xmlns=\"http://www.w3.org/2000/svg\" height=\"24px\"viewBox=\"0 0 24 24\"\n",
              "       width=\"24px\">\n",
              "    <path d=\"M0 0h24v24H0V0z\" fill=\"none\"/>\n",
              "    <path d=\"M18.56 5.44l.94 2.06.94-2.06 2.06-.94-2.06-.94-.94-2.06-.94 2.06-2.06.94zm-11 1L8.5 8.5l.94-2.06 2.06-.94-2.06-.94L8.5 2.5l-.94 2.06-2.06.94zm10 10l.94 2.06.94-2.06 2.06-.94-2.06-.94-.94-2.06-.94 2.06-2.06.94z\"/><path d=\"M17.41 7.96l-1.37-1.37c-.4-.4-.92-.59-1.43-.59-.52 0-1.04.2-1.43.59L10.3 9.45l-7.72 7.72c-.78.78-.78 2.05 0 2.83L4 21.41c.39.39.9.59 1.41.59.51 0 1.02-.2 1.41-.59l7.78-7.78 2.81-2.81c.8-.78.8-2.07 0-2.86zM5.41 20L4 18.59l7.72-7.72 1.47 1.35L5.41 20z\"/>\n",
              "  </svg>\n",
              "      </button>\n",
              "      \n",
              "  <style>\n",
              "    .colab-df-container {\n",
              "      display:flex;\n",
              "      flex-wrap:wrap;\n",
              "      gap: 12px;\n",
              "    }\n",
              "\n",
              "    .colab-df-convert {\n",
              "      background-color: #E8F0FE;\n",
              "      border: none;\n",
              "      border-radius: 50%;\n",
              "      cursor: pointer;\n",
              "      display: none;\n",
              "      fill: #1967D2;\n",
              "      height: 32px;\n",
              "      padding: 0 0 0 0;\n",
              "      width: 32px;\n",
              "    }\n",
              "\n",
              "    .colab-df-convert:hover {\n",
              "      background-color: #E2EBFA;\n",
              "      box-shadow: 0px 1px 2px rgba(60, 64, 67, 0.3), 0px 1px 3px 1px rgba(60, 64, 67, 0.15);\n",
              "      fill: #174EA6;\n",
              "    }\n",
              "\n",
              "    [theme=dark] .colab-df-convert {\n",
              "      background-color: #3B4455;\n",
              "      fill: #D2E3FC;\n",
              "    }\n",
              "\n",
              "    [theme=dark] .colab-df-convert:hover {\n",
              "      background-color: #434B5C;\n",
              "      box-shadow: 0px 1px 3px 1px rgba(0, 0, 0, 0.15);\n",
              "      filter: drop-shadow(0px 1px 2px rgba(0, 0, 0, 0.3));\n",
              "      fill: #FFFFFF;\n",
              "    }\n",
              "  </style>\n",
              "\n",
              "      <script>\n",
              "        const buttonEl =\n",
              "          document.querySelector('#df-c55b148c-3c39-45e1-ab7b-f389c9c7b815 button.colab-df-convert');\n",
              "        buttonEl.style.display =\n",
              "          google.colab.kernel.accessAllowed ? 'block' : 'none';\n",
              "\n",
              "        async function convertToInteractive(key) {\n",
              "          const element = document.querySelector('#df-c55b148c-3c39-45e1-ab7b-f389c9c7b815');\n",
              "          const dataTable =\n",
              "            await google.colab.kernel.invokeFunction('convertToInteractive',\n",
              "                                                     [key], {});\n",
              "          if (!dataTable) return;\n",
              "\n",
              "          const docLinkHtml = 'Like what you see? Visit the ' +\n",
              "            '<a target=\"_blank\" href=https://colab.research.google.com/notebooks/data_table.ipynb>data table notebook</a>'\n",
              "            + ' to learn more about interactive tables.';\n",
              "          element.innerHTML = '';\n",
              "          dataTable['output_type'] = 'display_data';\n",
              "          await google.colab.output.renderOutput(dataTable, element);\n",
              "          const docLink = document.createElement('div');\n",
              "          docLink.innerHTML = docLinkHtml;\n",
              "          element.appendChild(docLink);\n",
              "        }\n",
              "      </script>\n",
              "    </div>\n",
              "  </div>\n",
              "  "
            ]
          },
          "metadata": {},
          "execution_count": 95
        }
      ]
    },
    {
      "cell_type": "code",
      "source": [
        "df_langdeck.dtypes"
      ],
      "metadata": {
        "id": "2Y_TEm9NWjSz"
      },
      "execution_count": null,
      "outputs": []
    },
    {
      "cell_type": "code",
      "source": [
        "#https://stackoverflow.com/questions/60393668/pandas-generate-unique-id-based-on-row-values\n",
        "df2['hash'] = df2[['uid', 'language']].sum(axis=1).map(hash)"
      ],
      "metadata": {
        "id": "zYyJ40EzX7Iu"
      },
      "execution_count": 96,
      "outputs": []
    },
    {
      "cell_type": "markdown",
      "source": [
        "#### Fonction lambda pour récupérer le nom long de la langue\n",
        "https://stackoverflow.com/questions/2191699/find-an-element-in-a-list-of-tuples"
      ],
      "metadata": {
        "id": "ZBm7s1qwHzNn"
      }
    },
    {
      "cell_type": "code",
      "source": [
        "df2[\"language_fulltext\"] = df2[\"language\"].apply(lambda x:[item for item in [(a_dict[\"trigramme\"],a_dict[\"language\"]) for a_dict in vk_languages] if item[0] == x][0][1])"
      ],
      "metadata": {
        "id": "de22nE4HHU2o"
      },
      "execution_count": 97,
      "outputs": []
    },
    {
      "cell_type": "markdown",
      "source": [
        "#### Ajout du timestamp"
      ],
      "metadata": {
        "id": "q84RGmAdIF61"
      }
    },
    {
      "cell_type": "code",
      "source": [
        "def append_timestamp():\n",
        "     ct = datetime.datetime.now().isoformat()\n",
        "     return ct"
      ],
      "metadata": {
        "id": "WET5ZFU3Hrqv"
      },
      "execution_count": 98,
      "outputs": []
    },
    {
      "cell_type": "code",
      "source": [
        "df2[\"timestamp\"] = append_timestamp()"
      ],
      "metadata": {
        "id": "6c1Y-x8Zb37_"
      },
      "execution_count": 99,
      "outputs": []
    },
    {
      "cell_type": "code",
      "source": [
        "len(df2)"
      ],
      "metadata": {
        "colab": {
          "base_uri": "https://localhost:8080/"
        },
        "id": "uugzrxAZKk8g",
        "outputId": "1fad8d84-35af-40e5-8408-166470a4d273"
      },
      "execution_count": 110,
      "outputs": [
        {
          "output_type": "execute_result",
          "data": {
            "text/plain": [
              "5456"
            ]
          },
          "metadata": {},
          "execution_count": 110
        }
      ]
    },
    {
      "cell_type": "code",
      "source": [
        "# Ouverture de la Sheet Langdeck (mots à traduire)\n",
        "\n",
        "#sheet = 'https://docs.google.com/spreadsheets/d/1cSnSnnQunL-I7hpyYkIqbtuGr55unVJ3Qe8URSrjTr8/'\n",
        "sheet = 'https://docs.google.com/spreadsheets/d/1bkL0bK2yh6Ea_BQaFIJ_yAvbTXw8NOFtlTZJSZK_5FY/'\n",
        "wb  = gc.open_by_url(sheet)\n",
        "#t_corpus = wb.worksheet(\"Langdeck\")\n",
        "t_corpus = wb.worksheet(\"t_sync_voc\")\n",
        "data_t_corpus = t_corpus.get_all_values()\n",
        "df_local = pd.DataFrame(data_t_corpus[1:], columns=data_t_corpus[0]).drop_duplicates()  \n"
      ],
      "metadata": {
        "id": "lAbymXs2awME"
      },
      "execution_count": 106,
      "outputs": []
    },
    {
      "cell_type": "code",
      "source": [
        "df_local"
      ],
      "metadata": {
        "colab": {
          "base_uri": "https://localhost:8080/",
          "height": 49
        },
        "id": "4y_nr2ZZlYRj",
        "outputId": "2592e65f-bbc8-41ea-8581-45c5e95348d1"
      },
      "execution_count": 111,
      "outputs": [
        {
          "output_type": "execute_result",
          "data": {
            "text/plain": [
              "Empty DataFrame\n",
              "Columns: [uid, Maitre, expression, idx, language, translation, hash, language_fulltext, timestamp]\n",
              "Index: []"
            ],
            "text/html": [
              "\n",
              "  <div id=\"df-64dd06c6-090e-403c-accb-4b2abddd3d84\">\n",
              "    <div class=\"colab-df-container\">\n",
              "      <div>\n",
              "<style scoped>\n",
              "    .dataframe tbody tr th:only-of-type {\n",
              "        vertical-align: middle;\n",
              "    }\n",
              "\n",
              "    .dataframe tbody tr th {\n",
              "        vertical-align: top;\n",
              "    }\n",
              "\n",
              "    .dataframe thead th {\n",
              "        text-align: right;\n",
              "    }\n",
              "</style>\n",
              "<table border=\"1\" class=\"dataframe\">\n",
              "  <thead>\n",
              "    <tr style=\"text-align: right;\">\n",
              "      <th></th>\n",
              "      <th>uid</th>\n",
              "      <th>Maitre</th>\n",
              "      <th>expression</th>\n",
              "      <th>idx</th>\n",
              "      <th>language</th>\n",
              "      <th>translation</th>\n",
              "      <th>hash</th>\n",
              "      <th>language_fulltext</th>\n",
              "      <th>timestamp</th>\n",
              "    </tr>\n",
              "  </thead>\n",
              "  <tbody>\n",
              "  </tbody>\n",
              "</table>\n",
              "</div>\n",
              "      <button class=\"colab-df-convert\" onclick=\"convertToInteractive('df-64dd06c6-090e-403c-accb-4b2abddd3d84')\"\n",
              "              title=\"Convert this dataframe to an interactive table.\"\n",
              "              style=\"display:none;\">\n",
              "        \n",
              "  <svg xmlns=\"http://www.w3.org/2000/svg\" height=\"24px\"viewBox=\"0 0 24 24\"\n",
              "       width=\"24px\">\n",
              "    <path d=\"M0 0h24v24H0V0z\" fill=\"none\"/>\n",
              "    <path d=\"M18.56 5.44l.94 2.06.94-2.06 2.06-.94-2.06-.94-.94-2.06-.94 2.06-2.06.94zm-11 1L8.5 8.5l.94-2.06 2.06-.94-2.06-.94L8.5 2.5l-.94 2.06-2.06.94zm10 10l.94 2.06.94-2.06 2.06-.94-2.06-.94-.94-2.06-.94 2.06-2.06.94z\"/><path d=\"M17.41 7.96l-1.37-1.37c-.4-.4-.92-.59-1.43-.59-.52 0-1.04.2-1.43.59L10.3 9.45l-7.72 7.72c-.78.78-.78 2.05 0 2.83L4 21.41c.39.39.9.59 1.41.59.51 0 1.02-.2 1.41-.59l7.78-7.78 2.81-2.81c.8-.78.8-2.07 0-2.86zM5.41 20L4 18.59l7.72-7.72 1.47 1.35L5.41 20z\"/>\n",
              "  </svg>\n",
              "      </button>\n",
              "      \n",
              "  <style>\n",
              "    .colab-df-container {\n",
              "      display:flex;\n",
              "      flex-wrap:wrap;\n",
              "      gap: 12px;\n",
              "    }\n",
              "\n",
              "    .colab-df-convert {\n",
              "      background-color: #E8F0FE;\n",
              "      border: none;\n",
              "      border-radius: 50%;\n",
              "      cursor: pointer;\n",
              "      display: none;\n",
              "      fill: #1967D2;\n",
              "      height: 32px;\n",
              "      padding: 0 0 0 0;\n",
              "      width: 32px;\n",
              "    }\n",
              "\n",
              "    .colab-df-convert:hover {\n",
              "      background-color: #E2EBFA;\n",
              "      box-shadow: 0px 1px 2px rgba(60, 64, 67, 0.3), 0px 1px 3px 1px rgba(60, 64, 67, 0.15);\n",
              "      fill: #174EA6;\n",
              "    }\n",
              "\n",
              "    [theme=dark] .colab-df-convert {\n",
              "      background-color: #3B4455;\n",
              "      fill: #D2E3FC;\n",
              "    }\n",
              "\n",
              "    [theme=dark] .colab-df-convert:hover {\n",
              "      background-color: #434B5C;\n",
              "      box-shadow: 0px 1px 3px 1px rgba(0, 0, 0, 0.15);\n",
              "      filter: drop-shadow(0px 1px 2px rgba(0, 0, 0, 0.3));\n",
              "      fill: #FFFFFF;\n",
              "    }\n",
              "  </style>\n",
              "\n",
              "      <script>\n",
              "        const buttonEl =\n",
              "          document.querySelector('#df-64dd06c6-090e-403c-accb-4b2abddd3d84 button.colab-df-convert');\n",
              "        buttonEl.style.display =\n",
              "          google.colab.kernel.accessAllowed ? 'block' : 'none';\n",
              "\n",
              "        async function convertToInteractive(key) {\n",
              "          const element = document.querySelector('#df-64dd06c6-090e-403c-accb-4b2abddd3d84');\n",
              "          const dataTable =\n",
              "            await google.colab.kernel.invokeFunction('convertToInteractive',\n",
              "                                                     [key], {});\n",
              "          if (!dataTable) return;\n",
              "\n",
              "          const docLinkHtml = 'Like what you see? Visit the ' +\n",
              "            '<a target=\"_blank\" href=https://colab.research.google.com/notebooks/data_table.ipynb>data table notebook</a>'\n",
              "            + ' to learn more about interactive tables.';\n",
              "          element.innerHTML = '';\n",
              "          dataTable['output_type'] = 'display_data';\n",
              "          await google.colab.output.renderOutput(dataTable, element);\n",
              "          const docLink = document.createElement('div');\n",
              "          docLink.innerHTML = docLinkHtml;\n",
              "          element.appendChild(docLink);\n",
              "        }\n",
              "      </script>\n",
              "    </div>\n",
              "  </div>\n",
              "  "
            ]
          },
          "metadata": {},
          "execution_count": 111
        }
      ]
    },
    {
      "cell_type": "code",
      "source": [
        "frames = [df_local, df2]\n",
        "result = pd.concat(frames)\n",
        "result.drop_duplicates(subset=['hash'], inplace=True, keep='last')"
      ],
      "metadata": {
        "id": "vb9vcmtSlVFi"
      },
      "execution_count": 108,
      "outputs": []
    },
    {
      "cell_type": "code",
      "source": [
        "result"
      ],
      "metadata": {
        "colab": {
          "base_uri": "https://localhost:8080/",
          "height": 424
        },
        "id": "tpmQ9RZkjn09",
        "outputId": "c1080dab-7337-439b-837e-fbff91e0e24c"
      },
      "execution_count": 109,
      "outputs": [
        {
          "output_type": "execute_result",
          "data": {
            "text/plain": [
              "           uid      Maitre                                         expression idx language                                        translation                  hash language_fulltext                   timestamp  Ordre\n",
              "0     f9bc13ef  Médicament  À quel moment de la journée vous prenez le méd...   M      ams                  في أي وقت من اليوم تتناول الدواء؟  -1458185410572695535             Arabe  2022-04-02T18:46:57.581966    3.0\n",
              "1     6e65dde7       Abcès                                              Abcès   A      ams                                             خُرّاج   7011036463669209865             Arabe  2022-04-02T18:46:57.581966    1.0\n",
              "2     80cbacea     Abdomen                                            Abdomen   A      ams                                                NaN   5682402322200800737             Arabe  2022-04-02T18:46:57.581966    1.0\n",
              "3     95c4a863     Fébrile  Accès fébrile concomitant chez un autre membre...   F      ams              نوبة حمى مزامنة عند فرد اخر من الأسرة   6555600362523086894             Arabe  2022-04-02T18:46:57.581966    3.0\n",
              "4     30579682    Accident                                           Accident   A      ams                                               حادث   2037771194775537650             Arabe  2022-04-02T18:46:57.581966    1.0\n",
              "...        ...         ...                                                ...  ..      ...                                                ...                   ...               ...                         ...    ...\n",
              "5451  d112f379       Poids                        Votre poids est-il stable ?   P      tig                                                NaN  -3171479145523148559          Tigrinya  2022-04-02T18:46:57.581966    3.0\n",
              "5452  2344ba84   Accoucher  Vous avez accouché par césarienne ou voie basse ?   A      tig                             ብኦፕረሽን ወይ ብኖርማር ወሊድኪ ?   -511627794643934905          Tigrinya  2022-04-02T18:46:57.581966    3.0\n",
              "5453  36e66161  Contagieux            Y a-t-il des cas contagieux à l'école ?   C      tig                                 አብ ትምህርቲ ዲዩ ለጊብካ ?  -5454291548727394697          Tigrinya  2022-04-02T18:46:57.581966    3.0\n",
              "5454  c32f5fd9   Chronique  Y a-t-il des maladies chroniques dans votre fa...   C      tig                      ካብ በተሰብካ ሕዱር ሕማሕ ዘለዎ አለካ ዲዩ ?  -5504612010103139844          Tigrinya  2022-04-02T18:46:57.581966    3.0\n",
              "5455  d3dba8e4        Zona                                               Zona   Z      tig  ዞና ዝብሃል ሕማም ኣብ ቖርበት ማለት ብደገ ዝቖስል ብርቱዕ ቓንዛ ዘለዎ ...  -8437382114893753360          Tigrinya  2022-04-02T18:46:57.581966    1.0\n",
              "\n",
              "[5344 rows x 10 columns]"
            ],
            "text/html": [
              "\n",
              "  <div id=\"df-444b8dad-bf61-4575-9032-c4f988f0241e\">\n",
              "    <div class=\"colab-df-container\">\n",
              "      <div>\n",
              "<style scoped>\n",
              "    .dataframe tbody tr th:only-of-type {\n",
              "        vertical-align: middle;\n",
              "    }\n",
              "\n",
              "    .dataframe tbody tr th {\n",
              "        vertical-align: top;\n",
              "    }\n",
              "\n",
              "    .dataframe thead th {\n",
              "        text-align: right;\n",
              "    }\n",
              "</style>\n",
              "<table border=\"1\" class=\"dataframe\">\n",
              "  <thead>\n",
              "    <tr style=\"text-align: right;\">\n",
              "      <th></th>\n",
              "      <th>uid</th>\n",
              "      <th>Maitre</th>\n",
              "      <th>expression</th>\n",
              "      <th>idx</th>\n",
              "      <th>language</th>\n",
              "      <th>translation</th>\n",
              "      <th>hash</th>\n",
              "      <th>language_fulltext</th>\n",
              "      <th>timestamp</th>\n",
              "      <th>Ordre</th>\n",
              "    </tr>\n",
              "  </thead>\n",
              "  <tbody>\n",
              "    <tr>\n",
              "      <th>0</th>\n",
              "      <td>f9bc13ef</td>\n",
              "      <td>Médicament</td>\n",
              "      <td>À quel moment de la journée vous prenez le méd...</td>\n",
              "      <td>M</td>\n",
              "      <td>ams</td>\n",
              "      <td>في أي وقت من اليوم تتناول الدواء؟</td>\n",
              "      <td>-1458185410572695535</td>\n",
              "      <td>Arabe</td>\n",
              "      <td>2022-04-02T18:46:57.581966</td>\n",
              "      <td>3.0</td>\n",
              "    </tr>\n",
              "    <tr>\n",
              "      <th>1</th>\n",
              "      <td>6e65dde7</td>\n",
              "      <td>Abcès</td>\n",
              "      <td>Abcès</td>\n",
              "      <td>A</td>\n",
              "      <td>ams</td>\n",
              "      <td>خُرّاج</td>\n",
              "      <td>7011036463669209865</td>\n",
              "      <td>Arabe</td>\n",
              "      <td>2022-04-02T18:46:57.581966</td>\n",
              "      <td>1.0</td>\n",
              "    </tr>\n",
              "    <tr>\n",
              "      <th>2</th>\n",
              "      <td>80cbacea</td>\n",
              "      <td>Abdomen</td>\n",
              "      <td>Abdomen</td>\n",
              "      <td>A</td>\n",
              "      <td>ams</td>\n",
              "      <td>NaN</td>\n",
              "      <td>5682402322200800737</td>\n",
              "      <td>Arabe</td>\n",
              "      <td>2022-04-02T18:46:57.581966</td>\n",
              "      <td>1.0</td>\n",
              "    </tr>\n",
              "    <tr>\n",
              "      <th>3</th>\n",
              "      <td>95c4a863</td>\n",
              "      <td>Fébrile</td>\n",
              "      <td>Accès fébrile concomitant chez un autre membre...</td>\n",
              "      <td>F</td>\n",
              "      <td>ams</td>\n",
              "      <td>نوبة حمى مزامنة عند فرد اخر من الأسرة</td>\n",
              "      <td>6555600362523086894</td>\n",
              "      <td>Arabe</td>\n",
              "      <td>2022-04-02T18:46:57.581966</td>\n",
              "      <td>3.0</td>\n",
              "    </tr>\n",
              "    <tr>\n",
              "      <th>4</th>\n",
              "      <td>30579682</td>\n",
              "      <td>Accident</td>\n",
              "      <td>Accident</td>\n",
              "      <td>A</td>\n",
              "      <td>ams</td>\n",
              "      <td>حادث</td>\n",
              "      <td>2037771194775537650</td>\n",
              "      <td>Arabe</td>\n",
              "      <td>2022-04-02T18:46:57.581966</td>\n",
              "      <td>1.0</td>\n",
              "    </tr>\n",
              "    <tr>\n",
              "      <th>...</th>\n",
              "      <td>...</td>\n",
              "      <td>...</td>\n",
              "      <td>...</td>\n",
              "      <td>...</td>\n",
              "      <td>...</td>\n",
              "      <td>...</td>\n",
              "      <td>...</td>\n",
              "      <td>...</td>\n",
              "      <td>...</td>\n",
              "      <td>...</td>\n",
              "    </tr>\n",
              "    <tr>\n",
              "      <th>5451</th>\n",
              "      <td>d112f379</td>\n",
              "      <td>Poids</td>\n",
              "      <td>Votre poids est-il stable ?</td>\n",
              "      <td>P</td>\n",
              "      <td>tig</td>\n",
              "      <td>NaN</td>\n",
              "      <td>-3171479145523148559</td>\n",
              "      <td>Tigrinya</td>\n",
              "      <td>2022-04-02T18:46:57.581966</td>\n",
              "      <td>3.0</td>\n",
              "    </tr>\n",
              "    <tr>\n",
              "      <th>5452</th>\n",
              "      <td>2344ba84</td>\n",
              "      <td>Accoucher</td>\n",
              "      <td>Vous avez accouché par césarienne ou voie basse ?</td>\n",
              "      <td>A</td>\n",
              "      <td>tig</td>\n",
              "      <td>ብኦፕረሽን ወይ ብኖርማር ወሊድኪ ?</td>\n",
              "      <td>-511627794643934905</td>\n",
              "      <td>Tigrinya</td>\n",
              "      <td>2022-04-02T18:46:57.581966</td>\n",
              "      <td>3.0</td>\n",
              "    </tr>\n",
              "    <tr>\n",
              "      <th>5453</th>\n",
              "      <td>36e66161</td>\n",
              "      <td>Contagieux</td>\n",
              "      <td>Y a-t-il des cas contagieux à l'école ?</td>\n",
              "      <td>C</td>\n",
              "      <td>tig</td>\n",
              "      <td>አብ ትምህርቲ ዲዩ ለጊብካ ?</td>\n",
              "      <td>-5454291548727394697</td>\n",
              "      <td>Tigrinya</td>\n",
              "      <td>2022-04-02T18:46:57.581966</td>\n",
              "      <td>3.0</td>\n",
              "    </tr>\n",
              "    <tr>\n",
              "      <th>5454</th>\n",
              "      <td>c32f5fd9</td>\n",
              "      <td>Chronique</td>\n",
              "      <td>Y a-t-il des maladies chroniques dans votre fa...</td>\n",
              "      <td>C</td>\n",
              "      <td>tig</td>\n",
              "      <td>ካብ በተሰብካ ሕዱር ሕማሕ ዘለዎ አለካ ዲዩ ?</td>\n",
              "      <td>-5504612010103139844</td>\n",
              "      <td>Tigrinya</td>\n",
              "      <td>2022-04-02T18:46:57.581966</td>\n",
              "      <td>3.0</td>\n",
              "    </tr>\n",
              "    <tr>\n",
              "      <th>5455</th>\n",
              "      <td>d3dba8e4</td>\n",
              "      <td>Zona</td>\n",
              "      <td>Zona</td>\n",
              "      <td>Z</td>\n",
              "      <td>tig</td>\n",
              "      <td>ዞና ዝብሃል ሕማም ኣብ ቖርበት ማለት ብደገ ዝቖስል ብርቱዕ ቓንዛ ዘለዎ ...</td>\n",
              "      <td>-8437382114893753360</td>\n",
              "      <td>Tigrinya</td>\n",
              "      <td>2022-04-02T18:46:57.581966</td>\n",
              "      <td>1.0</td>\n",
              "    </tr>\n",
              "  </tbody>\n",
              "</table>\n",
              "<p>5344 rows × 10 columns</p>\n",
              "</div>\n",
              "      <button class=\"colab-df-convert\" onclick=\"convertToInteractive('df-444b8dad-bf61-4575-9032-c4f988f0241e')\"\n",
              "              title=\"Convert this dataframe to an interactive table.\"\n",
              "              style=\"display:none;\">\n",
              "        \n",
              "  <svg xmlns=\"http://www.w3.org/2000/svg\" height=\"24px\"viewBox=\"0 0 24 24\"\n",
              "       width=\"24px\">\n",
              "    <path d=\"M0 0h24v24H0V0z\" fill=\"none\"/>\n",
              "    <path d=\"M18.56 5.44l.94 2.06.94-2.06 2.06-.94-2.06-.94-.94-2.06-.94 2.06-2.06.94zm-11 1L8.5 8.5l.94-2.06 2.06-.94-2.06-.94L8.5 2.5l-.94 2.06-2.06.94zm10 10l.94 2.06.94-2.06 2.06-.94-2.06-.94-.94-2.06-.94 2.06-2.06.94z\"/><path d=\"M17.41 7.96l-1.37-1.37c-.4-.4-.92-.59-1.43-.59-.52 0-1.04.2-1.43.59L10.3 9.45l-7.72 7.72c-.78.78-.78 2.05 0 2.83L4 21.41c.39.39.9.59 1.41.59.51 0 1.02-.2 1.41-.59l7.78-7.78 2.81-2.81c.8-.78.8-2.07 0-2.86zM5.41 20L4 18.59l7.72-7.72 1.47 1.35L5.41 20z\"/>\n",
              "  </svg>\n",
              "      </button>\n",
              "      \n",
              "  <style>\n",
              "    .colab-df-container {\n",
              "      display:flex;\n",
              "      flex-wrap:wrap;\n",
              "      gap: 12px;\n",
              "    }\n",
              "\n",
              "    .colab-df-convert {\n",
              "      background-color: #E8F0FE;\n",
              "      border: none;\n",
              "      border-radius: 50%;\n",
              "      cursor: pointer;\n",
              "      display: none;\n",
              "      fill: #1967D2;\n",
              "      height: 32px;\n",
              "      padding: 0 0 0 0;\n",
              "      width: 32px;\n",
              "    }\n",
              "\n",
              "    .colab-df-convert:hover {\n",
              "      background-color: #E2EBFA;\n",
              "      box-shadow: 0px 1px 2px rgba(60, 64, 67, 0.3), 0px 1px 3px 1px rgba(60, 64, 67, 0.15);\n",
              "      fill: #174EA6;\n",
              "    }\n",
              "\n",
              "    [theme=dark] .colab-df-convert {\n",
              "      background-color: #3B4455;\n",
              "      fill: #D2E3FC;\n",
              "    }\n",
              "\n",
              "    [theme=dark] .colab-df-convert:hover {\n",
              "      background-color: #434B5C;\n",
              "      box-shadow: 0px 1px 3px 1px rgba(0, 0, 0, 0.15);\n",
              "      filter: drop-shadow(0px 1px 2px rgba(0, 0, 0, 0.3));\n",
              "      fill: #FFFFFF;\n",
              "    }\n",
              "  </style>\n",
              "\n",
              "      <script>\n",
              "        const buttonEl =\n",
              "          document.querySelector('#df-444b8dad-bf61-4575-9032-c4f988f0241e button.colab-df-convert');\n",
              "        buttonEl.style.display =\n",
              "          google.colab.kernel.accessAllowed ? 'block' : 'none';\n",
              "\n",
              "        async function convertToInteractive(key) {\n",
              "          const element = document.querySelector('#df-444b8dad-bf61-4575-9032-c4f988f0241e');\n",
              "          const dataTable =\n",
              "            await google.colab.kernel.invokeFunction('convertToInteractive',\n",
              "                                                     [key], {});\n",
              "          if (!dataTable) return;\n",
              "\n",
              "          const docLinkHtml = 'Like what you see? Visit the ' +\n",
              "            '<a target=\"_blank\" href=https://colab.research.google.com/notebooks/data_table.ipynb>data table notebook</a>'\n",
              "            + ' to learn more about interactive tables.';\n",
              "          element.innerHTML = '';\n",
              "          dataTable['output_type'] = 'display_data';\n",
              "          await google.colab.output.renderOutput(dataTable, element);\n",
              "          const docLink = document.createElement('div');\n",
              "          docLink.innerHTML = docLinkHtml;\n",
              "          element.appendChild(docLink);\n",
              "        }\n",
              "      </script>\n",
              "    </div>\n",
              "  </div>\n",
              "  "
            ]
          },
          "metadata": {},
          "execution_count": 109
        }
      ]
    },
    {
      "cell_type": "code",
      "source": [
        "set_with_dataframe(t_corpus, result)"
      ],
      "metadata": {
        "id": "zfEj1MtIa-4F"
      },
      "execution_count": 112,
      "outputs": []
    },
    {
      "cell_type": "markdown",
      "source": [
        "END"
      ],
      "metadata": {
        "id": "NK0L2hYqdsjX"
      }
    },
    {
      "cell_type": "markdown",
      "source": [
        "### Vocabulaire avec groupement :\n",
        "\n",
        "\n",
        "1.   Index alpha\n",
        "2.   Mot clé\n",
        "3.   Ordre\n",
        "\n"
      ],
      "metadata": {
        "id": "cdPFqRRaPQgp"
      }
    },
    {
      "cell_type": "code",
      "source": [
        "vk_voc = airtable.get_all(view='Vocabulary', sort=['idx_cor','Maitre','Ordre'])\n",
        "df_voc = pd.DataFrame.from_records((r['fields'] for r in vk_voc))\n",
        "df_voc = df_voc[['idx_cor','Maitre','Ordre','Proposition','CATEGRAM','TYPE','Thématique']]"
      ],
      "metadata": {
        "id": "cHRm0SL0HVip"
      },
      "execution_count": null,
      "outputs": []
    },
    {
      "cell_type": "markdown",
      "source": [
        "### Traductions avec groupement :\n",
        "\n",
        "\n",
        "1.   Index alpha\n",
        "2.   Mot clé\n",
        "3.   Ordre"
      ],
      "metadata": {
        "id": "2wcUjGFBSkCa"
      }
    },
    {
      "cell_type": "code",
      "source": [
        "df_voc_trad = airtable.get_all(view='Traductions', sort=['idx_cor','Maitre','Ordre'])\n",
        "df_voc_trad = pd.DataFrame.from_records((r['fields'] for r in df_voc_trad))\n",
        "df_voc_trad = df_voc_trad[['idx_cor','Maitre','Ordre','Proposition','CATEGRAM','TYPE','Thématique',\n",
        "             'eng','ams','tur','rus','ukr','rou','hun','tig','alb','geo','arm',\n",
        "             'dar','pst','esp','pol']]"
      ],
      "metadata": {
        "id": "Bgg44ROuR4hL"
      },
      "execution_count": null,
      "outputs": []
    },
    {
      "cell_type": "code",
      "source": [
        "# Corpus_consolidation\n",
        "uri = \"https://docs.google.com/spreadsheets/d/1cSnSnnQunL-I7hpyYkIqbtuGr55unVJ3Qe8URSrjTr8/edit?usp=sharing\"\n",
        "\n",
        "wb = get_CCDB_wb(uri)\n",
        "db_cc = get_CCDB_data (wb, 0)\n",
        "\n",
        "nom_onglet = 'Lexique'\n",
        "# si l'onglet existe déjà\n",
        "try:\n",
        "  ws = wb.worksheet(nom_onglet)\n",
        "  wb.del_worksheet(ws)\n",
        "except:\n",
        "  print (\"Onglet inexistant !\")\n",
        "\n",
        "wb.add_worksheet(nom_onglet, 1, 1)\n",
        "export_sheet = wb.worksheet(nom_onglet)\n",
        "set_with_dataframe(export_sheet, df_voc_trad)"
      ],
      "metadata": {
        "colab": {
          "base_uri": "https://localhost:8080/"
        },
        "id": "WT5hbTFFSxNt",
        "outputId": "ed9bc995-068c-4756-bfe7-9017c5340e54"
      },
      "execution_count": null,
      "outputs": [
        {
          "output_type": "stream",
          "name": "stdout",
          "text": [
            "Onglet inexistant !\n"
          ]
        }
      ]
    },
    {
      "cell_type": "code",
      "source": [
        "grouped = df_voc.groupby(['idx_cor','Maitre'])\n",
        "'''\n",
        "for name, group in grouped:\n",
        "  print (name)\n",
        "  print (group[\"Proposition\"])\n",
        "'''"
      ],
      "metadata": {
        "colab": {
          "base_uri": "https://localhost:8080/",
          "height": 35
        },
        "id": "evgY7mxqP7WE",
        "outputId": "75660d4f-af74-4aa8-cd47-d511f4d308fa"
      },
      "execution_count": null,
      "outputs": [
        {
          "output_type": "execute_result",
          "data": {
            "text/plain": [
              "'\\nfor name, group in grouped:\\n  print (name)\\n  print (group[\"Proposition\"])\\n'"
            ],
            "application/vnd.google.colaboratory.intrinsic+json": {
              "type": "string"
            }
          },
          "metadata": {},
          "execution_count": 23
        }
      ]
    },
    {
      "cell_type": "markdown",
      "source": [
        "Recherche des UID manquants dans Airtable"
      ],
      "metadata": {
        "id": "U-7k2nzJUsid"
      }
    },
    {
      "cell_type": "code",
      "source": [
        "def airtable_get_missing_uids(df):\n",
        "  return df.loc[pd.isna(df[\"UID\"])]\n"
      ],
      "metadata": {
        "id": "Gtod6pghUwQi"
      },
      "execution_count": null,
      "outputs": []
    },
    {
      "cell_type": "markdown",
      "source": [
        "Recherche dans Airtable par Séquence"
      ],
      "metadata": {
        "id": "5SKRdfNJVJsK"
      }
    },
    {
      "cell_type": "code",
      "source": [
        "def airtable_get_records_by_sequence(df, sequence):\n",
        "  return df.loc[df[\"Séquence\"]==sequence]\n"
      ],
      "metadata": {
        "id": "vSn5dpoYVi4M"
      },
      "execution_count": null,
      "outputs": []
    },
    {
      "cell_type": "code",
      "source": [
        "#df_vkat.loc[df_vkat[\"Séquence\"]==\"1. Présentation + antécédents\"]"
      ],
      "metadata": {
        "id": "fcJHEddUWLWs"
      },
      "execution_count": null,
      "outputs": []
    },
    {
      "cell_type": "code",
      "source": [
        "airtable_get_missing_uids(df_vkat)"
      ],
      "metadata": {
        "id": "57wH5iFxREtI",
        "colab": {
          "base_uri": "https://localhost:8080/",
          "height": 468
        },
        "outputId": "f6fedb58-76d3-4a76-b039-3b113a31dc32"
      },
      "execution_count": null,
      "outputs": [
        {
          "output_type": "execute_result",
          "data": {
            "text/plain": [
              "                       Proposition  CATEGRAM           DEPENDANCE idx_cor         TYPE  UID VOCABULAIRE           Thématique  idx  Ordre  ... Updates Séquence MedGen Statut Fiche Phrase Assoc Définition Corpus copy DOMAINE Exp Assoc\n",
              "6                  ~ chirurgicale      [exp]  [reco8iFRctnJgMJCl]       I   expression  NaN         NaN        [Vaccination]    I      2  ...     NaN      NaN    NaN    NaN   NaN          NaN        NaN         NaN     NaN       NaN\n",
              "26                    Accouchement      [nm]                  NaN       A  vocabulaire  NaN         NaN  [Médecine générale]  NaN      1  ...     NaN      NaN    NaN    NaN   NaN          NaN        NaN         NaN     NaN       NaN\n",
              "27                       Accoucher      [vi]                  NaN       A  vocabulaire  NaN         NaN  [Médecine générale]  NaN      1  ...     NaN      NaN    NaN    NaN   NaN          NaN        NaN         NaN     NaN       NaN\n",
              "40                      Appareil ~     [exp]                  NaN       D   expression  NaN         NaN  [Médecine générale]  NaN      2  ...     NaN      NaN    NaN    NaN   NaN          NaN        NaN         NaN     NaN       NaN\n",
              "41                       Assurance      [nf]                  NaN       A  vocabulaire  NaN     Général  [Médecine générale]  NaN      1  ...     NaN      NaN    NaN    NaN   NaN          NaN        NaN         NaN     NaN       NaN\n",
              "..                             ...       ...                  ...     ...          ...  ...         ...                  ...  ...    ...  ...     ...      ...    ...    ...   ...          ...        ...         ...     ...       ...\n",
              "304                          Urine      [nf]                  NaN       U  vocabulaire  NaN         NaN                  NaN  NaN      1  ...     NaN      NaN    NaN    NaN   NaN          NaN        NaN         NaN     NaN       NaN\n",
              "306                       Vaccinal     [adj]                  NaN       V  vocabulaire  NaN         NaN                  NaN  NaN      1  ...     NaN      NaN    NaN    NaN   NaN          NaN        NaN         NaN     NaN       NaN\n",
              "308                    Vacciné, -e     [adj]                  NaN       V  vocabulaire  NaN         NaN                  NaN  NaN      1  ...     NaN      NaN    NaN    NaN   NaN          NaN        NaN         NaN     NaN       NaN\n",
              "317  Votre poids a-t-il augmenté ?  [phrase]  [recnFsFSoE1DCjYqt]       P       phrase  NaN         NaN  [Médecine générale]  NaN      3  ...     NaN      NaN    NaN    NaN   NaN          NaN        NaN         NaN     NaN       NaN\n",
              "319    Votre poids est-il stable ?  [phrase]  [recnFsFSoE1DCjYqt]       P       phrase  NaN         NaN  [Médecine générale]  NaN      3  ...     NaN      NaN    NaN    NaN   NaN          NaN        NaN         NaN     NaN       NaN\n",
              "\n",
              "[64 rows x 39 columns]"
            ],
            "text/html": [
              "\n",
              "  <div id=\"df-f55aeecb-91ff-4920-b2ea-8a4d69a74e8c\">\n",
              "    <div class=\"colab-df-container\">\n",
              "      <div>\n",
              "<style scoped>\n",
              "    .dataframe tbody tr th:only-of-type {\n",
              "        vertical-align: middle;\n",
              "    }\n",
              "\n",
              "    .dataframe tbody tr th {\n",
              "        vertical-align: top;\n",
              "    }\n",
              "\n",
              "    .dataframe thead th {\n",
              "        text-align: right;\n",
              "    }\n",
              "</style>\n",
              "<table border=\"1\" class=\"dataframe\">\n",
              "  <thead>\n",
              "    <tr style=\"text-align: right;\">\n",
              "      <th></th>\n",
              "      <th>Proposition</th>\n",
              "      <th>CATEGRAM</th>\n",
              "      <th>DEPENDANCE</th>\n",
              "      <th>idx_cor</th>\n",
              "      <th>TYPE</th>\n",
              "      <th>UID</th>\n",
              "      <th>VOCABULAIRE</th>\n",
              "      <th>Thématique</th>\n",
              "      <th>idx</th>\n",
              "      <th>Ordre</th>\n",
              "      <th>...</th>\n",
              "      <th>Updates</th>\n",
              "      <th>Séquence</th>\n",
              "      <th>MedGen</th>\n",
              "      <th>Statut</th>\n",
              "      <th>Fiche</th>\n",
              "      <th>Phrase Assoc</th>\n",
              "      <th>Définition</th>\n",
              "      <th>Corpus copy</th>\n",
              "      <th>DOMAINE</th>\n",
              "      <th>Exp Assoc</th>\n",
              "    </tr>\n",
              "  </thead>\n",
              "  <tbody>\n",
              "    <tr>\n",
              "      <th>6</th>\n",
              "      <td>~ chirurgicale</td>\n",
              "      <td>[exp]</td>\n",
              "      <td>[reco8iFRctnJgMJCl]</td>\n",
              "      <td>I</td>\n",
              "      <td>expression</td>\n",
              "      <td>NaN</td>\n",
              "      <td>NaN</td>\n",
              "      <td>[Vaccination]</td>\n",
              "      <td>I</td>\n",
              "      <td>2</td>\n",
              "      <td>...</td>\n",
              "      <td>NaN</td>\n",
              "      <td>NaN</td>\n",
              "      <td>NaN</td>\n",
              "      <td>NaN</td>\n",
              "      <td>NaN</td>\n",
              "      <td>NaN</td>\n",
              "      <td>NaN</td>\n",
              "      <td>NaN</td>\n",
              "      <td>NaN</td>\n",
              "      <td>NaN</td>\n",
              "    </tr>\n",
              "    <tr>\n",
              "      <th>26</th>\n",
              "      <td>Accouchement</td>\n",
              "      <td>[nm]</td>\n",
              "      <td>NaN</td>\n",
              "      <td>A</td>\n",
              "      <td>vocabulaire</td>\n",
              "      <td>NaN</td>\n",
              "      <td>NaN</td>\n",
              "      <td>[Médecine générale]</td>\n",
              "      <td>NaN</td>\n",
              "      <td>1</td>\n",
              "      <td>...</td>\n",
              "      <td>NaN</td>\n",
              "      <td>NaN</td>\n",
              "      <td>NaN</td>\n",
              "      <td>NaN</td>\n",
              "      <td>NaN</td>\n",
              "      <td>NaN</td>\n",
              "      <td>NaN</td>\n",
              "      <td>NaN</td>\n",
              "      <td>NaN</td>\n",
              "      <td>NaN</td>\n",
              "    </tr>\n",
              "    <tr>\n",
              "      <th>27</th>\n",
              "      <td>Accoucher</td>\n",
              "      <td>[vi]</td>\n",
              "      <td>NaN</td>\n",
              "      <td>A</td>\n",
              "      <td>vocabulaire</td>\n",
              "      <td>NaN</td>\n",
              "      <td>NaN</td>\n",
              "      <td>[Médecine générale]</td>\n",
              "      <td>NaN</td>\n",
              "      <td>1</td>\n",
              "      <td>...</td>\n",
              "      <td>NaN</td>\n",
              "      <td>NaN</td>\n",
              "      <td>NaN</td>\n",
              "      <td>NaN</td>\n",
              "      <td>NaN</td>\n",
              "      <td>NaN</td>\n",
              "      <td>NaN</td>\n",
              "      <td>NaN</td>\n",
              "      <td>NaN</td>\n",
              "      <td>NaN</td>\n",
              "    </tr>\n",
              "    <tr>\n",
              "      <th>40</th>\n",
              "      <td>Appareil ~</td>\n",
              "      <td>[exp]</td>\n",
              "      <td>NaN</td>\n",
              "      <td>D</td>\n",
              "      <td>expression</td>\n",
              "      <td>NaN</td>\n",
              "      <td>NaN</td>\n",
              "      <td>[Médecine générale]</td>\n",
              "      <td>NaN</td>\n",
              "      <td>2</td>\n",
              "      <td>...</td>\n",
              "      <td>NaN</td>\n",
              "      <td>NaN</td>\n",
              "      <td>NaN</td>\n",
              "      <td>NaN</td>\n",
              "      <td>NaN</td>\n",
              "      <td>NaN</td>\n",
              "      <td>NaN</td>\n",
              "      <td>NaN</td>\n",
              "      <td>NaN</td>\n",
              "      <td>NaN</td>\n",
              "    </tr>\n",
              "    <tr>\n",
              "      <th>41</th>\n",
              "      <td>Assurance</td>\n",
              "      <td>[nf]</td>\n",
              "      <td>NaN</td>\n",
              "      <td>A</td>\n",
              "      <td>vocabulaire</td>\n",
              "      <td>NaN</td>\n",
              "      <td>Général</td>\n",
              "      <td>[Médecine générale]</td>\n",
              "      <td>NaN</td>\n",
              "      <td>1</td>\n",
              "      <td>...</td>\n",
              "      <td>NaN</td>\n",
              "      <td>NaN</td>\n",
              "      <td>NaN</td>\n",
              "      <td>NaN</td>\n",
              "      <td>NaN</td>\n",
              "      <td>NaN</td>\n",
              "      <td>NaN</td>\n",
              "      <td>NaN</td>\n",
              "      <td>NaN</td>\n",
              "      <td>NaN</td>\n",
              "    </tr>\n",
              "    <tr>\n",
              "      <th>...</th>\n",
              "      <td>...</td>\n",
              "      <td>...</td>\n",
              "      <td>...</td>\n",
              "      <td>...</td>\n",
              "      <td>...</td>\n",
              "      <td>...</td>\n",
              "      <td>...</td>\n",
              "      <td>...</td>\n",
              "      <td>...</td>\n",
              "      <td>...</td>\n",
              "      <td>...</td>\n",
              "      <td>...</td>\n",
              "      <td>...</td>\n",
              "      <td>...</td>\n",
              "      <td>...</td>\n",
              "      <td>...</td>\n",
              "      <td>...</td>\n",
              "      <td>...</td>\n",
              "      <td>...</td>\n",
              "      <td>...</td>\n",
              "      <td>...</td>\n",
              "    </tr>\n",
              "    <tr>\n",
              "      <th>304</th>\n",
              "      <td>Urine</td>\n",
              "      <td>[nf]</td>\n",
              "      <td>NaN</td>\n",
              "      <td>U</td>\n",
              "      <td>vocabulaire</td>\n",
              "      <td>NaN</td>\n",
              "      <td>NaN</td>\n",
              "      <td>NaN</td>\n",
              "      <td>NaN</td>\n",
              "      <td>1</td>\n",
              "      <td>...</td>\n",
              "      <td>NaN</td>\n",
              "      <td>NaN</td>\n",
              "      <td>NaN</td>\n",
              "      <td>NaN</td>\n",
              "      <td>NaN</td>\n",
              "      <td>NaN</td>\n",
              "      <td>NaN</td>\n",
              "      <td>NaN</td>\n",
              "      <td>NaN</td>\n",
              "      <td>NaN</td>\n",
              "    </tr>\n",
              "    <tr>\n",
              "      <th>306</th>\n",
              "      <td>Vaccinal</td>\n",
              "      <td>[adj]</td>\n",
              "      <td>NaN</td>\n",
              "      <td>V</td>\n",
              "      <td>vocabulaire</td>\n",
              "      <td>NaN</td>\n",
              "      <td>NaN</td>\n",
              "      <td>NaN</td>\n",
              "      <td>NaN</td>\n",
              "      <td>1</td>\n",
              "      <td>...</td>\n",
              "      <td>NaN</td>\n",
              "      <td>NaN</td>\n",
              "      <td>NaN</td>\n",
              "      <td>NaN</td>\n",
              "      <td>NaN</td>\n",
              "      <td>NaN</td>\n",
              "      <td>NaN</td>\n",
              "      <td>NaN</td>\n",
              "      <td>NaN</td>\n",
              "      <td>NaN</td>\n",
              "    </tr>\n",
              "    <tr>\n",
              "      <th>308</th>\n",
              "      <td>Vacciné, -e</td>\n",
              "      <td>[adj]</td>\n",
              "      <td>NaN</td>\n",
              "      <td>V</td>\n",
              "      <td>vocabulaire</td>\n",
              "      <td>NaN</td>\n",
              "      <td>NaN</td>\n",
              "      <td>NaN</td>\n",
              "      <td>NaN</td>\n",
              "      <td>1</td>\n",
              "      <td>...</td>\n",
              "      <td>NaN</td>\n",
              "      <td>NaN</td>\n",
              "      <td>NaN</td>\n",
              "      <td>NaN</td>\n",
              "      <td>NaN</td>\n",
              "      <td>NaN</td>\n",
              "      <td>NaN</td>\n",
              "      <td>NaN</td>\n",
              "      <td>NaN</td>\n",
              "      <td>NaN</td>\n",
              "    </tr>\n",
              "    <tr>\n",
              "      <th>317</th>\n",
              "      <td>Votre poids a-t-il augmenté ?</td>\n",
              "      <td>[phrase]</td>\n",
              "      <td>[recnFsFSoE1DCjYqt]</td>\n",
              "      <td>P</td>\n",
              "      <td>phrase</td>\n",
              "      <td>NaN</td>\n",
              "      <td>NaN</td>\n",
              "      <td>[Médecine générale]</td>\n",
              "      <td>NaN</td>\n",
              "      <td>3</td>\n",
              "      <td>...</td>\n",
              "      <td>NaN</td>\n",
              "      <td>NaN</td>\n",
              "      <td>NaN</td>\n",
              "      <td>NaN</td>\n",
              "      <td>NaN</td>\n",
              "      <td>NaN</td>\n",
              "      <td>NaN</td>\n",
              "      <td>NaN</td>\n",
              "      <td>NaN</td>\n",
              "      <td>NaN</td>\n",
              "    </tr>\n",
              "    <tr>\n",
              "      <th>319</th>\n",
              "      <td>Votre poids est-il stable ?</td>\n",
              "      <td>[phrase]</td>\n",
              "      <td>[recnFsFSoE1DCjYqt]</td>\n",
              "      <td>P</td>\n",
              "      <td>phrase</td>\n",
              "      <td>NaN</td>\n",
              "      <td>NaN</td>\n",
              "      <td>[Médecine générale]</td>\n",
              "      <td>NaN</td>\n",
              "      <td>3</td>\n",
              "      <td>...</td>\n",
              "      <td>NaN</td>\n",
              "      <td>NaN</td>\n",
              "      <td>NaN</td>\n",
              "      <td>NaN</td>\n",
              "      <td>NaN</td>\n",
              "      <td>NaN</td>\n",
              "      <td>NaN</td>\n",
              "      <td>NaN</td>\n",
              "      <td>NaN</td>\n",
              "      <td>NaN</td>\n",
              "    </tr>\n",
              "  </tbody>\n",
              "</table>\n",
              "<p>64 rows × 39 columns</p>\n",
              "</div>\n",
              "      <button class=\"colab-df-convert\" onclick=\"convertToInteractive('df-f55aeecb-91ff-4920-b2ea-8a4d69a74e8c')\"\n",
              "              title=\"Convert this dataframe to an interactive table.\"\n",
              "              style=\"display:none;\">\n",
              "        \n",
              "  <svg xmlns=\"http://www.w3.org/2000/svg\" height=\"24px\"viewBox=\"0 0 24 24\"\n",
              "       width=\"24px\">\n",
              "    <path d=\"M0 0h24v24H0V0z\" fill=\"none\"/>\n",
              "    <path d=\"M18.56 5.44l.94 2.06.94-2.06 2.06-.94-2.06-.94-.94-2.06-.94 2.06-2.06.94zm-11 1L8.5 8.5l.94-2.06 2.06-.94-2.06-.94L8.5 2.5l-.94 2.06-2.06.94zm10 10l.94 2.06.94-2.06 2.06-.94-2.06-.94-.94-2.06-.94 2.06-2.06.94z\"/><path d=\"M17.41 7.96l-1.37-1.37c-.4-.4-.92-.59-1.43-.59-.52 0-1.04.2-1.43.59L10.3 9.45l-7.72 7.72c-.78.78-.78 2.05 0 2.83L4 21.41c.39.39.9.59 1.41.59.51 0 1.02-.2 1.41-.59l7.78-7.78 2.81-2.81c.8-.78.8-2.07 0-2.86zM5.41 20L4 18.59l7.72-7.72 1.47 1.35L5.41 20z\"/>\n",
              "  </svg>\n",
              "      </button>\n",
              "      \n",
              "  <style>\n",
              "    .colab-df-container {\n",
              "      display:flex;\n",
              "      flex-wrap:wrap;\n",
              "      gap: 12px;\n",
              "    }\n",
              "\n",
              "    .colab-df-convert {\n",
              "      background-color: #E8F0FE;\n",
              "      border: none;\n",
              "      border-radius: 50%;\n",
              "      cursor: pointer;\n",
              "      display: none;\n",
              "      fill: #1967D2;\n",
              "      height: 32px;\n",
              "      padding: 0 0 0 0;\n",
              "      width: 32px;\n",
              "    }\n",
              "\n",
              "    .colab-df-convert:hover {\n",
              "      background-color: #E2EBFA;\n",
              "      box-shadow: 0px 1px 2px rgba(60, 64, 67, 0.3), 0px 1px 3px 1px rgba(60, 64, 67, 0.15);\n",
              "      fill: #174EA6;\n",
              "    }\n",
              "\n",
              "    [theme=dark] .colab-df-convert {\n",
              "      background-color: #3B4455;\n",
              "      fill: #D2E3FC;\n",
              "    }\n",
              "\n",
              "    [theme=dark] .colab-df-convert:hover {\n",
              "      background-color: #434B5C;\n",
              "      box-shadow: 0px 1px 3px 1px rgba(0, 0, 0, 0.15);\n",
              "      filter: drop-shadow(0px 1px 2px rgba(0, 0, 0, 0.3));\n",
              "      fill: #FFFFFF;\n",
              "    }\n",
              "  </style>\n",
              "\n",
              "      <script>\n",
              "        const buttonEl =\n",
              "          document.querySelector('#df-f55aeecb-91ff-4920-b2ea-8a4d69a74e8c button.colab-df-convert');\n",
              "        buttonEl.style.display =\n",
              "          google.colab.kernel.accessAllowed ? 'block' : 'none';\n",
              "\n",
              "        async function convertToInteractive(key) {\n",
              "          const element = document.querySelector('#df-f55aeecb-91ff-4920-b2ea-8a4d69a74e8c');\n",
              "          const dataTable =\n",
              "            await google.colab.kernel.invokeFunction('convertToInteractive',\n",
              "                                                     [key], {});\n",
              "          if (!dataTable) return;\n",
              "\n",
              "          const docLinkHtml = 'Like what you see? Visit the ' +\n",
              "            '<a target=\"_blank\" href=https://colab.research.google.com/notebooks/data_table.ipynb>data table notebook</a>'\n",
              "            + ' to learn more about interactive tables.';\n",
              "          element.innerHTML = '';\n",
              "          dataTable['output_type'] = 'display_data';\n",
              "          await google.colab.output.renderOutput(dataTable, element);\n",
              "          const docLink = document.createElement('div');\n",
              "          docLink.innerHTML = docLinkHtml;\n",
              "          element.appendChild(docLink);\n",
              "        }\n",
              "      </script>\n",
              "    </div>\n",
              "  </div>\n",
              "  "
            ]
          },
          "metadata": {},
          "execution_count": 21
        }
      ]
    },
    {
      "cell_type": "markdown",
      "source": [
        "Rceherche des termes présents dans Central, présents dans AIRTBL mais sans UID"
      ],
      "metadata": {
        "id": "fXlfUrfdYIbI"
      }
    },
    {
      "cell_type": "code",
      "source": [
        "vk_at_trad = airtable.get_all(view='Traductions',sort='Proposition')\n",
        "df_vk_at_trad = pd.DataFrame.from_records((r['fields'] for r in vk_at_trad))\n",
        "df_vk_at_trad = df_vk_at_trad[[\"Proposition\",\"idx_cor\",\"UID\"]]\n",
        "df_vk_at_trad_notna = df_vk_at_trad.loc[pd.notna(df_vk_at_trad[\"UID\"])]\n",
        "df_vk_at_trad_na = df_vk_at_trad.loc[pd.isna(df_vk_at_trad[\"UID\"])]"
      ],
      "metadata": {
        "id": "K3gKCepieMIQ"
      },
      "execution_count": null,
      "outputs": []
    },
    {
      "cell_type": "markdown",
      "source": [
        "### merge côté AT : avec les UID présents "
      ],
      "metadata": {
        "id": "INb1Du8CtbBR"
      }
    },
    {
      "cell_type": "code",
      "source": [
        "df_merged = pd.merge(df_cc_global, df_vk_at_trad_notna, how=\"right\", left_on='uid', right_on='UID')"
      ],
      "metadata": {
        "id": "WmQoZ0pvgZtQ"
      },
      "execution_count": null,
      "outputs": []
    },
    {
      "cell_type": "markdown",
      "source": [
        "## On complète avec les traductions"
      ],
      "metadata": {
        "id": "ldztSIEztkja"
      }
    },
    {
      "cell_type": "code",
      "source": [
        "for index, row in df_merged.iterrows():\n",
        "  if row[\"uid\"] is not None:\n",
        "    record = airtable.match('UID', row[\"uid\"])\n",
        "    aDict = {}\n",
        "    for i in vk_languages:\n",
        "      key = i[\"trigramme\"]\n",
        "      aDict[key] = row[key]\n",
        "      #print (record['id'] +\" \" + row[\"eng\"])\n",
        "    airtable.update(record['id'], aDict)\n"
      ],
      "metadata": {
        "id": "--ive2GSiBtb"
      },
      "execution_count": null,
      "outputs": []
    },
    {
      "cell_type": "markdown",
      "source": [
        "## On complète avec les UID manquants"
      ],
      "metadata": {
        "id": "TDC5UPAZtj7e"
      }
    },
    {
      "cell_type": "code",
      "source": [
        "df_vk_at_trad_na"
      ],
      "metadata": {
        "id": "AcFNN2eIuIog"
      },
      "execution_count": null,
      "outputs": []
    },
    {
      "cell_type": "code",
      "source": [
        "df_merged = pd.merge(df_cc_global, df_vk_at_trad_na, how=\"right\", left_on='expression', right_on='Proposition')"
      ],
      "metadata": {
        "id": "8t7rvIBUtvJu"
      },
      "execution_count": null,
      "outputs": []
    },
    {
      "cell_type": "code",
      "source": [
        "df_merged = df_merged.loc[pd.notna(df_merged[\"uid\"])]"
      ],
      "metadata": {
        "id": "6ahCm4WCufpQ"
      },
      "execution_count": null,
      "outputs": []
    },
    {
      "cell_type": "code",
      "source": [
        "for index, row in df_merged.iterrows():\n",
        "  if row[\"uid\"] is not None:\n",
        "    record = airtable.match('Proposition', row[\"expression\"])\n",
        "    aDict = {}\n",
        "    key = \"UID\"\n",
        "    aDict[key] = row[\"uid\"]\n",
        "    for i in vk_languages:\n",
        "      key = i[\"trigramme\"]\n",
        "      aDict[key] = row[key]\n",
        "      #print (record['id'] +\" \" + row[\"eng\"])\n",
        "    airtable.update(record['id'], aDict)"
      ],
      "metadata": {
        "id": "cOtC1mTRvf4b"
      },
      "execution_count": null,
      "outputs": []
    },
    {
      "cell_type": "markdown",
      "source": [
        "## On vide toute la base AT dans Central Consolidation"
      ],
      "metadata": {
        "id": "DS-bEnO8wWdd"
      }
    },
    {
      "cell_type": "code",
      "source": [
        "vk_at = airtable.get_all(view='Admin',sort='Proposition')\n",
        "df_vkat = pd.DataFrame.from_records((r['fields'] for r in vk_at))"
      ],
      "metadata": {
        "id": "E0Ohsqdnyic-"
      },
      "execution_count": null,
      "outputs": []
    },
    {
      "cell_type": "code",
      "source": [
        "# Corpus_consolidation\n",
        "uri = \"https://docs.google.com/spreadsheets/d/1cSnSnnQunL-I7hpyYkIqbtuGr55unVJ3Qe8URSrjTr8/edit?usp=sharing\"\n",
        "\n",
        "wb = get_CCDB_wb(uri)\n",
        "db_cc = get_CCDB_data (wb, 0)\n",
        "\n",
        "nom_onglet = 'Termes'\n",
        "# si l'onglet existe déjà\n",
        "try:\n",
        "  ws = wb.worksheet(nom_onglet)\n",
        "  wb.del_worksheet(ws)\n",
        "except:\n",
        "  print (\"Onglet inexistant !\")\n",
        "\n",
        "wb.add_worksheet(nom_onglet, 1, 1)\n",
        "export_sheet = wb.worksheet(nom_onglet)\n",
        "set_with_dataframe(export_sheet, df_vkat)\n",
        "\n"
      ],
      "metadata": {
        "id": "jwPPFWmSxrsj"
      },
      "execution_count": null,
      "outputs": []
    },
    {
      "cell_type": "markdown",
      "source": [
        "END"
      ],
      "metadata": {
        "id": "GrpHI9nesnIY"
      }
    },
    {
      "cell_type": "code",
      "source": [
        "record = airtable.match('UID', '30579682')\n",
        "fields = {'eng': 'Accident'}\n",
        "airtable.update(record['id'], fields)"
      ],
      "metadata": {
        "colab": {
          "base_uri": "https://localhost:8080/"
        },
        "id": "i4bxE6U-dJLn",
        "outputId": "2d304bb3-bd16-4af0-e266-ea21e647b4bf"
      },
      "execution_count": null,
      "outputs": [
        {
          "output_type": "execute_result",
          "data": {
            "text/plain": [
              "{'createdTime': '2021-12-10T08:47:48.000Z',\n",
              " 'fields': {'CATEGRAM': ['nm'],\n",
              "  'Name ID': 'recGaRQGjV5qN3QBN',\n",
              "  'Proposition': 'Accident',\n",
              "  'TYPE': 'vocabulaire',\n",
              "  'Thématique': 'Vaccination',\n",
              "  'UID': '30579682',\n",
              "  'VOCABULAIRE': 'Général',\n",
              "  'eng': 'Accident',\n",
              "  'idx': 'A',\n",
              "  'idx_cor': 'A'},\n",
              " 'id': 'recGaRQGjV5qN3QBN'}"
            ]
          },
          "metadata": {},
          "execution_count": 39
        }
      ]
    },
    {
      "cell_type": "code",
      "source": [
        "record"
      ],
      "metadata": {
        "colab": {
          "base_uri": "https://localhost:8080/"
        },
        "id": "FVhleF-qdP8m",
        "outputId": "6842713c-df5e-40c3-d9ac-94d4b4bb4b4c"
      },
      "execution_count": null,
      "outputs": [
        {
          "output_type": "execute_result",
          "data": {
            "text/plain": [
              "{'createdTime': '2021-12-10T08:47:48.000Z',\n",
              " 'fields': {'CATEGRAM': ['nm'],\n",
              "  'Name ID': 'recGaRQGjV5qN3QBN',\n",
              "  'Proposition': 'Accident',\n",
              "  'TYPE': 'vocabulaire',\n",
              "  'Thématique': 'Vaccination',\n",
              "  'UID': '30579682',\n",
              "  'VOCABULAIRE': 'Général',\n",
              "  'idx': 'A',\n",
              "  'idx_cor': 'A'},\n",
              " 'id': 'recGaRQGjV5qN3QBN'}"
            ]
          },
          "metadata": {},
          "execution_count": 33
        }
      ]
    },
    {
      "cell_type": "code",
      "metadata": {
        "id": "9yIqVmuF5sLc"
      },
      "source": [
        "def airtable_table_get(uri, params, headers):\n",
        "  airtable_records = []\n",
        "  run = True\n",
        "  while run is True:\n",
        "    response = requests.get(uri, params=params, headers=headers)\n",
        "    airtable_response = response.json()\n",
        "    airtable_records += (airtable_response['records'])\n",
        "    if 'offset' in airtable_response:\n",
        "      run = True\n",
        "      params = (('offset', airtable_response['offset']),)\n",
        "    else:\n",
        "      run = False\n",
        "  return airtable_records"
      ],
      "execution_count": null,
      "outputs": []
    },
    {
      "cell_type": "markdown",
      "metadata": {
        "id": "Td15VBcoLa2f"
      },
      "source": [
        "# Table Corpus"
      ]
    },
    {
      "cell_type": "code",
      "metadata": {
        "id": "7Vt-ZR-AJlzP"
      },
      "source": [
        "\n",
        "url = \"https://api.airtable.com/v0/\" + base_id + \"/\" + table_name\n"
      ],
      "execution_count": null,
      "outputs": []
    },
    {
      "cell_type": "markdown",
      "metadata": {
        "id": "ViCvTpxuBHoz"
      },
      "source": [
        "### On lit tous les enregistrements, puis on met dans un dataframe"
      ]
    },
    {
      "cell_type": "code",
      "metadata": {
        "id": "l8xZ5LY6MLFl"
      },
      "source": [
        "airtable_records = airtable_table_get(url, params, headers)\n",
        "\n",
        "airtable_rows = [] \n",
        "airtable_index = []\n",
        "for record in airtable_records:\n",
        "  airtable_rows.append(record['fields'])\n",
        "  airtable_index.append(record['id'])\n",
        "df = pd.DataFrame(airtable_rows, index=airtable_index)\n",
        "df = df [['Proposition','UID', 'Name ID', 'DEPENDANCE', 'idx', 'idx_cor','Statut','Thématique']]\n",
        "df.sort_values(by=['Proposition'], ascending=True, inplace=True)"
      ],
      "execution_count": null,
      "outputs": []
    },
    {
      "cell_type": "code",
      "source": [
        "df.head(10)"
      ],
      "metadata": {
        "colab": {
          "base_uri": "https://localhost:8080/",
          "height": 363
        },
        "id": "6mXBIWjy1qNA",
        "outputId": "157f2898-0e0d-48e6-ec4a-7aa85789b3c5"
      },
      "execution_count": null,
      "outputs": [
        {
          "output_type": "execute_result",
          "data": {
            "text/html": [
              "\n",
              "  <div id=\"df-22447ca0-0f23-457d-8f2b-09b219e4cba2\">\n",
              "    <div class=\"colab-df-container\">\n",
              "      <div>\n",
              "<style scoped>\n",
              "    .dataframe tbody tr th:only-of-type {\n",
              "        vertical-align: middle;\n",
              "    }\n",
              "\n",
              "    .dataframe tbody tr th {\n",
              "        vertical-align: top;\n",
              "    }\n",
              "\n",
              "    .dataframe thead th {\n",
              "        text-align: right;\n",
              "    }\n",
              "</style>\n",
              "<table border=\"1\" class=\"dataframe\">\n",
              "  <thead>\n",
              "    <tr style=\"text-align: right;\">\n",
              "      <th></th>\n",
              "      <th>Proposition</th>\n",
              "      <th>UID</th>\n",
              "      <th>Name ID</th>\n",
              "      <th>DEPENDANCE</th>\n",
              "      <th>idx</th>\n",
              "      <th>idx_cor</th>\n",
              "      <th>Statut</th>\n",
              "      <th>Thématique</th>\n",
              "    </tr>\n",
              "  </thead>\n",
              "  <tbody>\n",
              "    <tr>\n",
              "      <th>recKbPHqDTXNPwYK0</th>\n",
              "      <td>A jeun</td>\n",
              "      <td>f397cda1</td>\n",
              "      <td>recKbPHqDTXNPwYK0</td>\n",
              "      <td>NaN</td>\n",
              "      <td>J</td>\n",
              "      <td>J</td>\n",
              "      <td>NaN</td>\n",
              "      <td>Vaccination</td>\n",
              "    </tr>\n",
              "    <tr>\n",
              "      <th>rec1qTnfWxjhx6SBl</th>\n",
              "      <td>AME - Aide médicale d'État</td>\n",
              "      <td>f49563a9</td>\n",
              "      <td>rec1qTnfWxjhx6SBl</td>\n",
              "      <td>NaN</td>\n",
              "      <td>A</td>\n",
              "      <td>A</td>\n",
              "      <td>NaN</td>\n",
              "      <td>Vaccination</td>\n",
              "    </tr>\n",
              "    <tr>\n",
              "      <th>rec0HgtD22F7TWM3W</th>\n",
              "      <td>Abcès</td>\n",
              "      <td>6e65dde7</td>\n",
              "      <td>rec0HgtD22F7TWM3W</td>\n",
              "      <td>NaN</td>\n",
              "      <td>A</td>\n",
              "      <td>A</td>\n",
              "      <td>NaN</td>\n",
              "      <td>Médecine générale</td>\n",
              "    </tr>\n",
              "    <tr>\n",
              "      <th>recGaRQGjV5qN3QBN</th>\n",
              "      <td>Accident</td>\n",
              "      <td>30579682</td>\n",
              "      <td>recGaRQGjV5qN3QBN</td>\n",
              "      <td>NaN</td>\n",
              "      <td>A</td>\n",
              "      <td>A</td>\n",
              "      <td>NaN</td>\n",
              "      <td>Vaccination</td>\n",
              "    </tr>\n",
              "    <tr>\n",
              "      <th>rec3MxDq67MC982ng</th>\n",
              "      <td>Accident cérébral</td>\n",
              "      <td>6f214e4c</td>\n",
              "      <td>rec3MxDq67MC982ng</td>\n",
              "      <td>[recGaRQGjV5qN3QBN]</td>\n",
              "      <td>A</td>\n",
              "      <td>A</td>\n",
              "      <td>NaN</td>\n",
              "      <td>Vaccination</td>\n",
              "    </tr>\n",
              "    <tr>\n",
              "      <th>reciexfGbNKvXzQg8</th>\n",
              "      <td>Alcool</td>\n",
              "      <td>NaN</td>\n",
              "      <td>reciexfGbNKvXzQg8</td>\n",
              "      <td>NaN</td>\n",
              "      <td>A</td>\n",
              "      <td>A</td>\n",
              "      <td>NaN</td>\n",
              "      <td>Médecine générale</td>\n",
              "    </tr>\n",
              "    <tr>\n",
              "      <th>recfY4uKkgK8Jp8GO</th>\n",
              "      <td>Allergie</td>\n",
              "      <td>8b195cf4</td>\n",
              "      <td>recfY4uKkgK8Jp8GO</td>\n",
              "      <td>NaN</td>\n",
              "      <td>A</td>\n",
              "      <td>A</td>\n",
              "      <td>NaN</td>\n",
              "      <td>Vaccination</td>\n",
              "    </tr>\n",
              "    <tr>\n",
              "      <th>recSKSrXVLhDfMq6w</th>\n",
              "      <td>Allergie alimentaire</td>\n",
              "      <td>f754eebf</td>\n",
              "      <td>recSKSrXVLhDfMq6w</td>\n",
              "      <td>[recfY4uKkgK8Jp8GO]</td>\n",
              "      <td>A</td>\n",
              "      <td>A</td>\n",
              "      <td>NaN</td>\n",
              "      <td>Vaccination</td>\n",
              "    </tr>\n",
              "    <tr>\n",
              "      <th>rectthHdPchXi1zr9</th>\n",
              "      <td>Allergie médicamenteuse</td>\n",
              "      <td>7256c169</td>\n",
              "      <td>rectthHdPchXi1zr9</td>\n",
              "      <td>[recfY4uKkgK8Jp8GO, recOivQOmeragygVr]</td>\n",
              "      <td>A</td>\n",
              "      <td>A</td>\n",
              "      <td>NaN</td>\n",
              "      <td>Vaccination</td>\n",
              "    </tr>\n",
              "    <tr>\n",
              "      <th>recHNzXfvWWm0Lwp8</th>\n",
              "      <td>Allergie à un médicament</td>\n",
              "      <td>316fa7ab</td>\n",
              "      <td>recHNzXfvWWm0Lwp8</td>\n",
              "      <td>[recfY4uKkgK8Jp8GO, recOivQOmeragygVr]</td>\n",
              "      <td>A</td>\n",
              "      <td>A</td>\n",
              "      <td>NaN</td>\n",
              "      <td>Vaccination</td>\n",
              "    </tr>\n",
              "  </tbody>\n",
              "</table>\n",
              "</div>\n",
              "      <button class=\"colab-df-convert\" onclick=\"convertToInteractive('df-22447ca0-0f23-457d-8f2b-09b219e4cba2')\"\n",
              "              title=\"Convert this dataframe to an interactive table.\"\n",
              "              style=\"display:none;\">\n",
              "        \n",
              "  <svg xmlns=\"http://www.w3.org/2000/svg\" height=\"24px\"viewBox=\"0 0 24 24\"\n",
              "       width=\"24px\">\n",
              "    <path d=\"M0 0h24v24H0V0z\" fill=\"none\"/>\n",
              "    <path d=\"M18.56 5.44l.94 2.06.94-2.06 2.06-.94-2.06-.94-.94-2.06-.94 2.06-2.06.94zm-11 1L8.5 8.5l.94-2.06 2.06-.94-2.06-.94L8.5 2.5l-.94 2.06-2.06.94zm10 10l.94 2.06.94-2.06 2.06-.94-2.06-.94-.94-2.06-.94 2.06-2.06.94z\"/><path d=\"M17.41 7.96l-1.37-1.37c-.4-.4-.92-.59-1.43-.59-.52 0-1.04.2-1.43.59L10.3 9.45l-7.72 7.72c-.78.78-.78 2.05 0 2.83L4 21.41c.39.39.9.59 1.41.59.51 0 1.02-.2 1.41-.59l7.78-7.78 2.81-2.81c.8-.78.8-2.07 0-2.86zM5.41 20L4 18.59l7.72-7.72 1.47 1.35L5.41 20z\"/>\n",
              "  </svg>\n",
              "      </button>\n",
              "      \n",
              "  <style>\n",
              "    .colab-df-container {\n",
              "      display:flex;\n",
              "      flex-wrap:wrap;\n",
              "      gap: 12px;\n",
              "    }\n",
              "\n",
              "    .colab-df-convert {\n",
              "      background-color: #E8F0FE;\n",
              "      border: none;\n",
              "      border-radius: 50%;\n",
              "      cursor: pointer;\n",
              "      display: none;\n",
              "      fill: #1967D2;\n",
              "      height: 32px;\n",
              "      padding: 0 0 0 0;\n",
              "      width: 32px;\n",
              "    }\n",
              "\n",
              "    .colab-df-convert:hover {\n",
              "      background-color: #E2EBFA;\n",
              "      box-shadow: 0px 1px 2px rgba(60, 64, 67, 0.3), 0px 1px 3px 1px rgba(60, 64, 67, 0.15);\n",
              "      fill: #174EA6;\n",
              "    }\n",
              "\n",
              "    [theme=dark] .colab-df-convert {\n",
              "      background-color: #3B4455;\n",
              "      fill: #D2E3FC;\n",
              "    }\n",
              "\n",
              "    [theme=dark] .colab-df-convert:hover {\n",
              "      background-color: #434B5C;\n",
              "      box-shadow: 0px 1px 3px 1px rgba(0, 0, 0, 0.15);\n",
              "      filter: drop-shadow(0px 1px 2px rgba(0, 0, 0, 0.3));\n",
              "      fill: #FFFFFF;\n",
              "    }\n",
              "  </style>\n",
              "\n",
              "      <script>\n",
              "        const buttonEl =\n",
              "          document.querySelector('#df-22447ca0-0f23-457d-8f2b-09b219e4cba2 button.colab-df-convert');\n",
              "        buttonEl.style.display =\n",
              "          google.colab.kernel.accessAllowed ? 'block' : 'none';\n",
              "\n",
              "        async function convertToInteractive(key) {\n",
              "          const element = document.querySelector('#df-22447ca0-0f23-457d-8f2b-09b219e4cba2');\n",
              "          const dataTable =\n",
              "            await google.colab.kernel.invokeFunction('convertToInteractive',\n",
              "                                                     [key], {});\n",
              "          if (!dataTable) return;\n",
              "\n",
              "          const docLinkHtml = 'Like what you see? Visit the ' +\n",
              "            '<a target=\"_blank\" href=https://colab.research.google.com/notebooks/data_table.ipynb>data table notebook</a>'\n",
              "            + ' to learn more about interactive tables.';\n",
              "          element.innerHTML = '';\n",
              "          dataTable['output_type'] = 'display_data';\n",
              "          await google.colab.output.renderOutput(dataTable, element);\n",
              "          const docLink = document.createElement('div');\n",
              "          docLink.innerHTML = docLinkHtml;\n",
              "          element.appendChild(docLink);\n",
              "        }\n",
              "      </script>\n",
              "    </div>\n",
              "  </div>\n",
              "  "
            ],
            "text/plain": [
              "                                  Proposition  ...         Thématique\n",
              "recKbPHqDTXNPwYK0                      A jeun  ...        Vaccination\n",
              "rec1qTnfWxjhx6SBl  AME - Aide médicale d'État  ...        Vaccination\n",
              "rec0HgtD22F7TWM3W                       Abcès  ...  Médecine générale\n",
              "recGaRQGjV5qN3QBN                    Accident  ...        Vaccination\n",
              "rec3MxDq67MC982ng           Accident cérébral  ...        Vaccination\n",
              "reciexfGbNKvXzQg8                      Alcool  ...  Médecine générale\n",
              "recfY4uKkgK8Jp8GO                    Allergie  ...        Vaccination\n",
              "recSKSrXVLhDfMq6w        Allergie alimentaire  ...        Vaccination\n",
              "rectthHdPchXi1zr9     Allergie médicamenteuse  ...        Vaccination\n",
              "recHNzXfvWWm0Lwp8    Allergie à un médicament  ...        Vaccination\n",
              "\n",
              "[10 rows x 8 columns]"
            ]
          },
          "metadata": {},
          "execution_count": 53
        }
      ]
    },
    {
      "cell_type": "code",
      "source": [
        "def lookup_uid (uid):\n",
        "  try:\n",
        "    record = df_cc_fr.loc[df_cc_fr[\"uid\"]==uid][\"index\"].item()\n",
        "  except Exception as e:\n",
        "    list_no_uid.append(uid)\n",
        "    return uid\n",
        "  if record is not None:\n",
        "    return record"
      ],
      "metadata": {
        "id": "BxowEm56s5S7"
      },
      "execution_count": null,
      "outputs": []
    },
    {
      "cell_type": "code",
      "source": [
        "x = df_cc_fr.loc[df_cc_fr[\"uid\"]==\"72f0e8db\"][\"index\"].item()"
      ],
      "metadata": {
        "id": "Up-l6grOtVx0"
      },
      "execution_count": null,
      "outputs": []
    },
    {
      "cell_type": "code",
      "source": [
        "list_no_uid = [] # uid non présents côté central = mots à créer\n",
        "df['UID'] = df['UID'].apply(lambda x: make_unique_id() if pd.isna(x) else x)\n",
        "df.idx_cor = df['UID'].apply(lambda x: lookup_uid(x))"
      ],
      "metadata": {
        "id": "ezaiOPYlx9Mg"
      },
      "execution_count": null,
      "outputs": []
    },
    {
      "cell_type": "markdown",
      "source": [
        "convert the dataframe to a dictionary of dictionaries."
      ],
      "metadata": {
        "id": "ki6AHtiKT7L6"
      }
    },
    {
      "cell_type": "code",
      "source": [
        "df.tail()"
      ],
      "metadata": {
        "colab": {
          "base_uri": "https://localhost:8080/",
          "height": 206
        },
        "id": "Np075CkxXZNq",
        "outputId": "74f61a36-bead-4913-e5d2-1fd294c90fe7"
      },
      "execution_count": null,
      "outputs": [
        {
          "output_type": "execute_result",
          "data": {
            "text/html": [
              "\n",
              "  <div id=\"df-c6325ba4-794c-4b44-8943-a1e2fcc92c87\">\n",
              "    <div class=\"colab-df-container\">\n",
              "      <div>\n",
              "<style scoped>\n",
              "    .dataframe tbody tr th:only-of-type {\n",
              "        vertical-align: middle;\n",
              "    }\n",
              "\n",
              "    .dataframe tbody tr th {\n",
              "        vertical-align: top;\n",
              "    }\n",
              "\n",
              "    .dataframe thead th {\n",
              "        text-align: right;\n",
              "    }\n",
              "</style>\n",
              "<table border=\"1\" class=\"dataframe\">\n",
              "  <thead>\n",
              "    <tr style=\"text-align: right;\">\n",
              "      <th></th>\n",
              "      <th>Proposition</th>\n",
              "      <th>UID</th>\n",
              "      <th>Name ID</th>\n",
              "      <th>DEPENDANCE</th>\n",
              "      <th>idx</th>\n",
              "      <th>idx_cor</th>\n",
              "      <th>Statut</th>\n",
              "      <th>Thématique</th>\n",
              "    </tr>\n",
              "  </thead>\n",
              "  <tbody>\n",
              "    <tr>\n",
              "      <th>recia1L6nICYg6LJ8</th>\n",
              "      <td>Zona</td>\n",
              "      <td>d3dba8e4</td>\n",
              "      <td>recia1L6nICYg6LJ8</td>\n",
              "      <td>NaN</td>\n",
              "      <td>NaN</td>\n",
              "      <td>Z</td>\n",
              "      <td>NaN</td>\n",
              "      <td>Vaccination</td>\n",
              "    </tr>\n",
              "    <tr>\n",
              "      <th>recVvIHdNWf80zvsG</th>\n",
              "      <td>À quelle moment de la journée vous prenez le m...</td>\n",
              "      <td>0f86d1ef</td>\n",
              "      <td>recVvIHdNWf80zvsG</td>\n",
              "      <td>[recOivQOmeragygVr]</td>\n",
              "      <td>M</td>\n",
              "      <td>0f86d1ef</td>\n",
              "      <td>Ramona</td>\n",
              "      <td>Médecine générale</td>\n",
              "    </tr>\n",
              "    <tr>\n",
              "      <th>recWp0rajm2qKcJuF</th>\n",
              "      <td>Êtes vous vacciné (e) ?</td>\n",
              "      <td>c5df267a</td>\n",
              "      <td>recWp0rajm2qKcJuF</td>\n",
              "      <td>NaN</td>\n",
              "      <td>NaN</td>\n",
              "      <td>Ê</td>\n",
              "      <td>NaN</td>\n",
              "      <td>Médecine générale</td>\n",
              "    </tr>\n",
              "    <tr>\n",
              "      <th>recBY5NXGM8UtBcaX</th>\n",
              "      <td>Êtes-vous enceinte ?</td>\n",
              "      <td>7768882c</td>\n",
              "      <td>recBY5NXGM8UtBcaX</td>\n",
              "      <td>NaN</td>\n",
              "      <td>NaN</td>\n",
              "      <td>Ê</td>\n",
              "      <td>NaN</td>\n",
              "      <td>Médecine générale</td>\n",
              "    </tr>\n",
              "    <tr>\n",
              "      <th>reczy8Os5Hc3qZ1yA</th>\n",
              "      <td>Œdème</td>\n",
              "      <td>72f0e8db</td>\n",
              "      <td>reczy8Os5Hc3qZ1yA</td>\n",
              "      <td>NaN</td>\n",
              "      <td>NaN</td>\n",
              "      <td>Œ</td>\n",
              "      <td>NaN</td>\n",
              "      <td>Médecine générale</td>\n",
              "    </tr>\n",
              "  </tbody>\n",
              "</table>\n",
              "</div>\n",
              "      <button class=\"colab-df-convert\" onclick=\"convertToInteractive('df-c6325ba4-794c-4b44-8943-a1e2fcc92c87')\"\n",
              "              title=\"Convert this dataframe to an interactive table.\"\n",
              "              style=\"display:none;\">\n",
              "        \n",
              "  <svg xmlns=\"http://www.w3.org/2000/svg\" height=\"24px\"viewBox=\"0 0 24 24\"\n",
              "       width=\"24px\">\n",
              "    <path d=\"M0 0h24v24H0V0z\" fill=\"none\"/>\n",
              "    <path d=\"M18.56 5.44l.94 2.06.94-2.06 2.06-.94-2.06-.94-.94-2.06-.94 2.06-2.06.94zm-11 1L8.5 8.5l.94-2.06 2.06-.94-2.06-.94L8.5 2.5l-.94 2.06-2.06.94zm10 10l.94 2.06.94-2.06 2.06-.94-2.06-.94-.94-2.06-.94 2.06-2.06.94z\"/><path d=\"M17.41 7.96l-1.37-1.37c-.4-.4-.92-.59-1.43-.59-.52 0-1.04.2-1.43.59L10.3 9.45l-7.72 7.72c-.78.78-.78 2.05 0 2.83L4 21.41c.39.39.9.59 1.41.59.51 0 1.02-.2 1.41-.59l7.78-7.78 2.81-2.81c.8-.78.8-2.07 0-2.86zM5.41 20L4 18.59l7.72-7.72 1.47 1.35L5.41 20z\"/>\n",
              "  </svg>\n",
              "      </button>\n",
              "      \n",
              "  <style>\n",
              "    .colab-df-container {\n",
              "      display:flex;\n",
              "      flex-wrap:wrap;\n",
              "      gap: 12px;\n",
              "    }\n",
              "\n",
              "    .colab-df-convert {\n",
              "      background-color: #E8F0FE;\n",
              "      border: none;\n",
              "      border-radius: 50%;\n",
              "      cursor: pointer;\n",
              "      display: none;\n",
              "      fill: #1967D2;\n",
              "      height: 32px;\n",
              "      padding: 0 0 0 0;\n",
              "      width: 32px;\n",
              "    }\n",
              "\n",
              "    .colab-df-convert:hover {\n",
              "      background-color: #E2EBFA;\n",
              "      box-shadow: 0px 1px 2px rgba(60, 64, 67, 0.3), 0px 1px 3px 1px rgba(60, 64, 67, 0.15);\n",
              "      fill: #174EA6;\n",
              "    }\n",
              "\n",
              "    [theme=dark] .colab-df-convert {\n",
              "      background-color: #3B4455;\n",
              "      fill: #D2E3FC;\n",
              "    }\n",
              "\n",
              "    [theme=dark] .colab-df-convert:hover {\n",
              "      background-color: #434B5C;\n",
              "      box-shadow: 0px 1px 3px 1px rgba(0, 0, 0, 0.15);\n",
              "      filter: drop-shadow(0px 1px 2px rgba(0, 0, 0, 0.3));\n",
              "      fill: #FFFFFF;\n",
              "    }\n",
              "  </style>\n",
              "\n",
              "      <script>\n",
              "        const buttonEl =\n",
              "          document.querySelector('#df-c6325ba4-794c-4b44-8943-a1e2fcc92c87 button.colab-df-convert');\n",
              "        buttonEl.style.display =\n",
              "          google.colab.kernel.accessAllowed ? 'block' : 'none';\n",
              "\n",
              "        async function convertToInteractive(key) {\n",
              "          const element = document.querySelector('#df-c6325ba4-794c-4b44-8943-a1e2fcc92c87');\n",
              "          const dataTable =\n",
              "            await google.colab.kernel.invokeFunction('convertToInteractive',\n",
              "                                                     [key], {});\n",
              "          if (!dataTable) return;\n",
              "\n",
              "          const docLinkHtml = 'Like what you see? Visit the ' +\n",
              "            '<a target=\"_blank\" href=https://colab.research.google.com/notebooks/data_table.ipynb>data table notebook</a>'\n",
              "            + ' to learn more about interactive tables.';\n",
              "          element.innerHTML = '';\n",
              "          dataTable['output_type'] = 'display_data';\n",
              "          await google.colab.output.renderOutput(dataTable, element);\n",
              "          const docLink = document.createElement('div');\n",
              "          docLink.innerHTML = docLinkHtml;\n",
              "          element.appendChild(docLink);\n",
              "        }\n",
              "      </script>\n",
              "    </div>\n",
              "  </div>\n",
              "  "
            ],
            "text/plain": [
              "                                                         Proposition  ...         Thématique\n",
              "recia1L6nICYg6LJ8                                               Zona  ...        Vaccination\n",
              "recVvIHdNWf80zvsG  À quelle moment de la journée vous prenez le m...  ...  Médecine générale\n",
              "recWp0rajm2qKcJuF                            Êtes vous vacciné (e) ?  ...  Médecine générale\n",
              "recBY5NXGM8UtBcaX                               Êtes-vous enceinte ?  ...  Médecine générale\n",
              "reczy8Os5Hc3qZ1yA                                              Œdème  ...  Médecine générale\n",
              "\n",
              "[5 rows x 8 columns]"
            ]
          },
          "metadata": {},
          "execution_count": 29
        }
      ]
    },
    {
      "cell_type": "code",
      "source": [
        "dict_records = df.tail().to_dict(orient=\"index\")"
      ],
      "metadata": {
        "id": "oyRHDXzvTHjA"
      },
      "execution_count": null,
      "outputs": []
    },
    {
      "cell_type": "code",
      "source": [
        "for record_id, upload_data in dict_records.items():\n",
        "  record_url = url + \"/\" + record_id\n",
        "  upload_dict = {\"records\" : [{\"fields\" : upload_data}]}\n",
        "  upload_json = json.dumps(upload_dict)\n",
        "  requests.post(url, data=upload_json, headers=headers)"
      ],
      "metadata": {
        "id": "5XBfgW3PUrdN"
      },
      "execution_count": null,
      "outputs": []
    },
    {
      "cell_type": "code",
      "source": [
        "headers"
      ],
      "metadata": {
        "colab": {
          "base_uri": "https://localhost:8080/"
        },
        "id": "mbWEXLZUcxSM",
        "outputId": "326a70ec-87e8-456c-c5ff-50757bd4f8cd"
      },
      "execution_count": null,
      "outputs": [
        {
          "output_type": "execute_result",
          "data": {
            "text/plain": [
              "{'Authorization': 'Bearer keyrI98TIqu6mbFcf',\n",
              " 'Content-Type': 'application/json'}"
            ]
          },
          "metadata": {},
          "execution_count": 55
        }
      ]
    },
    {
      "cell_type": "code",
      "source": [
        "requests.patch(url, data=upload_json, headers=headers)"
      ],
      "metadata": {
        "colab": {
          "base_uri": "https://localhost:8080/"
        },
        "id": "o8n3oC8sXz_q",
        "outputId": "59ca8181-c67e-413c-9303-4a95a1bb0cb3"
      },
      "execution_count": null,
      "outputs": [
        {
          "output_type": "execute_result",
          "data": {
            "text/plain": [
              "<Response [422]>"
            ]
          },
          "metadata": {},
          "execution_count": 67
        }
      ]
    },
    {
      "cell_type": "code",
      "source": [
        "upload_json='{\"records\": [{\"fields\": {\"Proposition\": \"OEDEME\", \"id\": \"reczy8Os5Hc3qZ1yA\"}}]}'"
      ],
      "metadata": {
        "id": "4z1Tka3Het97"
      },
      "execution_count": null,
      "outputs": []
    },
    {
      "cell_type": "code",
      "source": [
        "requests.post(record_url, data=upload_json, headers=headers)"
      ],
      "metadata": {
        "colab": {
          "base_uri": "https://localhost:8080/"
        },
        "id": "kz8cAEx3WRM6",
        "outputId": "d7947213-1e29-4af2-ed81-713ad4be7262"
      },
      "execution_count": null,
      "outputs": [
        {
          "output_type": "execute_result",
          "data": {
            "text/plain": [
              "<Response [404]>"
            ]
          },
          "metadata": {},
          "execution_count": 69
        }
      ]
    },
    {
      "cell_type": "code",
      "metadata": {
        "id": "ZDtjJZDO-REI"
      },
      "source": [
        "def fmt_table(wb, nom_onglet):\n",
        "  # onglet\n",
        "  ws = wb.worksheet(nom_onglet)\n",
        "\n",
        "  # Format de la partie gauche\n",
        "  fmt = cellFormat(\n",
        "      backgroundColor=color(0.91, 0.96, 0.93),\n",
        "      textFormat=textFormat(bold=False, foregroundColor=color(0,0,0), fontSize='10'),\n",
        "      horizontalAlignment='LEFT'\n",
        "      )\n",
        "  format_cell_range(ws, 'A:', fmt)\n",
        "\n",
        "  # format de l'entete\n",
        "  fmt = cellFormat(\n",
        "      backgroundColor=color(0.7725,0.8431,0.7922),\n",
        "      textFormat=textFormat(bold=True, foregroundColor=color(0,0,0), fontSize='10'),\n",
        "      horizontalAlignment='LEFT'\n",
        "      )\n",
        "  format_cell_range(ws, '1', fmt)\n",
        "  \n",
        "  # format de l'auto wrap\n",
        "  fmt = cellFormat(\n",
        "      wrapStrategy='WRAP'\n",
        "      )\n",
        "  format_cell_range(ws, 'B:C', fmt)\n",
        "\n",
        "  # on gèle l'entete et les colonnes de gauche\n",
        "  set_frozen(ws, rows=1, cols=1)\n",
        "  set_column_width(ws, 'A:C', 500)\n"
      ],
      "execution_count": null,
      "outputs": []
    },
    {
      "cell_type": "code",
      "metadata": {
        "id": "CsC901Jt9y3L"
      },
      "source": [
        "nom_onglet = 'Liste'\n",
        "# si l'onglet existe déjà\n",
        "try:\n",
        "  ws = wb.worksheet(nom_onglet)\n",
        "  wb.del_worksheet(ws)\n",
        "except:\n",
        "  print (\"Onglet inexistant !\")\n",
        "\n",
        "wb.add_worksheet(nom_onglet, 1, 1)\n",
        "export_sheet = wb.worksheet(nom_onglet)\n",
        "set_with_dataframe(export_sheet, df)\n",
        "fmt_table(wb,nom_onglet)\n"
      ],
      "execution_count": null,
      "outputs": []
    },
    {
      "cell_type": "code",
      "metadata": {
        "id": "UKh-k1rvN46E"
      },
      "source": [
        "table_name = 'Structure'\n",
        "url = \"https://api.airtable.com/v0/\" + base_id + \"/\" + table_name"
      ],
      "execution_count": null,
      "outputs": []
    },
    {
      "cell_type": "code",
      "metadata": {
        "id": "TEUOFK-KVDV5",
        "colab": {
          "base_uri": "https://localhost:8080/",
          "height": 297
        },
        "outputId": "78664522-8f30-4092-f0c9-622ba77be86c"
      },
      "source": [
        "df"
      ],
      "execution_count": null,
      "outputs": [
        {
          "output_type": "execute_result",
          "data": {
            "text/html": [
              "<div>\n",
              "<style scoped>\n",
              "    .dataframe tbody tr th:only-of-type {\n",
              "        vertical-align: middle;\n",
              "    }\n",
              "\n",
              "    .dataframe tbody tr th {\n",
              "        vertical-align: top;\n",
              "    }\n",
              "\n",
              "    .dataframe thead th {\n",
              "        text-align: right;\n",
              "    }\n",
              "</style>\n",
              "<table border=\"1\" class=\"dataframe\">\n",
              "  <thead>\n",
              "    <tr style=\"text-align: right;\">\n",
              "      <th></th>\n",
              "      <th>Name</th>\n",
              "      <th>Situation de départ</th>\n",
              "      <th>Notes</th>\n",
              "    </tr>\n",
              "  </thead>\n",
              "  <tbody>\n",
              "    <tr>\n",
              "      <th>recnI80hvydv71fs4</th>\n",
              "      <td>0.Conception</td>\n",
              "      <td>Plus on possède, plus on est soi-même possédé....</td>\n",
              "      <td>Trouver le plaisir d’écrire. Partir d’idées, d...</td>\n",
              "    </tr>\n",
              "    <tr>\n",
              "      <th>recI2pgkNq2iP52rm</th>\n",
              "      <td>1.Situation initiale</td>\n",
              "      <td>Un jour d'été où il pleut et fait un temps abo...</td>\n",
              "      <td>Une vengeance d'une femme éconduite lors d'un ...</td>\n",
              "    </tr>\n",
              "    <tr>\n",
              "      <th>recb2DqhB9GvfI12n</th>\n",
              "      <td>2.Personnage</td>\n",
              "      <td>Un homme (marié ?) qui a donné rendez-vous à u...</td>\n",
              "      <td>Un Dom Juan sûr de son charme et imbu de sa pe...</td>\n",
              "    </tr>\n",
              "    <tr>\n",
              "      <th>recNLdU01JpCnvknJ</th>\n",
              "      <td>3.Acte déclencheur</td>\n",
              "      <td>La femme lui propose un jeu. Elle est dans le ...</td>\n",
              "      <td>NaN</td>\n",
              "    </tr>\n",
              "    <tr>\n",
              "      <th>recRxZVhpSPD6oQXx</th>\n",
              "      <td>4.Réaction</td>\n",
              "      <td>L'homme est d'abord tenté de partir car il est...</td>\n",
              "      <td>NaN</td>\n",
              "    </tr>\n",
              "    <tr>\n",
              "      <th>recRr06fOM4hGGaLY</th>\n",
              "      <td>5.Péripéties</td>\n",
              "      <td>Pendant la visite (ennuyeuse), l'homme tente d...</td>\n",
              "      <td>NaN</td>\n",
              "    </tr>\n",
              "    <tr>\n",
              "      <th>recvWnAYn9VNySVlB</th>\n",
              "      <td>6.Chute</td>\n",
              "      <td>Un spectacle où une partie du public est appel...</td>\n",
              "      <td>NaN</td>\n",
              "    </tr>\n",
              "    <tr>\n",
              "      <th>recDmZtMMNmiy7R0M</th>\n",
              "      <td>Récit</td>\n",
              "      <td>NaN</td>\n",
              "      <td>NaN</td>\n",
              "    </tr>\n",
              "  </tbody>\n",
              "</table>\n",
              "</div>"
            ],
            "text/plain": [
              "                                   Name  ...                                              Notes\n",
              "recnI80hvydv71fs4          0.Conception  ...  Trouver le plaisir d’écrire. Partir d’idées, d...\n",
              "recI2pgkNq2iP52rm  1.Situation initiale  ...  Une vengeance d'une femme éconduite lors d'un ...\n",
              "recb2DqhB9GvfI12n          2.Personnage  ...  Un Dom Juan sûr de son charme et imbu de sa pe...\n",
              "recNLdU01JpCnvknJ    3.Acte déclencheur  ...                                                NaN\n",
              "recRxZVhpSPD6oQXx            4.Réaction  ...                                                NaN\n",
              "recRr06fOM4hGGaLY          5.Péripéties  ...                                                NaN\n",
              "recvWnAYn9VNySVlB               6.Chute  ...                                                NaN\n",
              "recDmZtMMNmiy7R0M                 Récit  ...                                                NaN\n",
              "\n",
              "[8 rows x 3 columns]"
            ]
          },
          "metadata": {},
          "execution_count": 11
        }
      ]
    },
    {
      "cell_type": "code",
      "metadata": {
        "id": "TISNw9MItvH6"
      },
      "source": [
        ""
      ],
      "execution_count": null,
      "outputs": []
    }
  ]
}